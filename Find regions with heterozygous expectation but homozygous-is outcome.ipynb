{
 "cells": [
  {
   "cell_type": "markdown",
   "id": "435ad3e4",
   "metadata": {},
   "source": [
    "source vcf: ~/data/TRD/1011Matrix.gvcf.gz"
   ]
  },
  {
   "cell_type": "markdown",
   "id": "76aae1fc",
   "metadata": {},
   "source": [
    "** Should probably do some filters ** "
   ]
  },
  {
   "cell_type": "code",
   "execution_count": 10,
   "id": "3690e516",
   "metadata": {},
   "outputs": [],
   "source": [
    "library(vcfR)\n",
    "library(data.table)"
   ]
  },
  {
   "cell_type": "code",
   "execution_count": 2,
   "id": "a91c29e7",
   "metadata": {},
   "outputs": [],
   "source": [
    "vcf <- read.vcfR(\"~/data/TRD/1011Matrix.CeberleinTDRSubset.vcf.gz\", verbose = FALSE )"
   ]
  },
  {
   "cell_type": "code",
   "execution_count": 8,
   "id": "fe07af3d",
   "metadata": {},
   "outputs": [],
   "source": [
    "REF <- getREF(vcf)\n",
    "ALT <- getALT(vcf)\n",
    "alleles=paste(REF,ALT,sep=\",\")"
   ]
  },
  {
   "cell_type": "code",
   "execution_count": 16,
   "id": "0d131116",
   "metadata": {},
   "outputs": [],
   "source": [
    "fwrite(data.frame(POS=vcfR::getPOS(vcf), CHROM=vcfR::getCHROM(vcf),alleles=alleles,stringsAsFactors = FALSE), \"./alleles.tsv.gz\", sep=\"\\t\")"
   ]
  },
  {
   "cell_type": "code",
   "execution_count": 4,
   "id": "3473154f",
   "metadata": {},
   "outputs": [
    {
     "data": {
      "text/html": [
       "<table class=\"dataframe\">\n",
       "<caption>A matrix: 6 × 15 of type chr</caption>\n",
       "<thead>\n",
       "\t<tr><th></th><th scope=col>ACP</th><th scope=col>BFP</th><th scope=col>BAP</th><th scope=col>CMP</th><th scope=col>CCD</th><th scope=col>CPG</th><th scope=col>ATE</th><th scope=col>SACE_YCR</th><th scope=col>ACK</th><th scope=col>ACV</th><th scope=col>AKE</th><th scope=col>BAH</th><th scope=col>CGD</th><th scope=col>ANG</th><th scope=col>CEI</th></tr>\n",
       "</thead>\n",
       "<tbody>\n",
       "\t<tr><th scope=row>chromosome1_33</th><td>0/0</td><td>0/0</td><td>NA </td><td>0/0</td><td>NA</td><td>NA </td><td>NA</td><td>NA</td><td>0/0</td><td>0/0</td><td>NA</td><td>0/0</td><td>0/0</td><td>NA </td><td>NA </td></tr>\n",
       "\t<tr><th scope=row>chromosome1_56</th><td>NA </td><td>NA </td><td>NA </td><td>NA </td><td>NA</td><td>NA </td><td>NA</td><td>NA</td><td>NA </td><td>NA </td><td>NA</td><td>NA </td><td>NA </td><td>NA </td><td>NA </td></tr>\n",
       "\t<tr><th scope=row>chromosome1_63</th><td>NA </td><td>NA </td><td>NA </td><td>NA </td><td>NA</td><td>NA </td><td>NA</td><td>NA</td><td>NA </td><td>NA </td><td>NA</td><td>NA </td><td>NA </td><td>NA </td><td>NA </td></tr>\n",
       "\t<tr><th scope=row>chromosome1_65</th><td>NA </td><td>NA </td><td>NA </td><td>NA </td><td>NA</td><td>NA </td><td>NA</td><td>NA</td><td>NA </td><td>NA </td><td>NA</td><td>NA </td><td>NA </td><td>NA </td><td>NA </td></tr>\n",
       "\t<tr><th scope=row>chromosome1_71</th><td>NA </td><td>NA </td><td>NA </td><td>NA </td><td>NA</td><td>0/0</td><td>NA</td><td>NA</td><td>0/0</td><td>NA </td><td>NA</td><td>NA </td><td>NA </td><td>0/0</td><td>0/0</td></tr>\n",
       "\t<tr><th scope=row>chromosome1_83</th><td>NA </td><td>NA </td><td>0/0</td><td>NA </td><td>NA</td><td>0/0</td><td>NA</td><td>NA</td><td>NA </td><td>NA </td><td>NA</td><td>NA </td><td>NA </td><td>NA </td><td>NA </td></tr>\n",
       "</tbody>\n",
       "</table>\n"
      ],
      "text/latex": [
       "A matrix: 6 × 15 of type chr\n",
       "\\begin{tabular}{r|lllllllllllllll}\n",
       "  & ACP & BFP & BAP & CMP & CCD & CPG & ATE & SACE\\_YCR & ACK & ACV & AKE & BAH & CGD & ANG & CEI\\\\\n",
       "\\hline\n",
       "\tchromosome1\\_33 & 0/0 & 0/0 & NA  & 0/0 & NA & NA  & NA & NA & 0/0 & 0/0 & NA & 0/0 & 0/0 & NA  & NA \\\\\n",
       "\tchromosome1\\_56 & NA  & NA  & NA  & NA  & NA & NA  & NA & NA & NA  & NA  & NA & NA  & NA  & NA  & NA \\\\\n",
       "\tchromosome1\\_63 & NA  & NA  & NA  & NA  & NA & NA  & NA & NA & NA  & NA  & NA & NA  & NA  & NA  & NA \\\\\n",
       "\tchromosome1\\_65 & NA  & NA  & NA  & NA  & NA & NA  & NA & NA & NA  & NA  & NA & NA  & NA  & NA  & NA \\\\\n",
       "\tchromosome1\\_71 & NA  & NA  & NA  & NA  & NA & 0/0 & NA & NA & 0/0 & NA  & NA & NA  & NA  & 0/0 & 0/0\\\\\n",
       "\tchromosome1\\_83 & NA  & NA  & 0/0 & NA  & NA & 0/0 & NA & NA & NA  & NA  & NA & NA  & NA  & NA  & NA \\\\\n",
       "\\end{tabular}\n"
      ],
      "text/markdown": [
       "\n",
       "A matrix: 6 × 15 of type chr\n",
       "\n",
       "| <!--/--> | ACP | BFP | BAP | CMP | CCD | CPG | ATE | SACE_YCR | ACK | ACV | AKE | BAH | CGD | ANG | CEI |\n",
       "|---|---|---|---|---|---|---|---|---|---|---|---|---|---|---|---|\n",
       "| chromosome1_33 | 0/0 | 0/0 | NA  | 0/0 | NA | NA  | NA | NA | 0/0 | 0/0 | NA | 0/0 | 0/0 | NA  | NA  |\n",
       "| chromosome1_56 | NA  | NA  | NA  | NA  | NA | NA  | NA | NA | NA  | NA  | NA | NA  | NA  | NA  | NA  |\n",
       "| chromosome1_63 | NA  | NA  | NA  | NA  | NA | NA  | NA | NA | NA  | NA  | NA | NA  | NA  | NA  | NA  |\n",
       "| chromosome1_65 | NA  | NA  | NA  | NA  | NA | NA  | NA | NA | NA  | NA  | NA | NA  | NA  | NA  | NA  |\n",
       "| chromosome1_71 | NA  | NA  | NA  | NA  | NA | 0/0 | NA | NA | 0/0 | NA  | NA | NA  | NA  | 0/0 | 0/0 |\n",
       "| chromosome1_83 | NA  | NA  | 0/0 | NA  | NA | 0/0 | NA | NA | NA  | NA  | NA | NA  | NA  | NA  | NA  |\n",
       "\n"
      ],
      "text/plain": [
       "               ACP BFP BAP CMP CCD CPG ATE SACE_YCR ACK ACV AKE BAH CGD ANG CEI\n",
       "chromosome1_33 0/0 0/0 NA  0/0 NA  NA  NA  NA       0/0 0/0 NA  0/0 0/0 NA  NA \n",
       "chromosome1_56 NA  NA  NA  NA  NA  NA  NA  NA       NA  NA  NA  NA  NA  NA  NA \n",
       "chromosome1_63 NA  NA  NA  NA  NA  NA  NA  NA       NA  NA  NA  NA  NA  NA  NA \n",
       "chromosome1_65 NA  NA  NA  NA  NA  NA  NA  NA       NA  NA  NA  NA  NA  NA  NA \n",
       "chromosome1_71 NA  NA  NA  NA  NA  0/0 NA  NA       0/0 NA  NA  NA  NA  0/0 0/0\n",
       "chromosome1_83 NA  NA  0/0 NA  NA  0/0 NA  NA       NA  NA  NA  NA  NA  NA  NA "
      ]
     },
     "metadata": {},
     "output_type": "display_data"
    }
   ],
   "source": [
    "head(GT)"
   ]
  },
  {
   "cell_type": "code",
   "execution_count": 23,
   "id": "0b276885",
   "metadata": {},
   "outputs": [
    {
     "data": {
      "text/html": [
       "<table class=\"dataframe\">\n",
       "<caption>A matrix: 6 × 15 of type dbl</caption>\n",
       "<thead>\n",
       "\t<tr><th></th><th scope=col>ACP</th><th scope=col>BFP</th><th scope=col>BAP</th><th scope=col>CMP</th><th scope=col>CCD</th><th scope=col>CPG</th><th scope=col>ATE</th><th scope=col>SACE_YCR</th><th scope=col>ACK</th><th scope=col>ACV</th><th scope=col>AKE</th><th scope=col>BAH</th><th scope=col>CGD</th><th scope=col>ANG</th><th scope=col>CEI</th></tr>\n",
       "</thead>\n",
       "<tbody>\n",
       "\t<tr><th scope=row>chromosome1_33</th><td> 3</td><td> 3</td><td>NA</td><td> 3</td><td>NA</td><td>NA</td><td>NA</td><td>NA</td><td> 9</td><td> 3</td><td>NA</td><td> 3</td><td> 9</td><td>NA</td><td>NA</td></tr>\n",
       "\t<tr><th scope=row>chromosome1_56</th><td>NA</td><td>NA</td><td>NA</td><td>NA</td><td>NA</td><td>NA</td><td>NA</td><td>NA</td><td>NA</td><td>NA</td><td>NA</td><td>NA</td><td>NA</td><td>NA</td><td>NA</td></tr>\n",
       "\t<tr><th scope=row>chromosome1_63</th><td>NA</td><td>NA</td><td>NA</td><td>NA</td><td>NA</td><td>NA</td><td>NA</td><td>NA</td><td>NA</td><td>NA</td><td>NA</td><td>NA</td><td>NA</td><td>NA</td><td>NA</td></tr>\n",
       "\t<tr><th scope=row>chromosome1_65</th><td>NA</td><td>NA</td><td>NA</td><td>NA</td><td>NA</td><td>NA</td><td>NA</td><td>NA</td><td>NA</td><td>NA</td><td>NA</td><td>NA</td><td>NA</td><td>NA</td><td>NA</td></tr>\n",
       "\t<tr><th scope=row>chromosome1_71</th><td>NA</td><td>NA</td><td>NA</td><td>NA</td><td>NA</td><td> 3</td><td>NA</td><td>NA</td><td> 3</td><td>NA</td><td>NA</td><td>NA</td><td>NA</td><td> 6</td><td> 3</td></tr>\n",
       "\t<tr><th scope=row>chromosome1_83</th><td>NA</td><td>NA</td><td>12</td><td>NA</td><td>NA</td><td> 3</td><td>NA</td><td>NA</td><td>NA</td><td>NA</td><td>NA</td><td>NA</td><td>NA</td><td>NA</td><td>NA</td></tr>\n",
       "</tbody>\n",
       "</table>\n"
      ],
      "text/latex": [
       "A matrix: 6 × 15 of type dbl\n",
       "\\begin{tabular}{r|lllllllllllllll}\n",
       "  & ACP & BFP & BAP & CMP & CCD & CPG & ATE & SACE\\_YCR & ACK & ACV & AKE & BAH & CGD & ANG & CEI\\\\\n",
       "\\hline\n",
       "\tchromosome1\\_33 &  3 &  3 & NA &  3 & NA & NA & NA & NA &  9 &  3 & NA &  3 &  9 & NA & NA\\\\\n",
       "\tchromosome1\\_56 & NA & NA & NA & NA & NA & NA & NA & NA & NA & NA & NA & NA & NA & NA & NA\\\\\n",
       "\tchromosome1\\_63 & NA & NA & NA & NA & NA & NA & NA & NA & NA & NA & NA & NA & NA & NA & NA\\\\\n",
       "\tchromosome1\\_65 & NA & NA & NA & NA & NA & NA & NA & NA & NA & NA & NA & NA & NA & NA & NA\\\\\n",
       "\tchromosome1\\_71 & NA & NA & NA & NA & NA &  3 & NA & NA &  3 & NA & NA & NA & NA &  6 &  3\\\\\n",
       "\tchromosome1\\_83 & NA & NA & 12 & NA & NA &  3 & NA & NA & NA & NA & NA & NA & NA & NA & NA\\\\\n",
       "\\end{tabular}\n"
      ],
      "text/markdown": [
       "\n",
       "A matrix: 6 × 15 of type dbl\n",
       "\n",
       "| <!--/--> | ACP | BFP | BAP | CMP | CCD | CPG | ATE | SACE_YCR | ACK | ACV | AKE | BAH | CGD | ANG | CEI |\n",
       "|---|---|---|---|---|---|---|---|---|---|---|---|---|---|---|---|\n",
       "| chromosome1_33 |  3 |  3 | NA |  3 | NA | NA | NA | NA |  9 |  3 | NA |  3 |  9 | NA | NA |\n",
       "| chromosome1_56 | NA | NA | NA | NA | NA | NA | NA | NA | NA | NA | NA | NA | NA | NA | NA |\n",
       "| chromosome1_63 | NA | NA | NA | NA | NA | NA | NA | NA | NA | NA | NA | NA | NA | NA | NA |\n",
       "| chromosome1_65 | NA | NA | NA | NA | NA | NA | NA | NA | NA | NA | NA | NA | NA | NA | NA |\n",
       "| chromosome1_71 | NA | NA | NA | NA | NA |  3 | NA | NA |  3 | NA | NA | NA | NA |  6 |  3 |\n",
       "| chromosome1_83 | NA | NA | 12 | NA | NA |  3 | NA | NA | NA | NA | NA | NA | NA | NA | NA |\n",
       "\n"
      ],
      "text/plain": [
       "               ACP BFP BAP CMP CCD CPG ATE SACE_YCR ACK ACV AKE BAH CGD ANG CEI\n",
       "chromosome1_33  3   3  NA   3  NA  NA  NA  NA        9   3  NA   3   9  NA  NA \n",
       "chromosome1_56 NA  NA  NA  NA  NA  NA  NA  NA       NA  NA  NA  NA  NA  NA  NA \n",
       "chromosome1_63 NA  NA  NA  NA  NA  NA  NA  NA       NA  NA  NA  NA  NA  NA  NA \n",
       "chromosome1_65 NA  NA  NA  NA  NA  NA  NA  NA       NA  NA  NA  NA  NA  NA  NA \n",
       "chromosome1_71 NA  NA  NA  NA  NA   3  NA  NA        3  NA  NA  NA  NA   6   3 \n",
       "chromosome1_83 NA  NA  12  NA  NA   3  NA  NA       NA  NA  NA  NA  NA  NA  NA "
      ]
     },
     "metadata": {},
     "output_type": "display_data"
    }
   ],
   "source": [
    "GQ <- extract.gt(vcf, element = 'GQ', as.numeric = TRUE)\n",
    "head(GQ)"
   ]
  },
  {
   "cell_type": "code",
   "execution_count": 24,
   "id": "55ca49b4",
   "metadata": {},
   "outputs": [],
   "source": [
    "GT[GQ<90]=NA"
   ]
  },
  {
   "cell_type": "code",
   "execution_count": 25,
   "id": "d52ac08e",
   "metadata": {},
   "outputs": [],
   "source": [
    "library(dplyr)"
   ]
  },
  {
   "cell_type": "code",
   "execution_count": 26,
   "id": "13a8351b",
   "metadata": {},
   "outputs": [],
   "source": [
    "HomozygousGT=function(x){\n",
    "    if(!is.na(x))\n",
    "        {\n",
    "        if(grepl(\"/\", x, fixed = TRUE))\n",
    "            {\n",
    "            if(length(unique(strsplit(x, \"/\", fixed = TRUE)[[1]])) == 1)\n",
    "                {\n",
    "                return(TRUE)\n",
    "            }else{\n",
    "                return(FALSE)\n",
    "            }\n",
    "        }else{\n",
    "            return(NA)\n",
    "        }\n",
    "    }else{\n",
    "            return(NA)\n",
    "        }\n",
    "    \n",
    "}"
   ]
  },
  {
   "cell_type": "code",
   "execution_count": 27,
   "id": "338dda30",
   "metadata": {},
   "outputs": [],
   "source": [
    "GT=as.data.frame(GT)"
   ]
  },
  {
   "cell_type": "code",
   "execution_count": 28,
   "id": "eeb750cb",
   "metadata": {},
   "outputs": [],
   "source": [
    "GT_homo=GT"
   ]
  },
  {
   "cell_type": "code",
   "execution_count": 29,
   "id": "8f1a097d",
   "metadata": {},
   "outputs": [],
   "source": [
    "for(i in 1:ncol(GT_homo)){\n",
    "    GT_homo[,i]=unlist(lapply(GT_homo[,i], HomozygousGT))\n",
    "}"
   ]
  },
  {
   "cell_type": "code",
   "execution_count": 30,
   "id": "a46b8d66",
   "metadata": {},
   "outputs": [
    {
     "data": {
      "text/html": [
       "<table class=\"dataframe\">\n",
       "<caption>A data.frame: 6 × 15</caption>\n",
       "<thead>\n",
       "\t<tr><th></th><th scope=col>ACP</th><th scope=col>BFP</th><th scope=col>BAP</th><th scope=col>CMP</th><th scope=col>CCD</th><th scope=col>CPG</th><th scope=col>ATE</th><th scope=col>SACE_YCR</th><th scope=col>ACK</th><th scope=col>ACV</th><th scope=col>AKE</th><th scope=col>BAH</th><th scope=col>CGD</th><th scope=col>ANG</th><th scope=col>CEI</th></tr>\n",
       "\t<tr><th></th><th scope=col>&lt;lgl&gt;</th><th scope=col>&lt;lgl&gt;</th><th scope=col>&lt;lgl&gt;</th><th scope=col>&lt;lgl&gt;</th><th scope=col>&lt;lgl&gt;</th><th scope=col>&lt;lgl&gt;</th><th scope=col>&lt;lgl&gt;</th><th scope=col>&lt;lgl&gt;</th><th scope=col>&lt;lgl&gt;</th><th scope=col>&lt;lgl&gt;</th><th scope=col>&lt;lgl&gt;</th><th scope=col>&lt;lgl&gt;</th><th scope=col>&lt;lgl&gt;</th><th scope=col>&lt;lgl&gt;</th><th scope=col>&lt;lgl&gt;</th></tr>\n",
       "</thead>\n",
       "<tbody>\n",
       "\t<tr><th scope=row>chromosome1_33</th><td>NA</td><td>NA</td><td>NA</td><td>NA</td><td>NA</td><td>NA</td><td>NA</td><td>NA</td><td>NA</td><td>NA</td><td>NA</td><td>NA</td><td>NA</td><td>NA</td><td>NA</td></tr>\n",
       "\t<tr><th scope=row>chromosome1_56</th><td>NA</td><td>NA</td><td>NA</td><td>NA</td><td>NA</td><td>NA</td><td>NA</td><td>NA</td><td>NA</td><td>NA</td><td>NA</td><td>NA</td><td>NA</td><td>NA</td><td>NA</td></tr>\n",
       "\t<tr><th scope=row>chromosome1_63</th><td>NA</td><td>NA</td><td>NA</td><td>NA</td><td>NA</td><td>NA</td><td>NA</td><td>NA</td><td>NA</td><td>NA</td><td>NA</td><td>NA</td><td>NA</td><td>NA</td><td>NA</td></tr>\n",
       "\t<tr><th scope=row>chromosome1_65</th><td>NA</td><td>NA</td><td>NA</td><td>NA</td><td>NA</td><td>NA</td><td>NA</td><td>NA</td><td>NA</td><td>NA</td><td>NA</td><td>NA</td><td>NA</td><td>NA</td><td>NA</td></tr>\n",
       "\t<tr><th scope=row>chromosome1_71</th><td>NA</td><td>NA</td><td>NA</td><td>NA</td><td>NA</td><td>NA</td><td>NA</td><td>NA</td><td>NA</td><td>NA</td><td>NA</td><td>NA</td><td>NA</td><td>NA</td><td>NA</td></tr>\n",
       "\t<tr><th scope=row>chromosome1_83</th><td>NA</td><td>NA</td><td>NA</td><td>NA</td><td>NA</td><td>NA</td><td>NA</td><td>NA</td><td>NA</td><td>NA</td><td>NA</td><td>NA</td><td>NA</td><td>NA</td><td>NA</td></tr>\n",
       "</tbody>\n",
       "</table>\n"
      ],
      "text/latex": [
       "A data.frame: 6 × 15\n",
       "\\begin{tabular}{r|lllllllllllllll}\n",
       "  & ACP & BFP & BAP & CMP & CCD & CPG & ATE & SACE\\_YCR & ACK & ACV & AKE & BAH & CGD & ANG & CEI\\\\\n",
       "  & <lgl> & <lgl> & <lgl> & <lgl> & <lgl> & <lgl> & <lgl> & <lgl> & <lgl> & <lgl> & <lgl> & <lgl> & <lgl> & <lgl> & <lgl>\\\\\n",
       "\\hline\n",
       "\tchromosome1\\_33 & NA & NA & NA & NA & NA & NA & NA & NA & NA & NA & NA & NA & NA & NA & NA\\\\\n",
       "\tchromosome1\\_56 & NA & NA & NA & NA & NA & NA & NA & NA & NA & NA & NA & NA & NA & NA & NA\\\\\n",
       "\tchromosome1\\_63 & NA & NA & NA & NA & NA & NA & NA & NA & NA & NA & NA & NA & NA & NA & NA\\\\\n",
       "\tchromosome1\\_65 & NA & NA & NA & NA & NA & NA & NA & NA & NA & NA & NA & NA & NA & NA & NA\\\\\n",
       "\tchromosome1\\_71 & NA & NA & NA & NA & NA & NA & NA & NA & NA & NA & NA & NA & NA & NA & NA\\\\\n",
       "\tchromosome1\\_83 & NA & NA & NA & NA & NA & NA & NA & NA & NA & NA & NA & NA & NA & NA & NA\\\\\n",
       "\\end{tabular}\n"
      ],
      "text/markdown": [
       "\n",
       "A data.frame: 6 × 15\n",
       "\n",
       "| <!--/--> | ACP &lt;lgl&gt; | BFP &lt;lgl&gt; | BAP &lt;lgl&gt; | CMP &lt;lgl&gt; | CCD &lt;lgl&gt; | CPG &lt;lgl&gt; | ATE &lt;lgl&gt; | SACE_YCR &lt;lgl&gt; | ACK &lt;lgl&gt; | ACV &lt;lgl&gt; | AKE &lt;lgl&gt; | BAH &lt;lgl&gt; | CGD &lt;lgl&gt; | ANG &lt;lgl&gt; | CEI &lt;lgl&gt; |\n",
       "|---|---|---|---|---|---|---|---|---|---|---|---|---|---|---|---|\n",
       "| chromosome1_33 | NA | NA | NA | NA | NA | NA | NA | NA | NA | NA | NA | NA | NA | NA | NA |\n",
       "| chromosome1_56 | NA | NA | NA | NA | NA | NA | NA | NA | NA | NA | NA | NA | NA | NA | NA |\n",
       "| chromosome1_63 | NA | NA | NA | NA | NA | NA | NA | NA | NA | NA | NA | NA | NA | NA | NA |\n",
       "| chromosome1_65 | NA | NA | NA | NA | NA | NA | NA | NA | NA | NA | NA | NA | NA | NA | NA |\n",
       "| chromosome1_71 | NA | NA | NA | NA | NA | NA | NA | NA | NA | NA | NA | NA | NA | NA | NA |\n",
       "| chromosome1_83 | NA | NA | NA | NA | NA | NA | NA | NA | NA | NA | NA | NA | NA | NA | NA |\n",
       "\n"
      ],
      "text/plain": [
       "               ACP BFP BAP CMP CCD CPG ATE SACE_YCR ACK ACV AKE BAH CGD ANG CEI\n",
       "chromosome1_33 NA  NA  NA  NA  NA  NA  NA  NA       NA  NA  NA  NA  NA  NA  NA \n",
       "chromosome1_56 NA  NA  NA  NA  NA  NA  NA  NA       NA  NA  NA  NA  NA  NA  NA \n",
       "chromosome1_63 NA  NA  NA  NA  NA  NA  NA  NA       NA  NA  NA  NA  NA  NA  NA \n",
       "chromosome1_65 NA  NA  NA  NA  NA  NA  NA  NA       NA  NA  NA  NA  NA  NA  NA \n",
       "chromosome1_71 NA  NA  NA  NA  NA  NA  NA  NA       NA  NA  NA  NA  NA  NA  NA \n",
       "chromosome1_83 NA  NA  NA  NA  NA  NA  NA  NA       NA  NA  NA  NA  NA  NA  NA "
      ]
     },
     "metadata": {},
     "output_type": "display_data"
    },
    {
     "data": {
      "text/html": [
       "<style>\n",
       ".list-inline {list-style: none; margin:0; padding: 0}\n",
       ".list-inline>li {display: inline-block}\n",
       ".list-inline>li:not(:last-child)::after {content: \"\\00b7\"; padding: 0 .5ex}\n",
       "</style>\n",
       "<ol class=list-inline><li>&lt;NA&gt;</li><li>TRUE</li><li>FALSE</li></ol>\n"
      ],
      "text/latex": [
       "\\begin{enumerate*}\n",
       "\\item <NA>\n",
       "\\item TRUE\n",
       "\\item FALSE\n",
       "\\end{enumerate*}\n"
      ],
      "text/markdown": [
       "1. &lt;NA&gt;\n",
       "2. TRUE\n",
       "3. FALSE\n",
       "\n",
       "\n"
      ],
      "text/plain": [
       "[1]    NA  TRUE FALSE"
      ]
     },
     "metadata": {},
     "output_type": "display_data"
    }
   ],
   "source": [
    "head(GT_homo)\n",
    "unique(GT_homo[,1])"
   ]
  },
  {
   "cell_type": "code",
   "execution_count": 31,
   "id": "bca400f1",
   "metadata": {},
   "outputs": [
    {
     "data": {
      "text/html": [
       "<style>\n",
       ".list-inline {list-style: none; margin:0; padding: 0}\n",
       ".list-inline>li {display: inline-block}\n",
       ".list-inline>li:not(:last-child)::after {content: \"\\00b7\"; padding: 0 .5ex}\n",
       "</style>\n",
       "<ol class=list-inline><li>'ACP'</li><li>'BFP'</li><li>'BAP'</li><li>'CMP'</li><li>'CCD'</li><li>'CPG'</li><li>'ATE'</li><li>'SACE_YCR'</li><li>'ACK'</li><li>'ACV'</li><li>'AKE'</li><li>'BAH'</li><li>'CGD'</li><li>'ANG'</li><li>'CEI'</li></ol>\n"
      ],
      "text/latex": [
       "\\begin{enumerate*}\n",
       "\\item 'ACP'\n",
       "\\item 'BFP'\n",
       "\\item 'BAP'\n",
       "\\item 'CMP'\n",
       "\\item 'CCD'\n",
       "\\item 'CPG'\n",
       "\\item 'ATE'\n",
       "\\item 'SACE\\_YCR'\n",
       "\\item 'ACK'\n",
       "\\item 'ACV'\n",
       "\\item 'AKE'\n",
       "\\item 'BAH'\n",
       "\\item 'CGD'\n",
       "\\item 'ANG'\n",
       "\\item 'CEI'\n",
       "\\end{enumerate*}\n"
      ],
      "text/markdown": [
       "1. 'ACP'\n",
       "2. 'BFP'\n",
       "3. 'BAP'\n",
       "4. 'CMP'\n",
       "5. 'CCD'\n",
       "6. 'CPG'\n",
       "7. 'ATE'\n",
       "8. 'SACE_YCR'\n",
       "9. 'ACK'\n",
       "10. 'ACV'\n",
       "11. 'AKE'\n",
       "12. 'BAH'\n",
       "13. 'CGD'\n",
       "14. 'ANG'\n",
       "15. 'CEI'\n",
       "\n",
       "\n"
      ],
      "text/plain": [
       " [1] \"ACP\"      \"BFP\"      \"BAP\"      \"CMP\"      \"CCD\"      \"CPG\"     \n",
       " [7] \"ATE\"      \"SACE_YCR\" \"ACK\"      \"ACV\"      \"AKE\"      \"BAH\"     \n",
       "[13] \"CGD\"      \"ANG\"      \"CEI\"     "
      ]
     },
     "metadata": {},
     "output_type": "display_data"
    }
   ],
   "source": [
    "colnames(GT)"
   ]
  },
  {
   "cell_type": "code",
   "execution_count": 39,
   "id": "e2edec8a",
   "metadata": {},
   "outputs": [],
   "source": [
    "df_GT=data.frame(POS=vcfR::getPOS(vcf), CHROM=vcfR::getCHROM(vcf))\n",
    "df_GT=bind_cols(df_GT, GT)\n",
    "\n",
    "df_GT_homo=data.frame(POS=vcfR::getPOS(vcf), CHROM=vcfR::getCHROM(vcf))\n",
    "df_GT_homo=bind_cols(df_GT_homo, GT_homo)"
   ]
  },
  {
   "cell_type": "code",
   "execution_count": 40,
   "id": "078c3429",
   "metadata": {},
   "outputs": [
    {
     "data": {
      "text/html": [
       "0"
      ],
      "text/latex": [
       "0"
      ],
      "text/markdown": [
       "0"
      ],
      "text/plain": [
       "[1] 0"
      ]
     },
     "metadata": {},
     "output_type": "display_data"
    }
   ],
   "source": [
    "sum(!is.na(GT_homo[1,]))"
   ]
  },
  {
   "cell_type": "code",
   "execution_count": 41,
   "id": "f367643a",
   "metadata": {},
   "outputs": [
    {
     "data": {
      "text/html": [
       "<table class=\"dataframe\">\n",
       "<caption>A data.frame: 6 × 17</caption>\n",
       "<thead>\n",
       "\t<tr><th></th><th scope=col>POS</th><th scope=col>CHROM</th><th scope=col>ACP</th><th scope=col>BFP</th><th scope=col>BAP</th><th scope=col>CMP</th><th scope=col>CCD</th><th scope=col>CPG</th><th scope=col>ATE</th><th scope=col>SACE_YCR</th><th scope=col>ACK</th><th scope=col>ACV</th><th scope=col>AKE</th><th scope=col>BAH</th><th scope=col>CGD</th><th scope=col>ANG</th><th scope=col>CEI</th></tr>\n",
       "\t<tr><th></th><th scope=col>&lt;int&gt;</th><th scope=col>&lt;chr&gt;</th><th scope=col>&lt;chr&gt;</th><th scope=col>&lt;chr&gt;</th><th scope=col>&lt;chr&gt;</th><th scope=col>&lt;chr&gt;</th><th scope=col>&lt;chr&gt;</th><th scope=col>&lt;chr&gt;</th><th scope=col>&lt;chr&gt;</th><th scope=col>&lt;chr&gt;</th><th scope=col>&lt;chr&gt;</th><th scope=col>&lt;chr&gt;</th><th scope=col>&lt;chr&gt;</th><th scope=col>&lt;chr&gt;</th><th scope=col>&lt;chr&gt;</th><th scope=col>&lt;chr&gt;</th><th scope=col>&lt;chr&gt;</th></tr>\n",
       "</thead>\n",
       "<tbody>\n",
       "\t<tr><th scope=row>chromosome1_33</th><td>33</td><td>chromosome1</td><td>NA</td><td>NA</td><td>NA</td><td>NA</td><td>NA</td><td>NA</td><td>NA</td><td>NA</td><td>NA</td><td>NA</td><td>NA</td><td>NA</td><td>NA</td><td>NA</td><td>NA</td></tr>\n",
       "\t<tr><th scope=row>chromosome1_56</th><td>56</td><td>chromosome1</td><td>NA</td><td>NA</td><td>NA</td><td>NA</td><td>NA</td><td>NA</td><td>NA</td><td>NA</td><td>NA</td><td>NA</td><td>NA</td><td>NA</td><td>NA</td><td>NA</td><td>NA</td></tr>\n",
       "\t<tr><th scope=row>chromosome1_63</th><td>63</td><td>chromosome1</td><td>NA</td><td>NA</td><td>NA</td><td>NA</td><td>NA</td><td>NA</td><td>NA</td><td>NA</td><td>NA</td><td>NA</td><td>NA</td><td>NA</td><td>NA</td><td>NA</td><td>NA</td></tr>\n",
       "\t<tr><th scope=row>chromosome1_65</th><td>65</td><td>chromosome1</td><td>NA</td><td>NA</td><td>NA</td><td>NA</td><td>NA</td><td>NA</td><td>NA</td><td>NA</td><td>NA</td><td>NA</td><td>NA</td><td>NA</td><td>NA</td><td>NA</td><td>NA</td></tr>\n",
       "\t<tr><th scope=row>chromosome1_71</th><td>71</td><td>chromosome1</td><td>NA</td><td>NA</td><td>NA</td><td>NA</td><td>NA</td><td>NA</td><td>NA</td><td>NA</td><td>NA</td><td>NA</td><td>NA</td><td>NA</td><td>NA</td><td>NA</td><td>NA</td></tr>\n",
       "\t<tr><th scope=row>chromosome1_83</th><td>83</td><td>chromosome1</td><td>NA</td><td>NA</td><td>NA</td><td>NA</td><td>NA</td><td>NA</td><td>NA</td><td>NA</td><td>NA</td><td>NA</td><td>NA</td><td>NA</td><td>NA</td><td>NA</td><td>NA</td></tr>\n",
       "</tbody>\n",
       "</table>\n"
      ],
      "text/latex": [
       "A data.frame: 6 × 17\n",
       "\\begin{tabular}{r|lllllllllllllllll}\n",
       "  & POS & CHROM & ACP & BFP & BAP & CMP & CCD & CPG & ATE & SACE\\_YCR & ACK & ACV & AKE & BAH & CGD & ANG & CEI\\\\\n",
       "  & <int> & <chr> & <chr> & <chr> & <chr> & <chr> & <chr> & <chr> & <chr> & <chr> & <chr> & <chr> & <chr> & <chr> & <chr> & <chr> & <chr>\\\\\n",
       "\\hline\n",
       "\tchromosome1\\_33 & 33 & chromosome1 & NA & NA & NA & NA & NA & NA & NA & NA & NA & NA & NA & NA & NA & NA & NA\\\\\n",
       "\tchromosome1\\_56 & 56 & chromosome1 & NA & NA & NA & NA & NA & NA & NA & NA & NA & NA & NA & NA & NA & NA & NA\\\\\n",
       "\tchromosome1\\_63 & 63 & chromosome1 & NA & NA & NA & NA & NA & NA & NA & NA & NA & NA & NA & NA & NA & NA & NA\\\\\n",
       "\tchromosome1\\_65 & 65 & chromosome1 & NA & NA & NA & NA & NA & NA & NA & NA & NA & NA & NA & NA & NA & NA & NA\\\\\n",
       "\tchromosome1\\_71 & 71 & chromosome1 & NA & NA & NA & NA & NA & NA & NA & NA & NA & NA & NA & NA & NA & NA & NA\\\\\n",
       "\tchromosome1\\_83 & 83 & chromosome1 & NA & NA & NA & NA & NA & NA & NA & NA & NA & NA & NA & NA & NA & NA & NA\\\\\n",
       "\\end{tabular}\n"
      ],
      "text/markdown": [
       "\n",
       "A data.frame: 6 × 17\n",
       "\n",
       "| <!--/--> | POS &lt;int&gt; | CHROM &lt;chr&gt; | ACP &lt;chr&gt; | BFP &lt;chr&gt; | BAP &lt;chr&gt; | CMP &lt;chr&gt; | CCD &lt;chr&gt; | CPG &lt;chr&gt; | ATE &lt;chr&gt; | SACE_YCR &lt;chr&gt; | ACK &lt;chr&gt; | ACV &lt;chr&gt; | AKE &lt;chr&gt; | BAH &lt;chr&gt; | CGD &lt;chr&gt; | ANG &lt;chr&gt; | CEI &lt;chr&gt; |\n",
       "|---|---|---|---|---|---|---|---|---|---|---|---|---|---|---|---|---|---|\n",
       "| chromosome1_33 | 33 | chromosome1 | NA | NA | NA | NA | NA | NA | NA | NA | NA | NA | NA | NA | NA | NA | NA |\n",
       "| chromosome1_56 | 56 | chromosome1 | NA | NA | NA | NA | NA | NA | NA | NA | NA | NA | NA | NA | NA | NA | NA |\n",
       "| chromosome1_63 | 63 | chromosome1 | NA | NA | NA | NA | NA | NA | NA | NA | NA | NA | NA | NA | NA | NA | NA |\n",
       "| chromosome1_65 | 65 | chromosome1 | NA | NA | NA | NA | NA | NA | NA | NA | NA | NA | NA | NA | NA | NA | NA |\n",
       "| chromosome1_71 | 71 | chromosome1 | NA | NA | NA | NA | NA | NA | NA | NA | NA | NA | NA | NA | NA | NA | NA |\n",
       "| chromosome1_83 | 83 | chromosome1 | NA | NA | NA | NA | NA | NA | NA | NA | NA | NA | NA | NA | NA | NA | NA |\n",
       "\n"
      ],
      "text/plain": [
       "               POS CHROM       ACP BFP BAP CMP CCD CPG ATE SACE_YCR ACK ACV AKE\n",
       "chromosome1_33 33  chromosome1 NA  NA  NA  NA  NA  NA  NA  NA       NA  NA  NA \n",
       "chromosome1_56 56  chromosome1 NA  NA  NA  NA  NA  NA  NA  NA       NA  NA  NA \n",
       "chromosome1_63 63  chromosome1 NA  NA  NA  NA  NA  NA  NA  NA       NA  NA  NA \n",
       "chromosome1_65 65  chromosome1 NA  NA  NA  NA  NA  NA  NA  NA       NA  NA  NA \n",
       "chromosome1_71 71  chromosome1 NA  NA  NA  NA  NA  NA  NA  NA       NA  NA  NA \n",
       "chromosome1_83 83  chromosome1 NA  NA  NA  NA  NA  NA  NA  NA       NA  NA  NA \n",
       "               BAH CGD ANG CEI\n",
       "chromosome1_33 NA  NA  NA  NA \n",
       "chromosome1_56 NA  NA  NA  NA \n",
       "chromosome1_63 NA  NA  NA  NA \n",
       "chromosome1_65 NA  NA  NA  NA \n",
       "chromosome1_71 NA  NA  NA  NA \n",
       "chromosome1_83 NA  NA  NA  NA "
      ]
     },
     "metadata": {},
     "output_type": "display_data"
    },
    {
     "data": {
      "text/html": [
       "<table class=\"dataframe\">\n",
       "<caption>A data.frame: 6 × 17</caption>\n",
       "<thead>\n",
       "\t<tr><th></th><th scope=col>POS</th><th scope=col>CHROM</th><th scope=col>ACP</th><th scope=col>BFP</th><th scope=col>BAP</th><th scope=col>CMP</th><th scope=col>CCD</th><th scope=col>CPG</th><th scope=col>ATE</th><th scope=col>SACE_YCR</th><th scope=col>ACK</th><th scope=col>ACV</th><th scope=col>AKE</th><th scope=col>BAH</th><th scope=col>CGD</th><th scope=col>ANG</th><th scope=col>CEI</th></tr>\n",
       "\t<tr><th></th><th scope=col>&lt;int&gt;</th><th scope=col>&lt;chr&gt;</th><th scope=col>&lt;lgl&gt;</th><th scope=col>&lt;lgl&gt;</th><th scope=col>&lt;lgl&gt;</th><th scope=col>&lt;lgl&gt;</th><th scope=col>&lt;lgl&gt;</th><th scope=col>&lt;lgl&gt;</th><th scope=col>&lt;lgl&gt;</th><th scope=col>&lt;lgl&gt;</th><th scope=col>&lt;lgl&gt;</th><th scope=col>&lt;lgl&gt;</th><th scope=col>&lt;lgl&gt;</th><th scope=col>&lt;lgl&gt;</th><th scope=col>&lt;lgl&gt;</th><th scope=col>&lt;lgl&gt;</th><th scope=col>&lt;lgl&gt;</th></tr>\n",
       "</thead>\n",
       "<tbody>\n",
       "\t<tr><th scope=row>chromosome1_33</th><td>33</td><td>chromosome1</td><td>NA</td><td>NA</td><td>NA</td><td>NA</td><td>NA</td><td>NA</td><td>NA</td><td>NA</td><td>NA</td><td>NA</td><td>NA</td><td>NA</td><td>NA</td><td>NA</td><td>NA</td></tr>\n",
       "\t<tr><th scope=row>chromosome1_56</th><td>56</td><td>chromosome1</td><td>NA</td><td>NA</td><td>NA</td><td>NA</td><td>NA</td><td>NA</td><td>NA</td><td>NA</td><td>NA</td><td>NA</td><td>NA</td><td>NA</td><td>NA</td><td>NA</td><td>NA</td></tr>\n",
       "\t<tr><th scope=row>chromosome1_63</th><td>63</td><td>chromosome1</td><td>NA</td><td>NA</td><td>NA</td><td>NA</td><td>NA</td><td>NA</td><td>NA</td><td>NA</td><td>NA</td><td>NA</td><td>NA</td><td>NA</td><td>NA</td><td>NA</td><td>NA</td></tr>\n",
       "\t<tr><th scope=row>chromosome1_65</th><td>65</td><td>chromosome1</td><td>NA</td><td>NA</td><td>NA</td><td>NA</td><td>NA</td><td>NA</td><td>NA</td><td>NA</td><td>NA</td><td>NA</td><td>NA</td><td>NA</td><td>NA</td><td>NA</td><td>NA</td></tr>\n",
       "\t<tr><th scope=row>chromosome1_71</th><td>71</td><td>chromosome1</td><td>NA</td><td>NA</td><td>NA</td><td>NA</td><td>NA</td><td>NA</td><td>NA</td><td>NA</td><td>NA</td><td>NA</td><td>NA</td><td>NA</td><td>NA</td><td>NA</td><td>NA</td></tr>\n",
       "\t<tr><th scope=row>chromosome1_83</th><td>83</td><td>chromosome1</td><td>NA</td><td>NA</td><td>NA</td><td>NA</td><td>NA</td><td>NA</td><td>NA</td><td>NA</td><td>NA</td><td>NA</td><td>NA</td><td>NA</td><td>NA</td><td>NA</td><td>NA</td></tr>\n",
       "</tbody>\n",
       "</table>\n"
      ],
      "text/latex": [
       "A data.frame: 6 × 17\n",
       "\\begin{tabular}{r|lllllllllllllllll}\n",
       "  & POS & CHROM & ACP & BFP & BAP & CMP & CCD & CPG & ATE & SACE\\_YCR & ACK & ACV & AKE & BAH & CGD & ANG & CEI\\\\\n",
       "  & <int> & <chr> & <lgl> & <lgl> & <lgl> & <lgl> & <lgl> & <lgl> & <lgl> & <lgl> & <lgl> & <lgl> & <lgl> & <lgl> & <lgl> & <lgl> & <lgl>\\\\\n",
       "\\hline\n",
       "\tchromosome1\\_33 & 33 & chromosome1 & NA & NA & NA & NA & NA & NA & NA & NA & NA & NA & NA & NA & NA & NA & NA\\\\\n",
       "\tchromosome1\\_56 & 56 & chromosome1 & NA & NA & NA & NA & NA & NA & NA & NA & NA & NA & NA & NA & NA & NA & NA\\\\\n",
       "\tchromosome1\\_63 & 63 & chromosome1 & NA & NA & NA & NA & NA & NA & NA & NA & NA & NA & NA & NA & NA & NA & NA\\\\\n",
       "\tchromosome1\\_65 & 65 & chromosome1 & NA & NA & NA & NA & NA & NA & NA & NA & NA & NA & NA & NA & NA & NA & NA\\\\\n",
       "\tchromosome1\\_71 & 71 & chromosome1 & NA & NA & NA & NA & NA & NA & NA & NA & NA & NA & NA & NA & NA & NA & NA\\\\\n",
       "\tchromosome1\\_83 & 83 & chromosome1 & NA & NA & NA & NA & NA & NA & NA & NA & NA & NA & NA & NA & NA & NA & NA\\\\\n",
       "\\end{tabular}\n"
      ],
      "text/markdown": [
       "\n",
       "A data.frame: 6 × 17\n",
       "\n",
       "| <!--/--> | POS &lt;int&gt; | CHROM &lt;chr&gt; | ACP &lt;lgl&gt; | BFP &lt;lgl&gt; | BAP &lt;lgl&gt; | CMP &lt;lgl&gt; | CCD &lt;lgl&gt; | CPG &lt;lgl&gt; | ATE &lt;lgl&gt; | SACE_YCR &lt;lgl&gt; | ACK &lt;lgl&gt; | ACV &lt;lgl&gt; | AKE &lt;lgl&gt; | BAH &lt;lgl&gt; | CGD &lt;lgl&gt; | ANG &lt;lgl&gt; | CEI &lt;lgl&gt; |\n",
       "|---|---|---|---|---|---|---|---|---|---|---|---|---|---|---|---|---|---|\n",
       "| chromosome1_33 | 33 | chromosome1 | NA | NA | NA | NA | NA | NA | NA | NA | NA | NA | NA | NA | NA | NA | NA |\n",
       "| chromosome1_56 | 56 | chromosome1 | NA | NA | NA | NA | NA | NA | NA | NA | NA | NA | NA | NA | NA | NA | NA |\n",
       "| chromosome1_63 | 63 | chromosome1 | NA | NA | NA | NA | NA | NA | NA | NA | NA | NA | NA | NA | NA | NA | NA |\n",
       "| chromosome1_65 | 65 | chromosome1 | NA | NA | NA | NA | NA | NA | NA | NA | NA | NA | NA | NA | NA | NA | NA |\n",
       "| chromosome1_71 | 71 | chromosome1 | NA | NA | NA | NA | NA | NA | NA | NA | NA | NA | NA | NA | NA | NA | NA |\n",
       "| chromosome1_83 | 83 | chromosome1 | NA | NA | NA | NA | NA | NA | NA | NA | NA | NA | NA | NA | NA | NA | NA |\n",
       "\n"
      ],
      "text/plain": [
       "               POS CHROM       ACP BFP BAP CMP CCD CPG ATE SACE_YCR ACK ACV AKE\n",
       "chromosome1_33 33  chromosome1 NA  NA  NA  NA  NA  NA  NA  NA       NA  NA  NA \n",
       "chromosome1_56 56  chromosome1 NA  NA  NA  NA  NA  NA  NA  NA       NA  NA  NA \n",
       "chromosome1_63 63  chromosome1 NA  NA  NA  NA  NA  NA  NA  NA       NA  NA  NA \n",
       "chromosome1_65 65  chromosome1 NA  NA  NA  NA  NA  NA  NA  NA       NA  NA  NA \n",
       "chromosome1_71 71  chromosome1 NA  NA  NA  NA  NA  NA  NA  NA       NA  NA  NA \n",
       "chromosome1_83 83  chromosome1 NA  NA  NA  NA  NA  NA  NA  NA       NA  NA  NA \n",
       "               BAH CGD ANG CEI\n",
       "chromosome1_33 NA  NA  NA  NA \n",
       "chromosome1_56 NA  NA  NA  NA \n",
       "chromosome1_63 NA  NA  NA  NA \n",
       "chromosome1_65 NA  NA  NA  NA \n",
       "chromosome1_71 NA  NA  NA  NA \n",
       "chromosome1_83 NA  NA  NA  NA "
      ]
     },
     "metadata": {},
     "output_type": "display_data"
    }
   ],
   "source": [
    "head(df_GT)\n",
    "head(df_GT_homo)"
   ]
  },
  {
   "cell_type": "code",
   "execution_count": 42,
   "id": "39f713b0",
   "metadata": {},
   "outputs": [],
   "source": [
    "library(data.table)\n",
    "fwrite(df_GT, \"./gt.csv.gz\")\n",
    "fwrite(df_GT_homo, \"./homozygous_gt.csv.gz\")"
   ]
  }
 ],
 "metadata": {
  "kernelspec": {
   "display_name": "R",
   "language": "R",
   "name": "ir"
  },
  "language_info": {
   "codemirror_mode": "r",
   "file_extension": ".r",
   "mimetype": "text/x-r-source",
   "name": "R",
   "pygments_lexer": "r",
   "version": "4.1.1"
  }
 },
 "nbformat": 4,
 "nbformat_minor": 5
}

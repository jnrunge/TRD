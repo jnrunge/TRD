{
 "cells": [
  {
   "cell_type": "code",
   "execution_count": 44,
   "id": "752ec64d",
   "metadata": {},
   "outputs": [],
   "source": [
    "# should use a vcf with SNPs but not with heavy filters. \n",
    "# only biallelic might speed things up, but do I miss out on important loci?"
   ]
  },
  {
   "cell_type": "markdown",
   "id": "d1757279",
   "metadata": {},
   "source": [
    "````bash\n",
    "bcftools view -V indels,mnps,ref,bnd,other 1011Matrix.gvcf.gz | bcftools view -s AAA | bcftools view -i \"AC>0 & FORMAT/DP > 10\" | bcftools query -f \"[%AD]\\n\" | gzip > 1011Matrix.gvcf.gz-AAA.AD.csv.gz\n",
    "````"
   ]
  },
  {
   "cell_type": "code",
   "execution_count": 63,
   "id": "c7318370",
   "metadata": {
    "scrolled": true
   },
   "outputs": [],
   "source": [
    "source(\"../BrusselSprouts/scripts/functions.R\")"
   ]
  },
  {
   "cell_type": "code",
   "execution_count": 64,
   "id": "aa0d4420",
   "metadata": {},
   "outputs": [],
   "source": [
    "# out paste(args[1],\".polyploid.score\",sep=\"\") <- folder schould be AD"
   ]
  },
  {
   "cell_type": "code",
   "execution_count": 65,
   "id": "3e365a0f",
   "metadata": {},
   "outputs": [
    {
     "data": {
      "text/html": [
       "1011"
      ],
      "text/latex": [
       "1011"
      ],
      "text/markdown": [
       "1011"
      ],
      "text/plain": [
       "[1] 1011"
      ]
     },
     "metadata": {},
     "output_type": "display_data"
    }
   ],
   "source": [
    "samples=readLines(\"~/data/TRD/1011Matrix.gvcf.gz.samples\")\n",
    "length(samples)"
   ]
  },
  {
   "cell_type": "code",
   "execution_count": 66,
   "id": "2e8e2728",
   "metadata": {},
   "outputs": [
    {
     "name": "stdout",
     "output_type": "stream",
     "text": [
      "[1] \"/home/jnrunge/data/TRD/AD/scripts/Scev-ploidy-sbatch.list\"\n",
      "[1] \"371 /home/jnrunge/data/TRD/AD/scripts/Scev-ploidy-sbatch.list\"\n"
     ]
    }
   ],
   "source": [
    "initial_timedate=Sys.time()\n",
    "scripts_dir=\"/home/jnrunge/data/TRD/AD/scripts/\"\n",
    "jobname=\"Scev-ploidy\"\n",
    "sbatch_list=paste(scripts_dir,jobname,\"-sbatch.list\", sep=\"\")\n",
    "print(sbatch_list)\n",
    "if(file.exists(sbatch_list)){\n",
    "    system(command=paste(\"rm -f \", sbatch_list, sep=\"\"))\n",
    "}\n",
    "\n",
    "for(s in samples){\n",
    "    \n",
    "    if(!file.exists(paste(\"~/data/TRD/AD/\",s,\".AD.csv.gz.polyploid.score\",sep=\"\")))\n",
    "    {\n",
    "        sbatch=paste(\"#!/bin/bash\n",
    "#SBATCH -p fast          # The account name for the job\n",
    "#SBATCH --job-name=\",jobname,\"  # The job name\n",
    "#SBATCH -o \",scripts_dir,\"logs/\",jobname,\"-\",s,\".out\n",
    "#SBATCH -e \",scripts_dir,\"logs/\",jobname,\"-\",s,\".err\n",
    "#SBATCH -c 1                 # The number of cpu cores to use\n",
    "#SBATCH --time=11:59:00       # The time the job will take to run \n",
    "#SBATCH --mem=4gb\n",
    "\n",
    "date\n",
    "source ~/anaconda3/etc/profile.d/conda.sh\n",
    "conda activate bwaetc\n",
    "\n",
    "cd ~/data/TRD/\n",
    "\n",
    "bcftools view -V indels,mnps,ref,bnd,other 1011Matrix.gvcf.gz | bcftools view -s \",s,\" | bcftools view -i 'AC>0 & FORMAT/DP > 10' | bcftools query -f '[%AD]\\\\n' | gzip > AD/\",s,\".AD.csv.gz\n",
    "\n",
    "conda activate JupyteR4\n",
    "\n",
    "Rscript ~/TRD/scripts/polyploidy.R AD/\",s,\".AD.csv.gz AD/\",s,\".AD.csv.gz.polyploid.score\n",
    "\n",
    "conda activate JupyteR4\n",
    "Rscript ~/BrusselSprouts/scripts/Execute_Sbatches.R '\",initial_timedate,\"' \",sbatch_list,\" 20 \",jobname,\"\n",
    "\n",
    "date\n",
    "\",sep=\"\")\n",
    "        sbatch_file=paste(\"~/data/bruxellensis/mapping/scripts/\",jobname,\"-\",s,\".sbatch\",sep=\"\")\n",
    "        #print(sbatch_file)\n",
    "        writeLines(sbatch, sbatch_file)\n",
    "\n",
    "        write(sbatch_file,file=sbatch_list,append=TRUE)\n",
    "\n",
    "\n",
    "            \n",
    "        }\n",
    "}\n",
    "\n",
    "\n",
    "print(system(command=paste(\"wc -l \", sbatch_list, sep=\"\"),intern=TRUE))\n",
    "\n"
   ]
  },
  {
   "cell_type": "code",
   "execution_count": 67,
   "id": "0cb6d81c",
   "metadata": {
    "scrolled": true
   },
   "outputs": [
    {
     "name": "stdout",
     "output_type": "stream",
     "text": [
      " [1] \"[1] \\\"Currently running 0 jobs.\\\"\"                 \n",
      " [2] \"[1] \\\"371 sbatches remaining! Running 21 more...\\\"\"\n",
      " [3] \"[1] \\\"Submitted batch job 272514\\\"\"                \n",
      " [4] \"[1] \\\"Submitted batch job 272522\\\"\"                \n",
      " [5] \"[1] \\\"Submitted batch job 272523\\\"\"                \n",
      " [6] \"[1] \\\"Submitted batch job 272524\\\"\"                \n",
      " [7] \"[1] \\\"Submitted batch job 272525\\\"\"                \n",
      " [8] \"[1] \\\"Submitted batch job 272526\\\"\"                \n",
      " [9] \"[1] \\\"Submitted batch job 272527\\\"\"                \n",
      "[10] \"[1] \\\"Submitted batch job 272528\\\"\"                \n",
      "[11] \"[1] \\\"Submitted batch job 272529\\\"\"                \n",
      "[12] \"[1] \\\"Submitted batch job 272530\\\"\"                \n",
      "[13] \"[1] \\\"Submitted batch job 272531\\\"\"                \n",
      "[14] \"[1] \\\"Submitted batch job 272532\\\"\"                \n",
      "[15] \"[1] \\\"Submitted batch job 272533\\\"\"                \n",
      "[16] \"[1] \\\"Submitted batch job 272534\\\"\"                \n",
      "[17] \"[1] \\\"Submitted batch job 272535\\\"\"                \n",
      "[18] \"[1] \\\"Submitted batch job 272537\\\"\"                \n",
      "[19] \"[1] \\\"Submitted batch job 272539\\\"\"                \n",
      "[20] \"[1] \\\"Submitted batch job 272541\\\"\"                \n",
      "[21] \"[1] \\\"Submitted batch job 272544\\\"\"                \n",
      "[22] \"[1] \\\"Submitted batch job 272546\\\"\"                \n",
      "[23] \"[1] \\\"Submitted batch job 272547\\\"\"                \n"
     ]
    }
   ],
   "source": [
    "print(system(command=paste(\"Rscript ~/BrusselSprouts/scripts/Execute_Sbatches.R '\",initial_timedate,\"' \",sbatch_list,\" 20 \",jobname, \"30\", sep=\"\"), intern=TRUE))"
   ]
  },
  {
   "cell_type": "code",
   "execution_count": 70,
   "id": "1d389ff4",
   "metadata": {},
   "outputs": [
    {
     "data": {
      "text/html": [
       "1011"
      ],
      "text/latex": [
       "1011"
      ],
      "text/markdown": [
       "1011"
      ],
      "text/plain": [
       "[1] 1011"
      ]
     },
     "metadata": {},
     "output_type": "display_data"
    }
   ],
   "source": [
    "polyfiles=system(command=\"ls ~/data/TRD/AD/*.AD.csv.gz.polyploid.score\",intern=TRUE)\n",
    "length(polyfiles)"
   ]
  },
  {
   "cell_type": "code",
   "execution_count": 71,
   "id": "b841f6dc",
   "metadata": {},
   "outputs": [],
   "source": [
    "poly_df=data.frame(file=polyfiles, score=NA, stringsAsFactors = FALSE)\n",
    "for(i in 1:nrow(poly_df)){\n",
    "    poly_df$score[i]=as.numeric(readLines(poly_df$file[i]))\n",
    "}"
   ]
  },
  {
   "cell_type": "code",
   "execution_count": 81,
   "id": "30b9feb7",
   "metadata": {},
   "outputs": [
    {
     "data": {
      "image/png": "[encoded data removed]",
      "text/plain": [
       "plot without title"
      ]
     },
     "metadata": {
      "image/png": {
       "height": 240,
       "width": 240
      }
     },
     "output_type": "display_data"
    }
   ],
   "source": [
    "options(repr.plot.width=4, repr.plot.height=4)\n",
    "\n",
    "ggplot(mapping=aes(poly_df$score))+\n",
    "geom_histogram(binwidth = 0.01)"
   ]
  },
  {
   "cell_type": "code",
   "execution_count": 80,
   "id": "41099d88",
   "metadata": {},
   "outputs": [],
   "source": [
    "writeLines(unlist(lapply(unlist(lapply(poly_df$file[poly_df$score<0.01], getLast, split=\"/\")),getFirst_v2,split=\".\")), \"~/data/TRD/AD/notPolyploid.list\")"
   ]
  }
 ],
 "metadata": {
  "kernelspec": {
   "display_name": "R",
   "language": "R",
   "name": "ir"
  },
  "language_info": {
   "codemirror_mode": "r",
   "file_extension": ".r",
   "mimetype": "text/x-r-source",
   "name": "R",
   "pygments_lexer": "r",
   "version": "4.1.2"
  }
 },
 "nbformat": 4,
 "nbformat_minor": 5
}

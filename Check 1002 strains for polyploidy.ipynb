{
 "cells": [
  {
   "cell_type": "code",
   "execution_count": 1,
   "id": "752ec64d",
   "metadata": {},
   "outputs": [],
   "source": [
    "# should use a vcf with SNPs but not with heavy filters. \n",
    "# only biallelic might speed things up, but do I miss out on important loci?"
   ]
  },
  {
   "cell_type": "markdown",
   "id": "d1757279",
   "metadata": {},
   "source": [
    "````bash\n",
    "bcftools view -V indels,mnps,ref,bnd,other 1011Matrix.gvcf.gz | bcftools view -s AAA | bcftools view -i \"AC>0 & FORMAT/DP > 10\" | bcftools query -f \"[%AD]\\n\" | gzip > 1011Matrix.gvcf.gz-AAA.AD.csv.gz\n",
    "````"
   ]
  },
  {
   "cell_type": "code",
   "execution_count": 2,
   "id": "c7318370",
   "metadata": {
    "scrolled": true
   },
   "outputs": [
    {
     "name": "stderr",
     "output_type": "stream",
     "text": [
      "\n",
      "Attaching package: 'dplyr'\n",
      "\n",
      "\n",
      "The following objects are masked from 'package:data.table':\n",
      "\n",
      "    between, first, last\n",
      "\n",
      "\n",
      "The following objects are masked from 'package:stats':\n",
      "\n",
      "    filter, lag\n",
      "\n",
      "\n",
      "The following objects are masked from 'package:base':\n",
      "\n",
      "    intersect, setdiff, setequal, union\n",
      "\n",
      "\n"
     ]
    }
   ],
   "source": [
    "source(\"../BrusselSprouts/scripts/functions.R\")"
   ]
  },
  {
   "cell_type": "code",
   "execution_count": null,
   "id": "aa0d4420",
   "metadata": {},
   "outputs": [],
   "source": [
    "# out paste(args[1],\".polyploid.score\",sep=\"\") <- folder schould be AD"
   ]
  },
  {
   "cell_type": "code",
   "execution_count": 42,
   "id": "3e365a0f",
   "metadata": {},
   "outputs": [
    {
     "data": {
      "text/html": [
       "1011"
      ],
      "text/latex": [
       "1011"
      ],
      "text/markdown": [
       "1011"
      ],
      "text/plain": [
       "[1] 1011"
      ]
     },
     "metadata": {},
     "output_type": "display_data"
    }
   ],
   "source": [
    "samples=readLines(\"~/data/TRD/1011Matrix.gvcf.gz.samples\")\n",
    "length(samples)"
   ]
  },
  {
   "cell_type": "code",
   "execution_count": 43,
   "id": "2e8e2728",
   "metadata": {},
   "outputs": [
    {
     "name": "stdout",
     "output_type": "stream",
     "text": [
      "[1] \"/home/jnrunge/data/TRD/AD/scripts/Scev-ploidy-sbatch.list\"\n",
      "[1] \"1011 /home/jnrunge/data/TRD/AD/scripts/Scev-ploidy-sbatch.list\"\n"
     ]
    }
   ],
   "source": [
    "initial_timedate=Sys.time()\n",
    "scripts_dir=\"/home/jnrunge/data/TRD/AD/scripts/\"\n",
    "jobname=\"Scev-ploidy\"\n",
    "sbatch_list=paste(scripts_dir,jobname,\"-sbatch.list\", sep=\"\")\n",
    "print(sbatch_list)\n",
    "if(file.exists(sbatch_list)){\n",
    "    system(command=paste(\"rm -f \", sbatch_list, sep=\"\"))\n",
    "}\n",
    "\n",
    "for(s in samples){\n",
    "    \n",
    "    if(!file.exists(paste(\"~/data/TRD/AD/\",s,\".AD.csv.gz.polyploid.score\",sep=\"\")))\n",
    "    {\n",
    "        sbatch=paste(\"#!/bin/bash\n",
    "#SBATCH -p fast          # The account name for the job\n",
    "#SBATCH --job-name=\",jobname,\"  # The job name\n",
    "#SBATCH -o \",scripts_dir,\"logs/\",jobname,\"-\",s,\".out\n",
    "#SBATCH -e \",scripts_dir,\"logs/\",jobname,\"-\",s,\".err\n",
    "#SBATCH -c 1                 # The number of cpu cores to use\n",
    "#SBATCH --time=11:59:00       # The time the job will take to run \n",
    "#SBATCH --mem=4gb\n",
    "\n",
    "date\n",
    "source ~/anaconda3/etc/profile.d/conda.sh\n",
    "conda activate bwaetc\n",
    "\n",
    "cd ~/data/TRD/\n",
    "\n",
    "bcftools view -V indels,mnps,ref,bnd,other 1011Matrix.gvcf.gz | bcftools view -s \",s,\" | bcftools view -i 'AC>0 & FORMAT/DP > 10' | bcftools query -f '[%AD]\\\\n' | gzip > AD/\",s,\".AD.csv.gz\n",
    "\n",
    "conda activate JupyteR4\n",
    "\n",
    "Rscript ~/TRD/scripts/polyploidy.R AD/\",s,\".AD.csv.gz AD/\",s,\".AD.csv.gz.polyploid.score\n",
    "\n",
    "conda activate JupyteR4\n",
    "Rscript ~/BrusselSprouts/scripts/Execute_Sbatches.R '\",initial_timedate,\"' \",sbatch_list,\" 20 \",jobname,\"\n",
    "\n",
    "date\n",
    "\",sep=\"\")\n",
    "        sbatch_file=paste(\"~/data/bruxellensis/mapping/scripts/\",jobname,\"-\",s,\".sbatch\",sep=\"\")\n",
    "        #print(sbatch_file)\n",
    "        writeLines(sbatch, sbatch_file)\n",
    "\n",
    "        write(sbatch_file,file=sbatch_list,append=TRUE)\n",
    "\n",
    "\n",
    "            \n",
    "        }\n",
    "}\n",
    "\n",
    "\n",
    "print(system(command=paste(\"wc -l \", sbatch_list, sep=\"\"),intern=TRUE))\n",
    "\n",
    "#print(system(command=paste(\"Rscript ~/BrusselSprouts/scripts/Execute_Sbatches.R '\",initial_timedate,\"' \",sbatch_list,\" 20 \",jobname, sep=\"\"), intern=TRUE))"
   ]
  }
 ],
 "metadata": {
  "kernelspec": {
   "display_name": "R",
   "language": "R",
   "name": "ir"
  },
  "language_info": {
   "codemirror_mode": "r",
   "file_extension": ".r",
   "mimetype": "text/x-r-source",
   "name": "R",
   "pygments_lexer": "r",
   "version": "4.1.1"
  }
 },
 "nbformat": 4,
 "nbformat_minor": 5
}

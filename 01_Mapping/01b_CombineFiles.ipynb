{
 "cells": [
  {
   "cell_type": "markdown",
   "id": "c0269590-7914-4f15-bfe4-123ba385a71b",
   "metadata": {},
   "source": [
    "* Samtools mpileup (variable sites) of all bams together\n",
    "* Then load that file if possible\n",
    "* Make comparisons between all across variable sites (i.e. correlation of AF)\n",
    "* See if supposedly same samples are best correlated\n",
    "\n",
    "\n",
    "````bash\n",
    "ls *markdup.bam > bamlist\n",
    "samtools mpileup -f /home/jnrunge/data/TRD/R64_nucl.fasta -q 30 -b bamlist --no-output-ins --no-output-del | gzip > all_mpileup.txt.gz\n",
    "````"
   ]
  },
  {
   "cell_type": "code",
   "execution_count": 2,
   "id": "818f5f17-a7b0-4bce-8e40-dacf256344fd",
   "metadata": {
    "tags": []
   },
   "outputs": [
    {
     "name": "stderr",
     "output_type": "stream",
     "text": [
      "\n",
      "Attaching package: 'dplyr'\n",
      "\n",
      "\n",
      "The following objects are masked from 'package:data.table':\n",
      "\n",
      "    between, first, last\n",
      "\n",
      "\n",
      "The following objects are masked from 'package:stats':\n",
      "\n",
      "    filter, lag\n",
      "\n",
      "\n",
      "The following objects are masked from 'package:base':\n",
      "\n",
      "    intersect, setdiff, setequal, union\n",
      "\n",
      "\n"
     ]
    }
   ],
   "source": [
    "source(\"~/BrusselSprouts/scripts/functions.R\")"
   ]
  },
  {
   "cell_type": "markdown",
   "id": "bcf240fb-2d80-467f-999e-ccd7379f83ec",
   "metadata": {
    "tags": []
   },
   "source": [
    "**IF RUN AGAIN, DELETE OLD FILES AND FIGURE OUT MPILEUP LENGTH**\n"
   ]
  },
  {
   "cell_type": "code",
   "execution_count": 4,
   "id": "653c6a6b-cd1e-4feb-9e5c-c62be567873d",
   "metadata": {
    "tags": []
   },
   "outputs": [
    {
     "ename": "ERROR",
     "evalue": "Error in eval(expr, envir, enclos): \n",
     "output_type": "error",
     "traceback": [
      "Error in eval(expr, envir, enclos): \nTraceback:\n",
      "1. stop()"
     ]
    }
   ],
   "source": [
    "initial_timedate=Sys.time()\n",
    "jobname=\"mpileup_prep\"\n",
    "scripts_dir=\"/home/jnrunge/data/trd/mapped_reads/scripts/\"\n",
    "lines_mpileup=11680783\n",
    "\n",
    "batch_size=1000\n",
    "i_size=10\n",
    "\n",
    "is=ceiling(lines_mpileup/batch_size)\n",
    "\n",
    "i_min=round(seq(from=0, to=is-i_size, length.out=is/i_size))\n",
    "i_max=i_min+(c(diff(i_min)-1, i_size))\n",
    "\n",
    "for(i in 1:length(i_min)){\n",
    "    if(file.exists(paste0(\"~/data/trd/mapped_reads/all_mpileup.txt.gz\", \"-\", i_min[i], \"-\", i_max[i], \".gz\"))){\n",
    "        next\n",
    "    }\n",
    "    cmd=paste0(\"Rscript ~/TRD/01_Mapping/01b_mpileup_prep.r \", i_min[i], \" \",i_max[i], \" \", batch_size)\n",
    "    \n",
    "    \n",
    "    sbatch_list=execute_complex_sbatch(cmd, jobname = jobname, scripts_dir = scripts_dir, uniqueRunID = i_min[i], cores=\"1\", mem=\"4G\", time=\"short\", env=\"JupyteR4\", initial_timedate = initial_timedate, jobs_simul = 10, jobs_total = 30)\n",
    "}\n",
    "\n",
    "if(exists(\"sbatch_list\") &  jobname == \"mpileup_prep\"){\n",
    "    print(sbatch_list)\n",
    "    start_sbatch_list(sbatch_list, 10, jobname, initial_timedate)\n",
    "}"
   ]
  },
  {
   "cell_type": "code",
   "execution_count": null,
   "id": "30ecf5ba-5727-4664-b7a0-1f29434d408d",
   "metadata": {
    "tags": []
   },
   "outputs": [],
   "source": [
    "files=list.files(\"~/data/trd/mapped_reads\", \"all_mpileup.txt.gz-\", full.names =TRUE)\n",
    "\n",
    "while(length(files)<length(i_min)){\n",
    "    Sys.sleep(60)\n",
    "    files=list.files(\"~/data/trd/mapped_reads\", \"all_mpileup.txt.gz-\", full.names =TRUE)\n",
    "}\n",
    "\n",
    "all_mpileup=fread_and_bind_files(files)%>%select(-ncol(.))%>%distinct()"
   ]
  },
  {
   "cell_type": "code",
   "execution_count": null,
   "id": "509f70e3-efb9-4eb3-b267-2a9cd624f573",
   "metadata": {
    "tags": []
   },
   "outputs": [],
   "source": [
    "#all_mpileup=fread_and_bind_files(files)%>%select(-ncol(.))"
   ]
  },
  {
   "cell_type": "code",
   "execution_count": null,
   "id": "11accbe5-4b94-4cbf-aa1a-2ead8c528cc8",
   "metadata": {
    "tags": []
   },
   "outputs": [],
   "source": [
    "head(all_mpileup)"
   ]
  },
  {
   "cell_type": "code",
   "execution_count": null,
   "id": "f6e3abac-9c5e-4e9f-8fe8-7044e630fb83",
   "metadata": {
    "tags": []
   },
   "outputs": [],
   "source": [
    "\n",
    "# Calculate all pairwise correlations\n",
    "\n",
    "\n",
    "my_corrs <- all_mpileup %>%\n",
    "  select(4:(ncol(.)-1)) %>%\n",
    "  gather() %>%\n",
    "  expand(ID1 = key, ID2 = key, cor = NA) %>%\n",
    "  filter(ID1 != ID2)\n",
    "\n",
    "getCor=function(a,b){\n",
    "    cor(all_mpileup%>%select(all_of(a))%>%\n",
    "        #mutate(!!a := ifelse(!(!!sym(a) %in% c(0,1)), !!sym(a), NA))%>%\n",
    "        pull(),all_mpileup%>%select(all_of(b))%>%\n",
    "        #mutate(!!b := ifelse(!(!!sym(b) %in% c(0,1)), !!sym(b), NA))%>%\n",
    "        pull(), use = \"pairwise.complete.obs\")\n",
    "}\n",
    "\n",
    "my_corrs=my_corrs%>%rowwise()%>%mutate(cor=getCor(ID1,ID2))"
   ]
  },
  {
   "cell_type": "code",
   "execution_count": null,
   "id": "86e128a5-2a36-4d9f-a388-0e9d7157beb1",
   "metadata": {
    "tags": []
   },
   "outputs": [],
   "source": [
    "fwrite(my_corrs, \"~/data/trd/mapped_reads/all_mpileup.txt.gz-correlated.csv.gz\", sep=\",\")"
   ]
  },
  {
   "cell_type": "markdown",
   "id": "bab309c3-77fb-41e3-b30a-065d3405f7bc",
   "metadata": {},
   "source": [
    "# <span style=\"color: white; background-color: red;\">Merge decisions based on the correlations</span>\n",
    "\n",
    "Results below.\n",
    "\n",
    "* All As and Bs indeed belong together and will be merged.\n",
    "* Other high correlates are assumed (for now) to be without a TRD signal and hence very similar with fixated similarities plus hovering at 0.5 for the rest.\n",
    "* JF3x1.m.sort.markdup.bam and YJNRC2.m.sort.markdup.bam will be merged as the result is as expected\n",
    "* JF4 correlates with the wrong one but also showed no signal, so perhaps just a mis-hit. No merge!\n",
    "* JG4 merges well with C18 as expected. It had a signal, so should be hard to be a wrong hit. Merge!"
   ]
  },
  {
   "cell_type": "code",
   "execution_count": null,
   "id": "2e4e18a9-70d9-4c2e-a86b-8502deab3a6d",
   "metadata": {
    "tags": []
   },
   "outputs": [],
   "source": [
    "my_corrs_unique <- my_corrs %>%\n",
    "  mutate(ID1_ID2 = paste(pmin(ID1, ID2), pmax(ID1, ID2), sep = \"_\")) %>%\n",
    "  distinct(ID1_ID2, .keep_all = TRUE) %>%\n",
    "  select(ID1, ID2, cor)\n",
    "\n",
    "my_corrs_unique=my_corrs_unique%>%filter(cor>=0.9)%>%arrange(-cor)\n",
    "\n",
    "# are all A/B in here\n",
    "A_IDs=my_corrs%>%select(ID1)%>%filter(grepl(\"A.m\", ID1, fixed=TRUE))%>%pull()%>%unique()\n",
    "summary(A_IDs%in%(select(my_corrs_unique, ID1)%>%pull())) # yes\n",
    "\n",
    "my_corrs_unique%>%distinct(ID1, .keep_all = TRUE)"
   ]
  },
  {
   "cell_type": "code",
   "execution_count": 98,
   "id": "d7d38e0e-cce9-45e5-b921-32cf327a1dd8",
   "metadata": {
    "tags": []
   },
   "outputs": [
    {
     "data": {
      "text/html": [
       "<table class=\"dataframe\">\n",
       "<caption>A rowwise_df: 13 x 4</caption>\n",
       "<thead>\n",
       "\t<tr><th scope=col>ID1</th><th scope=col>ID2</th><th scope=col>cor</th><th scope=col>final_name</th></tr>\n",
       "\t<tr><th scope=col>&lt;chr&gt;</th><th scope=col>&lt;chr&gt;</th><th scope=col>&lt;dbl&gt;</th><th scope=col>&lt;chr&gt;</th></tr>\n",
       "</thead>\n",
       "<tbody>\n",
       "\t<tr><td>YJNRC4A.m.sort.markdup.bam </td><td>YJNRC4B.m.sort.markdup.bam </td><td>0.9887472</td><td>YJNRC4.bam </td></tr>\n",
       "\t<tr><td>YJNRC23A.m.sort.markdup.bam</td><td>YJNRC23B.m.sort.markdup.bam</td><td>0.9858588</td><td>YJNRC23.bam</td></tr>\n",
       "\t<tr><td>YJNRC27A.m.sort.markdup.bam</td><td>YJNRC27B.m.sort.markdup.bam</td><td>0.9856123</td><td>YJNRC27.bam</td></tr>\n",
       "\t<tr><td>YJNRC8A.m.sort.markdup.bam </td><td>YJNRC8B.m.sort.markdup.bam </td><td>0.9834498</td><td>YJNRC8.bam </td></tr>\n",
       "\t<tr><td>YJNRC20A.m.sort.markdup.bam</td><td>YJNRC20B.m.sort.markdup.bam</td><td>0.9829513</td><td>YJNRC20.bam</td></tr>\n",
       "\t<tr><td>YJNRC5A.m.sort.markdup.bam </td><td>YJNRC5B.m.sort.markdup.bam </td><td>0.9825846</td><td>YJNRC5.bam </td></tr>\n",
       "\t<tr><td>YJNRC3A.m.sort.markdup.bam </td><td>YJNRC3B.m.sort.markdup.bam </td><td>0.9825085</td><td>YJNRC3.bam </td></tr>\n",
       "\t<tr><td>YJNRC29A.m.sort.markdup.bam</td><td>YJNRC29B.m.sort.markdup.bam</td><td>0.9818513</td><td>YJNRC29.bam</td></tr>\n",
       "\t<tr><td>YJNRC21A.m.sort.markdup.bam</td><td>YJNRC21B.m.sort.markdup.bam</td><td>0.9810434</td><td>YJNRC21.bam</td></tr>\n",
       "\t<tr><td>YJNRC34A.m.sort.markdup.bam</td><td>YJNRC34B.m.sort.markdup.bam</td><td>0.9795701</td><td>YJNRC34.bam</td></tr>\n",
       "\t<tr><td>YJNRC32A.m.sort.markdup.bam</td><td>YJNRC32B.m.sort.markdup.bam</td><td>0.9782009</td><td>YJNRC32.bam</td></tr>\n",
       "\t<tr><td>JG4.m.sort.markdup.bam     </td><td>YJNRC18.m.sort.markdup.bam </td><td>0.9645201</td><td>YJNRC18.bam</td></tr>\n",
       "\t<tr><td>JF3x1.m.sort.markdup.bam   </td><td>YJNRC2.m.sort.markdup.bam  </td><td>0.9577741</td><td>YJNRC2.bam </td></tr>\n",
       "</tbody>\n",
       "</table>\n"
      ],
      "text/latex": [
       "A rowwise\\_df: 13 x 4\n",
       "\\begin{tabular}{llll}\n",
       " ID1 & ID2 & cor & final\\_name\\\\\n",
       " <chr> & <chr> & <dbl> & <chr>\\\\\n",
       "\\hline\n",
       "\t YJNRC4A.m.sort.markdup.bam  & YJNRC4B.m.sort.markdup.bam  & 0.9887472 & YJNRC4.bam \\\\\n",
       "\t YJNRC23A.m.sort.markdup.bam & YJNRC23B.m.sort.markdup.bam & 0.9858588 & YJNRC23.bam\\\\\n",
       "\t YJNRC27A.m.sort.markdup.bam & YJNRC27B.m.sort.markdup.bam & 0.9856123 & YJNRC27.bam\\\\\n",
       "\t YJNRC8A.m.sort.markdup.bam  & YJNRC8B.m.sort.markdup.bam  & 0.9834498 & YJNRC8.bam \\\\\n",
       "\t YJNRC20A.m.sort.markdup.bam & YJNRC20B.m.sort.markdup.bam & 0.9829513 & YJNRC20.bam\\\\\n",
       "\t YJNRC5A.m.sort.markdup.bam  & YJNRC5B.m.sort.markdup.bam  & 0.9825846 & YJNRC5.bam \\\\\n",
       "\t YJNRC3A.m.sort.markdup.bam  & YJNRC3B.m.sort.markdup.bam  & 0.9825085 & YJNRC3.bam \\\\\n",
       "\t YJNRC29A.m.sort.markdup.bam & YJNRC29B.m.sort.markdup.bam & 0.9818513 & YJNRC29.bam\\\\\n",
       "\t YJNRC21A.m.sort.markdup.bam & YJNRC21B.m.sort.markdup.bam & 0.9810434 & YJNRC21.bam\\\\\n",
       "\t YJNRC34A.m.sort.markdup.bam & YJNRC34B.m.sort.markdup.bam & 0.9795701 & YJNRC34.bam\\\\\n",
       "\t YJNRC32A.m.sort.markdup.bam & YJNRC32B.m.sort.markdup.bam & 0.9782009 & YJNRC32.bam\\\\\n",
       "\t JG4.m.sort.markdup.bam      & YJNRC18.m.sort.markdup.bam  & 0.9645201 & YJNRC18.bam\\\\\n",
       "\t JF3x1.m.sort.markdup.bam    & YJNRC2.m.sort.markdup.bam   & 0.9577741 & YJNRC2.bam \\\\\n",
       "\\end{tabular}\n"
      ],
      "text/markdown": [
       "\n",
       "A rowwise_df: 13 x 4\n",
       "\n",
       "| ID1 &lt;chr&gt; | ID2 &lt;chr&gt; | cor &lt;dbl&gt; | final_name &lt;chr&gt; |\n",
       "|---|---|---|---|\n",
       "| YJNRC4A.m.sort.markdup.bam  | YJNRC4B.m.sort.markdup.bam  | 0.9887472 | YJNRC4.bam  |\n",
       "| YJNRC23A.m.sort.markdup.bam | YJNRC23B.m.sort.markdup.bam | 0.9858588 | YJNRC23.bam |\n",
       "| YJNRC27A.m.sort.markdup.bam | YJNRC27B.m.sort.markdup.bam | 0.9856123 | YJNRC27.bam |\n",
       "| YJNRC8A.m.sort.markdup.bam  | YJNRC8B.m.sort.markdup.bam  | 0.9834498 | YJNRC8.bam  |\n",
       "| YJNRC20A.m.sort.markdup.bam | YJNRC20B.m.sort.markdup.bam | 0.9829513 | YJNRC20.bam |\n",
       "| YJNRC5A.m.sort.markdup.bam  | YJNRC5B.m.sort.markdup.bam  | 0.9825846 | YJNRC5.bam  |\n",
       "| YJNRC3A.m.sort.markdup.bam  | YJNRC3B.m.sort.markdup.bam  | 0.9825085 | YJNRC3.bam  |\n",
       "| YJNRC29A.m.sort.markdup.bam | YJNRC29B.m.sort.markdup.bam | 0.9818513 | YJNRC29.bam |\n",
       "| YJNRC21A.m.sort.markdup.bam | YJNRC21B.m.sort.markdup.bam | 0.9810434 | YJNRC21.bam |\n",
       "| YJNRC34A.m.sort.markdup.bam | YJNRC34B.m.sort.markdup.bam | 0.9795701 | YJNRC34.bam |\n",
       "| YJNRC32A.m.sort.markdup.bam | YJNRC32B.m.sort.markdup.bam | 0.9782009 | YJNRC32.bam |\n",
       "| JG4.m.sort.markdup.bam      | YJNRC18.m.sort.markdup.bam  | 0.9645201 | YJNRC18.bam |\n",
       "| JF3x1.m.sort.markdup.bam    | YJNRC2.m.sort.markdup.bam   | 0.9577741 | YJNRC2.bam  |\n",
       "\n"
      ],
      "text/plain": [
       "   ID1                         ID2                         cor      \n",
       "1  YJNRC4A.m.sort.markdup.bam  YJNRC4B.m.sort.markdup.bam  0.9887472\n",
       "2  YJNRC23A.m.sort.markdup.bam YJNRC23B.m.sort.markdup.bam 0.9858588\n",
       "3  YJNRC27A.m.sort.markdup.bam YJNRC27B.m.sort.markdup.bam 0.9856123\n",
       "4  YJNRC8A.m.sort.markdup.bam  YJNRC8B.m.sort.markdup.bam  0.9834498\n",
       "5  YJNRC20A.m.sort.markdup.bam YJNRC20B.m.sort.markdup.bam 0.9829513\n",
       "6  YJNRC5A.m.sort.markdup.bam  YJNRC5B.m.sort.markdup.bam  0.9825846\n",
       "7  YJNRC3A.m.sort.markdup.bam  YJNRC3B.m.sort.markdup.bam  0.9825085\n",
       "8  YJNRC29A.m.sort.markdup.bam YJNRC29B.m.sort.markdup.bam 0.9818513\n",
       "9  YJNRC21A.m.sort.markdup.bam YJNRC21B.m.sort.markdup.bam 0.9810434\n",
       "10 YJNRC34A.m.sort.markdup.bam YJNRC34B.m.sort.markdup.bam 0.9795701\n",
       "11 YJNRC32A.m.sort.markdup.bam YJNRC32B.m.sort.markdup.bam 0.9782009\n",
       "12 JG4.m.sort.markdup.bam      YJNRC18.m.sort.markdup.bam  0.9645201\n",
       "13 JF3x1.m.sort.markdup.bam    YJNRC2.m.sort.markdup.bam   0.9577741\n",
       "   final_name \n",
       "1  YJNRC4.bam \n",
       "2  YJNRC23.bam\n",
       "3  YJNRC27.bam\n",
       "4  YJNRC8.bam \n",
       "5  YJNRC20.bam\n",
       "6  YJNRC5.bam \n",
       "7  YJNRC3.bam \n",
       "8  YJNRC29.bam\n",
       "9  YJNRC21.bam\n",
       "10 YJNRC34.bam\n",
       "11 YJNRC32.bam\n",
       "12 YJNRC18.bam\n",
       "13 YJNRC2.bam "
      ]
     },
     "metadata": {},
     "output_type": "display_data"
    },
    {
     "data": {
      "text/html": [
       "<table class=\"dataframe\">\n",
       "<caption>A data.table: 25 x 3</caption>\n",
       "<thead>\n",
       "\t<tr><th scope=col>file</th><th scope=col>custom_final_name</th><th scope=col>final_name</th></tr>\n",
       "\t<tr><th scope=col>&lt;chr&gt;</th><th scope=col>&lt;chr&gt;</th><th scope=col>&lt;chr&gt;</th></tr>\n",
       "</thead>\n",
       "<tbody>\n",
       "\t<tr><td>ChrisC2.m.sort.markdup.bam</td><td>NA                 </td><td>ChrisC2.bam        </td></tr>\n",
       "\t<tr><td>ChrisC3.m.sort.markdup.bam</td><td>NA                 </td><td>ChrisC3.bam        </td></tr>\n",
       "\t<tr><td>ChrisC4.m.sort.markdup.bam</td><td>NA                 </td><td>ChrisC4.bam        </td></tr>\n",
       "\t<tr><td>ChrisC5.m.sort.markdup.bam</td><td>NA                 </td><td>ChrisC5.bam        </td></tr>\n",
       "\t<tr><td>ChrisC6.m.sort.markdup.bam</td><td>NA                 </td><td>ChrisC6.bam        </td></tr>\n",
       "\t<tr><td>ChrisC7.m.sort.markdup.bam</td><td>NA                 </td><td>ChrisC7.bam        </td></tr>\n",
       "\t<tr><td>ChrisC8.m.sort.markdup.bam</td><td>NA                 </td><td>ChrisC8.bam        </td></tr>\n",
       "\t<tr><td>JF4.m.sort.markdup.bam    </td><td>YJNRC17.bam        </td><td>YJNRC17.bam        </td></tr>\n",
       "\t<tr><td>YJNRC1.m.sort.markdup.bam </td><td>NA                 </td><td>YJNRC1.bam         </td></tr>\n",
       "\t<tr><td>YJNRC6.m.sort.markdup.bam </td><td>NA                 </td><td>YJNRC6.bam         </td></tr>\n",
       "\t<tr><td>YJNRC7.m.sort.markdup.bam </td><td>NA                 </td><td>YJNRC7.bam         </td></tr>\n",
       "\t<tr><td>YJNRC9.m.sort.markdup.bam </td><td>NA                 </td><td>YJNRC9.bam         </td></tr>\n",
       "\t<tr><td>YJNRC11.m.sort.markdup.bam</td><td>NA                 </td><td>YJNRC11.bam        </td></tr>\n",
       "\t<tr><td>YJNRC12.m.sort.markdup.bam</td><td>NA                 </td><td>YJNRC12.bam        </td></tr>\n",
       "\t<tr><td>YJNRC14.m.sort.markdup.bam</td><td>NA                 </td><td>YJNRC14.bam        </td></tr>\n",
       "\t<tr><td>YJNRC15.m.sort.markdup.bam</td><td>NA                 </td><td>YJNRC15.bam        </td></tr>\n",
       "\t<tr><td>YJNRC16.m.sort.markdup.bam</td><td>NA                 </td><td>YJNRC16.bam        </td></tr>\n",
       "\t<tr><td>YJNRC17.m.sort.markdup.bam</td><td>dontuse_YJNRC17.bam</td><td>dontuse_YJNRC17.bam</td></tr>\n",
       "\t<tr><td>YJNRC19.m.sort.markdup.bam</td><td>NA                 </td><td>YJNRC19.bam        </td></tr>\n",
       "\t<tr><td>YJNRC22.m.sort.markdup.bam</td><td>NA                 </td><td>YJNRC22.bam        </td></tr>\n",
       "\t<tr><td>YJNRC24.m.sort.markdup.bam</td><td>NA                 </td><td>YJNRC24.bam        </td></tr>\n",
       "\t<tr><td>YJNRC25.m.sort.markdup.bam</td><td>NA                 </td><td>YJNRC25.bam        </td></tr>\n",
       "\t<tr><td>YJNRC26.m.sort.markdup.bam</td><td>NA                 </td><td>YJNRC26.bam        </td></tr>\n",
       "\t<tr><td>YJNRC30.m.sort.markdup.bam</td><td>NA                 </td><td>YJNRC30.bam        </td></tr>\n",
       "\t<tr><td>YJNRC31.m.sort.markdup.bam</td><td>NA                 </td><td>YJNRC31.bam        </td></tr>\n",
       "</tbody>\n",
       "</table>\n"
      ],
      "text/latex": [
       "A data.table: 25 x 3\n",
       "\\begin{tabular}{lll}\n",
       " file & custom\\_final\\_name & final\\_name\\\\\n",
       " <chr> & <chr> & <chr>\\\\\n",
       "\\hline\n",
       "\t ChrisC2.m.sort.markdup.bam & NA                  & ChrisC2.bam        \\\\\n",
       "\t ChrisC3.m.sort.markdup.bam & NA                  & ChrisC3.bam        \\\\\n",
       "\t ChrisC4.m.sort.markdup.bam & NA                  & ChrisC4.bam        \\\\\n",
       "\t ChrisC5.m.sort.markdup.bam & NA                  & ChrisC5.bam        \\\\\n",
       "\t ChrisC6.m.sort.markdup.bam & NA                  & ChrisC6.bam        \\\\\n",
       "\t ChrisC7.m.sort.markdup.bam & NA                  & ChrisC7.bam        \\\\\n",
       "\t ChrisC8.m.sort.markdup.bam & NA                  & ChrisC8.bam        \\\\\n",
       "\t JF4.m.sort.markdup.bam     & YJNRC17.bam         & YJNRC17.bam        \\\\\n",
       "\t YJNRC1.m.sort.markdup.bam  & NA                  & YJNRC1.bam         \\\\\n",
       "\t YJNRC6.m.sort.markdup.bam  & NA                  & YJNRC6.bam         \\\\\n",
       "\t YJNRC7.m.sort.markdup.bam  & NA                  & YJNRC7.bam         \\\\\n",
       "\t YJNRC9.m.sort.markdup.bam  & NA                  & YJNRC9.bam         \\\\\n",
       "\t YJNRC11.m.sort.markdup.bam & NA                  & YJNRC11.bam        \\\\\n",
       "\t YJNRC12.m.sort.markdup.bam & NA                  & YJNRC12.bam        \\\\\n",
       "\t YJNRC14.m.sort.markdup.bam & NA                  & YJNRC14.bam        \\\\\n",
       "\t YJNRC15.m.sort.markdup.bam & NA                  & YJNRC15.bam        \\\\\n",
       "\t YJNRC16.m.sort.markdup.bam & NA                  & YJNRC16.bam        \\\\\n",
       "\t YJNRC17.m.sort.markdup.bam & dontuse\\_YJNRC17.bam & dontuse\\_YJNRC17.bam\\\\\n",
       "\t YJNRC19.m.sort.markdup.bam & NA                  & YJNRC19.bam        \\\\\n",
       "\t YJNRC22.m.sort.markdup.bam & NA                  & YJNRC22.bam        \\\\\n",
       "\t YJNRC24.m.sort.markdup.bam & NA                  & YJNRC24.bam        \\\\\n",
       "\t YJNRC25.m.sort.markdup.bam & NA                  & YJNRC25.bam        \\\\\n",
       "\t YJNRC26.m.sort.markdup.bam & NA                  & YJNRC26.bam        \\\\\n",
       "\t YJNRC30.m.sort.markdup.bam & NA                  & YJNRC30.bam        \\\\\n",
       "\t YJNRC31.m.sort.markdup.bam & NA                  & YJNRC31.bam        \\\\\n",
       "\\end{tabular}\n"
      ],
      "text/markdown": [
       "\n",
       "A data.table: 25 x 3\n",
       "\n",
       "| file &lt;chr&gt; | custom_final_name &lt;chr&gt; | final_name &lt;chr&gt; |\n",
       "|---|---|---|\n",
       "| ChrisC2.m.sort.markdup.bam | NA                  | ChrisC2.bam         |\n",
       "| ChrisC3.m.sort.markdup.bam | NA                  | ChrisC3.bam         |\n",
       "| ChrisC4.m.sort.markdup.bam | NA                  | ChrisC4.bam         |\n",
       "| ChrisC5.m.sort.markdup.bam | NA                  | ChrisC5.bam         |\n",
       "| ChrisC6.m.sort.markdup.bam | NA                  | ChrisC6.bam         |\n",
       "| ChrisC7.m.sort.markdup.bam | NA                  | ChrisC7.bam         |\n",
       "| ChrisC8.m.sort.markdup.bam | NA                  | ChrisC8.bam         |\n",
       "| JF4.m.sort.markdup.bam     | YJNRC17.bam         | YJNRC17.bam         |\n",
       "| YJNRC1.m.sort.markdup.bam  | NA                  | YJNRC1.bam          |\n",
       "| YJNRC6.m.sort.markdup.bam  | NA                  | YJNRC6.bam          |\n",
       "| YJNRC7.m.sort.markdup.bam  | NA                  | YJNRC7.bam          |\n",
       "| YJNRC9.m.sort.markdup.bam  | NA                  | YJNRC9.bam          |\n",
       "| YJNRC11.m.sort.markdup.bam | NA                  | YJNRC11.bam         |\n",
       "| YJNRC12.m.sort.markdup.bam | NA                  | YJNRC12.bam         |\n",
       "| YJNRC14.m.sort.markdup.bam | NA                  | YJNRC14.bam         |\n",
       "| YJNRC15.m.sort.markdup.bam | NA                  | YJNRC15.bam         |\n",
       "| YJNRC16.m.sort.markdup.bam | NA                  | YJNRC16.bam         |\n",
       "| YJNRC17.m.sort.markdup.bam | dontuse_YJNRC17.bam | dontuse_YJNRC17.bam |\n",
       "| YJNRC19.m.sort.markdup.bam | NA                  | YJNRC19.bam         |\n",
       "| YJNRC22.m.sort.markdup.bam | NA                  | YJNRC22.bam         |\n",
       "| YJNRC24.m.sort.markdup.bam | NA                  | YJNRC24.bam         |\n",
       "| YJNRC25.m.sort.markdup.bam | NA                  | YJNRC25.bam         |\n",
       "| YJNRC26.m.sort.markdup.bam | NA                  | YJNRC26.bam         |\n",
       "| YJNRC30.m.sort.markdup.bam | NA                  | YJNRC30.bam         |\n",
       "| YJNRC31.m.sort.markdup.bam | NA                  | YJNRC31.bam         |\n",
       "\n"
      ],
      "text/plain": [
       "   file                       custom_final_name   final_name         \n",
       "1  ChrisC2.m.sort.markdup.bam NA                  ChrisC2.bam        \n",
       "2  ChrisC3.m.sort.markdup.bam NA                  ChrisC3.bam        \n",
       "3  ChrisC4.m.sort.markdup.bam NA                  ChrisC4.bam        \n",
       "4  ChrisC5.m.sort.markdup.bam NA                  ChrisC5.bam        \n",
       "5  ChrisC6.m.sort.markdup.bam NA                  ChrisC6.bam        \n",
       "6  ChrisC7.m.sort.markdup.bam NA                  ChrisC7.bam        \n",
       "7  ChrisC8.m.sort.markdup.bam NA                  ChrisC8.bam        \n",
       "8  JF4.m.sort.markdup.bam     YJNRC17.bam         YJNRC17.bam        \n",
       "9  YJNRC1.m.sort.markdup.bam  NA                  YJNRC1.bam         \n",
       "10 YJNRC6.m.sort.markdup.bam  NA                  YJNRC6.bam         \n",
       "11 YJNRC7.m.sort.markdup.bam  NA                  YJNRC7.bam         \n",
       "12 YJNRC9.m.sort.markdup.bam  NA                  YJNRC9.bam         \n",
       "13 YJNRC11.m.sort.markdup.bam NA                  YJNRC11.bam        \n",
       "14 YJNRC12.m.sort.markdup.bam NA                  YJNRC12.bam        \n",
       "15 YJNRC14.m.sort.markdup.bam NA                  YJNRC14.bam        \n",
       "16 YJNRC15.m.sort.markdup.bam NA                  YJNRC15.bam        \n",
       "17 YJNRC16.m.sort.markdup.bam NA                  YJNRC16.bam        \n",
       "18 YJNRC17.m.sort.markdup.bam dontuse_YJNRC17.bam dontuse_YJNRC17.bam\n",
       "19 YJNRC19.m.sort.markdup.bam NA                  YJNRC19.bam        \n",
       "20 YJNRC22.m.sort.markdup.bam NA                  YJNRC22.bam        \n",
       "21 YJNRC24.m.sort.markdup.bam NA                  YJNRC24.bam        \n",
       "22 YJNRC25.m.sort.markdup.bam NA                  YJNRC25.bam        \n",
       "23 YJNRC26.m.sort.markdup.bam NA                  YJNRC26.bam        \n",
       "24 YJNRC30.m.sort.markdup.bam NA                  YJNRC30.bam        \n",
       "25 YJNRC31.m.sort.markdup.bam NA                  YJNRC31.bam        "
      ]
     },
     "metadata": {},
     "output_type": "display_data"
    },
    {
     "data": {
      "text/plain": [
       "   Mode   FALSE \n",
       "logical      38 "
      ]
     },
     "metadata": {},
     "output_type": "display_data"
    }
   ],
   "source": [
    "to_merge=my_corrs_unique%>%filter(grepl(\"A.m\", ID1, fixed=TRUE) | ID1 == \"JG4.m.sort.markdup.bam\" | ID1 == \"JF3x1.m.sort.markdup.bam\")\n",
    "to_merge=mutate(to_merge, final_name=paste0(stringr::str_extract(ID2, \"(YJNRC\\\\d+)\"),\".bam\"))\n",
    "to_merge\n",
    "\n",
    "renames=data.table(file=naturalsort(unique(c(my_corrs$ID1,my_corrs$ID2))),custom_final_name=NA)%>%filter(!(file %in% c(to_merge$ID1,to_merge$ID2)))\n",
    "renames <- renames %>%\n",
    "  mutate(\n",
    "    custom_final_name = if_else(\n",
    "      file == \"JF4.m.sort.markdup.bam\",\n",
    "      \"YJNRC17.bam\",\n",
    "      custom_final_name\n",
    "    )\n",
    "  )\n",
    "\n",
    "renames <- renames %>%\n",
    "  mutate(\n",
    "    custom_final_name = case_when(\n",
    "      file == \"YJNRC17.m.sort.markdup.bam\" ~ \"dontuse_YJNRC17.bam\",\n",
    "      file == \"JF4.m.sort.markdup.bam\" ~ \"YJNRC17.bam\",\n",
    "      TRUE ~ custom_final_name\n",
    "    )\n",
    "  )\n",
    "\n",
    "renames=mutate(renames, final_name = if_else(\n",
    "      is.na(custom_final_name),\n",
    "      paste0(str_match(file, \"(.*?)\\\\.m\")[, 2], \".bam\"),\n",
    "      custom_final_name\n",
    "    ))\n",
    "renames\n",
    "\n",
    "summary(duplicated(c(to_merge$final_name, renames$final_name)))"
   ]
  },
  {
   "cell_type": "code",
   "execution_count": 104,
   "id": "83590974-2e62-4f83-b7a1-0ca915c6f54d",
   "metadata": {
    "tags": []
   },
   "outputs": [
    {
     "name": "stdout",
     "output_type": "stream",
     "text": [
      "[1] \"cd ~/data/trd/mapped_reads && samtools merge -o YJNRC4.bam YJNRC4A.m.sort.markdup.bam YJNRC4B.m.sort.markdup.bam\"\n",
      "[1] \"/home/jnrunge/data/trd/mapped_reads/scripts/merge-YJNRC4.bam.sbatch\"\n",
      "[1] \"cd ~/data/trd/mapped_reads && samtools merge -o YJNRC23.bam YJNRC23A.m.sort.markdup.bam YJNRC23B.m.sort.markdup.bam\"\n",
      "[1] \"/home/jnrunge/data/trd/mapped_reads/scripts/merge-YJNRC23.bam.sbatch\"\n",
      "[1] \"cd ~/data/trd/mapped_reads && samtools merge -o YJNRC27.bam YJNRC27A.m.sort.markdup.bam YJNRC27B.m.sort.markdup.bam\"\n",
      "[1] \"/home/jnrunge/data/trd/mapped_reads/scripts/merge-YJNRC27.bam.sbatch\"\n",
      "[1] \"cd ~/data/trd/mapped_reads && samtools merge -o YJNRC8.bam YJNRC8A.m.sort.markdup.bam YJNRC8B.m.sort.markdup.bam\"\n",
      "[1] \"/home/jnrunge/data/trd/mapped_reads/scripts/merge-YJNRC8.bam.sbatch\"\n",
      "[1] \"cd ~/data/trd/mapped_reads && samtools merge -o YJNRC20.bam YJNRC20A.m.sort.markdup.bam YJNRC20B.m.sort.markdup.bam\"\n",
      "[1] \"/home/jnrunge/data/trd/mapped_reads/scripts/merge-YJNRC20.bam.sbatch\"\n",
      "[1] \"cd ~/data/trd/mapped_reads && samtools merge -o YJNRC5.bam YJNRC5A.m.sort.markdup.bam YJNRC5B.m.sort.markdup.bam\"\n",
      "[1] \"/home/jnrunge/data/trd/mapped_reads/scripts/merge-YJNRC5.bam.sbatch\"\n",
      "[1] \"cd ~/data/trd/mapped_reads && samtools merge -o YJNRC3.bam YJNRC3A.m.sort.markdup.bam YJNRC3B.m.sort.markdup.bam\"\n",
      "[1] \"/home/jnrunge/data/trd/mapped_reads/scripts/merge-YJNRC3.bam.sbatch\"\n",
      "[1] \"cd ~/data/trd/mapped_reads && samtools merge -o YJNRC29.bam YJNRC29A.m.sort.markdup.bam YJNRC29B.m.sort.markdup.bam\"\n",
      "[1] \"/home/jnrunge/data/trd/mapped_reads/scripts/merge-YJNRC29.bam.sbatch\"\n",
      "[1] \"cd ~/data/trd/mapped_reads && samtools merge -o YJNRC21.bam YJNRC21A.m.sort.markdup.bam YJNRC21B.m.sort.markdup.bam\"\n",
      "[1] \"/home/jnrunge/data/trd/mapped_reads/scripts/merge-YJNRC21.bam.sbatch\"\n",
      "[1] \"cd ~/data/trd/mapped_reads && samtools merge -o YJNRC34.bam YJNRC34A.m.sort.markdup.bam YJNRC34B.m.sort.markdup.bam\"\n",
      "[1] \"/home/jnrunge/data/trd/mapped_reads/scripts/merge-YJNRC34.bam.sbatch\"\n",
      "[1] \"cd ~/data/trd/mapped_reads && samtools merge -o YJNRC32.bam YJNRC32A.m.sort.markdup.bam YJNRC32B.m.sort.markdup.bam\"\n",
      "[1] \"/home/jnrunge/data/trd/mapped_reads/scripts/merge-YJNRC32.bam.sbatch\"\n",
      "[1] \"cd ~/data/trd/mapped_reads && samtools merge -o YJNRC18.bam JG4.m.sort.markdup.bam YJNRC18.m.sort.markdup.bam\"\n",
      "[1] \"/home/jnrunge/data/trd/mapped_reads/scripts/merge-YJNRC18.bam.sbatch\"\n",
      "[1] \"cd ~/data/trd/mapped_reads && samtools merge -o YJNRC2.bam JF3x1.m.sort.markdup.bam YJNRC2.m.sort.markdup.bam\"\n",
      "[1] \"/home/jnrunge/data/trd/mapped_reads/scripts/merge-YJNRC2.bam.sbatch\"\n",
      "[1] \"13 /home/jnrunge/data/trd/mapped_reads/scripts/merge.list\"\n",
      "[1] \"[1] \\\"Currently running 0 jobs.\\\"\"               \n",
      "[2] \"[1] \\\"13 sbatches remaining! Running 6 more...\\\"\"\n",
      "[3] \"[1] \\\"Submitted batch job 499749\\\"\"              \n",
      "[4] \"[1] \\\"Submitted batch job 499751\\\"\"              \n",
      "[5] \"[1] \\\"Submitted batch job 499752\\\"\"              \n",
      "[6] \"[1] \\\"Submitted batch job 499753\\\"\"              \n",
      "[7] \"[1] \\\"Submitted batch job 499754\\\"\"              \n",
      "[8] \"[1] \\\"Submitted batch job 499755\\\"\"              \n"
     ]
    }
   ],
   "source": [
    "jobname=\"merge\"\n",
    "\n",
    "for(i in 1:nrow(to_merge)){\n",
    "    cmd=paste0(\"cd ~/data/trd/mapped_reads && samtools merge -o \",to_merge$final_name[i],\" \",to_merge$ID1[i],\" \",to_merge$ID2[i],\"\")\n",
    "    print(cmd)\n",
    "    \n",
    "    sbatch_list=execute_complex_sbatch(cmd, jobname = jobname, scripts_dir = scripts_dir, uniqueRunID = basename(to_merge$final_name[i]), cores=\"1\", mem=\"6gb\", time=\"long\", env=\"bwaetc\", initial_timedate = initial_timedate, jobs_simul = 3, jobs_total = 50)\n",
    "}\n",
    "\n",
    "\n",
    "start_sbatch_list(sbatch_list, 5, jobname, initial_timedate)\n"
   ]
  },
  {
   "cell_type": "code",
   "execution_count": 105,
   "id": "d1289a6c-bd5b-4fa0-820c-f7c8184fbbd3",
   "metadata": {
    "tags": []
   },
   "outputs": [],
   "source": [
    "for(i in 1:nrow(renames)){\n",
    "    file.rename(paste0(\"~/data/trd/mapped_reads/\",renames$file[i]),\n",
    "               paste0(\"~/data/trd/mapped_reads/\",renames$final_name[i]))\n",
    "}"
   ]
  },
  {
   "cell_type": "code",
   "execution_count": 109,
   "id": "e815ee82-6eaf-46e2-94c8-6bc550543551",
   "metadata": {
    "tags": []
   },
   "outputs": [
    {
     "name": "stdout",
     "output_type": "stream",
     "text": [
      "[1] \"JF3x1.m.sort.markdup.bam\"\n",
      "[1] \"JG4.m.sort.markdup.bam\"\n",
      "[1] \"YJNRC2.m.sort.markdup.bam\"\n",
      "[1] \"YJNRC3A.m.sort.markdup.bam\"\n",
      "[1] \"YJNRC3B.m.sort.markdup.bam\"\n",
      "[1] \"YJNRC4A.m.sort.markdup.bam\"\n",
      "[1] \"YJNRC4B.m.sort.markdup.bam\"\n",
      "[1] \"YJNRC5A.m.sort.markdup.bam\"\n",
      "[1] \"YJNRC5B.m.sort.markdup.bam\"\n",
      "[1] \"YJNRC8A.m.sort.markdup.bam\"\n",
      "[1] \"YJNRC8B.m.sort.markdup.bam\"\n",
      "[1] \"YJNRC18.m.sort.markdup.bam\"\n",
      "[1] \"YJNRC20A.m.sort.markdup.bam\"\n",
      "[1] \"YJNRC20B.m.sort.markdup.bam\"\n",
      "[1] \"YJNRC21A.m.sort.markdup.bam\"\n",
      "[1] \"YJNRC21B.m.sort.markdup.bam\"\n",
      "[1] \"YJNRC23A.m.sort.markdup.bam\"\n",
      "[1] \"YJNRC23B.m.sort.markdup.bam\"\n",
      "[1] \"YJNRC27A.m.sort.markdup.bam\"\n",
      "[1] \"YJNRC27B.m.sort.markdup.bam\"\n",
      "[1] \"YJNRC29A.m.sort.markdup.bam\"\n",
      "[1] \"YJNRC29B.m.sort.markdup.bam\"\n",
      "[1] \"YJNRC32A.m.sort.markdup.bam\"\n",
      "[1] \"YJNRC32B.m.sort.markdup.bam\"\n",
      "[1] \"YJNRC34A.m.sort.markdup.bam\"\n",
      "[1] \"YJNRC34B.m.sort.markdup.bam\"\n"
     ]
    }
   ],
   "source": [
    "stop(\"All done?\")\n",
    "\n",
    "for(f in naturalsort(unique(c(to_merge$ID1,to_merge$ID2)))){\n",
    "    print(f)\n",
    "    file.remove(file.path(\"~/data/trd/mapped_reads/\",f))\n",
    "}"
   ]
  },
  {
   "cell_type": "code",
   "execution_count": null,
   "id": "df3c9e81-d880-4cf5-a423-4e6d24db1d12",
   "metadata": {},
   "outputs": [],
   "source": [
    "# maybe recycle this:\n",
    "\n",
    "\n",
    "# finally, rename BAMs\n",
    "# need to add sequencing names to Crosses.xlsx\n",
    "# for the moment:\n",
    "\n",
    "renaming=data.frame(fastq=NA,bam=basename(bam_files),Jname=NA)\n",
    "renaming$Jname=c(\"YJNRC2.bam\",\"YJNRC17.bam\",\"YJNRC18.bam\")\n",
    "renaming\n",
    "setwd(dirname(bam_files[1]))\n",
    "for(i in 1:nrow(renaming)){\n",
    "    cmd=paste0(\"ln -sf \",renaming$bam[i],\" \",renaming$Jname[i])\n",
    "    print(cmd)\n",
    "    print(system(command=cmd,intern=TRUE))\n",
    "    cmd=paste0(\"ln -sf \",renaming$bam[i],\".bai \",renaming$Jname[i],\".bai\")\n",
    "    print(cmd)\n",
    "    print(system(command=cmd,intern=TRUE))\n",
    "}"
   ]
  }
 ],
 "metadata": {
  "kernelspec": {
   "display_name": "R",
   "language": "R",
   "name": "ir"
  },
  "language_info": {
   "codemirror_mode": "r",
   "file_extension": ".r",
   "mimetype": "text/x-r-source",
   "name": "R",
   "pygments_lexer": "r",
   "version": "4.1.3"
  }
 },
 "nbformat": 4,
 "nbformat_minor": 5
}

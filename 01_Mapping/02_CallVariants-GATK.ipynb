{
 "cells": [
  {
   "cell_type": "markdown",
   "id": "78ac94e6-bc0b-4462-8237-4c95ef2006bd",
   "metadata": {},
   "source": [
    "What I need to do here to make sure that there is no confusion about the positions of opposite homozygotes is to call SNPs using the joint calling with the 2K matrix."
   ]
  },
  {
   "cell_type": "code",
   "execution_count": 15,
   "id": "46189d4f-58fb-49a4-9389-ac2660dc4a6c",
   "metadata": {
    "scrolled": true,
    "tags": []
   },
   "outputs": [
    {
     "name": "stderr",
     "output_type": "stream",
     "text": [
      "\u001b[1m\u001b[22mNew names:\n",
      "\u001b[36m*\u001b[39m `Is in Stock` -> `Is in Stock...4`\n",
      "\u001b[36m*\u001b[39m `Is in Stock` -> `Is in Stock...6`\n"
     ]
    },
    {
     "data": {
      "text/plain": [
       "   Mode    TRUE \n",
       "logical      57 "
      ]
     },
     "metadata": {},
     "output_type": "display_data"
    },
    {
     "data": {
      "text/html": [],
      "text/latex": [],
      "text/markdown": [],
      "text/plain": [
       "character(0)"
      ]
     },
     "metadata": {},
     "output_type": "display_data"
    },
    {
     "data": {
      "text/html": [
       "<table class=\"dataframe\">\n",
       "<caption>A data.frame: 6 x 2</caption>\n",
       "<thead>\n",
       "\t<tr><th></th><th scope=col>id</th><th scope=col>file</th></tr>\n",
       "\t<tr><th></th><th scope=col>&lt;chr&gt;</th><th scope=col>&lt;chr&gt;</th></tr>\n",
       "</thead>\n",
       "<tbody>\n",
       "\t<tr><th scope=row>1</th><td>YJNRC2</td><td>/home/jnrunge/data/trd/mapped_reads/YJNRC2.g.vcf.gz </td></tr>\n",
       "\t<tr><th scope=row>2</th><td>BAK   </td><td>/home/jnrunge/data/trd/GVCF_2489Strains/BAK.g.vcf.gz</td></tr>\n",
       "\t<tr><th scope=row>3</th><td>BAN   </td><td>/home/jnrunge/data/trd/GVCF_2489Strains/BAN.g.vcf.gz</td></tr>\n",
       "\t<tr><th scope=row>4</th><td>AKH   </td><td>/home/jnrunge/data/trd/GVCF_2489Strains/AKH.g.vcf.gz</td></tr>\n",
       "\t<tr><th scope=row>5</th><td>ABS   </td><td>/home/jnrunge/data/trd/GVCF_2489Strains/ABS.g.vcf.gz</td></tr>\n",
       "\t<tr><th scope=row>6</th><td>AMM   </td><td>/home/jnrunge/data/trd/GVCF_2489Strains/AMM.g.vcf.gz</td></tr>\n",
       "</tbody>\n",
       "</table>\n"
      ],
      "text/latex": [
       "A data.frame: 6 x 2\n",
       "\\begin{tabular}{r|ll}\n",
       "  & id & file\\\\\n",
       "  & <chr> & <chr>\\\\\n",
       "\\hline\n",
       "\t1 & YJNRC2 & /home/jnrunge/data/trd/mapped\\_reads/YJNRC2.g.vcf.gz \\\\\n",
       "\t2 & BAK    & /home/jnrunge/data/trd/GVCF\\_2489Strains/BAK.g.vcf.gz\\\\\n",
       "\t3 & BAN    & /home/jnrunge/data/trd/GVCF\\_2489Strains/BAN.g.vcf.gz\\\\\n",
       "\t4 & AKH    & /home/jnrunge/data/trd/GVCF\\_2489Strains/AKH.g.vcf.gz\\\\\n",
       "\t5 & ABS    & /home/jnrunge/data/trd/GVCF\\_2489Strains/ABS.g.vcf.gz\\\\\n",
       "\t6 & AMM    & /home/jnrunge/data/trd/GVCF\\_2489Strains/AMM.g.vcf.gz\\\\\n",
       "\\end{tabular}\n"
      ],
      "text/markdown": [
       "\n",
       "A data.frame: 6 x 2\n",
       "\n",
       "| <!--/--> | id &lt;chr&gt; | file &lt;chr&gt; |\n",
       "|---|---|---|\n",
       "| 1 | YJNRC2 | /home/jnrunge/data/trd/mapped_reads/YJNRC2.g.vcf.gz  |\n",
       "| 2 | BAK    | /home/jnrunge/data/trd/GVCF_2489Strains/BAK.g.vcf.gz |\n",
       "| 3 | BAN    | /home/jnrunge/data/trd/GVCF_2489Strains/BAN.g.vcf.gz |\n",
       "| 4 | AKH    | /home/jnrunge/data/trd/GVCF_2489Strains/AKH.g.vcf.gz |\n",
       "| 5 | ABS    | /home/jnrunge/data/trd/GVCF_2489Strains/ABS.g.vcf.gz |\n",
       "| 6 | AMM    | /home/jnrunge/data/trd/GVCF_2489Strains/AMM.g.vcf.gz |\n",
       "\n"
      ],
      "text/plain": [
       "  id     file                                                \n",
       "1 YJNRC2 /home/jnrunge/data/trd/mapped_reads/YJNRC2.g.vcf.gz \n",
       "2 BAK    /home/jnrunge/data/trd/GVCF_2489Strains/BAK.g.vcf.gz\n",
       "3 BAN    /home/jnrunge/data/trd/GVCF_2489Strains/BAN.g.vcf.gz\n",
       "4 AKH    /home/jnrunge/data/trd/GVCF_2489Strains/AKH.g.vcf.gz\n",
       "5 ABS    /home/jnrunge/data/trd/GVCF_2489Strains/ABS.g.vcf.gz\n",
       "6 AMM    /home/jnrunge/data/trd/GVCF_2489Strains/AMM.g.vcf.gz"
      ]
     },
     "metadata": {},
     "output_type": "display_data"
    }
   ],
   "source": [
    "library(readxl)\n",
    "\n",
    "source(\"../../BrusselSprouts/scripts/functions.R\")\n",
    "crosses=list.files(\"~/data/trd/mapped_reads\",pattern = \"g.vcf.gz$\",full.names = TRUE)\n",
    "\n",
    "my_crosses=read_xlsx(\"~/data/trd/Crosses.xlsx\", sheet=2)[,c(\"Short name 1\", \"Short name 2\", \"Status\", \"Colonies in pool\")]\n",
    "chris_crosses=data.frame(sample1=c(\"ACP\",\"BAP\",\"CCD\",\"ATE\",\"ACK\",\"AKE\",\"BAH\",\"ANG\"),\n",
    "                        sample2=c(\"BFP\",\"CMP\",\"CPG\",\"YCR\",\"ACV\",\"BAH\",\"CGD\",\"CEI\"))\n",
    "all_used_samples=unique(c(my_crosses$`Short name 1`, my_crosses$`Short name 2`, chris_crosses$sample1, chris_crosses$sample2))\n",
    "all_used_samples[all_used_samples==\"YCR\"]=paste0(\"SACE_\",all_used_samples[all_used_samples==\"YCR\"])\n",
    "summary(file.exists(paste0(\"/home/jnrunge/data/trd/GVCF_2489Strains/\",all_used_samples,\".g.vcf.gz\")))\n",
    "\n",
    "all_used_samples[!file.exists(paste0(\"/home/jnrunge/data/trd/GVCF_2489Strains/\",all_used_samples,\".g.vcf.gz\"))]\n",
    "\n",
    "\n",
    "samples=c(crosses,paste0(\"/home/jnrunge/data/trd/GVCF_2489Strains/\",all_used_samples,\".g.vcf.gz\"))\n",
    "samples=data.frame(id=unlist(lapply(basename(samples), getFirst_v2, split=\".\")),file=samples)\n",
    "fwrite(samples, \"~/data/trd/mapped_reads/all_samples.tsv\", col.names = FALSE, sep=\"\\t\")\n",
    "head(samples)"
   ]
  },
  {
   "cell_type": "code",
   "execution_count": 9,
   "id": "3419da66-d987-4b20-ac02-c5985c661463",
   "metadata": {
    "tags": []
   },
   "outputs": [
    {
     "data": {
      "text/html": [
       "<table class=\"dataframe\">\n",
       "<caption>A data.frame: 6 x 3</caption>\n",
       "<thead>\n",
       "\t<tr><th></th><th scope=col>chr</th><th scope=col>from</th><th scope=col>to</th></tr>\n",
       "\t<tr><th></th><th scope=col>&lt;chr&gt;</th><th scope=col>&lt;dbl&gt;</th><th scope=col>&lt;int&gt;</th></tr>\n",
       "</thead>\n",
       "<tbody>\n",
       "\t<tr><th scope=row>1</th><td>chromosome1</td><td>1</td><td> 230218</td></tr>\n",
       "\t<tr><th scope=row>2</th><td>chromosome2</td><td>1</td><td> 813184</td></tr>\n",
       "\t<tr><th scope=row>3</th><td>chromosome3</td><td>1</td><td> 316620</td></tr>\n",
       "\t<tr><th scope=row>4</th><td>chromosome4</td><td>1</td><td>1531933</td></tr>\n",
       "\t<tr><th scope=row>5</th><td>chromosome5</td><td>1</td><td> 576874</td></tr>\n",
       "\t<tr><th scope=row>6</th><td>chromosome6</td><td>1</td><td> 270161</td></tr>\n",
       "</tbody>\n",
       "</table>\n"
      ],
      "text/latex": [
       "A data.frame: 6 x 3\n",
       "\\begin{tabular}{r|lll}\n",
       "  & chr & from & to\\\\\n",
       "  & <chr> & <dbl> & <int>\\\\\n",
       "\\hline\n",
       "\t1 & chromosome1 & 1 &  230218\\\\\n",
       "\t2 & chromosome2 & 1 &  813184\\\\\n",
       "\t3 & chromosome3 & 1 &  316620\\\\\n",
       "\t4 & chromosome4 & 1 & 1531933\\\\\n",
       "\t5 & chromosome5 & 1 &  576874\\\\\n",
       "\t6 & chromosome6 & 1 &  270161\\\\\n",
       "\\end{tabular}\n"
      ],
      "text/markdown": [
       "\n",
       "A data.frame: 6 x 3\n",
       "\n",
       "| <!--/--> | chr &lt;chr&gt; | from &lt;dbl&gt; | to &lt;int&gt; |\n",
       "|---|---|---|---|\n",
       "| 1 | chromosome1 | 1 |  230218 |\n",
       "| 2 | chromosome2 | 1 |  813184 |\n",
       "| 3 | chromosome3 | 1 |  316620 |\n",
       "| 4 | chromosome4 | 1 | 1531933 |\n",
       "| 5 | chromosome5 | 1 |  576874 |\n",
       "| 6 | chromosome6 | 1 |  270161 |\n",
       "\n"
      ],
      "text/plain": [
       "  chr         from to     \n",
       "1 chromosome1 1     230218\n",
       "2 chromosome2 1     813184\n",
       "3 chromosome3 1     316620\n",
       "4 chromosome4 1    1531933\n",
       "5 chromosome5 1     576874\n",
       "6 chromosome6 1     270161"
      ]
     },
     "metadata": {},
     "output_type": "display_data"
    }
   ],
   "source": [
    "# make BED file (all positions because GATK is retarded)\n",
    "fai=fread(\"~/data/TRD/R64_nucl.fasta.fai\")\n",
    "bed=data.frame(chr=fai$V1, from=1, to=fai$V2)\n",
    "head(bed)\n",
    "fwrite(bed, \"~/data/TRD/R64_nucl.fasta.fai.bed\", col.names = FALSE, sep=\"\\t\")"
   ]
  },
  {
   "cell_type": "code",
   "execution_count": 20,
   "id": "cd5a5421-e62b-4315-9d19-a044bfb43644",
   "metadata": {},
   "outputs": [],
   "source": [
    "scripts_dir=\"/home/jnrunge/data/trd/mapped_reads/scripts/\""
   ]
  },
  {
   "cell_type": "code",
   "execution_count": 27,
   "id": "fea63173-9840-41fc-b3d9-6893a282f9df",
   "metadata": {
    "tags": []
   },
   "outputs": [
    {
     "name": "stdout",
     "output_type": "stream",
     "text": [
      "[1] \"YJNRC2\"\n",
      "[1] \"GVCF exists\"\n",
      "[1] \"YJNRC17\"\n",
      "[1] \"/home/jnrunge/data/trd/mapped_reads/scripts/GATK-YJNRC17.sbatch\"\n",
      "[1] \"YJNRC18\"\n",
      "[1] \"/home/jnrunge/data/trd/mapped_reads/scripts/GATK-YJNRC18.sbatch\"\n",
      "[1] \"2 /home/jnrunge/data/trd/mapped_reads/scripts/GATK.list\"\n",
      "[1] \"[1] \\\"Currently running 0 jobs.\\\"\"               \n",
      "[2] \"[1] \\\"2 sbatches remaining! Running 11 more...\\\"\"\n",
      "[3] \"[1] \\\"Submitted batch job 462634\\\"\"              \n",
      "[4] \"[1] \\\"Submitted batch job 462635\\\"\"              \n"
     ]
    }
   ],
   "source": [
    "initial_timedate=Sys.time()\n",
    "\n",
    "# what needs to be done is individually, and parallely genotype all crosses, then merge them into a DB, and once call the joint genotyping (once per batch of sequencing, so twice in total)\n",
    "\n",
    "bam_files=list.files(path=\"~/data/trd/mapped_reads\",pattern=\"JNRC[0-9]*.bam$\",full.names = TRUE)\n",
    "bam_files=naturalsort(bam_files)\n",
    "crosses=unlist(lapply(basename(bam_files), getFirst_v2, split=\".\"))\n",
    "for(cross in crosses){\n",
    "    print(cross)\n",
    "\n",
    "    if(file.exists(paste0(\"/home/jnrunge/data/trd/mapped_reads/\",cross,\".g.vcf.gz\"))){\n",
    "        print(\"GVCF exists\")\n",
    "        next\n",
    "    }\n",
    "\n",
    "    cmds=paste0(\"cd /home/jnrunge/data/trd/mapped_reads/ && gatk AddOrReplaceReadGroups -I \",cross,\".bam -O \",cross,\".ReadGroups.bam --RGID \",cross,\" --RGLB \",cross,\" --RGPL ILLUMINA --RGPU \",cross,\" --RGSM \",cross,\"\")\n",
    "    cmds=c(cmds,paste0(\"mv -f \",cross,\".ReadGroups.bam \",cross,\".bam\"))\n",
    "    cmds=c(cmds,paste0(\"samtools index \",cross,\".bam\"))\n",
    "    cmds=c(cmds,paste0(\"gatk HaplotypeCaller -R ../../TRD/R64_nucl.fasta -I \",cross,\".bam -O \",cross,\".g.vcf.gz --emit-ref-confidence GVCF\"))\n",
    "\n",
    "    sbatch_list=execute_complex_sbatch(cmds, jobname = jobname<-\"GATK\", scripts_dir = scripts_dir, uniqueRunID = cross, cores=\"1\", mem=\"8gb\", time=\"short\", env=\"bwaetc\", initial_timedate = initial_timedate, jobs_simul = 10, jobs_total = 10)\n",
    "\n",
    "\n",
    "}\n",
    "\n",
    "if(exists(\"sbatch_list\")){\n",
    "    start_sbatch_list(sbatch_list, 10, jobname, initial_timedate)\n",
    "    }"
   ]
  },
  {
   "cell_type": "markdown",
   "id": "940548d7-3df6-4abf-9dfc-4625ebd733e5",
   "metadata": {},
   "source": [
    "running C2 in int1\n",
    "\n",
    "````bash\n",
    "\n",
    "gatk GenomicsDBImport --batch-size 200 --genomicsdb-workspace-path TRD_DB --sample-name-map ~/data/trd/mapped_reads/all_samples.tsv -L ~/data/TRD/R64_nucl.fasta.fai.bed\n",
    "\n",
    "gatk GenotypeGVCFs -R ../../TRD/R64_nucl.fasta -V gendb://TRD_DB -O TRD.vcf.gz\n",
    "\n",
    "\n",
    "````"
   ]
  },
  {
   "cell_type": "code",
   "execution_count": null,
   "id": "8214b07a-5360-4927-9df8-334698e1a528",
   "metadata": {},
   "outputs": [],
   "source": []
  }
 ],
 "metadata": {
  "kernelspec": {
   "display_name": "R",
   "language": "R",
   "name": "ir"
  },
  "language_info": {
   "codemirror_mode": "r",
   "file_extension": ".r",
   "mimetype": "text/x-r-source",
   "name": "R",
   "pygments_lexer": "r",
   "version": "4.1.3"
  }
 },
 "nbformat": 4,
 "nbformat_minor": 5
}

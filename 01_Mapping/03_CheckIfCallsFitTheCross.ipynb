{
 "cells": [
  {
   "cell_type": "markdown",
   "id": "68f0f9ac-6910-4a4a-b9e2-3c5362844411",
   "metadata": {},
   "source": [
    "The idea here is to take the reference homozygous calls (much like in the TRD analyses) and compare \n",
    "1) how well they overlap with the het calls of the cross\n",
    "2) if they overlap better with any other (use a combination matrix of all strains that I crossed)"
   ]
  }
 ],
 "metadata": {
  "kernelspec": {
   "display_name": "R",
   "language": "R",
   "name": "ir"
  },
  "language_info": {
   "codemirror_mode": "r",
   "file_extension": ".r",
   "mimetype": "text/x-r-source",
   "name": "R",
   "pygments_lexer": "r",
   "version": "4.1.3"
  }
 },
 "nbformat": 4,
 "nbformat_minor": 5
}

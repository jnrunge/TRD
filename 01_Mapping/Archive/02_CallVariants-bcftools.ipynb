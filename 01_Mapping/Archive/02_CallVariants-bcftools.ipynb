{
 "cells": [
  {
   "cell_type": "code",
   "execution_count": 1,
   "id": "5c0af5d7-5bdd-45c4-9d73-83330d3c31b9",
   "metadata": {
    "tags": []
   },
   "outputs": [
    {
     "name": "stderr",
     "output_type": "stream",
     "text": [
      "\n",
      "Attaching package: 'dplyr'\n",
      "\n",
      "\n",
      "The following objects are masked from 'package:data.table':\n",
      "\n",
      "    between, first, last\n",
      "\n",
      "\n",
      "The following objects are masked from 'package:stats':\n",
      "\n",
      "    filter, lag\n",
      "\n",
      "\n",
      "The following objects are masked from 'package:base':\n",
      "\n",
      "    intersect, setdiff, setequal, union\n",
      "\n",
      "\n"
     ]
    }
   ],
   "source": [
    "source(\"../../BrusselSprouts/scripts/functions.R\")\n",
    "source(\"02_MpileupFunctions.r\")\n",
    "time_start=Sys.time()"
   ]
  },
  {
   "cell_type": "code",
   "execution_count": 2,
   "id": "f414e8b3-b0ff-451d-86b6-80822e2ddedc",
   "metadata": {
    "tags": []
   },
   "outputs": [],
   "source": [
    "reference=\"/home/jnrunge/data/TRD/R64_nucl.fasta\""
   ]
  },
  {
   "cell_type": "code",
   "execution_count": 3,
   "id": "6b76ebd1-e6c9-4696-81e2-0198005aed48",
   "metadata": {},
   "outputs": [
    {
     "data": {
      "text/html": [
       "<style>\n",
       ".list-inline {list-style: none; margin:0; padding: 0}\n",
       ".list-inline>li {display: inline-block}\n",
       ".list-inline>li:not(:last-child)::after {content: \"\\00b7\"; padding: 0 .5ex}\n",
       "</style>\n",
       "<ol class=list-inline><li>'/home/jnrunge/data/trd/mapped_reads/YJNRC2.bam'</li><li>'/home/jnrunge/data/trd/mapped_reads/YJNRC17.bam'</li><li>'/home/jnrunge/data/trd/mapped_reads/YJNRC18.bam'</li></ol>\n"
      ],
      "text/latex": [
       "\\begin{enumerate*}\n",
       "\\item '/home/jnrunge/data/trd/mapped\\_reads/YJNRC2.bam'\n",
       "\\item '/home/jnrunge/data/trd/mapped\\_reads/YJNRC17.bam'\n",
       "\\item '/home/jnrunge/data/trd/mapped\\_reads/YJNRC18.bam'\n",
       "\\end{enumerate*}\n"
      ],
      "text/markdown": [
       "1. '/home/jnrunge/data/trd/mapped_reads/YJNRC2.bam'\n",
       "2. '/home/jnrunge/data/trd/mapped_reads/YJNRC17.bam'\n",
       "3. '/home/jnrunge/data/trd/mapped_reads/YJNRC18.bam'\n",
       "\n",
       "\n"
      ],
      "text/plain": [
       "[1] \"/home/jnrunge/data/trd/mapped_reads/YJNRC2.bam\" \n",
       "[2] \"/home/jnrunge/data/trd/mapped_reads/YJNRC17.bam\"\n",
       "[3] \"/home/jnrunge/data/trd/mapped_reads/YJNRC18.bam\""
      ]
     },
     "metadata": {},
     "output_type": "display_data"
    }
   ],
   "source": [
    "bam_files=list.files(path=\"~/data/trd/mapped_reads\",pattern=\"JNRC[0-9]*.bam$\",full.names = TRUE)\n",
    "bam_files=naturalsort(bam_files)\n",
    "bam_files"
   ]
  },
  {
   "cell_type": "code",
   "execution_count": 10,
   "id": "43cf7972-6ae9-4260-902e-d8807060986b",
   "metadata": {
    "tags": []
   },
   "outputs": [
    {
     "name": "stdout",
     "output_type": "stream",
     "text": [
      "[1] \"sbatch -c 1 --mem=16G --job-name=BCFTOOLS -p fast -t 119:59:00 --wrap '. ~/activate.sh bwaetc; bcftools mpileup -q 30 -Q 30 -a FORMAT/AD,FORMAT/DP -Ou -f /home/jnrunge/data/TRD/R64_nucl.fasta /home/jnrunge/data/trd/mapped_reads/YJNRC2.bam | bcftools call -m -Oz -o /home/jnrunge/data/trd/mapped_reads/YJNRC2.vcf.gz'\"\n",
      "[1] \"Submitted batch job 461827\"\n",
      "[1] \"sbatch -c 1 --mem=16G --job-name=BCFTOOLS -p fast -t 119:59:00 --wrap '. ~/activate.sh bwaetc; bcftools mpileup -q 30 -Q 30 -a FORMAT/AD,FORMAT/DP -Ou -f /home/jnrunge/data/TRD/R64_nucl.fasta /home/jnrunge/data/trd/mapped_reads/YJNRC17.bam | bcftools call -m -Oz -o /home/jnrunge/data/trd/mapped_reads/YJNRC17.vcf.gz'\"\n",
      "[1] \"Submitted batch job 461828\"\n",
      "[1] \"sbatch -c 1 --mem=16G --job-name=BCFTOOLS -p fast -t 119:59:00 --wrap '. ~/activate.sh bwaetc; bcftools mpileup -q 30 -Q 30 -a FORMAT/AD,FORMAT/DP -Ou -f /home/jnrunge/data/TRD/R64_nucl.fasta /home/jnrunge/data/trd/mapped_reads/YJNRC18.bam | bcftools call -m -Oz -o /home/jnrunge/data/trd/mapped_reads/YJNRC18.vcf.gz'\"\n",
      "[1] \"Submitted batch job 461829\"\n"
     ]
    }
   ],
   "source": [
    "for(i in 1:length(bam_files))\n",
    "    {\n",
    "    cmd=paste0(\"bcftools mpileup -q 30 -Q 30 -a FORMAT/AD,FORMAT/DP -Ou -f \",reference,\" \",bam_files[i],\" | bcftools call -m -Oz -o \",str_replace(bam_files[i],\n",
    "                                                                                                           fixed(\".bam\"),\n",
    "                                                                                                           \".vcf.gz\"))\n",
    "    \n",
    "    execute_cmd_sbatch(cmd, mem=\"16G\", cpu=\"1\", time=\"long\", env=\"bwaetc\", jobname=\"BCFTOOLS\")\n",
    "    \n",
    "    Sys.sleep(1)\n",
    "}"
   ]
  },
  {
   "cell_type": "markdown",
   "id": "04f53f11-75da-4496-9d84-5598ed16b6b9",
   "metadata": {},
   "source": [
    "````bash\n",
    "bcftools view -e \"type!='snp' | MIN(AD)==0\" YJNRC2.vcf.gz | grep -v ^# | cut -f 1,2,4,5,9,10 | gzip > YJNRC2.vcf.gz.ADgr0.txt.gz\n",
    "````"
   ]
  }
 ],
 "metadata": {
  "kernelspec": {
   "display_name": "R",
   "language": "R",
   "name": "ir"
  },
  "language_info": {
   "codemirror_mode": "r",
   "file_extension": ".r",
   "mimetype": "text/x-r-source",
   "name": "R",
   "pygments_lexer": "r",
   "version": "4.1.3"
  }
 },
 "nbformat": 4,
 "nbformat_minor": 5
}

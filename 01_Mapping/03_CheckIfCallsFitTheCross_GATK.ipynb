{
 "cells": [
  {
   "cell_type": "markdown",
   "id": "34d83c6a-86af-45ce-84a0-735021da10e9",
   "metadata": {},
   "source": [
    "The idea is that because I don't find all loci that I thought I should find (opposite homozygous loci in the parental straint), I wanted to see whether any given AF data fits other hypothetical crosses of the strains I handled better. It seems so far that this is always the case, by a bit, but not crazily, so maybe the intepretation should consist of whether other crosses fit *much* better."
   ]
  },
  {
   "cell_type": "markdown",
   "id": "5d807a92-b6d1-496b-afad-d7736743778e",
   "metadata": {},
   "source": [
    "````bash\n",
    "\n",
    "bcftools view -s YJNRC2 -e 'type!=\"snp\"' TRD.vcf.gz | bcftools view -i \"MAX(FMT/AD) != FMT/DP & FMT/DP >= 10\" | bcftools query -f \"%CHROM\\t%POS\\t%REF,%ALT\\t[%AD]\\n\" | gzip > YJNRC2.hetLoci.gz\n",
    "\n",
    "\n",
    "samples=`cat TRD.vcf.gz.samples`\n",
    "\n",
    "for s in $samples; do bcftools view -s $s -e 'type!=\"snp\"' TRD.vcf.gz | bcftools view -i \"FMT/GT == 'hom' & FMT/GQ >= 30 & FMT/DP >= 30\" | bcftools query -f \"%CHROM\\t%POS\\t%REF,%ALT\\t[%GT]\\n\" | gzip > $s.homLoci.gz; echo $s; done\n",
    "\n",
    "````"
   ]
  },
  {
   "cell_type": "code",
   "execution_count": 75,
   "id": "1773de21-33dc-4e2b-bb76-5e960ae77173",
   "metadata": {
    "tags": []
   },
   "outputs": [],
   "source": [
    "source(\"../../BrusselSprouts/scripts/functions.R\")"
   ]
  },
  {
   "cell_type": "code",
   "execution_count": 76,
   "id": "f4052a70-8912-42a7-a8a8-e672d517f145",
   "metadata": {
    "tags": []
   },
   "outputs": [
    {
     "data": {
      "text/html": [
       "<table class=\"dataframe\">\n",
       "<caption>A data.frame: 6 x 4</caption>\n",
       "<thead>\n",
       "\t<tr><th></th><th scope=col>chr</th><th scope=col>pos</th><th scope=col>alleles</th><th scope=col>ADcross</th></tr>\n",
       "\t<tr><th></th><th scope=col>&lt;chr&gt;</th><th scope=col>&lt;int&gt;</th><th scope=col>&lt;chr&gt;</th><th scope=col>&lt;chr&gt;</th></tr>\n",
       "</thead>\n",
       "<tbody>\n",
       "\t<tr><th scope=row>1</th><td>chromosome1</td><td>184</td><td>C,G,A  </td><td>1,20,0     </td></tr>\n",
       "\t<tr><th scope=row>2</th><td>chromosome1</td><td>305</td><td>C,G    </td><td>2,19       </td></tr>\n",
       "\t<tr><th scope=row>3</th><td>chromosome1</td><td>328</td><td>C,T,G  </td><td>18,2,0     </td></tr>\n",
       "\t<tr><th scope=row>4</th><td>chromosome1</td><td>472</td><td>C,T,A  </td><td>24,21,0    </td></tr>\n",
       "\t<tr><th scope=row>5</th><td>chromosome1</td><td>510</td><td>A,C,T,G</td><td>150,43,25,0</td></tr>\n",
       "\t<tr><th scope=row>6</th><td>chromosome1</td><td>523</td><td>T,C    </td><td>155,101    </td></tr>\n",
       "</tbody>\n",
       "</table>\n"
      ],
      "text/latex": [
       "A data.frame: 6 x 4\n",
       "\\begin{tabular}{r|llll}\n",
       "  & chr & pos & alleles & ADcross\\\\\n",
       "  & <chr> & <int> & <chr> & <chr>\\\\\n",
       "\\hline\n",
       "\t1 & chromosome1 & 184 & C,G,A   & 1,20,0     \\\\\n",
       "\t2 & chromosome1 & 305 & C,G     & 2,19       \\\\\n",
       "\t3 & chromosome1 & 328 & C,T,G   & 18,2,0     \\\\\n",
       "\t4 & chromosome1 & 472 & C,T,A   & 24,21,0    \\\\\n",
       "\t5 & chromosome1 & 510 & A,C,T,G & 150,43,25,0\\\\\n",
       "\t6 & chromosome1 & 523 & T,C     & 155,101    \\\\\n",
       "\\end{tabular}\n"
      ],
      "text/markdown": [
       "\n",
       "A data.frame: 6 x 4\n",
       "\n",
       "| <!--/--> | chr &lt;chr&gt; | pos &lt;int&gt; | alleles &lt;chr&gt; | ADcross &lt;chr&gt; |\n",
       "|---|---|---|---|---|\n",
       "| 1 | chromosome1 | 184 | C,G,A   | 1,20,0      |\n",
       "| 2 | chromosome1 | 305 | C,G     | 2,19        |\n",
       "| 3 | chromosome1 | 328 | C,T,G   | 18,2,0      |\n",
       "| 4 | chromosome1 | 472 | C,T,A   | 24,21,0     |\n",
       "| 5 | chromosome1 | 510 | A,C,T,G | 150,43,25,0 |\n",
       "| 6 | chromosome1 | 523 | T,C     | 155,101     |\n",
       "\n"
      ],
      "text/plain": [
       "  chr         pos alleles ADcross    \n",
       "1 chromosome1 184 C,G,A   1,20,0     \n",
       "2 chromosome1 305 C,G     2,19       \n",
       "3 chromosome1 328 C,T,G   18,2,0     \n",
       "4 chromosome1 472 C,T,A   24,21,0    \n",
       "5 chromosome1 510 A,C,T,G 150,43,25,0\n",
       "6 chromosome1 523 T,C     155,101    "
      ]
     },
     "metadata": {},
     "output_type": "display_data"
    }
   ],
   "source": [
    "hetLoci=fread(\"~/data/trd/mapped_reads/YJNRC17.hetLoci.gz\")\n",
    "colnames(hetLoci)=c(\"chr\",\"pos\",\"alleles\",\"ADcross\")\n",
    "head(hetLoci)"
   ]
  },
  {
   "cell_type": "code",
   "execution_count": 77,
   "id": "80354da4-c4f9-4425-baf5-6f7c41162c51",
   "metadata": {
    "tags": []
   },
   "outputs": [
    {
     "data": {
      "text/html": [
       "<style>\n",
       ".list-inline {list-style: none; margin:0; padding: 0}\n",
       ".list-inline>li {display: inline-block}\n",
       ".list-inline>li:not(:last-child)::after {content: \"\\00b7\"; padding: 0 .5ex}\n",
       "</style>\n",
       "<ol class=list-inline><li>'/home/jnrunge/data/trd/mapped_reads/AAM.homLoci.gz'</li><li>'/home/jnrunge/data/trd/mapped_reads/AAR.homLoci.gz'</li><li>'/home/jnrunge/data/trd/mapped_reads/ABA.homLoci.gz'</li><li>'/home/jnrunge/data/trd/mapped_reads/ABC.homLoci.gz'</li><li>'/home/jnrunge/data/trd/mapped_reads/ABE.homLoci.gz'</li><li>'/home/jnrunge/data/trd/mapped_reads/ABG.homLoci.gz'</li><li>'/home/jnrunge/data/trd/mapped_reads/ABL.homLoci.gz'</li><li>'/home/jnrunge/data/trd/mapped_reads/ABP.homLoci.gz'</li><li>'/home/jnrunge/data/trd/mapped_reads/ABS.homLoci.gz'</li><li>'/home/jnrunge/data/trd/mapped_reads/ACI.homLoci.gz'</li><li>'/home/jnrunge/data/trd/mapped_reads/ACK.homLoci.gz'</li><li>'/home/jnrunge/data/trd/mapped_reads/ACN.homLoci.gz'</li><li>'/home/jnrunge/data/trd/mapped_reads/ACP.homLoci.gz'</li><li>'/home/jnrunge/data/trd/mapped_reads/ACT.homLoci.gz'</li><li>'/home/jnrunge/data/trd/mapped_reads/ACV.homLoci.gz'</li><li>'/home/jnrunge/data/trd/mapped_reads/AKE.homLoci.gz'</li><li>'/home/jnrunge/data/trd/mapped_reads/AKH.homLoci.gz'</li><li>'/home/jnrunge/data/trd/mapped_reads/AKI.homLoci.gz'</li><li>'/home/jnrunge/data/trd/mapped_reads/AKQ.homLoci.gz'</li><li>'/home/jnrunge/data/trd/mapped_reads/AKS.homLoci.gz'</li><li>'/home/jnrunge/data/trd/mapped_reads/AKV.homLoci.gz'</li><li>'/home/jnrunge/data/trd/mapped_reads/AMD.homLoci.gz'</li><li>'/home/jnrunge/data/trd/mapped_reads/AMM.homLoci.gz'</li><li>'/home/jnrunge/data/trd/mapped_reads/AND.homLoci.gz'</li><li>'/home/jnrunge/data/trd/mapped_reads/ANG.homLoci.gz'</li><li>'/home/jnrunge/data/trd/mapped_reads/ANH.homLoci.gz'</li><li>'/home/jnrunge/data/trd/mapped_reads/ANI.homLoci.gz'</li><li>'/home/jnrunge/data/trd/mapped_reads/ATE.homLoci.gz'</li><li>'/home/jnrunge/data/trd/mapped_reads/AVI.homLoci.gz'</li><li>'/home/jnrunge/data/trd/mapped_reads/BAH.homLoci.gz'</li><li>'/home/jnrunge/data/trd/mapped_reads/BAK.homLoci.gz'</li><li>'/home/jnrunge/data/trd/mapped_reads/BAN.homLoci.gz'</li><li>'/home/jnrunge/data/trd/mapped_reads/BAP.homLoci.gz'</li><li>'/home/jnrunge/data/trd/mapped_reads/BEF.homLoci.gz'</li><li>'/home/jnrunge/data/trd/mapped_reads/BET.homLoci.gz'</li><li>'/home/jnrunge/data/trd/mapped_reads/BFC.homLoci.gz'</li><li>'/home/jnrunge/data/trd/mapped_reads/BFD.homLoci.gz'</li><li>'/home/jnrunge/data/trd/mapped_reads/BFP.homLoci.gz'</li><li>'/home/jnrunge/data/trd/mapped_reads/BFQ.homLoci.gz'</li><li>'/home/jnrunge/data/trd/mapped_reads/BFR.homLoci.gz'</li><li>'/home/jnrunge/data/trd/mapped_reads/BHN.homLoci.gz'</li><li>'/home/jnrunge/data/trd/mapped_reads/BID.homLoci.gz'</li><li>'/home/jnrunge/data/trd/mapped_reads/BKL.homLoci.gz'</li><li>'/home/jnrunge/data/trd/mapped_reads/BMK.homLoci.gz'</li><li>'/home/jnrunge/data/trd/mapped_reads/BQC.homLoci.gz'</li><li>'/home/jnrunge/data/trd/mapped_reads/BTI.homLoci.gz'</li><li>'/home/jnrunge/data/trd/mapped_reads/CCC.homLoci.gz'</li><li>'/home/jnrunge/data/trd/mapped_reads/CCD.homLoci.gz'</li><li>'/home/jnrunge/data/trd/mapped_reads/CCF.homLoci.gz'</li><li>'/home/jnrunge/data/trd/mapped_reads/CCG.homLoci.gz'</li><li>'/home/jnrunge/data/trd/mapped_reads/CEI.homLoci.gz'</li><li>'/home/jnrunge/data/trd/mapped_reads/CGD.homLoci.gz'</li><li>'/home/jnrunge/data/trd/mapped_reads/CMP.homLoci.gz'</li><li>'/home/jnrunge/data/trd/mapped_reads/CMQ.homLoci.gz'</li><li>'/home/jnrunge/data/trd/mapped_reads/CPG.homLoci.gz'</li><li>'/home/jnrunge/data/trd/mapped_reads/CRB.homLoci.gz'</li><li>'/home/jnrunge/data/trd/mapped_reads/SACE_YCR.homLoci.gz'</li><li>'/home/jnrunge/data/trd/mapped_reads/YJNRC2.homLoci.gz'</li></ol>\n"
      ],
      "text/latex": [
       "\\begin{enumerate*}\n",
       "\\item '/home/jnrunge/data/trd/mapped\\_reads/AAM.homLoci.gz'\n",
       "\\item '/home/jnrunge/data/trd/mapped\\_reads/AAR.homLoci.gz'\n",
       "\\item '/home/jnrunge/data/trd/mapped\\_reads/ABA.homLoci.gz'\n",
       "\\item '/home/jnrunge/data/trd/mapped\\_reads/ABC.homLoci.gz'\n",
       "\\item '/home/jnrunge/data/trd/mapped\\_reads/ABE.homLoci.gz'\n",
       "\\item '/home/jnrunge/data/trd/mapped\\_reads/ABG.homLoci.gz'\n",
       "\\item '/home/jnrunge/data/trd/mapped\\_reads/ABL.homLoci.gz'\n",
       "\\item '/home/jnrunge/data/trd/mapped\\_reads/ABP.homLoci.gz'\n",
       "\\item '/home/jnrunge/data/trd/mapped\\_reads/ABS.homLoci.gz'\n",
       "\\item '/home/jnrunge/data/trd/mapped\\_reads/ACI.homLoci.gz'\n",
       "\\item '/home/jnrunge/data/trd/mapped\\_reads/ACK.homLoci.gz'\n",
       "\\item '/home/jnrunge/data/trd/mapped\\_reads/ACN.homLoci.gz'\n",
       "\\item '/home/jnrunge/data/trd/mapped\\_reads/ACP.homLoci.gz'\n",
       "\\item '/home/jnrunge/data/trd/mapped\\_reads/ACT.homLoci.gz'\n",
       "\\item '/home/jnrunge/data/trd/mapped\\_reads/ACV.homLoci.gz'\n",
       "\\item '/home/jnrunge/data/trd/mapped\\_reads/AKE.homLoci.gz'\n",
       "\\item '/home/jnrunge/data/trd/mapped\\_reads/AKH.homLoci.gz'\n",
       "\\item '/home/jnrunge/data/trd/mapped\\_reads/AKI.homLoci.gz'\n",
       "\\item '/home/jnrunge/data/trd/mapped\\_reads/AKQ.homLoci.gz'\n",
       "\\item '/home/jnrunge/data/trd/mapped\\_reads/AKS.homLoci.gz'\n",
       "\\item '/home/jnrunge/data/trd/mapped\\_reads/AKV.homLoci.gz'\n",
       "\\item '/home/jnrunge/data/trd/mapped\\_reads/AMD.homLoci.gz'\n",
       "\\item '/home/jnrunge/data/trd/mapped\\_reads/AMM.homLoci.gz'\n",
       "\\item '/home/jnrunge/data/trd/mapped\\_reads/AND.homLoci.gz'\n",
       "\\item '/home/jnrunge/data/trd/mapped\\_reads/ANG.homLoci.gz'\n",
       "\\item '/home/jnrunge/data/trd/mapped\\_reads/ANH.homLoci.gz'\n",
       "\\item '/home/jnrunge/data/trd/mapped\\_reads/ANI.homLoci.gz'\n",
       "\\item '/home/jnrunge/data/trd/mapped\\_reads/ATE.homLoci.gz'\n",
       "\\item '/home/jnrunge/data/trd/mapped\\_reads/AVI.homLoci.gz'\n",
       "\\item '/home/jnrunge/data/trd/mapped\\_reads/BAH.homLoci.gz'\n",
       "\\item '/home/jnrunge/data/trd/mapped\\_reads/BAK.homLoci.gz'\n",
       "\\item '/home/jnrunge/data/trd/mapped\\_reads/BAN.homLoci.gz'\n",
       "\\item '/home/jnrunge/data/trd/mapped\\_reads/BAP.homLoci.gz'\n",
       "\\item '/home/jnrunge/data/trd/mapped\\_reads/BEF.homLoci.gz'\n",
       "\\item '/home/jnrunge/data/trd/mapped\\_reads/BET.homLoci.gz'\n",
       "\\item '/home/jnrunge/data/trd/mapped\\_reads/BFC.homLoci.gz'\n",
       "\\item '/home/jnrunge/data/trd/mapped\\_reads/BFD.homLoci.gz'\n",
       "\\item '/home/jnrunge/data/trd/mapped\\_reads/BFP.homLoci.gz'\n",
       "\\item '/home/jnrunge/data/trd/mapped\\_reads/BFQ.homLoci.gz'\n",
       "\\item '/home/jnrunge/data/trd/mapped\\_reads/BFR.homLoci.gz'\n",
       "\\item '/home/jnrunge/data/trd/mapped\\_reads/BHN.homLoci.gz'\n",
       "\\item '/home/jnrunge/data/trd/mapped\\_reads/BID.homLoci.gz'\n",
       "\\item '/home/jnrunge/data/trd/mapped\\_reads/BKL.homLoci.gz'\n",
       "\\item '/home/jnrunge/data/trd/mapped\\_reads/BMK.homLoci.gz'\n",
       "\\item '/home/jnrunge/data/trd/mapped\\_reads/BQC.homLoci.gz'\n",
       "\\item '/home/jnrunge/data/trd/mapped\\_reads/BTI.homLoci.gz'\n",
       "\\item '/home/jnrunge/data/trd/mapped\\_reads/CCC.homLoci.gz'\n",
       "\\item '/home/jnrunge/data/trd/mapped\\_reads/CCD.homLoci.gz'\n",
       "\\item '/home/jnrunge/data/trd/mapped\\_reads/CCF.homLoci.gz'\n",
       "\\item '/home/jnrunge/data/trd/mapped\\_reads/CCG.homLoci.gz'\n",
       "\\item '/home/jnrunge/data/trd/mapped\\_reads/CEI.homLoci.gz'\n",
       "\\item '/home/jnrunge/data/trd/mapped\\_reads/CGD.homLoci.gz'\n",
       "\\item '/home/jnrunge/data/trd/mapped\\_reads/CMP.homLoci.gz'\n",
       "\\item '/home/jnrunge/data/trd/mapped\\_reads/CMQ.homLoci.gz'\n",
       "\\item '/home/jnrunge/data/trd/mapped\\_reads/CPG.homLoci.gz'\n",
       "\\item '/home/jnrunge/data/trd/mapped\\_reads/CRB.homLoci.gz'\n",
       "\\item '/home/jnrunge/data/trd/mapped\\_reads/SACE\\_YCR.homLoci.gz'\n",
       "\\item '/home/jnrunge/data/trd/mapped\\_reads/YJNRC2.homLoci.gz'\n",
       "\\end{enumerate*}\n"
      ],
      "text/markdown": [
       "1. '/home/jnrunge/data/trd/mapped_reads/AAM.homLoci.gz'\n",
       "2. '/home/jnrunge/data/trd/mapped_reads/AAR.homLoci.gz'\n",
       "3. '/home/jnrunge/data/trd/mapped_reads/ABA.homLoci.gz'\n",
       "4. '/home/jnrunge/data/trd/mapped_reads/ABC.homLoci.gz'\n",
       "5. '/home/jnrunge/data/trd/mapped_reads/ABE.homLoci.gz'\n",
       "6. '/home/jnrunge/data/trd/mapped_reads/ABG.homLoci.gz'\n",
       "7. '/home/jnrunge/data/trd/mapped_reads/ABL.homLoci.gz'\n",
       "8. '/home/jnrunge/data/trd/mapped_reads/ABP.homLoci.gz'\n",
       "9. '/home/jnrunge/data/trd/mapped_reads/ABS.homLoci.gz'\n",
       "10. '/home/jnrunge/data/trd/mapped_reads/ACI.homLoci.gz'\n",
       "11. '/home/jnrunge/data/trd/mapped_reads/ACK.homLoci.gz'\n",
       "12. '/home/jnrunge/data/trd/mapped_reads/ACN.homLoci.gz'\n",
       "13. '/home/jnrunge/data/trd/mapped_reads/ACP.homLoci.gz'\n",
       "14. '/home/jnrunge/data/trd/mapped_reads/ACT.homLoci.gz'\n",
       "15. '/home/jnrunge/data/trd/mapped_reads/ACV.homLoci.gz'\n",
       "16. '/home/jnrunge/data/trd/mapped_reads/AKE.homLoci.gz'\n",
       "17. '/home/jnrunge/data/trd/mapped_reads/AKH.homLoci.gz'\n",
       "18. '/home/jnrunge/data/trd/mapped_reads/AKI.homLoci.gz'\n",
       "19. '/home/jnrunge/data/trd/mapped_reads/AKQ.homLoci.gz'\n",
       "20. '/home/jnrunge/data/trd/mapped_reads/AKS.homLoci.gz'\n",
       "21. '/home/jnrunge/data/trd/mapped_reads/AKV.homLoci.gz'\n",
       "22. '/home/jnrunge/data/trd/mapped_reads/AMD.homLoci.gz'\n",
       "23. '/home/jnrunge/data/trd/mapped_reads/AMM.homLoci.gz'\n",
       "24. '/home/jnrunge/data/trd/mapped_reads/AND.homLoci.gz'\n",
       "25. '/home/jnrunge/data/trd/mapped_reads/ANG.homLoci.gz'\n",
       "26. '/home/jnrunge/data/trd/mapped_reads/ANH.homLoci.gz'\n",
       "27. '/home/jnrunge/data/trd/mapped_reads/ANI.homLoci.gz'\n",
       "28. '/home/jnrunge/data/trd/mapped_reads/ATE.homLoci.gz'\n",
       "29. '/home/jnrunge/data/trd/mapped_reads/AVI.homLoci.gz'\n",
       "30. '/home/jnrunge/data/trd/mapped_reads/BAH.homLoci.gz'\n",
       "31. '/home/jnrunge/data/trd/mapped_reads/BAK.homLoci.gz'\n",
       "32. '/home/jnrunge/data/trd/mapped_reads/BAN.homLoci.gz'\n",
       "33. '/home/jnrunge/data/trd/mapped_reads/BAP.homLoci.gz'\n",
       "34. '/home/jnrunge/data/trd/mapped_reads/BEF.homLoci.gz'\n",
       "35. '/home/jnrunge/data/trd/mapped_reads/BET.homLoci.gz'\n",
       "36. '/home/jnrunge/data/trd/mapped_reads/BFC.homLoci.gz'\n",
       "37. '/home/jnrunge/data/trd/mapped_reads/BFD.homLoci.gz'\n",
       "38. '/home/jnrunge/data/trd/mapped_reads/BFP.homLoci.gz'\n",
       "39. '/home/jnrunge/data/trd/mapped_reads/BFQ.homLoci.gz'\n",
       "40. '/home/jnrunge/data/trd/mapped_reads/BFR.homLoci.gz'\n",
       "41. '/home/jnrunge/data/trd/mapped_reads/BHN.homLoci.gz'\n",
       "42. '/home/jnrunge/data/trd/mapped_reads/BID.homLoci.gz'\n",
       "43. '/home/jnrunge/data/trd/mapped_reads/BKL.homLoci.gz'\n",
       "44. '/home/jnrunge/data/trd/mapped_reads/BMK.homLoci.gz'\n",
       "45. '/home/jnrunge/data/trd/mapped_reads/BQC.homLoci.gz'\n",
       "46. '/home/jnrunge/data/trd/mapped_reads/BTI.homLoci.gz'\n",
       "47. '/home/jnrunge/data/trd/mapped_reads/CCC.homLoci.gz'\n",
       "48. '/home/jnrunge/data/trd/mapped_reads/CCD.homLoci.gz'\n",
       "49. '/home/jnrunge/data/trd/mapped_reads/CCF.homLoci.gz'\n",
       "50. '/home/jnrunge/data/trd/mapped_reads/CCG.homLoci.gz'\n",
       "51. '/home/jnrunge/data/trd/mapped_reads/CEI.homLoci.gz'\n",
       "52. '/home/jnrunge/data/trd/mapped_reads/CGD.homLoci.gz'\n",
       "53. '/home/jnrunge/data/trd/mapped_reads/CMP.homLoci.gz'\n",
       "54. '/home/jnrunge/data/trd/mapped_reads/CMQ.homLoci.gz'\n",
       "55. '/home/jnrunge/data/trd/mapped_reads/CPG.homLoci.gz'\n",
       "56. '/home/jnrunge/data/trd/mapped_reads/CRB.homLoci.gz'\n",
       "57. '/home/jnrunge/data/trd/mapped_reads/SACE_YCR.homLoci.gz'\n",
       "58. '/home/jnrunge/data/trd/mapped_reads/YJNRC2.homLoci.gz'\n",
       "\n",
       "\n"
      ],
      "text/plain": [
       " [1] \"/home/jnrunge/data/trd/mapped_reads/AAM.homLoci.gz\"     \n",
       " [2] \"/home/jnrunge/data/trd/mapped_reads/AAR.homLoci.gz\"     \n",
       " [3] \"/home/jnrunge/data/trd/mapped_reads/ABA.homLoci.gz\"     \n",
       " [4] \"/home/jnrunge/data/trd/mapped_reads/ABC.homLoci.gz\"     \n",
       " [5] \"/home/jnrunge/data/trd/mapped_reads/ABE.homLoci.gz\"     \n",
       " [6] \"/home/jnrunge/data/trd/mapped_reads/ABG.homLoci.gz\"     \n",
       " [7] \"/home/jnrunge/data/trd/mapped_reads/ABL.homLoci.gz\"     \n",
       " [8] \"/home/jnrunge/data/trd/mapped_reads/ABP.homLoci.gz\"     \n",
       " [9] \"/home/jnrunge/data/trd/mapped_reads/ABS.homLoci.gz\"     \n",
       "[10] \"/home/jnrunge/data/trd/mapped_reads/ACI.homLoci.gz\"     \n",
       "[11] \"/home/jnrunge/data/trd/mapped_reads/ACK.homLoci.gz\"     \n",
       "[12] \"/home/jnrunge/data/trd/mapped_reads/ACN.homLoci.gz\"     \n",
       "[13] \"/home/jnrunge/data/trd/mapped_reads/ACP.homLoci.gz\"     \n",
       "[14] \"/home/jnrunge/data/trd/mapped_reads/ACT.homLoci.gz\"     \n",
       "[15] \"/home/jnrunge/data/trd/mapped_reads/ACV.homLoci.gz\"     \n",
       "[16] \"/home/jnrunge/data/trd/mapped_reads/AKE.homLoci.gz\"     \n",
       "[17] \"/home/jnrunge/data/trd/mapped_reads/AKH.homLoci.gz\"     \n",
       "[18] \"/home/jnrunge/data/trd/mapped_reads/AKI.homLoci.gz\"     \n",
       "[19] \"/home/jnrunge/data/trd/mapped_reads/AKQ.homLoci.gz\"     \n",
       "[20] \"/home/jnrunge/data/trd/mapped_reads/AKS.homLoci.gz\"     \n",
       "[21] \"/home/jnrunge/data/trd/mapped_reads/AKV.homLoci.gz\"     \n",
       "[22] \"/home/jnrunge/data/trd/mapped_reads/AMD.homLoci.gz\"     \n",
       "[23] \"/home/jnrunge/data/trd/mapped_reads/AMM.homLoci.gz\"     \n",
       "[24] \"/home/jnrunge/data/trd/mapped_reads/AND.homLoci.gz\"     \n",
       "[25] \"/home/jnrunge/data/trd/mapped_reads/ANG.homLoci.gz\"     \n",
       "[26] \"/home/jnrunge/data/trd/mapped_reads/ANH.homLoci.gz\"     \n",
       "[27] \"/home/jnrunge/data/trd/mapped_reads/ANI.homLoci.gz\"     \n",
       "[28] \"/home/jnrunge/data/trd/mapped_reads/ATE.homLoci.gz\"     \n",
       "[29] \"/home/jnrunge/data/trd/mapped_reads/AVI.homLoci.gz\"     \n",
       "[30] \"/home/jnrunge/data/trd/mapped_reads/BAH.homLoci.gz\"     \n",
       "[31] \"/home/jnrunge/data/trd/mapped_reads/BAK.homLoci.gz\"     \n",
       "[32] \"/home/jnrunge/data/trd/mapped_reads/BAN.homLoci.gz\"     \n",
       "[33] \"/home/jnrunge/data/trd/mapped_reads/BAP.homLoci.gz\"     \n",
       "[34] \"/home/jnrunge/data/trd/mapped_reads/BEF.homLoci.gz\"     \n",
       "[35] \"/home/jnrunge/data/trd/mapped_reads/BET.homLoci.gz\"     \n",
       "[36] \"/home/jnrunge/data/trd/mapped_reads/BFC.homLoci.gz\"     \n",
       "[37] \"/home/jnrunge/data/trd/mapped_reads/BFD.homLoci.gz\"     \n",
       "[38] \"/home/jnrunge/data/trd/mapped_reads/BFP.homLoci.gz\"     \n",
       "[39] \"/home/jnrunge/data/trd/mapped_reads/BFQ.homLoci.gz\"     \n",
       "[40] \"/home/jnrunge/data/trd/mapped_reads/BFR.homLoci.gz\"     \n",
       "[41] \"/home/jnrunge/data/trd/mapped_reads/BHN.homLoci.gz\"     \n",
       "[42] \"/home/jnrunge/data/trd/mapped_reads/BID.homLoci.gz\"     \n",
       "[43] \"/home/jnrunge/data/trd/mapped_reads/BKL.homLoci.gz\"     \n",
       "[44] \"/home/jnrunge/data/trd/mapped_reads/BMK.homLoci.gz\"     \n",
       "[45] \"/home/jnrunge/data/trd/mapped_reads/BQC.homLoci.gz\"     \n",
       "[46] \"/home/jnrunge/data/trd/mapped_reads/BTI.homLoci.gz\"     \n",
       "[47] \"/home/jnrunge/data/trd/mapped_reads/CCC.homLoci.gz\"     \n",
       "[48] \"/home/jnrunge/data/trd/mapped_reads/CCD.homLoci.gz\"     \n",
       "[49] \"/home/jnrunge/data/trd/mapped_reads/CCF.homLoci.gz\"     \n",
       "[50] \"/home/jnrunge/data/trd/mapped_reads/CCG.homLoci.gz\"     \n",
       "[51] \"/home/jnrunge/data/trd/mapped_reads/CEI.homLoci.gz\"     \n",
       "[52] \"/home/jnrunge/data/trd/mapped_reads/CGD.homLoci.gz\"     \n",
       "[53] \"/home/jnrunge/data/trd/mapped_reads/CMP.homLoci.gz\"     \n",
       "[54] \"/home/jnrunge/data/trd/mapped_reads/CMQ.homLoci.gz\"     \n",
       "[55] \"/home/jnrunge/data/trd/mapped_reads/CPG.homLoci.gz\"     \n",
       "[56] \"/home/jnrunge/data/trd/mapped_reads/CRB.homLoci.gz\"     \n",
       "[57] \"/home/jnrunge/data/trd/mapped_reads/SACE_YCR.homLoci.gz\"\n",
       "[58] \"/home/jnrunge/data/trd/mapped_reads/YJNRC2.homLoci.gz\"  "
      ]
     },
     "metadata": {},
     "output_type": "display_data"
    }
   ],
   "source": [
    "OH_files=list.files(\"~/data/trd/mapped_reads\", pattern = \"homLoci.gz$\", full.names = TRUE)\n",
    "OH_files"
   ]
  },
  {
   "cell_type": "code",
   "execution_count": 78,
   "id": "2b08c814-56f0-4554-8c60-40a8d4e11a90",
   "metadata": {
    "tags": []
   },
   "outputs": [],
   "source": [
    "OH_files=subset(OH_files, !grepl(\"YJNRC\", OH_files, fixed=TRUE))"
   ]
  },
  {
   "cell_type": "code",
   "execution_count": 79,
   "id": "80838488-0c32-41a7-ba95-66cd4fdb7f5e",
   "metadata": {
    "tags": []
   },
   "outputs": [],
   "source": [
    "areTheRightAllelesPresentInCross=function(x){\n",
    "    alleles=strsplit(OH_vs_cross$ADcross[x], \",\", fixed=TRUE)[[1]]\n",
    "    return(as.numeric(alleles[as.numeric(substr(OH_vs_cross$GT1[x],1,1))+1]) > 0 & \n",
    "          as.numeric(alleles[as.numeric(substr(OH_vs_cross$GT2[x],1,1))+1]) > 0)\n",
    "}"
   ]
  },
  {
   "cell_type": "code",
   "execution_count": 80,
   "id": "a82ab57b-071b-4fd9-9100-85a8127dbc85",
   "metadata": {
    "tags": []
   },
   "outputs": [
    {
     "data": {
      "text/html": [
       "<table class=\"dataframe\">\n",
       "<caption>A data.frame: 6 x 4</caption>\n",
       "<thead>\n",
       "\t<tr><th></th><th scope=col>chr</th><th scope=col>pos</th><th scope=col>alleles</th><th scope=col>ADcross</th></tr>\n",
       "\t<tr><th></th><th scope=col>&lt;chr&gt;</th><th scope=col>&lt;int&gt;</th><th scope=col>&lt;chr&gt;</th><th scope=col>&lt;chr&gt;</th></tr>\n",
       "</thead>\n",
       "<tbody>\n",
       "\t<tr><th scope=row>1</th><td>chromosome1</td><td>184</td><td>C,G,A  </td><td>1,20,0     </td></tr>\n",
       "\t<tr><th scope=row>2</th><td>chromosome1</td><td>305</td><td>C,G    </td><td>2,19       </td></tr>\n",
       "\t<tr><th scope=row>3</th><td>chromosome1</td><td>328</td><td>C,T,G  </td><td>18,2,0     </td></tr>\n",
       "\t<tr><th scope=row>4</th><td>chromosome1</td><td>472</td><td>C,T,A  </td><td>24,21,0    </td></tr>\n",
       "\t<tr><th scope=row>5</th><td>chromosome1</td><td>510</td><td>A,C,T,G</td><td>150,43,25,0</td></tr>\n",
       "\t<tr><th scope=row>6</th><td>chromosome1</td><td>523</td><td>T,C    </td><td>155,101    </td></tr>\n",
       "</tbody>\n",
       "</table>\n"
      ],
      "text/latex": [
       "A data.frame: 6 x 4\n",
       "\\begin{tabular}{r|llll}\n",
       "  & chr & pos & alleles & ADcross\\\\\n",
       "  & <chr> & <int> & <chr> & <chr>\\\\\n",
       "\\hline\n",
       "\t1 & chromosome1 & 184 & C,G,A   & 1,20,0     \\\\\n",
       "\t2 & chromosome1 & 305 & C,G     & 2,19       \\\\\n",
       "\t3 & chromosome1 & 328 & C,T,G   & 18,2,0     \\\\\n",
       "\t4 & chromosome1 & 472 & C,T,A   & 24,21,0    \\\\\n",
       "\t5 & chromosome1 & 510 & A,C,T,G & 150,43,25,0\\\\\n",
       "\t6 & chromosome1 & 523 & T,C     & 155,101    \\\\\n",
       "\\end{tabular}\n"
      ],
      "text/markdown": [
       "\n",
       "A data.frame: 6 x 4\n",
       "\n",
       "| <!--/--> | chr &lt;chr&gt; | pos &lt;int&gt; | alleles &lt;chr&gt; | ADcross &lt;chr&gt; |\n",
       "|---|---|---|---|---|\n",
       "| 1 | chromosome1 | 184 | C,G,A   | 1,20,0      |\n",
       "| 2 | chromosome1 | 305 | C,G     | 2,19        |\n",
       "| 3 | chromosome1 | 328 | C,T,G   | 18,2,0      |\n",
       "| 4 | chromosome1 | 472 | C,T,A   | 24,21,0     |\n",
       "| 5 | chromosome1 | 510 | A,C,T,G | 150,43,25,0 |\n",
       "| 6 | chromosome1 | 523 | T,C     | 155,101     |\n",
       "\n"
      ],
      "text/plain": [
       "  chr         pos alleles ADcross    \n",
       "1 chromosome1 184 C,G,A   1,20,0     \n",
       "2 chromosome1 305 C,G     2,19       \n",
       "3 chromosome1 328 C,T,G   18,2,0     \n",
       "4 chromosome1 472 C,T,A   24,21,0    \n",
       "5 chromosome1 510 A,C,T,G 150,43,25,0\n",
       "6 chromosome1 523 T,C     155,101    "
      ]
     },
     "metadata": {},
     "output_type": "display_data"
    }
   ],
   "source": [
    "head(hetLoci)\n",
    "hetLoci$DPcross=NA\n",
    "for(i in 1:nrow(hetLoci)){\n",
    "    hetLoci$DPcross[i]=sum(as.numeric(strsplit(hetLoci$ADcross[i], \",\", fixed=TRUE)[[1]]))\n",
    "}"
   ]
  },
  {
   "cell_type": "code",
   "execution_count": 81,
   "id": "e4f0f429-6033-4394-9f2c-2c84a897232f",
   "metadata": {
    "tags": []
   },
   "outputs": [
    {
     "data": {
      "text/html": [
       "<table class=\"dataframe\">\n",
       "<caption>A data.frame: 6 x 5</caption>\n",
       "<thead>\n",
       "\t<tr><th></th><th scope=col>chr</th><th scope=col>pos</th><th scope=col>alleles</th><th scope=col>ADcross</th><th scope=col>DPcross</th></tr>\n",
       "\t<tr><th></th><th scope=col>&lt;chr&gt;</th><th scope=col>&lt;int&gt;</th><th scope=col>&lt;chr&gt;</th><th scope=col>&lt;chr&gt;</th><th scope=col>&lt;dbl&gt;</th></tr>\n",
       "</thead>\n",
       "<tbody>\n",
       "\t<tr><th scope=row>1</th><td>chromosome1</td><td>184</td><td>C,G,A  </td><td>1,20,0     </td><td> 21</td></tr>\n",
       "\t<tr><th scope=row>2</th><td>chromosome1</td><td>305</td><td>C,G    </td><td>2,19       </td><td> 21</td></tr>\n",
       "\t<tr><th scope=row>3</th><td>chromosome1</td><td>328</td><td>C,T,G  </td><td>18,2,0     </td><td> 20</td></tr>\n",
       "\t<tr><th scope=row>4</th><td>chromosome1</td><td>472</td><td>C,T,A  </td><td>24,21,0    </td><td> 45</td></tr>\n",
       "\t<tr><th scope=row>5</th><td>chromosome1</td><td>510</td><td>A,C,T,G</td><td>150,43,25,0</td><td>218</td></tr>\n",
       "\t<tr><th scope=row>6</th><td>chromosome1</td><td>523</td><td>T,C    </td><td>155,101    </td><td>256</td></tr>\n",
       "</tbody>\n",
       "</table>\n"
      ],
      "text/latex": [
       "A data.frame: 6 x 5\n",
       "\\begin{tabular}{r|lllll}\n",
       "  & chr & pos & alleles & ADcross & DPcross\\\\\n",
       "  & <chr> & <int> & <chr> & <chr> & <dbl>\\\\\n",
       "\\hline\n",
       "\t1 & chromosome1 & 184 & C,G,A   & 1,20,0      &  21\\\\\n",
       "\t2 & chromosome1 & 305 & C,G     & 2,19        &  21\\\\\n",
       "\t3 & chromosome1 & 328 & C,T,G   & 18,2,0      &  20\\\\\n",
       "\t4 & chromosome1 & 472 & C,T,A   & 24,21,0     &  45\\\\\n",
       "\t5 & chromosome1 & 510 & A,C,T,G & 150,43,25,0 & 218\\\\\n",
       "\t6 & chromosome1 & 523 & T,C     & 155,101     & 256\\\\\n",
       "\\end{tabular}\n"
      ],
      "text/markdown": [
       "\n",
       "A data.frame: 6 x 5\n",
       "\n",
       "| <!--/--> | chr &lt;chr&gt; | pos &lt;int&gt; | alleles &lt;chr&gt; | ADcross &lt;chr&gt; | DPcross &lt;dbl&gt; |\n",
       "|---|---|---|---|---|---|\n",
       "| 1 | chromosome1 | 184 | C,G,A   | 1,20,0      |  21 |\n",
       "| 2 | chromosome1 | 305 | C,G     | 2,19        |  21 |\n",
       "| 3 | chromosome1 | 328 | C,T,G   | 18,2,0      |  20 |\n",
       "| 4 | chromosome1 | 472 | C,T,A   | 24,21,0     |  45 |\n",
       "| 5 | chromosome1 | 510 | A,C,T,G | 150,43,25,0 | 218 |\n",
       "| 6 | chromosome1 | 523 | T,C     | 155,101     | 256 |\n",
       "\n"
      ],
      "text/plain": [
       "  chr         pos alleles ADcross     DPcross\n",
       "1 chromosome1 184 C,G,A   1,20,0       21    \n",
       "2 chromosome1 305 C,G     2,19         21    \n",
       "3 chromosome1 328 C,T,G   18,2,0       20    \n",
       "4 chromosome1 472 C,T,A   24,21,0      45    \n",
       "5 chromosome1 510 A,C,T,G 150,43,25,0 218    \n",
       "6 chromosome1 523 T,C     155,101     256    "
      ]
     },
     "metadata": {},
     "output_type": "display_data"
    }
   ],
   "source": [
    "head(hetLoci)"
   ]
  },
  {
   "cell_type": "code",
   "execution_count": 82,
   "id": "fdb319a2-352e-445f-b02a-421a6f171b95",
   "metadata": {
    "tags": []
   },
   "outputs": [
    {
     "data": {
      "text/html": [
       "96274"
      ],
      "text/latex": [
       "96274"
      ],
      "text/markdown": [
       "96274"
      ],
      "text/plain": [
       "[1] 96274"
      ]
     },
     "metadata": {},
     "output_type": "display_data"
    }
   ],
   "source": [
    "hetLoci=subset(hetLoci, DPcross <= quantile(DPcross, 0.95))\n",
    "nrow(hetLoci)"
   ]
  },
  {
   "cell_type": "code",
   "execution_count": 83,
   "id": "5f88be76-9d52-421f-ae40-8affab4af404",
   "metadata": {
    "tags": []
   },
   "outputs": [
    {
     "data": {
      "text/html": [
       "<table class=\"dataframe\">\n",
       "<caption>A data.frame: 6 x 7</caption>\n",
       "<thead>\n",
       "\t<tr><th></th><th scope=col>file1</th><th scope=col>file2</th><th scope=col>loci1</th><th scope=col>loci2</th><th scope=col>loci12</th><th scope=col>loci123</th><th scope=col>countLociFit</th></tr>\n",
       "\t<tr><th></th><th scope=col>&lt;int&gt;</th><th scope=col>&lt;int&gt;</th><th scope=col>&lt;lgl&gt;</th><th scope=col>&lt;lgl&gt;</th><th scope=col>&lt;lgl&gt;</th><th scope=col>&lt;lgl&gt;</th><th scope=col>&lt;lgl&gt;</th></tr>\n",
       "</thead>\n",
       "<tbody>\n",
       "\t<tr><th scope=row>58</th><td>1</td><td>2</td><td>NA</td><td>NA</td><td>NA</td><td>NA</td><td>NA</td></tr>\n",
       "\t<tr><th scope=row>115</th><td>1</td><td>3</td><td>NA</td><td>NA</td><td>NA</td><td>NA</td><td>NA</td></tr>\n",
       "\t<tr><th scope=row>116</th><td>2</td><td>3</td><td>NA</td><td>NA</td><td>NA</td><td>NA</td><td>NA</td></tr>\n",
       "\t<tr><th scope=row>172</th><td>1</td><td>4</td><td>NA</td><td>NA</td><td>NA</td><td>NA</td><td>NA</td></tr>\n",
       "\t<tr><th scope=row>173</th><td>2</td><td>4</td><td>NA</td><td>NA</td><td>NA</td><td>NA</td><td>NA</td></tr>\n",
       "\t<tr><th scope=row>174</th><td>3</td><td>4</td><td>NA</td><td>NA</td><td>NA</td><td>NA</td><td>NA</td></tr>\n",
       "</tbody>\n",
       "</table>\n"
      ],
      "text/latex": [
       "A data.frame: 6 x 7\n",
       "\\begin{tabular}{r|lllllll}\n",
       "  & file1 & file2 & loci1 & loci2 & loci12 & loci123 & countLociFit\\\\\n",
       "  & <int> & <int> & <lgl> & <lgl> & <lgl> & <lgl> & <lgl>\\\\\n",
       "\\hline\n",
       "\t58 & 1 & 2 & NA & NA & NA & NA & NA\\\\\n",
       "\t115 & 1 & 3 & NA & NA & NA & NA & NA\\\\\n",
       "\t116 & 2 & 3 & NA & NA & NA & NA & NA\\\\\n",
       "\t172 & 1 & 4 & NA & NA & NA & NA & NA\\\\\n",
       "\t173 & 2 & 4 & NA & NA & NA & NA & NA\\\\\n",
       "\t174 & 3 & 4 & NA & NA & NA & NA & NA\\\\\n",
       "\\end{tabular}\n"
      ],
      "text/markdown": [
       "\n",
       "A data.frame: 6 x 7\n",
       "\n",
       "| <!--/--> | file1 &lt;int&gt; | file2 &lt;int&gt; | loci1 &lt;lgl&gt; | loci2 &lt;lgl&gt; | loci12 &lt;lgl&gt; | loci123 &lt;lgl&gt; | countLociFit &lt;lgl&gt; |\n",
       "|---|---|---|---|---|---|---|---|\n",
       "| 58 | 1 | 2 | NA | NA | NA | NA | NA |\n",
       "| 115 | 1 | 3 | NA | NA | NA | NA | NA |\n",
       "| 116 | 2 | 3 | NA | NA | NA | NA | NA |\n",
       "| 172 | 1 | 4 | NA | NA | NA | NA | NA |\n",
       "| 173 | 2 | 4 | NA | NA | NA | NA | NA |\n",
       "| 174 | 3 | 4 | NA | NA | NA | NA | NA |\n",
       "\n"
      ],
      "text/plain": [
       "    file1 file2 loci1 loci2 loci12 loci123 countLociFit\n",
       "58  1     2     NA    NA    NA     NA      NA          \n",
       "115 1     3     NA    NA    NA     NA      NA          \n",
       "116 2     3     NA    NA    NA     NA      NA          \n",
       "172 1     4     NA    NA    NA     NA      NA          \n",
       "173 2     4     NA    NA    NA     NA      NA          \n",
       "174 3     4     NA    NA    NA     NA      NA          "
      ]
     },
     "metadata": {},
     "output_type": "display_data"
    },
    {
     "data": {
      "text/html": [
       "1596"
      ],
      "text/latex": [
       "1596"
      ],
      "text/markdown": [
       "1596"
      ],
      "text/plain": [
       "[1] 1596"
      ]
     },
     "metadata": {},
     "output_type": "display_data"
    }
   ],
   "source": [
    "df_fit=expand.grid(file1=1:length(OH_files), file2=1:length(OH_files), loci1=NA, loci2=NA, loci12=NA, loci123=NA, countLociFit=NA)\n",
    "df_fit=subset(df_fit, file1!=file2 & file2 > file1)\n",
    "head(df_fit)\n",
    "nrow(df_fit)\n",
    "for(i in 1:nrow(df_fit)){\n",
    "    i1=df_fit$file1[i]\n",
    "    i2=df_fit$file2[i]\n",
    "    OH1=fread(OH_files[i1])\n",
    "    df_fit$loci1[i]=nrow(OH1)\n",
    "    OH2=fread(OH_files[i2])\n",
    "    df_fit$loci2[i]=nrow(OH2)\n",
    "    colnames(OH1)=c(\"chr\",\"pos\",\"alleles\",\"GT1\")\n",
    "    colnames(OH2)=c(\"chr\",\"pos\",\"alleles\",\"GT2\")\n",
    "    OH=full_join(OH1,OH2, by=c(\"chr\",\"pos\",\"alleles\"))\n",
    "    \n",
    "    OH=subset(OH, !is.na(GT1) & !is.na(GT2))\n",
    "    OH=subset(OH, substr(GT1,1,1) == substr(GT1,3,3))\n",
    "    OH=subset(OH, substr(GT2,1,1) == substr(GT2,3,3))\n",
    "    OH=subset(OH, substr(GT1,1,1) != substr(GT2,1,1))\n",
    "    \n",
    "    df_fit$loci12[i]=nrow(OH)\n",
    "    \n",
    "    OH_vs_cross=full_join(OH, hetLoci, by=c(\"chr\",\"pos\",\"alleles\"))\n",
    "\n",
    "    if(sum(duplicated(OH_vs_cross[,c(1,2)]))>0){\n",
    "        stop()\n",
    "    }\n",
    "    OH_vs_cross=subset(OH_vs_cross, !is.na(ADcross) & !is.na(GT1) & !is.na(GT2))\n",
    "    df_fit$loci123[i]=nrow(OH_vs_cross) \n",
    "      if(nrow(OH_vs_cross)==0){\n",
    "          df_fit$countLociFit[i]=0\n",
    "          next\n",
    "      } \n",
    "    OH_vs_cross=OH_vs_cross[unlist(lapply(1:nrow(OH_vs_cross),areTheRightAllelesPresentInCross)),]\n",
    "    df_fit$countLociFit[i]=nrow(OH_vs_cross)\n",
    "}"
   ]
  },
  {
   "cell_type": "code",
   "execution_count": 84,
   "id": "d54b821b-9060-423f-8271-8d8ccb9804c9",
   "metadata": {
    "tags": []
   },
   "outputs": [
    {
     "data": {
      "text/html": [
       "'/home/jnrunge/data/trd/mapped_reads/CRB.homLoci.gz'"
      ],
      "text/latex": [
       "'/home/jnrunge/data/trd/mapped\\_reads/CRB.homLoci.gz'"
      ],
      "text/markdown": [
       "'/home/jnrunge/data/trd/mapped_reads/CRB.homLoci.gz'"
      ],
      "text/plain": [
       "[1] \"/home/jnrunge/data/trd/mapped_reads/CRB.homLoci.gz\""
      ]
     },
     "metadata": {},
     "output_type": "display_data"
    },
    {
     "data": {
      "text/html": [
       "'/home/jnrunge/data/trd/mapped_reads/SACE_YCR.homLoci.gz'"
      ],
      "text/latex": [
       "'/home/jnrunge/data/trd/mapped\\_reads/SACE\\_YCR.homLoci.gz'"
      ],
      "text/markdown": [
       "'/home/jnrunge/data/trd/mapped_reads/SACE_YCR.homLoci.gz'"
      ],
      "text/plain": [
       "[1] \"/home/jnrunge/data/trd/mapped_reads/SACE_YCR.homLoci.gz\""
      ]
     },
     "metadata": {},
     "output_type": "display_data"
    }
   ],
   "source": [
    "OH_files[i1]\n",
    "OH_files[i2]"
   ]
  },
  {
   "cell_type": "code",
   "execution_count": 85,
   "id": "911fc5ad-fa1a-469d-b0c2-e23eb306d729",
   "metadata": {
    "tags": []
   },
   "outputs": [
    {
     "data": {
      "text/html": [
       "<table class=\"dataframe\">\n",
       "<caption>A data.frame: 6 x 7</caption>\n",
       "<thead>\n",
       "\t<tr><th></th><th scope=col>file1</th><th scope=col>file2</th><th scope=col>loci1</th><th scope=col>loci2</th><th scope=col>loci12</th><th scope=col>loci123</th><th scope=col>countLociFit</th></tr>\n",
       "\t<tr><th></th><th scope=col>&lt;int&gt;</th><th scope=col>&lt;int&gt;</th><th scope=col>&lt;int&gt;</th><th scope=col>&lt;int&gt;</th><th scope=col>&lt;int&gt;</th><th scope=col>&lt;int&gt;</th><th scope=col>&lt;dbl&gt;</th></tr>\n",
       "</thead>\n",
       "<tbody>\n",
       "\t<tr><th scope=row>58</th><td>1</td><td>2</td><td>589161</td><td>590041</td><td>40831</td><td>11287</td><td>11019</td></tr>\n",
       "\t<tr><th scope=row>115</th><td>1</td><td>3</td><td>589161</td><td>595535</td><td>52236</td><td>16031</td><td>15698</td></tr>\n",
       "\t<tr><th scope=row>116</th><td>2</td><td>3</td><td>590041</td><td>595535</td><td>50049</td><td>14847</td><td>14510</td></tr>\n",
       "\t<tr><th scope=row>172</th><td>1</td><td>4</td><td>589161</td><td>596259</td><td>54740</td><td>17286</td><td>16902</td></tr>\n",
       "\t<tr><th scope=row>173</th><td>2</td><td>4</td><td>590041</td><td>596259</td><td>55549</td><td>17935</td><td>17550</td></tr>\n",
       "\t<tr><th scope=row>174</th><td>3</td><td>4</td><td>595535</td><td>596259</td><td>50653</td><td>16210</td><td>15840</td></tr>\n",
       "</tbody>\n",
       "</table>\n"
      ],
      "text/latex": [
       "A data.frame: 6 x 7\n",
       "\\begin{tabular}{r|lllllll}\n",
       "  & file1 & file2 & loci1 & loci2 & loci12 & loci123 & countLociFit\\\\\n",
       "  & <int> & <int> & <int> & <int> & <int> & <int> & <dbl>\\\\\n",
       "\\hline\n",
       "\t58 & 1 & 2 & 589161 & 590041 & 40831 & 11287 & 11019\\\\\n",
       "\t115 & 1 & 3 & 589161 & 595535 & 52236 & 16031 & 15698\\\\\n",
       "\t116 & 2 & 3 & 590041 & 595535 & 50049 & 14847 & 14510\\\\\n",
       "\t172 & 1 & 4 & 589161 & 596259 & 54740 & 17286 & 16902\\\\\n",
       "\t173 & 2 & 4 & 590041 & 596259 & 55549 & 17935 & 17550\\\\\n",
       "\t174 & 3 & 4 & 595535 & 596259 & 50653 & 16210 & 15840\\\\\n",
       "\\end{tabular}\n"
      ],
      "text/markdown": [
       "\n",
       "A data.frame: 6 x 7\n",
       "\n",
       "| <!--/--> | file1 &lt;int&gt; | file2 &lt;int&gt; | loci1 &lt;int&gt; | loci2 &lt;int&gt; | loci12 &lt;int&gt; | loci123 &lt;int&gt; | countLociFit &lt;dbl&gt; |\n",
       "|---|---|---|---|---|---|---|---|\n",
       "| 58 | 1 | 2 | 589161 | 590041 | 40831 | 11287 | 11019 |\n",
       "| 115 | 1 | 3 | 589161 | 595535 | 52236 | 16031 | 15698 |\n",
       "| 116 | 2 | 3 | 590041 | 595535 | 50049 | 14847 | 14510 |\n",
       "| 172 | 1 | 4 | 589161 | 596259 | 54740 | 17286 | 16902 |\n",
       "| 173 | 2 | 4 | 590041 | 596259 | 55549 | 17935 | 17550 |\n",
       "| 174 | 3 | 4 | 595535 | 596259 | 50653 | 16210 | 15840 |\n",
       "\n"
      ],
      "text/plain": [
       "    file1 file2 loci1  loci2  loci12 loci123 countLociFit\n",
       "58  1     2     589161 590041 40831  11287   11019       \n",
       "115 1     3     589161 595535 52236  16031   15698       \n",
       "116 2     3     590041 595535 50049  14847   14510       \n",
       "172 1     4     589161 596259 54740  17286   16902       \n",
       "173 2     4     590041 596259 55549  17935   17550       \n",
       "174 3     4     595535 596259 50653  16210   15840       "
      ]
     },
     "metadata": {},
     "output_type": "display_data"
    }
   ],
   "source": [
    "head(df_fit)"
   ]
  },
  {
   "cell_type": "code",
   "execution_count": 86,
   "id": "11cbcc06-3e17-4efa-8ffc-8a7d7365c11f",
   "metadata": {
    "tags": []
   },
   "outputs": [
    {
     "data": {
      "text/html": [
       "42091"
      ],
      "text/latex": [
       "42091"
      ],
      "text/markdown": [
       "42091"
      ],
      "text/plain": [
       "[1] 42091"
      ]
     },
     "metadata": {},
     "output_type": "display_data"
    }
   ],
   "source": [
    "crossExpec=df_fit$countLociFit[df_fit$file1==which(grepl(\"AVI\",OH_files,fixed=TRUE)) & \n",
    "                              df_fit$file2==which(grepl(\"BET\",OH_files,fixed=TRUE))]\n",
    "crossExpec"
   ]
  },
  {
   "cell_type": "code",
   "execution_count": 87,
   "id": "70c6ecc7-9d06-447c-8e00-647f39946131",
   "metadata": {
    "tags": []
   },
   "outputs": [
    {
     "data": {
      "text/plain": [
       "   Min. 1st Qu.  Median    Mean 3rd Qu.    Max. \n",
       " 0.0000  0.2072  0.2893  0.2829  0.3388  0.6648 "
      ]
     },
     "metadata": {},
     "output_type": "display_data"
    }
   ],
   "source": [
    "df_fit$fracLociFit=df_fit$countLociFit/df_fit$loci12\n",
    "summary(df_fit$fracLociFit)"
   ]
  },
  {
   "cell_type": "code",
   "execution_count": 88,
   "id": "984f86f3-4628-4c3a-a597-ce0f8801fcbb",
   "metadata": {
    "tags": []
   },
   "outputs": [
    {
     "data": {
      "text/html": [
       "0.6035850003585"
      ],
      "text/latex": [
       "0.6035850003585"
      ],
      "text/markdown": [
       "0.6035850003585"
      ],
      "text/plain": [
       "[1] 0.603585"
      ]
     },
     "metadata": {},
     "output_type": "display_data"
    }
   ],
   "source": [
    "crossExpecFrac=df_fit$fracLociFit[df_fit$file1==which(grepl(\"AVI\",OH_files,fixed=TRUE)) & \n",
    "                              df_fit$file2==which(grepl(\"BET\",OH_files,fixed=TRUE))]\n",
    "crossExpecFrac"
   ]
  },
  {
   "cell_type": "code",
   "execution_count": 89,
   "id": "42f4b723-9c38-4d2e-86c1-6ca360bfe827",
   "metadata": {
    "tags": []
   },
   "outputs": [
    {
     "data": {
      "text/html": [
       "<table class=\"dataframe\">\n",
       "<caption>A data.frame: 6 x 8</caption>\n",
       "<thead>\n",
       "\t<tr><th></th><th scope=col>file1</th><th scope=col>file2</th><th scope=col>loci1</th><th scope=col>loci2</th><th scope=col>loci12</th><th scope=col>loci123</th><th scope=col>countLociFit</th><th scope=col>fracLociFit</th></tr>\n",
       "\t<tr><th></th><th scope=col>&lt;int&gt;</th><th scope=col>&lt;int&gt;</th><th scope=col>&lt;int&gt;</th><th scope=col>&lt;int&gt;</th><th scope=col>&lt;int&gt;</th><th scope=col>&lt;int&gt;</th><th scope=col>&lt;dbl&gt;</th><th scope=col>&lt;dbl&gt;</th></tr>\n",
       "</thead>\n",
       "<tbody>\n",
       "\t<tr><th scope=row>2138</th><td>29</td><td>38</td><td>594498</td><td>595408</td><td>64424</td><td>43107</td><td>42828</td><td>0.6647833</td></tr>\n",
       "\t<tr><th scope=row>2133</th><td>24</td><td>38</td><td>596639</td><td>595408</td><td>64549</td><td>43119</td><td>42836</td><td>0.6636199</td></tr>\n",
       "\t<tr><th scope=row>2134</th><td>25</td><td>38</td><td>595995</td><td>595408</td><td>64559</td><td>43110</td><td>42828</td><td>0.6633932</td></tr>\n",
       "\t<tr><th scope=row>2135</th><td>26</td><td>38</td><td>595924</td><td>595408</td><td>64537</td><td>43097</td><td>42813</td><td>0.6633869</td></tr>\n",
       "\t<tr><th scope=row>2136</th><td>27</td><td>38</td><td>597039</td><td>595408</td><td>64584</td><td>43119</td><td>42835</td><td>0.6632448</td></tr>\n",
       "\t<tr><th scope=row>2195</th><td>29</td><td>39</td><td>594498</td><td>588621</td><td>69664</td><td>42811</td><td>42462</td><td>0.6095257</td></tr>\n",
       "</tbody>\n",
       "</table>\n"
      ],
      "text/latex": [
       "A data.frame: 6 x 8\n",
       "\\begin{tabular}{r|llllllll}\n",
       "  & file1 & file2 & loci1 & loci2 & loci12 & loci123 & countLociFit & fracLociFit\\\\\n",
       "  & <int> & <int> & <int> & <int> & <int> & <int> & <dbl> & <dbl>\\\\\n",
       "\\hline\n",
       "\t2138 & 29 & 38 & 594498 & 595408 & 64424 & 43107 & 42828 & 0.6647833\\\\\n",
       "\t2133 & 24 & 38 & 596639 & 595408 & 64549 & 43119 & 42836 & 0.6636199\\\\\n",
       "\t2134 & 25 & 38 & 595995 & 595408 & 64559 & 43110 & 42828 & 0.6633932\\\\\n",
       "\t2135 & 26 & 38 & 595924 & 595408 & 64537 & 43097 & 42813 & 0.6633869\\\\\n",
       "\t2136 & 27 & 38 & 597039 & 595408 & 64584 & 43119 & 42835 & 0.6632448\\\\\n",
       "\t2195 & 29 & 39 & 594498 & 588621 & 69664 & 42811 & 42462 & 0.6095257\\\\\n",
       "\\end{tabular}\n"
      ],
      "text/markdown": [
       "\n",
       "A data.frame: 6 x 8\n",
       "\n",
       "| <!--/--> | file1 &lt;int&gt; | file2 &lt;int&gt; | loci1 &lt;int&gt; | loci2 &lt;int&gt; | loci12 &lt;int&gt; | loci123 &lt;int&gt; | countLociFit &lt;dbl&gt; | fracLociFit &lt;dbl&gt; |\n",
       "|---|---|---|---|---|---|---|---|---|\n",
       "| 2138 | 29 | 38 | 594498 | 595408 | 64424 | 43107 | 42828 | 0.6647833 |\n",
       "| 2133 | 24 | 38 | 596639 | 595408 | 64549 | 43119 | 42836 | 0.6636199 |\n",
       "| 2134 | 25 | 38 | 595995 | 595408 | 64559 | 43110 | 42828 | 0.6633932 |\n",
       "| 2135 | 26 | 38 | 595924 | 595408 | 64537 | 43097 | 42813 | 0.6633869 |\n",
       "| 2136 | 27 | 38 | 597039 | 595408 | 64584 | 43119 | 42835 | 0.6632448 |\n",
       "| 2195 | 29 | 39 | 594498 | 588621 | 69664 | 42811 | 42462 | 0.6095257 |\n",
       "\n"
      ],
      "text/plain": [
       "     file1 file2 loci1  loci2  loci12 loci123 countLociFit fracLociFit\n",
       "2138 29    38    594498 595408 64424  43107   42828        0.6647833  \n",
       "2133 24    38    596639 595408 64549  43119   42836        0.6636199  \n",
       "2134 25    38    595995 595408 64559  43110   42828        0.6633932  \n",
       "2135 26    38    595924 595408 64537  43097   42813        0.6633869  \n",
       "2136 27    38    597039 595408 64584  43119   42835        0.6632448  \n",
       "2195 29    39    594498 588621 69664  42811   42462        0.6095257  "
      ]
     },
     "metadata": {},
     "output_type": "display_data"
    }
   ],
   "source": [
    "head(df_fit[order(df_fit$fracLociFit, decreasing = TRUE),])"
   ]
  },
  {
   "cell_type": "code",
   "execution_count": 91,
   "id": "46b3a3ad-e21f-460a-b8ba-6d0d2f5e0ceb",
   "metadata": {
    "tags": []
   },
   "outputs": [
    {
     "name": "stderr",
     "output_type": "stream",
     "text": [
      "\u001b[1m\u001b[22m`stat_bin()` using `bins = 30`. Pick better value with `binwidth`.\n"
     ]
    },
    {
     "data": {
      "image/png": "[encoded data removed]",
      "text/plain": [
       "plot without title"
      ]
     },
     "metadata": {
      "image/png": {
       "height": 600,
       "width": 600
      }
     },
     "output_type": "display_data"
    }
   ],
   "source": [
    "ggplot(df_fit, aes(fracLociFit))+\n",
    "geom_histogram()+geom_vline(xintercept = crossExpecFrac, color=\"red\")+\n",
    "theme_bw(20)+xlab(\"Fraction of theoretically opposite homozygous loci\\nthat fit the pattern in the cross\")+\n",
    "ylab(\"Theoretical crosses between all strains I handled\")+\n",
    "ggtitle(\"\")"
   ]
  }
 ],
 "metadata": {
  "kernelspec": {
   "display_name": "R",
   "language": "R",
   "name": "ir"
  },
  "language_info": {
   "codemirror_mode": "r",
   "file_extension": ".r",
   "mimetype": "text/x-r-source",
   "name": "R",
   "pygments_lexer": "r",
   "version": "4.1.3"
  }
 },
 "nbformat": 4,
 "nbformat_minor": 5
}

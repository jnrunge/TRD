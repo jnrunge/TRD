{
 "cells": [
  {
   "cell_type": "markdown",
   "id": "968b5bc3-fc8e-4ad1-b3e3-a4aeee8b7415",
   "metadata": {},
   "source": [
    "I think that VCFs are totally not needed here and instead I should mpileup at the loci of interest for each sample and then analyze that output."
   ]
  },
  {
   "cell_type": "markdown",
   "id": "b0da7168-dbeb-49e4-bcf9-29ecb2279c09",
   "metadata": {},
   "source": [
    "````bash\n",
    "# get positions for a cross\n",
    "bcftools view -V indels,mnps,other -s ACP,BFP ~/data/TRD/1011Matrix.gvcf.gz | bcftools view -i 'F_MISSING==0 && GT[0] == \"hom\" && GT[1] == \"hom\" && AN != AC && AC != 0' | grep -v ^\\# | cut -f 1,2\n",
    "````"
   ]
  },
  {
   "cell_type": "code",
   "execution_count": null,
   "id": "7b690a61-06b7-40ae-8067-f9ca22ec7088",
   "metadata": {},
   "outputs": [],
   "source": [
    "cmd=paste0(\"bcftools mpileup --per-sample-mF --redo-BAQ --min-BQ 30 --min-MQ 30 --annotate FORMAT/AD,FORMAT/ADF,FORMAT/ADR,FORMAT/DP,FORMAT/SP,INFO/AD,INFO/ADF,INFO/ADR --threads 1 -Ob -o \",mpileup_name,\" -f \",ref,\" \",bams_df$bam[bamrow],\"\")"
   ]
  }
 ],
 "metadata": {
  "kernelspec": {
   "display_name": "R",
   "language": "R",
   "name": "ir"
  },
  "language_info": {
   "codemirror_mode": "r",
   "file_extension": ".r",
   "mimetype": "text/x-r-source",
   "name": "R",
   "pygments_lexer": "r",
   "version": "4.1.3"
  }
 },
 "nbformat": 4,
 "nbformat_minor": 5
}

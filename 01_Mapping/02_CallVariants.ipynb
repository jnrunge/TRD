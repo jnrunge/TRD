{
 "cells": [
  {
   "cell_type": "markdown",
   "id": "968b5bc3-fc8e-4ad1-b3e3-a4aeee8b7415",
   "metadata": {},
   "source": [
    "I think that VCFs are totally not needed here and instead I should mpileup at the loci of interest for each sample and then analyze that output."
   ]
  },
  {
   "cell_type": "code",
   "execution_count": 1,
   "id": "4f8d7917-4821-4a4b-9bcb-a2b4d3bc3ded",
   "metadata": {
    "tags": []
   },
   "outputs": [
    {
     "name": "stderr",
     "output_type": "stream",
     "text": [
      "\n",
      "Attaching package: 'dplyr'\n",
      "\n",
      "\n",
      "The following objects are masked from 'package:data.table':\n",
      "\n",
      "    between, first, last\n",
      "\n",
      "\n",
      "The following objects are masked from 'package:stats':\n",
      "\n",
      "    filter, lag\n",
      "\n",
      "\n",
      "The following objects are masked from 'package:base':\n",
      "\n",
      "    intersect, setdiff, setequal, union\n",
      "\n",
      "\n"
     ]
    }
   ],
   "source": [
    "source(\"../../BrusselSprouts/scripts/functions.R\")\n",
    "source(\"02_MpileupFunctions.r\")\n",
    "time_start=Sys.time()"
   ]
  },
  {
   "cell_type": "code",
   "execution_count": 2,
   "id": "9404f95a-6cd4-4847-a991-37bf5ee1244d",
   "metadata": {
    "tags": []
   },
   "outputs": [],
   "source": [
    "reference=\"/home/jnrunge/data/TRD/R64_nucl.fasta\""
   ]
  },
  {
   "cell_type": "code",
   "execution_count": 3,
   "id": "77571330-de8b-4f8a-bab6-bbb6e052fa05",
   "metadata": {},
   "outputs": [
    {
     "data": {
      "text/html": [
       "<style>\n",
       ".list-inline {list-style: none; margin:0; padding: 0}\n",
       ".list-inline>li {display: inline-block}\n",
       ".list-inline>li:not(:last-child)::after {content: \"\\00b7\"; padding: 0 .5ex}\n",
       "</style>\n",
       "<ol class=list-inline><li>'/home/jnrunge/data/trd/mapped_reads/YJNRC2.bam'</li><li>'/home/jnrunge/data/trd/mapped_reads/YJNRC17.bam'</li><li>'/home/jnrunge/data/trd/mapped_reads/YJNRC18.bam'</li></ol>\n"
      ],
      "text/latex": [
       "\\begin{enumerate*}\n",
       "\\item '/home/jnrunge/data/trd/mapped\\_reads/YJNRC2.bam'\n",
       "\\item '/home/jnrunge/data/trd/mapped\\_reads/YJNRC17.bam'\n",
       "\\item '/home/jnrunge/data/trd/mapped\\_reads/YJNRC18.bam'\n",
       "\\end{enumerate*}\n"
      ],
      "text/markdown": [
       "1. '/home/jnrunge/data/trd/mapped_reads/YJNRC2.bam'\n",
       "2. '/home/jnrunge/data/trd/mapped_reads/YJNRC17.bam'\n",
       "3. '/home/jnrunge/data/trd/mapped_reads/YJNRC18.bam'\n",
       "\n",
       "\n"
      ],
      "text/plain": [
       "[1] \"/home/jnrunge/data/trd/mapped_reads/YJNRC2.bam\" \n",
       "[2] \"/home/jnrunge/data/trd/mapped_reads/YJNRC17.bam\"\n",
       "[3] \"/home/jnrunge/data/trd/mapped_reads/YJNRC18.bam\""
      ]
     },
     "metadata": {},
     "output_type": "display_data"
    }
   ],
   "source": [
    "bam_files=list.files(path=\"~/data/trd/mapped_reads\",pattern=\"JNRC[0-9]*.bam$\",full.names = TRUE)\n",
    "bam_files=naturalsort(bam_files)\n",
    "bam_files"
   ]
  },
  {
   "cell_type": "code",
   "execution_count": 9,
   "id": "96162650-a1a2-4632-b771-cc75b3d59d76",
   "metadata": {},
   "outputs": [
    {
     "name": "stderr",
     "output_type": "stream",
     "text": [
      "\u001b[1m\u001b[22mNew names:\n",
      "\u001b[36m*\u001b[39m `Is in Stock` -> `Is in Stock...4`\n",
      "\u001b[36m*\u001b[39m `Is in Stock` -> `Is in Stock...6`\n"
     ]
    },
    {
     "data": {
      "text/html": [
       "<table class=\"dataframe\">\n",
       "<caption>A tibble: 6 x 3</caption>\n",
       "<thead>\n",
       "\t<tr><th scope=col>Cross ID</th><th scope=col>Short name 1</th><th scope=col>Short name 2</th></tr>\n",
       "\t<tr><th scope=col>&lt;chr&gt;</th><th scope=col>&lt;chr&gt;</th><th scope=col>&lt;chr&gt;</th></tr>\n",
       "</thead>\n",
       "<tbody>\n",
       "\t<tr><td>YJNRC1</td><td>BAK</td><td>BET</td></tr>\n",
       "\t<tr><td>YJNRC2</td><td>BAN</td><td>BTI</td></tr>\n",
       "\t<tr><td>YJNRC3</td><td>AKH</td><td>BQC</td></tr>\n",
       "\t<tr><td>YJNRC4</td><td>ABS</td><td>BEF</td></tr>\n",
       "\t<tr><td>YJNRC5</td><td>BAK</td><td>BMK</td></tr>\n",
       "\t<tr><td>YJNRC6</td><td>BAN</td><td>CRB</td></tr>\n",
       "</tbody>\n",
       "</table>\n"
      ],
      "text/latex": [
       "A tibble: 6 x 3\n",
       "\\begin{tabular}{lll}\n",
       " Cross ID & Short name 1 & Short name 2\\\\\n",
       " <chr> & <chr> & <chr>\\\\\n",
       "\\hline\n",
       "\t YJNRC1 & BAK & BET\\\\\n",
       "\t YJNRC2 & BAN & BTI\\\\\n",
       "\t YJNRC3 & AKH & BQC\\\\\n",
       "\t YJNRC4 & ABS & BEF\\\\\n",
       "\t YJNRC5 & BAK & BMK\\\\\n",
       "\t YJNRC6 & BAN & CRB\\\\\n",
       "\\end{tabular}\n"
      ],
      "text/markdown": [
       "\n",
       "A tibble: 6 x 3\n",
       "\n",
       "| Cross ID &lt;chr&gt; | Short name 1 &lt;chr&gt; | Short name 2 &lt;chr&gt; |\n",
       "|---|---|---|\n",
       "| YJNRC1 | BAK | BET |\n",
       "| YJNRC2 | BAN | BTI |\n",
       "| YJNRC3 | AKH | BQC |\n",
       "| YJNRC4 | ABS | BEF |\n",
       "| YJNRC5 | BAK | BMK |\n",
       "| YJNRC6 | BAN | CRB |\n",
       "\n"
      ],
      "text/plain": [
       "  Cross ID Short name 1 Short name 2\n",
       "1 YJNRC1   BAK          BET         \n",
       "2 YJNRC2   BAN          BTI         \n",
       "3 YJNRC3   AKH          BQC         \n",
       "4 YJNRC4   ABS          BEF         \n",
       "5 YJNRC5   BAK          BMK         \n",
       "6 YJNRC6   BAN          CRB         "
      ]
     },
     "metadata": {},
     "output_type": "display_data"
    },
    {
     "data": {
      "text/html": [
       "<table class=\"dataframe\">\n",
       "<caption>A tibble: 6 x 3</caption>\n",
       "<thead>\n",
       "\t<tr><th scope=col>Cross ID</th><th scope=col>Short name 1</th><th scope=col>Short name 2</th></tr>\n",
       "\t<tr><th scope=col>&lt;chr&gt;</th><th scope=col>&lt;chr&gt;</th><th scope=col>&lt;chr&gt;</th></tr>\n",
       "</thead>\n",
       "<tbody>\n",
       "\t<tr><td>YJNRC29</td><td>AAR</td><td>CPG</td></tr>\n",
       "\t<tr><td>YJNRC30</td><td>ABG</td><td>CPG</td></tr>\n",
       "\t<tr><td>YJNRC31</td><td>AKI</td><td>CPG</td></tr>\n",
       "\t<tr><td>YJNRC32</td><td>ATE</td><td>CPG</td></tr>\n",
       "\t<tr><td>YJNRC33</td><td>AAR</td><td>AKH</td></tr>\n",
       "\t<tr><td>YJNRC34</td><td>AKH</td><td>AKQ</td></tr>\n",
       "</tbody>\n",
       "</table>\n"
      ],
      "text/latex": [
       "A tibble: 6 x 3\n",
       "\\begin{tabular}{lll}\n",
       " Cross ID & Short name 1 & Short name 2\\\\\n",
       " <chr> & <chr> & <chr>\\\\\n",
       "\\hline\n",
       "\t YJNRC29 & AAR & CPG\\\\\n",
       "\t YJNRC30 & ABG & CPG\\\\\n",
       "\t YJNRC31 & AKI & CPG\\\\\n",
       "\t YJNRC32 & ATE & CPG\\\\\n",
       "\t YJNRC33 & AAR & AKH\\\\\n",
       "\t YJNRC34 & AKH & AKQ\\\\\n",
       "\\end{tabular}\n"
      ],
      "text/markdown": [
       "\n",
       "A tibble: 6 x 3\n",
       "\n",
       "| Cross ID &lt;chr&gt; | Short name 1 &lt;chr&gt; | Short name 2 &lt;chr&gt; |\n",
       "|---|---|---|\n",
       "| YJNRC29 | AAR | CPG |\n",
       "| YJNRC30 | ABG | CPG |\n",
       "| YJNRC31 | AKI | CPG |\n",
       "| YJNRC32 | ATE | CPG |\n",
       "| YJNRC33 | AAR | AKH |\n",
       "| YJNRC34 | AKH | AKQ |\n",
       "\n"
      ],
      "text/plain": [
       "  Cross ID Short name 1 Short name 2\n",
       "1 YJNRC29  AAR          CPG         \n",
       "2 YJNRC30  ABG          CPG         \n",
       "3 YJNRC31  AKI          CPG         \n",
       "4 YJNRC32  ATE          CPG         \n",
       "5 YJNRC33  AAR          AKH         \n",
       "6 YJNRC34  AKH          AKQ         "
      ]
     },
     "metadata": {},
     "output_type": "display_data"
    }
   ],
   "source": [
    "Crosses=readxl::read_xlsx(\"~/data/trd/Crosses.xlsx\", sheet=2)\n",
    "head(Crosses<-Crosses[,c(\"Cross ID\",\"Short name 1\",\"Short name 2\")])\n",
    "tail(Crosses)"
   ]
  },
  {
   "cell_type": "code",
   "execution_count": 10,
   "id": "ead9a2ea-e179-48e6-8797-c5c0417d82a3",
   "metadata": {
    "tags": []
   },
   "outputs": [
    {
     "data": {
      "text/html": [
       "<table class=\"dataframe\">\n",
       "<caption>A tibble: 1 x 3</caption>\n",
       "<thead>\n",
       "\t<tr><th scope=col>Cross ID</th><th scope=col>Short name 1</th><th scope=col>Short name 2</th></tr>\n",
       "\t<tr><th scope=col>&lt;chr&gt;</th><th scope=col>&lt;chr&gt;</th><th scope=col>&lt;chr&gt;</th></tr>\n",
       "</thead>\n",
       "<tbody>\n",
       "\t<tr><td>YJNRC17</td><td>AVI</td><td>BET</td></tr>\n",
       "</tbody>\n",
       "</table>\n"
      ],
      "text/latex": [
       "A tibble: 1 x 3\n",
       "\\begin{tabular}{lll}\n",
       " Cross ID & Short name 1 & Short name 2\\\\\n",
       " <chr> & <chr> & <chr>\\\\\n",
       "\\hline\n",
       "\t YJNRC17 & AVI & BET\\\\\n",
       "\\end{tabular}\n"
      ],
      "text/markdown": [
       "\n",
       "A tibble: 1 x 3\n",
       "\n",
       "| Cross ID &lt;chr&gt; | Short name 1 &lt;chr&gt; | Short name 2 &lt;chr&gt; |\n",
       "|---|---|---|\n",
       "| YJNRC17 | AVI | BET |\n",
       "\n"
      ],
      "text/plain": [
       "  Cross ID Short name 1 Short name 2\n",
       "1 YJNRC17  AVI          BET         "
      ]
     },
     "metadata": {},
     "output_type": "display_data"
    }
   ],
   "source": [
    "Crosses[Crosses$`Cross ID`==\"YJNRC17\",]"
   ]
  },
  {
   "cell_type": "code",
   "execution_count": 5,
   "id": "81f4a267-1c34-4916-be4d-b5375e101d0b",
   "metadata": {
    "tags": []
   },
   "outputs": [],
   "source": [
    "cross=unlist(lapply(basename(bam_files), getFirst_v2, split=\".\"))\n",
    "cross=cross"
   ]
  },
  {
   "cell_type": "code",
   "execution_count": 6,
   "id": "f45146d6-990c-4012-b4c5-022ffdfacf78",
   "metadata": {
    "tags": []
   },
   "outputs": [
    {
     "data": {
      "text/html": [
       "<style>\n",
       ".list-inline {list-style: none; margin:0; padding: 0}\n",
       ".list-inline>li {display: inline-block}\n",
       ".list-inline>li:not(:last-child)::after {content: \"\\00b7\"; padding: 0 .5ex}\n",
       "</style>\n",
       "<ol class=list-inline><li>'YJNRC2'</li><li>'YJNRC17'</li><li>'YJNRC18'</li></ol>\n"
      ],
      "text/latex": [
       "\\begin{enumerate*}\n",
       "\\item 'YJNRC2'\n",
       "\\item 'YJNRC17'\n",
       "\\item 'YJNRC18'\n",
       "\\end{enumerate*}\n"
      ],
      "text/markdown": [
       "1. 'YJNRC2'\n",
       "2. 'YJNRC17'\n",
       "3. 'YJNRC18'\n",
       "\n",
       "\n"
      ],
      "text/plain": [
       "[1] \"YJNRC2\"  \"YJNRC17\" \"YJNRC18\""
      ]
     },
     "metadata": {},
     "output_type": "display_data"
    }
   ],
   "source": [
    "cross"
   ]
  },
  {
   "cell_type": "code",
   "execution_count": 7,
   "id": "261605d0-8d77-4389-b876-7410a869c230",
   "metadata": {
    "tags": []
   },
   "outputs": [],
   "source": [
    "getBase=function(x, which){\n",
    "        base=as.numeric(substr(initial_GTs[x,5+which],1,1))\n",
    "        if(base==0){\n",
    "            return(initial_GTs[x,3])\n",
    "        }\n",
    "        V4=strsplit(initial_GTs[x,4],split = \",\",fixed=TRUE)[[1]]\n",
    "        return(V4[base])\n",
    "    }"
   ]
  },
  {
   "cell_type": "code",
   "execution_count": 8,
   "id": "d818f962-dfda-4b8e-bdaa-b1cc81579f2c",
   "metadata": {
    "tags": []
   },
   "outputs": [],
   "source": [
    "state=list()\n",
    "while(sum(unlist(state)==\"MP-done\")!=length(cross))\n",
    "    {\n",
    "    \n",
    "\n",
    "for(i in 1:length(cross)){\n",
    "    state[[i]]=\"running\"\n",
    "    if(file.exists(paste0(\"~/data/trd/genotypes/\",cross[i],\".mpileup-readable.txt.gz\"))){\n",
    "        #next\n",
    "        #state[[i]]=\"MP-done\"\n",
    "    }\n",
    "    # get the opp. homo. loci from the main vcf\n",
    "    cmd=paste0(\"sh ~/TRD/01_Mapping/02_FindOHLoci.sh \",Crosses$`Short name 1`[Crosses$`Cross ID`==cross[i]],\" \",Crosses$`Short name 2`[Crosses$`Cross ID`==cross[i]],\" \",cross[i])\n",
    "    \n",
    "    if(file.exists(paste0(\"~/data/TRD/Oppo-Homo-Pos/\",cross[i],\".running\"))){\n",
    "        if(file.mtime(paste0(\"~/data/TRD/Oppo-Homo-Pos/\",cross[i],\".running\"))>=time_start){\n",
    "            state[[i]]=\"OH-running\"\n",
    "        }\n",
    "        }\n",
    "\n",
    "    if(!file.exists(paste0(\"~/data/TRD/Oppo-Homo-Pos/\",cross[i],\".ohloci.gz\"))){\n",
    "         if(state[[i]]!=\"OH-running\"){\n",
    "            execute_cmd_sbatch(cmd,mem = \"4gb\", cpu=\"1\", env=\"bwaetc\", jobname = \"GetOHLoci\")\n",
    "        }\n",
    "        \n",
    "\n",
    "        if(!file.exists(paste0(\"~/data/TRD/Oppo-Homo-Pos/\",cross[i],\".done\"))){\n",
    "            state[[i]]=\"OH-running\"\n",
    "            next\n",
    "        }\n",
    "        if(file.mtime(paste0(\"~/data/TRD/Oppo-Homo-Pos/\",cross[i],\".done\"))<time_start){\n",
    "            state[[i]]=\"OH-running\"\n",
    "                next\n",
    "                }\n",
    "    }\n",
    "    \n",
    "    state[[i]]=\"OH-done\"\n",
    "\n",
    "    initial_GTs=fread(paste0(\"~/data/TRD/Oppo-Homo-Pos/\",cross[i],\".ohloci.GT.gz\"))\n",
    "    initial_GTs$V5=unlist(lapply(initial_GTs$V5, getFirst_v2, split=\":\"))\n",
    "    initial_GTs$V6=unlist(lapply(initial_GTs$V6, getFirst_v2, split=\":\"))\n",
    "    initial_GTs$baseID1=unlist(lapply(1:nrow(initial_GTs), getBase, which=0))\n",
    "    initial_GTs$baseID2=unlist(lapply(1:nrow(initial_GTs), getBase, which=1))\n",
    "    initial_GTs=initial_GTs[,c(\"V1\",\"V2\",\"baseID1\",\"baseID2\")]\n",
    "    head(initial_GTs)\n",
    "    \n",
    "    if(!file.exists(paste0(\"~/data/trd/genotypes/\",cross[i],\".mpileup.txt.gz\"))){\n",
    "\n",
    "        cmd=paste0(\"touch \",cross[i],\".mpileup.running && gunzip \",\"~/data/TRD/Oppo-Homo-Pos/\",cross[i],\".ohloci.gz && cd ~/data/trd/genotypes && samtools mpileup --redo-BAQ --min-BQ 30 --min-MQ 30 -l \",\"~/data/TRD/Oppo-Homo-Pos/\",cross[i],\".ohloci\",\n",
    "                   \" -o \",cross[i],\".mpileup.txt -f \",reference,\" \",bam_files[i],\" && gzip -f \",cross[i],\".mpileup.txt && gzip -f \",\"~/data/TRD/Oppo-Homo-Pos/\",cross[i],\".ohloci && touch \",cross[i],\".mpileup.done\")\n",
    "        \n",
    "        if(file.exists(paste0(\"~/data/TRD/Oppo-Homo-Pos/\",cross[i],\".mpileup.running\"))){\n",
    "        if(file.mtime(paste0(\"~/data/TRD/Oppo-Homo-Pos/\",cross[i],\".mpileup.running\"))>=time_start){\n",
    "            state[[i]]=\"MP-running\"\n",
    "        }\n",
    "        }\n",
    "        if(state[[i]]!=\"MP-running\"){\n",
    "            execute_cmd_sbatch(cmd,mem = \"4gb\", cpu=\"1\", env=\"bwaetc\", jobname = \"Mpileup\")\n",
    "        }\n",
    "\n",
    "        \n",
    "\n",
    "            if(!file.exists(paste0(\"~/data/trd/genotypes/\",cross[i],\".mpileup.done\"))){\n",
    "                state[[i]]=\"MP-running\"\n",
    "                next\n",
    "            }\n",
    "            if(file.mtime(paste0(\"~/data/trd/genotypes/\",cross[i],\".mpileup.done\"))<time_start){\n",
    "                state[[i]]=\"MP-running\"\n",
    "                    next\n",
    "                    }\n",
    "        }\n",
    "    \n",
    "    state[[i]]=\"MP-done\"\n",
    "\n",
    "    mpileup_df=fread(paste0(\"~/data/trd/genotypes/\",cross[i],\".mpileup.txt.gz\"))\n",
    "    mpileup_df=bind_cols(mpileup_df,stringr_count_bases(string_column = mpileup_df$V5, ref_column = mpileup_df$V3))\n",
    "    mpileup_df=left_join(mpileup_df, initial_GTs, by=c(\"V1\",\"V2\"))\n",
    "    mpileup_df$countID1=0\n",
    "    mpileup_df$countID2=0\n",
    "    colnames(mpileup_df)[7:10]=toupper(colnames(mpileup_df)[7:10])\n",
    "    for(j in 1:nrow(mpileup_df)){\n",
    "        mpileup_df$countID1[j]=mpileup_df[j,mpileup_df$baseID1[j]]\n",
    "        mpileup_df$countID2[j]=mpileup_df[j,mpileup_df$baseID2[j]]\n",
    "    }\n",
    "    head(mpileup_df)\n",
    "    colnames(mpileup_df)[1:2]=c(\"chr\",\"pos\")\n",
    "    fwrite(mpileup_df[,c(\"chr\",\"pos\",\"countID1\",\"countID2\")],\n",
    "          paste0(\"~/data/trd/genotypes/\",cross[i],\".mpileup-readable.txt.gz\"))\n",
    "}\n",
    "    Sys.sleep(60)\n",
    "    }\n",
    "    \n",
    "    "
   ]
  },
  {
   "cell_type": "code",
   "execution_count": null,
   "id": "c8a2a5ab-7785-4010-86a3-754c5db05c85",
   "metadata": {
    "tags": []
   },
   "outputs": [],
   "source": [
    "state"
   ]
  }
 ],
 "metadata": {
  "kernelspec": {
   "display_name": "R",
   "language": "R",
   "name": "ir"
  },
  "language_info": {
   "codemirror_mode": "r",
   "file_extension": ".r",
   "mimetype": "text/x-r-source",
   "name": "R",
   "pygments_lexer": "r",
   "version": "4.1.3"
  }
 },
 "nbformat": 4,
 "nbformat_minor": 5
}

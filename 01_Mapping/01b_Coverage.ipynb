{
 "cells": [
  {
   "cell_type": "markdown",
   "id": "96435f9f-421e-47fe-88bc-be75ec84c8e5",
   "metadata": {},
   "source": [
    "**REDUNDANT?**"
   ]
  },
  {
   "cell_type": "code",
   "execution_count": 1,
   "id": "a1d32696-45fb-44d2-ab5e-bfe952e2339a",
   "metadata": {
    "tags": []
   },
   "outputs": [
    {
     "name": "stderr",
     "output_type": "stream",
     "text": [
      "\n",
      "Attaching package: 'dplyr'\n",
      "\n",
      "\n",
      "The following objects are masked from 'package:data.table':\n",
      "\n",
      "    between, first, last\n",
      "\n",
      "\n",
      "The following objects are masked from 'package:stats':\n",
      "\n",
      "    filter, lag\n",
      "\n",
      "\n",
      "The following objects are masked from 'package:base':\n",
      "\n",
      "    intersect, setdiff, setequal, union\n",
      "\n",
      "\n"
     ]
    }
   ],
   "source": [
    "source(\"../../BrusselSprouts/scripts/functions.R\")\n",
    "\n",
    "\n",
    "scripts_dir=\"/home/jnrunge/data/trd/mapped_reads/scripts/\"\n",
    "\n",
    "initial_timedate=Sys.time()\n",
    "\n",
    "# what needs to be done is individually, and parallely genotype all crosses, then merge them into a DB, and once call the joint genotyping (once per batch of sequencing, so twice in total)\n",
    "\n",
    "bam_files=list.files(path=\"~/data/trd/mapped_reads\",pattern=\"JNRC[0-9]*.bam$\",full.names = TRUE)\n",
    "bam_files=c(bam_files, list.files(path=\"~/data/trd/mapped_reads\",pattern=\"ChrisC[0-9].bam$\",full.names = TRUE))\n",
    "bam_files=naturalsort(bam_files)\n",
    "crosses=unlist(lapply(basename(bam_files), getFirst_v2, split=\".\"))"
   ]
  },
  {
   "cell_type": "code",
   "execution_count": 2,
   "id": "b6dbde1a-9086-44a9-864b-42cbc54abea4",
   "metadata": {
    "tags": []
   },
   "outputs": [],
   "source": [
    "for(b in bam_files){\n",
    "    if(file.exists(paste0(b,\".depth.gz\"))){\n",
    "        next\n",
    "    }\n",
    "    cmd=paste0(\"samtools depth \",b,\" | gzip > \",b,\".depth.gz\")\n",
    "    execute_cmd_sbatch(cmd,mem=\"4G\",cpu=\"1\",time=\"short\",env=\"bwaetc\",jobname=\"SamDepth\")\n",
    "    Sys.sleep(1)\n",
    "}"
   ]
  },
  {
   "cell_type": "code",
   "execution_count": null,
   "id": "52805184-e795-454e-b070-6dfd0a7f8f4d",
   "metadata": {},
   "outputs": [],
   "source": [
    "# wait till finished"
   ]
  },
  {
   "cell_type": "code",
   "execution_count": 74,
   "id": "c20c3f5a-433c-4ee3-98ad-e9e5449c985e",
   "metadata": {
    "tags": []
   },
   "outputs": [
    {
     "name": "stderr",
     "output_type": "stream",
     "text": [
      "\u001b[1m\u001b[22m`summarise()` has grouped output by 'V1'. You can override using the `.groups` argument.\n",
      "\u001b[1m\u001b[22m`summarise()` has grouped output by 'V1'. You can override using the `.groups` argument.\n",
      "\u001b[1m\u001b[22m`summarise()` has grouped output by 'V1'. You can override using the `.groups` argument.\n",
      "\u001b[1m\u001b[22m`summarise()` has grouped output by 'V1'. You can override using the `.groups` argument.\n",
      "\u001b[1m\u001b[22m`summarise()` has grouped output by 'V1'. You can override using the `.groups` argument.\n",
      "\u001b[1m\u001b[22m`summarise()` has grouped output by 'V1'. You can override using the `.groups` argument.\n",
      "\u001b[1m\u001b[22m`summarise()` has grouped output by 'V1'. You can override using the `.groups` argument.\n",
      "\u001b[1m\u001b[22m`summarise()` has grouped output by 'V1'. You can override using the `.groups` argument.\n",
      "\u001b[1m\u001b[22m`summarise()` has grouped output by 'V1'. You can override using the `.groups` argument.\n",
      "\u001b[1m\u001b[22m`summarise()` has grouped output by 'V1'. You can override using the `.groups` argument.\n",
      "\u001b[1m\u001b[22m`summarise()` has grouped output by 'V1'. You can override using the `.groups` argument.\n"
     ]
    }
   ],
   "source": [
    "for(b in bam_files){\n",
    "    cov=fread(paste0(b,\".depth.gz\"))\n",
    "\n",
    "    cov_summary=cov %>%\n",
    "      group_by(V1, window = cut(V2, breaks = seq(min(V2), max(V2), by = 1000) \n",
    "                                , \n",
    "                                labels = seq(min(V2), max(V2), by = 1000)[-length(seq(min(V2), max(V2), by = 1000))]\n",
    "                               )\n",
    "              ) %>%\n",
    "      summarise(avg_cov = mean(V3)) %>% filter(!is.na(window))\n",
    "\n",
    "    cov_summary=mutate(cov_summary, window=as.numeric(as.character(window)))\n",
    "\n",
    "    summary(cov_summary)\n",
    "\n",
    "    colnames(cov_summary)[1]=\"chr\"\n",
    "    cov_summary=cov_summary[naturalorder(cov_summary$chr),]\n",
    "\n",
    "    chrs=summarise(group_by(cov_summary, chr),maxpos=max(window)+1000)\n",
    "    chrs=chrs[naturalorder(chrs$chr),]\n",
    "\n",
    "    cov_summary$global_pos=cov_summary$window\n",
    "        for(c in 2:length(unique(chrs$chr))){\n",
    "            chr=unique(chrs$chr)[c]\n",
    "            cov_summary$global_pos[cov_summary$chr==chr]=cov_summary$window[cov_summary$chr==chr]+sum(chrs$maxpos[chrs$chr%in%unique(cov_summary$chr)[1:(c-1)]])\n",
    "    }\n",
    "    \n",
    "    fwrite(cov_summary, paste0(b,\".depth.gz.summary.gz\"))\n",
    "    \n",
    "    \n",
    "    }"
   ]
  }
 ],
 "metadata": {
  "kernelspec": {
   "display_name": "R",
   "language": "R",
   "name": "ir"
  },
  "language_info": {
   "codemirror_mode": "r",
   "file_extension": ".r",
   "mimetype": "text/x-r-source",
   "name": "R",
   "pygments_lexer": "r",
   "version": "4.1.3"
  }
 },
 "nbformat": 4,
 "nbformat_minor": 5
}

{
 "cells": [
  {
   "cell_type": "markdown",
   "id": "6dc60972",
   "metadata": {},
   "source": [
    "````bash\n",
    "\n",
    "bcftools view -i 'FORMAT/GQ >= 20 & FORMAT/DP >= 10' 1011Matrix.gvcf.gz | bcftools view -m2 --types snps -i 'F_MISSING < 0.1' -Oz -o 1011Matrix.GQ20.DP10.SNPs.Miss10.gvcf.gz \n",
    "\n",
    "````"
   ]
  }
 ],
 "metadata": {
  "kernelspec": {
   "display_name": "R",
   "language": "R",
   "name": "ir"
  },
  "language_info": {
   "codemirror_mode": "r",
   "file_extension": ".r",
   "mimetype": "text/x-r-source",
   "name": "R",
   "pygments_lexer": "r",
   "version": "4.1.3"
  }
 },
 "nbformat": 4,
 "nbformat_minor": 5
}

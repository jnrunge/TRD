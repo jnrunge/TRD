{
 "cells": [
  {
   "cell_type": "code",
   "execution_count": 55,
   "id": "6eb1345a",
   "metadata": {},
   "outputs": [
    {
     "name": "stderr",
     "output_type": "stream",
     "text": [
      "\n",
      "Attaching package: 'dplyr'\n",
      "\n",
      "\n",
      "The following objects are masked from 'package:data.table':\n",
      "\n",
      "    between, first, last\n",
      "\n",
      "\n",
      "The following objects are masked from 'package:stats':\n",
      "\n",
      "    filter, lag\n",
      "\n",
      "\n",
      "The following objects are masked from 'package:base':\n",
      "\n",
      "    intersect, setdiff, setequal, union\n",
      "\n",
      "\n"
     ]
    }
   ],
   "source": [
    "library(ggplot2)\n",
    "library(naturalsort)\n",
    "library(stringr)\n",
    "library(vcfR)\n",
    "library(data.table)\n",
    "library(dplyr)"
   ]
  },
  {
   "cell_type": "code",
   "execution_count": 33,
   "id": "9d23ef3e",
   "metadata": {},
   "outputs": [],
   "source": [
    "df_coverage_chris<-fread(\"/home/ceberlein/02_ANALYSES/02_TRD/02_Coverage_AlleleFreq/Coverage_TRD_Scerevisiae.csv\", data.table = FALSE)"
   ]
  },
  {
   "cell_type": "code",
   "execution_count": 111,
   "id": "2ca57be7",
   "metadata": {},
   "outputs": [
    {
     "data": {
      "text/html": [
       "<style>\n",
       ".list-inline {list-style: none; margin:0; padding: 0}\n",
       ".list-inline>li {display: inline-block}\n",
       ".list-inline>li:not(:last-child)::after {content: \"\\00b7\"; padding: 0 .5ex}\n",
       "</style>\n",
       "<ol class=list-inline><li>'ceberlein_data/1_ACPxBFP.vcf.m2M3-snps.vcf.gz'</li><li>'ceberlein_data/2_BAPxCMP.vcf.m2M3-snps.vcf.gz'</li><li>'ceberlein_data/3_CCDxCPG.vcf.m2M3-snps.vcf.gz'</li><li>'ceberlein_data/4_ATExYCR.vcf.m2M3-snps.vcf.gz'</li><li>'ceberlein_data/5_ACKxACV.vcf.m2M3-snps.vcf.gz'</li><li>'ceberlein_data/6_AKExBAH.vcf.m2M3-snps.vcf.gz'</li><li>'ceberlein_data/7_BAHxCGD.vcf.m2M3-snps.vcf.gz'</li><li>'ceberlein_data/8_ANGxCEI.vcf.m2M3-snps.vcf.gz'</li></ol>\n"
      ],
      "text/latex": [
       "\\begin{enumerate*}\n",
       "\\item 'ceberlein\\_data/1\\_ACPxBFP.vcf.m2M3-snps.vcf.gz'\n",
       "\\item 'ceberlein\\_data/2\\_BAPxCMP.vcf.m2M3-snps.vcf.gz'\n",
       "\\item 'ceberlein\\_data/3\\_CCDxCPG.vcf.m2M3-snps.vcf.gz'\n",
       "\\item 'ceberlein\\_data/4\\_ATExYCR.vcf.m2M3-snps.vcf.gz'\n",
       "\\item 'ceberlein\\_data/5\\_ACKxACV.vcf.m2M3-snps.vcf.gz'\n",
       "\\item 'ceberlein\\_data/6\\_AKExBAH.vcf.m2M3-snps.vcf.gz'\n",
       "\\item 'ceberlein\\_data/7\\_BAHxCGD.vcf.m2M3-snps.vcf.gz'\n",
       "\\item 'ceberlein\\_data/8\\_ANGxCEI.vcf.m2M3-snps.vcf.gz'\n",
       "\\end{enumerate*}\n"
      ],
      "text/markdown": [
       "1. 'ceberlein_data/1_ACPxBFP.vcf.m2M3-snps.vcf.gz'\n",
       "2. 'ceberlein_data/2_BAPxCMP.vcf.m2M3-snps.vcf.gz'\n",
       "3. 'ceberlein_data/3_CCDxCPG.vcf.m2M3-snps.vcf.gz'\n",
       "4. 'ceberlein_data/4_ATExYCR.vcf.m2M3-snps.vcf.gz'\n",
       "5. 'ceberlein_data/5_ACKxACV.vcf.m2M3-snps.vcf.gz'\n",
       "6. 'ceberlein_data/6_AKExBAH.vcf.m2M3-snps.vcf.gz'\n",
       "7. 'ceberlein_data/7_BAHxCGD.vcf.m2M3-snps.vcf.gz'\n",
       "8. 'ceberlein_data/8_ANGxCEI.vcf.m2M3-snps.vcf.gz'\n",
       "\n",
       "\n"
      ],
      "text/plain": [
       "[1] \"ceberlein_data/1_ACPxBFP.vcf.m2M3-snps.vcf.gz\"\n",
       "[2] \"ceberlein_data/2_BAPxCMP.vcf.m2M3-snps.vcf.gz\"\n",
       "[3] \"ceberlein_data/3_CCDxCPG.vcf.m2M3-snps.vcf.gz\"\n",
       "[4] \"ceberlein_data/4_ATExYCR.vcf.m2M3-snps.vcf.gz\"\n",
       "[5] \"ceberlein_data/5_ACKxACV.vcf.m2M3-snps.vcf.gz\"\n",
       "[6] \"ceberlein_data/6_AKExBAH.vcf.m2M3-snps.vcf.gz\"\n",
       "[7] \"ceberlein_data/7_BAHxCGD.vcf.m2M3-snps.vcf.gz\"\n",
       "[8] \"ceberlein_data/8_ANGxCEI.vcf.m2M3-snps.vcf.gz\""
      ]
     },
     "metadata": {},
     "output_type": "display_data"
    }
   ],
   "source": [
    "vcfs=dir(path = \"ceberlein_data\", pattern=\"vcf.m2M3-snps.vcf.gz$\", full.names = TRUE)\n",
    "vcfs"
   ]
  },
  {
   "cell_type": "code",
   "execution_count": 112,
   "id": "0d6e023a",
   "metadata": {},
   "outputs": [],
   "source": [
    "getCrossName=function(x){\n",
    "  return(str_replace(str_split(basename(x),\"_\")[[1]][2], \".vcf.m2M3-snps.vcf.gz\", \"\"))\n",
    "}\n",
    "getColsInGTfile=function(x){\n",
    "    return(colnames(homozygous_gt)[grepl(x,colnames(homozygous_gt))])\n",
    "}"
   ]
  },
  {
   "cell_type": "markdown",
   "id": "fa85df01",
   "metadata": {},
   "source": [
    "I will generate figures with different subsets of the data of all VCFs."
   ]
  },
  {
   "cell_type": "code",
   "execution_count": 132,
   "id": "ede01608",
   "metadata": {},
   "outputs": [],
   "source": [
    "getPart=function(x,which){\n",
    "    if(is.na(x)){\n",
    "        return(NA)\n",
    "    }\n",
    "    tmpsplit<-strsplit(x, split = \",\", fixed = TRUE)[[1]]\n",
    "    #print(as.numeric(tmpsplit))\n",
    "    if(length(tmpsplit)==2)\n",
    "        {\n",
    "        return(as.numeric(tmpsplit[which]))\n",
    "    }\n",
    "    if(length(tmpsplit)==3)\n",
    "        {\n",
    "        if((as.numeric(tmpsplit[1])/(as.numeric(tmpsplit[1])+as.numeric(tmpsplit[2])+as.numeric(tmpsplit[3])))<0.05){\n",
    "            return(NA)\n",
    "        }\n",
    "        return(as.numeric(tmpsplit[which+1]))\n",
    "    }\n",
    "    \n",
    "    stop(\"Assumption about alleles wrong!\")\n",
    "}\n",
    "getPartNumber=function(x){\n",
    "    return(as.numeric(length(strsplit(x, split = \",\", fixed = TRUE)[[1]])))\n",
    "}\n",
    "IsLocusInGoodRegion=function(x){\n",
    "    return(sum(df$POS[x] >= filtered_regions$Start[filtered_regions$chrom==df$CHROM[x]] & \n",
    "               df$POS[x] <= filtered_regions$Stop[filtered_regions$chrom==df$CHROM[x]]))\n",
    "}"
   ]
  },
  {
   "cell_type": "code",
   "execution_count": 133,
   "id": "85d2080e",
   "metadata": {},
   "outputs": [
    {
     "name": "stderr",
     "output_type": "stream",
     "text": [
      "Warning message:\n",
      "\"Removed 103 rows containing missing values (geom_point).\"\n",
      "Warning message:\n",
      "\"Removed 58 rows containing missing values (geom_point).\"\n",
      "`stat_bin()` using `bins = 30`. Pick better value with `binwidth`.\n",
      "\n",
      "Warning message:\n",
      "\"Removed 45 rows containing missing values (geom_point).\"\n",
      "Warning message:\n",
      "\"Removed 36 rows containing missing values (geom_point).\"\n",
      "Warning message:\n",
      "\"Removed 33 rows containing missing values (geom_point).\"\n",
      "Warning message:\n",
      "\"Removed 192 rows containing missing values (geom_point).\"\n",
      "Warning message:\n",
      "\"Removed 122 rows containing missing values (geom_point).\"\n",
      "`stat_bin()` using `bins = 30`. Pick better value with `binwidth`.\n",
      "\n",
      "Warning message:\n",
      "\"Removed 83 rows containing missing values (geom_point).\"\n",
      "Warning message:\n",
      "\"Removed 65 rows containing missing values (geom_point).\"\n",
      "Warning message:\n",
      "\"Removed 64 rows containing missing values (geom_point).\"\n",
      "Warning message:\n",
      "\"Removed 245 rows containing missing values (geom_point).\"\n",
      "Warning message:\n",
      "\"Removed 147 rows containing missing values (geom_point).\"\n",
      "`stat_bin()` using `bins = 30`. Pick better value with `binwidth`.\n",
      "\n",
      "Warning message:\n",
      "\"Removed 113 rows containing missing values (geom_point).\"\n",
      "Warning message:\n",
      "\"Removed 97 rows containing missing values (geom_point).\"\n",
      "Warning message:\n",
      "\"Removed 84 rows containing missing values (geom_point).\"\n",
      "Warning message:\n",
      "\"Removed 306 rows containing missing values (geom_point).\"\n",
      "Warning message:\n",
      "\"Removed 227 rows containing missing values (geom_point).\"\n",
      "`stat_bin()` using `bins = 30`. Pick better value with `binwidth`.\n",
      "\n",
      "Warning message:\n",
      "\"Removed 182 rows containing missing values (geom_point).\"\n",
      "Warning message:\n",
      "\"Removed 168 rows containing missing values (geom_point).\"\n",
      "Warning message:\n",
      "\"Removed 167 rows containing missing values (geom_point).\"\n",
      "Warning message:\n",
      "\"Removed 57 rows containing missing values (geom_point).\"\n",
      "Warning message:\n",
      "\"Removed 34 rows containing missing values (geom_point).\"\n",
      "`stat_bin()` using `bins = 30`. Pick better value with `binwidth`.\n",
      "\n",
      "Warning message:\n",
      "\"Removed 25 rows containing missing values (geom_point).\"\n",
      "Warning message:\n",
      "\"Removed 20 rows containing missing values (geom_point).\"\n",
      "Warning message:\n",
      "\"Removed 16 rows containing missing values (geom_point).\"\n",
      "Warning message:\n",
      "\"Removed 534 rows containing missing values (geom_point).\"\n",
      "Warning message:\n",
      "\"Removed 408 rows containing missing values (geom_point).\"\n",
      "`stat_bin()` using `bins = 30`. Pick better value with `binwidth`.\n",
      "\n",
      "Warning message:\n",
      "\"Removed 326 rows containing missing values (geom_point).\"\n",
      "Warning message:\n",
      "\"Removed 279 rows containing missing values (geom_point).\"\n",
      "Warning message:\n",
      "\"Removed 279 rows containing missing values (geom_point).\"\n",
      "Warning message:\n",
      "\"Removed 517 rows containing missing values (geom_point).\"\n",
      "Warning message:\n",
      "\"Removed 316 rows containing missing values (geom_point).\"\n",
      "`stat_bin()` using `bins = 30`. Pick better value with `binwidth`.\n",
      "\n",
      "Warning message:\n",
      "\"Removed 244 rows containing missing values (geom_point).\"\n",
      "Warning message:\n",
      "\"Removed 189 rows containing missing values (geom_point).\"\n",
      "Warning message:\n",
      "\"Removed 168 rows containing missing values (geom_point).\"\n",
      "Warning message:\n",
      "\"Removed 673 rows containing missing values (geom_point).\"\n",
      "Warning message:\n",
      "\"Removed 538 rows containing missing values (geom_point).\"\n",
      "`stat_bin()` using `bins = 30`. Pick better value with `binwidth`.\n",
      "\n",
      "Warning message:\n",
      "\"Removed 445 rows containing missing values (geom_point).\"\n",
      "Warning message:\n",
      "\"Removed 340 rows containing missing values (geom_point).\"\n",
      "Warning message:\n",
      "\"Removed 338 rows containing missing values (geom_point).\"\n"
     ]
    }
   ],
   "source": [
    "for(v in vcfs)\n",
    "    {\n",
    "    getCrossName(v)\n",
    "\n",
    "    vcf <- read.vcfR(v, verbose = FALSE )\n",
    "\n",
    "    AD <- extract.gt(vcf, element = 'AD', as.numeric = FALSE)\n",
    "    DP <- extract.gt(vcf, element = 'DP', as.numeric = TRUE)\n",
    "\n",
    "    summary(getPartNumber(extract.gt(vcf, element = 'AD', as.numeric = FALSE)))\n",
    "\n",
    "    AD1 = unlist(lapply(AD, getPart, which=1))\n",
    "    AD2 = unlist(lapply(AD, getPart, which=2))\n",
    "\n",
    "    AlleleFrequency=AD2/(AD1+AD2)\n",
    "\n",
    "    MQ <- extract.info(vcf, element = 'MQ', as.numeric = TRUE)\n",
    "    head(MQ)\n",
    "\n",
    "    df=data.frame(POS=vcfR::getPOS(vcf), CHROM=vcfR::getCHROM(vcf), AF=AlleleFrequency, MQ=MQ, DP = DP)\n",
    "\n",
    "    # scale pos\n",
    "    for(c in unique(df$CHROM)){\n",
    "        df$POS_scale[df$CHROM==c]=df$POS[df$CHROM==c]/max(df$POS[df$CHROM==c],na.rm=TRUE)\n",
    "        df$MQ_scale[df$CHROM==c]=df$MQ[df$CHROM==c]-mean(df$MQ[df$CHROM==c],na.rm=TRUE)\n",
    "\n",
    "        df$MQ_scale2[df$CHROM==c]=scale(df$MQ[df$CHROM==c])\n",
    "    }\n",
    "\n",
    "    ggplot(df, aes(POS_scale, AF))+\n",
    "    geom_point(alpha=0.1)+\n",
    "    facet_wrap(~CHROM)\n",
    "    ggsave(filename = paste(\"figures/\",getCrossName(v),\"-AF.png\",sep=\"\"), width = 10, height= 10)\n",
    "\n",
    "    ggplot(subset(df, MQ>=60), aes(POS_scale, AF))+\n",
    "    geom_point(alpha=0.1)+\n",
    "    facet_wrap(~CHROM)\n",
    "    ggsave(filename = paste(\"figures/\",getCrossName(v),\"-AF-MQ60.png\",sep=\"\"), width = 10, height= 10)\n",
    "\n",
    "    # filter for non-mean covered regions\n",
    "\n",
    "    \n",
    "    \n",
    "    coverage_this_species=subset(df_coverage_chris, species==unique(df_coverage_chris$species)[which(grepl(getCrossName(v), unique(df_coverage_chris$species)))])\n",
    "    \n",
    "    coverage_range=as.numeric(quantile(subset(coverage_this_species, sub_window_mean_converage < 200)$sub_window_median_converage, c(0.1,0.9)))\n",
    "\n",
    "\n",
    "    \n",
    "    ggplot(subset(coverage_this_species, sub_window_mean_converage < 200), aes(sub_window_mean_converage))+\n",
    "    geom_histogram()+\n",
    "    geom_vline(xintercept = coverage_range, color=\"red\")\n",
    "    ggsave(filename = paste(\"figures/\",getCrossName(v),\"-coverage_below_200x.png\",sep=\"\"), width = 5, height= 5)\n",
    "\n",
    "    filtered_regions=subset(coverage_this_species, sub_window_mean_converage>=coverage_range[1] & sub_window_mean_converage<=coverage_range[2])\n",
    "\n",
    "    #summary(unlist(lapply(1:nrow(df), IsLocusInGoodRegion)))\n",
    "\n",
    "    #hist(subset(df, MQ>=60 & AF > 0 & unlist(lapply(1:nrow(df), IsLocusInGoodRegion)) == 1)$AF)\n",
    "\n",
    "    ggplot(subset(df, MQ>=60 & unlist(lapply(1:nrow(df), IsLocusInGoodRegion)) == 1), aes(POS_scale, AF))+\n",
    "    geom_point(alpha=0.1)+\n",
    "    facet_wrap(~CHROM)\n",
    "    ggsave(filename = paste(\"figures/\",getCrossName(v),\"-AF-MQ60-cov\",coverage_range[1],\"_\",coverage_range[2],\".png\",sep=\"\"), width = 10, height= 10)\n",
    "\n",
    "    \n",
    "    ggplot(subset(df, MQ>=60 & unlist(lapply(1:nrow(df), IsLocusInGoodRegion)) == 1 & DP >= coverage_range[1]), aes(POS_scale, AF))+\n",
    "    geom_point(alpha=0.1)+\n",
    "    facet_wrap(~CHROM)\n",
    "    ggsave(filename = paste(\"figures/\",getCrossName(v),\"-AF-MQ60-cov\",coverage_range[1],\"_\",coverage_range[2],\"-DP\",coverage_range[1],\".png\",sep=\"\"), width = 10, height= 10)\n",
    "\n",
    "\n",
    "    \n",
    "    colsGT=unlist(lapply(strsplit(getCrossName(v),\"x\")[[1]], getColsInGTfile))\n",
    "    \n",
    "    if(length(colsGT)>2){\n",
    "        stop()\n",
    "    }\n",
    "    \n",
    "    homozygous_gt=fread(\"./homozygous_gt.csv.gz\", data.table=FALSE)\n",
    "    homozygous_gt_cross=homozygous_gt[,c(\"POS\",\"CHROM\",colsGT)]\n",
    "    gt=fread(\"./gt.csv.gz\", data.table=FALSE)\n",
    "    gt_cross=gt[,c(\"POS\",\"CHROM\",colsGT)]\n",
    "\n",
    "    if(nrow(gt_cross)!=nrow(homozygous_gt_cross)){\n",
    "        stop()\n",
    "    }\n",
    "\n",
    "    homozygous_gt_cross$OppositeHomo=!is.na(homozygous_gt_cross[,3]) & !is.na(homozygous_gt_cross[,4]) & homozygous_gt_cross[,3] == TRUE & homozygous_gt_cross[,4] == TRUE &\n",
    "    gt_cross[,3] != gt_cross[,4]\n",
    "\n",
    "    summary(homozygous_gt_cross$OppositeHomo)\n",
    "\n",
    "    df=left_join(df, homozygous_gt_cross[,c(\"POS\",\"CHROM\",\"OppositeHomo\")], by=c(\"POS\",\"CHROM\"))\n",
    "    head(df)\n",
    "\n",
    "    ggplot(subset(df, MQ>=60 & unlist(lapply(1:nrow(df), IsLocusInGoodRegion)) == 1 & DP >= coverage_range[1] & !is.na(OppositeHomo) & OppositeHomo == TRUE), aes(POS_scale, AF))+\n",
    "    geom_point(alpha=0.1)+\n",
    "    facet_wrap(~CHROM)\n",
    "    ggsave(filename = paste(\"figures/\",getCrossName(v),\"-AF-MQ60-cov\",coverage_range[1],\"_\",coverage_range[2],\"-DP\",coverage_range[1],\"-OppositeHomo.png\",sep=\"\"), width = 10, height= 10)\n",
    "    \n",
    "    fwrite(subset(df, MQ>=60 & unlist(lapply(1:nrow(df), IsLocusInGoodRegion)) == 1 & DP >= coverage_range[1] & !is.na(OppositeHomo) & OppositeHomo == TRUE),\n",
    "            paste(\"figures/\",getCrossName(v),\"-data-MQ60-cov\",coverage_range[1],\"_\",coverage_range[2],\"-DP\",coverage_range[1],\"-OppositeHomo.csv\",sep=\"\"))\n",
    "}"
   ]
  },
  {
   "cell_type": "code",
   "execution_count": 101,
   "id": "d38d2bf2",
   "metadata": {},
   "outputs": [
    {
     "name": "stderr",
     "output_type": "stream",
     "text": [
      "`stat_bin()` using `bins = 30`. Pick better value with `binwidth`.\n",
      "\n"
     ]
    },
    {
     "data": {
      "image/png": "[encoded data removed]",
      "text/plain": [
       "plot without title"
      ]
     },
     "metadata": {
      "image/png": {
       "height": 420,
       "width": 420
      }
     },
     "output_type": "display_data"
    }
   ],
   "source": [
    "coverage_range=as.numeric(quantile(subset(coverage_this_species, sub_window_mean_converage < 200)$sub_window_median_converage, c(0.1,0.9)))\n",
    "\n",
    "\n",
    "    \n",
    "    ggplot(subset(coverage_this_species, sub_window_mean_converage < 200), aes(sub_window_mean_converage))+\n",
    "    geom_histogram()+\n",
    "    geom_vline(xintercept = coverage_range, color=\"red\")"
   ]
  },
  {
   "cell_type": "code",
   "execution_count": 99,
   "id": "5f4bd318",
   "metadata": {},
   "outputs": [
    {
     "data": {
      "text/html": [
       "<style>\n",
       ".list-inline {list-style: none; margin:0; padding: 0}\n",
       ".list-inline>li {display: inline-block}\n",
       ".list-inline>li:not(:last-child)::after {content: \"\\00b7\"; padding: 0 .5ex}\n",
       "</style>\n",
       "<ol class=list-inline><li>69</li><li>82</li></ol>\n"
      ],
      "text/latex": [
       "\\begin{enumerate*}\n",
       "\\item 69\n",
       "\\item 82\n",
       "\\end{enumerate*}\n"
      ],
      "text/markdown": [
       "1. 69\n",
       "2. 82\n",
       "\n",
       "\n"
      ],
      "text/plain": [
       "[1] 69 82"
      ]
     },
     "metadata": {},
     "output_type": "display_data"
    }
   ],
   "source": [
    "as.numeric(quantile(subset(coverage_this_species, sub_window_mean_converage < 200)$sub_window_median_converage, c(0.2,0.8)))"
   ]
  },
  {
   "cell_type": "code",
   "execution_count": 92,
   "id": "84fe758a",
   "metadata": {},
   "outputs": [
    {
     "data": {
      "text/html": [
       "<table class=\"dataframe\">\n",
       "<caption>A data.frame: 6 × 8</caption>\n",
       "<thead>\n",
       "\t<tr><th></th><th scope=col>POS</th><th scope=col>CHROM</th><th scope=col>AF</th><th scope=col>MQ</th><th scope=col>POS_scale</th><th scope=col>MQ_scale</th><th scope=col>MQ_scale2</th><th scope=col>OppositeHomo</th></tr>\n",
       "\t<tr><th></th><th scope=col>&lt;int&gt;</th><th scope=col>&lt;chr&gt;</th><th scope=col>&lt;dbl&gt;</th><th scope=col>&lt;dbl&gt;</th><th scope=col>&lt;dbl&gt;</th><th scope=col>&lt;dbl&gt;</th><th scope=col>&lt;dbl&gt;</th><th scope=col>&lt;lgl&gt;</th></tr>\n",
       "</thead>\n",
       "<tbody>\n",
       "\t<tr><th scope=row>12746</th><td> 541559</td><td>chromosome2</td><td>0</td><td>63.72</td><td>0.6682341</td><td>4.5486225</td><td>0.9971329</td><td>TRUE</td></tr>\n",
       "\t<tr><th scope=row>25936</th><td> 169833</td><td>chromosome4</td><td>0</td><td>60.00</td><td>0.1113494</td><td>0.8396109</td><td>0.1908707</td><td>TRUE</td></tr>\n",
       "\t<tr><th scope=row>28434</th><td> 329661</td><td>chromosome4</td><td>0</td><td>60.00</td><td>0.2161391</td><td>0.8396109</td><td>0.1908707</td><td>TRUE</td></tr>\n",
       "\t<tr><th scope=row>30489</th><td> 449722</td><td>chromosome4</td><td>0</td><td>60.00</td><td>0.2948560</td><td>0.8396109</td><td>0.1908707</td><td>TRUE</td></tr>\n",
       "\t<tr><th scope=row>45050</th><td>1353386</td><td>chromosome4</td><td>0</td><td>60.00</td><td>0.8873347</td><td>0.8396109</td><td>0.1908707</td><td>TRUE</td></tr>\n",
       "\t<tr><th scope=row>51436</th><td> 187817</td><td>chromosome5</td><td>0</td><td>60.00</td><td>0.3285007</td><td>0.5642582</td><td>0.1681734</td><td>TRUE</td></tr>\n",
       "</tbody>\n",
       "</table>\n"
      ],
      "text/latex": [
       "A data.frame: 6 × 8\n",
       "\\begin{tabular}{r|llllllll}\n",
       "  & POS & CHROM & AF & MQ & POS\\_scale & MQ\\_scale & MQ\\_scale2 & OppositeHomo\\\\\n",
       "  & <int> & <chr> & <dbl> & <dbl> & <dbl> & <dbl> & <dbl> & <lgl>\\\\\n",
       "\\hline\n",
       "\t12746 &  541559 & chromosome2 & 0 & 63.72 & 0.6682341 & 4.5486225 & 0.9971329 & TRUE\\\\\n",
       "\t25936 &  169833 & chromosome4 & 0 & 60.00 & 0.1113494 & 0.8396109 & 0.1908707 & TRUE\\\\\n",
       "\t28434 &  329661 & chromosome4 & 0 & 60.00 & 0.2161391 & 0.8396109 & 0.1908707 & TRUE\\\\\n",
       "\t30489 &  449722 & chromosome4 & 0 & 60.00 & 0.2948560 & 0.8396109 & 0.1908707 & TRUE\\\\\n",
       "\t45050 & 1353386 & chromosome4 & 0 & 60.00 & 0.8873347 & 0.8396109 & 0.1908707 & TRUE\\\\\n",
       "\t51436 &  187817 & chromosome5 & 0 & 60.00 & 0.3285007 & 0.5642582 & 0.1681734 & TRUE\\\\\n",
       "\\end{tabular}\n"
      ],
      "text/markdown": [
       "\n",
       "A data.frame: 6 × 8\n",
       "\n",
       "| <!--/--> | POS &lt;int&gt; | CHROM &lt;chr&gt; | AF &lt;dbl&gt; | MQ &lt;dbl&gt; | POS_scale &lt;dbl&gt; | MQ_scale &lt;dbl&gt; | MQ_scale2 &lt;dbl&gt; | OppositeHomo &lt;lgl&gt; |\n",
       "|---|---|---|---|---|---|---|---|---|\n",
       "| 12746 |  541559 | chromosome2 | 0 | 63.72 | 0.6682341 | 4.5486225 | 0.9971329 | TRUE |\n",
       "| 25936 |  169833 | chromosome4 | 0 | 60.00 | 0.1113494 | 0.8396109 | 0.1908707 | TRUE |\n",
       "| 28434 |  329661 | chromosome4 | 0 | 60.00 | 0.2161391 | 0.8396109 | 0.1908707 | TRUE |\n",
       "| 30489 |  449722 | chromosome4 | 0 | 60.00 | 0.2948560 | 0.8396109 | 0.1908707 | TRUE |\n",
       "| 45050 | 1353386 | chromosome4 | 0 | 60.00 | 0.8873347 | 0.8396109 | 0.1908707 | TRUE |\n",
       "| 51436 |  187817 | chromosome5 | 0 | 60.00 | 0.3285007 | 0.5642582 | 0.1681734 | TRUE |\n",
       "\n"
      ],
      "text/plain": [
       "      POS     CHROM       AF MQ    POS_scale MQ_scale  MQ_scale2 OppositeHomo\n",
       "12746  541559 chromosome2 0  63.72 0.6682341 4.5486225 0.9971329 TRUE        \n",
       "25936  169833 chromosome4 0  60.00 0.1113494 0.8396109 0.1908707 TRUE        \n",
       "28434  329661 chromosome4 0  60.00 0.2161391 0.8396109 0.1908707 TRUE        \n",
       "30489  449722 chromosome4 0  60.00 0.2948560 0.8396109 0.1908707 TRUE        \n",
       "45050 1353386 chromosome4 0  60.00 0.8873347 0.8396109 0.1908707 TRUE        \n",
       "51436  187817 chromosome5 0  60.00 0.3285007 0.5642582 0.1681734 TRUE        "
      ]
     },
     "metadata": {},
     "output_type": "display_data"
    }
   ],
   "source": [
    "head(AF0_check<-subset(df, AF == 0 & MQ>=60 & unlist(lapply(1:nrow(df), IsLocusInGoodRegion)) == 1 & !is.na(OppositeHomo) & OppositeHomo == TRUE))"
   ]
  },
  {
   "cell_type": "code",
   "execution_count": 93,
   "id": "ad3df29f",
   "metadata": {},
   "outputs": [
    {
     "name": "stderr",
     "output_type": "stream",
     "text": [
      "Joining, by = c(\"POS\", \"CHROM\")\n",
      "\n"
     ]
    }
   ],
   "source": [
    "AF0_check=left_join(AF0_check, gt_cross[,c(\"POS\",\"CHROM\",\"ANG\",\"CEI\")])"
   ]
  },
  {
   "cell_type": "code",
   "execution_count": 94,
   "id": "db649943",
   "metadata": {},
   "outputs": [
    {
     "data": {
      "text/plain": [
       "   Mode   FALSE \n",
       "logical      24 "
      ]
     },
     "metadata": {},
     "output_type": "display_data"
    }
   ],
   "source": [
    "summary(AF0_check$ANG == AF0_check$CEI)"
   ]
  },
  {
   "cell_type": "code",
   "execution_count": 95,
   "id": "cd9d32de",
   "metadata": {},
   "outputs": [
    {
     "data": {
      "text/html": [
       "<table class=\"dataframe\">\n",
       "<caption>A data.frame: 24 × 10</caption>\n",
       "<thead>\n",
       "\t<tr><th></th><th scope=col>POS</th><th scope=col>CHROM</th><th scope=col>AF</th><th scope=col>MQ</th><th scope=col>POS_scale</th><th scope=col>MQ_scale</th><th scope=col>MQ_scale2</th><th scope=col>OppositeHomo</th><th scope=col>ANG</th><th scope=col>CEI</th></tr>\n",
       "\t<tr><th></th><th scope=col>&lt;int&gt;</th><th scope=col>&lt;chr&gt;</th><th scope=col>&lt;dbl&gt;</th><th scope=col>&lt;dbl&gt;</th><th scope=col>&lt;dbl&gt;</th><th scope=col>&lt;dbl&gt;</th><th scope=col>&lt;dbl&gt;</th><th scope=col>&lt;lgl&gt;</th><th scope=col>&lt;chr&gt;</th><th scope=col>&lt;chr&gt;</th></tr>\n",
       "</thead>\n",
       "<tbody>\n",
       "\t<tr><th scope=row>1</th><td> 541559</td><td>chromosome2 </td><td>0</td><td>63.72</td><td>0.668234142</td><td>4.5486225</td><td>0.9971329</td><td>TRUE</td><td>1/1</td><td>0/0</td></tr>\n",
       "\t<tr><th scope=row>2</th><td> 169833</td><td>chromosome4 </td><td>0</td><td>60.00</td><td>0.111349400</td><td>0.8396109</td><td>0.1908707</td><td>TRUE</td><td>5/5</td><td>0/0</td></tr>\n",
       "\t<tr><th scope=row>3</th><td> 329661</td><td>chromosome4 </td><td>0</td><td>60.00</td><td>0.216139116</td><td>0.8396109</td><td>0.1908707</td><td>TRUE</td><td>0/0</td><td>1/1</td></tr>\n",
       "\t<tr><th scope=row>4</th><td> 449722</td><td>chromosome4 </td><td>0</td><td>60.00</td><td>0.294855975</td><td>0.8396109</td><td>0.1908707</td><td>TRUE</td><td>1/1</td><td>2/2</td></tr>\n",
       "\t<tr><th scope=row>5</th><td>1353386</td><td>chromosome4 </td><td>0</td><td>60.00</td><td>0.887334729</td><td>0.8396109</td><td>0.1908707</td><td>TRUE</td><td>1/1</td><td>0/0</td></tr>\n",
       "\t<tr><th scope=row>6</th><td> 187817</td><td>chromosome5 </td><td>0</td><td>60.00</td><td>0.328500717</td><td>0.5642582</td><td>0.1681734</td><td>TRUE</td><td>1/1</td><td>0/0</td></tr>\n",
       "\t<tr><th scope=row>7</th><td> 101214</td><td>chromosome6 </td><td>0</td><td>60.00</td><td>0.376603226</td><td>1.7838617</td><td>0.2790381</td><td>TRUE</td><td>2/2</td><td>0/0</td></tr>\n",
       "\t<tr><th scope=row>8</th><td> 144140</td><td>chromosome6 </td><td>0</td><td>60.00</td><td>0.536324906</td><td>1.7838617</td><td>0.2790381</td><td>TRUE</td><td>1/1</td><td>0/0</td></tr>\n",
       "\t<tr><th scope=row>9</th><td>   4261</td><td>chromosome7 </td><td>0</td><td>60.00</td><td>0.003930119</td><td>0.8442728</td><td>0.2048512</td><td>TRUE</td><td>1/1</td><td>0/0</td></tr>\n",
       "\t<tr><th scope=row>10</th><td> 811300</td><td>chromosome7 </td><td>0</td><td>60.00</td><td>0.748299884</td><td>0.8442728</td><td>0.2048512</td><td>TRUE</td><td>1/1</td><td>0/0</td></tr>\n",
       "\t<tr><th scope=row>11</th><td> 440388</td><td>chromosome11</td><td>0</td><td>60.00</td><td>0.660997106</td><td>0.6073299</td><td>0.1663674</td><td>TRUE</td><td>1/1</td><td>0/0</td></tr>\n",
       "\t<tr><th scope=row>12</th><td> 224193</td><td>chromosome12</td><td>0</td><td>60.00</td><td>0.210447417</td><td>0.5432918</td><td>0.1664128</td><td>TRUE</td><td>1/1</td><td>0/0</td></tr>\n",
       "\t<tr><th scope=row>13</th><td> 224218</td><td>chromosome12</td><td>0</td><td>60.00</td><td>0.210470884</td><td>0.5432918</td><td>0.1664128</td><td>TRUE</td><td>1/1</td><td>0/0</td></tr>\n",
       "\t<tr><th scope=row>14</th><td> 224233</td><td>chromosome12</td><td>0</td><td>60.00</td><td>0.210484964</td><td>0.5432918</td><td>0.1664128</td><td>TRUE</td><td>1/1</td><td>0/0</td></tr>\n",
       "\t<tr><th scope=row>15</th><td> 734706</td><td>chromosome12</td><td>0</td><td>60.00</td><td>0.689660157</td><td>0.5432918</td><td>0.1664128</td><td>TRUE</td><td>1/1</td><td>0/0</td></tr>\n",
       "\t<tr><th scope=row>16</th><td> 268153</td><td>chromosome13</td><td>0</td><td>60.00</td><td>0.290129748</td><td>0.5141795</td><td>0.1634232</td><td>TRUE</td><td>1/1</td><td>0/0</td></tr>\n",
       "\t<tr><th scope=row>17</th><td> 138078</td><td>chromosome14</td><td>0</td><td>60.00</td><td>0.176154500</td><td>1.4586667</td><td>0.2504208</td><td>TRUE</td><td>0/0</td><td>1/1</td></tr>\n",
       "\t<tr><th scope=row>18</th><td> 138087</td><td>chromosome14</td><td>0</td><td>60.00</td><td>0.176165982</td><td>1.4586667</td><td>0.2504208</td><td>TRUE</td><td>0/0</td><td>1/1</td></tr>\n",
       "\t<tr><th scope=row>19</th><td> 138110</td><td>chromosome14</td><td>0</td><td>60.00</td><td>0.176195324</td><td>1.4586667</td><td>0.2504208</td><td>TRUE</td><td>0/0</td><td>1/1</td></tr>\n",
       "\t<tr><th scope=row>20</th><td> 228231</td><td>chromosome15</td><td>0</td><td>60.00</td><td>0.210595909</td><td>0.6836523</td><td>0.1770321</td><td>TRUE</td><td>2/2</td><td>0/0</td></tr>\n",
       "\t<tr><th scope=row>21</th><td> 228291</td><td>chromosome15</td><td>0</td><td>60.00</td><td>0.210651273</td><td>0.6836523</td><td>0.1770321</td><td>TRUE</td><td>1/1</td><td>0/0</td></tr>\n",
       "\t<tr><th scope=row>22</th><td> 969857</td><td>chromosome15</td><td>0</td><td>60.00</td><td>0.894917503</td><td>0.6836523</td><td>0.1770321</td><td>TRUE</td><td>2/2</td><td>1/1</td></tr>\n",
       "\t<tr><th scope=row>23</th><td> 477202</td><td>chromosome16</td><td>0</td><td>60.00</td><td>0.505231752</td><td>0.4263295</td><td>0.1356445</td><td>TRUE</td><td>1/1</td><td>2/2</td></tr>\n",
       "\t<tr><th scope=row>24</th><td> 707402</td><td>chromosome16</td><td>0</td><td>60.00</td><td>0.748953173</td><td>0.4263295</td><td>0.1356445</td><td>TRUE</td><td>1/1</td><td>2/2</td></tr>\n",
       "</tbody>\n",
       "</table>\n"
      ],
      "text/latex": [
       "A data.frame: 24 × 10\n",
       "\\begin{tabular}{r|llllllllll}\n",
       "  & POS & CHROM & AF & MQ & POS\\_scale & MQ\\_scale & MQ\\_scale2 & OppositeHomo & ANG & CEI\\\\\n",
       "  & <int> & <chr> & <dbl> & <dbl> & <dbl> & <dbl> & <dbl> & <lgl> & <chr> & <chr>\\\\\n",
       "\\hline\n",
       "\t1 &  541559 & chromosome2  & 0 & 63.72 & 0.668234142 & 4.5486225 & 0.9971329 & TRUE & 1/1 & 0/0\\\\\n",
       "\t2 &  169833 & chromosome4  & 0 & 60.00 & 0.111349400 & 0.8396109 & 0.1908707 & TRUE & 5/5 & 0/0\\\\\n",
       "\t3 &  329661 & chromosome4  & 0 & 60.00 & 0.216139116 & 0.8396109 & 0.1908707 & TRUE & 0/0 & 1/1\\\\\n",
       "\t4 &  449722 & chromosome4  & 0 & 60.00 & 0.294855975 & 0.8396109 & 0.1908707 & TRUE & 1/1 & 2/2\\\\\n",
       "\t5 & 1353386 & chromosome4  & 0 & 60.00 & 0.887334729 & 0.8396109 & 0.1908707 & TRUE & 1/1 & 0/0\\\\\n",
       "\t6 &  187817 & chromosome5  & 0 & 60.00 & 0.328500717 & 0.5642582 & 0.1681734 & TRUE & 1/1 & 0/0\\\\\n",
       "\t7 &  101214 & chromosome6  & 0 & 60.00 & 0.376603226 & 1.7838617 & 0.2790381 & TRUE & 2/2 & 0/0\\\\\n",
       "\t8 &  144140 & chromosome6  & 0 & 60.00 & 0.536324906 & 1.7838617 & 0.2790381 & TRUE & 1/1 & 0/0\\\\\n",
       "\t9 &    4261 & chromosome7  & 0 & 60.00 & 0.003930119 & 0.8442728 & 0.2048512 & TRUE & 1/1 & 0/0\\\\\n",
       "\t10 &  811300 & chromosome7  & 0 & 60.00 & 0.748299884 & 0.8442728 & 0.2048512 & TRUE & 1/1 & 0/0\\\\\n",
       "\t11 &  440388 & chromosome11 & 0 & 60.00 & 0.660997106 & 0.6073299 & 0.1663674 & TRUE & 1/1 & 0/0\\\\\n",
       "\t12 &  224193 & chromosome12 & 0 & 60.00 & 0.210447417 & 0.5432918 & 0.1664128 & TRUE & 1/1 & 0/0\\\\\n",
       "\t13 &  224218 & chromosome12 & 0 & 60.00 & 0.210470884 & 0.5432918 & 0.1664128 & TRUE & 1/1 & 0/0\\\\\n",
       "\t14 &  224233 & chromosome12 & 0 & 60.00 & 0.210484964 & 0.5432918 & 0.1664128 & TRUE & 1/1 & 0/0\\\\\n",
       "\t15 &  734706 & chromosome12 & 0 & 60.00 & 0.689660157 & 0.5432918 & 0.1664128 & TRUE & 1/1 & 0/0\\\\\n",
       "\t16 &  268153 & chromosome13 & 0 & 60.00 & 0.290129748 & 0.5141795 & 0.1634232 & TRUE & 1/1 & 0/0\\\\\n",
       "\t17 &  138078 & chromosome14 & 0 & 60.00 & 0.176154500 & 1.4586667 & 0.2504208 & TRUE & 0/0 & 1/1\\\\\n",
       "\t18 &  138087 & chromosome14 & 0 & 60.00 & 0.176165982 & 1.4586667 & 0.2504208 & TRUE & 0/0 & 1/1\\\\\n",
       "\t19 &  138110 & chromosome14 & 0 & 60.00 & 0.176195324 & 1.4586667 & 0.2504208 & TRUE & 0/0 & 1/1\\\\\n",
       "\t20 &  228231 & chromosome15 & 0 & 60.00 & 0.210595909 & 0.6836523 & 0.1770321 & TRUE & 2/2 & 0/0\\\\\n",
       "\t21 &  228291 & chromosome15 & 0 & 60.00 & 0.210651273 & 0.6836523 & 0.1770321 & TRUE & 1/1 & 0/0\\\\\n",
       "\t22 &  969857 & chromosome15 & 0 & 60.00 & 0.894917503 & 0.6836523 & 0.1770321 & TRUE & 2/2 & 1/1\\\\\n",
       "\t23 &  477202 & chromosome16 & 0 & 60.00 & 0.505231752 & 0.4263295 & 0.1356445 & TRUE & 1/1 & 2/2\\\\\n",
       "\t24 &  707402 & chromosome16 & 0 & 60.00 & 0.748953173 & 0.4263295 & 0.1356445 & TRUE & 1/1 & 2/2\\\\\n",
       "\\end{tabular}\n"
      ],
      "text/markdown": [
       "\n",
       "A data.frame: 24 × 10\n",
       "\n",
       "| <!--/--> | POS &lt;int&gt; | CHROM &lt;chr&gt; | AF &lt;dbl&gt; | MQ &lt;dbl&gt; | POS_scale &lt;dbl&gt; | MQ_scale &lt;dbl&gt; | MQ_scale2 &lt;dbl&gt; | OppositeHomo &lt;lgl&gt; | ANG &lt;chr&gt; | CEI &lt;chr&gt; |\n",
       "|---|---|---|---|---|---|---|---|---|---|---|\n",
       "| 1 |  541559 | chromosome2  | 0 | 63.72 | 0.668234142 | 4.5486225 | 0.9971329 | TRUE | 1/1 | 0/0 |\n",
       "| 2 |  169833 | chromosome4  | 0 | 60.00 | 0.111349400 | 0.8396109 | 0.1908707 | TRUE | 5/5 | 0/0 |\n",
       "| 3 |  329661 | chromosome4  | 0 | 60.00 | 0.216139116 | 0.8396109 | 0.1908707 | TRUE | 0/0 | 1/1 |\n",
       "| 4 |  449722 | chromosome4  | 0 | 60.00 | 0.294855975 | 0.8396109 | 0.1908707 | TRUE | 1/1 | 2/2 |\n",
       "| 5 | 1353386 | chromosome4  | 0 | 60.00 | 0.887334729 | 0.8396109 | 0.1908707 | TRUE | 1/1 | 0/0 |\n",
       "| 6 |  187817 | chromosome5  | 0 | 60.00 | 0.328500717 | 0.5642582 | 0.1681734 | TRUE | 1/1 | 0/0 |\n",
       "| 7 |  101214 | chromosome6  | 0 | 60.00 | 0.376603226 | 1.7838617 | 0.2790381 | TRUE | 2/2 | 0/0 |\n",
       "| 8 |  144140 | chromosome6  | 0 | 60.00 | 0.536324906 | 1.7838617 | 0.2790381 | TRUE | 1/1 | 0/0 |\n",
       "| 9 |    4261 | chromosome7  | 0 | 60.00 | 0.003930119 | 0.8442728 | 0.2048512 | TRUE | 1/1 | 0/0 |\n",
       "| 10 |  811300 | chromosome7  | 0 | 60.00 | 0.748299884 | 0.8442728 | 0.2048512 | TRUE | 1/1 | 0/0 |\n",
       "| 11 |  440388 | chromosome11 | 0 | 60.00 | 0.660997106 | 0.6073299 | 0.1663674 | TRUE | 1/1 | 0/0 |\n",
       "| 12 |  224193 | chromosome12 | 0 | 60.00 | 0.210447417 | 0.5432918 | 0.1664128 | TRUE | 1/1 | 0/0 |\n",
       "| 13 |  224218 | chromosome12 | 0 | 60.00 | 0.210470884 | 0.5432918 | 0.1664128 | TRUE | 1/1 | 0/0 |\n",
       "| 14 |  224233 | chromosome12 | 0 | 60.00 | 0.210484964 | 0.5432918 | 0.1664128 | TRUE | 1/1 | 0/0 |\n",
       "| 15 |  734706 | chromosome12 | 0 | 60.00 | 0.689660157 | 0.5432918 | 0.1664128 | TRUE | 1/1 | 0/0 |\n",
       "| 16 |  268153 | chromosome13 | 0 | 60.00 | 0.290129748 | 0.5141795 | 0.1634232 | TRUE | 1/1 | 0/0 |\n",
       "| 17 |  138078 | chromosome14 | 0 | 60.00 | 0.176154500 | 1.4586667 | 0.2504208 | TRUE | 0/0 | 1/1 |\n",
       "| 18 |  138087 | chromosome14 | 0 | 60.00 | 0.176165982 | 1.4586667 | 0.2504208 | TRUE | 0/0 | 1/1 |\n",
       "| 19 |  138110 | chromosome14 | 0 | 60.00 | 0.176195324 | 1.4586667 | 0.2504208 | TRUE | 0/0 | 1/1 |\n",
       "| 20 |  228231 | chromosome15 | 0 | 60.00 | 0.210595909 | 0.6836523 | 0.1770321 | TRUE | 2/2 | 0/0 |\n",
       "| 21 |  228291 | chromosome15 | 0 | 60.00 | 0.210651273 | 0.6836523 | 0.1770321 | TRUE | 1/1 | 0/0 |\n",
       "| 22 |  969857 | chromosome15 | 0 | 60.00 | 0.894917503 | 0.6836523 | 0.1770321 | TRUE | 2/2 | 1/1 |\n",
       "| 23 |  477202 | chromosome16 | 0 | 60.00 | 0.505231752 | 0.4263295 | 0.1356445 | TRUE | 1/1 | 2/2 |\n",
       "| 24 |  707402 | chromosome16 | 0 | 60.00 | 0.748953173 | 0.4263295 | 0.1356445 | TRUE | 1/1 | 2/2 |\n",
       "\n"
      ],
      "text/plain": [
       "   POS     CHROM        AF MQ    POS_scale   MQ_scale  MQ_scale2 OppositeHomo\n",
       "1   541559 chromosome2  0  63.72 0.668234142 4.5486225 0.9971329 TRUE        \n",
       "2   169833 chromosome4  0  60.00 0.111349400 0.8396109 0.1908707 TRUE        \n",
       "3   329661 chromosome4  0  60.00 0.216139116 0.8396109 0.1908707 TRUE        \n",
       "4   449722 chromosome4  0  60.00 0.294855975 0.8396109 0.1908707 TRUE        \n",
       "5  1353386 chromosome4  0  60.00 0.887334729 0.8396109 0.1908707 TRUE        \n",
       "6   187817 chromosome5  0  60.00 0.328500717 0.5642582 0.1681734 TRUE        \n",
       "7   101214 chromosome6  0  60.00 0.376603226 1.7838617 0.2790381 TRUE        \n",
       "8   144140 chromosome6  0  60.00 0.536324906 1.7838617 0.2790381 TRUE        \n",
       "9     4261 chromosome7  0  60.00 0.003930119 0.8442728 0.2048512 TRUE        \n",
       "10  811300 chromosome7  0  60.00 0.748299884 0.8442728 0.2048512 TRUE        \n",
       "11  440388 chromosome11 0  60.00 0.660997106 0.6073299 0.1663674 TRUE        \n",
       "12  224193 chromosome12 0  60.00 0.210447417 0.5432918 0.1664128 TRUE        \n",
       "13  224218 chromosome12 0  60.00 0.210470884 0.5432918 0.1664128 TRUE        \n",
       "14  224233 chromosome12 0  60.00 0.210484964 0.5432918 0.1664128 TRUE        \n",
       "15  734706 chromosome12 0  60.00 0.689660157 0.5432918 0.1664128 TRUE        \n",
       "16  268153 chromosome13 0  60.00 0.290129748 0.5141795 0.1634232 TRUE        \n",
       "17  138078 chromosome14 0  60.00 0.176154500 1.4586667 0.2504208 TRUE        \n",
       "18  138087 chromosome14 0  60.00 0.176165982 1.4586667 0.2504208 TRUE        \n",
       "19  138110 chromosome14 0  60.00 0.176195324 1.4586667 0.2504208 TRUE        \n",
       "20  228231 chromosome15 0  60.00 0.210595909 0.6836523 0.1770321 TRUE        \n",
       "21  228291 chromosome15 0  60.00 0.210651273 0.6836523 0.1770321 TRUE        \n",
       "22  969857 chromosome15 0  60.00 0.894917503 0.6836523 0.1770321 TRUE        \n",
       "23  477202 chromosome16 0  60.00 0.505231752 0.4263295 0.1356445 TRUE        \n",
       "24  707402 chromosome16 0  60.00 0.748953173 0.4263295 0.1356445 TRUE        \n",
       "   ANG CEI\n",
       "1  1/1 0/0\n",
       "2  5/5 0/0\n",
       "3  0/0 1/1\n",
       "4  1/1 2/2\n",
       "5  1/1 0/0\n",
       "6  1/1 0/0\n",
       "7  2/2 0/0\n",
       "8  1/1 0/0\n",
       "9  1/1 0/0\n",
       "10 1/1 0/0\n",
       "11 1/1 0/0\n",
       "12 1/1 0/0\n",
       "13 1/1 0/0\n",
       "14 1/1 0/0\n",
       "15 1/1 0/0\n",
       "16 1/1 0/0\n",
       "17 0/0 1/1\n",
       "18 0/0 1/1\n",
       "19 0/0 1/1\n",
       "20 2/2 0/0\n",
       "21 1/1 0/0\n",
       "22 2/2 1/1\n",
       "23 1/1 2/2\n",
       "24 1/1 2/2"
      ]
     },
     "metadata": {},
     "output_type": "display_data"
    }
   ],
   "source": [
    "AF0_check[AF0_check$ANG != AF0_check$CEI,]"
   ]
  }
 ],
 "metadata": {
  "kernelspec": {
   "display_name": "R",
   "language": "R",
   "name": "ir"
  },
  "language_info": {
   "codemirror_mode": "r",
   "file_extension": ".r",
   "mimetype": "text/x-r-source",
   "name": "R",
   "pygments_lexer": "r",
   "version": "4.1.3"
  }
 },
 "nbformat": 4,
 "nbformat_minor": 5
}

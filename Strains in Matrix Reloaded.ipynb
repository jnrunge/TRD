{
 "cells": [
  {
   "cell_type": "code",
   "execution_count": 18,
   "id": "4def22f2",
   "metadata": {},
   "outputs": [],
   "source": [
    "library(readxl)\n",
    "library(stringr)"
   ]
  },
  {
   "cell_type": "code",
   "execution_count": 9,
   "id": "0ba57dc1",
   "metadata": {},
   "outputs": [],
   "source": [
    "Matrix1=read_xls(\"/home/jnrunge/Yeast_Collection_YJS_headers.xls\", sheet = \"MATalpha ClonNAT Matrix reloade\")\n",
    "Matrix2=read_xls(\"/home/jnrunge/Yeast_Collection_YJS_headers.xls\", sheet = \"MATa KanMX Matrix reloaded\")"
   ]
  },
  {
   "cell_type": "code",
   "execution_count": 15,
   "id": "a320c223",
   "metadata": {},
   "outputs": [
    {
     "data": {
      "text/html": [
       "<table class=\"dataframe\">\n",
       "<caption>A tibble: 6 × 4</caption>\n",
       "<thead>\n",
       "\t<tr><th scope=col>Standard ID</th><th scope=col>Strain Name</th><th scope=col>Ecological origin</th><th scope=col>Geographical Origin</th></tr>\n",
       "\t<tr><th scope=col>&lt;chr&gt;</th><th scope=col>&lt;chr&gt;</th><th scope=col>&lt;chr&gt;</th><th scope=col>&lt;chr&gt;</th></tr>\n",
       "</thead>\n",
       "<tbody>\n",
       "\t<tr><td>CRI</td><td>AGME 5I       </td><td>Wine                         </td><td>Italy            </td></tr>\n",
       "\t<tr><td>CEN</td><td>ATCC 38618:2-2</td><td>Concentrated orange juice    </td><td>NA               </td></tr>\n",
       "\t<tr><td>CEP</td><td>ATCC 52922-1C </td><td>Tapuy (rice wine)            </td><td>Philippines      </td></tr>\n",
       "\t<tr><td>CDB</td><td>ATCC 66348-1D </td><td>Soil                         </td><td>Japan            </td></tr>\n",
       "\t<tr><td>ANN</td><td>AY529516      </td><td>Soil beneath Quercus velutina</td><td>Ghana            </td></tr>\n",
       "\t<tr><td>BMF</td><td>269521J       </td><td>Human                        </td><td>RVI Newcastle, UK</td></tr>\n",
       "</tbody>\n",
       "</table>\n"
      ],
      "text/latex": [
       "A tibble: 6 × 4\n",
       "\\begin{tabular}{llll}\n",
       " Standard ID & Strain Name & Ecological origin & Geographical Origin\\\\\n",
       " <chr> & <chr> & <chr> & <chr>\\\\\n",
       "\\hline\n",
       "\t CRI & AGME 5I        & Wine                          & Italy            \\\\\n",
       "\t CEN & ATCC 38618:2-2 & Concentrated orange juice     & NA               \\\\\n",
       "\t CEP & ATCC 52922-1C  & Tapuy (rice wine)             & Philippines      \\\\\n",
       "\t CDB & ATCC 66348-1D  & Soil                          & Japan            \\\\\n",
       "\t ANN & AY529516       & Soil beneath Quercus velutina & Ghana            \\\\\n",
       "\t BMF & 269521J        & Human                         & RVI Newcastle, UK\\\\\n",
       "\\end{tabular}\n"
      ],
      "text/markdown": [
       "\n",
       "A tibble: 6 × 4\n",
       "\n",
       "| Standard ID &lt;chr&gt; | Strain Name &lt;chr&gt; | Ecological origin &lt;chr&gt; | Geographical Origin &lt;chr&gt; |\n",
       "|---|---|---|---|\n",
       "| CRI | AGME 5I        | Wine                          | Italy             |\n",
       "| CEN | ATCC 38618:2-2 | Concentrated orange juice     | NA                |\n",
       "| CEP | ATCC 52922-1C  | Tapuy (rice wine)             | Philippines       |\n",
       "| CDB | ATCC 66348-1D  | Soil                          | Japan             |\n",
       "| ANN | AY529516       | Soil beneath Quercus velutina | Ghana             |\n",
       "| BMF | 269521J        | Human                         | RVI Newcastle, UK |\n",
       "\n"
      ],
      "text/plain": [
       "  Standard ID Strain Name    Ecological origin             Geographical Origin\n",
       "1 CRI         AGME 5I        Wine                          Italy              \n",
       "2 CEN         ATCC 38618:2-2 Concentrated orange juice     NA                 \n",
       "3 CEP         ATCC 52922-1C  Tapuy (rice wine)             Philippines        \n",
       "4 CDB         ATCC 66348-1D  Soil                          Japan              \n",
       "5 ANN         AY529516       Soil beneath Quercus velutina Ghana              \n",
       "6 BMF         269521J        Human                         RVI Newcastle, UK  "
      ]
     },
     "metadata": {},
     "output_type": "display_data"
    }
   ],
   "source": [
    "Overview=read_xlsx(\"/home/jnrunge/1002_strains_total_dataset.xlsx\", sheet = \"final_1002_site\")\n",
    "head(Overview)"
   ]
  },
  {
   "cell_type": "code",
   "execution_count": 17,
   "id": "f7c096b1",
   "metadata": {},
   "outputs": [
    {
     "data": {
      "text/html": [
       "'FY5'"
      ],
      "text/latex": [
       "'FY5'"
      ],
      "text/markdown": [
       "'FY5'"
      ],
      "text/plain": [
       "[1] \"FY5\""
      ]
     },
     "metadata": {},
     "output_type": "display_data"
    },
    {
     "data": {
      "text/html": [
       "<style>\n",
       ".list-inline {list-style: none; margin:0; padding: 0}\n",
       ".list-inline>li {display: inline-block}\n",
       ".list-inline>li:not(:last-child)::after {content: \"\\00b7\"; padding: 0 .5ex}\n",
       "</style>\n",
       "<ol class=list-inline><li>'HN16_b'</li><li>'FY4_rho+'</li></ol>\n"
      ],
      "text/latex": [
       "\\begin{enumerate*}\n",
       "\\item 'HN16\\_b'\n",
       "\\item 'FY4\\_rho+'\n",
       "\\end{enumerate*}\n"
      ],
      "text/markdown": [
       "1. 'HN16_b'\n",
       "2. 'FY4_rho+'\n",
       "\n",
       "\n"
      ],
      "text/plain": [
       "[1] \"HN16_b\"   \"FY4_rho+\""
      ]
     },
     "metadata": {},
     "output_type": "display_data"
    }
   ],
   "source": [
    "Matrix1$Syst_name[!endsWith(Matrix1$Syst_name, \"_b\")]\n",
    "Matrix2$Syst_name[!endsWith(Matrix2$Syst_name, \"_a\")]\n",
    "\n",
    "samples1=str_replace(Matrix1$Syst_name, \"_b$\", \"\")\n",
    "samples2=str_replace(str_replace(str_replace(Matrix2$Syst_name, \"_a$\", \"\"), \"_b$\", \"\"),fixed(\"_rho+\"),\"\")\n",
    "\n",
    "samples=samples2[samples2%in%samples1[samples1%in%samples2]]\n",
    "\n",
    "summary(samples%in%Overview$`Strain Name`)\n",
    "Overview$`Standard ID`[Overview$`Strain Name` %in% samples]"
   ]
  },
  {
   "cell_type": "code",
   "execution_count": 34,
   "id": "b2de871d",
   "metadata": {},
   "outputs": [],
   "source": [
    "writeLines(Overview$`Standard ID`[Overview$`Strain Name` %in% samples], \"~/data/TRD/SamplesInMatrix.list\")"
   ]
  }
 ],
 "metadata": {
  "kernelspec": {
   "display_name": "R",
   "language": "R",
   "name": "ir"
  },
  "language_info": {
   "codemirror_mode": "r",
   "file_extension": ".r",
   "mimetype": "text/x-r-source",
   "name": "R",
   "pygments_lexer": "r",
   "version": "4.1.1"
  }
 },
 "nbformat": 4,
 "nbformat_minor": 5
}

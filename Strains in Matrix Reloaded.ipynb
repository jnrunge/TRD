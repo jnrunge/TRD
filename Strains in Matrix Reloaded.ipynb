{
 "cells": [
  {
   "cell_type": "code",
   "execution_count": 1,
   "id": "4def22f2",
   "metadata": {},
   "outputs": [],
   "source": [
    "library(readxl)\n",
    "library(stringr)"
   ]
  },
  {
   "cell_type": "code",
   "execution_count": 2,
   "id": "0ba57dc1",
   "metadata": {},
   "outputs": [],
   "source": [
    "Matrix1=read_xls(\"/home/jnrunge/Yeast_Collection_YJS_headers.xls\", sheet = \"MATalpha ClonNAT Matrix reloade\")\n",
    "Matrix2=read_xls(\"/home/jnrunge/Yeast_Collection_YJS_headers.xls\", sheet = \"MATa KanMX Matrix reloaded\")"
   ]
  },
  {
   "cell_type": "code",
   "execution_count": 3,
   "id": "a320c223",
   "metadata": {},
   "outputs": [
    {
     "data": {
      "text/html": [
       "<table class=\"dataframe\">\n",
       "<caption>A tibble: 6 × 4</caption>\n",
       "<thead>\n",
       "\t<tr><th scope=col>Standard ID</th><th scope=col>Strain Name</th><th scope=col>Ecological origin</th><th scope=col>Geographical Origin</th></tr>\n",
       "\t<tr><th scope=col>&lt;chr&gt;</th><th scope=col>&lt;chr&gt;</th><th scope=col>&lt;chr&gt;</th><th scope=col>&lt;chr&gt;</th></tr>\n",
       "</thead>\n",
       "<tbody>\n",
       "\t<tr><td>CRI</td><td>AGME 5I       </td><td>Wine                         </td><td>Italy            </td></tr>\n",
       "\t<tr><td>CEN</td><td>ATCC 38618:2-2</td><td>Concentrated orange juice    </td><td>NA               </td></tr>\n",
       "\t<tr><td>CEP</td><td>ATCC 52922-1C </td><td>Tapuy (rice wine)            </td><td>Philippines      </td></tr>\n",
       "\t<tr><td>CDB</td><td>ATCC 66348-1D </td><td>Soil                         </td><td>Japan            </td></tr>\n",
       "\t<tr><td>ANN</td><td>AY529516      </td><td>Soil beneath Quercus velutina</td><td>Ghana            </td></tr>\n",
       "\t<tr><td>BMF</td><td>269521J       </td><td>Human                        </td><td>RVI Newcastle, UK</td></tr>\n",
       "</tbody>\n",
       "</table>\n"
      ],
      "text/latex": [
       "A tibble: 6 × 4\n",
       "\\begin{tabular}{llll}\n",
       " Standard ID & Strain Name & Ecological origin & Geographical Origin\\\\\n",
       " <chr> & <chr> & <chr> & <chr>\\\\\n",
       "\\hline\n",
       "\t CRI & AGME 5I        & Wine                          & Italy            \\\\\n",
       "\t CEN & ATCC 38618:2-2 & Concentrated orange juice     & NA               \\\\\n",
       "\t CEP & ATCC 52922-1C  & Tapuy (rice wine)             & Philippines      \\\\\n",
       "\t CDB & ATCC 66348-1D  & Soil                          & Japan            \\\\\n",
       "\t ANN & AY529516       & Soil beneath Quercus velutina & Ghana            \\\\\n",
       "\t BMF & 269521J        & Human                         & RVI Newcastle, UK\\\\\n",
       "\\end{tabular}\n"
      ],
      "text/markdown": [
       "\n",
       "A tibble: 6 × 4\n",
       "\n",
       "| Standard ID &lt;chr&gt; | Strain Name &lt;chr&gt; | Ecological origin &lt;chr&gt; | Geographical Origin &lt;chr&gt; |\n",
       "|---|---|---|---|\n",
       "| CRI | AGME 5I        | Wine                          | Italy             |\n",
       "| CEN | ATCC 38618:2-2 | Concentrated orange juice     | NA                |\n",
       "| CEP | ATCC 52922-1C  | Tapuy (rice wine)             | Philippines       |\n",
       "| CDB | ATCC 66348-1D  | Soil                          | Japan             |\n",
       "| ANN | AY529516       | Soil beneath Quercus velutina | Ghana             |\n",
       "| BMF | 269521J        | Human                         | RVI Newcastle, UK |\n",
       "\n"
      ],
      "text/plain": [
       "  Standard ID Strain Name    Ecological origin             Geographical Origin\n",
       "1 CRI         AGME 5I        Wine                          Italy              \n",
       "2 CEN         ATCC 38618:2-2 Concentrated orange juice     NA                 \n",
       "3 CEP         ATCC 52922-1C  Tapuy (rice wine)             Philippines        \n",
       "4 CDB         ATCC 66348-1D  Soil                          Japan              \n",
       "5 ANN         AY529516       Soil beneath Quercus velutina Ghana              \n",
       "6 BMF         269521J        Human                         RVI Newcastle, UK  "
      ]
     },
     "metadata": {},
     "output_type": "display_data"
    }
   ],
   "source": [
    "Overview=read_xlsx(\"/home/jnrunge/1002_strains_total_dataset.xlsx\", sheet = \"final_1002_site\")\n",
    "head(Overview)"
   ]
  },
  {
   "cell_type": "code",
   "execution_count": 4,
   "id": "f7c096b1",
   "metadata": {},
   "outputs": [
    {
     "data": {
      "text/html": [
       "'FY5'"
      ],
      "text/latex": [
       "'FY5'"
      ],
      "text/markdown": [
       "'FY5'"
      ],
      "text/plain": [
       "[1] \"FY5\""
      ]
     },
     "metadata": {},
     "output_type": "display_data"
    },
    {
     "data": {
      "text/html": [
       "<style>\n",
       ".list-inline {list-style: none; margin:0; padding: 0}\n",
       ".list-inline>li {display: inline-block}\n",
       ".list-inline>li:not(:last-child)::after {content: \"\\00b7\"; padding: 0 .5ex}\n",
       "</style>\n",
       "<ol class=list-inline><li>'HN16_b'</li><li>'FY4_rho+'</li></ol>\n"
      ],
      "text/latex": [
       "\\begin{enumerate*}\n",
       "\\item 'HN16\\_b'\n",
       "\\item 'FY4\\_rho+'\n",
       "\\end{enumerate*}\n"
      ],
      "text/markdown": [
       "1. 'HN16_b'\n",
       "2. 'FY4_rho+'\n",
       "\n",
       "\n"
      ],
      "text/plain": [
       "[1] \"HN16_b\"   \"FY4_rho+\""
      ]
     },
     "metadata": {},
     "output_type": "display_data"
    },
    {
     "data": {
      "text/plain": [
       "   Mode   FALSE    TRUE \n",
       "logical      12      58 "
      ]
     },
     "metadata": {},
     "output_type": "display_data"
    },
    {
     "data": {
      "text/html": [
       "<style>\n",
       ".list-inline {list-style: none; margin:0; padding: 0}\n",
       ".list-inline>li {display: inline-block}\n",
       ".list-inline>li:not(:last-child)::after {content: \"\\00b7\"; padding: 0 .5ex}\n",
       "</style>\n",
       "<ol class=list-inline><li>'BAK'</li><li>'ABL'</li><li>'ABP'</li><li>'BHN'</li><li>'ACP'</li><li>'AAM'</li><li>'AAR'</li><li>'BEF'</li><li>'BFQ'</li><li>'BFR'</li><li>'AKQ'</li><li>'AKS'</li><li>'AKV'</li><li>'CCC'</li><li>'CCD'</li><li>'CCF'</li><li>'CCG'</li><li>'BID'</li><li>'BKL'</li><li>'BQC'</li><li>'ABS'</li><li>'AKI'</li><li>'AMD'</li><li>'BET'</li><li>'BEV'</li><li>'BFC'</li><li>'BFD'</li><li>'BFP'</li><li>'BAN'</li><li>'BAP'</li><li>'AKH'</li><li>'AKE'</li><li>'CRB'</li><li>'AMM'</li><li>'ACT'</li><li>'ACI'</li><li>'ACK'</li><li>'AAS'</li><li>'ACN'</li><li>'AAV'</li><li>'ABA'</li><li>'ABC'</li><li>'ABE'</li><li>'ABG'</li><li>'ATE'</li><li>'ABK'</li><li>'BMK'</li><li>'AND'</li><li>'ANG'</li><li>'ANH'</li><li>'ANI'</li><li>'AVI'</li><li>'CMP'</li><li>'CMQ'</li><li>'BTI'</li><li>'CPG'</li><li>'BBQ'</li><li>'BBS'</li></ol>\n"
      ],
      "text/latex": [
       "\\begin{enumerate*}\n",
       "\\item 'BAK'\n",
       "\\item 'ABL'\n",
       "\\item 'ABP'\n",
       "\\item 'BHN'\n",
       "\\item 'ACP'\n",
       "\\item 'AAM'\n",
       "\\item 'AAR'\n",
       "\\item 'BEF'\n",
       "\\item 'BFQ'\n",
       "\\item 'BFR'\n",
       "\\item 'AKQ'\n",
       "\\item 'AKS'\n",
       "\\item 'AKV'\n",
       "\\item 'CCC'\n",
       "\\item 'CCD'\n",
       "\\item 'CCF'\n",
       "\\item 'CCG'\n",
       "\\item 'BID'\n",
       "\\item 'BKL'\n",
       "\\item 'BQC'\n",
       "\\item 'ABS'\n",
       "\\item 'AKI'\n",
       "\\item 'AMD'\n",
       "\\item 'BET'\n",
       "\\item 'BEV'\n",
       "\\item 'BFC'\n",
       "\\item 'BFD'\n",
       "\\item 'BFP'\n",
       "\\item 'BAN'\n",
       "\\item 'BAP'\n",
       "\\item 'AKH'\n",
       "\\item 'AKE'\n",
       "\\item 'CRB'\n",
       "\\item 'AMM'\n",
       "\\item 'ACT'\n",
       "\\item 'ACI'\n",
       "\\item 'ACK'\n",
       "\\item 'AAS'\n",
       "\\item 'ACN'\n",
       "\\item 'AAV'\n",
       "\\item 'ABA'\n",
       "\\item 'ABC'\n",
       "\\item 'ABE'\n",
       "\\item 'ABG'\n",
       "\\item 'ATE'\n",
       "\\item 'ABK'\n",
       "\\item 'BMK'\n",
       "\\item 'AND'\n",
       "\\item 'ANG'\n",
       "\\item 'ANH'\n",
       "\\item 'ANI'\n",
       "\\item 'AVI'\n",
       "\\item 'CMP'\n",
       "\\item 'CMQ'\n",
       "\\item 'BTI'\n",
       "\\item 'CPG'\n",
       "\\item 'BBQ'\n",
       "\\item 'BBS'\n",
       "\\end{enumerate*}\n"
      ],
      "text/markdown": [
       "1. 'BAK'\n",
       "2. 'ABL'\n",
       "3. 'ABP'\n",
       "4. 'BHN'\n",
       "5. 'ACP'\n",
       "6. 'AAM'\n",
       "7. 'AAR'\n",
       "8. 'BEF'\n",
       "9. 'BFQ'\n",
       "10. 'BFR'\n",
       "11. 'AKQ'\n",
       "12. 'AKS'\n",
       "13. 'AKV'\n",
       "14. 'CCC'\n",
       "15. 'CCD'\n",
       "16. 'CCF'\n",
       "17. 'CCG'\n",
       "18. 'BID'\n",
       "19. 'BKL'\n",
       "20. 'BQC'\n",
       "21. 'ABS'\n",
       "22. 'AKI'\n",
       "23. 'AMD'\n",
       "24. 'BET'\n",
       "25. 'BEV'\n",
       "26. 'BFC'\n",
       "27. 'BFD'\n",
       "28. 'BFP'\n",
       "29. 'BAN'\n",
       "30. 'BAP'\n",
       "31. 'AKH'\n",
       "32. 'AKE'\n",
       "33. 'CRB'\n",
       "34. 'AMM'\n",
       "35. 'ACT'\n",
       "36. 'ACI'\n",
       "37. 'ACK'\n",
       "38. 'AAS'\n",
       "39. 'ACN'\n",
       "40. 'AAV'\n",
       "41. 'ABA'\n",
       "42. 'ABC'\n",
       "43. 'ABE'\n",
       "44. 'ABG'\n",
       "45. 'ATE'\n",
       "46. 'ABK'\n",
       "47. 'BMK'\n",
       "48. 'AND'\n",
       "49. 'ANG'\n",
       "50. 'ANH'\n",
       "51. 'ANI'\n",
       "52. 'AVI'\n",
       "53. 'CMP'\n",
       "54. 'CMQ'\n",
       "55. 'BTI'\n",
       "56. 'CPG'\n",
       "57. 'BBQ'\n",
       "58. 'BBS'\n",
       "\n",
       "\n"
      ],
      "text/plain": [
       " [1] \"BAK\" \"ABL\" \"ABP\" \"BHN\" \"ACP\" \"AAM\" \"AAR\" \"BEF\" \"BFQ\" \"BFR\" \"AKQ\" \"AKS\"\n",
       "[13] \"AKV\" \"CCC\" \"CCD\" \"CCF\" \"CCG\" \"BID\" \"BKL\" \"BQC\" \"ABS\" \"AKI\" \"AMD\" \"BET\"\n",
       "[25] \"BEV\" \"BFC\" \"BFD\" \"BFP\" \"BAN\" \"BAP\" \"AKH\" \"AKE\" \"CRB\" \"AMM\" \"ACT\" \"ACI\"\n",
       "[37] \"ACK\" \"AAS\" \"ACN\" \"AAV\" \"ABA\" \"ABC\" \"ABE\" \"ABG\" \"ATE\" \"ABK\" \"BMK\" \"AND\"\n",
       "[49] \"ANG\" \"ANH\" \"ANI\" \"AVI\" \"CMP\" \"CMQ\" \"BTI\" \"CPG\" \"BBQ\" \"BBS\""
      ]
     },
     "metadata": {},
     "output_type": "display_data"
    }
   ],
   "source": [
    "Matrix1$Syst_name[!endsWith(Matrix1$Syst_name, \"_b\")]\n",
    "Matrix2$Syst_name[!endsWith(Matrix2$Syst_name, \"_a\")]\n",
    "\n",
    "samples1=str_replace(Matrix1$Syst_name, \"_b$\", \"\")\n",
    "samples2=str_replace(str_replace(str_replace(Matrix2$Syst_name, \"_a$\", \"\"), \"_b$\", \"\"),fixed(\"_rho+\"),\"\")\n",
    "\n",
    "samples=samples2[samples2%in%samples1[samples1%in%samples2]]\n",
    "\n",
    "summary(samples%in%Overview$`Strain Name`)\n",
    "Overview$`Standard ID`[Overview$`Strain Name` %in% samples]"
   ]
  },
  {
   "cell_type": "code",
   "execution_count": 5,
   "id": "908abbb6",
   "metadata": {},
   "outputs": [
    {
     "name": "stderr",
     "output_type": "stream",
     "text": [
      "New names:\n",
      "* `` -> ...22\n",
      "\n"
     ]
    }
   ],
   "source": [
    "newLocations=read_xlsx(\"~/data/trd/Collection_YJS_Box_2022.xlsx\", sheet = 1, col_types=\"text\")\n",
    "newLocations=subset(newLocations, !is.na(Lab_ID))"
   ]
  },
  {
   "cell_type": "code",
   "execution_count": 6,
   "id": "b2de871d",
   "metadata": {},
   "outputs": [],
   "source": [
    "#writeLines(Overview$`Standard ID`[Overview$`Strain Name` %in% samples], \"~/data/TRD/SamplesInMatrix.list\")"
   ]
  },
  {
   "cell_type": "code",
   "execution_count": 7,
   "id": "3209b89c",
   "metadata": {},
   "outputs": [],
   "source": [
    "getYJS=function(x){#Three letter name\n",
    "    mat1=Matrix1$Lab_name[which(samples1==Overview$`Strain Name`[Overview$`Standard ID` == x])]\n",
    "    mat2=Matrix2$Lab_name[which(samples2==Overview$`Strain Name`[Overview$`Standard ID` == x])]\n",
    "    if(length(mat1)>1 | length(mat2)>1){\n",
    "        mat1=mat1[1]\n",
    "        mat2=mat2[1]\n",
    "        print(paste(x, \"has more than two YJS -- check!\"))\n",
    "    }\n",
    "    return(paste(x, \"-\", Overview$`Strain Name`[Overview$`Standard ID` == x], \"-\",mat1,\n",
    "                 \"(\",newLocations$Mating_type[newLocations$Lab_ID==mat1],\n",
    "                 newLocations$Genotype[newLocations$Lab_ID==mat1],\n",
    "                 newLocations$`New Box number`[newLocations$Lab_ID==mat1],\n",
    "                 newLocations$Notes[newLocations$Lab_ID==mat1],\")\",\n",
    "                 \"or\",\n",
    "                mat2,\n",
    "                \"(\",newLocations$Mating_type[newLocations$Lab_ID==mat2],\n",
    "                 newLocations$Genotype[newLocations$Lab_ID==mat2],\n",
    "                 newLocations$`New Box number`[newLocations$Lab_ID==mat2],\n",
    "                 newLocations$Notes[newLocations$Lab_ID==mat2],\")\"))\n",
    "}"
   ]
  },
  {
   "cell_type": "code",
   "execution_count": 8,
   "id": "ffb7f974",
   "metadata": {},
   "outputs": [],
   "source": [
    "#toBeCrossed=fread()"
   ]
  },
  {
   "cell_type": "code",
   "execution_count": 9,
   "id": "19f211b7",
   "metadata": {},
   "outputs": [],
   "source": [
    "# below are functions to just quickly get the YJS needed for a cross"
   ]
  },
  {
   "cell_type": "code",
   "execution_count": 10,
   "id": "d96ffa81",
   "metadata": {},
   "outputs": [],
   "source": [
    "getYJSForCross=function(uglyExcelPasta){\n",
    "    crosses=strsplit(uglyExcelPasta, \"\\n\", fixed=TRUE)[[1]]\n",
    "    for(cross in crosses){\n",
    "        print(\"Cross:\")\n",
    "        tmp=strsplit(cross, \"\\t\", fixed=TRUE)[[1]]\n",
    "        print(getYJS(tmp[1]))\n",
    "        print(getYJS(tmp[2]))\n",
    "    }\n",
    "}"
   ]
  },
  {
   "cell_type": "code",
   "execution_count": 13,
   "id": "1a4bea6e",
   "metadata": {
    "scrolled": true
   },
   "outputs": [
    {
     "name": "stdout",
     "output_type": "stream",
     "text": [
      "[1] \"Cross:\"\n",
      "[1] \"AKI - DBVPG6044 - YJS7119 ( alpha ho<U+2206>::ClonNAT 54 NA ) or YJS7219 ( a ho<U+2206>::KanMX 55 NA )\"\n",
      "[1] \"CPG - 1560 - YJS7182 ( alpha ho<U+2206>::ClonNAT 55 NA ) or YJS7282 ( a ho<U+2206>::KanMX 56 NA )\"\n",
      "[1] \"Cross:\"\n",
      "[1] \"ATE - YJM627 - YJS7100 ( alpha ho<U+2206>::ClonNAT 54 NA ) or YJS7200 ( a ho<U+2206>::KanMX 55 NA )\"\n",
      "[1] \"CPG - 1560 - YJS7182 ( alpha ho<U+2206>::ClonNAT 55 NA ) or YJS7282 ( a ho<U+2206>::KanMX 56 NA )\"\n"
     ]
    }
   ],
   "source": [
    "getYJSForCross(\"AKI\tCPG\n",
    "ATE\tCPG\")"
   ]
  },
  {
   "cell_type": "code",
   "execution_count": 18,
   "id": "42657a3e",
   "metadata": {},
   "outputs": [
    {
     "data": {
      "text/html": [
       "'BEF - CLIB413 - YJS7163 ( alpha ho\\u2206::ClonNAT 55 NA ) or YJS7263 ( a ho\\u2206::KanMX 56 NA )'"
      ],
      "text/latex": [
       "'BEF - CLIB413 - YJS7163 ( alpha ho\\textbackslash{}u2206::ClonNAT 55 NA ) or YJS7263 ( a ho\\textbackslash{}u2206::KanMX 56 NA )'"
      ],
      "text/markdown": [
       "'BEF - CLIB413 - YJS7163 ( alpha ho\\u2206::ClonNAT 55 NA ) or YJS7263 ( a ho\\u2206::KanMX 56 NA )'"
      ],
      "text/plain": [
       "[1] \"BEF - CLIB413 - YJS7163 ( alpha ho<U+2206>::ClonNAT 55 NA ) or YJS7263 ( a ho<U+2206>::KanMX 56 NA )\""
      ]
     },
     "metadata": {},
     "output_type": "display_data"
    }
   ],
   "source": [
    "getYJS(\"BEF\")"
   ]
  }
 ],
 "metadata": {
  "kernelspec": {
   "display_name": "R",
   "language": "R",
   "name": "ir"
  },
  "language_info": {
   "codemirror_mode": "r",
   "file_extension": ".r",
   "mimetype": "text/x-r-source",
   "name": "R",
   "pygments_lexer": "r",
   "version": "4.1.2"
  }
 },
 "nbformat": 4,
 "nbformat_minor": 5
}

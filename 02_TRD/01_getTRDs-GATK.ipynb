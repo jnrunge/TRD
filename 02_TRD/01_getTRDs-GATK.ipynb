{
 "cells": [
  {
   "cell_type": "markdown",
   "id": "a91a4460-44cf-446e-b032-534208725baf",
   "metadata": {},
   "source": [
    "Here is the meat and potatoes of actually determining the TRD loci. Will still need a bit of refinement, but the idea is to look at opposite homozygous loci (of the parent strains), filter out crazy outliers, then find subsequent loci with distorted transmission (i.e. more than 1 base being distorted), then save all this data for subsequent analyes. "
   ]
  },
  {
   "cell_type": "code",
   "execution_count": 3,
   "id": "7a9f3ff1-0d8b-4a8b-8abe-582d2c89dbf1",
   "metadata": {},
   "outputs": [
    {
     "name": "stderr",
     "output_type": "stream",
     "text": [
      "\n",
      "Attaching package: 'dplyr'\n",
      "\n",
      "\n",
      "The following objects are masked from 'package:data.table':\n",
      "\n",
      "    between, first, last\n",
      "\n",
      "\n",
      "The following objects are masked from 'package:stats':\n",
      "\n",
      "    filter, lag\n",
      "\n",
      "\n",
      "The following objects are masked from 'package:base':\n",
      "\n",
      "    intersect, setdiff, setequal, union\n",
      "\n",
      "\n"
     ]
    },
    {
     "data": {
      "text/html": [
       "<style>\n",
       ".list-inline {list-style: none; margin:0; padding: 0}\n",
       ".list-inline>li {display: inline-block}\n",
       ".list-inline>li:not(:last-child)::after {content: \"\\00b7\"; padding: 0 .5ex}\n",
       "</style>\n",
       "<ol class=list-inline><li>'ChrisC1'</li><li>'ChrisC2'</li><li>'ChrisC3'</li><li>'ChrisC4'</li><li>'ChrisC5'</li><li>'ChrisC6'</li><li>'ChrisC7'</li><li>'ChrisC8'</li><li>'YJNRC1'</li><li>'YJNRC11'</li><li>'YJNRC12'</li><li>'YJNRC14'</li><li>'YJNRC15'</li><li>'YJNRC16'</li><li>'YJNRC17'</li><li>'YJNRC18'</li><li>'YJNRC19'</li><li>'YJNRC2'</li><li>'YJNRC20'</li><li>'YJNRC21'</li><li>'YJNRC22'</li><li>'YJNRC23'</li><li>'YJNRC24'</li><li>'YJNRC25'</li><li>'YJNRC26'</li><li>'YJNRC27'</li><li>'YJNRC29'</li><li>'YJNRC3'</li><li>'YJNRC30'</li><li>'YJNRC31'</li><li>'YJNRC32'</li><li>'YJNRC34'</li><li>'YJNRC4'</li><li>'YJNRC5'</li><li>'YJNRC6'</li><li>'YJNRC7'</li><li>'YJNRC8'</li><li>'YJNRC9'</li></ol>\n"
      ],
      "text/latex": [
       "\\begin{enumerate*}\n",
       "\\item 'ChrisC1'\n",
       "\\item 'ChrisC2'\n",
       "\\item 'ChrisC3'\n",
       "\\item 'ChrisC4'\n",
       "\\item 'ChrisC5'\n",
       "\\item 'ChrisC6'\n",
       "\\item 'ChrisC7'\n",
       "\\item 'ChrisC8'\n",
       "\\item 'YJNRC1'\n",
       "\\item 'YJNRC11'\n",
       "\\item 'YJNRC12'\n",
       "\\item 'YJNRC14'\n",
       "\\item 'YJNRC15'\n",
       "\\item 'YJNRC16'\n",
       "\\item 'YJNRC17'\n",
       "\\item 'YJNRC18'\n",
       "\\item 'YJNRC19'\n",
       "\\item 'YJNRC2'\n",
       "\\item 'YJNRC20'\n",
       "\\item 'YJNRC21'\n",
       "\\item 'YJNRC22'\n",
       "\\item 'YJNRC23'\n",
       "\\item 'YJNRC24'\n",
       "\\item 'YJNRC25'\n",
       "\\item 'YJNRC26'\n",
       "\\item 'YJNRC27'\n",
       "\\item 'YJNRC29'\n",
       "\\item 'YJNRC3'\n",
       "\\item 'YJNRC30'\n",
       "\\item 'YJNRC31'\n",
       "\\item 'YJNRC32'\n",
       "\\item 'YJNRC34'\n",
       "\\item 'YJNRC4'\n",
       "\\item 'YJNRC5'\n",
       "\\item 'YJNRC6'\n",
       "\\item 'YJNRC7'\n",
       "\\item 'YJNRC8'\n",
       "\\item 'YJNRC9'\n",
       "\\end{enumerate*}\n"
      ],
      "text/markdown": [
       "1. 'ChrisC1'\n",
       "2. 'ChrisC2'\n",
       "3. 'ChrisC3'\n",
       "4. 'ChrisC4'\n",
       "5. 'ChrisC5'\n",
       "6. 'ChrisC6'\n",
       "7. 'ChrisC7'\n",
       "8. 'ChrisC8'\n",
       "9. 'YJNRC1'\n",
       "10. 'YJNRC11'\n",
       "11. 'YJNRC12'\n",
       "12. 'YJNRC14'\n",
       "13. 'YJNRC15'\n",
       "14. 'YJNRC16'\n",
       "15. 'YJNRC17'\n",
       "16. 'YJNRC18'\n",
       "17. 'YJNRC19'\n",
       "18. 'YJNRC2'\n",
       "19. 'YJNRC20'\n",
       "20. 'YJNRC21'\n",
       "21. 'YJNRC22'\n",
       "22. 'YJNRC23'\n",
       "23. 'YJNRC24'\n",
       "24. 'YJNRC25'\n",
       "25. 'YJNRC26'\n",
       "26. 'YJNRC27'\n",
       "27. 'YJNRC29'\n",
       "28. 'YJNRC3'\n",
       "29. 'YJNRC30'\n",
       "30. 'YJNRC31'\n",
       "31. 'YJNRC32'\n",
       "32. 'YJNRC34'\n",
       "33. 'YJNRC4'\n",
       "34. 'YJNRC5'\n",
       "35. 'YJNRC6'\n",
       "36. 'YJNRC7'\n",
       "37. 'YJNRC8'\n",
       "38. 'YJNRC9'\n",
       "\n",
       "\n"
      ],
      "text/plain": [
       " [1] \"ChrisC1\" \"ChrisC2\" \"ChrisC3\" \"ChrisC4\" \"ChrisC5\" \"ChrisC6\" \"ChrisC7\"\n",
       " [8] \"ChrisC8\" \"YJNRC1\"  \"YJNRC11\" \"YJNRC12\" \"YJNRC14\" \"YJNRC15\" \"YJNRC16\"\n",
       "[15] \"YJNRC17\" \"YJNRC18\" \"YJNRC19\" \"YJNRC2\"  \"YJNRC20\" \"YJNRC21\" \"YJNRC22\"\n",
       "[22] \"YJNRC23\" \"YJNRC24\" \"YJNRC25\" \"YJNRC26\" \"YJNRC27\" \"YJNRC29\" \"YJNRC3\" \n",
       "[29] \"YJNRC30\" \"YJNRC31\" \"YJNRC32\" \"YJNRC34\" \"YJNRC4\"  \"YJNRC5\"  \"YJNRC6\" \n",
       "[36] \"YJNRC7\"  \"YJNRC8\"  \"YJNRC9\" "
      ]
     },
     "metadata": {},
     "output_type": "display_data"
    }
   ],
   "source": [
    "source(\"../../BrusselSprouts/scripts/functions.R\")\n",
    "crosses = readLines(\"~/data/trd/mapped_reads/TRD.vcf.gz.samples\")\n",
    "crosses = crosses[startsWith(crosses, \"YJNRC\") | startsWith(crosses, \"Chris\")]\n",
    "crosses"
   ]
  },
  {
   "cell_type": "code",
   "execution_count": 4,
   "id": "66cc1878-d735-46c4-819b-a742792b1188",
   "metadata": {
    "tags": []
   },
   "outputs": [],
   "source": [
    "library(naturalsort)"
   ]
  },
  {
   "cell_type": "code",
   "execution_count": 5,
   "id": "d72f62f6-5ba8-4685-98c9-9dda6cf29e6b",
   "metadata": {},
   "outputs": [
    {
     "name": "stderr",
     "output_type": "stream",
     "text": [
      "\u001b[1m\u001b[22mNew names:\n",
      "\u001b[36m*\u001b[39m `Is in Stock` -> `Is in Stock...4`\n",
      "\u001b[36m*\u001b[39m `Is in Stock` -> `Is in Stock...6`\n"
     ]
    },
    {
     "data": {
      "text/html": [
       "<table class=\"dataframe\">\n",
       "<caption>A tibble: 6 x 3</caption>\n",
       "<thead>\n",
       "\t<tr><th scope=col>Cross ID</th><th scope=col>Short name 1</th><th scope=col>Short name 2</th></tr>\n",
       "\t<tr><th scope=col>&lt;chr&gt;</th><th scope=col>&lt;chr&gt;</th><th scope=col>&lt;chr&gt;</th></tr>\n",
       "</thead>\n",
       "<tbody>\n",
       "\t<tr><td>YJNRC1</td><td>BAK</td><td>BET</td></tr>\n",
       "\t<tr><td>YJNRC2</td><td>BAN</td><td>BTI</td></tr>\n",
       "\t<tr><td>YJNRC3</td><td>AKH</td><td>BQC</td></tr>\n",
       "\t<tr><td>YJNRC4</td><td>ABS</td><td>BEF</td></tr>\n",
       "\t<tr><td>YJNRC5</td><td>BAK</td><td>BMK</td></tr>\n",
       "\t<tr><td>YJNRC6</td><td>BAN</td><td>CRB</td></tr>\n",
       "</tbody>\n",
       "</table>\n"
      ],
      "text/latex": [
       "A tibble: 6 x 3\n",
       "\\begin{tabular}{lll}\n",
       " Cross ID & Short name 1 & Short name 2\\\\\n",
       " <chr> & <chr> & <chr>\\\\\n",
       "\\hline\n",
       "\t YJNRC1 & BAK & BET\\\\\n",
       "\t YJNRC2 & BAN & BTI\\\\\n",
       "\t YJNRC3 & AKH & BQC\\\\\n",
       "\t YJNRC4 & ABS & BEF\\\\\n",
       "\t YJNRC5 & BAK & BMK\\\\\n",
       "\t YJNRC6 & BAN & CRB\\\\\n",
       "\\end{tabular}\n"
      ],
      "text/markdown": [
       "\n",
       "A tibble: 6 x 3\n",
       "\n",
       "| Cross ID &lt;chr&gt; | Short name 1 &lt;chr&gt; | Short name 2 &lt;chr&gt; |\n",
       "|---|---|---|\n",
       "| YJNRC1 | BAK | BET |\n",
       "| YJNRC2 | BAN | BTI |\n",
       "| YJNRC3 | AKH | BQC |\n",
       "| YJNRC4 | ABS | BEF |\n",
       "| YJNRC5 | BAK | BMK |\n",
       "| YJNRC6 | BAN | CRB |\n",
       "\n"
      ],
      "text/plain": [
       "  Cross ID Short name 1 Short name 2\n",
       "1 YJNRC1   BAK          BET         \n",
       "2 YJNRC2   BAN          BTI         \n",
       "3 YJNRC3   AKH          BQC         \n",
       "4 YJNRC4   ABS          BEF         \n",
       "5 YJNRC5   BAK          BMK         \n",
       "6 YJNRC6   BAN          CRB         "
      ]
     },
     "metadata": {},
     "output_type": "display_data"
    },
    {
     "data": {
      "text/html": [
       "<table class=\"dataframe\">\n",
       "<caption>A tibble: 6 x 3</caption>\n",
       "<thead>\n",
       "\t<tr><th scope=col>Cross ID</th><th scope=col>Short name 1</th><th scope=col>Short name 2</th></tr>\n",
       "\t<tr><th scope=col>&lt;chr&gt;</th><th scope=col>&lt;chr&gt;</th><th scope=col>&lt;chr&gt;</th></tr>\n",
       "</thead>\n",
       "<tbody>\n",
       "\t<tr><td>ChrisC3</td><td>CCD</td><td>CPG     </td></tr>\n",
       "\t<tr><td>ChrisC4</td><td>ATE</td><td>SACE_YCR</td></tr>\n",
       "\t<tr><td>ChrisC5</td><td>ACK</td><td>ACV     </td></tr>\n",
       "\t<tr><td>ChrisC6</td><td>AKE</td><td>BAH     </td></tr>\n",
       "\t<tr><td>ChrisC7</td><td>BAH</td><td>CGD     </td></tr>\n",
       "\t<tr><td>ChrisC8</td><td>ANG</td><td>CEI     </td></tr>\n",
       "</tbody>\n",
       "</table>\n"
      ],
      "text/latex": [
       "A tibble: 6 x 3\n",
       "\\begin{tabular}{lll}\n",
       " Cross ID & Short name 1 & Short name 2\\\\\n",
       " <chr> & <chr> & <chr>\\\\\n",
       "\\hline\n",
       "\t ChrisC3 & CCD & CPG     \\\\\n",
       "\t ChrisC4 & ATE & SACE\\_YCR\\\\\n",
       "\t ChrisC5 & ACK & ACV     \\\\\n",
       "\t ChrisC6 & AKE & BAH     \\\\\n",
       "\t ChrisC7 & BAH & CGD     \\\\\n",
       "\t ChrisC8 & ANG & CEI     \\\\\n",
       "\\end{tabular}\n"
      ],
      "text/markdown": [
       "\n",
       "A tibble: 6 x 3\n",
       "\n",
       "| Cross ID &lt;chr&gt; | Short name 1 &lt;chr&gt; | Short name 2 &lt;chr&gt; |\n",
       "|---|---|---|\n",
       "| ChrisC3 | CCD | CPG      |\n",
       "| ChrisC4 | ATE | SACE_YCR |\n",
       "| ChrisC5 | ACK | ACV      |\n",
       "| ChrisC6 | AKE | BAH      |\n",
       "| ChrisC7 | BAH | CGD      |\n",
       "| ChrisC8 | ANG | CEI      |\n",
       "\n"
      ],
      "text/plain": [
       "  Cross ID Short name 1 Short name 2\n",
       "1 ChrisC3  CCD          CPG         \n",
       "2 ChrisC4  ATE          SACE_YCR    \n",
       "3 ChrisC5  ACK          ACV         \n",
       "4 ChrisC6  AKE          BAH         \n",
       "5 ChrisC7  BAH          CGD         \n",
       "6 ChrisC8  ANG          CEI         "
      ]
     },
     "metadata": {},
     "output_type": "display_data"
    }
   ],
   "source": [
    "crosses_xlsx=readxl::read_xlsx(\"~/data/trd/Crosses.xlsx\", sheet=2)\n",
    "cc=data.frame(\"Cross ID\"=c(paste0(\"ChrisC\",1:8)),\n",
    "                                  \"Short name 1\"=c(\"ACP\",\"BAP\",\"CCD\",\"ATE\",\"ACK\",\"AKE\",\"BAH\",\"ANG\"),\n",
    "                                  \"Short name 2\"=c(\"BFP\",\"CMP\",\"CPG\",\"SACE_YCR\",\"ACV\",\"BAH\",\"CGD\",\"CEI\"), stringsAsFactors=FALSE)\n",
    "colnames(cc)=str_replace_all(colnames(cc), fixed(\".\"), \" \")\n",
    "crosses_xlsx <- bind_rows(crosses_xlsx[,c(\"Cross ID\",\"Short name 1\",\"Short name 2\")],\n",
    "                        cc)\n",
    "head(crosses_xlsx)\n",
    "tail(crosses_xlsx)"
   ]
  },
  {
   "cell_type": "code",
   "execution_count": 6,
   "id": "40a2cd6e-086b-49cf-966f-14c74da4d39f",
   "metadata": {
    "tags": []
   },
   "outputs": [],
   "source": [
    "getAD <- function(x) {\n",
    "  allele_count <- str_count(OH_vs_cross$ADcross[x], \",\")\n",
    "  AD3_0 <- as.numeric(strsplit(OH_vs_cross$ADcross[x], \",\", fixed = TRUE)[[1]][1])\n",
    "  AD3_1 <- as.numeric(strsplit(OH_vs_cross$ADcross[x], \",\", fixed = TRUE)[[1]][2])\n",
    "  if (allele_count > 1) {\n",
    "    AD3_2 <- as.numeric(strsplit(OH_vs_cross$ADcross[x], \",\", fixed = TRUE)[[1]][3])\n",
    "    if (allele_count > 2) {\n",
    "      AD3_3 <- as.numeric(strsplit(OH_vs_cross$ADcross[x], \",\", fixed = TRUE)[[1]][4])\n",
    "    } else {\n",
    "      AD3_3 <- NA\n",
    "    }\n",
    "  } else {\n",
    "    AD3_2 <- NA\n",
    "    AD3_3 <- NA\n",
    "  }\n",
    "  return(data.frame(AD3_0 = AD3_0, AD3_1 = AD3_1, AD3_2 = AD3_2, AD3_3 = AD3_3))\n",
    "}\n",
    "\n",
    "isSNP <- function(x) {\n",
    "  Alleles <- OH_vs_cross$alleles[x]\n",
    "  Alleles <- strsplit(Alleles, \",\", fixed = TRUE)[[1]]\n",
    "  return(sum(str_length(Alleles) == 1) == length(Alleles))\n",
    "}\n",
    "PosMinus1Except1 <- function(x) {\n",
    "  if (1 %in% x) {\n",
    "    x[x == 1] <- x[x == 1] + 1\n",
    "  }\n",
    "  return(x - 1)\n",
    "}"
   ]
  },
  {
   "cell_type": "code",
   "execution_count": 8,
   "id": "1f91d356-e8c8-4902-9c62-a77022186a05",
   "metadata": {
    "tags": []
   },
   "outputs": [
    {
     "data": {
      "text/html": [
       "<style>\n",
       ".list-inline {list-style: none; margin:0; padding: 0}\n",
       ".list-inline>li {display: inline-block}\n",
       ".list-inline>li:not(:last-child)::after {content: \"\\00b7\"; padding: 0 .5ex}\n",
       "</style>\n",
       "<ol class=list-inline><li>'ChrisC1'</li><li>'ChrisC2'</li><li>'ChrisC3'</li><li>'ChrisC4'</li><li>'ChrisC5'</li><li>'ChrisC6'</li><li>'ChrisC7'</li><li>'ChrisC8'</li><li>'YJNRC1'</li><li>'YJNRC11'</li><li>'YJNRC12'</li><li>'YJNRC14'</li><li>'YJNRC15'</li><li>'YJNRC16'</li><li>'YJNRC17'</li><li>'YJNRC18'</li><li>'YJNRC19'</li><li>'YJNRC2'</li><li>'YJNRC20'</li><li>'YJNRC21'</li><li>'YJNRC22'</li><li>'YJNRC23'</li><li>'YJNRC24'</li><li>'YJNRC25'</li><li>'YJNRC26'</li><li>'YJNRC27'</li><li>'YJNRC29'</li><li>'YJNRC3'</li><li>'YJNRC30'</li><li>'YJNRC31'</li><li>'YJNRC32'</li><li>'YJNRC34'</li><li>'YJNRC4'</li><li>'YJNRC5'</li><li>'YJNRC6'</li><li>'YJNRC7'</li><li>'YJNRC8'</li><li>'YJNRC9'</li></ol>\n"
      ],
      "text/latex": [
       "\\begin{enumerate*}\n",
       "\\item 'ChrisC1'\n",
       "\\item 'ChrisC2'\n",
       "\\item 'ChrisC3'\n",
       "\\item 'ChrisC4'\n",
       "\\item 'ChrisC5'\n",
       "\\item 'ChrisC6'\n",
       "\\item 'ChrisC7'\n",
       "\\item 'ChrisC8'\n",
       "\\item 'YJNRC1'\n",
       "\\item 'YJNRC11'\n",
       "\\item 'YJNRC12'\n",
       "\\item 'YJNRC14'\n",
       "\\item 'YJNRC15'\n",
       "\\item 'YJNRC16'\n",
       "\\item 'YJNRC17'\n",
       "\\item 'YJNRC18'\n",
       "\\item 'YJNRC19'\n",
       "\\item 'YJNRC2'\n",
       "\\item 'YJNRC20'\n",
       "\\item 'YJNRC21'\n",
       "\\item 'YJNRC22'\n",
       "\\item 'YJNRC23'\n",
       "\\item 'YJNRC24'\n",
       "\\item 'YJNRC25'\n",
       "\\item 'YJNRC26'\n",
       "\\item 'YJNRC27'\n",
       "\\item 'YJNRC29'\n",
       "\\item 'YJNRC3'\n",
       "\\item 'YJNRC30'\n",
       "\\item 'YJNRC31'\n",
       "\\item 'YJNRC32'\n",
       "\\item 'YJNRC34'\n",
       "\\item 'YJNRC4'\n",
       "\\item 'YJNRC5'\n",
       "\\item 'YJNRC6'\n",
       "\\item 'YJNRC7'\n",
       "\\item 'YJNRC8'\n",
       "\\item 'YJNRC9'\n",
       "\\end{enumerate*}\n"
      ],
      "text/markdown": [
       "1. 'ChrisC1'\n",
       "2. 'ChrisC2'\n",
       "3. 'ChrisC3'\n",
       "4. 'ChrisC4'\n",
       "5. 'ChrisC5'\n",
       "6. 'ChrisC6'\n",
       "7. 'ChrisC7'\n",
       "8. 'ChrisC8'\n",
       "9. 'YJNRC1'\n",
       "10. 'YJNRC11'\n",
       "11. 'YJNRC12'\n",
       "12. 'YJNRC14'\n",
       "13. 'YJNRC15'\n",
       "14. 'YJNRC16'\n",
       "15. 'YJNRC17'\n",
       "16. 'YJNRC18'\n",
       "17. 'YJNRC19'\n",
       "18. 'YJNRC2'\n",
       "19. 'YJNRC20'\n",
       "20. 'YJNRC21'\n",
       "21. 'YJNRC22'\n",
       "22. 'YJNRC23'\n",
       "23. 'YJNRC24'\n",
       "24. 'YJNRC25'\n",
       "25. 'YJNRC26'\n",
       "26. 'YJNRC27'\n",
       "27. 'YJNRC29'\n",
       "28. 'YJNRC3'\n",
       "29. 'YJNRC30'\n",
       "30. 'YJNRC31'\n",
       "31. 'YJNRC32'\n",
       "32. 'YJNRC34'\n",
       "33. 'YJNRC4'\n",
       "34. 'YJNRC5'\n",
       "35. 'YJNRC6'\n",
       "36. 'YJNRC7'\n",
       "37. 'YJNRC8'\n",
       "38. 'YJNRC9'\n",
       "\n",
       "\n"
      ],
      "text/plain": [
       " [1] \"ChrisC1\" \"ChrisC2\" \"ChrisC3\" \"ChrisC4\" \"ChrisC5\" \"ChrisC6\" \"ChrisC7\"\n",
       " [8] \"ChrisC8\" \"YJNRC1\"  \"YJNRC11\" \"YJNRC12\" \"YJNRC14\" \"YJNRC15\" \"YJNRC16\"\n",
       "[15] \"YJNRC17\" \"YJNRC18\" \"YJNRC19\" \"YJNRC2\"  \"YJNRC20\" \"YJNRC21\" \"YJNRC22\"\n",
       "[22] \"YJNRC23\" \"YJNRC24\" \"YJNRC25\" \"YJNRC26\" \"YJNRC27\" \"YJNRC29\" \"YJNRC3\" \n",
       "[29] \"YJNRC30\" \"YJNRC31\" \"YJNRC32\" \"YJNRC34\" \"YJNRC4\"  \"YJNRC5\"  \"YJNRC6\" \n",
       "[36] \"YJNRC7\"  \"YJNRC8\"  \"YJNRC9\" "
      ]
     },
     "metadata": {},
     "output_type": "display_data"
    }
   ],
   "source": [
    "crosses"
   ]
  },
  {
   "cell_type": "code",
   "execution_count": 104,
   "id": "8fdc30a3-b932-48f4-a734-5587e523e607",
   "metadata": {
    "tags": []
   },
   "outputs": [
    {
     "name": "stdout",
     "output_type": "stream",
     "text": [
      "[1] \"/home/jnrunge/data/trd/mapped_reads/scripts/getTRD-ChrisC1.sbatch\"\n",
      "[1] \"/home/jnrunge/data/trd/mapped_reads/scripts/getTRD-ChrisC2.sbatch\"\n",
      "[1] \"/home/jnrunge/data/trd/mapped_reads/scripts/getTRD-ChrisC3.sbatch\"\n",
      "[1] \"/home/jnrunge/data/trd/mapped_reads/scripts/getTRD-ChrisC4.sbatch\"\n",
      "[1] \"/home/jnrunge/data/trd/mapped_reads/scripts/getTRD-ChrisC5.sbatch\"\n",
      "[1] \"/home/jnrunge/data/trd/mapped_reads/scripts/getTRD-ChrisC6.sbatch\"\n",
      "[1] \"/home/jnrunge/data/trd/mapped_reads/scripts/getTRD-ChrisC7.sbatch\"\n",
      "[1] \"/home/jnrunge/data/trd/mapped_reads/scripts/getTRD-ChrisC8.sbatch\"\n",
      "[1] \"/home/jnrunge/data/trd/mapped_reads/scripts/getTRD-YJNRC1.sbatch\"\n",
      "[1] \"/home/jnrunge/data/trd/mapped_reads/scripts/getTRD-YJNRC11.sbatch\"\n",
      "[1] \"/home/jnrunge/data/trd/mapped_reads/scripts/getTRD-YJNRC12.sbatch\"\n",
      "[1] \"/home/jnrunge/data/trd/mapped_reads/scripts/getTRD-YJNRC14.sbatch\"\n",
      "[1] \"/home/jnrunge/data/trd/mapped_reads/scripts/getTRD-YJNRC15.sbatch\"\n",
      "[1] \"/home/jnrunge/data/trd/mapped_reads/scripts/getTRD-YJNRC16.sbatch\"\n",
      "[1] \"/home/jnrunge/data/trd/mapped_reads/scripts/getTRD-YJNRC17.sbatch\"\n",
      "[1] \"/home/jnrunge/data/trd/mapped_reads/scripts/getTRD-YJNRC18.sbatch\"\n",
      "[1] \"/home/jnrunge/data/trd/mapped_reads/scripts/getTRD-YJNRC19.sbatch\"\n",
      "[1] \"/home/jnrunge/data/trd/mapped_reads/scripts/getTRD-YJNRC2.sbatch\"\n",
      "[1] \"/home/jnrunge/data/trd/mapped_reads/scripts/getTRD-YJNRC20.sbatch\"\n",
      "[1] \"/home/jnrunge/data/trd/mapped_reads/scripts/getTRD-YJNRC21.sbatch\"\n",
      "[1] \"/home/jnrunge/data/trd/mapped_reads/scripts/getTRD-YJNRC22.sbatch\"\n",
      "[1] \"/home/jnrunge/data/trd/mapped_reads/scripts/getTRD-YJNRC23.sbatch\"\n",
      "[1] \"/home/jnrunge/data/trd/mapped_reads/scripts/getTRD-YJNRC24.sbatch\"\n",
      "[1] \"/home/jnrunge/data/trd/mapped_reads/scripts/getTRD-YJNRC25.sbatch\"\n",
      "[1] \"/home/jnrunge/data/trd/mapped_reads/scripts/getTRD-YJNRC26.sbatch\"\n",
      "[1] \"/home/jnrunge/data/trd/mapped_reads/scripts/getTRD-YJNRC27.sbatch\"\n",
      "[1] \"/home/jnrunge/data/trd/mapped_reads/scripts/getTRD-YJNRC29.sbatch\"\n",
      "[1] \"/home/jnrunge/data/trd/mapped_reads/scripts/getTRD-YJNRC3.sbatch\"\n",
      "[1] \"/home/jnrunge/data/trd/mapped_reads/scripts/getTRD-YJNRC30.sbatch\"\n",
      "[1] \"/home/jnrunge/data/trd/mapped_reads/scripts/getTRD-YJNRC31.sbatch\"\n",
      "[1] \"/home/jnrunge/data/trd/mapped_reads/scripts/getTRD-YJNRC32.sbatch\"\n",
      "[1] \"/home/jnrunge/data/trd/mapped_reads/scripts/getTRD-YJNRC34.sbatch\"\n",
      "[1] \"/home/jnrunge/data/trd/mapped_reads/scripts/getTRD-YJNRC4.sbatch\"\n",
      "[1] \"/home/jnrunge/data/trd/mapped_reads/scripts/getTRD-YJNRC5.sbatch\"\n",
      "[1] \"/home/jnrunge/data/trd/mapped_reads/scripts/getTRD-YJNRC6.sbatch\"\n",
      "[1] \"/home/jnrunge/data/trd/mapped_reads/scripts/getTRD-YJNRC7.sbatch\"\n",
      "[1] \"/home/jnrunge/data/trd/mapped_reads/scripts/getTRD-YJNRC8.sbatch\"\n",
      "[1] \"/home/jnrunge/data/trd/mapped_reads/scripts/getTRD-YJNRC9.sbatch\"\n",
      "[1] \"/home/jnrunge/data/trd/mapped_reads/scripts/getTRD.list\"\n",
      "[1] \"38 /home/jnrunge/data/trd/mapped_reads/scripts/getTRD.list\"\n",
      " [1] \"[1] \\\"Currently running 0 jobs.\\\"\"                \n",
      " [2] \"[1] \\\"38 sbatches remaining! Running 16 more...\\\"\"\n",
      " [3] \"[1] \\\"Submitted batch job 503351\\\"\"               \n",
      " [4] \"[1] \\\"Submitted batch job 503352\\\"\"               \n",
      " [5] \"[1] \\\"Submitted batch job 503353\\\"\"               \n",
      " [6] \"[1] \\\"Submitted batch job 503354\\\"\"               \n",
      " [7] \"[1] \\\"Submitted batch job 503355\\\"\"               \n",
      " [8] \"[1] \\\"Submitted batch job 503356\\\"\"               \n",
      " [9] \"[1] \\\"Submitted batch job 503358\\\"\"               \n",
      "[10] \"[1] \\\"Submitted batch job 503360\\\"\"               \n",
      "[11] \"[1] \\\"Submitted batch job 503362\\\"\"               \n",
      "[12] \"[1] \\\"Submitted batch job 503364\\\"\"               \n",
      "[13] \"[1] \\\"Submitted batch job 503366\\\"\"               \n"
     ]
    }
   ],
   "source": [
    "initial_timedate=Sys.time()\n",
    "jobname=\"getTRD\"\n",
    "scripts_dir=\"/home/jnrunge/data/trd/mapped_reads/scripts/\"\n",
    "\n",
    "for (s in 1:length(crosses)) {\n",
    "    cmd=paste0(\"Rscript ~/TRD/02_TRD/01_getTRDs-GATK.R \",s)\n",
    "    sbatch_list=execute_complex_sbatch(cmd, jobname = jobname, scripts_dir = scripts_dir, uniqueRunID = crosses[s], cores=\"1\", mem=\"8G\", time=\"short\", env=\"JupyteR4\", initial_timedate = initial_timedate, jobs_simul = 15, jobs_total = 30)\n",
    "\n",
    "}\n",
    "\n",
    "if(exists(\"sbatch_list\") &  jobname == \"getTRD\"){\n",
    "    print(sbatch_list)\n",
    "    start_sbatch_list(sbatch_list, 15, jobname, initial_timedate)\n",
    "}\n",
    "    "
   ]
  }
 ],
 "metadata": {
  "kernelspec": {
   "display_name": "R",
   "language": "R",
   "name": "ir"
  },
  "language_info": {
   "codemirror_mode": "r",
   "file_extension": ".r",
   "mimetype": "text/x-r-source",
   "name": "R",
   "pygments_lexer": "r",
   "version": "4.1.3"
  }
 },
 "nbformat": 4,
 "nbformat_minor": 5
}

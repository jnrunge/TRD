{
 "cells": [
  {
   "cell_type": "code",
   "execution_count": 36,
   "id": "f5300001-5a38-4027-9925-1abc8bda2193",
   "metadata": {
    "tags": []
   },
   "outputs": [],
   "source": [
    "source(\"~/BrusselSprouts/scripts/functions.R\")"
   ]
  },
  {
   "cell_type": "code",
   "execution_count": 37,
   "id": "0ce82f8e-2711-4da5-a908-8a4b90e3abde",
   "metadata": {
    "tags": []
   },
   "outputs": [],
   "source": [
    "trd_file=\"/home/jnrunge/data/trd/genotypes/YJNRC2.mpileup-readable.txt.gz\"\n",
    "mpileup_file=\"/home/jnrunge/data/trd/genotypes/YJNRC2.mpileup.txt.gz\"\n",
    "OHLoci_GT_file=\"~/data/TRD/Oppo-Homo-Pos/YJNRC2.ohloci.GT.gz\""
   ]
  },
  {
   "cell_type": "code",
   "execution_count": 38,
   "id": "98bf6339-57ba-4f19-88bc-37595cf15f82",
   "metadata": {
    "tags": []
   },
   "outputs": [],
   "source": [
    "trd=fread(trd_file)\n",
    "mpileup=fread(mpileup_file)\n",
    "OHLoci_GT=fread(OHLoci_GT_file)"
   ]
  },
  {
   "cell_type": "code",
   "execution_count": 39,
   "id": "4d84bd39-bf0d-4cc9-a590-7822103f1e3d",
   "metadata": {
    "tags": []
   },
   "outputs": [],
   "source": [
    "SameAllele=function(x){\n",
    "    # bcftools does not let me compare GTs between samples, so here I am finding the few instances where my loci filter does not work (when both are 2/2 I think)\n",
    "    a1=substr(OHLoci_GT$V6[x],1,1)\n",
    "    a2=substr(OHLoci_GT$V7[x],1,1)\n",
    "    \n",
    "    return(a1==a2)\n",
    "}"
   ]
  },
  {
   "cell_type": "code",
   "execution_count": 40,
   "id": "ce66a8a8-aea1-4ab0-8972-90a68fde1ce4",
   "metadata": {
    "tags": []
   },
   "outputs": [
    {
     "data": {
      "text/html": [
       "55954"
      ],
      "text/latex": [
       "55954"
      ],
      "text/markdown": [
       "55954"
      ],
      "text/plain": [
       "[1] 55954"
      ]
     },
     "metadata": {},
     "output_type": "display_data"
    }
   ],
   "source": [
    "OHLoci_GT=OHLoci_GT[!unlist(lapply(1:nrow(OHLoci_GT), SameAllele)),]\n",
    "nrow(OHLoci_GT)"
   ]
  },
  {
   "cell_type": "code",
   "execution_count": 41,
   "id": "fecf7241-e0a1-4242-9497-158ab3725348",
   "metadata": {
    "tags": []
   },
   "outputs": [
    {
     "data": {
      "text/plain": [
       "    Min.  1st Qu.   Median     Mean  3rd Qu.     Max. \n",
       "-182.000    0.000    3.000    3.732    8.000  825.000 "
      ]
     },
     "metadata": {},
     "output_type": "display_data"
    },
    {
     "data": {
      "text/html": [
       "<table class=\"dataframe\">\n",
       "<caption>A data.frame: 6 x 5</caption>\n",
       "<thead>\n",
       "\t<tr><th></th><th scope=col>chr</th><th scope=col>pos</th><th scope=col>countID1</th><th scope=col>countID2</th><th scope=col>global_pos</th></tr>\n",
       "\t<tr><th></th><th scope=col>&lt;chr&gt;</th><th scope=col>&lt;int&gt;</th><th scope=col>&lt;int&gt;</th><th scope=col>&lt;int&gt;</th><th scope=col>&lt;int&gt;</th></tr>\n",
       "</thead>\n",
       "<tbody>\n",
       "\t<tr><th scope=row>2</th><td>chromosome1</td><td>  986</td><td>2</td><td>1</td><td>  986</td></tr>\n",
       "\t<tr><th scope=row>3</th><td>chromosome1</td><td>  990</td><td>1</td><td>1</td><td>  990</td></tr>\n",
       "\t<tr><th scope=row>13</th><td>chromosome1</td><td>12361</td><td>1</td><td>1</td><td>12361</td></tr>\n",
       "\t<tr><th scope=row>14</th><td>chromosome1</td><td>12363</td><td>1</td><td>1</td><td>12363</td></tr>\n",
       "\t<tr><th scope=row>17</th><td>chromosome1</td><td>13419</td><td>0</td><td>0</td><td>13419</td></tr>\n",
       "\t<tr><th scope=row>19</th><td>chromosome1</td><td>13459</td><td>0</td><td>0</td><td>13459</td></tr>\n",
       "</tbody>\n",
       "</table>\n"
      ],
      "text/latex": [
       "A data.frame: 6 x 5\n",
       "\\begin{tabular}{r|lllll}\n",
       "  & chr & pos & countID1 & countID2 & global\\_pos\\\\\n",
       "  & <chr> & <int> & <int> & <int> & <int>\\\\\n",
       "\\hline\n",
       "\t2 & chromosome1 &   986 & 2 & 1 &   986\\\\\n",
       "\t3 & chromosome1 &   990 & 1 & 1 &   990\\\\\n",
       "\t13 & chromosome1 & 12361 & 1 & 1 & 12361\\\\\n",
       "\t14 & chromosome1 & 12363 & 1 & 1 & 12363\\\\\n",
       "\t17 & chromosome1 & 13419 & 0 & 0 & 13419\\\\\n",
       "\t19 & chromosome1 & 13459 & 0 & 0 & 13459\\\\\n",
       "\\end{tabular}\n"
      ],
      "text/markdown": [
       "\n",
       "A data.frame: 6 x 5\n",
       "\n",
       "| <!--/--> | chr &lt;chr&gt; | pos &lt;int&gt; | countID1 &lt;int&gt; | countID2 &lt;int&gt; | global_pos &lt;int&gt; |\n",
       "|---|---|---|---|---|---|\n",
       "| 2 | chromosome1 |   986 | 2 | 1 |   986 |\n",
       "| 3 | chromosome1 |   990 | 1 | 1 |   990 |\n",
       "| 13 | chromosome1 | 12361 | 1 | 1 | 12361 |\n",
       "| 14 | chromosome1 | 12363 | 1 | 1 | 12363 |\n",
       "| 17 | chromosome1 | 13419 | 0 | 0 | 13419 |\n",
       "| 19 | chromosome1 | 13459 | 0 | 0 | 13459 |\n",
       "\n"
      ],
      "text/plain": [
       "   chr         pos   countID1 countID2 global_pos\n",
       "2  chromosome1   986 2        1          986     \n",
       "3  chromosome1   990 1        1          990     \n",
       "13 chromosome1 12361 1        1        12361     \n",
       "14 chromosome1 12363 1        1        12363     \n",
       "17 chromosome1 13419 0        0        13419     \n",
       "19 chromosome1 13459 0        0        13459     "
      ]
     },
     "metadata": {},
     "output_type": "display_data"
    }
   ],
   "source": [
    "summary(trd$countID1-trd$countID2)\n",
    "trd=subset(trd, paste(chr,pos) %in% paste(OHLoci_GT$V1,OHLoci_GT$V2)) # to implement the fix above but also in case OHLoci_GT has been made stricter since last mpilup\n",
    "chrs=summarise(group_by(trd, chr),maxPos=max(pos))\n",
    "\n",
    "trd$global_pos=trd$pos\n",
    "for(c in 2:length(unique(trd$chr))){\n",
    "    chr=unique(trd$chr)[c]\n",
    "    trd$global_pos[trd$chr==chr]=trd$pos[trd$chr==chr]+sum(chrs$maxPos[chrs$chr%in%unique(trd$chr)[1:(c-1)]])\n",
    "}\n",
    "head(trd)"
   ]
  },
  {
   "cell_type": "code",
   "execution_count": 42,
   "id": "2ba6e7b0-c5d8-4c5d-993b-9ca5fbfed627",
   "metadata": {
    "tags": []
   },
   "outputs": [
    {
     "data": {
      "text/html": [
       "<table class=\"dataframe\">\n",
       "<caption>A data.frame: 6 x 5</caption>\n",
       "<thead>\n",
       "\t<tr><th></th><th scope=col>chr</th><th scope=col>pos</th><th scope=col>countID1</th><th scope=col>countID2</th><th scope=col>global_pos</th></tr>\n",
       "\t<tr><th></th><th scope=col>&lt;chr&gt;</th><th scope=col>&lt;int&gt;</th><th scope=col>&lt;int&gt;</th><th scope=col>&lt;int&gt;</th><th scope=col>&lt;int&gt;</th></tr>\n",
       "</thead>\n",
       "<tbody>\n",
       "\t<tr><th scope=row>298</th><td>chromosome1</td><td>28844</td><td>16</td><td>0</td><td>28844</td></tr>\n",
       "\t<tr><th scope=row>371</th><td>chromosome1</td><td>37913</td><td>16</td><td>0</td><td>37913</td></tr>\n",
       "\t<tr><th scope=row>413</th><td>chromosome1</td><td>43137</td><td>19</td><td>0</td><td>43137</td></tr>\n",
       "\t<tr><th scope=row>443</th><td>chromosome1</td><td>49458</td><td>17</td><td>0</td><td>49458</td></tr>\n",
       "\t<tr><th scope=row>495</th><td>chromosome1</td><td>59145</td><td>16</td><td>0</td><td>59145</td></tr>\n",
       "\t<tr><th scope=row>502</th><td>chromosome1</td><td>61100</td><td>18</td><td>0</td><td>61100</td></tr>\n",
       "</tbody>\n",
       "</table>\n"
      ],
      "text/latex": [
       "A data.frame: 6 x 5\n",
       "\\begin{tabular}{r|lllll}\n",
       "  & chr & pos & countID1 & countID2 & global\\_pos\\\\\n",
       "  & <chr> & <int> & <int> & <int> & <int>\\\\\n",
       "\\hline\n",
       "\t298 & chromosome1 & 28844 & 16 & 0 & 28844\\\\\n",
       "\t371 & chromosome1 & 37913 & 16 & 0 & 37913\\\\\n",
       "\t413 & chromosome1 & 43137 & 19 & 0 & 43137\\\\\n",
       "\t443 & chromosome1 & 49458 & 17 & 0 & 49458\\\\\n",
       "\t495 & chromosome1 & 59145 & 16 & 0 & 59145\\\\\n",
       "\t502 & chromosome1 & 61100 & 18 & 0 & 61100\\\\\n",
       "\\end{tabular}\n"
      ],
      "text/markdown": [
       "\n",
       "A data.frame: 6 x 5\n",
       "\n",
       "| <!--/--> | chr &lt;chr&gt; | pos &lt;int&gt; | countID1 &lt;int&gt; | countID2 &lt;int&gt; | global_pos &lt;int&gt; |\n",
       "|---|---|---|---|---|---|\n",
       "| 298 | chromosome1 | 28844 | 16 | 0 | 28844 |\n",
       "| 371 | chromosome1 | 37913 | 16 | 0 | 37913 |\n",
       "| 413 | chromosome1 | 43137 | 19 | 0 | 43137 |\n",
       "| 443 | chromosome1 | 49458 | 17 | 0 | 49458 |\n",
       "| 495 | chromosome1 | 59145 | 16 | 0 | 59145 |\n",
       "| 502 | chromosome1 | 61100 | 18 | 0 | 61100 |\n",
       "\n"
      ],
      "text/plain": [
       "    chr         pos   countID1 countID2 global_pos\n",
       "298 chromosome1 28844 16       0        28844     \n",
       "371 chromosome1 37913 16       0        37913     \n",
       "413 chromosome1 43137 19       0        43137     \n",
       "443 chromosome1 49458 17       0        49458     \n",
       "495 chromosome1 59145 16       0        59145     \n",
       "502 chromosome1 61100 18       0        61100     "
      ]
     },
     "metadata": {},
     "output_type": "display_data"
    },
    {
     "data": {
      "text/html": [
       "1087"
      ],
      "text/latex": [
       "1087"
      ],
      "text/markdown": [
       "1087"
      ],
      "text/plain": [
       "[1] 1087"
      ]
     },
     "metadata": {},
     "output_type": "display_data"
    }
   ],
   "source": [
    "trd_AF1=subset(trd, (countID1==0 | countID2==0) & (countID1+countID2)>15)\n",
    "head(trd_AF1)\n",
    "nrow(trd_AF1)"
   ]
  },
  {
   "cell_type": "code",
   "execution_count": 43,
   "id": "05382ec4-26e3-4e83-941f-14ecaab35d57",
   "metadata": {
    "tags": []
   },
   "outputs": [
    {
     "name": "stderr",
     "output_type": "stream",
     "text": [
      "\u001b[1m\u001b[22m`summarise()` has grouped output by 'paste(V1, V2) %in% paste(trd_AF1$chr, trd_AF1$pos)', 'substr(V6, 1, 1)'. You can override using the\n",
      "`.groups` argument.\n"
     ]
    },
    {
     "data": {
      "text/html": [
       "<table class=\"dataframe\">\n",
       "<caption>A grouped_df: 16 x 4</caption>\n",
       "<thead>\n",
       "\t<tr><th scope=col>paste(V1, V2) %in% paste(trd_AF1$chr, trd_AF1$pos)</th><th scope=col>substr(V6, 1, 1)</th><th scope=col>substr(V7, 1, 1)</th><th scope=col>n</th></tr>\n",
       "\t<tr><th scope=col>&lt;lgl&gt;</th><th scope=col>&lt;chr&gt;</th><th scope=col>&lt;chr&gt;</th><th scope=col>&lt;int&gt;</th></tr>\n",
       "</thead>\n",
       "<tbody>\n",
       "\t<tr><td>FALSE</td><td>0</td><td>1</td><td>19684</td></tr>\n",
       "\t<tr><td>FALSE</td><td>0</td><td>2</td><td>  224</td></tr>\n",
       "\t<tr><td>FALSE</td><td>0</td><td>3</td><td>    2</td></tr>\n",
       "\t<tr><td>FALSE</td><td>1</td><td>0</td><td>33931</td></tr>\n",
       "\t<tr><td>FALSE</td><td>1</td><td>2</td><td>   57</td></tr>\n",
       "\t<tr><td>FALSE</td><td>2</td><td>0</td><td>  847</td></tr>\n",
       "\t<tr><td>FALSE</td><td>2</td><td>1</td><td>   99</td></tr>\n",
       "\t<tr><td>FALSE</td><td>3</td><td>0</td><td>   20</td></tr>\n",
       "\t<tr><td>FALSE</td><td>3</td><td>1</td><td>    3</td></tr>\n",
       "\t<tr><td> TRUE</td><td>0</td><td>1</td><td>  871</td></tr>\n",
       "\t<tr><td> TRUE</td><td>0</td><td>2</td><td>   14</td></tr>\n",
       "\t<tr><td> TRUE</td><td>0</td><td>3</td><td>    1</td></tr>\n",
       "\t<tr><td> TRUE</td><td>1</td><td>0</td><td>  197</td></tr>\n",
       "\t<tr><td> TRUE</td><td>1</td><td>2</td><td>    1</td></tr>\n",
       "\t<tr><td> TRUE</td><td>2</td><td>0</td><td>    2</td></tr>\n",
       "\t<tr><td> TRUE</td><td>2</td><td>1</td><td>    1</td></tr>\n",
       "</tbody>\n",
       "</table>\n"
      ],
      "text/latex": [
       "A grouped\\_df: 16 x 4\n",
       "\\begin{tabular}{llll}\n",
       " paste(V1, V2) \\%in\\% paste(trd\\_AF1\\$chr, trd\\_AF1\\$pos) & substr(V6, 1, 1) & substr(V7, 1, 1) & n\\\\\n",
       " <lgl> & <chr> & <chr> & <int>\\\\\n",
       "\\hline\n",
       "\t FALSE & 0 & 1 & 19684\\\\\n",
       "\t FALSE & 0 & 2 &   224\\\\\n",
       "\t FALSE & 0 & 3 &     2\\\\\n",
       "\t FALSE & 1 & 0 & 33931\\\\\n",
       "\t FALSE & 1 & 2 &    57\\\\\n",
       "\t FALSE & 2 & 0 &   847\\\\\n",
       "\t FALSE & 2 & 1 &    99\\\\\n",
       "\t FALSE & 3 & 0 &    20\\\\\n",
       "\t FALSE & 3 & 1 &     3\\\\\n",
       "\t  TRUE & 0 & 1 &   871\\\\\n",
       "\t  TRUE & 0 & 2 &    14\\\\\n",
       "\t  TRUE & 0 & 3 &     1\\\\\n",
       "\t  TRUE & 1 & 0 &   197\\\\\n",
       "\t  TRUE & 1 & 2 &     1\\\\\n",
       "\t  TRUE & 2 & 0 &     2\\\\\n",
       "\t  TRUE & 2 & 1 &     1\\\\\n",
       "\\end{tabular}\n"
      ],
      "text/markdown": [
       "\n",
       "A grouped_df: 16 x 4\n",
       "\n",
       "| paste(V1, V2) %in% paste(trd_AF1$chr, trd_AF1$pos) &lt;lgl&gt; | substr(V6, 1, 1) &lt;chr&gt; | substr(V7, 1, 1) &lt;chr&gt; | n &lt;int&gt; |\n",
       "|---|---|---|---|\n",
       "| FALSE | 0 | 1 | 19684 |\n",
       "| FALSE | 0 | 2 |   224 |\n",
       "| FALSE | 0 | 3 |     2 |\n",
       "| FALSE | 1 | 0 | 33931 |\n",
       "| FALSE | 1 | 2 |    57 |\n",
       "| FALSE | 2 | 0 |   847 |\n",
       "| FALSE | 2 | 1 |    99 |\n",
       "| FALSE | 3 | 0 |    20 |\n",
       "| FALSE | 3 | 1 |     3 |\n",
       "|  TRUE | 0 | 1 |   871 |\n",
       "|  TRUE | 0 | 2 |    14 |\n",
       "|  TRUE | 0 | 3 |     1 |\n",
       "|  TRUE | 1 | 0 |   197 |\n",
       "|  TRUE | 1 | 2 |     1 |\n",
       "|  TRUE | 2 | 0 |     2 |\n",
       "|  TRUE | 2 | 1 |     1 |\n",
       "\n"
      ],
      "text/plain": [
       "   paste(V1, V2) %in% paste(trd_AF1$chr, trd_AF1$pos) substr(V6, 1, 1)\n",
       "1  FALSE                                              0               \n",
       "2  FALSE                                              0               \n",
       "3  FALSE                                              0               \n",
       "4  FALSE                                              1               \n",
       "5  FALSE                                              1               \n",
       "6  FALSE                                              2               \n",
       "7  FALSE                                              2               \n",
       "8  FALSE                                              3               \n",
       "9  FALSE                                              3               \n",
       "10  TRUE                                              0               \n",
       "11  TRUE                                              0               \n",
       "12  TRUE                                              0               \n",
       "13  TRUE                                              1               \n",
       "14  TRUE                                              1               \n",
       "15  TRUE                                              2               \n",
       "16  TRUE                                              2               \n",
       "   substr(V7, 1, 1) n    \n",
       "1  1                19684\n",
       "2  2                  224\n",
       "3  3                    2\n",
       "4  0                33931\n",
       "5  2                   57\n",
       "6  0                  847\n",
       "7  1                   99\n",
       "8  0                   20\n",
       "9  1                    3\n",
       "10 1                  871\n",
       "11 2                   14\n",
       "12 3                    1\n",
       "13 0                  197\n",
       "14 2                    1\n",
       "15 0                    2\n",
       "16 1                    1"
      ]
     },
     "metadata": {},
     "output_type": "display_data"
    }
   ],
   "source": [
    "summarise(group_by(OHLoci_GT, paste(V1,V2)%in%paste(trd_AF1$chr,trd_AF1$pos), substr(V6,1,1), substr(V7,1,1)), n=n())"
   ]
  },
  {
   "cell_type": "code",
   "execution_count": 33,
   "id": "0ffdfb9d-3474-4964-ac05-19bf99f8b2e8",
   "metadata": {
    "tags": []
   },
   "outputs": [
    {
     "data": {
      "text/html": [
       "<table class=\"dataframe\">\n",
       "<caption>A data.frame: 6 x 7</caption>\n",
       "<thead>\n",
       "\t<tr><th></th><th scope=col>V1</th><th scope=col>V2</th><th scope=col>V3</th><th scope=col>V4</th><th scope=col>V5</th><th scope=col>V6</th><th scope=col>meanBQ</th></tr>\n",
       "\t<tr><th></th><th scope=col>&lt;chr&gt;</th><th scope=col>&lt;int&gt;</th><th scope=col>&lt;chr&gt;</th><th scope=col>&lt;int&gt;</th><th scope=col>&lt;chr&gt;</th><th scope=col>&lt;chr&gt;</th><th scope=col>&lt;dbl&gt;</th></tr>\n",
       "</thead>\n",
       "<tbody>\n",
       "\t<tr><th scope=row>1</th><td>chromosome1</td><td> 915</td><td>G</td><td>2</td><td>..  </td><td>ee  </td><td>68.00000</td></tr>\n",
       "\t<tr><th scope=row>2</th><td>chromosome1</td><td> 986</td><td>A</td><td>3</td><td>gG. </td><td>CeC </td><td>45.33333</td></tr>\n",
       "\t<tr><th scope=row>3</th><td>chromosome1</td><td> 990</td><td>G</td><td>2</td><td>C.  </td><td>eC  </td><td>51.00000</td></tr>\n",
       "\t<tr><th scope=row>4</th><td>chromosome1</td><td>6721</td><td>T</td><td>1</td><td>.   </td><td>O   </td><td>46.00000</td></tr>\n",
       "\t<tr><th scope=row>5</th><td>chromosome1</td><td>6722</td><td>A</td><td>1</td><td>.   </td><td>O   </td><td>46.00000</td></tr>\n",
       "\t<tr><th scope=row>6</th><td>chromosome1</td><td>7403</td><td>A</td><td>4</td><td>....</td><td>CCCC</td><td>34.00000</td></tr>\n",
       "</tbody>\n",
       "</table>\n"
      ],
      "text/latex": [
       "A data.frame: 6 x 7\n",
       "\\begin{tabular}{r|lllllll}\n",
       "  & V1 & V2 & V3 & V4 & V5 & V6 & meanBQ\\\\\n",
       "  & <chr> & <int> & <chr> & <int> & <chr> & <chr> & <dbl>\\\\\n",
       "\\hline\n",
       "\t1 & chromosome1 &  915 & G & 2 & ..   & ee   & 68.00000\\\\\n",
       "\t2 & chromosome1 &  986 & A & 3 & gG.  & CeC  & 45.33333\\\\\n",
       "\t3 & chromosome1 &  990 & G & 2 & C.   & eC   & 51.00000\\\\\n",
       "\t4 & chromosome1 & 6721 & T & 1 & .    & O    & 46.00000\\\\\n",
       "\t5 & chromosome1 & 6722 & A & 1 & .    & O    & 46.00000\\\\\n",
       "\t6 & chromosome1 & 7403 & A & 4 & .... & CCCC & 34.00000\\\\\n",
       "\\end{tabular}\n"
      ],
      "text/markdown": [
       "\n",
       "A data.frame: 6 x 7\n",
       "\n",
       "| <!--/--> | V1 &lt;chr&gt; | V2 &lt;int&gt; | V3 &lt;chr&gt; | V4 &lt;int&gt; | V5 &lt;chr&gt; | V6 &lt;chr&gt; | meanBQ &lt;dbl&gt; |\n",
       "|---|---|---|---|---|---|---|---|\n",
       "| 1 | chromosome1 |  915 | G | 2 | ..   | ee   | 68.00000 |\n",
       "| 2 | chromosome1 |  986 | A | 3 | gG.  | CeC  | 45.33333 |\n",
       "| 3 | chromosome1 |  990 | G | 2 | C.   | eC   | 51.00000 |\n",
       "| 4 | chromosome1 | 6721 | T | 1 | .    | O    | 46.00000 |\n",
       "| 5 | chromosome1 | 6722 | A | 1 | .    | O    | 46.00000 |\n",
       "| 6 | chromosome1 | 7403 | A | 4 | .... | CCCC | 34.00000 |\n",
       "\n"
      ],
      "text/plain": [
       "  V1          V2   V3 V4 V5   V6   meanBQ  \n",
       "1 chromosome1  915 G  2  ..   ee   68.00000\n",
       "2 chromosome1  986 A  3  gG.  CeC  45.33333\n",
       "3 chromosome1  990 G  2  C.   eC   51.00000\n",
       "4 chromosome1 6721 T  1  .    O    46.00000\n",
       "5 chromosome1 6722 A  1  .    O    46.00000\n",
       "6 chromosome1 7403 A  4  .... CCCC 34.00000"
      ]
     },
     "metadata": {},
     "output_type": "display_data"
    }
   ],
   "source": [
    "ascii_score_to_numeric = function(ascii)\n",
    "    {\n",
    "    return(mean(utf8ToInt(ascii)-33))\n",
    "}\n",
    "mpileup$meanBQ=unlist(lapply(mpileup$V6,ascii_score_to_numeric))\n",
    "head(mpileup)"
   ]
  },
  {
   "cell_type": "code",
   "execution_count": 34,
   "id": "35c4087d-8960-48d3-9070-2e3655877371",
   "metadata": {
    "tags": []
   },
   "outputs": [],
   "source": [
    "OHLoci_GT_AF1=subset(OHLoci_GT, paste(V1,V2) %in% paste(trd_AF1$chr, trd_AF1$pos))\n",
    "mpileup_AF1=subset(mpileup, paste(V1,V2) %in% paste(trd_AF1$chr, trd_AF1$pos))"
   ]
  },
  {
   "cell_type": "code",
   "execution_count": 35,
   "id": "05cb1fd2-6e53-42fd-b952-3712c74a586c",
   "metadata": {
    "tags": []
   },
   "outputs": [
    {
     "data": {
      "text/html": [
       "<table class=\"dataframe\">\n",
       "<caption>A data.frame: 6 x 7</caption>\n",
       "<thead>\n",
       "\t<tr><th></th><th scope=col>V1</th><th scope=col>V2</th><th scope=col>V3</th><th scope=col>V4</th><th scope=col>V5</th><th scope=col>V6</th><th scope=col>V7</th></tr>\n",
       "\t<tr><th></th><th scope=col>&lt;chr&gt;</th><th scope=col>&lt;int&gt;</th><th scope=col>&lt;chr&gt;</th><th scope=col>&lt;chr&gt;</th><th scope=col>&lt;chr&gt;</th><th scope=col>&lt;chr&gt;</th><th scope=col>&lt;chr&gt;</th></tr>\n",
       "</thead>\n",
       "<tbody>\n",
       "\t<tr><th scope=row>3058</th><td>chromosome1</td><td>28844</td><td>C</td><td>T</td><td>GT:AD:DP:GQ:PGT:PID:PL:PS</td><td>1/1:2,208:210:99:.:.:7610,573,0:.</td><td>0/0:283,0:283:99:.:.:0,120,1800:.                </td></tr>\n",
       "\t<tr><th scope=row>5480</th><td>chromosome1</td><td>37913</td><td>G</td><td>A</td><td>GT:AD:DP:GQ:PGT:PID:PL:PS</td><td>0/0:251,0:251:99:.:.:0,120,1800:.</td><td>1|1:2,383:385:99:1|1:37913_G_A:16856,1069,0:37913</td></tr>\n",
       "\t<tr><th scope=row>6914</th><td>chromosome1</td><td>43137</td><td>C</td><td>T</td><td>GT:AD:DP:GQ:PGT:PID:PL:PS</td><td>0/0:215,0:215:99:.:.:0,120,1800:.</td><td>1/1:1,375:376:99:.:.:15033,1087,0:.              </td></tr>\n",
       "\t<tr><th scope=row>8248</th><td>chromosome1</td><td>49458</td><td>C</td><td>T</td><td>GT:AD:DP:GQ:PGT:PID:PL:PS</td><td>0/0:216,0:216:99:.:.:0,120,1800:.</td><td>1/1:7,438:445:99:.:.:17570,1073,0:.              </td></tr>\n",
       "\t<tr><th scope=row>10313</th><td>chromosome1</td><td>59145</td><td>T</td><td>C</td><td>GT:AD:DP:GQ:PL           </td><td>0/0:182,0:182:99:0,120,1800      </td><td>1/1:3,268:271:99:10300,700,0                     </td></tr>\n",
       "\t<tr><th scope=row>10709</th><td>chromosome1</td><td>61100</td><td>T</td><td>G</td><td>GT:AD:DP:GQ:PL           </td><td>0/0:206,0:206:99:0,120,1800      </td><td>1/1:4,366:370:99:14841,977,0                     </td></tr>\n",
       "</tbody>\n",
       "</table>\n"
      ],
      "text/latex": [
       "A data.frame: 6 x 7\n",
       "\\begin{tabular}{r|lllllll}\n",
       "  & V1 & V2 & V3 & V4 & V5 & V6 & V7\\\\\n",
       "  & <chr> & <int> & <chr> & <chr> & <chr> & <chr> & <chr>\\\\\n",
       "\\hline\n",
       "\t3058 & chromosome1 & 28844 & C & T & GT:AD:DP:GQ:PGT:PID:PL:PS & 1/1:2,208:210:99:.:.:7610,573,0:. & 0/0:283,0:283:99:.:.:0,120,1800:.                \\\\\n",
       "\t5480 & chromosome1 & 37913 & G & A & GT:AD:DP:GQ:PGT:PID:PL:PS & 0/0:251,0:251:99:.:.:0,120,1800:. & 1\\textbar{}1:2,383:385:99:1\\textbar{}1:37913\\_G\\_A:16856,1069,0:37913\\\\\n",
       "\t6914 & chromosome1 & 43137 & C & T & GT:AD:DP:GQ:PGT:PID:PL:PS & 0/0:215,0:215:99:.:.:0,120,1800:. & 1/1:1,375:376:99:.:.:15033,1087,0:.              \\\\\n",
       "\t8248 & chromosome1 & 49458 & C & T & GT:AD:DP:GQ:PGT:PID:PL:PS & 0/0:216,0:216:99:.:.:0,120,1800:. & 1/1:7,438:445:99:.:.:17570,1073,0:.              \\\\\n",
       "\t10313 & chromosome1 & 59145 & T & C & GT:AD:DP:GQ:PL            & 0/0:182,0:182:99:0,120,1800       & 1/1:3,268:271:99:10300,700,0                     \\\\\n",
       "\t10709 & chromosome1 & 61100 & T & G & GT:AD:DP:GQ:PL            & 0/0:206,0:206:99:0,120,1800       & 1/1:4,366:370:99:14841,977,0                     \\\\\n",
       "\\end{tabular}\n"
      ],
      "text/markdown": [
       "\n",
       "A data.frame: 6 x 7\n",
       "\n",
       "| <!--/--> | V1 &lt;chr&gt; | V2 &lt;int&gt; | V3 &lt;chr&gt; | V4 &lt;chr&gt; | V5 &lt;chr&gt; | V6 &lt;chr&gt; | V7 &lt;chr&gt; |\n",
       "|---|---|---|---|---|---|---|---|\n",
       "| 3058 | chromosome1 | 28844 | C | T | GT:AD:DP:GQ:PGT:PID:PL:PS | 1/1:2,208:210:99:.:.:7610,573,0:. | 0/0:283,0:283:99:.:.:0,120,1800:.                 |\n",
       "| 5480 | chromosome1 | 37913 | G | A | GT:AD:DP:GQ:PGT:PID:PL:PS | 0/0:251,0:251:99:.:.:0,120,1800:. | 1|1:2,383:385:99:1|1:37913_G_A:16856,1069,0:37913 |\n",
       "| 6914 | chromosome1 | 43137 | C | T | GT:AD:DP:GQ:PGT:PID:PL:PS | 0/0:215,0:215:99:.:.:0,120,1800:. | 1/1:1,375:376:99:.:.:15033,1087,0:.               |\n",
       "| 8248 | chromosome1 | 49458 | C | T | GT:AD:DP:GQ:PGT:PID:PL:PS | 0/0:216,0:216:99:.:.:0,120,1800:. | 1/1:7,438:445:99:.:.:17570,1073,0:.               |\n",
       "| 10313 | chromosome1 | 59145 | T | C | GT:AD:DP:GQ:PL            | 0/0:182,0:182:99:0,120,1800       | 1/1:3,268:271:99:10300,700,0                      |\n",
       "| 10709 | chromosome1 | 61100 | T | G | GT:AD:DP:GQ:PL            | 0/0:206,0:206:99:0,120,1800       | 1/1:4,366:370:99:14841,977,0                      |\n",
       "\n"
      ],
      "text/plain": [
       "      V1          V2    V3 V4 V5                       \n",
       "3058  chromosome1 28844 C  T  GT:AD:DP:GQ:PGT:PID:PL:PS\n",
       "5480  chromosome1 37913 G  A  GT:AD:DP:GQ:PGT:PID:PL:PS\n",
       "6914  chromosome1 43137 C  T  GT:AD:DP:GQ:PGT:PID:PL:PS\n",
       "8248  chromosome1 49458 C  T  GT:AD:DP:GQ:PGT:PID:PL:PS\n",
       "10313 chromosome1 59145 T  C  GT:AD:DP:GQ:PL           \n",
       "10709 chromosome1 61100 T  G  GT:AD:DP:GQ:PL           \n",
       "      V6                               \n",
       "3058  1/1:2,208:210:99:.:.:7610,573,0:.\n",
       "5480  0/0:251,0:251:99:.:.:0,120,1800:.\n",
       "6914  0/0:215,0:215:99:.:.:0,120,1800:.\n",
       "8248  0/0:216,0:216:99:.:.:0,120,1800:.\n",
       "10313 0/0:182,0:182:99:0,120,1800      \n",
       "10709 0/0:206,0:206:99:0,120,1800      \n",
       "      V7                                               \n",
       "3058  0/0:283,0:283:99:.:.:0,120,1800:.                \n",
       "5480  1|1:2,383:385:99:1|1:37913_G_A:16856,1069,0:37913\n",
       "6914  1/1:1,375:376:99:.:.:15033,1087,0:.              \n",
       "8248  1/1:7,438:445:99:.:.:17570,1073,0:.              \n",
       "10313 1/1:3,268:271:99:10300,700,0                     \n",
       "10709 1/1:4,366:370:99:14841,977,0                     "
      ]
     },
     "metadata": {},
     "output_type": "display_data"
    },
    {
     "data": {
      "text/html": [
       "<table class=\"dataframe\">\n",
       "<caption>A data.frame: 6 x 7</caption>\n",
       "<thead>\n",
       "\t<tr><th></th><th scope=col>V1</th><th scope=col>V2</th><th scope=col>V3</th><th scope=col>V4</th><th scope=col>V5</th><th scope=col>V6</th><th scope=col>meanBQ</th></tr>\n",
       "\t<tr><th></th><th scope=col>&lt;chr&gt;</th><th scope=col>&lt;int&gt;</th><th scope=col>&lt;chr&gt;</th><th scope=col>&lt;int&gt;</th><th scope=col>&lt;chr&gt;</th><th scope=col>&lt;chr&gt;</th><th scope=col>&lt;dbl&gt;</th></tr>\n",
       "</thead>\n",
       "<tbody>\n",
       "\t<tr><th scope=row>298</th><td>chromosome1</td><td>28844</td><td>C</td><td>16</td><td>TttttTTTTTTttTtT    </td><td>eCCCCCOeOCeCCCCe   </td><td>44.00000</td></tr>\n",
       "\t<tr><th scope=row>371</th><td>chromosome1</td><td>37913</td><td>G</td><td>16</td><td>.,.,,.,,,.,.,,..    </td><td>]CeCCeCCCCCeCCCC   </td><td>42.00000</td></tr>\n",
       "\t<tr><th scope=row>413</th><td>chromosome1</td><td>43137</td><td>C</td><td>19</td><td>,..,..$...,.,,,.,,,.</td><td>CeeCCeeeCCCCCCeCCC]</td><td>46.10526</td></tr>\n",
       "\t<tr><th scope=row>443</th><td>chromosome1</td><td>49458</td><td>C</td><td>17</td><td>.,,,,..,,...,,...   </td><td>eCCCCCCCCCCeCCCCC  </td><td>38.00000</td></tr>\n",
       "\t<tr><th scope=row>495</th><td>chromosome1</td><td>59145</td><td>T</td><td>16</td><td>..,,,,.....,...,    </td><td>]CCCCCeCCCCCCCCC   </td><td>37.75000</td></tr>\n",
       "\t<tr><th scope=row>502</th><td>chromosome1</td><td>61100</td><td>T</td><td>18</td><td>.,,.,...,,.....,,.  </td><td>eCCeCeeeCCeCeCCCCC </td><td>47.22222</td></tr>\n",
       "</tbody>\n",
       "</table>\n"
      ],
      "text/latex": [
       "A data.frame: 6 x 7\n",
       "\\begin{tabular}{r|lllllll}\n",
       "  & V1 & V2 & V3 & V4 & V5 & V6 & meanBQ\\\\\n",
       "  & <chr> & <int> & <chr> & <int> & <chr> & <chr> & <dbl>\\\\\n",
       "\\hline\n",
       "\t298 & chromosome1 & 28844 & C & 16 & TttttTTTTTTttTtT     & eCCCCCOeOCeCCCCe    & 44.00000\\\\\n",
       "\t371 & chromosome1 & 37913 & G & 16 & .,.,,.,,,.,.,,..     & {]}CeCCeCCCCCeCCCC    & 42.00000\\\\\n",
       "\t413 & chromosome1 & 43137 & C & 19 & ,..,..\\$...,.,,,.,,,. & CeeCCeeeCCCCCCeCCC{]} & 46.10526\\\\\n",
       "\t443 & chromosome1 & 49458 & C & 17 & .,,,,..,,...,,...    & eCCCCCCCCCCeCCCCC   & 38.00000\\\\\n",
       "\t495 & chromosome1 & 59145 & T & 16 & ..,,,,.....,...,     & {]}CCCCCeCCCCCCCCC    & 37.75000\\\\\n",
       "\t502 & chromosome1 & 61100 & T & 18 & .,,.,...,,.....,,.   & eCCeCeeeCCeCeCCCCC  & 47.22222\\\\\n",
       "\\end{tabular}\n"
      ],
      "text/markdown": [
       "\n",
       "A data.frame: 6 x 7\n",
       "\n",
       "| <!--/--> | V1 &lt;chr&gt; | V2 &lt;int&gt; | V3 &lt;chr&gt; | V4 &lt;int&gt; | V5 &lt;chr&gt; | V6 &lt;chr&gt; | meanBQ &lt;dbl&gt; |\n",
       "|---|---|---|---|---|---|---|---|\n",
       "| 298 | chromosome1 | 28844 | C | 16 | TttttTTTTTTttTtT     | eCCCCCOeOCeCCCCe    | 44.00000 |\n",
       "| 371 | chromosome1 | 37913 | G | 16 | .,.,,.,,,.,.,,..     | ]CeCCeCCCCCeCCCC    | 42.00000 |\n",
       "| 413 | chromosome1 | 43137 | C | 19 | ,..,..$...,.,,,.,,,. | CeeCCeeeCCCCCCeCCC] | 46.10526 |\n",
       "| 443 | chromosome1 | 49458 | C | 17 | .,,,,..,,...,,...    | eCCCCCCCCCCeCCCCC   | 38.00000 |\n",
       "| 495 | chromosome1 | 59145 | T | 16 | ..,,,,.....,...,     | ]CCCCCeCCCCCCCCC    | 37.75000 |\n",
       "| 502 | chromosome1 | 61100 | T | 18 | .,,.,...,,.....,,.   | eCCeCeeeCCeCeCCCCC  | 47.22222 |\n",
       "\n"
      ],
      "text/plain": [
       "    V1          V2    V3 V4 V5                   V6                  meanBQ  \n",
       "298 chromosome1 28844 C  16 TttttTTTTTTttTtT     eCCCCCOeOCeCCCCe    44.00000\n",
       "371 chromosome1 37913 G  16 .,.,,.,,,.,.,,..     ]CeCCeCCCCCeCCCC    42.00000\n",
       "413 chromosome1 43137 C  19 ,..,..$...,.,,,.,,,. CeeCCeeeCCCCCCeCCC] 46.10526\n",
       "443 chromosome1 49458 C  17 .,,,,..,,...,,...    eCCCCCCCCCCeCCCCC   38.00000\n",
       "495 chromosome1 59145 T  16 ..,,,,.....,...,     ]CCCCCeCCCCCCCCC    37.75000\n",
       "502 chromosome1 61100 T  18 .,,.,...,,.....,,.   eCCeCeeeCCeCeCCCCC  47.22222"
      ]
     },
     "metadata": {},
     "output_type": "display_data"
    }
   ],
   "source": [
    "head(OHLoci_GT_AF1)\n",
    "head(mpileup_AF1)"
   ]
  },
  {
   "cell_type": "code",
   "execution_count": 23,
   "id": "61414d16-c5fa-4238-954f-33ea5224e1d7",
   "metadata": {
    "tags": []
   },
   "outputs": [
    {
     "data": {
      "image/png": "[encoded data removed]",
      "text/plain": [
       "plot without title"
      ]
     },
     "metadata": {
      "image/png": {
       "height": 600,
       "width": 600
      }
     },
     "output_type": "display_data"
    }
   ],
   "source": [
    "ggplot(mpileup, aes(paste(V1,V2) %in% paste(trd_AF1$chr, trd_AF1$pos),\n",
    "                   meanBQ))+\n",
    "geom_boxplot()"
   ]
  }
 ],
 "metadata": {
  "kernelspec": {
   "display_name": "R",
   "language": "R",
   "name": "ir"
  },
  "language_info": {
   "codemirror_mode": "r",
   "file_extension": ".r",
   "mimetype": "text/x-r-source",
   "name": "R",
   "pygments_lexer": "r",
   "version": "4.1.3"
  }
 },
 "nbformat": 4,
 "nbformat_minor": 5
}

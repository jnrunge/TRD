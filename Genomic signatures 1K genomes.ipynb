{
 "cells": [
  {
   "cell_type": "markdown",
   "id": "468fad99",
   "metadata": {},
   "source": [
    "1011 vcf: ~/data/TRD/1011Matrix.gvcf.gz"
   ]
  },
  {
   "cell_type": "code",
   "execution_count": null,
   "id": "dea9c284",
   "metadata": {},
   "outputs": [],
   "source": []
  }
 ],
 "metadata": {
  "kernelspec": {
   "display_name": "R",
   "language": "R",
   "name": "ir"
  },
  "language_info": {
   "codemirror_mode": "r",
   "file_extension": ".r",
   "mimetype": "text/x-r-source",
   "name": "R",
   "pygments_lexer": "r",
   "version": "4.1.1"
  }
 },
 "nbformat": 4,
 "nbformat_minor": 5
}

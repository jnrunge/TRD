{
 "cells": [
  {
   "cell_type": "code",
   "execution_count": 1,
   "id": "4b79640e",
   "metadata": {},
   "outputs": [
    {
     "name": "stderr",
     "output_type": "stream",
     "text": [
      "\n",
      "Attaching package: 'dplyr'\n",
      "\n",
      "\n",
      "The following objects are masked from 'package:data.table':\n",
      "\n",
      "    between, first, last\n",
      "\n",
      "\n",
      "The following objects are masked from 'package:stats':\n",
      "\n",
      "    filter, lag\n",
      "\n",
      "\n",
      "The following objects are masked from 'package:base':\n",
      "\n",
      "    intersect, setdiff, setequal, union\n",
      "\n",
      "\n"
     ]
    }
   ],
   "source": [
    "source(\"../BrusselSprouts/scripts/functions.R\")"
   ]
  },
  {
   "cell_type": "code",
   "execution_count": 26,
   "id": "c0cccbe2",
   "metadata": {},
   "outputs": [
    {
     "data": {
      "text/html": [
       "<table class=\"dataframe\">\n",
       "<caption>A data.frame: 190 × 5</caption>\n",
       "<thead>\n",
       "\t<tr><th scope=col>V1</th><th scope=col>Cross</th><th scope=col>Via</th><th scope=col>ID1</th><th scope=col>ID2</th></tr>\n",
       "\t<tr><th scope=col>&lt;int&gt;</th><th scope=col>&lt;chr&gt;</th><th scope=col>&lt;dbl&gt;</th><th scope=col>&lt;chr&gt;</th><th scope=col>&lt;chr&gt;</th></tr>\n",
       "</thead>\n",
       "<tbody>\n",
       "\t<tr><td> 1</td><td>A1</td><td>0.8355263</td><td>YJS7200</td><td>YJS7105</td></tr>\n",
       "\t<tr><td> 2</td><td>B1</td><td>0.9262295</td><td>YJS7200</td><td>YJS7109</td></tr>\n",
       "\t<tr><td> 3</td><td>B2</td><td>0.8298611</td><td>YJS7205</td><td>YJS7109</td></tr>\n",
       "\t<tr><td> 4</td><td>C1</td><td>0.7415966</td><td>YJS7200</td><td>YJS7111</td></tr>\n",
       "\t<tr><td> 5</td><td>C2</td><td>0.6903670</td><td>YJS7205</td><td>YJS7111</td></tr>\n",
       "\t<tr><td> 6</td><td>C3</td><td>0.8342105</td><td>YJS7209</td><td>YJS7111</td></tr>\n",
       "\t<tr><td> 7</td><td>D1</td><td>0.6578947</td><td>YJS7200</td><td>YJS7117</td></tr>\n",
       "\t<tr><td> 8</td><td>D2</td><td>0.6736111</td><td>YJS7205</td><td>YJS7117</td></tr>\n",
       "\t<tr><td> 9</td><td>D3</td><td>0.7562500</td><td>YJS7209</td><td>YJS7117</td></tr>\n",
       "\t<tr><td>10</td><td>D4</td><td>0.7240566</td><td>YJS7211</td><td>YJS7117</td></tr>\n",
       "\t<tr><td>11</td><td>E1</td><td>0.8419118</td><td>YJS7200</td><td>YJS7118</td></tr>\n",
       "\t<tr><td>12</td><td>E2</td><td>0.8879310</td><td>YJS7205</td><td>YJS7118</td></tr>\n",
       "\t<tr><td>13</td><td>E3</td><td>0.8713235</td><td>YJS7209</td><td>YJS7118</td></tr>\n",
       "\t<tr><td>14</td><td>E4</td><td>0.8943662</td><td>YJS7211</td><td>YJS7118</td></tr>\n",
       "\t<tr><td>15</td><td>E5</td><td>0.7460938</td><td>YJS7217</td><td>YJS7118</td></tr>\n",
       "\t<tr><td>16</td><td>F1</td><td>0.7685185</td><td>YJS7200</td><td>YJS7142</td></tr>\n",
       "\t<tr><td>17</td><td>F2</td><td>0.7808642</td><td>YJS7205</td><td>YJS7142</td></tr>\n",
       "\t<tr><td>18</td><td>F3</td><td>0.9635417</td><td>YJS7209</td><td>YJS7142</td></tr>\n",
       "\t<tr><td>19</td><td>F4</td><td>0.8541667</td><td>YJS7211</td><td>YJS7142</td></tr>\n",
       "\t<tr><td>20</td><td>F5</td><td>0.6718750</td><td>YJS7217</td><td>YJS7142</td></tr>\n",
       "\t<tr><td>21</td><td>F6</td><td>0.9080882</td><td>YJS7218</td><td>YJS7142</td></tr>\n",
       "\t<tr><td>22</td><td>G1</td><td>0.7006579</td><td>YJS7200</td><td>YJS7153</td></tr>\n",
       "\t<tr><td>23</td><td>G2</td><td>0.8298611</td><td>YJS7205</td><td>YJS7153</td></tr>\n",
       "\t<tr><td>24</td><td>G3</td><td>0.7994792</td><td>YJS7209</td><td>YJS7153</td></tr>\n",
       "\t<tr><td>25</td><td>G4</td><td>0.8177083</td><td>YJS7211</td><td>YJS7153</td></tr>\n",
       "\t<tr><td>26</td><td>G5</td><td>0.6687500</td><td>YJS7217</td><td>YJS7153</td></tr>\n",
       "\t<tr><td>27</td><td>G6</td><td>0.6961207</td><td>YJS7218</td><td>YJS7153</td></tr>\n",
       "\t<tr><td>28</td><td>G7</td><td>0.7897727</td><td>YJS7242</td><td>YJS7153</td></tr>\n",
       "\t<tr><td>29</td><td>H1</td><td>0.7548077</td><td>YJS7200</td><td>YJS7154</td></tr>\n",
       "\t<tr><td>30</td><td>H2</td><td>0.7390351</td><td>YJS7205</td><td>YJS7154</td></tr>\n",
       "\t<tr><td>⋮</td><td>⋮</td><td>⋮</td><td>⋮</td><td>⋮</td></tr>\n",
       "\t<tr><td>161</td><td>R16</td><td>0.6964286</td><td>YJS7278</td><td>YJS7183</td></tr>\n",
       "\t<tr><td>162</td><td>R17</td><td>0.8562500</td><td>YJS7280</td><td>YJS7183</td></tr>\n",
       "\t<tr><td>163</td><td>R18</td><td>0.8750000</td><td>YJS7282</td><td>YJS7183</td></tr>\n",
       "\t<tr><td>164</td><td>R2 </td><td>0.8923611</td><td>YJS7205</td><td>YJS7183</td></tr>\n",
       "\t<tr><td>165</td><td>R3 </td><td>0.8750000</td><td>YJS7209</td><td>YJS7183</td></tr>\n",
       "\t<tr><td>166</td><td>R4 </td><td>0.9208333</td><td>YJS7211</td><td>YJS7183</td></tr>\n",
       "\t<tr><td>167</td><td>R5 </td><td>0.8229167</td><td>YJS7217</td><td>YJS7183</td></tr>\n",
       "\t<tr><td>168</td><td>R6 </td><td>0.9333333</td><td>YJS7218</td><td>YJS7183</td></tr>\n",
       "\t<tr><td>169</td><td>R7 </td><td>0.9097222</td><td>YJS7242</td><td>YJS7183</td></tr>\n",
       "\t<tr><td>170</td><td>R8 </td><td>0.8923611</td><td>YJS7253</td><td>YJS7183</td></tr>\n",
       "\t<tr><td>171</td><td>R9 </td><td>0.9310345</td><td>YJS7254</td><td>YJS7183</td></tr>\n",
       "\t<tr><td>172</td><td>S1 </td><td>0.7890625</td><td>YJS7200</td><td>YJS7184</td></tr>\n",
       "\t<tr><td>173</td><td>S10</td><td>0.8525641</td><td>YJS7260</td><td>YJS7184</td></tr>\n",
       "\t<tr><td>174</td><td>S11</td><td>0.9201389</td><td>YJS7265</td><td>YJS7184</td></tr>\n",
       "\t<tr><td>175</td><td>S12</td><td>0.9270833</td><td>YJS7267</td><td>YJS7184</td></tr>\n",
       "\t<tr><td>176</td><td>S13</td><td>0.7562500</td><td>YJS7270</td><td>YJS7184</td></tr>\n",
       "\t<tr><td>177</td><td>S14</td><td>0.7526042</td><td>YJS7274</td><td>YJS7184</td></tr>\n",
       "\t<tr><td>178</td><td>S15</td><td>0.5383212</td><td>YJS7276</td><td>YJS7184</td></tr>\n",
       "\t<tr><td>179</td><td>S16</td><td>0.7409091</td><td>YJS7278</td><td>YJS7184</td></tr>\n",
       "\t<tr><td>180</td><td>S17</td><td>0.7222222</td><td>YJS7280</td><td>YJS7184</td></tr>\n",
       "\t<tr><td>181</td><td>S18</td><td>0.7734375</td><td>YJS7282</td><td>YJS7184</td></tr>\n",
       "\t<tr><td>182</td><td>S19</td><td>0.9322917</td><td>YJS7283</td><td>YJS7184</td></tr>\n",
       "\t<tr><td>183</td><td>S2 </td><td>0.6500000</td><td>YJS7205</td><td>YJS7184</td></tr>\n",
       "\t<tr><td>184</td><td>S3 </td><td>0.9191176</td><td>YJS7209</td><td>YJS7184</td></tr>\n",
       "\t<tr><td>185</td><td>S4 </td><td>0.7989130</td><td>YJS7211</td><td>YJS7184</td></tr>\n",
       "\t<tr><td>186</td><td>S5 </td><td>0.7482639</td><td>YJS7217</td><td>YJS7184</td></tr>\n",
       "\t<tr><td>187</td><td>S6 </td><td>0.9166667</td><td>YJS7218</td><td>YJS7184</td></tr>\n",
       "\t<tr><td>188</td><td>S7 </td><td>0.9259259</td><td>YJS7242</td><td>YJS7184</td></tr>\n",
       "\t<tr><td>189</td><td>S8 </td><td>0.7756410</td><td>YJS7253</td><td>YJS7184</td></tr>\n",
       "\t<tr><td>190</td><td>S9 </td><td>0.9041667</td><td>YJS7254</td><td>YJS7184</td></tr>\n",
       "</tbody>\n",
       "</table>\n"
      ],
      "text/latex": [
       "A data.frame: 190 × 5\n",
       "\\begin{tabular}{lllll}\n",
       " V1 & Cross & Via & ID1 & ID2\\\\\n",
       " <int> & <chr> & <dbl> & <chr> & <chr>\\\\\n",
       "\\hline\n",
       "\t  1 & A1 & 0.8355263 & YJS7200 & YJS7105\\\\\n",
       "\t  2 & B1 & 0.9262295 & YJS7200 & YJS7109\\\\\n",
       "\t  3 & B2 & 0.8298611 & YJS7205 & YJS7109\\\\\n",
       "\t  4 & C1 & 0.7415966 & YJS7200 & YJS7111\\\\\n",
       "\t  5 & C2 & 0.6903670 & YJS7205 & YJS7111\\\\\n",
       "\t  6 & C3 & 0.8342105 & YJS7209 & YJS7111\\\\\n",
       "\t  7 & D1 & 0.6578947 & YJS7200 & YJS7117\\\\\n",
       "\t  8 & D2 & 0.6736111 & YJS7205 & YJS7117\\\\\n",
       "\t  9 & D3 & 0.7562500 & YJS7209 & YJS7117\\\\\n",
       "\t 10 & D4 & 0.7240566 & YJS7211 & YJS7117\\\\\n",
       "\t 11 & E1 & 0.8419118 & YJS7200 & YJS7118\\\\\n",
       "\t 12 & E2 & 0.8879310 & YJS7205 & YJS7118\\\\\n",
       "\t 13 & E3 & 0.8713235 & YJS7209 & YJS7118\\\\\n",
       "\t 14 & E4 & 0.8943662 & YJS7211 & YJS7118\\\\\n",
       "\t 15 & E5 & 0.7460938 & YJS7217 & YJS7118\\\\\n",
       "\t 16 & F1 & 0.7685185 & YJS7200 & YJS7142\\\\\n",
       "\t 17 & F2 & 0.7808642 & YJS7205 & YJS7142\\\\\n",
       "\t 18 & F3 & 0.9635417 & YJS7209 & YJS7142\\\\\n",
       "\t 19 & F4 & 0.8541667 & YJS7211 & YJS7142\\\\\n",
       "\t 20 & F5 & 0.6718750 & YJS7217 & YJS7142\\\\\n",
       "\t 21 & F6 & 0.9080882 & YJS7218 & YJS7142\\\\\n",
       "\t 22 & G1 & 0.7006579 & YJS7200 & YJS7153\\\\\n",
       "\t 23 & G2 & 0.8298611 & YJS7205 & YJS7153\\\\\n",
       "\t 24 & G3 & 0.7994792 & YJS7209 & YJS7153\\\\\n",
       "\t 25 & G4 & 0.8177083 & YJS7211 & YJS7153\\\\\n",
       "\t 26 & G5 & 0.6687500 & YJS7217 & YJS7153\\\\\n",
       "\t 27 & G6 & 0.6961207 & YJS7218 & YJS7153\\\\\n",
       "\t 28 & G7 & 0.7897727 & YJS7242 & YJS7153\\\\\n",
       "\t 29 & H1 & 0.7548077 & YJS7200 & YJS7154\\\\\n",
       "\t 30 & H2 & 0.7390351 & YJS7205 & YJS7154\\\\\n",
       "\t ⋮ & ⋮ & ⋮ & ⋮ & ⋮\\\\\n",
       "\t 161 & R16 & 0.6964286 & YJS7278 & YJS7183\\\\\n",
       "\t 162 & R17 & 0.8562500 & YJS7280 & YJS7183\\\\\n",
       "\t 163 & R18 & 0.8750000 & YJS7282 & YJS7183\\\\\n",
       "\t 164 & R2  & 0.8923611 & YJS7205 & YJS7183\\\\\n",
       "\t 165 & R3  & 0.8750000 & YJS7209 & YJS7183\\\\\n",
       "\t 166 & R4  & 0.9208333 & YJS7211 & YJS7183\\\\\n",
       "\t 167 & R5  & 0.8229167 & YJS7217 & YJS7183\\\\\n",
       "\t 168 & R6  & 0.9333333 & YJS7218 & YJS7183\\\\\n",
       "\t 169 & R7  & 0.9097222 & YJS7242 & YJS7183\\\\\n",
       "\t 170 & R8  & 0.8923611 & YJS7253 & YJS7183\\\\\n",
       "\t 171 & R9  & 0.9310345 & YJS7254 & YJS7183\\\\\n",
       "\t 172 & S1  & 0.7890625 & YJS7200 & YJS7184\\\\\n",
       "\t 173 & S10 & 0.8525641 & YJS7260 & YJS7184\\\\\n",
       "\t 174 & S11 & 0.9201389 & YJS7265 & YJS7184\\\\\n",
       "\t 175 & S12 & 0.9270833 & YJS7267 & YJS7184\\\\\n",
       "\t 176 & S13 & 0.7562500 & YJS7270 & YJS7184\\\\\n",
       "\t 177 & S14 & 0.7526042 & YJS7274 & YJS7184\\\\\n",
       "\t 178 & S15 & 0.5383212 & YJS7276 & YJS7184\\\\\n",
       "\t 179 & S16 & 0.7409091 & YJS7278 & YJS7184\\\\\n",
       "\t 180 & S17 & 0.7222222 & YJS7280 & YJS7184\\\\\n",
       "\t 181 & S18 & 0.7734375 & YJS7282 & YJS7184\\\\\n",
       "\t 182 & S19 & 0.9322917 & YJS7283 & YJS7184\\\\\n",
       "\t 183 & S2  & 0.6500000 & YJS7205 & YJS7184\\\\\n",
       "\t 184 & S3  & 0.9191176 & YJS7209 & YJS7184\\\\\n",
       "\t 185 & S4  & 0.7989130 & YJS7211 & YJS7184\\\\\n",
       "\t 186 & S5  & 0.7482639 & YJS7217 & YJS7184\\\\\n",
       "\t 187 & S6  & 0.9166667 & YJS7218 & YJS7184\\\\\n",
       "\t 188 & S7  & 0.9259259 & YJS7242 & YJS7184\\\\\n",
       "\t 189 & S8  & 0.7756410 & YJS7253 & YJS7184\\\\\n",
       "\t 190 & S9  & 0.9041667 & YJS7254 & YJS7184\\\\\n",
       "\\end{tabular}\n"
      ],
      "text/markdown": [
       "\n",
       "A data.frame: 190 × 5\n",
       "\n",
       "| V1 &lt;int&gt; | Cross &lt;chr&gt; | Via &lt;dbl&gt; | ID1 &lt;chr&gt; | ID2 &lt;chr&gt; |\n",
       "|---|---|---|---|---|\n",
       "|  1 | A1 | 0.8355263 | YJS7200 | YJS7105 |\n",
       "|  2 | B1 | 0.9262295 | YJS7200 | YJS7109 |\n",
       "|  3 | B2 | 0.8298611 | YJS7205 | YJS7109 |\n",
       "|  4 | C1 | 0.7415966 | YJS7200 | YJS7111 |\n",
       "|  5 | C2 | 0.6903670 | YJS7205 | YJS7111 |\n",
       "|  6 | C3 | 0.8342105 | YJS7209 | YJS7111 |\n",
       "|  7 | D1 | 0.6578947 | YJS7200 | YJS7117 |\n",
       "|  8 | D2 | 0.6736111 | YJS7205 | YJS7117 |\n",
       "|  9 | D3 | 0.7562500 | YJS7209 | YJS7117 |\n",
       "| 10 | D4 | 0.7240566 | YJS7211 | YJS7117 |\n",
       "| 11 | E1 | 0.8419118 | YJS7200 | YJS7118 |\n",
       "| 12 | E2 | 0.8879310 | YJS7205 | YJS7118 |\n",
       "| 13 | E3 | 0.8713235 | YJS7209 | YJS7118 |\n",
       "| 14 | E4 | 0.8943662 | YJS7211 | YJS7118 |\n",
       "| 15 | E5 | 0.7460938 | YJS7217 | YJS7118 |\n",
       "| 16 | F1 | 0.7685185 | YJS7200 | YJS7142 |\n",
       "| 17 | F2 | 0.7808642 | YJS7205 | YJS7142 |\n",
       "| 18 | F3 | 0.9635417 | YJS7209 | YJS7142 |\n",
       "| 19 | F4 | 0.8541667 | YJS7211 | YJS7142 |\n",
       "| 20 | F5 | 0.6718750 | YJS7217 | YJS7142 |\n",
       "| 21 | F6 | 0.9080882 | YJS7218 | YJS7142 |\n",
       "| 22 | G1 | 0.7006579 | YJS7200 | YJS7153 |\n",
       "| 23 | G2 | 0.8298611 | YJS7205 | YJS7153 |\n",
       "| 24 | G3 | 0.7994792 | YJS7209 | YJS7153 |\n",
       "| 25 | G4 | 0.8177083 | YJS7211 | YJS7153 |\n",
       "| 26 | G5 | 0.6687500 | YJS7217 | YJS7153 |\n",
       "| 27 | G6 | 0.6961207 | YJS7218 | YJS7153 |\n",
       "| 28 | G7 | 0.7897727 | YJS7242 | YJS7153 |\n",
       "| 29 | H1 | 0.7548077 | YJS7200 | YJS7154 |\n",
       "| 30 | H2 | 0.7390351 | YJS7205 | YJS7154 |\n",
       "| ⋮ | ⋮ | ⋮ | ⋮ | ⋮ |\n",
       "| 161 | R16 | 0.6964286 | YJS7278 | YJS7183 |\n",
       "| 162 | R17 | 0.8562500 | YJS7280 | YJS7183 |\n",
       "| 163 | R18 | 0.8750000 | YJS7282 | YJS7183 |\n",
       "| 164 | R2  | 0.8923611 | YJS7205 | YJS7183 |\n",
       "| 165 | R3  | 0.8750000 | YJS7209 | YJS7183 |\n",
       "| 166 | R4  | 0.9208333 | YJS7211 | YJS7183 |\n",
       "| 167 | R5  | 0.8229167 | YJS7217 | YJS7183 |\n",
       "| 168 | R6  | 0.9333333 | YJS7218 | YJS7183 |\n",
       "| 169 | R7  | 0.9097222 | YJS7242 | YJS7183 |\n",
       "| 170 | R8  | 0.8923611 | YJS7253 | YJS7183 |\n",
       "| 171 | R9  | 0.9310345 | YJS7254 | YJS7183 |\n",
       "| 172 | S1  | 0.7890625 | YJS7200 | YJS7184 |\n",
       "| 173 | S10 | 0.8525641 | YJS7260 | YJS7184 |\n",
       "| 174 | S11 | 0.9201389 | YJS7265 | YJS7184 |\n",
       "| 175 | S12 | 0.9270833 | YJS7267 | YJS7184 |\n",
       "| 176 | S13 | 0.7562500 | YJS7270 | YJS7184 |\n",
       "| 177 | S14 | 0.7526042 | YJS7274 | YJS7184 |\n",
       "| 178 | S15 | 0.5383212 | YJS7276 | YJS7184 |\n",
       "| 179 | S16 | 0.7409091 | YJS7278 | YJS7184 |\n",
       "| 180 | S17 | 0.7222222 | YJS7280 | YJS7184 |\n",
       "| 181 | S18 | 0.7734375 | YJS7282 | YJS7184 |\n",
       "| 182 | S19 | 0.9322917 | YJS7283 | YJS7184 |\n",
       "| 183 | S2  | 0.6500000 | YJS7205 | YJS7184 |\n",
       "| 184 | S3  | 0.9191176 | YJS7209 | YJS7184 |\n",
       "| 185 | S4  | 0.7989130 | YJS7211 | YJS7184 |\n",
       "| 186 | S5  | 0.7482639 | YJS7217 | YJS7184 |\n",
       "| 187 | S6  | 0.9166667 | YJS7218 | YJS7184 |\n",
       "| 188 | S7  | 0.9259259 | YJS7242 | YJS7184 |\n",
       "| 189 | S8  | 0.7756410 | YJS7253 | YJS7184 |\n",
       "| 190 | S9  | 0.9041667 | YJS7254 | YJS7184 |\n",
       "\n"
      ],
      "text/plain": [
       "       V1     Cross  Via       ID1     ID2    \n",
       "1       1     A1     0.8355263 YJS7200 YJS7105\n",
       "2       2     B1     0.9262295 YJS7200 YJS7109\n",
       "3       3     B2     0.8298611 YJS7205 YJS7109\n",
       "4       4     C1     0.7415966 YJS7200 YJS7111\n",
       "5       5     C2     0.6903670 YJS7205 YJS7111\n",
       "6       6     C3     0.8342105 YJS7209 YJS7111\n",
       "7       7     D1     0.6578947 YJS7200 YJS7117\n",
       "8       8     D2     0.6736111 YJS7205 YJS7117\n",
       "9       9     D3     0.7562500 YJS7209 YJS7117\n",
       "10     10     D4     0.7240566 YJS7211 YJS7117\n",
       "11     11     E1     0.8419118 YJS7200 YJS7118\n",
       "12     12     E2     0.8879310 YJS7205 YJS7118\n",
       "13     13     E3     0.8713235 YJS7209 YJS7118\n",
       "14     14     E4     0.8943662 YJS7211 YJS7118\n",
       "15     15     E5     0.7460938 YJS7217 YJS7118\n",
       "16     16     F1     0.7685185 YJS7200 YJS7142\n",
       "17     17     F2     0.7808642 YJS7205 YJS7142\n",
       "18     18     F3     0.9635417 YJS7209 YJS7142\n",
       "19     19     F4     0.8541667 YJS7211 YJS7142\n",
       "20     20     F5     0.6718750 YJS7217 YJS7142\n",
       "21     21     F6     0.9080882 YJS7218 YJS7142\n",
       "22     22     G1     0.7006579 YJS7200 YJS7153\n",
       "23     23     G2     0.8298611 YJS7205 YJS7153\n",
       "24     24     G3     0.7994792 YJS7209 YJS7153\n",
       "25     25     G4     0.8177083 YJS7211 YJS7153\n",
       "26     26     G5     0.6687500 YJS7217 YJS7153\n",
       "27     27     G6     0.6961207 YJS7218 YJS7153\n",
       "28     28     G7     0.7897727 YJS7242 YJS7153\n",
       "29     29     H1     0.7548077 YJS7200 YJS7154\n",
       "30     30     H2     0.7390351 YJS7205 YJS7154\n",
       "<U+22EE> <U+22EE> <U+22EE> <U+22EE>  <U+22EE> <U+22EE>\n",
       "161    161    R16    0.6964286 YJS7278 YJS7183\n",
       "162    162    R17    0.8562500 YJS7280 YJS7183\n",
       "163    163    R18    0.8750000 YJS7282 YJS7183\n",
       "164    164    R2     0.8923611 YJS7205 YJS7183\n",
       "165    165    R3     0.8750000 YJS7209 YJS7183\n",
       "166    166    R4     0.9208333 YJS7211 YJS7183\n",
       "167    167    R5     0.8229167 YJS7217 YJS7183\n",
       "168    168    R6     0.9333333 YJS7218 YJS7183\n",
       "169    169    R7     0.9097222 YJS7242 YJS7183\n",
       "170    170    R8     0.8923611 YJS7253 YJS7183\n",
       "171    171    R9     0.9310345 YJS7254 YJS7183\n",
       "172    172    S1     0.7890625 YJS7200 YJS7184\n",
       "173    173    S10    0.8525641 YJS7260 YJS7184\n",
       "174    174    S11    0.9201389 YJS7265 YJS7184\n",
       "175    175    S12    0.9270833 YJS7267 YJS7184\n",
       "176    176    S13    0.7562500 YJS7270 YJS7184\n",
       "177    177    S14    0.7526042 YJS7274 YJS7184\n",
       "178    178    S15    0.5383212 YJS7276 YJS7184\n",
       "179    179    S16    0.7409091 YJS7278 YJS7184\n",
       "180    180    S17    0.7222222 YJS7280 YJS7184\n",
       "181    181    S18    0.7734375 YJS7282 YJS7184\n",
       "182    182    S19    0.9322917 YJS7283 YJS7184\n",
       "183    183    S2     0.6500000 YJS7205 YJS7184\n",
       "184    184    S3     0.9191176 YJS7209 YJS7184\n",
       "185    185    S4     0.7989130 YJS7211 YJS7184\n",
       "186    186    S5     0.7482639 YJS7217 YJS7184\n",
       "187    187    S6     0.9166667 YJS7218 YJS7184\n",
       "188    188    S7     0.9259259 YJS7242 YJS7184\n",
       "189    189    S8     0.7756410 YJS7253 YJS7184\n",
       "190    190    S9     0.9041667 YJS7254 YJS7184"
      ]
     },
     "metadata": {},
     "output_type": "display_data"
    }
   ],
   "source": [
    "data=fread(\"~/data/trd/spore_viability_forJan.csv\", data.table=FALSE)\n",
    "data=tidyr::separate(data,CrossFull,c(\"ID1\",\"ID2\"),sep=\" x \")\n",
    "data"
   ]
  },
  {
   "cell_type": "code",
   "execution_count": 4,
   "id": "48842300",
   "metadata": {},
   "outputs": [
    {
     "data": {
      "image/png": "[encoded data removed]",
      "text/plain": [
       "Plot with title \"Histogram of data$Via\""
      ]
     },
     "metadata": {
      "image/png": {
       "height": 600,
       "width": 600
      }
     },
     "output_type": "display_data"
    }
   ],
   "source": [
    "hist(data$Via)"
   ]
  },
  {
   "cell_type": "code",
   "execution_count": 17,
   "id": "66a4e847",
   "metadata": {},
   "outputs": [],
   "source": [
    "Overview=readxl::read_xlsx(\"/home/jnrunge/1002_strains_total_dataset.xlsx\", sheet = \"final_1002_site\")\n",
    "Matrix1=readxl::read_xls(\"/home/jnrunge/Yeast_Collection_YJS_headers.xls\", sheet = \"MATalpha ClonNAT Matrix reloade\")\n",
    "Matrix2=readxl::read_xls(\"/home/jnrunge/Yeast_Collection_YJS_headers.xls\", sheet = \"MATa KanMX Matrix reloaded\")"
   ]
  },
  {
   "cell_type": "code",
   "execution_count": 48,
   "id": "7f785d67",
   "metadata": {},
   "outputs": [
    {
     "data": {
      "text/plain": [
       "   Mode   FALSE \n",
       "logical     190 "
      ]
     },
     "metadata": {},
     "output_type": "display_data"
    }
   ],
   "source": [
    "summary(data$ID2 %in% Overview$`Strain Name`)"
   ]
  },
  {
   "cell_type": "code",
   "execution_count": 28,
   "id": "7c8d8232",
   "metadata": {},
   "outputs": [
    {
     "data": {
      "text/plain": [
       "   Mode    TRUE \n",
       "logical     190 "
      ]
     },
     "metadata": {},
     "output_type": "display_data"
    },
    {
     "data": {
      "text/plain": [
       "   Mode    TRUE \n",
       "logical     190 "
      ]
     },
     "metadata": {},
     "output_type": "display_data"
    }
   ],
   "source": [
    "summary(data$ID1 %in% c(Matrix1$Lab_name,Matrix2$Lab_name))\n",
    "summary(data$ID2 %in% c(Matrix1$Lab_name,Matrix2$Lab_name))"
   ]
  },
  {
   "cell_type": "code",
   "execution_count": 29,
   "id": "263c7037",
   "metadata": {},
   "outputs": [
    {
     "data": {
      "text/html": [
       "'FY5'"
      ],
      "text/latex": [
       "'FY5'"
      ],
      "text/markdown": [
       "'FY5'"
      ],
      "text/plain": [
       "[1] \"FY5\""
      ]
     },
     "metadata": {},
     "output_type": "display_data"
    },
    {
     "data": {
      "text/html": [
       "<style>\n",
       ".list-inline {list-style: none; margin:0; padding: 0}\n",
       ".list-inline>li {display: inline-block}\n",
       ".list-inline>li:not(:last-child)::after {content: \"\\00b7\"; padding: 0 .5ex}\n",
       "</style>\n",
       "<ol class=list-inline><li>'HN16_b'</li><li>'FY4_rho+'</li></ol>\n"
      ],
      "text/latex": [
       "\\begin{enumerate*}\n",
       "\\item 'HN16\\_b'\n",
       "\\item 'FY4\\_rho+'\n",
       "\\end{enumerate*}\n"
      ],
      "text/markdown": [
       "1. 'HN16_b'\n",
       "2. 'FY4_rho+'\n",
       "\n",
       "\n"
      ],
      "text/plain": [
       "[1] \"HN16_b\"   \"FY4_rho+\""
      ]
     },
     "metadata": {},
     "output_type": "display_data"
    },
    {
     "data": {
      "text/plain": [
       "   Mode   FALSE    TRUE \n",
       "logical      12      58 "
      ]
     },
     "metadata": {},
     "output_type": "display_data"
    },
    {
     "data": {
      "text/html": [
       "<style>\n",
       ".list-inline {list-style: none; margin:0; padding: 0}\n",
       ".list-inline>li {display: inline-block}\n",
       ".list-inline>li:not(:last-child)::after {content: \"\\00b7\"; padding: 0 .5ex}\n",
       "</style>\n",
       "<ol class=list-inline><li>'BAK'</li><li>'ABL'</li><li>'ABP'</li><li>'BHN'</li><li>'ACP'</li><li>'AAM'</li><li>'AAR'</li><li>'BEF'</li><li>'BFQ'</li><li>'BFR'</li><li>'AKQ'</li><li>'AKS'</li><li>'AKV'</li><li>'CCC'</li><li>'CCD'</li><li>'CCF'</li><li>'CCG'</li><li>'BID'</li><li>'BKL'</li><li>'BQC'</li><li>'ABS'</li><li>'AKI'</li><li>'AMD'</li><li>'BET'</li><li>'BEV'</li><li>'BFC'</li><li>'BFD'</li><li>'BFP'</li><li>'BAN'</li><li>'BAP'</li><li>'AKH'</li><li>'AKE'</li><li>'CRB'</li><li>'AMM'</li><li>'ACT'</li><li>'ACI'</li><li>'ACK'</li><li>'AAS'</li><li>'ACN'</li><li>'AAV'</li><li>'ABA'</li><li>'ABC'</li><li>'ABE'</li><li>'ABG'</li><li>'ATE'</li><li>'ABK'</li><li>'BMK'</li><li>'AND'</li><li>'ANG'</li><li>'ANH'</li><li>'ANI'</li><li>'AVI'</li><li>'CMP'</li><li>'CMQ'</li><li>'BTI'</li><li>'CPG'</li><li>'BBQ'</li><li>'BBS'</li></ol>\n"
      ],
      "text/latex": [
       "\\begin{enumerate*}\n",
       "\\item 'BAK'\n",
       "\\item 'ABL'\n",
       "\\item 'ABP'\n",
       "\\item 'BHN'\n",
       "\\item 'ACP'\n",
       "\\item 'AAM'\n",
       "\\item 'AAR'\n",
       "\\item 'BEF'\n",
       "\\item 'BFQ'\n",
       "\\item 'BFR'\n",
       "\\item 'AKQ'\n",
       "\\item 'AKS'\n",
       "\\item 'AKV'\n",
       "\\item 'CCC'\n",
       "\\item 'CCD'\n",
       "\\item 'CCF'\n",
       "\\item 'CCG'\n",
       "\\item 'BID'\n",
       "\\item 'BKL'\n",
       "\\item 'BQC'\n",
       "\\item 'ABS'\n",
       "\\item 'AKI'\n",
       "\\item 'AMD'\n",
       "\\item 'BET'\n",
       "\\item 'BEV'\n",
       "\\item 'BFC'\n",
       "\\item 'BFD'\n",
       "\\item 'BFP'\n",
       "\\item 'BAN'\n",
       "\\item 'BAP'\n",
       "\\item 'AKH'\n",
       "\\item 'AKE'\n",
       "\\item 'CRB'\n",
       "\\item 'AMM'\n",
       "\\item 'ACT'\n",
       "\\item 'ACI'\n",
       "\\item 'ACK'\n",
       "\\item 'AAS'\n",
       "\\item 'ACN'\n",
       "\\item 'AAV'\n",
       "\\item 'ABA'\n",
       "\\item 'ABC'\n",
       "\\item 'ABE'\n",
       "\\item 'ABG'\n",
       "\\item 'ATE'\n",
       "\\item 'ABK'\n",
       "\\item 'BMK'\n",
       "\\item 'AND'\n",
       "\\item 'ANG'\n",
       "\\item 'ANH'\n",
       "\\item 'ANI'\n",
       "\\item 'AVI'\n",
       "\\item 'CMP'\n",
       "\\item 'CMQ'\n",
       "\\item 'BTI'\n",
       "\\item 'CPG'\n",
       "\\item 'BBQ'\n",
       "\\item 'BBS'\n",
       "\\end{enumerate*}\n"
      ],
      "text/markdown": [
       "1. 'BAK'\n",
       "2. 'ABL'\n",
       "3. 'ABP'\n",
       "4. 'BHN'\n",
       "5. 'ACP'\n",
       "6. 'AAM'\n",
       "7. 'AAR'\n",
       "8. 'BEF'\n",
       "9. 'BFQ'\n",
       "10. 'BFR'\n",
       "11. 'AKQ'\n",
       "12. 'AKS'\n",
       "13. 'AKV'\n",
       "14. 'CCC'\n",
       "15. 'CCD'\n",
       "16. 'CCF'\n",
       "17. 'CCG'\n",
       "18. 'BID'\n",
       "19. 'BKL'\n",
       "20. 'BQC'\n",
       "21. 'ABS'\n",
       "22. 'AKI'\n",
       "23. 'AMD'\n",
       "24. 'BET'\n",
       "25. 'BEV'\n",
       "26. 'BFC'\n",
       "27. 'BFD'\n",
       "28. 'BFP'\n",
       "29. 'BAN'\n",
       "30. 'BAP'\n",
       "31. 'AKH'\n",
       "32. 'AKE'\n",
       "33. 'CRB'\n",
       "34. 'AMM'\n",
       "35. 'ACT'\n",
       "36. 'ACI'\n",
       "37. 'ACK'\n",
       "38. 'AAS'\n",
       "39. 'ACN'\n",
       "40. 'AAV'\n",
       "41. 'ABA'\n",
       "42. 'ABC'\n",
       "43. 'ABE'\n",
       "44. 'ABG'\n",
       "45. 'ATE'\n",
       "46. 'ABK'\n",
       "47. 'BMK'\n",
       "48. 'AND'\n",
       "49. 'ANG'\n",
       "50. 'ANH'\n",
       "51. 'ANI'\n",
       "52. 'AVI'\n",
       "53. 'CMP'\n",
       "54. 'CMQ'\n",
       "55. 'BTI'\n",
       "56. 'CPG'\n",
       "57. 'BBQ'\n",
       "58. 'BBS'\n",
       "\n",
       "\n"
      ],
      "text/plain": [
       " [1] \"BAK\" \"ABL\" \"ABP\" \"BHN\" \"ACP\" \"AAM\" \"AAR\" \"BEF\" \"BFQ\" \"BFR\" \"AKQ\" \"AKS\"\n",
       "[13] \"AKV\" \"CCC\" \"CCD\" \"CCF\" \"CCG\" \"BID\" \"BKL\" \"BQC\" \"ABS\" \"AKI\" \"AMD\" \"BET\"\n",
       "[25] \"BEV\" \"BFC\" \"BFD\" \"BFP\" \"BAN\" \"BAP\" \"AKH\" \"AKE\" \"CRB\" \"AMM\" \"ACT\" \"ACI\"\n",
       "[37] \"ACK\" \"AAS\" \"ACN\" \"AAV\" \"ABA\" \"ABC\" \"ABE\" \"ABG\" \"ATE\" \"ABK\" \"BMK\" \"AND\"\n",
       "[49] \"ANG\" \"ANH\" \"ANI\" \"AVI\" \"CMP\" \"CMQ\" \"BTI\" \"CPG\" \"BBQ\" \"BBS\""
      ]
     },
     "metadata": {},
     "output_type": "display_data"
    }
   ],
   "source": [
    "Matrix1$Syst_name[!endsWith(Matrix1$Syst_name, \"_b\")]\n",
    "Matrix2$Syst_name[!endsWith(Matrix2$Syst_name, \"_a\")]\n",
    "\n",
    "samples1=str_replace(Matrix1$Syst_name, \"_b$\", \"\")\n",
    "samples2=str_replace(str_replace(str_replace(Matrix2$Syst_name, \"_a$\", \"\"), \"_b$\", \"\"),fixed(\"_rho+\"),\"\")\n",
    "\n",
    "samples=samples2[samples2%in%samples1[samples1%in%samples2]]\n",
    "\n",
    "summary(samples%in%Overview$`Strain Name`)\n",
    "Overview$`Standard ID`[Overview$`Strain Name` %in% samples]"
   ]
  },
  {
   "cell_type": "code",
   "execution_count": 63,
   "id": "43ba6ae0",
   "metadata": {},
   "outputs": [],
   "source": [
    "getStdName=function(x){\n",
    "    tmp=c(Matrix1$Syst_name,Matrix2$Syst_name)[c(Matrix1$Lab_name,Matrix2$Lab_name)==x][1]\n",
    "    tmp=str_replace(str_replace(str_replace(tmp, \"_a$\", \"\"), \"_b$\", \"\"),fixed(\"_rho+\"),\"\")\n",
    "    tmp=str_replace(tmp,\"UCD_\",\"UCD \")\n",
    "    if(tmp==\"WE372_1\"){\n",
    "        tmp=\"WE372\"\n",
    "    }\n",
    "    tmp=Overview$`Standard ID`[Overview$`Strain Name` == tmp]\n",
    "    \n",
    "\n",
    "    if(length(tmp)>0){\n",
    "        return(tmp)\n",
    "    }\n",
    "    #print(x)\n",
    "    return(NA)\n",
    "}"
   ]
  },
  {
   "cell_type": "code",
   "execution_count": 64,
   "id": "1c642390",
   "metadata": {
    "scrolled": true
   },
   "outputs": [
    {
     "name": "stdout",
     "output_type": "stream",
     "text": [
      "[1] \"YJS7217\"\n",
      "[1] \"YJS7217\"\n",
      "[1] \"YJS7217\"\n",
      "[1] \"YJS7217\"\n",
      "[1] \"YJS7217\"\n",
      "[1] \"YJS7217\"\n",
      "[1] \"YJS7217\"\n",
      "[1] \"YJS7217\"\n",
      "[1] \"YJS7217\"\n",
      "[1] \"YJS7217\"\n",
      "[1] \"YJS7217\"\n",
      "[1] \"YJS7217\"\n",
      "[1] \"YJS7217\"\n",
      "[1] \"YJS7217\"\n",
      "[1] \"YJS7283\"\n",
      "[1] \"YJS7217\"\n",
      "[1] \"YJS7117\"\n",
      "[1] \"YJS7117\"\n",
      "[1] \"YJS7117\"\n",
      "[1] \"YJS7117\"\n",
      "[1] \"YJS7183\"\n",
      "[1] \"YJS7183\"\n",
      "[1] \"YJS7183\"\n",
      "[1] \"YJS7183\"\n",
      "[1] \"YJS7183\"\n",
      "[1] \"YJS7183\"\n",
      "[1] \"YJS7183\"\n",
      "[1] \"YJS7183\"\n",
      "[1] \"YJS7183\"\n",
      "[1] \"YJS7183\"\n",
      "[1] \"YJS7183\"\n",
      "[1] \"YJS7183\"\n",
      "[1] \"YJS7183\"\n",
      "[1] \"YJS7183\"\n",
      "[1] \"YJS7183\"\n",
      "[1] \"YJS7183\"\n",
      "[1] \"YJS7183\"\n",
      "[1] \"YJS7183\"\n",
      "[1] \"YJS7184\"\n",
      "[1] \"YJS7184\"\n",
      "[1] \"YJS7184\"\n",
      "[1] \"YJS7184\"\n",
      "[1] \"YJS7184\"\n",
      "[1] \"YJS7184\"\n",
      "[1] \"YJS7184\"\n",
      "[1] \"YJS7184\"\n",
      "[1] \"YJS7184\"\n",
      "[1] \"YJS7184\"\n",
      "[1] \"YJS7184\"\n",
      "[1] \"YJS7184\"\n",
      "[1] \"YJS7184\"\n",
      "[1] \"YJS7184\"\n",
      "[1] \"YJS7184\"\n",
      "[1] \"YJS7184\"\n",
      "[1] \"YJS7184\"\n",
      "[1] \"YJS7184\"\n",
      "[1] \"YJS7184\"\n"
     ]
    }
   ],
   "source": [
    "data$ID1_Std=unlist(lapply(data$ID1, getStdName))\n",
    "data$ID2_Std=unlist(lapply(data$ID2, getStdName))"
   ]
  },
  {
   "cell_type": "code",
   "execution_count": 78,
   "id": "fdac6b72",
   "metadata": {},
   "outputs": [
    {
     "data": {
      "text/html": [
       "<style>\n",
       ".list-inline {list-style: none; margin:0; padding: 0}\n",
       ".list-inline>li {display: inline-block}\n",
       ".list-inline>li:not(:last-child)::after {content: \"\\00b7\"; padding: 0 .5ex}\n",
       "</style>\n",
       "<ol class=list-inline><li>'YJS7217'</li><li>'YJS7283'</li><li>'YJS7117'</li><li>'YJS7183'</li><li>'YJS7184'</li></ol>\n"
      ],
      "text/latex": [
       "\\begin{enumerate*}\n",
       "\\item 'YJS7217'\n",
       "\\item 'YJS7283'\n",
       "\\item 'YJS7117'\n",
       "\\item 'YJS7183'\n",
       "\\item 'YJS7184'\n",
       "\\end{enumerate*}\n"
      ],
      "text/markdown": [
       "1. 'YJS7217'\n",
       "2. 'YJS7283'\n",
       "3. 'YJS7117'\n",
       "4. 'YJS7183'\n",
       "5. 'YJS7184'\n",
       "\n",
       "\n"
      ],
      "text/plain": [
       "[1] \"YJS7217\" \"YJS7283\" \"YJS7117\" \"YJS7183\" \"YJS7184\""
      ]
     },
     "metadata": {},
     "output_type": "display_data"
    }
   ],
   "source": [
    "# cant find short name\n",
    "unique(c(data$ID1,data$ID2)[is.na(c(data$ID1_Std,data$ID2_Std))])"
   ]
  },
  {
   "cell_type": "code",
   "execution_count": 69,
   "id": "7726603d",
   "metadata": {},
   "outputs": [
    {
     "data": {
      "text/html": [
       "'S1278b_b'"
      ],
      "text/latex": [
       "'S1278b\\_b'"
      ],
      "text/markdown": [
       "'S1278b_b'"
      ],
      "text/plain": [
       "[1] \"S1278b_b\""
      ]
     },
     "metadata": {},
     "output_type": "display_data"
    },
    {
     "data": {
      "text/html": [
       "'S1278b'"
      ],
      "text/latex": [
       "'S1278b'"
      ],
      "text/markdown": [
       "'S1278b'"
      ],
      "text/plain": [
       "[1] \"S1278b\""
      ]
     },
     "metadata": {},
     "output_type": "display_data"
    }
   ],
   "source": [
    "x=\"YJS7184\"\n",
    "tmp=c(Matrix1$Syst_name,Matrix2$Syst_name)[c(Matrix1$Lab_name,Matrix2$Lab_name)==x][1]\n",
    "tmp\n",
    "tmp=str_replace(str_replace(str_replace(tmp, \"_a$\", \"\"), \"_b$\", \"\"),fixed(\"_rho+\"),\"\")\n",
    "tmp\n",
    "tmp=Overview$`Standard ID`[Overview$`Strain Name` == tmp]"
   ]
  },
  {
   "cell_type": "code",
   "execution_count": 76,
   "id": "d66755a6",
   "metadata": {},
   "outputs": [
    {
     "data": {
      "text/html": [],
      "text/latex": [],
      "text/markdown": [],
      "text/plain": [
       "character(0)"
      ]
     },
     "metadata": {},
     "output_type": "display_data"
    }
   ],
   "source": [
    "Overview$`Strain Name`[grepl(\"FY\",Overview$`Strain Name`, fixed = TRUE)]"
   ]
  },
  {
   "cell_type": "code",
   "execution_count": 77,
   "id": "6cea3429",
   "metadata": {},
   "outputs": [
    {
     "data": {
      "text/html": [
       "<style>\n",
       ".list-inline {list-style: none; margin:0; padding: 0}\n",
       ".list-inline>li {display: inline-block}\n",
       ".list-inline>li:not(:last-child)::after {content: \"\\00b7\"; padding: 0 .5ex}\n",
       "</style>\n",
       "<ol class=list-inline><li>'ABC'</li><li>'ABE'</li><li>'ABP'</li><li>'ACK'</li><li>'ACP'</li><li>'ACV'</li><li>'AKE'</li><li>'ANG'</li><li>'ATE'</li><li>'BAP'</li><li>'BFP'</li><li>'BID'</li><li>'BKL'</li><li>'CCD'</li><li>'CGD'</li><li>'CMP'</li><li>'CPG'</li></ol>\n"
      ],
      "text/latex": [
       "\\begin{enumerate*}\n",
       "\\item 'ABC'\n",
       "\\item 'ABE'\n",
       "\\item 'ABP'\n",
       "\\item 'ACK'\n",
       "\\item 'ACP'\n",
       "\\item 'ACV'\n",
       "\\item 'AKE'\n",
       "\\item 'ANG'\n",
       "\\item 'ATE'\n",
       "\\item 'BAP'\n",
       "\\item 'BFP'\n",
       "\\item 'BID'\n",
       "\\item 'BKL'\n",
       "\\item 'CCD'\n",
       "\\item 'CGD'\n",
       "\\item 'CMP'\n",
       "\\item 'CPG'\n",
       "\\end{enumerate*}\n"
      ],
      "text/markdown": [
       "1. 'ABC'\n",
       "2. 'ABE'\n",
       "3. 'ABP'\n",
       "4. 'ACK'\n",
       "5. 'ACP'\n",
       "6. 'ACV'\n",
       "7. 'AKE'\n",
       "8. 'ANG'\n",
       "9. 'ATE'\n",
       "10. 'BAP'\n",
       "11. 'BFP'\n",
       "12. 'BID'\n",
       "13. 'BKL'\n",
       "14. 'CCD'\n",
       "15. 'CGD'\n",
       "16. 'CMP'\n",
       "17. 'CPG'\n",
       "\n",
       "\n"
      ],
      "text/plain": [
       " [1] \"ABC\" \"ABE\" \"ABP\" \"ACK\" \"ACP\" \"ACV\" \"AKE\" \"ANG\" \"ATE\" \"BAP\" \"BFP\" \"BID\"\n",
       "[13] \"BKL\" \"CCD\" \"CGD\" \"CMP\" \"CPG\""
      ]
     },
     "metadata": {},
     "output_type": "display_data"
    }
   ],
   "source": [
    "sort(unique(c(data$ID1_Std, data$ID2_Std)))"
   ]
  },
  {
   "cell_type": "code",
   "execution_count": 87,
   "id": "15d4b41b",
   "metadata": {},
   "outputs": [
    {
     "data": {
      "text/html": [
       "<table class=\"dataframe\">\n",
       "<caption>A data.frame: 6 × 3</caption>\n",
       "<thead>\n",
       "\t<tr><th></th><th scope=col>ID1_Std</th><th scope=col>ID2_Std</th><th scope=col>dist</th></tr>\n",
       "\t<tr><th></th><th scope=col>&lt;chr&gt;</th><th scope=col>&lt;chr&gt;</th><th scope=col>&lt;dbl&gt;</th></tr>\n",
       "</thead>\n",
       "<tbody>\n",
       "\t<tr><th scope=row>1</th><td>AAA</td><td>AAA</td><td>0.000000</td></tr>\n",
       "\t<tr><th scope=row>2</th><td>AAB</td><td>AAA</td><td>0.014987</td></tr>\n",
       "\t<tr><th scope=row>3</th><td>AAC</td><td>AAA</td><td>0.026482</td></tr>\n",
       "\t<tr><th scope=row>4</th><td>AAD</td><td>AAA</td><td>0.048572</td></tr>\n",
       "\t<tr><th scope=row>5</th><td>AAE</td><td>AAA</td><td>0.010528</td></tr>\n",
       "\t<tr><th scope=row>6</th><td>AAG</td><td>AAA</td><td>0.034710</td></tr>\n",
       "</tbody>\n",
       "</table>\n"
      ],
      "text/latex": [
       "A data.frame: 6 × 3\n",
       "\\begin{tabular}{r|lll}\n",
       "  & ID1\\_Std & ID2\\_Std & dist\\\\\n",
       "  & <chr> & <chr> & <dbl>\\\\\n",
       "\\hline\n",
       "\t1 & AAA & AAA & 0.000000\\\\\n",
       "\t2 & AAB & AAA & 0.014987\\\\\n",
       "\t3 & AAC & AAA & 0.026482\\\\\n",
       "\t4 & AAD & AAA & 0.048572\\\\\n",
       "\t5 & AAE & AAA & 0.010528\\\\\n",
       "\t6 & AAG & AAA & 0.034710\\\\\n",
       "\\end{tabular}\n"
      ],
      "text/markdown": [
       "\n",
       "A data.frame: 6 × 3\n",
       "\n",
       "| <!--/--> | ID1_Std &lt;chr&gt; | ID2_Std &lt;chr&gt; | dist &lt;dbl&gt; |\n",
       "|---|---|---|---|\n",
       "| 1 | AAA | AAA | 0.000000 |\n",
       "| 2 | AAB | AAA | 0.014987 |\n",
       "| 3 | AAC | AAA | 0.026482 |\n",
       "| 4 | AAD | AAA | 0.048572 |\n",
       "| 5 | AAE | AAA | 0.010528 |\n",
       "| 6 | AAG | AAA | 0.034710 |\n",
       "\n"
      ],
      "text/plain": [
       "  ID1_Std ID2_Std dist    \n",
       "1 AAA     AAA     0.000000\n",
       "2 AAB     AAA     0.014987\n",
       "3 AAC     AAA     0.026482\n",
       "4 AAD     AAA     0.048572\n",
       "5 AAE     AAA     0.010528\n",
       "6 AAG     AAA     0.034710"
      ]
     },
     "metadata": {},
     "output_type": "display_data"
    }
   ],
   "source": [
    "comparisons=fread(\"~/data/TRD/comparisons.csv\", data.table=FALSE)\n",
    "colnames(comparisons)[1:2]=c(\"ID1_Std\",\"ID2_Std\")\n",
    "head(comparisons)"
   ]
  },
  {
   "cell_type": "code",
   "execution_count": 91,
   "id": "e2005c08",
   "metadata": {},
   "outputs": [
    {
     "data": {
      "text/plain": [
       "   Mode   FALSE    TRUE \n",
       "logical      54     136 "
      ]
     },
     "metadata": {},
     "output_type": "display_data"
    },
    {
     "name": "stderr",
     "output_type": "stream",
     "text": [
      "Joining, by = c(\"ID1_Std\", \"ID2_Std\")\n",
      "\n"
     ]
    }
   ],
   "source": [
    "summary(paste(data$ID1_Std,data$ID2_Std) %in% paste(comparisons$ID1_Std,comparisons$ID2_Std))\n",
    "\n",
    "data=left_join(data,comparisons)"
   ]
  },
  {
   "cell_type": "code",
   "execution_count": 102,
   "id": "83e32674",
   "metadata": {},
   "outputs": [
    {
     "data": {
      "text/html": [
       "FALSE"
      ],
      "text/latex": [
       "FALSE"
      ],
      "text/markdown": [
       "FALSE"
      ],
      "text/plain": [
       "[1] FALSE"
      ]
     },
     "metadata": {},
     "output_type": "display_data"
    },
    {
     "data": {
      "text/html": [
       "FALSE"
      ],
      "text/latex": [
       "FALSE"
      ],
      "text/markdown": [
       "FALSE"
      ],
      "text/plain": [
       "[1] FALSE"
      ]
     },
     "metadata": {},
     "output_type": "display_data"
    },
    {
     "data": {
      "text/html": [
       "FALSE"
      ],
      "text/latex": [
       "FALSE"
      ],
      "text/markdown": [
       "FALSE"
      ],
      "text/plain": [
       "[1] FALSE"
      ]
     },
     "metadata": {},
     "output_type": "display_data"
    },
    {
     "data": {
      "text/html": [
       "FALSE"
      ],
      "text/latex": [
       "FALSE"
      ],
      "text/markdown": [
       "FALSE"
      ],
      "text/plain": [
       "[1] FALSE"
      ]
     },
     "metadata": {},
     "output_type": "display_data"
    }
   ],
   "source": [
    "\"BAK\" %in% c(data$ID1_Std,data$ID2_Std)\n",
    "\"BET\" %in% c(data$ID1_Std,data$ID2_Std)\n",
    "\"BAN\" %in% c(data$ID1_Std,data$ID2_Std)\n",
    "\"BTI\" %in% c(data$ID1_Std,data$ID2_Std)"
   ]
  },
  {
   "cell_type": "code",
   "execution_count": 94,
   "id": "4a3a3194",
   "metadata": {},
   "outputs": [
    {
     "name": "stderr",
     "output_type": "stream",
     "text": [
      "`geom_smooth()` using formula 'y ~ x'\n",
      "\n",
      "Warning message:\n",
      "\"Removed 54 rows containing non-finite values (stat_smooth).\"\n",
      "Warning message:\n",
      "\"Removed 54 rows containing missing values (geom_point).\"\n"
     ]
    },
    {
     "data": {
      "image/png": "[encoded data removed]",
      "text/plain": [
       "plot without title"
      ]
     },
     "metadata": {
      "image/png": {
       "height": 600,
       "width": 600
      }
     },
     "output_type": "display_data"
    }
   ],
   "source": [
    "ggplot(data, aes(dist, Via))+\n",
    "geom_point()+\n",
    "geom_smooth(method=\"lm\")"
   ]
  }
 ],
 "metadata": {
  "kernelspec": {
   "display_name": "R",
   "language": "R",
   "name": "ir"
  },
  "language_info": {
   "codemirror_mode": "r",
   "file_extension": ".r",
   "mimetype": "text/x-r-source",
   "name": "R",
   "pygments_lexer": "r",
   "version": "4.1.1"
  }
 },
 "nbformat": 4,
 "nbformat_minor": 5
}

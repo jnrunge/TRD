{
 "cells": [
  {
   "cell_type": "code",
   "execution_count": 162,
   "id": "0af66978",
   "metadata": {
    "scrolled": true
   },
   "outputs": [],
   "source": [
    "source(\"../BrusselSprouts/scripts/functions.R\")"
   ]
  },
  {
   "cell_type": "code",
   "execution_count": 163,
   "id": "b2e3010a",
   "metadata": {},
   "outputs": [],
   "source": [
    "chris_crosses=data.frame(sample1=c(\"ACP\",\"BAP\",\"CCD\",\"ATE\",\"ACK\",\"AKE\",\"BAH\",\"ANG\"),\n",
    "                        sample2=c(\"BFP\",\"CMP\",\"CPG\",\"YCR\",\"ACV\",\"BAH\",\"CGD\",\"CEI\"))"
   ]
  },
  {
   "cell_type": "code",
   "execution_count": 164,
   "id": "0b5a286b",
   "metadata": {},
   "outputs": [],
   "source": [
    "SV_filter=readLines(\"~/data/TRD/long_read_Andreas/goodStrains.list\")\n",
    "Matrix_filter=readLines(\"~/data/TRD/SamplesInMatrix.list\")\n",
    "polyploidy_filter=readLines(\"~/data/TRD/AD/notPolyploid.list\")\n",
    "distance_filter=fread(\"~/data/TRD/distant_comparisons.csv\", data.table=FALSE)\n",
    "asd2d_data=fread(\"~/data/TRD/asd_2d.csv\", data.table=FALSE)"
   ]
  },
  {
   "cell_type": "code",
   "execution_count": 165,
   "id": "ae7f33f6",
   "metadata": {},
   "outputs": [
    {
     "data": {
      "text/plain": [
       "   Mode   FALSE \n",
       "logical      87 "
      ]
     },
     "metadata": {},
     "output_type": "display_data"
    },
    {
     "data": {
      "text/plain": [
       "   Mode   FALSE \n",
       "logical      87 "
      ]
     },
     "metadata": {},
     "output_type": "display_data"
    }
   ],
   "source": [
    "#SACE prefixed IDs are not in Matrix\n",
    "summary(str_replace(polyploidy_filter[startsWith(polyploidy_filter, \"SACE\")],fixed(\"SACE_\"),\"\") %in% Matrix_filter)\n",
    "summary(polyploidy_filter[startsWith(polyploidy_filter, \"SACE\")] %in% Matrix_filter)"
   ]
  },
  {
   "cell_type": "code",
   "execution_count": 166,
   "id": "62d1ef3f",
   "metadata": {},
   "outputs": [
    {
     "data": {
      "text/html": [
       "<table class=\"dataframe\">\n",
       "<caption>A tibble: 6 × 4</caption>\n",
       "<thead>\n",
       "\t<tr><th scope=col>Standard ID</th><th scope=col>Strain Name</th><th scope=col>Ecological origin</th><th scope=col>Geographical Origin</th></tr>\n",
       "\t<tr><th scope=col>&lt;chr&gt;</th><th scope=col>&lt;chr&gt;</th><th scope=col>&lt;chr&gt;</th><th scope=col>&lt;chr&gt;</th></tr>\n",
       "</thead>\n",
       "<tbody>\n",
       "\t<tr><td>CRI</td><td>AGME 5I       </td><td>Wine                         </td><td>Italy            </td></tr>\n",
       "\t<tr><td>CEN</td><td>ATCC 38618:2-2</td><td>Concentrated orange juice    </td><td>NA               </td></tr>\n",
       "\t<tr><td>CEP</td><td>ATCC 52922-1C </td><td>Tapuy (rice wine)            </td><td>Philippines      </td></tr>\n",
       "\t<tr><td>CDB</td><td>ATCC 66348-1D </td><td>Soil                         </td><td>Japan            </td></tr>\n",
       "\t<tr><td>ANN</td><td>AY529516      </td><td>Soil beneath Quercus velutina</td><td>Ghana            </td></tr>\n",
       "\t<tr><td>BMF</td><td>269521J       </td><td>Human                        </td><td>RVI Newcastle, UK</td></tr>\n",
       "</tbody>\n",
       "</table>\n"
      ],
      "text/latex": [
       "A tibble: 6 × 4\n",
       "\\begin{tabular}{llll}\n",
       " Standard ID & Strain Name & Ecological origin & Geographical Origin\\\\\n",
       " <chr> & <chr> & <chr> & <chr>\\\\\n",
       "\\hline\n",
       "\t CRI & AGME 5I        & Wine                          & Italy            \\\\\n",
       "\t CEN & ATCC 38618:2-2 & Concentrated orange juice     & NA               \\\\\n",
       "\t CEP & ATCC 52922-1C  & Tapuy (rice wine)             & Philippines      \\\\\n",
       "\t CDB & ATCC 66348-1D  & Soil                          & Japan            \\\\\n",
       "\t ANN & AY529516       & Soil beneath Quercus velutina & Ghana            \\\\\n",
       "\t BMF & 269521J        & Human                         & RVI Newcastle, UK\\\\\n",
       "\\end{tabular}\n"
      ],
      "text/markdown": [
       "\n",
       "A tibble: 6 × 4\n",
       "\n",
       "| Standard ID &lt;chr&gt; | Strain Name &lt;chr&gt; | Ecological origin &lt;chr&gt; | Geographical Origin &lt;chr&gt; |\n",
       "|---|---|---|---|\n",
       "| CRI | AGME 5I        | Wine                          | Italy             |\n",
       "| CEN | ATCC 38618:2-2 | Concentrated orange juice     | NA                |\n",
       "| CEP | ATCC 52922-1C  | Tapuy (rice wine)             | Philippines       |\n",
       "| CDB | ATCC 66348-1D  | Soil                          | Japan             |\n",
       "| ANN | AY529516       | Soil beneath Quercus velutina | Ghana             |\n",
       "| BMF | 269521J        | Human                         | RVI Newcastle, UK |\n",
       "\n"
      ],
      "text/plain": [
       "  Standard ID Strain Name    Ecological origin             Geographical Origin\n",
       "1 CRI         AGME 5I        Wine                          Italy              \n",
       "2 CEN         ATCC 38618:2-2 Concentrated orange juice     NA                 \n",
       "3 CEP         ATCC 52922-1C  Tapuy (rice wine)             Philippines        \n",
       "4 CDB         ATCC 66348-1D  Soil                          Japan              \n",
       "5 ANN         AY529516       Soil beneath Quercus velutina Ghana              \n",
       "6 BMF         269521J        Human                         RVI Newcastle, UK  "
      ]
     },
     "metadata": {},
     "output_type": "display_data"
    }
   ],
   "source": [
    "library(readxl)\n",
    "Ecology=read_xlsx(\"/home/jnrunge/1002_strains_total_dataset.xlsx\", sheet = \"final_1002_site\")\n",
    "head(Ecology)"
   ]
  },
  {
   "cell_type": "code",
   "execution_count": 167,
   "id": "db538e6b",
   "metadata": {},
   "outputs": [],
   "source": [
    "library(VennDiagram)\n",
    "display_venn <- function(x, ...){\n",
    "  library(VennDiagram)\n",
    "  grid.newpage()\n",
    "  venn_object <- venn.diagram(x, filename = NULL, ...)\n",
    "  grid.draw(venn_object)\n",
    "}"
   ]
  },
  {
   "cell_type": "code",
   "execution_count": 168,
   "id": "1000d183",
   "metadata": {},
   "outputs": [
    {
     "data": {
      "text/plain": [
       "   Mode   FALSE    TRUE \n",
       "logical    1000      11 "
      ]
     },
     "metadata": {},
     "output_type": "display_data"
    },
    {
     "data": {
      "text/plain": [
       "   Mode   FALSE    TRUE \n",
       "logical     953      58 "
      ]
     },
     "metadata": {},
     "output_type": "display_data"
    },
    {
     "data": {
      "text/plain": [
       "   Mode   FALSE    TRUE \n",
       "logical     160     851 "
      ]
     },
     "metadata": {},
     "output_type": "display_data"
    }
   ],
   "source": [
    "summary(unique(c(distance_filter$row,distance_filter$col))%in%SV_filter)\n",
    "summary(unique(c(distance_filter$row,distance_filter$col))%in%Matrix_filter)\n",
    "summary(unique(c(distance_filter$row,distance_filter$col))%in%polyploidy_filter)"
   ]
  },
  {
   "cell_type": "code",
   "execution_count": 169,
   "id": "6051ebab",
   "metadata": {},
   "outputs": [],
   "source": [
    "all_comparisons=fread(\"~/data/TRD/comparisons.csv\")\n",
    "all_comparisons=subset(all_comparisons, row%in%SV_filter & row%in%Matrix_filter & row%in%polyploidy_filter & \n",
    "                      col%in%SV_filter & col%in%Matrix_filter & col%in%polyploidy_filter & dist!=0)"
   ]
  },
  {
   "cell_type": "code",
   "execution_count": 170,
   "id": "4850ee85",
   "metadata": {},
   "outputs": [
    {
     "data": {
      "text/plain": [
       "    Min.  1st Qu.   Median     Mean  3rd Qu.     Max. \n",
       "0.000272 0.029007 0.038407 0.035514 0.042625 0.049672 "
      ]
     },
     "metadata": {},
     "output_type": "display_data"
    }
   ],
   "source": [
    "summary(all_comparisons$dist)"
   ]
  },
  {
   "cell_type": "code",
   "execution_count": 171,
   "id": "b6b0692b",
   "metadata": {
    "scrolled": true
   },
   "outputs": [
    {
     "data": {
      "text/html": [
       "<table class=\"dataframe\">\n",
       "<caption>A data.frame: 110 × 7</caption>\n",
       "<thead>\n",
       "\t<tr><th scope=col>row</th><th scope=col>col</th><th scope=col>dist</th><th scope=col>Ecological origin.x</th><th scope=col>Geographical Origin.x</th><th scope=col>Ecological origin.y</th><th scope=col>Geographical Origin.y</th></tr>\n",
       "\t<tr><th scope=col>&lt;chr&gt;</th><th scope=col>&lt;chr&gt;</th><th scope=col>&lt;dbl&gt;</th><th scope=col>&lt;chr&gt;</th><th scope=col>&lt;chr&gt;</th><th scope=col>&lt;chr&gt;</th><th scope=col>&lt;chr&gt;</th></tr>\n",
       "</thead>\n",
       "<tbody>\n",
       "\t<tr><td>ANI</td><td>AKE</td><td>0.036102</td><td>Banana wine               </td><td>Pennsylvania, USA                     </td><td>Palm wine                 </td><td>Nigeria          </td></tr>\n",
       "\t<tr><td>AVI</td><td>AKE</td><td>0.036057</td><td>Soil beneath Quercus rubra</td><td>Pennsylvania, USA                     </td><td>Palm wine                 </td><td>Nigeria          </td></tr>\n",
       "\t<tr><td>BAK</td><td>AKE</td><td>0.046940</td><td>Bark, Quercus wutaishanica</td><td>Dongling Mountain, Beijing, china     </td><td>Palm wine                 </td><td>Nigeria          </td></tr>\n",
       "\t<tr><td>BAN</td><td>AKE</td><td>0.042647</td><td>Rotten wood               </td><td>Wuzhi Mountain, Hainan province, China</td><td>Palm wine                 </td><td>Nigeria          </td></tr>\n",
       "\t<tr><td>BAP</td><td>AKE</td><td>0.042560</td><td>Soil                      </td><td>Wuzhi Mountain, Hainan province, China</td><td>Palm wine                 </td><td>Nigeria          </td></tr>\n",
       "\t<tr><td>BET</td><td>AKE</td><td>0.049672</td><td>Seawater in harbour       </td><td>Koper, Slovenia                       </td><td>Palm wine                 </td><td>Nigeria          </td></tr>\n",
       "\t<tr><td>BFP</td><td>AKE</td><td>0.046248</td><td>Quercus sp.               </td><td>Montenegro                            </td><td>Palm wine                 </td><td>Nigeria          </td></tr>\n",
       "\t<tr><td>BTI</td><td>AKE</td><td>0.040569</td><td>Quercus robur             </td><td>Vancouver, Canada                     </td><td>Palm wine                 </td><td>Nigeria          </td></tr>\n",
       "\t<tr><td>CCD</td><td>AKE</td><td>0.038407</td><td>Flower, Heliconia sp.     </td><td>Yasuni, Orellana                      </td><td>Palm wine                 </td><td>Nigeria          </td></tr>\n",
       "\t<tr><td>CMQ</td><td>AKE</td><td>0.038252</td><td>Quercus sp.               </td><td>Pennsylvania, USA                     </td><td>Palm wine                 </td><td>Nigeria          </td></tr>\n",
       "\t<tr><td>AKE</td><td>ANI</td><td>0.036102</td><td>Palm wine                 </td><td>Nigeria                               </td><td>Banana wine               </td><td>Pennsylvania, USA</td></tr>\n",
       "\t<tr><td>AVI</td><td>ANI</td><td>0.000272</td><td>Soil beneath Quercus rubra</td><td>Pennsylvania, USA                     </td><td>Banana wine               </td><td>Pennsylvania, USA</td></tr>\n",
       "\t<tr><td>BAK</td><td>ANI</td><td>0.038429</td><td>Bark, Quercus wutaishanica</td><td>Dongling Mountain, Beijing, china     </td><td>Banana wine               </td><td>Pennsylvania, USA</td></tr>\n",
       "\t<tr><td>BAN</td><td>ANI</td><td>0.034167</td><td>Rotten wood               </td><td>Wuzhi Mountain, Hainan province, China</td><td>Banana wine               </td><td>Pennsylvania, USA</td></tr>\n",
       "\t<tr><td>BAP</td><td>ANI</td><td>0.033909</td><td>Soil                      </td><td>Wuzhi Mountain, Hainan province, China</td><td>Banana wine               </td><td>Pennsylvania, USA</td></tr>\n",
       "\t<tr><td>BET</td><td>ANI</td><td>0.043361</td><td>Seawater in harbour       </td><td>Koper, Slovenia                       </td><td>Banana wine               </td><td>Pennsylvania, USA</td></tr>\n",
       "\t<tr><td>BFP</td><td>ANI</td><td>0.040056</td><td>Quercus sp.               </td><td>Montenegro                            </td><td>Banana wine               </td><td>Pennsylvania, USA</td></tr>\n",
       "\t<tr><td>BTI</td><td>ANI</td><td>0.029020</td><td>Quercus robur             </td><td>Vancouver, Canada                     </td><td>Banana wine               </td><td>Pennsylvania, USA</td></tr>\n",
       "\t<tr><td>CCD</td><td>ANI</td><td>0.029054</td><td>Flower, Heliconia sp.     </td><td>Yasuni, Orellana                      </td><td>Banana wine               </td><td>Pennsylvania, USA</td></tr>\n",
       "\t<tr><td>CMQ</td><td>ANI</td><td>0.028896</td><td>Quercus sp.               </td><td>Pennsylvania, USA                     </td><td>Banana wine               </td><td>Pennsylvania, USA</td></tr>\n",
       "\t<tr><td>AKE</td><td>AVI</td><td>0.036057</td><td>Palm wine                 </td><td>Nigeria                               </td><td>Soil beneath Quercus rubra</td><td>Pennsylvania, USA</td></tr>\n",
       "\t<tr><td>ANI</td><td>AVI</td><td>0.000272</td><td>Banana wine               </td><td>Pennsylvania, USA                     </td><td>Soil beneath Quercus rubra</td><td>Pennsylvania, USA</td></tr>\n",
       "\t<tr><td>BAK</td><td>AVI</td><td>0.038418</td><td>Bark, Quercus wutaishanica</td><td>Dongling Mountain, Beijing, china     </td><td>Soil beneath Quercus rubra</td><td>Pennsylvania, USA</td></tr>\n",
       "\t<tr><td>BAN</td><td>AVI</td><td>0.034107</td><td>Rotten wood               </td><td>Wuzhi Mountain, Hainan province, China</td><td>Soil beneath Quercus rubra</td><td>Pennsylvania, USA</td></tr>\n",
       "\t<tr><td>BAP</td><td>AVI</td><td>0.033852</td><td>Soil                      </td><td>Wuzhi Mountain, Hainan province, China</td><td>Soil beneath Quercus rubra</td><td>Pennsylvania, USA</td></tr>\n",
       "\t<tr><td>BET</td><td>AVI</td><td>0.043272</td><td>Seawater in harbour       </td><td>Koper, Slovenia                       </td><td>Soil beneath Quercus rubra</td><td>Pennsylvania, USA</td></tr>\n",
       "\t<tr><td>BFP</td><td>AVI</td><td>0.039963</td><td>Quercus sp.               </td><td>Montenegro                            </td><td>Soil beneath Quercus rubra</td><td>Pennsylvania, USA</td></tr>\n",
       "\t<tr><td>BTI</td><td>AVI</td><td>0.028958</td><td>Quercus robur             </td><td>Vancouver, Canada                     </td><td>Soil beneath Quercus rubra</td><td>Pennsylvania, USA</td></tr>\n",
       "\t<tr><td>CCD</td><td>AVI</td><td>0.029003</td><td>Flower, Heliconia sp.     </td><td>Yasuni, Orellana                      </td><td>Soil beneath Quercus rubra</td><td>Pennsylvania, USA</td></tr>\n",
       "\t<tr><td>CMQ</td><td>AVI</td><td>0.028828</td><td>Quercus sp.               </td><td>Pennsylvania, USA                     </td><td>Soil beneath Quercus rubra</td><td>Pennsylvania, USA</td></tr>\n",
       "\t<tr><td>⋮</td><td>⋮</td><td>⋮</td><td>⋮</td><td>⋮</td><td>⋮</td><td>⋮</td></tr>\n",
       "\t<tr><td>AKE</td><td>BTI</td><td>0.040569</td><td>Palm wine                 </td><td>Nigeria                               </td><td>Quercus robur        </td><td>Vancouver, Canada</td></tr>\n",
       "\t<tr><td>ANI</td><td>BTI</td><td>0.029020</td><td>Banana wine               </td><td>Pennsylvania, USA                     </td><td>Quercus robur        </td><td>Vancouver, Canada</td></tr>\n",
       "\t<tr><td>AVI</td><td>BTI</td><td>0.028958</td><td>Soil beneath Quercus rubra</td><td>Pennsylvania, USA                     </td><td>Quercus robur        </td><td>Vancouver, Canada</td></tr>\n",
       "\t<tr><td>BAK</td><td>BTI</td><td>0.041844</td><td>Bark, Quercus wutaishanica</td><td>Dongling Mountain, Beijing, china     </td><td>Quercus robur        </td><td>Vancouver, Canada</td></tr>\n",
       "\t<tr><td>BAN</td><td>BTI</td><td>0.037151</td><td>Rotten wood               </td><td>Wuzhi Mountain, Hainan province, China</td><td>Quercus robur        </td><td>Vancouver, Canada</td></tr>\n",
       "\t<tr><td>BAP</td><td>BTI</td><td>0.036860</td><td>Soil                      </td><td>Wuzhi Mountain, Hainan province, China</td><td>Quercus robur        </td><td>Vancouver, Canada</td></tr>\n",
       "\t<tr><td>BET</td><td>BTI</td><td>0.033140</td><td>Seawater in harbour       </td><td>Koper, Slovenia                       </td><td>Quercus robur        </td><td>Vancouver, Canada</td></tr>\n",
       "\t<tr><td>BFP</td><td>BTI</td><td>0.032708</td><td>Quercus sp.               </td><td>Montenegro                            </td><td>Quercus robur        </td><td>Vancouver, Canada</td></tr>\n",
       "\t<tr><td>CCD</td><td>BTI</td><td>0.028753</td><td>Flower, Heliconia sp.     </td><td>Yasuni, Orellana                      </td><td>Quercus robur        </td><td>Vancouver, Canada</td></tr>\n",
       "\t<tr><td>CMQ</td><td>BTI</td><td>0.028610</td><td>Quercus sp.               </td><td>Pennsylvania, USA                     </td><td>Quercus robur        </td><td>Vancouver, Canada</td></tr>\n",
       "\t<tr><td>AKE</td><td>CCD</td><td>0.038407</td><td>Palm wine                 </td><td>Nigeria                               </td><td>Flower, Heliconia sp.</td><td>Yasuni, Orellana </td></tr>\n",
       "\t<tr><td>ANI</td><td>CCD</td><td>0.029054</td><td>Banana wine               </td><td>Pennsylvania, USA                     </td><td>Flower, Heliconia sp.</td><td>Yasuni, Orellana </td></tr>\n",
       "\t<tr><td>AVI</td><td>CCD</td><td>0.029003</td><td>Soil beneath Quercus rubra</td><td>Pennsylvania, USA                     </td><td>Flower, Heliconia sp.</td><td>Yasuni, Orellana </td></tr>\n",
       "\t<tr><td>BAK</td><td>CCD</td><td>0.040415</td><td>Bark, Quercus wutaishanica</td><td>Dongling Mountain, Beijing, china     </td><td>Flower, Heliconia sp.</td><td>Yasuni, Orellana </td></tr>\n",
       "\t<tr><td>BAN</td><td>CCD</td><td>0.026724</td><td>Rotten wood               </td><td>Wuzhi Mountain, Hainan province, China</td><td>Flower, Heliconia sp.</td><td>Yasuni, Orellana </td></tr>\n",
       "\t<tr><td>BAP</td><td>CCD</td><td>0.024996</td><td>Soil                      </td><td>Wuzhi Mountain, Hainan province, China</td><td>Flower, Heliconia sp.</td><td>Yasuni, Orellana </td></tr>\n",
       "\t<tr><td>BET</td><td>CCD</td><td>0.044927</td><td>Seawater in harbour       </td><td>Koper, Slovenia                       </td><td>Flower, Heliconia sp.</td><td>Yasuni, Orellana </td></tr>\n",
       "\t<tr><td>BFP</td><td>CCD</td><td>0.041533</td><td>Quercus sp.               </td><td>Montenegro                            </td><td>Flower, Heliconia sp.</td><td>Yasuni, Orellana </td></tr>\n",
       "\t<tr><td>BTI</td><td>CCD</td><td>0.028753</td><td>Quercus robur             </td><td>Vancouver, Canada                     </td><td>Flower, Heliconia sp.</td><td>Yasuni, Orellana </td></tr>\n",
       "\t<tr><td>CMQ</td><td>CCD</td><td>0.000486</td><td>Quercus sp.               </td><td>Pennsylvania, USA                     </td><td>Flower, Heliconia sp.</td><td>Yasuni, Orellana </td></tr>\n",
       "\t<tr><td>AKE</td><td>CMQ</td><td>0.038252</td><td>Palm wine                 </td><td>Nigeria                               </td><td>Quercus sp.          </td><td>Pennsylvania, USA</td></tr>\n",
       "\t<tr><td>ANI</td><td>CMQ</td><td>0.028896</td><td>Banana wine               </td><td>Pennsylvania, USA                     </td><td>Quercus sp.          </td><td>Pennsylvania, USA</td></tr>\n",
       "\t<tr><td>AVI</td><td>CMQ</td><td>0.028828</td><td>Soil beneath Quercus rubra</td><td>Pennsylvania, USA                     </td><td>Quercus sp.          </td><td>Pennsylvania, USA</td></tr>\n",
       "\t<tr><td>BAK</td><td>CMQ</td><td>0.040279</td><td>Bark, Quercus wutaishanica</td><td>Dongling Mountain, Beijing, china     </td><td>Quercus sp.          </td><td>Pennsylvania, USA</td></tr>\n",
       "\t<tr><td>BAN</td><td>CMQ</td><td>0.026731</td><td>Rotten wood               </td><td>Wuzhi Mountain, Hainan province, China</td><td>Quercus sp.          </td><td>Pennsylvania, USA</td></tr>\n",
       "\t<tr><td>BAP</td><td>CMQ</td><td>0.024993</td><td>Soil                      </td><td>Wuzhi Mountain, Hainan province, China</td><td>Quercus sp.          </td><td>Pennsylvania, USA</td></tr>\n",
       "\t<tr><td>BET</td><td>CMQ</td><td>0.044748</td><td>Seawater in harbour       </td><td>Koper, Slovenia                       </td><td>Quercus sp.          </td><td>Pennsylvania, USA</td></tr>\n",
       "\t<tr><td>BFP</td><td>CMQ</td><td>0.041347</td><td>Quercus sp.               </td><td>Montenegro                            </td><td>Quercus sp.          </td><td>Pennsylvania, USA</td></tr>\n",
       "\t<tr><td>BTI</td><td>CMQ</td><td>0.028610</td><td>Quercus robur             </td><td>Vancouver, Canada                     </td><td>Quercus sp.          </td><td>Pennsylvania, USA</td></tr>\n",
       "\t<tr><td>CCD</td><td>CMQ</td><td>0.000486</td><td>Flower, Heliconia sp.     </td><td>Yasuni, Orellana                      </td><td>Quercus sp.          </td><td>Pennsylvania, USA</td></tr>\n",
       "</tbody>\n",
       "</table>\n"
      ],
      "text/latex": [
       "A data.frame: 110 × 7\n",
       "\\begin{tabular}{lllllll}\n",
       " row & col & dist & Ecological origin.x & Geographical Origin.x & Ecological origin.y & Geographical Origin.y\\\\\n",
       " <chr> & <chr> & <dbl> & <chr> & <chr> & <chr> & <chr>\\\\\n",
       "\\hline\n",
       "\t ANI & AKE & 0.036102 & Banana wine                & Pennsylvania, USA                      & Palm wine                  & Nigeria          \\\\\n",
       "\t AVI & AKE & 0.036057 & Soil beneath Quercus rubra & Pennsylvania, USA                      & Palm wine                  & Nigeria          \\\\\n",
       "\t BAK & AKE & 0.046940 & Bark, Quercus wutaishanica & Dongling Mountain, Beijing, china      & Palm wine                  & Nigeria          \\\\\n",
       "\t BAN & AKE & 0.042647 & Rotten wood                & Wuzhi Mountain, Hainan province, China & Palm wine                  & Nigeria          \\\\\n",
       "\t BAP & AKE & 0.042560 & Soil                       & Wuzhi Mountain, Hainan province, China & Palm wine                  & Nigeria          \\\\\n",
       "\t BET & AKE & 0.049672 & Seawater in harbour        & Koper, Slovenia                        & Palm wine                  & Nigeria          \\\\\n",
       "\t BFP & AKE & 0.046248 & Quercus sp.                & Montenegro                             & Palm wine                  & Nigeria          \\\\\n",
       "\t BTI & AKE & 0.040569 & Quercus robur              & Vancouver, Canada                      & Palm wine                  & Nigeria          \\\\\n",
       "\t CCD & AKE & 0.038407 & Flower, Heliconia sp.      & Yasuni, Orellana                       & Palm wine                  & Nigeria          \\\\\n",
       "\t CMQ & AKE & 0.038252 & Quercus sp.                & Pennsylvania, USA                      & Palm wine                  & Nigeria          \\\\\n",
       "\t AKE & ANI & 0.036102 & Palm wine                  & Nigeria                                & Banana wine                & Pennsylvania, USA\\\\\n",
       "\t AVI & ANI & 0.000272 & Soil beneath Quercus rubra & Pennsylvania, USA                      & Banana wine                & Pennsylvania, USA\\\\\n",
       "\t BAK & ANI & 0.038429 & Bark, Quercus wutaishanica & Dongling Mountain, Beijing, china      & Banana wine                & Pennsylvania, USA\\\\\n",
       "\t BAN & ANI & 0.034167 & Rotten wood                & Wuzhi Mountain, Hainan province, China & Banana wine                & Pennsylvania, USA\\\\\n",
       "\t BAP & ANI & 0.033909 & Soil                       & Wuzhi Mountain, Hainan province, China & Banana wine                & Pennsylvania, USA\\\\\n",
       "\t BET & ANI & 0.043361 & Seawater in harbour        & Koper, Slovenia                        & Banana wine                & Pennsylvania, USA\\\\\n",
       "\t BFP & ANI & 0.040056 & Quercus sp.                & Montenegro                             & Banana wine                & Pennsylvania, USA\\\\\n",
       "\t BTI & ANI & 0.029020 & Quercus robur              & Vancouver, Canada                      & Banana wine                & Pennsylvania, USA\\\\\n",
       "\t CCD & ANI & 0.029054 & Flower, Heliconia sp.      & Yasuni, Orellana                       & Banana wine                & Pennsylvania, USA\\\\\n",
       "\t CMQ & ANI & 0.028896 & Quercus sp.                & Pennsylvania, USA                      & Banana wine                & Pennsylvania, USA\\\\\n",
       "\t AKE & AVI & 0.036057 & Palm wine                  & Nigeria                                & Soil beneath Quercus rubra & Pennsylvania, USA\\\\\n",
       "\t ANI & AVI & 0.000272 & Banana wine                & Pennsylvania, USA                      & Soil beneath Quercus rubra & Pennsylvania, USA\\\\\n",
       "\t BAK & AVI & 0.038418 & Bark, Quercus wutaishanica & Dongling Mountain, Beijing, china      & Soil beneath Quercus rubra & Pennsylvania, USA\\\\\n",
       "\t BAN & AVI & 0.034107 & Rotten wood                & Wuzhi Mountain, Hainan province, China & Soil beneath Quercus rubra & Pennsylvania, USA\\\\\n",
       "\t BAP & AVI & 0.033852 & Soil                       & Wuzhi Mountain, Hainan province, China & Soil beneath Quercus rubra & Pennsylvania, USA\\\\\n",
       "\t BET & AVI & 0.043272 & Seawater in harbour        & Koper, Slovenia                        & Soil beneath Quercus rubra & Pennsylvania, USA\\\\\n",
       "\t BFP & AVI & 0.039963 & Quercus sp.                & Montenegro                             & Soil beneath Quercus rubra & Pennsylvania, USA\\\\\n",
       "\t BTI & AVI & 0.028958 & Quercus robur              & Vancouver, Canada                      & Soil beneath Quercus rubra & Pennsylvania, USA\\\\\n",
       "\t CCD & AVI & 0.029003 & Flower, Heliconia sp.      & Yasuni, Orellana                       & Soil beneath Quercus rubra & Pennsylvania, USA\\\\\n",
       "\t CMQ & AVI & 0.028828 & Quercus sp.                & Pennsylvania, USA                      & Soil beneath Quercus rubra & Pennsylvania, USA\\\\\n",
       "\t ⋮ & ⋮ & ⋮ & ⋮ & ⋮ & ⋮ & ⋮\\\\\n",
       "\t AKE & BTI & 0.040569 & Palm wine                  & Nigeria                                & Quercus robur         & Vancouver, Canada\\\\\n",
       "\t ANI & BTI & 0.029020 & Banana wine                & Pennsylvania, USA                      & Quercus robur         & Vancouver, Canada\\\\\n",
       "\t AVI & BTI & 0.028958 & Soil beneath Quercus rubra & Pennsylvania, USA                      & Quercus robur         & Vancouver, Canada\\\\\n",
       "\t BAK & BTI & 0.041844 & Bark, Quercus wutaishanica & Dongling Mountain, Beijing, china      & Quercus robur         & Vancouver, Canada\\\\\n",
       "\t BAN & BTI & 0.037151 & Rotten wood                & Wuzhi Mountain, Hainan province, China & Quercus robur         & Vancouver, Canada\\\\\n",
       "\t BAP & BTI & 0.036860 & Soil                       & Wuzhi Mountain, Hainan province, China & Quercus robur         & Vancouver, Canada\\\\\n",
       "\t BET & BTI & 0.033140 & Seawater in harbour        & Koper, Slovenia                        & Quercus robur         & Vancouver, Canada\\\\\n",
       "\t BFP & BTI & 0.032708 & Quercus sp.                & Montenegro                             & Quercus robur         & Vancouver, Canada\\\\\n",
       "\t CCD & BTI & 0.028753 & Flower, Heliconia sp.      & Yasuni, Orellana                       & Quercus robur         & Vancouver, Canada\\\\\n",
       "\t CMQ & BTI & 0.028610 & Quercus sp.                & Pennsylvania, USA                      & Quercus robur         & Vancouver, Canada\\\\\n",
       "\t AKE & CCD & 0.038407 & Palm wine                  & Nigeria                                & Flower, Heliconia sp. & Yasuni, Orellana \\\\\n",
       "\t ANI & CCD & 0.029054 & Banana wine                & Pennsylvania, USA                      & Flower, Heliconia sp. & Yasuni, Orellana \\\\\n",
       "\t AVI & CCD & 0.029003 & Soil beneath Quercus rubra & Pennsylvania, USA                      & Flower, Heliconia sp. & Yasuni, Orellana \\\\\n",
       "\t BAK & CCD & 0.040415 & Bark, Quercus wutaishanica & Dongling Mountain, Beijing, china      & Flower, Heliconia sp. & Yasuni, Orellana \\\\\n",
       "\t BAN & CCD & 0.026724 & Rotten wood                & Wuzhi Mountain, Hainan province, China & Flower, Heliconia sp. & Yasuni, Orellana \\\\\n",
       "\t BAP & CCD & 0.024996 & Soil                       & Wuzhi Mountain, Hainan province, China & Flower, Heliconia sp. & Yasuni, Orellana \\\\\n",
       "\t BET & CCD & 0.044927 & Seawater in harbour        & Koper, Slovenia                        & Flower, Heliconia sp. & Yasuni, Orellana \\\\\n",
       "\t BFP & CCD & 0.041533 & Quercus sp.                & Montenegro                             & Flower, Heliconia sp. & Yasuni, Orellana \\\\\n",
       "\t BTI & CCD & 0.028753 & Quercus robur              & Vancouver, Canada                      & Flower, Heliconia sp. & Yasuni, Orellana \\\\\n",
       "\t CMQ & CCD & 0.000486 & Quercus sp.                & Pennsylvania, USA                      & Flower, Heliconia sp. & Yasuni, Orellana \\\\\n",
       "\t AKE & CMQ & 0.038252 & Palm wine                  & Nigeria                                & Quercus sp.           & Pennsylvania, USA\\\\\n",
       "\t ANI & CMQ & 0.028896 & Banana wine                & Pennsylvania, USA                      & Quercus sp.           & Pennsylvania, USA\\\\\n",
       "\t AVI & CMQ & 0.028828 & Soil beneath Quercus rubra & Pennsylvania, USA                      & Quercus sp.           & Pennsylvania, USA\\\\\n",
       "\t BAK & CMQ & 0.040279 & Bark, Quercus wutaishanica & Dongling Mountain, Beijing, china      & Quercus sp.           & Pennsylvania, USA\\\\\n",
       "\t BAN & CMQ & 0.026731 & Rotten wood                & Wuzhi Mountain, Hainan province, China & Quercus sp.           & Pennsylvania, USA\\\\\n",
       "\t BAP & CMQ & 0.024993 & Soil                       & Wuzhi Mountain, Hainan province, China & Quercus sp.           & Pennsylvania, USA\\\\\n",
       "\t BET & CMQ & 0.044748 & Seawater in harbour        & Koper, Slovenia                        & Quercus sp.           & Pennsylvania, USA\\\\\n",
       "\t BFP & CMQ & 0.041347 & Quercus sp.                & Montenegro                             & Quercus sp.           & Pennsylvania, USA\\\\\n",
       "\t BTI & CMQ & 0.028610 & Quercus robur              & Vancouver, Canada                      & Quercus sp.           & Pennsylvania, USA\\\\\n",
       "\t CCD & CMQ & 0.000486 & Flower, Heliconia sp.      & Yasuni, Orellana                       & Quercus sp.           & Pennsylvania, USA\\\\\n",
       "\\end{tabular}\n"
      ],
      "text/markdown": [
       "\n",
       "A data.frame: 110 × 7\n",
       "\n",
       "| row &lt;chr&gt; | col &lt;chr&gt; | dist &lt;dbl&gt; | Ecological origin.x &lt;chr&gt; | Geographical Origin.x &lt;chr&gt; | Ecological origin.y &lt;chr&gt; | Geographical Origin.y &lt;chr&gt; |\n",
       "|---|---|---|---|---|---|---|\n",
       "| ANI | AKE | 0.036102 | Banana wine                | Pennsylvania, USA                      | Palm wine                  | Nigeria           |\n",
       "| AVI | AKE | 0.036057 | Soil beneath Quercus rubra | Pennsylvania, USA                      | Palm wine                  | Nigeria           |\n",
       "| BAK | AKE | 0.046940 | Bark, Quercus wutaishanica | Dongling Mountain, Beijing, china      | Palm wine                  | Nigeria           |\n",
       "| BAN | AKE | 0.042647 | Rotten wood                | Wuzhi Mountain, Hainan province, China | Palm wine                  | Nigeria           |\n",
       "| BAP | AKE | 0.042560 | Soil                       | Wuzhi Mountain, Hainan province, China | Palm wine                  | Nigeria           |\n",
       "| BET | AKE | 0.049672 | Seawater in harbour        | Koper, Slovenia                        | Palm wine                  | Nigeria           |\n",
       "| BFP | AKE | 0.046248 | Quercus sp.                | Montenegro                             | Palm wine                  | Nigeria           |\n",
       "| BTI | AKE | 0.040569 | Quercus robur              | Vancouver, Canada                      | Palm wine                  | Nigeria           |\n",
       "| CCD | AKE | 0.038407 | Flower, Heliconia sp.      | Yasuni, Orellana                       | Palm wine                  | Nigeria           |\n",
       "| CMQ | AKE | 0.038252 | Quercus sp.                | Pennsylvania, USA                      | Palm wine                  | Nigeria           |\n",
       "| AKE | ANI | 0.036102 | Palm wine                  | Nigeria                                | Banana wine                | Pennsylvania, USA |\n",
       "| AVI | ANI | 0.000272 | Soil beneath Quercus rubra | Pennsylvania, USA                      | Banana wine                | Pennsylvania, USA |\n",
       "| BAK | ANI | 0.038429 | Bark, Quercus wutaishanica | Dongling Mountain, Beijing, china      | Banana wine                | Pennsylvania, USA |\n",
       "| BAN | ANI | 0.034167 | Rotten wood                | Wuzhi Mountain, Hainan province, China | Banana wine                | Pennsylvania, USA |\n",
       "| BAP | ANI | 0.033909 | Soil                       | Wuzhi Mountain, Hainan province, China | Banana wine                | Pennsylvania, USA |\n",
       "| BET | ANI | 0.043361 | Seawater in harbour        | Koper, Slovenia                        | Banana wine                | Pennsylvania, USA |\n",
       "| BFP | ANI | 0.040056 | Quercus sp.                | Montenegro                             | Banana wine                | Pennsylvania, USA |\n",
       "| BTI | ANI | 0.029020 | Quercus robur              | Vancouver, Canada                      | Banana wine                | Pennsylvania, USA |\n",
       "| CCD | ANI | 0.029054 | Flower, Heliconia sp.      | Yasuni, Orellana                       | Banana wine                | Pennsylvania, USA |\n",
       "| CMQ | ANI | 0.028896 | Quercus sp.                | Pennsylvania, USA                      | Banana wine                | Pennsylvania, USA |\n",
       "| AKE | AVI | 0.036057 | Palm wine                  | Nigeria                                | Soil beneath Quercus rubra | Pennsylvania, USA |\n",
       "| ANI | AVI | 0.000272 | Banana wine                | Pennsylvania, USA                      | Soil beneath Quercus rubra | Pennsylvania, USA |\n",
       "| BAK | AVI | 0.038418 | Bark, Quercus wutaishanica | Dongling Mountain, Beijing, china      | Soil beneath Quercus rubra | Pennsylvania, USA |\n",
       "| BAN | AVI | 0.034107 | Rotten wood                | Wuzhi Mountain, Hainan province, China | Soil beneath Quercus rubra | Pennsylvania, USA |\n",
       "| BAP | AVI | 0.033852 | Soil                       | Wuzhi Mountain, Hainan province, China | Soil beneath Quercus rubra | Pennsylvania, USA |\n",
       "| BET | AVI | 0.043272 | Seawater in harbour        | Koper, Slovenia                        | Soil beneath Quercus rubra | Pennsylvania, USA |\n",
       "| BFP | AVI | 0.039963 | Quercus sp.                | Montenegro                             | Soil beneath Quercus rubra | Pennsylvania, USA |\n",
       "| BTI | AVI | 0.028958 | Quercus robur              | Vancouver, Canada                      | Soil beneath Quercus rubra | Pennsylvania, USA |\n",
       "| CCD | AVI | 0.029003 | Flower, Heliconia sp.      | Yasuni, Orellana                       | Soil beneath Quercus rubra | Pennsylvania, USA |\n",
       "| CMQ | AVI | 0.028828 | Quercus sp.                | Pennsylvania, USA                      | Soil beneath Quercus rubra | Pennsylvania, USA |\n",
       "| ⋮ | ⋮ | ⋮ | ⋮ | ⋮ | ⋮ | ⋮ |\n",
       "| AKE | BTI | 0.040569 | Palm wine                  | Nigeria                                | Quercus robur         | Vancouver, Canada |\n",
       "| ANI | BTI | 0.029020 | Banana wine                | Pennsylvania, USA                      | Quercus robur         | Vancouver, Canada |\n",
       "| AVI | BTI | 0.028958 | Soil beneath Quercus rubra | Pennsylvania, USA                      | Quercus robur         | Vancouver, Canada |\n",
       "| BAK | BTI | 0.041844 | Bark, Quercus wutaishanica | Dongling Mountain, Beijing, china      | Quercus robur         | Vancouver, Canada |\n",
       "| BAN | BTI | 0.037151 | Rotten wood                | Wuzhi Mountain, Hainan province, China | Quercus robur         | Vancouver, Canada |\n",
       "| BAP | BTI | 0.036860 | Soil                       | Wuzhi Mountain, Hainan province, China | Quercus robur         | Vancouver, Canada |\n",
       "| BET | BTI | 0.033140 | Seawater in harbour        | Koper, Slovenia                        | Quercus robur         | Vancouver, Canada |\n",
       "| BFP | BTI | 0.032708 | Quercus sp.                | Montenegro                             | Quercus robur         | Vancouver, Canada |\n",
       "| CCD | BTI | 0.028753 | Flower, Heliconia sp.      | Yasuni, Orellana                       | Quercus robur         | Vancouver, Canada |\n",
       "| CMQ | BTI | 0.028610 | Quercus sp.                | Pennsylvania, USA                      | Quercus robur         | Vancouver, Canada |\n",
       "| AKE | CCD | 0.038407 | Palm wine                  | Nigeria                                | Flower, Heliconia sp. | Yasuni, Orellana  |\n",
       "| ANI | CCD | 0.029054 | Banana wine                | Pennsylvania, USA                      | Flower, Heliconia sp. | Yasuni, Orellana  |\n",
       "| AVI | CCD | 0.029003 | Soil beneath Quercus rubra | Pennsylvania, USA                      | Flower, Heliconia sp. | Yasuni, Orellana  |\n",
       "| BAK | CCD | 0.040415 | Bark, Quercus wutaishanica | Dongling Mountain, Beijing, china      | Flower, Heliconia sp. | Yasuni, Orellana  |\n",
       "| BAN | CCD | 0.026724 | Rotten wood                | Wuzhi Mountain, Hainan province, China | Flower, Heliconia sp. | Yasuni, Orellana  |\n",
       "| BAP | CCD | 0.024996 | Soil                       | Wuzhi Mountain, Hainan province, China | Flower, Heliconia sp. | Yasuni, Orellana  |\n",
       "| BET | CCD | 0.044927 | Seawater in harbour        | Koper, Slovenia                        | Flower, Heliconia sp. | Yasuni, Orellana  |\n",
       "| BFP | CCD | 0.041533 | Quercus sp.                | Montenegro                             | Flower, Heliconia sp. | Yasuni, Orellana  |\n",
       "| BTI | CCD | 0.028753 | Quercus robur              | Vancouver, Canada                      | Flower, Heliconia sp. | Yasuni, Orellana  |\n",
       "| CMQ | CCD | 0.000486 | Quercus sp.                | Pennsylvania, USA                      | Flower, Heliconia sp. | Yasuni, Orellana  |\n",
       "| AKE | CMQ | 0.038252 | Palm wine                  | Nigeria                                | Quercus sp.           | Pennsylvania, USA |\n",
       "| ANI | CMQ | 0.028896 | Banana wine                | Pennsylvania, USA                      | Quercus sp.           | Pennsylvania, USA |\n",
       "| AVI | CMQ | 0.028828 | Soil beneath Quercus rubra | Pennsylvania, USA                      | Quercus sp.           | Pennsylvania, USA |\n",
       "| BAK | CMQ | 0.040279 | Bark, Quercus wutaishanica | Dongling Mountain, Beijing, china      | Quercus sp.           | Pennsylvania, USA |\n",
       "| BAN | CMQ | 0.026731 | Rotten wood                | Wuzhi Mountain, Hainan province, China | Quercus sp.           | Pennsylvania, USA |\n",
       "| BAP | CMQ | 0.024993 | Soil                       | Wuzhi Mountain, Hainan province, China | Quercus sp.           | Pennsylvania, USA |\n",
       "| BET | CMQ | 0.044748 | Seawater in harbour        | Koper, Slovenia                        | Quercus sp.           | Pennsylvania, USA |\n",
       "| BFP | CMQ | 0.041347 | Quercus sp.                | Montenegro                             | Quercus sp.           | Pennsylvania, USA |\n",
       "| BTI | CMQ | 0.028610 | Quercus robur              | Vancouver, Canada                      | Quercus sp.           | Pennsylvania, USA |\n",
       "| CCD | CMQ | 0.000486 | Flower, Heliconia sp.      | Yasuni, Orellana                       | Quercus sp.           | Pennsylvania, USA |\n",
       "\n"
      ],
      "text/plain": [
       "       row    col    dist     Ecological origin.x       \n",
       "1      ANI    AKE    0.036102 Banana wine               \n",
       "2      AVI    AKE    0.036057 Soil beneath Quercus rubra\n",
       "3      BAK    AKE    0.046940 Bark, Quercus wutaishanica\n",
       "4      BAN    AKE    0.042647 Rotten wood               \n",
       "5      BAP    AKE    0.042560 Soil                      \n",
       "6      BET    AKE    0.049672 Seawater in harbour       \n",
       "7      BFP    AKE    0.046248 Quercus sp.               \n",
       "8      BTI    AKE    0.040569 Quercus robur             \n",
       "9      CCD    AKE    0.038407 Flower, Heliconia sp.     \n",
       "10     CMQ    AKE    0.038252 Quercus sp.               \n",
       "11     AKE    ANI    0.036102 Palm wine                 \n",
       "12     AVI    ANI    0.000272 Soil beneath Quercus rubra\n",
       "13     BAK    ANI    0.038429 Bark, Quercus wutaishanica\n",
       "14     BAN    ANI    0.034167 Rotten wood               \n",
       "15     BAP    ANI    0.033909 Soil                      \n",
       "16     BET    ANI    0.043361 Seawater in harbour       \n",
       "17     BFP    ANI    0.040056 Quercus sp.               \n",
       "18     BTI    ANI    0.029020 Quercus robur             \n",
       "19     CCD    ANI    0.029054 Flower, Heliconia sp.     \n",
       "20     CMQ    ANI    0.028896 Quercus sp.               \n",
       "21     AKE    AVI    0.036057 Palm wine                 \n",
       "22     ANI    AVI    0.000272 Banana wine               \n",
       "23     BAK    AVI    0.038418 Bark, Quercus wutaishanica\n",
       "24     BAN    AVI    0.034107 Rotten wood               \n",
       "25     BAP    AVI    0.033852 Soil                      \n",
       "26     BET    AVI    0.043272 Seawater in harbour       \n",
       "27     BFP    AVI    0.039963 Quercus sp.               \n",
       "28     BTI    AVI    0.028958 Quercus robur             \n",
       "29     CCD    AVI    0.029003 Flower, Heliconia sp.     \n",
       "30     CMQ    AVI    0.028828 Quercus sp.               \n",
       "<U+22EE> <U+22EE> <U+22EE> <U+22EE> <U+22EE>                  \n",
       "81     AKE    BTI    0.040569 Palm wine                 \n",
       "82     ANI    BTI    0.029020 Banana wine               \n",
       "83     AVI    BTI    0.028958 Soil beneath Quercus rubra\n",
       "84     BAK    BTI    0.041844 Bark, Quercus wutaishanica\n",
       "85     BAN    BTI    0.037151 Rotten wood               \n",
       "86     BAP    BTI    0.036860 Soil                      \n",
       "87     BET    BTI    0.033140 Seawater in harbour       \n",
       "88     BFP    BTI    0.032708 Quercus sp.               \n",
       "89     CCD    BTI    0.028753 Flower, Heliconia sp.     \n",
       "90     CMQ    BTI    0.028610 Quercus sp.               \n",
       "91     AKE    CCD    0.038407 Palm wine                 \n",
       "92     ANI    CCD    0.029054 Banana wine               \n",
       "93     AVI    CCD    0.029003 Soil beneath Quercus rubra\n",
       "94     BAK    CCD    0.040415 Bark, Quercus wutaishanica\n",
       "95     BAN    CCD    0.026724 Rotten wood               \n",
       "96     BAP    CCD    0.024996 Soil                      \n",
       "97     BET    CCD    0.044927 Seawater in harbour       \n",
       "98     BFP    CCD    0.041533 Quercus sp.               \n",
       "99     BTI    CCD    0.028753 Quercus robur             \n",
       "100    CMQ    CCD    0.000486 Quercus sp.               \n",
       "101    AKE    CMQ    0.038252 Palm wine                 \n",
       "102    ANI    CMQ    0.028896 Banana wine               \n",
       "103    AVI    CMQ    0.028828 Soil beneath Quercus rubra\n",
       "104    BAK    CMQ    0.040279 Bark, Quercus wutaishanica\n",
       "105    BAN    CMQ    0.026731 Rotten wood               \n",
       "106    BAP    CMQ    0.024993 Soil                      \n",
       "107    BET    CMQ    0.044748 Seawater in harbour       \n",
       "108    BFP    CMQ    0.041347 Quercus sp.               \n",
       "109    BTI    CMQ    0.028610 Quercus robur             \n",
       "110    CCD    CMQ    0.000486 Flower, Heliconia sp.     \n",
       "       Geographical Origin.x                  Ecological origin.y       \n",
       "1      Pennsylvania, USA                      Palm wine                 \n",
       "2      Pennsylvania, USA                      Palm wine                 \n",
       "3      Dongling Mountain, Beijing, china      Palm wine                 \n",
       "4      Wuzhi Mountain, Hainan province, China Palm wine                 \n",
       "5      Wuzhi Mountain, Hainan province, China Palm wine                 \n",
       "6      Koper, Slovenia                        Palm wine                 \n",
       "7      Montenegro                             Palm wine                 \n",
       "8      Vancouver, Canada                      Palm wine                 \n",
       "9      Yasuni, Orellana                       Palm wine                 \n",
       "10     Pennsylvania, USA                      Palm wine                 \n",
       "11     Nigeria                                Banana wine               \n",
       "12     Pennsylvania, USA                      Banana wine               \n",
       "13     Dongling Mountain, Beijing, china      Banana wine               \n",
       "14     Wuzhi Mountain, Hainan province, China Banana wine               \n",
       "15     Wuzhi Mountain, Hainan province, China Banana wine               \n",
       "16     Koper, Slovenia                        Banana wine               \n",
       "17     Montenegro                             Banana wine               \n",
       "18     Vancouver, Canada                      Banana wine               \n",
       "19     Yasuni, Orellana                       Banana wine               \n",
       "20     Pennsylvania, USA                      Banana wine               \n",
       "21     Nigeria                                Soil beneath Quercus rubra\n",
       "22     Pennsylvania, USA                      Soil beneath Quercus rubra\n",
       "23     Dongling Mountain, Beijing, china      Soil beneath Quercus rubra\n",
       "24     Wuzhi Mountain, Hainan province, China Soil beneath Quercus rubra\n",
       "25     Wuzhi Mountain, Hainan province, China Soil beneath Quercus rubra\n",
       "26     Koper, Slovenia                        Soil beneath Quercus rubra\n",
       "27     Montenegro                             Soil beneath Quercus rubra\n",
       "28     Vancouver, Canada                      Soil beneath Quercus rubra\n",
       "29     Yasuni, Orellana                       Soil beneath Quercus rubra\n",
       "30     Pennsylvania, USA                      Soil beneath Quercus rubra\n",
       "<U+22EE> <U+22EE>                               <U+22EE>                  \n",
       "81     Nigeria                                Quercus robur             \n",
       "82     Pennsylvania, USA                      Quercus robur             \n",
       "83     Pennsylvania, USA                      Quercus robur             \n",
       "84     Dongling Mountain, Beijing, china      Quercus robur             \n",
       "85     Wuzhi Mountain, Hainan province, China Quercus robur             \n",
       "86     Wuzhi Mountain, Hainan province, China Quercus robur             \n",
       "87     Koper, Slovenia                        Quercus robur             \n",
       "88     Montenegro                             Quercus robur             \n",
       "89     Yasuni, Orellana                       Quercus robur             \n",
       "90     Pennsylvania, USA                      Quercus robur             \n",
       "91     Nigeria                                Flower, Heliconia sp.     \n",
       "92     Pennsylvania, USA                      Flower, Heliconia sp.     \n",
       "93     Pennsylvania, USA                      Flower, Heliconia sp.     \n",
       "94     Dongling Mountain, Beijing, china      Flower, Heliconia sp.     \n",
       "95     Wuzhi Mountain, Hainan province, China Flower, Heliconia sp.     \n",
       "96     Wuzhi Mountain, Hainan province, China Flower, Heliconia sp.     \n",
       "97     Koper, Slovenia                        Flower, Heliconia sp.     \n",
       "98     Montenegro                             Flower, Heliconia sp.     \n",
       "99     Vancouver, Canada                      Flower, Heliconia sp.     \n",
       "100    Pennsylvania, USA                      Flower, Heliconia sp.     \n",
       "101    Nigeria                                Quercus sp.               \n",
       "102    Pennsylvania, USA                      Quercus sp.               \n",
       "103    Pennsylvania, USA                      Quercus sp.               \n",
       "104    Dongling Mountain, Beijing, china      Quercus sp.               \n",
       "105    Wuzhi Mountain, Hainan province, China Quercus sp.               \n",
       "106    Wuzhi Mountain, Hainan province, China Quercus sp.               \n",
       "107    Koper, Slovenia                        Quercus sp.               \n",
       "108    Montenegro                             Quercus sp.               \n",
       "109    Vancouver, Canada                      Quercus sp.               \n",
       "110    Yasuni, Orellana                       Quercus sp.               \n",
       "       Geographical Origin.y\n",
       "1      Nigeria              \n",
       "2      Nigeria              \n",
       "3      Nigeria              \n",
       "4      Nigeria              \n",
       "5      Nigeria              \n",
       "6      Nigeria              \n",
       "7      Nigeria              \n",
       "8      Nigeria              \n",
       "9      Nigeria              \n",
       "10     Nigeria              \n",
       "11     Pennsylvania, USA    \n",
       "12     Pennsylvania, USA    \n",
       "13     Pennsylvania, USA    \n",
       "14     Pennsylvania, USA    \n",
       "15     Pennsylvania, USA    \n",
       "16     Pennsylvania, USA    \n",
       "17     Pennsylvania, USA    \n",
       "18     Pennsylvania, USA    \n",
       "19     Pennsylvania, USA    \n",
       "20     Pennsylvania, USA    \n",
       "21     Pennsylvania, USA    \n",
       "22     Pennsylvania, USA    \n",
       "23     Pennsylvania, USA    \n",
       "24     Pennsylvania, USA    \n",
       "25     Pennsylvania, USA    \n",
       "26     Pennsylvania, USA    \n",
       "27     Pennsylvania, USA    \n",
       "28     Pennsylvania, USA    \n",
       "29     Pennsylvania, USA    \n",
       "30     Pennsylvania, USA    \n",
       "<U+22EE> <U+22EE>             \n",
       "81     Vancouver, Canada    \n",
       "82     Vancouver, Canada    \n",
       "83     Vancouver, Canada    \n",
       "84     Vancouver, Canada    \n",
       "85     Vancouver, Canada    \n",
       "86     Vancouver, Canada    \n",
       "87     Vancouver, Canada    \n",
       "88     Vancouver, Canada    \n",
       "89     Vancouver, Canada    \n",
       "90     Vancouver, Canada    \n",
       "91     Yasuni, Orellana     \n",
       "92     Yasuni, Orellana     \n",
       "93     Yasuni, Orellana     \n",
       "94     Yasuni, Orellana     \n",
       "95     Yasuni, Orellana     \n",
       "96     Yasuni, Orellana     \n",
       "97     Yasuni, Orellana     \n",
       "98     Yasuni, Orellana     \n",
       "99     Yasuni, Orellana     \n",
       "100    Yasuni, Orellana     \n",
       "101    Pennsylvania, USA    \n",
       "102    Pennsylvania, USA    \n",
       "103    Pennsylvania, USA    \n",
       "104    Pennsylvania, USA    \n",
       "105    Pennsylvania, USA    \n",
       "106    Pennsylvania, USA    \n",
       "107    Pennsylvania, USA    \n",
       "108    Pennsylvania, USA    \n",
       "109    Pennsylvania, USA    \n",
       "110    Pennsylvania, USA    "
      ]
     },
     "metadata": {},
     "output_type": "display_data"
    }
   ],
   "source": [
    "all_comparisons=left_join(all_comparisons,subset(Ecology, select=c(\"Standard ID\",\"Ecological origin\",\"Geographical Origin\")),\n",
    "                          by=c(\"row\"=\"Standard ID\"))\n",
    "                          all_comparisons=left_join(all_comparisons,subset(Ecology, select=c(\"Standard ID\",\"Ecological origin\",\"Geographical Origin\")),\n",
    "                          by=c(\"col\"=\"Standard ID\"))\n",
    "all_comparisons"
   ]
  },
  {
   "cell_type": "code",
   "execution_count": 172,
   "id": "bac6d1c7",
   "metadata": {},
   "outputs": [
    {
     "data": {
      "text/html": [
       "39"
      ],
      "text/latex": [
       "39"
      ],
      "text/markdown": [
       "39"
      ],
      "text/plain": [
       "[1] 39"
      ]
     },
     "metadata": {},
     "output_type": "display_data"
    }
   ],
   "source": [
    "all_comparisons=subset(all_comparisons, dist>0.03)\n",
    "all_comparisons$dup=NA\n",
    "for(i in 1:nrow(all_comparisons)){\n",
    "    all_comparisons$dup[i]=which(paste(all_comparisons$col,all_comparisons$row) == paste(all_comparisons$row[i],all_comparisons$col[i]))\n",
    "}\n",
    "all_comparisons$nrow=1:nrow(all_comparisons)\n",
    "all_comparisons=all_comparisons[all_comparisons$dup < all_comparisons$nrow,]\n",
    "nrow(all_comparisons)"
   ]
  },
  {
   "cell_type": "code",
   "execution_count": 173,
   "id": "49271580",
   "metadata": {},
   "outputs": [
    {
     "data": {
      "text/html": [
       "11"
      ],
      "text/latex": [
       "11"
      ],
      "text/markdown": [
       "11"
      ],
      "text/plain": [
       "[1] 11"
      ]
     },
     "metadata": {},
     "output_type": "display_data"
    }
   ],
   "source": [
    "IDs=unique(c(all_comparisons$row,all_comparisons$col))\n",
    "length(IDs)"
   ]
  },
  {
   "cell_type": "code",
   "execution_count": 174,
   "id": "6dfb6c20",
   "metadata": {},
   "outputs": [
    {
     "data": {
      "text/plain": [
       "   Mode   FALSE \n",
       "logical      39 "
      ]
     },
     "metadata": {},
     "output_type": "display_data"
    }
   ],
   "source": [
    "summary(paste(all_comparisons$row,all_comparisons$col) %in%\n",
    "       c(paste(chris_crosses$sample1,chris_crosses$sample2),paste(chris_crosses$sample2,chris_crosses$sample1)))"
   ]
  },
  {
   "cell_type": "code",
   "execution_count": 175,
   "id": "0b4ff146",
   "metadata": {},
   "outputs": [],
   "source": [
    "IDs_dup<-unique(c(chris_crosses$sample1,chris_crosses$sample2))[unique(c(chris_crosses$sample1,chris_crosses$sample2)) %in% IDs]"
   ]
  },
  {
   "cell_type": "code",
   "execution_count": 176,
   "id": "523e4291",
   "metadata": {},
   "outputs": [
    {
     "data": {
      "text/html": [
       "<style>\n",
       ".list-inline {list-style: none; margin:0; padding: 0}\n",
       ".list-inline>li {display: inline-block}\n",
       ".list-inline>li:not(:last-child)::after {content: \"\\00b7\"; padding: 0 .5ex}\n",
       "</style>\n",
       "<ol class=list-inline><li>'ANI'</li><li>'AVI'</li><li>'BAK'</li><li>'BAN'</li><li>'BET'</li><li>'BTI'</li><li>'CMQ'</li></ol>\n"
      ],
      "text/latex": [
       "\\begin{enumerate*}\n",
       "\\item 'ANI'\n",
       "\\item 'AVI'\n",
       "\\item 'BAK'\n",
       "\\item 'BAN'\n",
       "\\item 'BET'\n",
       "\\item 'BTI'\n",
       "\\item 'CMQ'\n",
       "\\end{enumerate*}\n"
      ],
      "text/markdown": [
       "1. 'ANI'\n",
       "2. 'AVI'\n",
       "3. 'BAK'\n",
       "4. 'BAN'\n",
       "5. 'BET'\n",
       "6. 'BTI'\n",
       "7. 'CMQ'\n",
       "\n",
       "\n"
      ],
      "text/plain": [
       "[1] \"ANI\" \"AVI\" \"BAK\" \"BAN\" \"BET\" \"BTI\" \"CMQ\""
      ]
     },
     "metadata": {},
     "output_type": "display_data"
    }
   ],
   "source": [
    "IDs=IDs[!(IDs%in%IDs_dup)]\n",
    "IDs"
   ]
  },
  {
   "cell_type": "code",
   "execution_count": 180,
   "id": "982e7c73",
   "metadata": {},
   "outputs": [
    {
     "data": {
      "image/png": "[encoded data removed]",
      "text/plain": [
       "plot without title"
      ]
     },
     "metadata": {
      "image/png": {
       "height": 180,
       "width": 180
      }
     },
     "output_type": "display_data"
    }
   ],
   "source": [
    "x=list(a=SV_filter,b=Matrix_filter,c=polyploidy_filter,d=unique(c(all_comparisons$row,all_comparisons$col)),e=IDs)\n",
    "options(repr.plot.width=3, repr.plot.height=3)\n",
    "display_venn(x)"
   ]
  },
  {
   "cell_type": "code",
   "execution_count": 178,
   "id": "eec569c2",
   "metadata": {},
   "outputs": [
    {
     "data": {
      "text/html": [
       "<table class=\"dataframe\">\n",
       "<caption>A data.frame: 14 × 9</caption>\n",
       "<thead>\n",
       "\t<tr><th></th><th scope=col>row</th><th scope=col>col</th><th scope=col>dist</th><th scope=col>Ecological origin.x</th><th scope=col>Geographical Origin.x</th><th scope=col>Ecological origin.y</th><th scope=col>Geographical Origin.y</th><th scope=col>dup</th><th scope=col>nrow</th></tr>\n",
       "\t<tr><th></th><th scope=col>&lt;chr&gt;</th><th scope=col>&lt;chr&gt;</th><th scope=col>&lt;dbl&gt;</th><th scope=col>&lt;chr&gt;</th><th scope=col>&lt;chr&gt;</th><th scope=col>&lt;chr&gt;</th><th scope=col>&lt;chr&gt;</th><th scope=col>&lt;int&gt;</th><th scope=col>&lt;int&gt;</th></tr>\n",
       "</thead>\n",
       "<tbody>\n",
       "\t<tr><th scope=row>32</th><td>ANI</td><td>BAK</td><td>0.038429</td><td>Banana wine               </td><td>Pennsylvania, USA                     </td><td>Bark, Quercus wutaishanica</td><td>Dongling Mountain, Beijing, china     </td><td>12</td><td>24</td></tr>\n",
       "\t<tr><th scope=row>33</th><td>AVI</td><td>BAK</td><td>0.038418</td><td>Soil beneath Quercus rubra</td><td>Pennsylvania, USA                     </td><td>Bark, Quercus wutaishanica</td><td>Dongling Mountain, Beijing, china     </td><td>18</td><td>25</td></tr>\n",
       "\t<tr><th scope=row>42</th><td>ANI</td><td>BAN</td><td>0.034167</td><td>Banana wine               </td><td>Pennsylvania, USA                     </td><td>Rotten wood               </td><td>Wuzhi Mountain, Hainan province, China</td><td>13</td><td>34</td></tr>\n",
       "\t<tr><th scope=row>43</th><td>AVI</td><td>BAN</td><td>0.034107</td><td>Soil beneath Quercus rubra</td><td>Pennsylvania, USA                     </td><td>Rotten wood               </td><td>Wuzhi Mountain, Hainan province, China</td><td>19</td><td>35</td></tr>\n",
       "\t<tr><th scope=row>44</th><td>BAK</td><td>BAN</td><td>0.042321</td><td>Bark, Quercus wutaishanica</td><td>Dongling Mountain, Beijing, china     </td><td>Rotten wood               </td><td>Wuzhi Mountain, Hainan province, China</td><td>26</td><td>36</td></tr>\n",
       "\t<tr><th scope=row>62</th><td>ANI</td><td>BET</td><td>0.043361</td><td>Banana wine               </td><td>Pennsylvania, USA                     </td><td>Seawater in harbour       </td><td>Koper, Slovenia                       </td><td>15</td><td>48</td></tr>\n",
       "\t<tr><th scope=row>63</th><td>AVI</td><td>BET</td><td>0.043272</td><td>Soil beneath Quercus rubra</td><td>Pennsylvania, USA                     </td><td>Seawater in harbour       </td><td>Koper, Slovenia                       </td><td>21</td><td>49</td></tr>\n",
       "\t<tr><th scope=row>64</th><td>BAK</td><td>BET</td><td>0.047700</td><td>Bark, Quercus wutaishanica</td><td>Dongling Mountain, Beijing, china     </td><td>Seawater in harbour       </td><td>Koper, Slovenia                       </td><td>28</td><td>50</td></tr>\n",
       "\t<tr><th scope=row>65</th><td>BAN</td><td>BET</td><td>0.047076</td><td>Rotten wood               </td><td>Wuzhi Mountain, Hainan province, China</td><td>Seawater in harbour       </td><td>Koper, Slovenia                       </td><td>37</td><td>51</td></tr>\n",
       "\t<tr><th scope=row>84</th><td>BAK</td><td>BTI</td><td>0.041844</td><td>Bark, Quercus wutaishanica</td><td>Dongling Mountain, Beijing, china     </td><td>Quercus robur             </td><td>Vancouver, Canada                     </td><td>30</td><td>66</td></tr>\n",
       "\t<tr><th scope=row>85</th><td>BAN</td><td>BTI</td><td>0.037151</td><td>Rotten wood               </td><td>Wuzhi Mountain, Hainan province, China</td><td>Quercus robur             </td><td>Vancouver, Canada                     </td><td>39</td><td>67</td></tr>\n",
       "\t<tr><th scope=row>87</th><td>BET</td><td>BTI</td><td>0.033140</td><td>Seawater in harbour       </td><td>Koper, Slovenia                       </td><td>Quercus robur             </td><td>Vancouver, Canada                     </td><td>53</td><td>69</td></tr>\n",
       "\t<tr><th scope=row>104</th><td>BAK</td><td>CMQ</td><td>0.040279</td><td>Bark, Quercus wutaishanica</td><td>Dongling Mountain, Beijing, china     </td><td>Quercus sp.               </td><td>Pennsylvania, USA                     </td><td>32</td><td>76</td></tr>\n",
       "\t<tr><th scope=row>107</th><td>BET</td><td>CMQ</td><td>0.044748</td><td>Seawater in harbour       </td><td>Koper, Slovenia                       </td><td>Quercus sp.               </td><td>Pennsylvania, USA                     </td><td>55</td><td>77</td></tr>\n",
       "</tbody>\n",
       "</table>\n"
      ],
      "text/latex": [
       "A data.frame: 14 × 9\n",
       "\\begin{tabular}{r|lllllllll}\n",
       "  & row & col & dist & Ecological origin.x & Geographical Origin.x & Ecological origin.y & Geographical Origin.y & dup & nrow\\\\\n",
       "  & <chr> & <chr> & <dbl> & <chr> & <chr> & <chr> & <chr> & <int> & <int>\\\\\n",
       "\\hline\n",
       "\t32 & ANI & BAK & 0.038429 & Banana wine                & Pennsylvania, USA                      & Bark, Quercus wutaishanica & Dongling Mountain, Beijing, china      & 12 & 24\\\\\n",
       "\t33 & AVI & BAK & 0.038418 & Soil beneath Quercus rubra & Pennsylvania, USA                      & Bark, Quercus wutaishanica & Dongling Mountain, Beijing, china      & 18 & 25\\\\\n",
       "\t42 & ANI & BAN & 0.034167 & Banana wine                & Pennsylvania, USA                      & Rotten wood                & Wuzhi Mountain, Hainan province, China & 13 & 34\\\\\n",
       "\t43 & AVI & BAN & 0.034107 & Soil beneath Quercus rubra & Pennsylvania, USA                      & Rotten wood                & Wuzhi Mountain, Hainan province, China & 19 & 35\\\\\n",
       "\t44 & BAK & BAN & 0.042321 & Bark, Quercus wutaishanica & Dongling Mountain, Beijing, china      & Rotten wood                & Wuzhi Mountain, Hainan province, China & 26 & 36\\\\\n",
       "\t62 & ANI & BET & 0.043361 & Banana wine                & Pennsylvania, USA                      & Seawater in harbour        & Koper, Slovenia                        & 15 & 48\\\\\n",
       "\t63 & AVI & BET & 0.043272 & Soil beneath Quercus rubra & Pennsylvania, USA                      & Seawater in harbour        & Koper, Slovenia                        & 21 & 49\\\\\n",
       "\t64 & BAK & BET & 0.047700 & Bark, Quercus wutaishanica & Dongling Mountain, Beijing, china      & Seawater in harbour        & Koper, Slovenia                        & 28 & 50\\\\\n",
       "\t65 & BAN & BET & 0.047076 & Rotten wood                & Wuzhi Mountain, Hainan province, China & Seawater in harbour        & Koper, Slovenia                        & 37 & 51\\\\\n",
       "\t84 & BAK & BTI & 0.041844 & Bark, Quercus wutaishanica & Dongling Mountain, Beijing, china      & Quercus robur              & Vancouver, Canada                      & 30 & 66\\\\\n",
       "\t85 & BAN & BTI & 0.037151 & Rotten wood                & Wuzhi Mountain, Hainan province, China & Quercus robur              & Vancouver, Canada                      & 39 & 67\\\\\n",
       "\t87 & BET & BTI & 0.033140 & Seawater in harbour        & Koper, Slovenia                        & Quercus robur              & Vancouver, Canada                      & 53 & 69\\\\\n",
       "\t104 & BAK & CMQ & 0.040279 & Bark, Quercus wutaishanica & Dongling Mountain, Beijing, china      & Quercus sp.                & Pennsylvania, USA                      & 32 & 76\\\\\n",
       "\t107 & BET & CMQ & 0.044748 & Seawater in harbour        & Koper, Slovenia                        & Quercus sp.                & Pennsylvania, USA                      & 55 & 77\\\\\n",
       "\\end{tabular}\n"
      ],
      "text/markdown": [
       "\n",
       "A data.frame: 14 × 9\n",
       "\n",
       "| <!--/--> | row &lt;chr&gt; | col &lt;chr&gt; | dist &lt;dbl&gt; | Ecological origin.x &lt;chr&gt; | Geographical Origin.x &lt;chr&gt; | Ecological origin.y &lt;chr&gt; | Geographical Origin.y &lt;chr&gt; | dup &lt;int&gt; | nrow &lt;int&gt; |\n",
       "|---|---|---|---|---|---|---|---|---|---|\n",
       "| 32 | ANI | BAK | 0.038429 | Banana wine                | Pennsylvania, USA                      | Bark, Quercus wutaishanica | Dongling Mountain, Beijing, china      | 12 | 24 |\n",
       "| 33 | AVI | BAK | 0.038418 | Soil beneath Quercus rubra | Pennsylvania, USA                      | Bark, Quercus wutaishanica | Dongling Mountain, Beijing, china      | 18 | 25 |\n",
       "| 42 | ANI | BAN | 0.034167 | Banana wine                | Pennsylvania, USA                      | Rotten wood                | Wuzhi Mountain, Hainan province, China | 13 | 34 |\n",
       "| 43 | AVI | BAN | 0.034107 | Soil beneath Quercus rubra | Pennsylvania, USA                      | Rotten wood                | Wuzhi Mountain, Hainan province, China | 19 | 35 |\n",
       "| 44 | BAK | BAN | 0.042321 | Bark, Quercus wutaishanica | Dongling Mountain, Beijing, china      | Rotten wood                | Wuzhi Mountain, Hainan province, China | 26 | 36 |\n",
       "| 62 | ANI | BET | 0.043361 | Banana wine                | Pennsylvania, USA                      | Seawater in harbour        | Koper, Slovenia                        | 15 | 48 |\n",
       "| 63 | AVI | BET | 0.043272 | Soil beneath Quercus rubra | Pennsylvania, USA                      | Seawater in harbour        | Koper, Slovenia                        | 21 | 49 |\n",
       "| 64 | BAK | BET | 0.047700 | Bark, Quercus wutaishanica | Dongling Mountain, Beijing, china      | Seawater in harbour        | Koper, Slovenia                        | 28 | 50 |\n",
       "| 65 | BAN | BET | 0.047076 | Rotten wood                | Wuzhi Mountain, Hainan province, China | Seawater in harbour        | Koper, Slovenia                        | 37 | 51 |\n",
       "| 84 | BAK | BTI | 0.041844 | Bark, Quercus wutaishanica | Dongling Mountain, Beijing, china      | Quercus robur              | Vancouver, Canada                      | 30 | 66 |\n",
       "| 85 | BAN | BTI | 0.037151 | Rotten wood                | Wuzhi Mountain, Hainan province, China | Quercus robur              | Vancouver, Canada                      | 39 | 67 |\n",
       "| 87 | BET | BTI | 0.033140 | Seawater in harbour        | Koper, Slovenia                        | Quercus robur              | Vancouver, Canada                      | 53 | 69 |\n",
       "| 104 | BAK | CMQ | 0.040279 | Bark, Quercus wutaishanica | Dongling Mountain, Beijing, china      | Quercus sp.                | Pennsylvania, USA                      | 32 | 76 |\n",
       "| 107 | BET | CMQ | 0.044748 | Seawater in harbour        | Koper, Slovenia                        | Quercus sp.                | Pennsylvania, USA                      | 55 | 77 |\n",
       "\n"
      ],
      "text/plain": [
       "    row col dist     Ecological origin.x       \n",
       "32  ANI BAK 0.038429 Banana wine               \n",
       "33  AVI BAK 0.038418 Soil beneath Quercus rubra\n",
       "42  ANI BAN 0.034167 Banana wine               \n",
       "43  AVI BAN 0.034107 Soil beneath Quercus rubra\n",
       "44  BAK BAN 0.042321 Bark, Quercus wutaishanica\n",
       "62  ANI BET 0.043361 Banana wine               \n",
       "63  AVI BET 0.043272 Soil beneath Quercus rubra\n",
       "64  BAK BET 0.047700 Bark, Quercus wutaishanica\n",
       "65  BAN BET 0.047076 Rotten wood               \n",
       "84  BAK BTI 0.041844 Bark, Quercus wutaishanica\n",
       "85  BAN BTI 0.037151 Rotten wood               \n",
       "87  BET BTI 0.033140 Seawater in harbour       \n",
       "104 BAK CMQ 0.040279 Bark, Quercus wutaishanica\n",
       "107 BET CMQ 0.044748 Seawater in harbour       \n",
       "    Geographical Origin.x                  Ecological origin.y       \n",
       "32  Pennsylvania, USA                      Bark, Quercus wutaishanica\n",
       "33  Pennsylvania, USA                      Bark, Quercus wutaishanica\n",
       "42  Pennsylvania, USA                      Rotten wood               \n",
       "43  Pennsylvania, USA                      Rotten wood               \n",
       "44  Dongling Mountain, Beijing, china      Rotten wood               \n",
       "62  Pennsylvania, USA                      Seawater in harbour       \n",
       "63  Pennsylvania, USA                      Seawater in harbour       \n",
       "64  Dongling Mountain, Beijing, china      Seawater in harbour       \n",
       "65  Wuzhi Mountain, Hainan province, China Seawater in harbour       \n",
       "84  Dongling Mountain, Beijing, china      Quercus robur             \n",
       "85  Wuzhi Mountain, Hainan province, China Quercus robur             \n",
       "87  Koper, Slovenia                        Quercus robur             \n",
       "104 Dongling Mountain, Beijing, china      Quercus sp.               \n",
       "107 Koper, Slovenia                        Quercus sp.               \n",
       "    Geographical Origin.y                  dup nrow\n",
       "32  Dongling Mountain, Beijing, china      12  24  \n",
       "33  Dongling Mountain, Beijing, china      18  25  \n",
       "42  Wuzhi Mountain, Hainan province, China 13  34  \n",
       "43  Wuzhi Mountain, Hainan province, China 19  35  \n",
       "44  Wuzhi Mountain, Hainan province, China 26  36  \n",
       "62  Koper, Slovenia                        15  48  \n",
       "63  Koper, Slovenia                        21  49  \n",
       "64  Koper, Slovenia                        28  50  \n",
       "65  Koper, Slovenia                        37  51  \n",
       "84  Vancouver, Canada                      30  66  \n",
       "85  Vancouver, Canada                      39  67  \n",
       "87  Vancouver, Canada                      53  69  \n",
       "104 Pennsylvania, USA                      32  76  \n",
       "107 Pennsylvania, USA                      55  77  "
      ]
     },
     "metadata": {},
     "output_type": "display_data"
    }
   ],
   "source": [
    "all_comparisons=subset(all_comparisons, col%in%IDs & row%in%IDs)\n",
    "all_comparisons"
   ]
  },
  {
   "cell_type": "code",
   "execution_count": 182,
   "id": "370e876f",
   "metadata": {},
   "outputs": [
    {
     "data": {
      "image/png": "[encoded data removed]",
      "text/plain": [
       "plot without title"
      ]
     },
     "metadata": {
      "image/png": {
       "height": 180,
       "width": 180
      }
     },
     "output_type": "display_data"
    }
   ],
   "source": [
    "ggplot(mapping=aes(c(all_comparisons$row,all_comparisons$col)))+\n",
    "geom_bar()+\n",
    "xlab(\"Strain\")+\n",
    "ylab(\"In number of prosp. crosses\")"
   ]
  },
  {
   "cell_type": "code",
   "execution_count": 183,
   "id": "e7c2c01e",
   "metadata": {},
   "outputs": [],
   "source": [
    "all_comparisons=all_comparisons[order(all_comparisons$dist,decreasing = TRUE),]"
   ]
  },
  {
   "cell_type": "code",
   "execution_count": 184,
   "id": "1b6c59f3",
   "metadata": {},
   "outputs": [],
   "source": [
    "all_comparisons$unique=FALSE\n",
    "for(i in 1:nrow(all_comparisons)){\n",
    "    if(i == 1){\n",
    "        all_comparisons$unique[i]=TRUE\n",
    "    }else{\n",
    "        all_comparisons_unique=all_comparisons[1:(i-1),]\n",
    "        all_comparisons_unique=subset(all_comparisons_unique, unique==TRUE)\n",
    "        previous_IDs=unique(c(all_comparisons_unique$row,all_comparisons_unique$col))\n",
    "        if(!(all_comparisons$row[i] %in% previous_IDs) & !(all_comparisons$col[i] %in% previous_IDs)){\n",
    "            all_comparisons$unique[i]=TRUE\n",
    "        }\n",
    "    }\n",
    "}"
   ]
  },
  {
   "cell_type": "code",
   "execution_count": 185,
   "id": "7ace60df",
   "metadata": {},
   "outputs": [
    {
     "data": {
      "text/html": [
       "<table class=\"dataframe\">\n",
       "<caption>A data.frame: 2 × 10</caption>\n",
       "<thead>\n",
       "\t<tr><th></th><th scope=col>row</th><th scope=col>col</th><th scope=col>dist</th><th scope=col>Ecological origin.x</th><th scope=col>Geographical Origin.x</th><th scope=col>Ecological origin.y</th><th scope=col>Geographical Origin.y</th><th scope=col>dup</th><th scope=col>nrow</th><th scope=col>unique</th></tr>\n",
       "\t<tr><th></th><th scope=col>&lt;chr&gt;</th><th scope=col>&lt;chr&gt;</th><th scope=col>&lt;dbl&gt;</th><th scope=col>&lt;chr&gt;</th><th scope=col>&lt;chr&gt;</th><th scope=col>&lt;chr&gt;</th><th scope=col>&lt;chr&gt;</th><th scope=col>&lt;int&gt;</th><th scope=col>&lt;int&gt;</th><th scope=col>&lt;lgl&gt;</th></tr>\n",
       "</thead>\n",
       "<tbody>\n",
       "\t<tr><th scope=row>64</th><td>BAK</td><td>BET</td><td>0.047700</td><td>Bark, Quercus wutaishanica</td><td>Dongling Mountain, Beijing, china     </td><td>Seawater in harbour</td><td>Koper, Slovenia  </td><td>28</td><td>50</td><td>TRUE</td></tr>\n",
       "\t<tr><th scope=row>85</th><td>BAN</td><td>BTI</td><td>0.037151</td><td>Rotten wood               </td><td>Wuzhi Mountain, Hainan province, China</td><td>Quercus robur      </td><td>Vancouver, Canada</td><td>39</td><td>67</td><td>TRUE</td></tr>\n",
       "</tbody>\n",
       "</table>\n"
      ],
      "text/latex": [
       "A data.frame: 2 × 10\n",
       "\\begin{tabular}{r|llllllllll}\n",
       "  & row & col & dist & Ecological origin.x & Geographical Origin.x & Ecological origin.y & Geographical Origin.y & dup & nrow & unique\\\\\n",
       "  & <chr> & <chr> & <dbl> & <chr> & <chr> & <chr> & <chr> & <int> & <int> & <lgl>\\\\\n",
       "\\hline\n",
       "\t64 & BAK & BET & 0.047700 & Bark, Quercus wutaishanica & Dongling Mountain, Beijing, china      & Seawater in harbour & Koper, Slovenia   & 28 & 50 & TRUE\\\\\n",
       "\t85 & BAN & BTI & 0.037151 & Rotten wood                & Wuzhi Mountain, Hainan province, China & Quercus robur       & Vancouver, Canada & 39 & 67 & TRUE\\\\\n",
       "\\end{tabular}\n"
      ],
      "text/markdown": [
       "\n",
       "A data.frame: 2 × 10\n",
       "\n",
       "| <!--/--> | row &lt;chr&gt; | col &lt;chr&gt; | dist &lt;dbl&gt; | Ecological origin.x &lt;chr&gt; | Geographical Origin.x &lt;chr&gt; | Ecological origin.y &lt;chr&gt; | Geographical Origin.y &lt;chr&gt; | dup &lt;int&gt; | nrow &lt;int&gt; | unique &lt;lgl&gt; |\n",
       "|---|---|---|---|---|---|---|---|---|---|---|\n",
       "| 64 | BAK | BET | 0.047700 | Bark, Quercus wutaishanica | Dongling Mountain, Beijing, china      | Seawater in harbour | Koper, Slovenia   | 28 | 50 | TRUE |\n",
       "| 85 | BAN | BTI | 0.037151 | Rotten wood                | Wuzhi Mountain, Hainan province, China | Quercus robur       | Vancouver, Canada | 39 | 67 | TRUE |\n",
       "\n"
      ],
      "text/plain": [
       "   row col dist     Ecological origin.x       \n",
       "64 BAK BET 0.047700 Bark, Quercus wutaishanica\n",
       "85 BAN BTI 0.037151 Rotten wood               \n",
       "   Geographical Origin.x                  Ecological origin.y\n",
       "64 Dongling Mountain, Beijing, china      Seawater in harbour\n",
       "85 Wuzhi Mountain, Hainan province, China Quercus robur      \n",
       "   Geographical Origin.y dup nrow unique\n",
       "64 Koper, Slovenia       28  50   TRUE  \n",
       "85 Vancouver, Canada     39  67   TRUE  "
      ]
     },
     "metadata": {},
     "output_type": "display_data"
    }
   ],
   "source": [
    "all_comparisons_unique=subset(all_comparisons, unique==TRUE)\n",
    "all_comparisons_unique"
   ]
  },
  {
   "cell_type": "code",
   "execution_count": 158,
   "id": "23b913a2",
   "metadata": {},
   "outputs": [],
   "source": [
    "IDs=IDs[IDs%in%c(all_comparisons_unique$row,all_comparisons_unique$col)]"
   ]
  },
  {
   "cell_type": "code",
   "execution_count": 159,
   "id": "11730a9f",
   "metadata": {},
   "outputs": [
    {
     "data": {
      "image/png": "[encoded data removed]",
      "text/plain": [
       "plot without title"
      ]
     },
     "metadata": {
      "image/png": {
       "height": 300,
       "width": 600
      }
     },
     "output_type": "display_data"
    }
   ],
   "source": [
    "options(repr.plot.width=10, repr.plot.height=5)\n",
    "ggplot(asd2d_data, aes(x,y,color=ID%in%IDs))+\n",
    "geom_point(alpha=0.8)+\n",
    "facet_wrap(~(ID%in%IDs))"
   ]
  },
  {
   "cell_type": "code",
   "execution_count": 160,
   "id": "e48647e1",
   "metadata": {},
   "outputs": [
    {
     "data": {
      "text/html": [
       "<table class=\"dataframe\">\n",
       "<caption>A tibble: 4 × 2</caption>\n",
       "<thead>\n",
       "\t<tr><th scope=col>Geographical Origin</th><th scope=col>n</th></tr>\n",
       "\t<tr><th scope=col>&lt;chr&gt;</th><th scope=col>&lt;int&gt;</th></tr>\n",
       "</thead>\n",
       "<tbody>\n",
       "\t<tr><td>Dongling Mountain, Beijing, china     </td><td>1</td></tr>\n",
       "\t<tr><td>Koper, Slovenia                       </td><td>1</td></tr>\n",
       "\t<tr><td>Vancouver, Canada                     </td><td>1</td></tr>\n",
       "\t<tr><td>Wuzhi Mountain, Hainan province, China</td><td>1</td></tr>\n",
       "</tbody>\n",
       "</table>\n"
      ],
      "text/latex": [
       "A tibble: 4 × 2\n",
       "\\begin{tabular}{ll}\n",
       " Geographical Origin & n\\\\\n",
       " <chr> & <int>\\\\\n",
       "\\hline\n",
       "\t Dongling Mountain, Beijing, china      & 1\\\\\n",
       "\t Koper, Slovenia                        & 1\\\\\n",
       "\t Vancouver, Canada                      & 1\\\\\n",
       "\t Wuzhi Mountain, Hainan province, China & 1\\\\\n",
       "\\end{tabular}\n"
      ],
      "text/markdown": [
       "\n",
       "A tibble: 4 × 2\n",
       "\n",
       "| Geographical Origin &lt;chr&gt; | n &lt;int&gt; |\n",
       "|---|---|\n",
       "| Dongling Mountain, Beijing, china      | 1 |\n",
       "| Koper, Slovenia                        | 1 |\n",
       "| Vancouver, Canada                      | 1 |\n",
       "| Wuzhi Mountain, Hainan province, China | 1 |\n",
       "\n"
      ],
      "text/plain": [
       "  Geographical Origin                    n\n",
       "1 Dongling Mountain, Beijing, china      1\n",
       "2 Koper, Slovenia                        1\n",
       "3 Vancouver, Canada                      1\n",
       "4 Wuzhi Mountain, Hainan province, China 1"
      ]
     },
     "metadata": {},
     "output_type": "display_data"
    },
    {
     "data": {
      "text/html": [
       "<table class=\"dataframe\">\n",
       "<caption>A tibble: 4 × 2</caption>\n",
       "<thead>\n",
       "\t<tr><th scope=col>Ecological origin</th><th scope=col>n</th></tr>\n",
       "\t<tr><th scope=col>&lt;chr&gt;</th><th scope=col>&lt;int&gt;</th></tr>\n",
       "</thead>\n",
       "<tbody>\n",
       "\t<tr><td>Bark, Quercus wutaishanica</td><td>1</td></tr>\n",
       "\t<tr><td>Quercus robur             </td><td>1</td></tr>\n",
       "\t<tr><td>Rotten wood               </td><td>1</td></tr>\n",
       "\t<tr><td>Seawater in harbour       </td><td>1</td></tr>\n",
       "</tbody>\n",
       "</table>\n"
      ],
      "text/latex": [
       "A tibble: 4 × 2\n",
       "\\begin{tabular}{ll}\n",
       " Ecological origin & n\\\\\n",
       " <chr> & <int>\\\\\n",
       "\\hline\n",
       "\t Bark, Quercus wutaishanica & 1\\\\\n",
       "\t Quercus robur              & 1\\\\\n",
       "\t Rotten wood                & 1\\\\\n",
       "\t Seawater in harbour        & 1\\\\\n",
       "\\end{tabular}\n"
      ],
      "text/markdown": [
       "\n",
       "A tibble: 4 × 2\n",
       "\n",
       "| Ecological origin &lt;chr&gt; | n &lt;int&gt; |\n",
       "|---|---|\n",
       "| Bark, Quercus wutaishanica | 1 |\n",
       "| Quercus robur              | 1 |\n",
       "| Rotten wood                | 1 |\n",
       "| Seawater in harbour        | 1 |\n",
       "\n"
      ],
      "text/plain": [
       "  Ecological origin          n\n",
       "1 Bark, Quercus wutaishanica 1\n",
       "2 Quercus robur              1\n",
       "3 Rotten wood                1\n",
       "4 Seawater in harbour        1"
      ]
     },
     "metadata": {},
     "output_type": "display_data"
    }
   ],
   "source": [
    "# Ecology\n",
    "\n",
    "summarise(group_by(filter(Ecology, `Standard ID`%in%IDs), `Geographical Origin`),n=n())\n",
    "summarise(group_by(filter(Ecology, `Standard ID`%in%IDs), `Ecological origin`),n=n())"
   ]
  },
  {
   "cell_type": "code",
   "execution_count": 161,
   "id": "865fd21e",
   "metadata": {},
   "outputs": [
    {
     "name": "stderr",
     "output_type": "stream",
     "text": [
      "`summarise()` has grouped output by 'Geographical Origin'. You can override using the `.groups` argument.\n",
      "\n"
     ]
    },
    {
     "data": {
      "text/html": [
       "<table class=\"dataframe\">\n",
       "<caption>A grouped_df: 4 × 3</caption>\n",
       "<thead>\n",
       "\t<tr><th scope=col>Geographical Origin</th><th scope=col>Ecological origin</th><th scope=col>n</th></tr>\n",
       "\t<tr><th scope=col>&lt;chr&gt;</th><th scope=col>&lt;chr&gt;</th><th scope=col>&lt;int&gt;</th></tr>\n",
       "</thead>\n",
       "<tbody>\n",
       "\t<tr><td>Dongling Mountain, Beijing, china     </td><td>Bark, Quercus wutaishanica</td><td>1</td></tr>\n",
       "\t<tr><td>Koper, Slovenia                       </td><td>Seawater in harbour       </td><td>1</td></tr>\n",
       "\t<tr><td>Vancouver, Canada                     </td><td>Quercus robur             </td><td>1</td></tr>\n",
       "\t<tr><td>Wuzhi Mountain, Hainan province, China</td><td>Rotten wood               </td><td>1</td></tr>\n",
       "</tbody>\n",
       "</table>\n"
      ],
      "text/latex": [
       "A grouped\\_df: 4 × 3\n",
       "\\begin{tabular}{lll}\n",
       " Geographical Origin & Ecological origin & n\\\\\n",
       " <chr> & <chr> & <int>\\\\\n",
       "\\hline\n",
       "\t Dongling Mountain, Beijing, china      & Bark, Quercus wutaishanica & 1\\\\\n",
       "\t Koper, Slovenia                        & Seawater in harbour        & 1\\\\\n",
       "\t Vancouver, Canada                      & Quercus robur              & 1\\\\\n",
       "\t Wuzhi Mountain, Hainan province, China & Rotten wood                & 1\\\\\n",
       "\\end{tabular}\n"
      ],
      "text/markdown": [
       "\n",
       "A grouped_df: 4 × 3\n",
       "\n",
       "| Geographical Origin &lt;chr&gt; | Ecological origin &lt;chr&gt; | n &lt;int&gt; |\n",
       "|---|---|---|\n",
       "| Dongling Mountain, Beijing, china      | Bark, Quercus wutaishanica | 1 |\n",
       "| Koper, Slovenia                        | Seawater in harbour        | 1 |\n",
       "| Vancouver, Canada                      | Quercus robur              | 1 |\n",
       "| Wuzhi Mountain, Hainan province, China | Rotten wood                | 1 |\n",
       "\n"
      ],
      "text/plain": [
       "  Geographical Origin                    Ecological origin          n\n",
       "1 Dongling Mountain, Beijing, china      Bark, Quercus wutaishanica 1\n",
       "2 Koper, Slovenia                        Seawater in harbour        1\n",
       "3 Vancouver, Canada                      Quercus robur              1\n",
       "4 Wuzhi Mountain, Hainan province, China Rotten wood                1"
      ]
     },
     "metadata": {},
     "output_type": "display_data"
    }
   ],
   "source": [
    "summarise(group_by(filter(Ecology, `Standard ID`%in%IDs), `Geographical Origin`, `Ecological origin`),n=n())\n"
   ]
  },
  {
   "cell_type": "markdown",
   "id": "538b3562",
   "metadata": {},
   "source": [
    "# Would the best case so far be filtered out?"
   ]
  },
  {
   "cell_type": "code",
   "execution_count": 188,
   "id": "d663a70a",
   "metadata": {},
   "outputs": [
    {
     "data": {
      "text/html": [
       "FALSE"
      ],
      "text/latex": [
       "FALSE"
      ],
      "text/markdown": [
       "FALSE"
      ],
      "text/plain": [
       "[1] FALSE"
      ]
     },
     "metadata": {},
     "output_type": "display_data"
    },
    {
     "data": {
      "text/html": [
       "FALSE"
      ],
      "text/latex": [
       "FALSE"
      ],
      "text/markdown": [
       "FALSE"
      ],
      "text/plain": [
       "[1] FALSE"
      ]
     },
     "metadata": {},
     "output_type": "display_data"
    },
    {
     "data": {
      "text/html": [
       "TRUE"
      ],
      "text/latex": [
       "TRUE"
      ],
      "text/markdown": [
       "TRUE"
      ],
      "text/plain": [
       "[1] TRUE"
      ]
     },
     "metadata": {},
     "output_type": "display_data"
    },
    {
     "data": {
      "text/html": [
       "FALSE"
      ],
      "text/latex": [
       "FALSE"
      ],
      "text/markdown": [
       "FALSE"
      ],
      "text/plain": [
       "[1] FALSE"
      ]
     },
     "metadata": {},
     "output_type": "display_data"
    },
    {
     "data": {
      "text/html": [
       "FALSE"
      ],
      "text/latex": [
       "FALSE"
      ],
      "text/markdown": [
       "FALSE"
      ],
      "text/plain": [
       "[1] FALSE"
      ]
     },
     "metadata": {},
     "output_type": "display_data"
    },
    {
     "data": {
      "text/html": [
       "TRUE"
      ],
      "text/latex": [
       "TRUE"
      ],
      "text/markdown": [
       "TRUE"
      ],
      "text/plain": [
       "[1] TRUE"
      ]
     },
     "metadata": {},
     "output_type": "display_data"
    }
   ],
   "source": [
    "\"BAH\" %in% SV_filter # not tested\n",
    "\"BAH\" %in% Matrix_filter\n",
    "\"BAH\" %in% polyploidy_filter\n",
    "\n",
    "\"CGD\" %in% SV_filter # filtered out\n",
    "\"CGD\" %in% Matrix_filter\n",
    "\"CGD\" %in% polyploidy_filter"
   ]
  }
 ],
 "metadata": {
  "kernelspec": {
   "display_name": "R",
   "language": "R",
   "name": "ir"
  },
  "language_info": {
   "codemirror_mode": "r",
   "file_extension": ".r",
   "mimetype": "text/x-r-source",
   "name": "R",
   "pygments_lexer": "r",
   "version": "4.1.1"
  }
 },
 "nbformat": 4,
 "nbformat_minor": 5
}

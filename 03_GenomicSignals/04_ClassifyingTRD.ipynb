{
 "cells": [
  {
   "cell_type": "markdown",
   "id": "b46549b0-800c-4528-9f4c-fd5ae2a63242",
   "metadata": {},
   "source": [
    "Because the genomic signals were ineffective at broadly classifying the crossses and/or the TRD signals, I decided to use the signals themselves as classification ground. I set out to classify:\n",
    "\n",
    "- outliers (genomic signals / PCA)\n",
    "- strongest peaks\n",
    "- complex distortions (many (small) peaks)\n",
    "- unidirectional / bidirectional\n",
    "- … any other category?"
   ]
  },
  {
   "cell_type": "markdown",
   "id": "33d86d7d-dc43-4bd4-97fe-6aa7d9ec470a",
   "metadata": {
    "tags": []
   },
   "source": [
    "To do this, I am first just going from the data as most should be classifiable this way."
   ]
  },
  {
   "cell_type": "code",
   "execution_count": 1,
   "id": "dc4a54d6-fc14-4c28-b728-cded6123695b",
   "metadata": {
    "tags": []
   },
   "outputs": [
    {
     "name": "stderr",
     "output_type": "stream",
     "text": [
      "Warning message:\n",
      "\"package 'tidytable' was built under R version 4.1.3\"\n",
      "\n",
      "Attaching package: 'tidytable'\n",
      "\n",
      "\n",
      "The following objects are masked from 'package:stats':\n",
      "\n",
      "    dt, filter, lag\n",
      "\n",
      "\n",
      "The following object is masked from 'package:base':\n",
      "\n",
      "    %in%\n",
      "\n",
      "\n"
     ]
    }
   ],
   "source": [
    "library(tidytable)"
   ]
  },
  {
   "cell_type": "code",
   "execution_count": 2,
   "id": "4d84dedb-8d64-4521-8777-c170f3b063f1",
   "metadata": {
    "tags": []
   },
   "outputs": [],
   "source": [
    "One_Table<-fread(\"03_OneTable.csv.gz\")"
   ]
  },
  {
   "cell_type": "code",
   "execution_count": 3,
   "id": "250b2c66-3933-4ccc-8a8c-4b8bd23e760a",
   "metadata": {
    "tags": []
   },
   "outputs": [],
   "source": [
    "# add new peak AF data"
   ]
  },
  {
   "cell_type": "code",
   "execution_count": 11,
   "id": "8cd6dae8-0cc8-4bbf-8706-8ce2ba849121",
   "metadata": {
    "tags": []
   },
   "outputs": [
    {
     "data": {
      "text/html": [
       "<table class=\"dataframe\">\n",
       "<caption>A tidytable: 2 x 3</caption>\n",
       "<thead>\n",
       "\t<tr><th scope=col>AF_lm_poly1_1</th><th scope=col>AF_lm_poly1</th><th scope=col>AF_lm_poly2</th></tr>\n",
       "\t<tr><th scope=col>&lt;dbl&gt;</th><th scope=col>&lt;dbl&gt;</th><th scope=col>&lt;dbl&gt;</th></tr>\n",
       "</thead>\n",
       "<tbody>\n",
       "\t<tr><td>-0.278061593</td><td>-2.39735604</td><td>1.0864394</td></tr>\n",
       "\t<tr><td>-0.004058273</td><td>-0.05763129</td><td>0.8136015</td></tr>\n",
       "</tbody>\n",
       "</table>\n"
      ],
      "text/latex": [
       "A tidytable: 2 x 3\n",
       "\\begin{tabular}{lll}\n",
       " AF\\_lm\\_poly1\\_1 & AF\\_lm\\_poly1 & AF\\_lm\\_poly2\\\\\n",
       " <dbl> & <dbl> & <dbl>\\\\\n",
       "\\hline\n",
       "\t -0.278061593 & -2.39735604 & 1.0864394\\\\\n",
       "\t -0.004058273 & -0.05763129 & 0.8136015\\\\\n",
       "\\end{tabular}\n"
      ],
      "text/markdown": [
       "\n",
       "A tidytable: 2 x 3\n",
       "\n",
       "| AF_lm_poly1_1 &lt;dbl&gt; | AF_lm_poly1 &lt;dbl&gt; | AF_lm_poly2 &lt;dbl&gt; |\n",
       "|---|---|---|\n",
       "| -0.278061593 | -2.39735604 | 1.0864394 |\n",
       "| -0.004058273 | -0.05763129 | 0.8136015 |\n",
       "\n"
      ],
      "text/plain": [
       "  AF_lm_poly1_1 AF_lm_poly1 AF_lm_poly2\n",
       "1 -0.278061593  -2.39735604 1.0864394  \n",
       "2 -0.004058273  -0.05763129 0.8136015  "
      ]
     },
     "metadata": {},
     "output_type": "display_data"
    }
   ],
   "source": [
    "filter(One_Table, cross==\"YJNRC27\")%>%select(AF_lm_poly1_1, AF_lm_poly1, AF_lm_poly2)"
   ]
  },
  {
   "cell_type": "code",
   "execution_count": 9,
   "id": "72d7a04e-7758-40b2-8cb4-9fb3564b0807",
   "metadata": {
    "tags": []
   },
   "outputs": [
    {
     "data": {
      "text/html": [
       "<table class=\"dataframe\">\n",
       "<caption>A grouped_tt: 5 x 5</caption>\n",
       "<thead>\n",
       "\t<tr><th scope=col>multipleDirections</th><th scope=col>hasAbsAFgr75</th><th scope=col>countAFgr75Gr1</th><th scope=col>n</th><th scope=col>crosses</th></tr>\n",
       "\t<tr><th scope=col>&lt;lgl&gt;</th><th scope=col>&lt;lgl&gt;</th><th scope=col>&lt;lgl&gt;</th><th scope=col>&lt;int&gt;</th><th scope=col>&lt;chr&gt;</th></tr>\n",
       "</thead>\n",
       "<tbody>\n",
       "\t<tr><td>FALSE</td><td>FALSE</td><td>FALSE</td><td>7</td><td>YJNRC14 YJNRC15 YJNRC17 YJNRC25 YJNRC26 YJNRC5 YJNRC7</td></tr>\n",
       "\t<tr><td>FALSE</td><td> TRUE</td><td>FALSE</td><td>4</td><td>ChrisC1 ChrisC5 YJNRC19 YJNRC21                      </td></tr>\n",
       "\t<tr><td> TRUE</td><td>FALSE</td><td>FALSE</td><td>3</td><td>YJNRC23 YJNRC3 YJNRC8                                </td></tr>\n",
       "\t<tr><td> TRUE</td><td> TRUE</td><td>FALSE</td><td>5</td><td>ChrisC3 YJNRC18 YJNRC22 YJNRC27 YJNRC6               </td></tr>\n",
       "\t<tr><td> TRUE</td><td> TRUE</td><td> TRUE</td><td>2</td><td>ChrisC7 ChrisC8                                      </td></tr>\n",
       "</tbody>\n",
       "</table>\n"
      ],
      "text/latex": [
       "A grouped\\_tt: 5 x 5\n",
       "\\begin{tabular}{lllll}\n",
       " multipleDirections & hasAbsAFgr75 & countAFgr75Gr1 & n & crosses\\\\\n",
       " <lgl> & <lgl> & <lgl> & <int> & <chr>\\\\\n",
       "\\hline\n",
       "\t FALSE & FALSE & FALSE & 7 & YJNRC14 YJNRC15 YJNRC17 YJNRC25 YJNRC26 YJNRC5 YJNRC7\\\\\n",
       "\t FALSE &  TRUE & FALSE & 4 & ChrisC1 ChrisC5 YJNRC19 YJNRC21                      \\\\\n",
       "\t  TRUE & FALSE & FALSE & 3 & YJNRC23 YJNRC3 YJNRC8                                \\\\\n",
       "\t  TRUE &  TRUE & FALSE & 5 & ChrisC3 YJNRC18 YJNRC22 YJNRC27 YJNRC6               \\\\\n",
       "\t  TRUE &  TRUE &  TRUE & 2 & ChrisC7 ChrisC8                                      \\\\\n",
       "\\end{tabular}\n"
      ],
      "text/markdown": [
       "\n",
       "A grouped_tt: 5 x 5\n",
       "\n",
       "| multipleDirections &lt;lgl&gt; | hasAbsAFgr75 &lt;lgl&gt; | countAFgr75Gr1 &lt;lgl&gt; | n &lt;int&gt; | crosses &lt;chr&gt; |\n",
       "|---|---|---|---|---|\n",
       "| FALSE | FALSE | FALSE | 7 | YJNRC14 YJNRC15 YJNRC17 YJNRC25 YJNRC26 YJNRC5 YJNRC7 |\n",
       "| FALSE |  TRUE | FALSE | 4 | ChrisC1 ChrisC5 YJNRC19 YJNRC21                       |\n",
       "|  TRUE | FALSE | FALSE | 3 | YJNRC23 YJNRC3 YJNRC8                                 |\n",
       "|  TRUE |  TRUE | FALSE | 5 | ChrisC3 YJNRC18 YJNRC22 YJNRC27 YJNRC6                |\n",
       "|  TRUE |  TRUE |  TRUE | 2 | ChrisC7 ChrisC8                                       |\n",
       "\n"
      ],
      "text/plain": [
       "  multipleDirections hasAbsAFgr75 countAFgr75Gr1 n\n",
       "1 FALSE              FALSE        FALSE          7\n",
       "2 FALSE               TRUE        FALSE          4\n",
       "3  TRUE              FALSE        FALSE          3\n",
       "4  TRUE               TRUE        FALSE          5\n",
       "5  TRUE               TRUE         TRUE          2\n",
       "  crosses                                              \n",
       "1 YJNRC14 YJNRC15 YJNRC17 YJNRC25 YJNRC26 YJNRC5 YJNRC7\n",
       "2 ChrisC1 ChrisC5 YJNRC19 YJNRC21                      \n",
       "3 YJNRC23 YJNRC3 YJNRC8                                \n",
       "4 ChrisC3 YJNRC18 YJNRC22 YJNRC27 YJNRC6               \n",
       "5 ChrisC7 ChrisC8                                      "
      ]
     },
     "metadata": {},
     "output_type": "display_data"
    }
   ],
   "source": [
    "summarize(group_by(One_Table, cross), hasAbsAFgr70=sum(abs(AF_peak-0.5)>=0.2)>0,\n",
    "         hasAbsAFgr75=sum(abs(AF_peak-0.5)>=0.25)>0, countAFgr75Gr1=sum(abs(AF_peak-0.5)>=0.25)>1,\n",
    "         countTRD=n(), countTRDUp=sum(AF>0.5),\n",
    "         countTRDDown=sum(AF<0.5))%>%\n",
    "mutate(multipleDirections=countTRDUp>0&countTRDDown>0)%>%\n",
    "group_by(multipleDirections,hasAbsAFgr75,countAFgr75Gr1)%>%summarize(n=n(), crosses=paste(cross, collapse=\" \"))"
   ]
  }
 ],
 "metadata": {
  "kernelspec": {
   "display_name": "R",
   "language": "R",
   "name": "ir"
  },
  "language_info": {
   "codemirror_mode": "r",
   "file_extension": ".r",
   "mimetype": "text/x-r-source",
   "name": "R",
   "pygments_lexer": "r",
   "version": "4.1.1"
  }
 },
 "nbformat": 4,
 "nbformat_minor": 5
}

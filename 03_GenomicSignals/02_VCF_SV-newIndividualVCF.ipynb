{
 "cells": [
  {
   "cell_type": "markdown",
   "id": "583c5adc-df1c-47a7-be7e-5217b9462aac",
   "metadata": {},
   "source": [
    "The SV strategy so far had a few problems that I aim to remedy.\n",
    "\n",
    "- samples were missing from Victor's VCF -> new version used here\n",
    "- Inference was difficult due to \n",
    "    - the merged Victor VCF is very eager to group (TRANS) events together that are quite different -> I should check with the individual VCF's to confirm these. \n",
    "    - Syri uses a different coordinate system (the respective assemblies) -> use Victor's individual files, e.g. `/home/vloegler/SVCalling2/04-analysis/01_SV_VCF/AAB_output/AAB_alignments/AAB_query.delta_filter.coords`, to discover the assembly that are similar in the reference. This file has chromosomes at the end, and then S1-E1 and S2-E2 are the sequence coordinates; with %IDY perhaps being relevant as well for this.\n",
    "    \n",
    "\n",
    "**he changed the folders again, will not copy for now**"
   ]
  },
  {
   "cell_type": "code",
   "execution_count": 1,
   "id": "37c0a496-b378-46dc-8614-7f80c5f9e08c",
   "metadata": {
    "tags": []
   },
   "outputs": [
    {
     "name": "stderr",
     "output_type": "stream",
     "text": [
      "Warning message:\n",
      "\"package 'tidytable' was built under R version 4.1.3\"\n",
      "\n",
      "Attaching package: 'tidytable'\n",
      "\n",
      "\n",
      "The following objects are masked from 'package:stats':\n",
      "\n",
      "    dt, filter, lag\n",
      "\n",
      "\n",
      "The following object is masked from 'package:base':\n",
      "\n",
      "    %in%\n",
      "\n",
      "\n",
      "Warning message:\n",
      "\"package 'tidyverse' was built under R version 4.1.3\"\n",
      "-- \u001b[1mAttaching packages\u001b[22m ------------------------------------------------------------------------------------------------------------------------------------------------------ tidyverse 1.3.2 --\n",
      "\u001b[32mv\u001b[39m \u001b[34mggplot2\u001b[39m 3.4.0     \u001b[32mv\u001b[39m \u001b[34mpurrr  \u001b[39m 1.0.1\n",
      "\u001b[32mv\u001b[39m \u001b[34mtibble \u001b[39m 3.1.8     \u001b[32mv\u001b[39m \u001b[34mdplyr  \u001b[39m 1.1.0\n",
      "\u001b[32mv\u001b[39m \u001b[34mtidyr  \u001b[39m 1.3.0     \u001b[32mv\u001b[39m \u001b[34mstringr\u001b[39m 1.5.0\n",
      "\u001b[32mv\u001b[39m \u001b[34mreadr  \u001b[39m 2.1.3     \u001b[32mv\u001b[39m \u001b[34mforcats\u001b[39m 1.0.0\n",
      "Warning message:\n",
      "\"package 'ggplot2' was built under R version 4.1.3\"\n",
      "Warning message:\n",
      "\"package 'tibble' was built under R version 4.1.3\"\n",
      "Warning message:\n",
      "\"package 'tidyr' was built under R version 4.1.3\"\n",
      "Warning message:\n",
      "\"package 'readr' was built under R version 4.1.3\"\n",
      "Warning message:\n",
      "\"package 'purrr' was built under R version 4.1.3\"\n",
      "Warning message:\n",
      "\"package 'dplyr' was built under R version 4.1.3\"\n",
      "Warning message:\n",
      "\"package 'stringr' was built under R version 4.1.3\"\n",
      "Warning message:\n",
      "\"package 'forcats' was built under R version 4.1.3\"\n",
      "-- \u001b[1mConflicts\u001b[22m --------------------------------------------------------------------------------------------------------------------------------------------------------- tidyverse_conflicts() --\n",
      "\u001b[31mx\u001b[39m \u001b[34mdplyr\u001b[39m::\u001b[32macross()\u001b[39m                masks \u001b[34mtidytable\u001b[39m::across()\n",
      "\u001b[31mx\u001b[39m \u001b[34mdplyr\u001b[39m::\u001b[32madd_count()\u001b[39m             masks \u001b[34mtidytable\u001b[39m::add_count()\n",
      "\u001b[31mx\u001b[39m \u001b[34mdplyr\u001b[39m::\u001b[32madd_tally()\u001b[39m             masks \u001b[34mtidytable\u001b[39m::add_tally()\n",
      "\u001b[31mx\u001b[39m \u001b[34mdplyr\u001b[39m::\u001b[32manti_join()\u001b[39m             masks \u001b[34mtidytable\u001b[39m::anti_join()\n",
      "\u001b[31mx\u001b[39m \u001b[34mdplyr\u001b[39m::\u001b[32marrange()\u001b[39m               masks \u001b[34mtidytable\u001b[39m::arrange()\n",
      "\u001b[31mx\u001b[39m \u001b[34mdplyr\u001b[39m::\u001b[32mbetween()\u001b[39m               masks \u001b[34mtidytable\u001b[39m::between()\n",
      "\u001b[31mx\u001b[39m \u001b[34mdplyr\u001b[39m::\u001b[32mbind_cols()\u001b[39m             masks \u001b[34mtidytable\u001b[39m::bind_cols()\n",
      "\u001b[31mx\u001b[39m \u001b[34mdplyr\u001b[39m::\u001b[32mbind_rows()\u001b[39m             masks \u001b[34mtidytable\u001b[39m::bind_rows()\n",
      "\u001b[31mx\u001b[39m \u001b[34mdplyr\u001b[39m::\u001b[32mc_across()\u001b[39m              masks \u001b[34mtidytable\u001b[39m::c_across()\n",
      "\u001b[31mx\u001b[39m \u001b[34mdplyr\u001b[39m::\u001b[32mcase_match()\u001b[39m            masks \u001b[34mtidytable\u001b[39m::case_match()\n",
      "\u001b[31mx\u001b[39m \u001b[34mdplyr\u001b[39m::\u001b[32mcase_when()\u001b[39m             masks \u001b[34mtidytable\u001b[39m::case_when()\n",
      "\u001b[31mx\u001b[39m \u001b[34mdplyr\u001b[39m::\u001b[32mcoalesce()\u001b[39m              masks \u001b[34mtidytable\u001b[39m::coalesce()\n",
      "\u001b[31mx\u001b[39m \u001b[34mtidyr\u001b[39m::\u001b[32mcomplete()\u001b[39m              masks \u001b[34mtidytable\u001b[39m::complete()\n",
      "\u001b[31mx\u001b[39m \u001b[34mdplyr\u001b[39m::\u001b[32mconsecutive_id()\u001b[39m        masks \u001b[34mtidytable\u001b[39m::consecutive_id()\n",
      "\u001b[31mx\u001b[39m \u001b[34mdplyr\u001b[39m::\u001b[32mcount()\u001b[39m                 masks \u001b[34mtidytable\u001b[39m::count()\n",
      "\u001b[31mx\u001b[39m \u001b[34mdplyr\u001b[39m::\u001b[32mcross_join()\u001b[39m            masks \u001b[34mtidytable\u001b[39m::cross_join()\n",
      "\u001b[31mx\u001b[39m \u001b[34mtidyr\u001b[39m::\u001b[32mcrossing()\u001b[39m              masks \u001b[34mtidytable\u001b[39m::crossing()\n",
      "\u001b[31mx\u001b[39m \u001b[34mdplyr\u001b[39m::\u001b[32mcume_dist()\u001b[39m             masks \u001b[34mtidytable\u001b[39m::cume_dist()\n",
      "\u001b[31mx\u001b[39m \u001b[34mdplyr\u001b[39m::\u001b[32mcur_column()\u001b[39m            masks \u001b[34mtidytable\u001b[39m::cur_column()\n",
      "\u001b[31mx\u001b[39m \u001b[34mdplyr\u001b[39m::\u001b[32mcur_data()\u001b[39m              masks \u001b[34mtidytable\u001b[39m::cur_data()\n",
      "\u001b[31mx\u001b[39m \u001b[34mdplyr\u001b[39m::\u001b[32mcur_group_id()\u001b[39m          masks \u001b[34mtidytable\u001b[39m::cur_group_id()\n",
      "\u001b[31mx\u001b[39m \u001b[34mdplyr\u001b[39m::\u001b[32mcur_group_rows()\u001b[39m        masks \u001b[34mtidytable\u001b[39m::cur_group_rows()\n",
      "\u001b[31mx\u001b[39m \u001b[34mdplyr\u001b[39m::\u001b[32mdense_rank()\u001b[39m            masks \u001b[34mtidytable\u001b[39m::dense_rank()\n",
      "\u001b[31mx\u001b[39m \u001b[34mdplyr\u001b[39m::\u001b[32mdesc()\u001b[39m                  masks \u001b[34mtidytable\u001b[39m::desc()\n",
      "\u001b[31mx\u001b[39m \u001b[34mdplyr\u001b[39m::\u001b[32mdistinct()\u001b[39m              masks \u001b[34mtidytable\u001b[39m::distinct()\n",
      "\u001b[31mx\u001b[39m \u001b[34mtidyr\u001b[39m::\u001b[32mdrop_na()\u001b[39m               masks \u001b[34mtidytable\u001b[39m::drop_na()\n",
      "\u001b[31mx\u001b[39m \u001b[34mtibble\u001b[39m::\u001b[32menframe()\u001b[39m              masks \u001b[34mtidytable\u001b[39m::enframe()\n",
      "\u001b[31mx\u001b[39m \u001b[34mtidyr\u001b[39m::\u001b[32mexpand()\u001b[39m                masks \u001b[34mtidytable\u001b[39m::expand()\n",
      "\u001b[31mx\u001b[39m \u001b[34mtidyr\u001b[39m::\u001b[32mexpand_grid()\u001b[39m           masks \u001b[34mtidytable\u001b[39m::expand_grid()\n",
      "\u001b[31mx\u001b[39m \u001b[34mtidyr\u001b[39m::\u001b[32mextract()\u001b[39m               masks \u001b[34mtidytable\u001b[39m::extract()\n",
      "\u001b[31mx\u001b[39m \u001b[34mtidyr\u001b[39m::\u001b[32mfill()\u001b[39m                  masks \u001b[34mtidytable\u001b[39m::fill()\n",
      "\u001b[31mx\u001b[39m \u001b[34mdplyr\u001b[39m::\u001b[32mfilter()\u001b[39m                masks \u001b[34mtidytable\u001b[39m::filter(), \u001b[34mstats\u001b[39m::filter()\n",
      "\u001b[31mx\u001b[39m \u001b[34mdplyr\u001b[39m::\u001b[32mfirst()\u001b[39m                 masks \u001b[34mtidytable\u001b[39m::first()\n",
      "\u001b[31mx\u001b[39m \u001b[34mdplyr\u001b[39m::\u001b[32mfull_join()\u001b[39m             masks \u001b[34mtidytable\u001b[39m::full_join()\n",
      "\u001b[31mx\u001b[39m \u001b[34mdplyr\u001b[39m::\u001b[32mgroup_by()\u001b[39m              masks \u001b[34mtidytable\u001b[39m::group_by()\n",
      "\u001b[31mx\u001b[39m \u001b[34mdplyr\u001b[39m::\u001b[32mgroup_cols()\u001b[39m            masks \u001b[34mtidytable\u001b[39m::group_cols()\n",
      "\u001b[31mx\u001b[39m \u001b[34mdplyr\u001b[39m::\u001b[32mgroup_split()\u001b[39m           masks \u001b[34mtidytable\u001b[39m::group_split()\n",
      "\u001b[31mx\u001b[39m \u001b[34mdplyr\u001b[39m::\u001b[32mgroup_vars()\u001b[39m            masks \u001b[34mtidytable\u001b[39m::group_vars()\n",
      "\u001b[31mx\u001b[39m \u001b[34mdplyr\u001b[39m::\u001b[32mif_all()\u001b[39m                masks \u001b[34mtidytable\u001b[39m::if_all()\n",
      "\u001b[31mx\u001b[39m \u001b[34mdplyr\u001b[39m::\u001b[32mif_any()\u001b[39m                masks \u001b[34mtidytable\u001b[39m::if_any()\n",
      "\u001b[31mx\u001b[39m \u001b[34mdplyr\u001b[39m::\u001b[32mif_else()\u001b[39m               masks \u001b[34mtidytable\u001b[39m::if_else()\n",
      "\u001b[31mx\u001b[39m \u001b[34mdplyr\u001b[39m::\u001b[32minner_join()\u001b[39m            masks \u001b[34mtidytable\u001b[39m::inner_join()\n",
      "\u001b[31mx\u001b[39m \u001b[34mdplyr\u001b[39m::\u001b[32mis_grouped_df()\u001b[39m         masks \u001b[34mtidytable\u001b[39m::is_grouped_df()\n",
      "\u001b[31mx\u001b[39m \u001b[34mdplyr\u001b[39m::\u001b[32mlag()\u001b[39m                   masks \u001b[34mtidytable\u001b[39m::lag(), \u001b[34mstats\u001b[39m::lag()\n",
      "\u001b[31mx\u001b[39m \u001b[34mdplyr\u001b[39m::\u001b[32mlast()\u001b[39m                  masks \u001b[34mtidytable\u001b[39m::last()\n",
      "\u001b[31mx\u001b[39m \u001b[34mdplyr\u001b[39m::\u001b[32mlead()\u001b[39m                  masks \u001b[34mtidytable\u001b[39m::lead()\n",
      "\u001b[31mx\u001b[39m \u001b[34mdplyr\u001b[39m::\u001b[32mleft_join()\u001b[39m             masks \u001b[34mtidytable\u001b[39m::left_join()\n",
      "\u001b[31mx\u001b[39m \u001b[34mpurrr\u001b[39m::\u001b[32mmap()\u001b[39m                   masks \u001b[34mtidytable\u001b[39m::map()\n",
      "\u001b[31mx\u001b[39m \u001b[34mpurrr\u001b[39m::\u001b[32mmap_chr()\u001b[39m               masks \u001b[34mtidytable\u001b[39m::map_chr()\n",
      "\u001b[31mx\u001b[39m \u001b[34mpurrr\u001b[39m::\u001b[32mmap_dbl()\u001b[39m               masks \u001b[34mtidytable\u001b[39m::map_dbl()\n",
      "\u001b[31mx\u001b[39m \u001b[34mpurrr\u001b[39m::\u001b[32mmap_df()\u001b[39m                masks \u001b[34mtidytable\u001b[39m::map_df()\n",
      "\u001b[31mx\u001b[39m \u001b[34mpurrr\u001b[39m::\u001b[32mmap_dfc()\u001b[39m               masks \u001b[34mtidytable\u001b[39m::map_dfc()\n",
      "\u001b[31mx\u001b[39m \u001b[34mpurrr\u001b[39m::\u001b[32mmap_dfr()\u001b[39m               masks \u001b[34mtidytable\u001b[39m::map_dfr()\n",
      "\u001b[31mx\u001b[39m \u001b[34mpurrr\u001b[39m::\u001b[32mmap_int()\u001b[39m               masks \u001b[34mtidytable\u001b[39m::map_int()\n",
      "\u001b[31mx\u001b[39m \u001b[34mpurrr\u001b[39m::\u001b[32mmap_lgl()\u001b[39m               masks \u001b[34mtidytable\u001b[39m::map_lgl()\n",
      "\u001b[31mx\u001b[39m \u001b[34mpurrr\u001b[39m::\u001b[32mmap_vec()\u001b[39m               masks \u001b[34mtidytable\u001b[39m::map_vec()\n",
      "\u001b[31mx\u001b[39m \u001b[34mpurrr\u001b[39m::\u001b[32mmap2()\u001b[39m                  masks \u001b[34mtidytable\u001b[39m::map2()\n",
      "\u001b[31mx\u001b[39m \u001b[34mpurrr\u001b[39m::\u001b[32mmap2_chr()\u001b[39m              masks \u001b[34mtidytable\u001b[39m::map2_chr()\n",
      "\u001b[31mx\u001b[39m \u001b[34mpurrr\u001b[39m::\u001b[32mmap2_dbl()\u001b[39m              masks \u001b[34mtidytable\u001b[39m::map2_dbl()\n",
      "\u001b[31mx\u001b[39m \u001b[34mpurrr\u001b[39m::\u001b[32mmap2_df()\u001b[39m               masks \u001b[34mtidytable\u001b[39m::map2_df()\n",
      "\u001b[31mx\u001b[39m \u001b[34mpurrr\u001b[39m::\u001b[32mmap2_dfc()\u001b[39m              masks \u001b[34mtidytable\u001b[39m::map2_dfc()\n",
      "\u001b[31mx\u001b[39m \u001b[34mpurrr\u001b[39m::\u001b[32mmap2_dfr()\u001b[39m              masks \u001b[34mtidytable\u001b[39m::map2_dfr()\n",
      "\u001b[31mx\u001b[39m \u001b[34mpurrr\u001b[39m::\u001b[32mmap2_int()\u001b[39m              masks \u001b[34mtidytable\u001b[39m::map2_int()\n",
      "\u001b[31mx\u001b[39m \u001b[34mpurrr\u001b[39m::\u001b[32mmap2_lgl()\u001b[39m              masks \u001b[34mtidytable\u001b[39m::map2_lgl()\n",
      "\u001b[31mx\u001b[39m \u001b[34mpurrr\u001b[39m::\u001b[32mmap2_vec()\u001b[39m              masks \u001b[34mtidytable\u001b[39m::map2_vec()\n",
      "\u001b[31mx\u001b[39m \u001b[34mdplyr\u001b[39m::\u001b[32mmin_rank()\u001b[39m              masks \u001b[34mtidytable\u001b[39m::min_rank()\n",
      "\u001b[31mx\u001b[39m \u001b[34mdplyr\u001b[39m::\u001b[32mmutate()\u001b[39m                masks \u001b[34mtidytable\u001b[39m::mutate()\n",
      "\u001b[31mx\u001b[39m \u001b[34mdplyr\u001b[39m::\u001b[32mn()\u001b[39m                     masks \u001b[34mtidytable\u001b[39m::n()\n",
      "\u001b[31mx\u001b[39m \u001b[34mdplyr\u001b[39m::\u001b[32mn_distinct()\u001b[39m            masks \u001b[34mtidytable\u001b[39m::n_distinct()\n",
      "\u001b[31mx\u001b[39m \u001b[34mdplyr\u001b[39m::\u001b[32mna_if()\u001b[39m                 masks \u001b[34mtidytable\u001b[39m::na_if()\n",
      "\u001b[31mx\u001b[39m \u001b[34mtidyr\u001b[39m::\u001b[32mnest()\u001b[39m                  masks \u001b[34mtidytable\u001b[39m::nest()\n",
      "\u001b[31mx\u001b[39m \u001b[34mdplyr\u001b[39m::\u001b[32mnest_by()\u001b[39m               masks \u001b[34mtidytable\u001b[39m::nest_by()\n",
      "\u001b[31mx\u001b[39m \u001b[34mdplyr\u001b[39m::\u001b[32mnest_join()\u001b[39m             masks \u001b[34mtidytable\u001b[39m::nest_join()\n",
      "\u001b[31mx\u001b[39m \u001b[34mtidyr\u001b[39m::\u001b[32mnesting()\u001b[39m               masks \u001b[34mtidytable\u001b[39m::nesting()\n",
      "\u001b[31mx\u001b[39m \u001b[34mdplyr\u001b[39m::\u001b[32mnth()\u001b[39m                   masks \u001b[34mtidytable\u001b[39m::nth()\n",
      "\u001b[31mx\u001b[39m \u001b[34mdplyr\u001b[39m::\u001b[32mpick()\u001b[39m                  masks \u001b[34mtidytable\u001b[39m::pick()\n",
      "\u001b[31mx\u001b[39m \u001b[34mtidyr\u001b[39m::\u001b[32mpivot_longer()\u001b[39m          masks \u001b[34mtidytable\u001b[39m::pivot_longer()\n",
      "\u001b[31mx\u001b[39m \u001b[34mtidyr\u001b[39m::\u001b[32mpivot_wider()\u001b[39m           masks \u001b[34mtidytable\u001b[39m::pivot_wider()\n",
      "\u001b[31mx\u001b[39m \u001b[34mpurrr\u001b[39m::\u001b[32mpmap()\u001b[39m                  masks \u001b[34mtidytable\u001b[39m::pmap()\n",
      "\u001b[31mx\u001b[39m \u001b[34mpurrr\u001b[39m::\u001b[32mpmap_chr()\u001b[39m              masks \u001b[34mtidytable\u001b[39m::pmap_chr()\n",
      "\u001b[31mx\u001b[39m \u001b[34mpurrr\u001b[39m::\u001b[32mpmap_dbl()\u001b[39m              masks \u001b[34mtidytable\u001b[39m::pmap_dbl()\n",
      "\u001b[31mx\u001b[39m \u001b[34mpurrr\u001b[39m::\u001b[32mpmap_df()\u001b[39m               masks \u001b[34mtidytable\u001b[39m::pmap_df()\n",
      "\u001b[31mx\u001b[39m \u001b[34mpurrr\u001b[39m::\u001b[32mpmap_dfc()\u001b[39m              masks \u001b[34mtidytable\u001b[39m::pmap_dfc()\n",
      "\u001b[31mx\u001b[39m \u001b[34mpurrr\u001b[39m::\u001b[32mpmap_dfr()\u001b[39m              masks \u001b[34mtidytable\u001b[39m::pmap_dfr()\n",
      "\u001b[31mx\u001b[39m \u001b[34mpurrr\u001b[39m::\u001b[32mpmap_int()\u001b[39m              masks \u001b[34mtidytable\u001b[39m::pmap_int()\n",
      "\u001b[31mx\u001b[39m \u001b[34mpurrr\u001b[39m::\u001b[32mpmap_lgl()\u001b[39m              masks \u001b[34mtidytable\u001b[39m::pmap_lgl()\n",
      "\u001b[31mx\u001b[39m \u001b[34mpurrr\u001b[39m::\u001b[32mpmap_vec()\u001b[39m              masks \u001b[34mtidytable\u001b[39m::pmap_vec()\n",
      "\u001b[31mx\u001b[39m \u001b[34mdplyr\u001b[39m::\u001b[32mpull()\u001b[39m                  masks \u001b[34mtidytable\u001b[39m::pull()\n",
      "\u001b[31mx\u001b[39m \u001b[34mdplyr\u001b[39m::\u001b[32mrecode()\u001b[39m                masks \u001b[34mtidytable\u001b[39m::recode()\n",
      "\u001b[31mx\u001b[39m \u001b[34mdplyr\u001b[39m::\u001b[32mrelocate()\u001b[39m              masks \u001b[34mtidytable\u001b[39m::relocate()\n",
      "\u001b[31mx\u001b[39m \u001b[34mdplyr\u001b[39m::\u001b[32mrename()\u001b[39m                masks \u001b[34mtidytable\u001b[39m::rename()\n",
      "\u001b[31mx\u001b[39m \u001b[34mdplyr\u001b[39m::\u001b[32mrename_with()\u001b[39m           masks \u001b[34mtidytable\u001b[39m::rename_with()\n",
      "\u001b[31mx\u001b[39m \u001b[34mtidyr\u001b[39m::\u001b[32mreplace_na()\u001b[39m            masks \u001b[34mtidytable\u001b[39m::replace_na()\n",
      "\u001b[31mx\u001b[39m \u001b[34mdplyr\u001b[39m::\u001b[32mright_join()\u001b[39m            masks \u001b[34mtidytable\u001b[39m::right_join()\n",
      "\u001b[31mx\u001b[39m \u001b[34mdplyr\u001b[39m::\u001b[32mrow_number()\u001b[39m            masks \u001b[34mtidytable\u001b[39m::row_number()\n",
      "\u001b[31mx\u001b[39m \u001b[34mdplyr\u001b[39m::\u001b[32mrowwise()\u001b[39m               masks \u001b[34mtidytable\u001b[39m::rowwise()\n",
      "\u001b[31mx\u001b[39m \u001b[34mdplyr\u001b[39m::\u001b[32mselect()\u001b[39m                masks \u001b[34mtidytable\u001b[39m::select()\n",
      "\u001b[31mx\u001b[39m \u001b[34mdplyr\u001b[39m::\u001b[32msemi_join()\u001b[39m             masks \u001b[34mtidytable\u001b[39m::semi_join()\n",
      "\u001b[31mx\u001b[39m \u001b[34mtidyr\u001b[39m::\u001b[32mseparate()\u001b[39m              masks \u001b[34mtidytable\u001b[39m::separate()\n",
      "\u001b[31mx\u001b[39m \u001b[34mtidyr\u001b[39m::\u001b[32mseparate_longer_delim()\u001b[39m masks \u001b[34mtidytable\u001b[39m::separate_longer_delim()\n",
      "\u001b[31mx\u001b[39m \u001b[34mtidyr\u001b[39m::\u001b[32mseparate_rows()\u001b[39m         masks \u001b[34mtidytable\u001b[39m::separate_rows()\n",
      "\u001b[31mx\u001b[39m \u001b[34mtidyr\u001b[39m::\u001b[32mseparate_wider_delim()\u001b[39m  masks \u001b[34mtidytable\u001b[39m::separate_wider_delim()\n",
      "\u001b[31mx\u001b[39m \u001b[34mtidyr\u001b[39m::\u001b[32mseparate_wider_regex()\u001b[39m  masks \u001b[34mtidytable\u001b[39m::separate_wider_regex()\n",
      "\u001b[31mx\u001b[39m \u001b[34mdplyr\u001b[39m::\u001b[32mslice()\u001b[39m                 masks \u001b[34mtidytable\u001b[39m::slice()\n",
      "\u001b[31mx\u001b[39m \u001b[34mdplyr\u001b[39m::\u001b[32mslice_head()\u001b[39m            masks \u001b[34mtidytable\u001b[39m::slice_head()\n",
      "\u001b[31mx\u001b[39m \u001b[34mdplyr\u001b[39m::\u001b[32mslice_max()\u001b[39m             masks \u001b[34mtidytable\u001b[39m::slice_max()\n",
      "\u001b[31mx\u001b[39m \u001b[34mdplyr\u001b[39m::\u001b[32mslice_min()\u001b[39m             masks \u001b[34mtidytable\u001b[39m::slice_min()\n",
      "\u001b[31mx\u001b[39m \u001b[34mdplyr\u001b[39m::\u001b[32mslice_sample()\u001b[39m          masks \u001b[34mtidytable\u001b[39m::slice_sample()\n",
      "\u001b[31mx\u001b[39m \u001b[34mdplyr\u001b[39m::\u001b[32mslice_tail()\u001b[39m            masks \u001b[34mtidytable\u001b[39m::slice_tail()\n",
      "\u001b[31mx\u001b[39m \u001b[34mdplyr\u001b[39m::\u001b[32msummarise()\u001b[39m             masks \u001b[34mtidytable\u001b[39m::summarise()\n",
      "\u001b[31mx\u001b[39m \u001b[34mdplyr\u001b[39m::\u001b[32msummarize()\u001b[39m             masks \u001b[34mtidytable\u001b[39m::summarize()\n",
      "\u001b[31mx\u001b[39m \u001b[34mdplyr\u001b[39m::\u001b[32mtally()\u001b[39m                 masks \u001b[34mtidytable\u001b[39m::tally()\n",
      "\u001b[31mx\u001b[39m \u001b[34mdplyr\u001b[39m::\u001b[32mtop_n()\u001b[39m                 masks \u001b[34mtidytable\u001b[39m::top_n()\n",
      "\u001b[31mx\u001b[39m \u001b[34mdplyr\u001b[39m::\u001b[32mtransmute()\u001b[39m             masks \u001b[34mtidytable\u001b[39m::transmute()\n",
      "\u001b[31mx\u001b[39m \u001b[34mdplyr\u001b[39m::\u001b[32mtribble()\u001b[39m               masks \u001b[34mtidyr\u001b[39m::tribble(), \u001b[34mtibble\u001b[39m::tribble(), \u001b[34mtidytable\u001b[39m::tribble()\n",
      "\u001b[31mx\u001b[39m \u001b[34mtidyr\u001b[39m::\u001b[32muncount()\u001b[39m               masks \u001b[34mtidytable\u001b[39m::uncount()\n",
      "\u001b[31mx\u001b[39m \u001b[34mdplyr\u001b[39m::\u001b[32mungroup()\u001b[39m               masks \u001b[34mtidytable\u001b[39m::ungroup()\n",
      "\u001b[31mx\u001b[39m \u001b[34mtidyr\u001b[39m::\u001b[32munite()\u001b[39m                 masks \u001b[34mtidytable\u001b[39m::unite()\n",
      "\u001b[31mx\u001b[39m \u001b[34mtidyr\u001b[39m::\u001b[32munnest()\u001b[39m                masks \u001b[34mtidytable\u001b[39m::unnest()\n",
      "\u001b[31mx\u001b[39m \u001b[34mtidyr\u001b[39m::\u001b[32munnest_longer()\u001b[39m         masks \u001b[34mtidytable\u001b[39m::unnest_longer()\n",
      "\u001b[31mx\u001b[39m \u001b[34mtidyr\u001b[39m::\u001b[32munnest_wider()\u001b[39m          masks \u001b[34mtidytable\u001b[39m::unnest_wider()\n",
      "\u001b[31mx\u001b[39m \u001b[34mpurrr\u001b[39m::\u001b[32mwalk()\u001b[39m                  masks \u001b[34mtidytable\u001b[39m::walk()\n",
      "Warning message:\n",
      "\"package 'naturalsort' was built under R version 4.1.3\"\n",
      "Warning message:\n",
      "\"package 'RColorBrewer' was built under R version 4.1.3\"\n",
      "Warning message:\n",
      "\"package 'data.table' was built under R version 4.1.3\"\n",
      "\n",
      "Attaching package: 'data.table'\n",
      "\n",
      "\n",
      "The following objects are masked from 'package:dplyr':\n",
      "\n",
      "    between, first, last\n",
      "\n",
      "\n",
      "The following object is masked from 'package:purrr':\n",
      "\n",
      "    transpose\n",
      "\n",
      "\n",
      "The following objects are masked from 'package:tidytable':\n",
      "\n",
      "    between, first, fread, last\n",
      "\n",
      "\n"
     ]
    }
   ],
   "source": [
    "library(tidytable)\n",
    "library(tidyverse)\n",
    "library(naturalsort)\n",
    "library(ggplot2)\n",
    "library(RColorBrewer)\n",
    "source(\"~/BrusselSprouts/scripts/functions.R\")"
   ]
  },
  {
   "cell_type": "code",
   "execution_count": 2,
   "id": "ca10e92d-95cb-4b74-9483-e880e0fb4022",
   "metadata": {
    "tags": []
   },
   "outputs": [],
   "source": [
    "output_dir<-\"/home/jnrunge/data/trd/SV_analysis\""
   ]
  },
  {
   "cell_type": "code",
   "execution_count": 3,
   "id": "d56c0fe2-573d-419a-8fa1-27d50a7e5f34",
   "metadata": {
    "tags": []
   },
   "outputs": [
    {
     "name": "stderr",
     "output_type": "stream",
     "text": [
      "\u001b[1m\u001b[22mNew names:\n",
      "\u001b[36m*\u001b[39m `Is in Stock` -> `Is in Stock...4`\n",
      "\u001b[36m*\u001b[39m `Is in Stock` -> `Is in Stock...6`\n"
     ]
    },
    {
     "data": {
      "text/html": [
       "<table class=\"dataframe\">\n",
       "<caption>A data.frame: 6 x 9</caption>\n",
       "<thead>\n",
       "\t<tr><th></th><th scope=col>ID</th><th scope=col>lengthSNPs</th><th scope=col>chr</th><th scope=col>global_start</th><th scope=col>global_end</th><th scope=col>lengthBp</th><th scope=col>cross</th><th scope=col>start</th><th scope=col>end</th></tr>\n",
       "\t<tr><th></th><th scope=col>&lt;int&gt;</th><th scope=col>&lt;int&gt;</th><th scope=col>&lt;chr&gt;</th><th scope=col>&lt;int&gt;</th><th scope=col>&lt;int&gt;</th><th scope=col>&lt;int&gt;</th><th scope=col>&lt;chr&gt;</th><th scope=col>&lt;int&gt;</th><th scope=col>&lt;int&gt;</th></tr>\n",
       "</thead>\n",
       "<tbody>\n",
       "\t<tr><th scope=row>1</th><td> 1</td><td> 155</td><td>chromosome2 </td><td>  668344</td><td>  790905</td><td>122561</td><td>ChrisC1</td><td>444778</td><td>567339</td></tr>\n",
       "\t<tr><th scope=row>2</th><td> 9</td><td> 206</td><td>chromosome14</td><td> 9398197</td><td> 9591625</td><td>193428</td><td>ChrisC1</td><td>224256</td><td>417684</td></tr>\n",
       "\t<tr><th scope=row>3</th><td>13</td><td> 815</td><td>chromosome15</td><td>10015850</td><td>10580994</td><td>565144</td><td>ChrisC1</td><td> 66814</td><td>631958</td></tr>\n",
       "\t<tr><th scope=row>4</th><td>14</td><td> 235</td><td>chromosome16</td><td>11462227</td><td>11683028</td><td>220801</td><td>ChrisC1</td><td>429498</td><td>650299</td></tr>\n",
       "\t<tr><th scope=row>5</th><td> 4</td><td>2603</td><td>chromosome5 </td><td> 2944974</td><td> 3258307</td><td>313333</td><td>ChrisC3</td><td> 65081</td><td>378414</td></tr>\n",
       "\t<tr><th scope=row>6</th><td>11</td><td> 901</td><td>chromosome11</td><td> 6549018</td><td> 6720267</td><td>171249</td><td>ChrisC3</td><td> 18001</td><td>189250</td></tr>\n",
       "</tbody>\n",
       "</table>\n"
      ],
      "text/latex": [
       "A data.frame: 6 x 9\n",
       "\\begin{tabular}{r|lllllllll}\n",
       "  & ID & lengthSNPs & chr & global\\_start & global\\_end & lengthBp & cross & start & end\\\\\n",
       "  & <int> & <int> & <chr> & <int> & <int> & <int> & <chr> & <int> & <int>\\\\\n",
       "\\hline\n",
       "\t1 &  1 &  155 & chromosome2  &   668344 &   790905 & 122561 & ChrisC1 & 444778 & 567339\\\\\n",
       "\t2 &  9 &  206 & chromosome14 &  9398197 &  9591625 & 193428 & ChrisC1 & 224256 & 417684\\\\\n",
       "\t3 & 13 &  815 & chromosome15 & 10015850 & 10580994 & 565144 & ChrisC1 &  66814 & 631958\\\\\n",
       "\t4 & 14 &  235 & chromosome16 & 11462227 & 11683028 & 220801 & ChrisC1 & 429498 & 650299\\\\\n",
       "\t5 &  4 & 2603 & chromosome5  &  2944974 &  3258307 & 313333 & ChrisC3 &  65081 & 378414\\\\\n",
       "\t6 & 11 &  901 & chromosome11 &  6549018 &  6720267 & 171249 & ChrisC3 &  18001 & 189250\\\\\n",
       "\\end{tabular}\n"
      ],
      "text/markdown": [
       "\n",
       "A data.frame: 6 x 9\n",
       "\n",
       "| <!--/--> | ID &lt;int&gt; | lengthSNPs &lt;int&gt; | chr &lt;chr&gt; | global_start &lt;int&gt; | global_end &lt;int&gt; | lengthBp &lt;int&gt; | cross &lt;chr&gt; | start &lt;int&gt; | end &lt;int&gt; |\n",
       "|---|---|---|---|---|---|---|---|---|---|\n",
       "| 1 |  1 |  155 | chromosome2  |   668344 |   790905 | 122561 | ChrisC1 | 444778 | 567339 |\n",
       "| 2 |  9 |  206 | chromosome14 |  9398197 |  9591625 | 193428 | ChrisC1 | 224256 | 417684 |\n",
       "| 3 | 13 |  815 | chromosome15 | 10015850 | 10580994 | 565144 | ChrisC1 |  66814 | 631958 |\n",
       "| 4 | 14 |  235 | chromosome16 | 11462227 | 11683028 | 220801 | ChrisC1 | 429498 | 650299 |\n",
       "| 5 |  4 | 2603 | chromosome5  |  2944974 |  3258307 | 313333 | ChrisC3 |  65081 | 378414 |\n",
       "| 6 | 11 |  901 | chromosome11 |  6549018 |  6720267 | 171249 | ChrisC3 |  18001 | 189250 |\n",
       "\n"
      ],
      "text/plain": [
       "  ID lengthSNPs chr          global_start global_end lengthBp cross   start \n",
       "1  1  155       chromosome2    668344       790905   122561   ChrisC1 444778\n",
       "2  9  206       chromosome14  9398197      9591625   193428   ChrisC1 224256\n",
       "3 13  815       chromosome15 10015850     10580994   565144   ChrisC1  66814\n",
       "4 14  235       chromosome16 11462227     11683028   220801   ChrisC1 429498\n",
       "5  4 2603       chromosome5   2944974      3258307   313333   ChrisC3  65081\n",
       "6 11  901       chromosome11  6549018      6720267   171249   ChrisC3  18001\n",
       "  end   \n",
       "1 567339\n",
       "2 417684\n",
       "3 631958\n",
       "4 650299\n",
       "5 378414\n",
       "6 189250"
      ]
     },
     "metadata": {},
     "output_type": "display_data"
    }
   ],
   "source": [
    "# per trd region, I need focal IDs (numeric in the computed data) and chr,from,to.\n",
    "# then I calculate the values for that region and compare them to the random regions\n",
    "\n",
    "# load crosses\n",
    "crosses_xlsx=readxl::read_xlsx(\"~/data/trd/Crosses.xlsx\", sheet=2)\n",
    "cc=data.frame(\"Cross ID\"=c(paste0(\"ChrisC\",1:8)),\n",
    "                                  \"Short name 1\"=c(\"ACP\",\"BAP\",\"CCD\",\"ATE\",\"ACK\",\"AKE\",\"BAH\",\"ANG\"),\n",
    "                                  \"Short name 2\"=c(\"BFP\",\"CMP\",\"CPG\",\"SACE_YCR\",\"ACV\",\"BAH\",\"CGD\",\"CEI\"), stringsAsFactors=FALSE)\n",
    "colnames(cc)=str_replace_all(colnames(cc), fixed(\".\"), \" \")\n",
    "crosses_xlsx <- bind_rows(crosses_xlsx[,c(\"Cross ID\",\"Short name 1\",\"Short name 2\")],\n",
    "                        cc)\n",
    "\n",
    "\n",
    "# load all TRD regions\n",
    "TRD_regions<-fread_and_bind_files(list.files(\"/home/jnrunge/data/TRD/results/shiny/\",pattern=\"TRD_regions.csv.gz$\",full.names = TRUE))\n",
    "TRD_regions<-mutate(TRD_regions, file=basename(file))%>%separate(file, c(\"cross\",\"discard\"), \"-\")%>%select(-discard)%>%filter(chr_start==chr_end)%>%\n",
    "rename(chr=chr_start)%>%select(-chr_end)\n",
    "\n",
    "# translate global positions to chr positions\n",
    "\n",
    "for(c in select(TRD_regions,cross)%>%distinct()%>%pull())\n",
    "    {\n",
    "    AF<-fread(paste0(\"/home/jnrunge/data/TRD/results/shiny/\",c,\"-AF.csv.gz\"))\n",
    "    \n",
    "    tmp_TRD_regions<-filter(TRD_regions, cross==c)%>%select(-any_of(\"start\"))%>%\n",
    "              left_join(select(AF, chr,pos,global_pos)%>%\n",
    "              rename(global_start=global_pos), by=c(\"chr\",\"global_start\"))%>%rename(start=pos)\n",
    "    \n",
    "    TRD_regions<-filter(TRD_regions, cross!=c)%>%bind_rows(tmp_TRD_regions)\n",
    "}\n",
    "\n",
    "TRD_regions<-mutate(TRD_regions, end=global_end-(global_start-start))\n",
    "\n",
    "head(TRD_regions)"
   ]
  },
  {
   "cell_type": "code",
   "execution_count": 13,
   "id": "3033cfba-0f21-406d-a8a4-1572866ca163",
   "metadata": {
    "tags": []
   },
   "outputs": [
    {
     "name": "stdout",
     "output_type": "stream",
     "text": [
      "[1] \"/home/jnrunge/data/trd/scripts/mashmap_syri-YJNRC1.sbatch\"\n",
      "[1] \"/home/jnrunge/data/trd/scripts/mashmap_syri-YJNRC2.sbatch\"\n",
      "[1] \"/home/jnrunge/data/trd/scripts/mashmap_syri-YJNRC3.sbatch\"\n",
      "[1] \"/home/jnrunge/data/trd/scripts/mashmap_syri-YJNRC4.sbatch\"\n",
      "[1] \"/home/jnrunge/data/trd/scripts/mashmap_syri-YJNRC5.sbatch\"\n",
      "[1] \"/home/jnrunge/data/trd/scripts/mashmap_syri-YJNRC6.sbatch\"\n",
      "[1] \"/home/jnrunge/data/trd/scripts/mashmap_syri-YJNRC7.sbatch\"\n",
      "[1] \"/home/jnrunge/data/trd/scripts/mashmap_syri-YJNRC8.sbatch\"\n",
      "[1] \"/home/jnrunge/data/trd/scripts/mashmap_syri-YJNRC9.sbatch\"\n",
      "[1] \"/home/jnrunge/data/trd/scripts/mashmap_syri-YJNRC10.sbatch\"\n",
      "[1] \"/home/jnrunge/data/trd/scripts/mashmap_syri-YJNRC11.sbatch\"\n",
      "[1] \"/home/jnrunge/data/trd/scripts/mashmap_syri-YJNRC12.sbatch\"\n",
      "[1] \"/home/jnrunge/data/trd/scripts/mashmap_syri-YJNRC13.sbatch\"\n",
      "[1] \"/home/jnrunge/data/trd/scripts/mashmap_syri-YJNRC14.sbatch\"\n",
      "[1] \"/home/jnrunge/data/trd/scripts/mashmap_syri-YJNRC15.sbatch\"\n",
      "[1] \"/home/jnrunge/data/trd/scripts/mashmap_syri-YJNRC16.sbatch\"\n",
      "[1] \"YJNRC17 not enough fastas.\"\n",
      "[1] \"/home/jnrunge/data/trd/scripts/mashmap_syri-YJNRC18.sbatch\"\n",
      "[1] \"/home/jnrunge/data/trd/scripts/mashmap_syri-YJNRC19.sbatch\"\n",
      "[1] \"/home/jnrunge/data/trd/scripts/mashmap_syri-YJNRC20.sbatch\"\n",
      "[1] \"/home/jnrunge/data/trd/scripts/mashmap_syri-YJNRC21.sbatch\"\n",
      "[1] \"/home/jnrunge/data/trd/scripts/mashmap_syri-YJNRC22.sbatch\"\n",
      "[1] \"/home/jnrunge/data/trd/scripts/mashmap_syri-YJNRC23.sbatch\"\n",
      "[1] \"/home/jnrunge/data/trd/scripts/mashmap_syri-YJNRC24.sbatch\"\n",
      "[1] \"/home/jnrunge/data/trd/scripts/mashmap_syri-YJNRC25.sbatch\"\n",
      "[1] \"/home/jnrunge/data/trd/scripts/mashmap_syri-YJNRC26.sbatch\"\n",
      "[1] \"/home/jnrunge/data/trd/scripts/mashmap_syri-YJNRC27.sbatch\"\n",
      "[1] \"/home/jnrunge/data/trd/scripts/mashmap_syri-YJNRC28.sbatch\"\n",
      "[1] \"/home/jnrunge/data/trd/scripts/mashmap_syri-YJNRC29.sbatch\"\n",
      "[1] \"/home/jnrunge/data/trd/scripts/mashmap_syri-YJNRC30.sbatch\"\n",
      "[1] \"/home/jnrunge/data/trd/scripts/mashmap_syri-YJNRC31.sbatch\"\n",
      "[1] \"/home/jnrunge/data/trd/scripts/mashmap_syri-YJNRC32.sbatch\"\n",
      "[1] \"/home/jnrunge/data/trd/scripts/mashmap_syri-YJNRC33.sbatch\"\n",
      "[1] \"/home/jnrunge/data/trd/scripts/mashmap_syri-YJNRC34.sbatch\"\n",
      "[1] \"/home/jnrunge/data/trd/scripts/mashmap_syri-ChrisC1.sbatch\"\n",
      "[1] \"/home/jnrunge/data/trd/scripts/mashmap_syri-ChrisC2.sbatch\"\n",
      "[1] \"/home/jnrunge/data/trd/scripts/mashmap_syri-ChrisC3.sbatch\"\n",
      "[1] \"/home/jnrunge/data/trd/scripts/mashmap_syri-ChrisC4.sbatch\"\n",
      "[1] \"/home/jnrunge/data/trd/scripts/mashmap_syri-ChrisC5.sbatch\"\n",
      "[1] \"/home/jnrunge/data/trd/scripts/mashmap_syri-ChrisC6.sbatch\"\n",
      "[1] \"/home/jnrunge/data/trd/scripts/mashmap_syri-ChrisC7.sbatch\"\n",
      "[1] \"/home/jnrunge/data/trd/scripts/mashmap_syri-ChrisC8.sbatch\"\n",
      "[1] \"41 /home/jnrunge/data/trd/scripts/mashmap_syri.list\"\n",
      "[1] \"[1] \\\"Currently running 0 jobs.\\\"\"               \n",
      "[2] \"[1] \\\"41 sbatches remaining! Running 6 more...\\\"\"\n",
      "[3] \"[1] \\\"Submitted batch job 628961\\\"\"              \n",
      "[4] \"[1] \\\"Submitted batch job 628965\\\"\"              \n"
     ]
    }
   ],
   "source": [
    "# pre-calculate some genome comparisons\n",
    "initial_timedate=Sys.time()\n",
    "scripts_dir<-\"/home/jnrunge/data/trd/scripts\"\n",
    "\n",
    "for(i in 1:nrow(crosses_xlsx)){\n",
    "    crosses_xlsx_slice<-slice(crosses_xlsx, i)\n",
    "    cross<-pull(crosses_xlsx_slice, `Cross ID`)\n",
    "    parent1<-pull(crosses_xlsx_slice,`Short name 1`)\n",
    "    parent2<-pull(crosses_xlsx_slice,`Short name 2`)\n",
    "    fasta_parent1<-paste0(\"/home/vloegler/SVCalling_Sace1000ONT/03-data/Sace_GenomeAssemblies_1011ONTProject_VL_20230904/CollapsedAssemblies/BestAssemblies/\",parent1,\".Final.fasta\")\n",
    "    fasta_parent2<-paste0(\"/home/vloegler/SVCalling_Sace1000ONT/03-data/Sace_GenomeAssemblies_1011ONTProject_VL_20230904/CollapsedAssemblies/BestAssemblies/\",parent2,\".Final.fasta\")\n",
    "\n",
    "    mashmap_possible<-TRUE\n",
    "    if(sum(!file.exists(c(fasta_parent1,fasta_parent2)))>0){\n",
    "        print(paste(cross,\"not enough fastas.\"))\n",
    "        mashmap_possible<-FALSE\n",
    "    }\n",
    "    cmd1<-\"\"\n",
    "    if(mashmap_possible & !file.exists(mash_file<-paste0(\"/home/jnrunge/data/trd/Victor_SV/dotplots/\",parent1,\"_\",parent2,\".out\"))){\n",
    "        cmd1<-paste0(\"cd /home/jnrunge/data/trd/Victor_SV/dotplots && mashmap -r \",fasta_parent1,\" -q \",fasta_parent2,\" -o \",parent1,\"_\",parent2,\".out -s 500\")\n",
    "\n",
    "    }\n",
    "\n",
    "    if(mashmap_possible){\n",
    "        syri_file<-paste0(\"/home/jnrunge/data/trd/Victor_SV/alignments/\",parent1,\"_\",parent2,\".mi80l100syri.out.gz\")\n",
    "        \n",
    "        cmd2<-paste0(\"sh -xe ~/TRD/03_GenomicSignals/02_VCF_SV_syri.sh \", parent1, \" \", parent2)\n",
    "    if(file.exists(syri_file)){\n",
    "            cmd2<-\"\"\n",
    "        }\n",
    "        sbatch_list=execute_complex_sbatch(c(cmd1,cmd2), jobname = \"mashmap_syri\", scripts_dir = scripts_dir, uniqueRunID = cross, cores=\"1\", mem=\"80gb\", time=\"short\", env=\"minimash\", initial_timedate = initial_timedate, jobs_simul = 10, jobs_total = 30)\n",
    "\n",
    "    }\n",
    "\n",
    "\n",
    "    }\n",
    "\n",
    "if(exists(\"sbatch_list\")){\n",
    "    start_sbatch_list(sbatch_list, 5, \"mashmap_syri\", initial_timedate)\n",
    "    }"
   ]
  },
  {
   "cell_type": "code",
   "execution_count": 5,
   "id": "423e80f2-4e93-4fe9-bccd-b6a011a9b294",
   "metadata": {
    "tags": []
   },
   "outputs": [],
   "source": [
    "SVs<-fread(cmd=\"zcat /home/vloegler/SVCalling_Sace1000ONT/04-analysis/03_PopulationVCF/SV.1015Samples.vcf.gz | grep -v ^## | cut -f 4,5 --complement\")\n",
    "SVs<-separate(SVs, ID,c(\"TYPE\",\"chr\",\"pos\",\"len\",\"LEN\"), \"_\")%>%select(-chr, -pos, -len)"
   ]
  },
  {
   "cell_type": "code",
   "execution_count": 7,
   "id": "551657e5-4f8c-4489-8108-d109d5e22ada",
   "metadata": {
    "tags": []
   },
   "outputs": [
    {
     "name": "stdout",
     "output_type": "stream",
     "text": [
      "[1] \"Parent(s) not in VCF\"\n",
      "[1] \"Maybe these fit?  386\"\n",
      "[1] \"YJNRC17\"\n",
      "[1] \"AVI\"\n",
      "[1] \"BET\"\n"
     ]
    }
   ],
   "source": [
    "# quick check that the parents can be found and if not lets see who might fit\n",
    "\n",
    "for(i in 1:nrow(crosses_xlsx)){\n",
    "#for(i in which(pull(crosses_xlsx, `Cross ID`)==\"YJNRC18\")){\n",
    "    crosses_xlsx_slice<-slice(crosses_xlsx, i)\n",
    "    cross<-pull(crosses_xlsx_slice, `Cross ID`)\n",
    "    cross_value <- cross\n",
    "    TRD_regions_cross <- filter(TRD_regions, cross == cross_value)\n",
    "    TRD_regions_cross\n",
    "    if(nrow(TRD_regions_cross)==0){\n",
    "        next\n",
    "    }\n",
    "\n",
    "    parent1<-pull(crosses_xlsx_slice,`Short name 1`)\n",
    "    parent2<-pull(crosses_xlsx_slice,`Short name 2`)\n",
    "\n",
    "    if(!(parent1 %in% colnames(SVs) & parent2 %in% colnames(SVs))){\n",
    "        print(\"Parent(s) not in VCF\")\n",
    "        print(paste0(\"Maybe these fit? \", which(grepl(parent1,colnames(SVs))),\n",
    "                    \" \", which(grepl(parent2,colnames(SVs)))))\n",
    "        print(cross_value)\n",
    "        print(parent1)\n",
    "        print(parent2)\n",
    "        next\n",
    "    }\n",
    "    }\n",
    "\n"
   ]
  },
  {
   "cell_type": "code",
   "execution_count": 70,
   "id": "89db74d8-c54c-4ea6-a607-f73fb75d9bd2",
   "metadata": {
    "tags": []
   },
   "outputs": [
    {
     "name": "stdout",
     "output_type": "stream",
     "text": [
      "[1] \"Saving...\"\n"
     ]
    },
    {
     "name": "stderr",
     "output_type": "stream",
     "text": [
      "\u001b[1m\u001b[22mJoining with `by = join_by(V1)`\n",
      "\u001b[1m\u001b[22mJoining with `by = join_by(V6)`\n"
     ]
    },
    {
     "name": "stdout",
     "output_type": "stream",
     "text": [
      "[1] \"Saving...\"\n"
     ]
    },
    {
     "name": "stderr",
     "output_type": "stream",
     "text": [
      "\u001b[1m\u001b[22mJoining with `by = join_by(V1)`\n",
      "\u001b[1m\u001b[22mJoining with `by = join_by(V6)`\n"
     ]
    },
    {
     "name": "stdout",
     "output_type": "stream",
     "text": [
      "[1] \"Saving...\"\n"
     ]
    },
    {
     "name": "stderr",
     "output_type": "stream",
     "text": [
      "\u001b[1m\u001b[22mJoining with `by = join_by(V1)`\n",
      "\u001b[1m\u001b[22mJoining with `by = join_by(V6)`\n"
     ]
    },
    {
     "name": "stdout",
     "output_type": "stream",
     "text": [
      "[1] \"Saving...\"\n"
     ]
    },
    {
     "name": "stderr",
     "output_type": "stream",
     "text": [
      "\u001b[1m\u001b[22mJoining with `by = join_by(V1)`\n",
      "\u001b[1m\u001b[22mJoining with `by = join_by(V6)`\n"
     ]
    },
    {
     "name": "stdout",
     "output_type": "stream",
     "text": [
      "[1] \"Saving...\"\n"
     ]
    },
    {
     "name": "stderr",
     "output_type": "stream",
     "text": [
      "\u001b[1m\u001b[22mJoining with `by = join_by(V1)`\n",
      "\u001b[1m\u001b[22mJoining with `by = join_by(V6)`\n"
     ]
    },
    {
     "name": "stdout",
     "output_type": "stream",
     "text": [
      "[1] \"Saving...\"\n"
     ]
    },
    {
     "name": "stderr",
     "output_type": "stream",
     "text": [
      "\u001b[1m\u001b[22mJoining with `by = join_by(V1)`\n",
      "\u001b[1m\u001b[22mJoining with `by = join_by(V6)`\n"
     ]
    },
    {
     "name": "stdout",
     "output_type": "stream",
     "text": [
      "[1] \"Saving...\"\n"
     ]
    },
    {
     "name": "stderr",
     "output_type": "stream",
     "text": [
      "\u001b[1m\u001b[22mJoining with `by = join_by(V1)`\n",
      "\u001b[1m\u001b[22mJoining with `by = join_by(V6)`\n"
     ]
    },
    {
     "name": "stdout",
     "output_type": "stream",
     "text": [
      "[1] \"Saving...\"\n"
     ]
    },
    {
     "name": "stderr",
     "output_type": "stream",
     "text": [
      "\u001b[1m\u001b[22mJoining with `by = join_by(V1)`\n",
      "\u001b[1m\u001b[22mJoining with `by = join_by(V6)`\n"
     ]
    },
    {
     "name": "stdout",
     "output_type": "stream",
     "text": [
      "[1] \"Saving...\"\n"
     ]
    },
    {
     "name": "stderr",
     "output_type": "stream",
     "text": [
      "\u001b[1m\u001b[22mJoining with `by = join_by(V1)`\n",
      "\u001b[1m\u001b[22mJoining with `by = join_by(V6)`\n"
     ]
    },
    {
     "name": "stdout",
     "output_type": "stream",
     "text": [
      "[1] \"Saving...\"\n"
     ]
    },
    {
     "name": "stderr",
     "output_type": "stream",
     "text": [
      "\u001b[1m\u001b[22mJoining with `by = join_by(V1)`\n",
      "\u001b[1m\u001b[22mJoining with `by = join_by(V6)`\n"
     ]
    },
    {
     "name": "stdout",
     "output_type": "stream",
     "text": [
      "[1] \"Saving...\"\n"
     ]
    },
    {
     "name": "stderr",
     "output_type": "stream",
     "text": [
      "\u001b[1m\u001b[22mJoining with `by = join_by(V1)`\n",
      "\u001b[1m\u001b[22mJoining with `by = join_by(V6)`\n"
     ]
    },
    {
     "name": "stdout",
     "output_type": "stream",
     "text": [
      "[1] \"Parent(s) not in VCF\"\n",
      "[1] \"Maybe these fit?  386\"\n",
      "[1] \"Saving...\"\n"
     ]
    },
    {
     "name": "stderr",
     "output_type": "stream",
     "text": [
      "\u001b[1m\u001b[22mJoining with `by = join_by(V1)`\n",
      "\u001b[1m\u001b[22mJoining with `by = join_by(V6)`\n"
     ]
    },
    {
     "name": "stdout",
     "output_type": "stream",
     "text": [
      "[1] \"Saving...\"\n"
     ]
    },
    {
     "name": "stderr",
     "output_type": "stream",
     "text": [
      "\u001b[1m\u001b[22mJoining with `by = join_by(V1)`\n",
      "\u001b[1m\u001b[22mJoining with `by = join_by(V6)`\n"
     ]
    },
    {
     "name": "stdout",
     "output_type": "stream",
     "text": [
      "[1] \"Saving...\"\n"
     ]
    },
    {
     "name": "stderr",
     "output_type": "stream",
     "text": [
      "\u001b[1m\u001b[22mJoining with `by = join_by(V1)`\n",
      "\u001b[1m\u001b[22mJoining with `by = join_by(V6)`\n"
     ]
    },
    {
     "name": "stdout",
     "output_type": "stream",
     "text": [
      "[1] \"Saving...\"\n"
     ]
    },
    {
     "name": "stderr",
     "output_type": "stream",
     "text": [
      "\u001b[1m\u001b[22mJoining with `by = join_by(V1)`\n",
      "\u001b[1m\u001b[22mJoining with `by = join_by(V6)`\n"
     ]
    },
    {
     "name": "stdout",
     "output_type": "stream",
     "text": [
      "[1] \"Saving...\"\n"
     ]
    },
    {
     "name": "stderr",
     "output_type": "stream",
     "text": [
      "\u001b[1m\u001b[22mJoining with `by = join_by(V1)`\n",
      "\u001b[1m\u001b[22mJoining with `by = join_by(V6)`\n"
     ]
    },
    {
     "name": "stdout",
     "output_type": "stream",
     "text": [
      "[1] \"Saving...\"\n"
     ]
    },
    {
     "name": "stderr",
     "output_type": "stream",
     "text": [
      "\u001b[1m\u001b[22mJoining with `by = join_by(V1)`\n",
      "\u001b[1m\u001b[22mJoining with `by = join_by(V6)`\n"
     ]
    },
    {
     "name": "stdout",
     "output_type": "stream",
     "text": [
      "[1] \"Saving...\"\n"
     ]
    },
    {
     "name": "stderr",
     "output_type": "stream",
     "text": [
      "\u001b[1m\u001b[22mJoining with `by = join_by(V1)`\n",
      "\u001b[1m\u001b[22mJoining with `by = join_by(V6)`\n"
     ]
    },
    {
     "name": "stdout",
     "output_type": "stream",
     "text": [
      "[1] \"Saving...\"\n"
     ]
    },
    {
     "name": "stderr",
     "output_type": "stream",
     "text": [
      "\u001b[1m\u001b[22mJoining with `by = join_by(V1)`\n",
      "\u001b[1m\u001b[22mJoining with `by = join_by(V6)`\n"
     ]
    },
    {
     "name": "stdout",
     "output_type": "stream",
     "text": [
      "[1] \"Saving...\"\n"
     ]
    },
    {
     "name": "stderr",
     "output_type": "stream",
     "text": [
      "\u001b[1m\u001b[22mJoining with `by = join_by(V1)`\n",
      "\u001b[1m\u001b[22mJoining with `by = join_by(V6)`\n"
     ]
    },
    {
     "name": "stdout",
     "output_type": "stream",
     "text": [
      "[1] \"Saving...\"\n"
     ]
    },
    {
     "name": "stderr",
     "output_type": "stream",
     "text": [
      "\u001b[1m\u001b[22mJoining with `by = join_by(V1)`\n",
      "\u001b[1m\u001b[22mJoining with `by = join_by(V6)`\n"
     ]
    },
    {
     "name": "stdout",
     "output_type": "stream",
     "text": [
      "[1] \"Saving...\"\n"
     ]
    },
    {
     "name": "stderr",
     "output_type": "stream",
     "text": [
      "\u001b[1m\u001b[22mJoining with `by = join_by(V1)`\n",
      "\u001b[1m\u001b[22mJoining with `by = join_by(V6)`\n"
     ]
    },
    {
     "name": "stdout",
     "output_type": "stream",
     "text": [
      "[1] \"Saving...\"\n"
     ]
    },
    {
     "name": "stderr",
     "output_type": "stream",
     "text": [
      "\u001b[1m\u001b[22mJoining with `by = join_by(V1)`\n",
      "\u001b[1m\u001b[22mJoining with `by = join_by(V6)`\n"
     ]
    },
    {
     "name": "stdout",
     "output_type": "stream",
     "text": [
      "[1] \"Saving...\"\n"
     ]
    },
    {
     "name": "stderr",
     "output_type": "stream",
     "text": [
      "\u001b[1m\u001b[22mJoining with `by = join_by(V1)`\n",
      "\u001b[1m\u001b[22mJoining with `by = join_by(V6)`\n"
     ]
    },
    {
     "name": "stdout",
     "output_type": "stream",
     "text": [
      "[1] \"Saving...\"\n"
     ]
    },
    {
     "name": "stderr",
     "output_type": "stream",
     "text": [
      "\u001b[1m\u001b[22mJoining with `by = join_by(V1)`\n",
      "\u001b[1m\u001b[22mJoining with `by = join_by(V6)`\n"
     ]
    },
    {
     "name": "stdout",
     "output_type": "stream",
     "text": [
      "[1] \"Saving...\"\n"
     ]
    },
    {
     "name": "stderr",
     "output_type": "stream",
     "text": [
      "\u001b[1m\u001b[22mJoining with `by = join_by(V1)`\n",
      "\u001b[1m\u001b[22mJoining with `by = join_by(V6)`\n"
     ]
    },
    {
     "name": "stdout",
     "output_type": "stream",
     "text": [
      "[1] \"Saving...\"\n"
     ]
    },
    {
     "name": "stderr",
     "output_type": "stream",
     "text": [
      "\u001b[1m\u001b[22mJoining with `by = join_by(V1)`\n",
      "\u001b[1m\u001b[22mJoining with `by = join_by(V6)`\n"
     ]
    },
    {
     "name": "stdout",
     "output_type": "stream",
     "text": [
      "[1] \"Saving...\"\n"
     ]
    },
    {
     "name": "stderr",
     "output_type": "stream",
     "text": [
      "\u001b[1m\u001b[22mJoining with `by = join_by(V1)`\n",
      "\u001b[1m\u001b[22mJoining with `by = join_by(V6)`\n"
     ]
    },
    {
     "name": "stdout",
     "output_type": "stream",
     "text": [
      "[1] \"Saving...\"\n"
     ]
    },
    {
     "name": "stderr",
     "output_type": "stream",
     "text": [
      "\u001b[1m\u001b[22mJoining with `by = join_by(V1)`\n",
      "\u001b[1m\u001b[22mJoining with `by = join_by(V6)`\n"
     ]
    },
    {
     "name": "stdout",
     "output_type": "stream",
     "text": [
      "[1] \"Saving...\"\n"
     ]
    },
    {
     "name": "stderr",
     "output_type": "stream",
     "text": [
      "\u001b[1m\u001b[22mJoining with `by = join_by(V1)`\n",
      "\u001b[1m\u001b[22mJoining with `by = join_by(V6)`\n"
     ]
    },
    {
     "name": "stdout",
     "output_type": "stream",
     "text": [
      "[1] \"Saving...\"\n"
     ]
    },
    {
     "name": "stderr",
     "output_type": "stream",
     "text": [
      "\u001b[1m\u001b[22mJoining with `by = join_by(V1)`\n",
      "\u001b[1m\u001b[22mJoining with `by = join_by(V6)`\n"
     ]
    }
   ],
   "source": [
    "for(i in 1:nrow(crosses_xlsx)){\n",
    "    \n",
    "crosses_xlsx_slice<-slice(crosses_xlsx, i)\n",
    "    cross<-pull(crosses_xlsx_slice, `Cross ID`)\n",
    "    cross_value <- cross\n",
    "    TRD_regions_cross <- filter(TRD_regions, cross == cross_value)\n",
    "    TRD_regions_cross\n",
    "    if(nrow(TRD_regions_cross)==0){\n",
    "        next\n",
    "    }\n",
    "\n",
    "    parent1<-pull(crosses_xlsx_slice,`Short name 1`)\n",
    "    parent2<-pull(crosses_xlsx_slice,`Short name 2`)\n",
    "\n",
    "    if(!(parent1 %in% colnames(SVs) & parent2 %in% colnames(SVs))){\n",
    "        print(\"Parent(s) not in VCF\")\n",
    "        print(paste0(\"Maybe these fit? \", which(grepl(parent1,colnames(SVs))),\n",
    "                    \" \", which(grepl(parent2,colnames(SVs)))))\n",
    "        next\n",
    "    }\n",
    "\n",
    "    vcf1_file<-paste0(\"/home/vloegler/SVCalling_Sace1000ONT/04-analysis/01_SV_VCF/\",parent1,\"_output/\",parent1,\".SVs_all.vcf\")\n",
    "    vcf2_file<-paste0(\"/home/vloegler/SVCalling_Sace1000ONT/04-analysis/01_SV_VCF/\",parent2,\"_output/\",parent2,\".SVs_all.vcf\")\n",
    "\n",
    "    getSVEND=function(x){\n",
    "        x=strsplit(strsplit(x, \"END=\", fixed=TRUE)[[1]][2], \";\", fixed=TRUE)[[1]][1]\n",
    "        return(as.numeric(x))\n",
    "    }\n",
    "\n",
    "    getSVLEN=function(x){\n",
    "        x=strsplit(strsplit(x, \"SVLEN=\", fixed=TRUE)[[1]][2], \";\", fixed=TRUE)[[1]][1]\n",
    "        return(as.numeric(x))\n",
    "    }\n",
    "\n",
    "    getSVTYPE=function(x){\n",
    "        x=strsplit(strsplit(x, \"SVTYPE=\", fixed=TRUE)[[1]][2], \";\", fixed=TRUE)[[1]][1]\n",
    "        return(x)\n",
    "    }\n",
    "\n",
    "    analyse_sv_vcf_vs_ref<-function(vcf_file){\n",
    "        vcf<-fread(cmd=paste0(\"grep -v ^## \",vcf_file,\" | cut -f 4,5 --complement\"))\n",
    "        vcf<-mutate(vcf, END=unlist(lapply(INFO,getSVEND)),\n",
    "                         #LEN=unlist(lapply(INFO,getSVLEN)),\n",
    "                         TYPE=unlist(lapply(INFO,getSVTYPE)))\n",
    "        colnames(vcf)[8]<-\"GT\"\n",
    "        vcf<-filter(vcf, GT==\"1/1\", FORMAT==\"GT\")\n",
    "        return(select(vcf, -INFO,-FILTER,-QUAL,-ID,-GT,-FORMAT))\n",
    "    }\n",
    "\n",
    "    if(file.exists(vcf1_file)){\n",
    "        vcf1<-analyse_sv_vcf_vs_ref(vcf1_file)\n",
    "        vcf1<-mutate(vcf1, sample=parent1)\n",
    "    }\n",
    "    if(file.exists(vcf2_file)){\n",
    "        vcf2<-analyse_sv_vcf_vs_ref(vcf2_file)\n",
    "        vcf2<-mutate(vcf2, sample=parent2)\n",
    "    }\n",
    "\n",
    "    if(file.exists(vcf1_file)&file.exists(vcf2_file)){\n",
    "            vcf<-bind_rows(vcf1,vcf2)\n",
    "        }else{\n",
    "        if(file.exists(vcf1_file)){\n",
    "            vcf<-vcf1\n",
    "            }else{\n",
    "            vcf<-vcf2\n",
    "        }\n",
    "    }\n",
    "\n",
    "    vcf<-vcf%>%mutate(`#CHROM` = fct_relevel(`#CHROM`, naturalsort(unique(pull(vcf,`#CHROM`)))))\n",
    "\n",
    "    sv_victor_overview<-ggplot(vcf, aes(x=POS,xend=END,y=sample,yend=sample,color=TYPE))+\n",
    "    geom_segment(linewidth=5)+facet_wrap(~`#CHROM`,scales = \"free_x\")+theme_bw(20)\n",
    "\n",
    "    saveRDS(sv_victor_overview, paste0(output_dir,\"/\",cross,\".\",\n",
    "                             \"sv_victor\",\".RDS\"))\n",
    "\n",
    "    vcf<-filter(vcf, TYPE!=\"TRD\")\n",
    "\n",
    "    Victor_SV_TRD_overlap<-data.table()\n",
    "    \n",
    "    # lets first fill a 0 LEN tibble for later easier usability\n",
    "    \n",
    "    Victor_SV_TRD_overlap<-expand_grid(sample=c(parent1,parent2), TYPE=unique(pull(vcf,TYPE)),         LEN_rel=0,       ID=unique(pull(TRD_regions_cross,ID))       )\n",
    "    \n",
    "    \n",
    "    # iterate over TRD_regions_cross to detect SVs overlapping\n",
    "        for(which_trd in 1:nrow(TRD_regions_cross)){\n",
    "            trd_region_slice<-slice(TRD_regions_cross, which_trd)\n",
    "            SVs_cross_this_region<-filter(vcf, as.character(`#CHROM`) == as.character(pull(trd_region_slice, chr)),\n",
    "\n",
    "                  (POS >= pull(trd_region_slice, start) & POS <= pull(trd_region_slice, end)) \n",
    "                                          | \n",
    "                                          ((END >= pull(trd_region_slice, start)) & (END <= pull(trd_region_slice, end)))\n",
    "                                       | \n",
    "                                          (((POS) < pull(trd_region_slice, start)) & (END > pull(trd_region_slice, end)))  \n",
    "                                         )\n",
    "\n",
    "\n",
    "            # to get at most 1 in relative sv-TRD overlap, we have to cut down the SV start / end positions if they are going past the TRD region\n",
    "\n",
    "\n",
    "            SVs_cross_this_region<-mutate(SVs_cross_this_region, \n",
    "                                         start_overlap=ifelse(POS<pull(trd_region_slice, start),\n",
    "                                                             pull(trd_region_slice, start),POS),\n",
    "                                          end_overlap=ifelse(END>pull(trd_region_slice, end),\n",
    "                                                             pull(trd_region_slice, end),END))\n",
    "\n",
    "\n",
    "\n",
    "            Victor_SV_TRD_overlap<-bind_rows(Victor_SV_TRD_overlap,select(SVs_cross_this_region, sample, TYPE, start_overlap,end_overlap)%>%mutate(LEN=(end_overlap-start_overlap),LEN_rel=(end_overlap-start_overlap)/pull(trd_region_slice,lengthBp),\n",
    "                                                              ID=pull(trd_region_slice,ID)))\n",
    "        }\n",
    "    Victor_SV_TRD_overlap\n",
    "    \n",
    "    \n",
    "\n",
    "    Victor_SV_TRD_overlap<-mutate(Victor_SV_TRD_overlap, source=\"VictorSV\")\n",
    "\n",
    "    TRD_regions_cross_SV_data<-left_join(TRD_regions_cross, Victor_SV_TRD_overlap, by=\"ID\", multiple=\"all\")%>%select(cross,ID,TYPE,LEN,LEN_rel,sample,source)\n",
    "    \n",
    "    print(\"Saving...\")\n",
    "    \n",
    "    saveRDS(TRD_regions_cross_SV_data, paste0(output_dir,\"/\",cross,\".\",\n",
    "                         \"SV_data\",\".RDS\"))\n",
    "    \n",
    "    #### MASHMAP ####\n",
    "\n",
    "    if(!file.exists(mash_file<-paste0(\"/home/jnrunge/data/trd/Victor_SV/dotplots/\",parent1,\"_\",parent2,\".out\"))){\n",
    "        next\n",
    "    }\n",
    "\n",
    "    mash<-fread(mash_file, header=FALSE)\n",
    "\n",
    "    # we need to convert to global positions (chr ordered)\n",
    "    # going to be prone to issues if assembly is not great\n",
    "    # will just use naturalsorted chr names to determine order\n",
    "\n",
    "    get_global_pos<-function(df, chr_column, start_column, end_column, which_1_or_2){\n",
    "        chrs_sizes<-select(df, all_of(c(chr_column, chr_column+1)))%>%distinct()\n",
    "        chrs_sizes <- chrs_sizes[naturalorder(chrs_sizes%>%select(1)%>%pull()), ]\n",
    "        colnames(chrs_sizes)[2]<-\"V2\"\n",
    "        chrs_sizes <- mutate(chrs_sizes, previous_bp = c(0, cumsum(V2[-length(V2)])))\n",
    "        colnames(chrs_sizes)[3]<-paste(colnames(chrs_sizes)[3],chr_column,sep=\"_\")\n",
    "        df<-left_join(df, chrs_sizes%>%select(1,3))\n",
    "\n",
    "        df <- df %>%\n",
    "                mutate(!!paste0(\"global_pos_start_\", which_1_or_2) := \n",
    "               .data[[colnames(df)[start_column]]] +\n",
    "               .data[[colnames(chrs_sizes)[3]]])\n",
    "\n",
    "        df <- df %>%\n",
    "                mutate(!!paste0(\"global_pos_end_\", which_1_or_2) := \n",
    "               .data[[colnames(df)[end_column]]] +\n",
    "               .data[[colnames(chrs_sizes)[3]]])\n",
    "\n",
    "\n",
    "        return(df)\n",
    "    }\n",
    "    mash<-mutate(mash, global_pos_start_1=NA, global_pos_end_1=NA,\n",
    "                global_pos_start_2=NA, global_pos_end_2=NA)\n",
    "    mash<-get_global_pos(mash, 1, 3, 4, 1)\n",
    "    mash<-get_global_pos(mash, 6, 8, 9, 2)\n",
    "    mash<-mash%>%mutate(V6 = fct_relevel(V6, naturalsort(unique(pull(mash,V6)))))\n",
    "    mash<-mash%>%mutate(V1 = fct_relevel(V1, naturalsort(unique(pull(mash,V1)))))\n",
    "\n",
    "    num_colors <- max(c(length(unique(pull(mash,V6))),length(unique(pull(mash,V1)))))\n",
    "    my_palette <- colorRampPalette(brewer.pal(8, \"Set3\"))(num_colors)\n",
    "\n",
    "    mash_1_plot<-ggplot(mash, aes(x=global_pos_start_1, xend=global_pos_end_1,\n",
    "                     y=global_pos_start_2, yend=global_pos_end_2, color=V6)) +\n",
    "      geom_segment(linewidth=2) +theme_bw(18)+scale_color_manual(values = my_palette)+\n",
    "      theme(axis.text.x = element_text(angle = 90, vjust = 0.5, hjust=1))\n",
    "\n",
    "    mash_2_plot<-ggplot(mash, aes(x=global_pos_start_2, xend=global_pos_end_2,\n",
    "                     y=global_pos_start_1, yend=global_pos_end_1, color=V1)) +\n",
    "      geom_segment(linewidth=2) +theme_bw(18)+scale_color_manual(values = my_palette)+\n",
    "      theme(axis.text.x = element_text(angle = 90, vjust = 0.5, hjust=1))\n",
    "\n",
    "\n",
    "    mash_1_plot\n",
    "    mash_2_plot\n",
    "\n",
    "    saveRDS(mash_1_plot, paste0(output_dir,\"/\",cross,\".\",\n",
    "                         \"mash1\",\".RDS\"))\n",
    "    saveRDS(mash_2_plot, paste0(output_dir,\"/\",cross,\".\",\n",
    "                         \"mash2\",\".RDS\"))\n",
    "\n",
    "    \n",
    "    #### SYRI ####\n",
    "    \n",
    "    ### not in use because it is redundant now with the individual files of Victor\n",
    "    ### what would I interpret from two different softwares?\n",
    "    ### also: the coordinates would be a pain to re-translate to the reference\n",
    "    \n",
    "    \n",
    "    #syri_file<-paste0(\"/home/jnrunge/data/trd/Victor_SV/alignments/\",parent1,\"_\",parent2,\".mi80l100syri.out.gz\")\n",
    "    \n",
    "#     if(!file.exists(syri_file)){\n",
    "#         next\n",
    "#     }\n",
    "    \n",
    "    \n",
    "#     syri<-fread(syri_file, header=FALSE)\n",
    "#     syri<-mutate(syri, V2=as.numeric(V2), V3=as.numeric(V3),\n",
    "#                 V7=as.numeric(V7), V8=as.numeric(V8))\n",
    "#     head(syri)\n",
    "\n",
    "#     Syri_SV_TRD_overlap<-data.table()\n",
    "\n",
    "#     # iterate over TRD_regions_cross to detect SVs overlapping\n",
    "#     for(which_trd in 1:nrow(TRD_regions_cross)){\n",
    "#         trd_region_slice<-slice(TRD_regions_cross, which_trd)\n",
    "#         SVs_cross_this_region<-filter(syri, V11%in%c('DUP','INVDP','DEL','INS','CPL','HDR','CPG','TRANS','INVTR','TDM','INV'),\n",
    "#                                       (endsWith(V1, as.character(pull(trd_region_slice, chr))) &\n",
    "\n",
    "#               ((V2 >= pull(trd_region_slice, start) & V2 <= pull(trd_region_slice, end)) \n",
    "#                                       | \n",
    "#                                       (((V3) >= pull(trd_region_slice, start)) & ((V3) <= pull(trd_region_slice, end)))\n",
    "#                                    | \n",
    "#                                       (((V2) < pull(trd_region_slice, start)) & ((V3) > pull(trd_region_slice, end))))) | \n",
    "\n",
    "#                                       (endsWith(V6, as.character(pull(trd_region_slice, chr))) &\n",
    "\n",
    "#               ((V7 >= pull(trd_region_slice, start) & V7 <= pull(trd_region_slice, end)) \n",
    "#                                       | \n",
    "#                                       (((V8) >= pull(trd_region_slice, start)) & ((V8) <= pull(trd_region_slice, end)))\n",
    "#                                    | \n",
    "#                                       (((V7) < pull(trd_region_slice, start)) & ((V8) > pull(trd_region_slice, end)))))\n",
    "#                                      )\n",
    "        \n",
    "#         #  I will adjust both starts and ends to cut off at the end of the TRD region (though here the coordinates will be flawed anyway) to understand overlap % of SV - TRD\n",
    "        \n",
    "#         # to get at most 1 in relative sv-TRD overlap, we have to cut down the SV start / end positions if they are going past the TRD region\n",
    "    \n",
    "        \n",
    "#         SVs_cross_this_region<-mutate(SVs_cross_this_region, \n",
    "#                                      start_overlap_1=ifelse(V2<pull(trd_region_slice, start),\n",
    "#                                                           pull(trd_region_slice, start),V2),\n",
    "                                      \n",
    "#                                       start_overlap_2=ifelse(V7<pull(trd_region_slice, start),\n",
    "#                                                           pull(trd_region_slice, start),V7),\n",
    "                                      \n",
    "#                                       end_overlap_1=ifelse(V3>pull(trd_region_slice, end),\n",
    "#                                                           pull(trd_region_slice, end),V3),\n",
    "                                      \n",
    "#                                        end_overlap_2=ifelse(V8>pull(trd_region_slice, end),\n",
    "#                                                           pull(trd_region_slice, end),V8)\n",
    "                                     \n",
    "#                                      )\n",
    "        \n",
    "\n",
    "#         SVs_cross_this_region<-rename(SVs_cross_this_region, TYPE=V11)%>%\n",
    "#         mutate(LEN=ifelse((end_overlap_1-start_overlap_1)>(end_overlap_2-start_overlap_2), # because one INS would be 0, one the actual size\n",
    "#                           (end_overlap_1-start_overlap_1), (end_overlap_2-start_overlap_2)))\n",
    "#         Syri_SV_TRD_overlap<-bind_rows(Syri_SV_TRD_overlap,select(SVs_cross_this_region, TYPE, LEN)%>%mutate(LEN_rel=LEN/pull(trd_region_slice,lengthBp),\n",
    "#                                                           ID=pull(trd_region_slice,ID)))\n",
    "#     }\n",
    "\n",
    "#     Syri_SV_TRD_overlap<-mutate(Syri_SV_TRD_overlap, source=\"Syri\")\n",
    "\n",
    "\n",
    "\n",
    "    \n",
    "\n",
    "#     TRD_regions_cross_SV_data<-bind_rows(TRD_regions_cross_SV_data,left_join(TRD_regions_cross, Syri_SV_TRD_overlap, by=\"ID\", multiple=\"all\")%>%select(cross,ID,TYPE,LEN,LEN_rel,source))\n",
    "    \n",
    "    #     saveRDS(TRD_regions_cross_SV_data, paste0(output_dir,\"/\",cross,\".\",\n",
    "#                          \"SV_data\",\".RDS\"))\n",
    "    \n",
    "\n",
    "#     head(TRD_regions_cross_SV_data)\n",
    "    \n",
    "\n",
    "#     library(ggplot2)\n",
    "#     options(repr.plot.width=15, repr.plot.height=10)\n",
    "\n",
    "#     syri<-syri%>%mutate(V1 = fct_relevel(V1, naturalsort(unique(pull(syri,V1)))))\n",
    "\n",
    "#     syri<-syri%>%mutate(V6 = fct_relevel(V6, naturalsort(unique(pull(syri,V6)))))\n",
    "\n",
    "#     p<-ggplot(syri%>%filter(V1!=\"-\",\n",
    "#                         V11%in%c('DUP','INVDP','DEL','INS','CPL','HDR','CPG','TRANS','INVTR','TDM','INV')), aes(x=V2, xend=V3+50, y=V11, yend=V11, color=V11))+\n",
    "#     geom_segment(linewidth=2)+facet_wrap(~V1, scales=\"free_x\")+theme_bw(18)+\n",
    "#     ggtitle(paste0(\"Syri-based SVs between crossed parents in \",cross))\n",
    "\n",
    "#     saveRDS(p, paste0(output_dir,\"/\",cross,\".\",\n",
    "#                          \"syri_1\",\".RDS\"))\n",
    "\n",
    "#     p<-ggplot(syri%>%filter(V6!=\"-\",\n",
    "#                         V11%in%c('DUP','INVDP','DEL','INS','CPL','HDR','CPG','TRANS','INVTR','TDM','INV')), aes(x=V7, xend=V8+50, y=V11, yend=V11, color=V11))+\n",
    "#     geom_segment(linewidth=2)+facet_wrap(~V6, scales=\"free_x\")+theme_bw(18)+\n",
    "#     ggtitle(paste0(\"Syri-based SVs between crossed parents in \",cross))\n",
    "\n",
    "#     saveRDS(p, paste0(output_dir,\"/\",cross,\".\",\n",
    "#                          \"syri_2\",\".RDS\"))\n",
    "    }"
   ]
  }
 ],
 "metadata": {
  "kernelspec": {
   "display_name": "R",
   "language": "R",
   "name": "ir"
  },
  "language_info": {
   "codemirror_mode": "r",
   "file_extension": ".r",
   "mimetype": "text/x-r-source",
   "name": "R",
   "pygments_lexer": "r",
   "version": "4.1.1"
  }
 },
 "nbformat": 4,
 "nbformat_minor": 5
}

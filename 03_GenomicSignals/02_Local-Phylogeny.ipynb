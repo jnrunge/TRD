{
 "cells": [
  {
   "cell_type": "markdown",
   "id": "a18807ea-de1b-49a7-95a2-fa897f3d9cda",
   "metadata": {},
   "source": [
    "* Grab TRD loci of all crosses\n",
    "* do the SNPRelate phylogeny for each locus"
   ]
  },
  {
   "cell_type": "code",
   "execution_count": 1,
   "id": "06d576ac-9e49-47e5-970b-d3b1d797d2e3",
   "metadata": {
    "tags": []
   },
   "outputs": [
    {
     "name": "stderr",
     "output_type": "stream",
     "text": [
      "\n",
      "Attaching package: 'tidytable'\n",
      "\n",
      "\n",
      "The following objects are masked from 'package:data.table':\n",
      "\n",
      "    between, first, fread, last\n",
      "\n",
      "\n",
      "The following objects are masked from 'package:stats':\n",
      "\n",
      "    dt, filter, lag\n",
      "\n",
      "\n",
      "The following object is masked from 'package:base':\n",
      "\n",
      "    %in%\n",
      "\n",
      "\n"
     ]
    }
   ],
   "source": [
    "library(data.table)\n",
    "library(tidytable)\n",
    "library(ggplot2)"
   ]
  },
  {
   "cell_type": "code",
   "execution_count": 2,
   "id": "8f1f4612-b0ac-44ae-af8c-ed850210bb45",
   "metadata": {
    "tags": []
   },
   "outputs": [
    {
     "name": "stderr",
     "output_type": "stream",
     "text": [
      "Loading required package: gdsfmt\n",
      "\n",
      "SNPRelate -- supported by Streaming SIMD Extensions 2 (SSE2)\n",
      "\n",
      "\n",
      "Attaching package: 'ape'\n",
      "\n",
      "\n",
      "The following object is masked from 'package:tidytable':\n",
      "\n",
      "    where\n",
      "\n",
      "\n"
     ]
    },
    {
     "name": "stdout",
     "output_type": "stream",
     "text": [
      "Start file conversion from VCF to SNP GDS ...\n",
      "Method: extracting biallelic SNPs\n",
      "Number of samples: 2489\n",
      "Parsing \"/home/jnrunge/data/trd/full2489Matrix.vcf.gz\" ...\n",
      "\timport 2216200 variants.\n",
      "+ genotype   \u001b[2m{\u001b[22m \u001b[90mBit2\u001b[39m \u001b[90m2489x2216200\u001b[39m\u001b[2m, \u001b[22m\u001b[2m1.3G\u001b[22m \u001b[2m}\u001b[22m *\n",
      "Optimize the access efficiency ...\n",
      "Clean up the fragments of GDS file:\n",
      "    open the file 'full2489Matrix.vcf.gz.gds' (1.3G)\n",
      "    # of fragments: 275\n",
      "    save to 'full2489Matrix.vcf.gz.gds.tmp'\n",
      "    rename 'full2489Matrix.vcf.gz.gds.tmp' (1.3G, reduced: 3.0K)\n",
      "    # of fragments: 20\n"
     ]
    }
   ],
   "source": [
    "library(SNPRelate)\n",
    "library(ape)\n",
    "\n",
    "# Get paths of input files\n",
    "my.vcf <- \"/home/jnrunge/data/trd/full2489Matrix.vcf.gz\"\n",
    "subset_samples = \"none\"\n",
    "\n",
    "if(subset_samples == \"none\"){\n",
    "    subset_samples=NULL\n",
    "    prefix <- basename(my.vcf)\n",
    "    }else{\n",
    "    prefix <- basename(subset_samples)\n",
    "    subset_samples=readLines(subset_samples)\n",
    "    }\n",
    "\n",
    "setwd(dirname(my.vcf))\n",
    "snpgdsVCF2GDS(my.vcf, paste0(prefix, \".gds\"), ignore.chr.prefix=\"chromosome\")\n"
   ]
  },
  {
   "cell_type": "code",
   "execution_count": 3,
   "id": "b50b54a5-836b-4a86-8311-772b6bc36925",
   "metadata": {},
   "outputs": [],
   "source": [
    "genofile <- snpgdsOpen(paste0(prefix, \".gds\"))\n"
   ]
  },
  {
   "cell_type": "code",
   "execution_count": 8,
   "id": "1c6abad4-96bb-479b-9711-8390123bebfd",
   "metadata": {},
   "outputs": [],
   "source": [
    "if(!file.exists(\"pca_global.rds\")){\n",
    "    pca_global <- snpgdsPCA(genofile, num.thread=1)\n",
    "    saveRDS(pca_global, file = \"pca_global.rds\")\n",
    "}else{\n",
    "    pca_global=readRDS(file = \"pca_global.rds\")\n",
    "}"
   ]
  },
  {
   "cell_type": "code",
   "execution_count": 9,
   "id": "d86587ec-0abc-4e9e-b172-c5b25c47b0e8",
   "metadata": {
    "tags": []
   },
   "outputs": [
    {
     "data": {
      "text/html": [
       "<style>\n",
       ".list-inline {list-style: none; margin:0; padding: 0}\n",
       ".list-inline>li {display: inline-block}\n",
       ".list-inline>li:not(:last-child)::after {content: \"\\00b7\"; padding: 0 .5ex}\n",
       "</style>\n",
       "<ol class=list-inline><li>4.92</li><li>2.52</li><li>1.77</li><li>1.54</li><li>1.5</li><li>1.46</li></ol>\n"
      ],
      "text/latex": [
       "\\begin{enumerate*}\n",
       "\\item 4.92\n",
       "\\item 2.52\n",
       "\\item 1.77\n",
       "\\item 1.54\n",
       "\\item 1.5\n",
       "\\item 1.46\n",
       "\\end{enumerate*}\n"
      ],
      "text/markdown": [
       "1. 4.92\n",
       "2. 2.52\n",
       "3. 1.77\n",
       "4. 1.54\n",
       "5. 1.5\n",
       "6. 1.46\n",
       "\n",
       "\n"
      ],
      "text/plain": [
       "[1] 4.92 2.52 1.77 1.54 1.50 1.46"
      ]
     },
     "metadata": {},
     "output_type": "display_data"
    }
   ],
   "source": [
    "pca_global.percent <- pca_global$varprop*100\n",
    "head(round(pca_global.percent, 2))"
   ]
  },
  {
   "cell_type": "code",
   "execution_count": 10,
   "id": "31b44604-6b11-43c4-b14c-af11476f382d",
   "metadata": {
    "tags": []
   },
   "outputs": [],
   "source": [
    "tab_global <- data.frame(sample.id = pca_global$sample.id,\n",
    "    EV1 = pca_global$eigenvect[,1],    # the first eigenvector\n",
    "    EV2 = pca_global$eigenvect[,2],    # the second eigenvector\n",
    "    stringsAsFactors = FALSE)"
   ]
  },
  {
   "cell_type": "code",
   "execution_count": null,
   "id": "89006813-d75a-4760-b19f-96a7848c12c4",
   "metadata": {},
   "outputs": [],
   "source": [
    "crosses=readLines(\"~/data/trd/mapped_reads/TRD.vcf.gz.samples\")\n",
    "crosses=crosses[startsWith(crosses, \"YJNRC\") | startsWith(crosses, \"Chris\")]\n",
    "crosses"
   ]
  },
  {
   "cell_type": "code",
   "execution_count": null,
   "id": "7716126f-fcdf-4d02-9eae-1b41a87b856f",
   "metadata": {},
   "outputs": [],
   "source": [
    "for(c in crosses){\n",
    "    if(!file.exists(paste0(\"/home/jnrunge/data/TRD/results/shiny/\",c,\"-TRD_regions.csv.gz\"))){\n",
    "        next\n",
    "    }\n",
    "    p_global<-ggplot(tab_global, aes(EV2,EV1, color=sample.id==\"BAH\",size=sample.id==\"BAH\"))+\n",
    "geom_point(shape=1)+theme_bw(18)+scale_color_manual(values=c(\"TRUE\"=\"red\",\"FALSE\"=\"blue\"))\n",
    "    print(p_global)\n",
    "    \n",
    "    AS=fread(paste0(\"/home/jnrunge/data/TRD/results/shiny/\",c,\"-AF.csv.gz.allelesharing.csv.gz\"))\n",
    "\n",
    "    TRD=fread(paste0(\"/home/jnrunge/data/TRD/results/shiny/\",c,\"-AF.csv.gz\"))\n",
    "\n",
    "    TRD_loci=fread(paste0(\"/home/jnrunge/data/TRD/results/shiny/\",c,\"-TRD_regions.csv.gz\"))\n",
    "\n",
    "    for(i in 1:nrow(TRD_loci)){\n",
    "        if(TRD_loci$chr_start[i]!=TRD_loci$chr_end[i]){\n",
    "            stop(\"chr overlapping TRD\")\n",
    "        }\n",
    "        TRD_subset=filter(TRD, chr== TRD_loci$chr_start[i] & global_pos >= TRD_loci$global_start[i] & global_pos <= TRD_loci$global_end[i])\n",
    "        df_AS_filtered=filter(AS, `#CHROM` == TRD_loci$chr_start[i], POS %in% TRD_subset$pos)\n",
    "\n",
    "        snpset=which(read.gdsn(index.gdsn(genofile, \"snp.position\"))%in%TRD_subset$pos & \n",
    "                     paste0(\"chromosome\",read.gdsn(index.gdsn(genofile, \"snp.chromosome\"))) == TRD_loci$chr_start[i])\n",
    "\n",
    "        pca_TRD <- snpgdsPCA(genofile, num.thread=1, snp.id = snpset)\n",
    "\n",
    "        pca_TRD.percent <- pca_TRD$varprop*100\n",
    "\n",
    "        tab <- data.frame(sample.id = pca_TRD$sample.id,\n",
    "            EV1 = pca_TRD$eigenvect[,1],    # the first eigenvector\n",
    "            EV2 = pca_TRD$eigenvect[,2],    # the second eigenvector\n",
    "            stringsAsFactors = FALSE)\n",
    "\n",
    "        p<-ggplot(tab, aes(EV2,EV1, color=sample.id==\"BAH\",size=sample.id==\"BAH\"))+\n",
    "        geom_point(shape=1)+theme_bw(18)+scale_color_manual(values=c(\"TRUE\"=\"red\",\"FALSE\"=\"blue\"))\n",
    "        print(p)\n",
    "\n",
    "    }\n",
    "\n",
    "}"
   ]
  }
 ],
 "metadata": {
  "kernelspec": {
   "display_name": "R",
   "language": "R",
   "name": "ir"
  },
  "language_info": {
   "codemirror_mode": "r",
   "file_extension": ".r",
   "mimetype": "text/x-r-source",
   "name": "R",
   "pygments_lexer": "r",
   "version": "4.1.3"
  }
 },
 "nbformat": 4,
 "nbformat_minor": 5
}

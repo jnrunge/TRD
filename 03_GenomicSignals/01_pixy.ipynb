{
 "cells": [
  {
   "cell_type": "markdown",
   "id": "f02e3a92-8a32-427f-9445-836e02c34914",
   "metadata": {},
   "source": [
    "I should be able to get all sites vcf with <https://pixy.readthedocs.io/en/latest/generating_invar/generating_invar.html#generating-allsites-vcfs-using-gatk> and `~/data/trd/GVCF_2489Strains/`"
   ]
  },
  {
   "cell_type": "code",
   "execution_count": 1,
   "id": "74ce9bd6-184a-4db2-9f3f-0c5d0274408e",
   "metadata": {
    "tags": []
   },
   "outputs": [
    {
     "name": "stderr",
     "output_type": "stream",
     "text": [
      "\n",
      "Attaching package: 'dplyr'\n",
      "\n",
      "\n",
      "The following objects are masked from 'package:data.table':\n",
      "\n",
      "    between, first, last\n",
      "\n",
      "\n",
      "The following objects are masked from 'package:stats':\n",
      "\n",
      "    filter, lag\n",
      "\n",
      "\n",
      "The following objects are masked from 'package:base':\n",
      "\n",
      "    intersect, setdiff, setequal, union\n",
      "\n",
      "\n",
      "Warning: tidytable was loaded after dplyr.\n",
      "This can lead to most dplyr functions being overwritten by tidytable functions.\n",
      "\n",
      "\n",
      "Attaching package: 'tidytable'\n",
      "\n",
      "\n",
      "The following objects are masked from 'package:dplyr':\n",
      "\n",
      "    across, add_count, add_tally, anti_join, arrange, between,\n",
      "    bind_cols, bind_rows, c_across, case_match, case_when, coalesce,\n",
      "    consecutive_id, count, cross_join, cume_dist, cur_column, cur_data,\n",
      "    cur_group_id, cur_group_rows, dense_rank, desc, distinct, filter,\n",
      "    first, full_join, group_by, group_cols, group_split, group_vars,\n",
      "    if_all, if_any, if_else, inner_join, is_grouped_df, lag, last,\n",
      "    lead, left_join, min_rank, mutate, n, n_distinct, na_if, nest_by,\n",
      "    nest_join, nth, percent_rank, pick, pull, recode, relocate, rename,\n",
      "    rename_with, right_join, row_number, rowwise, select, semi_join,\n",
      "    slice, slice_head, slice_max, slice_min, slice_sample, slice_tail,\n",
      "    summarise, summarize, tally, top_n, transmute, tribble, ungroup\n",
      "\n",
      "\n",
      "The following objects are masked from 'package:data.table':\n",
      "\n",
      "    between, first, fread, last\n",
      "\n",
      "\n",
      "The following objects are masked from 'package:stats':\n",
      "\n",
      "    dt, filter, lag\n",
      "\n",
      "\n",
      "The following object is masked from 'package:base':\n",
      "\n",
      "    %in%\n",
      "\n",
      "\n"
     ]
    }
   ],
   "source": [
    "source(\"../../BrusselSprouts/scripts/functions.R\")\n",
    "scripts_dir=\"/home/jnrunge/data/trd/mapped_reads/scripts/\"\n",
    "initial_timedate=Sys.time()\n",
    "library(tidytable)"
   ]
  },
  {
   "cell_type": "code",
   "execution_count": 2,
   "id": "5facc48c-39be-4190-b1da-4e37d1360ee1",
   "metadata": {
    "tags": []
   },
   "outputs": [],
   "source": [
    "# make sample name map  samplename\\tgvcf\n",
    "\n",
    "samples=list.files(\"/home/jnrunge/data/trd/GVCF_2489Strains\", \"g.vcf.gz$\", full.names = TRUE)\n",
    "samples=data.frame(id=unlist(lapply(basename(samples), getFirst_v2, split=\".\")),file=samples)\n",
    "fwrite(samples, \"~/data/trd/mapped_reads/truly_all_samples.tsv\", col.names = FALSE, sep=\"\\t\")"
   ]
  },
  {
   "cell_type": "code",
   "execution_count": 3,
   "id": "dfb74684-9e42-48ac-a820-368ef3a551c7",
   "metadata": {
    "tags": []
   },
   "outputs": [],
   "source": [
    "if(!file.exists(\"~/data/trd/mapped_reads/ALL.DP5-95.chromosome1.DP10.GQ20RGQ20.SNPsRef.vcf.gz\")){ # just an example, so that keeping the filtered files on the server is enough\n",
    "    # unfiltered files are on viseg\n",
    "    file.create(running_file<-paste0(\"~/data/TRD/runningGATKFullmerge\"))\n",
    "    cmd=\"cd ~/data/trd/mapped_reads\"# && rm -rf ALL_DB\"\n",
    "    cmd=paste0(cmd, \" && gatk GenomicsDBImport --batch-size 200 --genomicsdb-workspace-path ALL_DB --sample-name-map ~/data/trd/mapped_reads/truly_all_samples.tsv -L ~/data/TRD/R64_nucl.fasta.fai.bed\")\n",
    "    cmd=paste0(cmd, \" && gatk GenotypeGVCFs --java-options '-Xmx180G' -R ../../TRD/R64_nucl.fasta -all-sites -V gendb://ALL_DB -O ALL.vcf.gz\")\n",
    "    cmd=paste0(cmd, \" && bcftools query -l ALL.vcf.gz > ALL.vcf.gz.samples && bcftools view -Ob -o ALL.bcf ALL.vcf.gz && rm -f ~/data/TRD/runningGATKFullmerge\")\n",
    "    execute_cmd_sbatch(cmd, mem=\"200G\", cpu=\"1\", time=\"long\", env=\"bwaetc\", jobname=\"GATK_merge\")\n",
    "\n",
    "    while(file.exists(running_file)){\n",
    "        Sys.sleep(60)\n",
    "    }\n",
    "}"
   ]
  },
  {
   "cell_type": "markdown",
   "id": "67afe4c5-a99c-4585-9d5c-eaec401905ae",
   "metadata": {},
   "source": [
    "Now I need to filter and do this carefully. We want to remove indels and low GQ calls. invariant sites have \"RGQ\" instead of GQ, which is the chance of a wrong call, so here we also want a high number (unlike PL). \n",
    "\n",
    "So we want GQ >= 20 or RGQ >= 20 I would think. \n",
    "\n",
    "First, we get an overview of the average DP in total, and which positions should be removed because they are outside the 5%-95% range\n",
    "\n",
    "````bash\n",
    "bcftools query -f \"%CHROM\\t%POS\\t%INFO/DP\\n\" ALL.vcf.gz | gzip > ALL.vcf.gz.DP.gz\n",
    "````\n"
   ]
  },
  {
   "cell_type": "markdown",
   "id": "4bd7a32c-478a-4e23-be9f-81cbea36725c",
   "metadata": {},
   "source": [
    "````r\n",
    "DP=fread(\"~/data/trd/mapped_reads/ALL.vcf.gz.DP.gz\")\n",
    "\n",
    "print(quantile(as.numeric(DP$V3), c(0.05,0.95), na.rm = TRUE))\n",
    "````\n",
    "\n",
    "````bash\n",
    "\n",
    "# sites filtering depth\n",
    "bcftools view -i \"INFO/DP >= 149240 & INFO/DP <= 408636\" -Ob -o ALL.DP5-95.bcf ALL.vcf.gz\n",
    "\n",
    "bcftools index ALL.DP5-95.bcf\n",
    "\n",
    "bcftools view ALL.DP5-95.bcf | grep -v ^# | cut -f 1 | uniq > chrs.txt\n",
    "\n",
    "\n",
    "````"
   ]
  },
  {
   "cell_type": "code",
   "execution_count": 4,
   "id": "e10c3fd5-c70f-4b12-ac17-7c334032d4ae",
   "metadata": {
    "tags": []
   },
   "outputs": [],
   "source": [
    "chrs=readLines(\"~/data/trd/mapped_reads/chrs.txt\") # its just a list of chromosomes (see MD block above)\n",
    "for(c in chrs){\n",
    "    if(file.exists(paste0(\"~/data/trd/mapped_reads/ALL.DP5-95.\",c,\".DP10.GQ20RGQ20.SNPsRef.vcf.gz\"))){\n",
    "        next\n",
    "    }\n",
    "    # filtering VCF and splitting into chromosomes\n",
    "    cmd=paste0('sh -xe ~/TRD/03_GenomicSignals/01_pixy_filter-vcf.sh ',c)\n",
    "    execute_cmd_sbatch(cmd, mem=\"8G\", cpu=\"1\", time=\"long\", env=\"bwaetc\", jobname=\"bcftools_filter\")\n",
    "    Sys.sleep(1)\n",
    "}"
   ]
  },
  {
   "cell_type": "code",
   "execution_count": 5,
   "id": "c2903771-4038-44aa-9642-a0d73c13ff6f",
   "metadata": {
    "tags": []
   },
   "outputs": [],
   "source": [
    "samples=readLines(\"~/data/trd/mapped_reads/ALL.vcf.gz.samples\")"
   ]
  },
  {
   "cell_type": "code",
   "execution_count": 6,
   "id": "b4e9d6ad-036a-41f8-a064-1030cf288530",
   "metadata": {
    "tags": []
   },
   "outputs": [
    {
     "data": {
      "text/plain": [
       "   Mode    TRUE \n",
       "logical    2489 "
      ]
     },
     "metadata": {},
     "output_type": "display_data"
    },
    {
     "data": {
      "text/html": [
       "<table class=\"dataframe\">\n",
       "<caption>A tidytable: 6 x 2</caption>\n",
       "<thead>\n",
       "\t<tr><th scope=col>Strain</th><th scope=col>Clade</th></tr>\n",
       "\t<tr><th scope=col>&lt;chr&gt;</th><th scope=col>&lt;chr&gt;</th></tr>\n",
       "</thead>\n",
       "<tbody>\n",
       "\t<tr><td>AAA</td><td>1__Wine               </td></tr>\n",
       "\t<tr><td>AAB</td><td>8__Belgium_Beer       </td></tr>\n",
       "\t<tr><td>AAC</td><td>10__UK_Beer           </td></tr>\n",
       "\t<tr><td>AAD</td><td>18__Asian_Fermentation</td></tr>\n",
       "\t<tr><td>AAE</td><td>1__Wine               </td></tr>\n",
       "\t<tr><td>AAG</td><td>16__USA_Clinical_1    </td></tr>\n",
       "</tbody>\n",
       "</table>\n"
      ],
      "text/latex": [
       "A tidytable: 6 x 2\n",
       "\\begin{tabular}{ll}\n",
       " Strain & Clade\\\\\n",
       " <chr> & <chr>\\\\\n",
       "\\hline\n",
       "\t AAA & 1\\_\\_Wine               \\\\\n",
       "\t AAB & 8\\_\\_Belgium\\_Beer       \\\\\n",
       "\t AAC & 10\\_\\_UK\\_Beer           \\\\\n",
       "\t AAD & 18\\_\\_Asian\\_Fermentation\\\\\n",
       "\t AAE & 1\\_\\_Wine               \\\\\n",
       "\t AAG & 16\\_\\_USA\\_Clinical\\_1    \\\\\n",
       "\\end{tabular}\n"
      ],
      "text/markdown": [
       "\n",
       "A tidytable: 6 x 2\n",
       "\n",
       "| Strain &lt;chr&gt; | Clade &lt;chr&gt; |\n",
       "|---|---|\n",
       "| AAA | 1__Wine                |\n",
       "| AAB | 8__Belgium_Beer        |\n",
       "| AAC | 10__UK_Beer            |\n",
       "| AAD | 18__Asian_Fermentation |\n",
       "| AAE | 1__Wine                |\n",
       "| AAG | 16__USA_Clinical_1     |\n",
       "\n"
      ],
      "text/plain": [
       "  Strain Clade                 \n",
       "1 AAA    1__Wine               \n",
       "2 AAB    8__Belgium_Beer       \n",
       "3 AAC    10__UK_Beer           \n",
       "4 AAD    18__Asian_Fermentation\n",
       "5 AAE    1__Wine               \n",
       "6 AAG    16__USA_Clinical_1    "
      ]
     },
     "metadata": {},
     "output_type": "display_data"
    }
   ],
   "source": [
    "# what groups should be run?\n",
    "pop_files=list()\n",
    "\n",
    "\n",
    "# each pop\n",
    "pops=fread(\"../Shiny/data/Victor/operationalTable_Full2543Sace_Clades.csv\")\n",
    "summary(samples%in%pops$StandardizedName)\n",
    "popList=left_join(data.table(Strain=samples), select(pops, StandardizedName, Clade), by=c(\"Strain\"=\"StandardizedName\"))\n",
    "popList=filter(popList, !is.na(Clade))\n",
    "popList=mutate(popList, Clade=gsub(\"[ .]\",\"_\",Clade))\n",
    "head(popList)\n",
    "fwrite(popList, pop_files[[\"Clades\"]]<-\"~/data/trd/mapped_reads/ALL.vcf.gz-Clades.popList\", sep=\"\\t\", col.names = FALSE)"
   ]
  },
  {
   "cell_type": "code",
   "execution_count": 7,
   "id": "1b47633f-8782-4156-a21f-0f91d2c8824d",
   "metadata": {
    "tags": []
   },
   "outputs": [
    {
     "data": {
      "text/html": [
       "<style>\n",
       ".list-inline {list-style: none; margin:0; padding: 0}\n",
       ".list-inline>li {display: inline-block}\n",
       ".list-inline>li:not(:last-child)::after {content: \"\\00b7\"; padding: 0 .5ex}\n",
       "</style>\n",
       "<ol class=list-inline><li>'ChrisC1'</li><li>'ChrisC2'</li><li>'ChrisC3'</li><li>'ChrisC4'</li><li>'ChrisC5'</li><li>'ChrisC6'</li><li>'ChrisC7'</li><li>'ChrisC8'</li><li>'YJNRC1'</li><li>'YJNRC11'</li><li>'YJNRC12'</li><li>'YJNRC14'</li><li>'YJNRC15'</li><li>'YJNRC16'</li><li>'YJNRC17'</li><li>'YJNRC18'</li><li>'YJNRC19'</li><li>'YJNRC2'</li><li>'YJNRC20'</li><li>'YJNRC21'</li><li>'YJNRC22'</li><li>'YJNRC23'</li><li>'YJNRC24'</li><li>'YJNRC25'</li><li>'YJNRC26'</li><li>'YJNRC27'</li><li>'YJNRC29'</li><li>'YJNRC3'</li><li>'YJNRC30'</li><li>'YJNRC31'</li><li>'YJNRC32'</li><li>'YJNRC34'</li><li>'YJNRC4'</li><li>'YJNRC5'</li><li>'YJNRC6'</li><li>'YJNRC7'</li><li>'YJNRC8'</li><li>'YJNRC9'</li></ol>\n"
      ],
      "text/latex": [
       "\\begin{enumerate*}\n",
       "\\item 'ChrisC1'\n",
       "\\item 'ChrisC2'\n",
       "\\item 'ChrisC3'\n",
       "\\item 'ChrisC4'\n",
       "\\item 'ChrisC5'\n",
       "\\item 'ChrisC6'\n",
       "\\item 'ChrisC7'\n",
       "\\item 'ChrisC8'\n",
       "\\item 'YJNRC1'\n",
       "\\item 'YJNRC11'\n",
       "\\item 'YJNRC12'\n",
       "\\item 'YJNRC14'\n",
       "\\item 'YJNRC15'\n",
       "\\item 'YJNRC16'\n",
       "\\item 'YJNRC17'\n",
       "\\item 'YJNRC18'\n",
       "\\item 'YJNRC19'\n",
       "\\item 'YJNRC2'\n",
       "\\item 'YJNRC20'\n",
       "\\item 'YJNRC21'\n",
       "\\item 'YJNRC22'\n",
       "\\item 'YJNRC23'\n",
       "\\item 'YJNRC24'\n",
       "\\item 'YJNRC25'\n",
       "\\item 'YJNRC26'\n",
       "\\item 'YJNRC27'\n",
       "\\item 'YJNRC29'\n",
       "\\item 'YJNRC3'\n",
       "\\item 'YJNRC30'\n",
       "\\item 'YJNRC31'\n",
       "\\item 'YJNRC32'\n",
       "\\item 'YJNRC34'\n",
       "\\item 'YJNRC4'\n",
       "\\item 'YJNRC5'\n",
       "\\item 'YJNRC6'\n",
       "\\item 'YJNRC7'\n",
       "\\item 'YJNRC8'\n",
       "\\item 'YJNRC9'\n",
       "\\end{enumerate*}\n"
      ],
      "text/markdown": [
       "1. 'ChrisC1'\n",
       "2. 'ChrisC2'\n",
       "3. 'ChrisC3'\n",
       "4. 'ChrisC4'\n",
       "5. 'ChrisC5'\n",
       "6. 'ChrisC6'\n",
       "7. 'ChrisC7'\n",
       "8. 'ChrisC8'\n",
       "9. 'YJNRC1'\n",
       "10. 'YJNRC11'\n",
       "11. 'YJNRC12'\n",
       "12. 'YJNRC14'\n",
       "13. 'YJNRC15'\n",
       "14. 'YJNRC16'\n",
       "15. 'YJNRC17'\n",
       "16. 'YJNRC18'\n",
       "17. 'YJNRC19'\n",
       "18. 'YJNRC2'\n",
       "19. 'YJNRC20'\n",
       "20. 'YJNRC21'\n",
       "21. 'YJNRC22'\n",
       "22. 'YJNRC23'\n",
       "23. 'YJNRC24'\n",
       "24. 'YJNRC25'\n",
       "25. 'YJNRC26'\n",
       "26. 'YJNRC27'\n",
       "27. 'YJNRC29'\n",
       "28. 'YJNRC3'\n",
       "29. 'YJNRC30'\n",
       "30. 'YJNRC31'\n",
       "31. 'YJNRC32'\n",
       "32. 'YJNRC34'\n",
       "33. 'YJNRC4'\n",
       "34. 'YJNRC5'\n",
       "35. 'YJNRC6'\n",
       "36. 'YJNRC7'\n",
       "37. 'YJNRC8'\n",
       "38. 'YJNRC9'\n",
       "\n",
       "\n"
      ],
      "text/plain": [
       " [1] \"ChrisC1\" \"ChrisC2\" \"ChrisC3\" \"ChrisC4\" \"ChrisC5\" \"ChrisC6\" \"ChrisC7\"\n",
       " [8] \"ChrisC8\" \"YJNRC1\"  \"YJNRC11\" \"YJNRC12\" \"YJNRC14\" \"YJNRC15\" \"YJNRC16\"\n",
       "[15] \"YJNRC17\" \"YJNRC18\" \"YJNRC19\" \"YJNRC2\"  \"YJNRC20\" \"YJNRC21\" \"YJNRC22\"\n",
       "[22] \"YJNRC23\" \"YJNRC24\" \"YJNRC25\" \"YJNRC26\" \"YJNRC27\" \"YJNRC29\" \"YJNRC3\" \n",
       "[29] \"YJNRC30\" \"YJNRC31\" \"YJNRC32\" \"YJNRC34\" \"YJNRC4\"  \"YJNRC5\"  \"YJNRC6\" \n",
       "[36] \"YJNRC7\"  \"YJNRC8\"  \"YJNRC9\" "
      ]
     },
     "metadata": {},
     "output_type": "display_data"
    }
   ],
   "source": [
    "selectSimilarity=0.7\n",
    "df_Strains=fread(\"../Shiny/data/Victor/operationalTable_Full2543Sace_Clades.csv\")\n",
    "\n",
    "crosses=readLines(\"~/data/trd/mapped_reads/TRD.vcf.gz.samples\")\n",
    "crosses=crosses[startsWith(crosses, \"YJNRC\") | startsWith(crosses, \"Chris\")]\n",
    "crosses"
   ]
  },
  {
   "cell_type": "code",
   "execution_count": 13,
   "id": "46e22f84-e5af-4e55-b888-bbfcdac00ee1",
   "metadata": {
    "tags": []
   },
   "outputs": [
    {
     "ename": "ERROR",
     "evalue": "Error in eval(expr, envir, enclos): chr overlapping TRD\n",
     "output_type": "error",
     "traceback": [
      "Error in eval(expr, envir, enclos): chr overlapping TRD\nTraceback:\n",
      "1. stop(\"chr overlapping TRD\")"
     ]
    }
   ],
   "source": [
    "\n",
    "# add TRD-similar strains vs rest\n",
    "\n",
    "\n",
    "for(c in crosses){\n",
    "    AS=fread(paste0(\"/home/jnrunge/data/TRD/results/shiny/\",c,\"-AF.csv.gz.allelesharing.csv.gz\"))\n",
    "\n",
    "    TRD=fread(paste0(\"/home/jnrunge/data/TRD/results/shiny/\",c,\"-AF.csv.gz\"))\n",
    "    \n",
    "    if(!file.exists(paste0(\"/home/jnrunge/data/TRD/results/shiny/\",c,\"-TRD_regions.csv.gz\"))){\n",
    "        next\n",
    "    }\n",
    "\n",
    "    TRD_loci=fread(paste0(\"/home/jnrunge/data/TRD/results/shiny/\",c,\"-TRD_regions.csv.gz\"))\n",
    "    \n",
    "    for(i in 1:nrow(TRD_loci)){\n",
    "        if(TRD_loci$chr_start[i]!=TRD_loci$chr_end[i]){\n",
    "        stop(\"chr overlapping TRD\")\n",
    "    }\n",
    "        TRD_subset=filter(TRD, chr== TRD_loci$chr_start[i] & global_pos >= TRD_loci$global_start[i] & global_pos <= TRD_loci$global_end[i])\n",
    "        df_AS_filtered=filter(AS, `#CHROM` == TRD_loci$chr_start[i], POS %in% TRD_subset$pos)\n",
    "        melted=reshape2::melt(df_AS_filtered, id.vars = c(\"#CHROM\",\"POS\"))\n",
    "        melted=filter(melted, variable != \"chrpos\")\n",
    "        tmp=summarise(group_by(melted, variable), nAll=n())\n",
    "        vcf_translated_summary=left_join(tmp,summarise(group_by(melted, variable, value), n=n()), by=c(\"variable\"))%>%mutate(p=n/nAll)%>%select(variable,value,p)%>%rename(Strain=variable, Type=value)\n",
    "        A1s=vcf_translated_summary$Strain[vcf_translated_summary$Type==\"A1_hom\" & vcf_translated_summary$p>=selectSimilarity]\n",
    "        A2s=vcf_translated_summary$Strain[vcf_translated_summary$Type==\"A2_hom\" & vcf_translated_summary$p>=selectSimilarity]\n",
    "        \n",
    "        \n",
    "        strain_summary=bind_rows(summarise(group_by(filter(df_Strains, StandardizedName %in% A1s),\n",
    "                       StandardizedName), n=n()) %>% arrange(-n)%>%mutate(Type=\"A1_hom\"),\n",
    "              summarise(group_by(filter(df_Strains, StandardizedName %in% A2s),\n",
    "                                 StandardizedName), n=n()) %>% arrange(-n)%>%mutate(Type=\"A2_hom\"))%>% arrange(-n)\n",
    "        \n",
    "        if(mean(TRD_subset$AD_A1/TRD_subset$sumCount)<0.5){\n",
    "        distorter=\"A2\"\n",
    "        nondistorter=\"A1\"\n",
    "    }else{\n",
    "        distorter=\"A1\"\n",
    "        nondistorter=\"A2\"}\n",
    "        \n",
    "        pop_list_trd=data.frame(sample=samples,pop=\"other\",stringsAsFactors = FALSE)\n",
    "        pop_list_trd$pop[pop_list_trd$sample%in%strain_summary$StandardizedName[strain_summary$Type==paste0(distorter,\"_hom\")]]=\"distorter-like\"\n",
    "        \n",
    "        \n",
    "        fwrite(pop_list_trd, pop_files[[paste0(\"TRD_\",c,\"_\",i,\"_\",selectSimilarity)]]<-paste0(\"~/data/trd/mapped_reads/ALL.vcf.gz-\",paste0(\"TRD_\",c,\"_\",i,\"_\",selectSimilarity),\".popList\"), sep=\"\\t\", col.names = FALSE)\n",
    "    }\n",
    "}\n",
    "\n",
    "\n",
    "\n",
    "\n"
   ]
  },
  {
   "cell_type": "code",
   "execution_count": 16,
   "id": "365d6465-1b6e-49c7-8db9-02a82215433b",
   "metadata": {
    "tags": []
   },
   "outputs": [
    {
     "data": {
      "text/html": [
       "'ChrisC3'"
      ],
      "text/latex": [
       "'ChrisC3'"
      ],
      "text/markdown": [
       "'ChrisC3'"
      ],
      "text/plain": [
       "[1] \"ChrisC3\""
      ]
     },
     "metadata": {},
     "output_type": "display_data"
    },
    {
     "data": {
      "text/html": [
       "<table class=\"dataframe\">\n",
       "<caption>A tidytable: 7 x 6</caption>\n",
       "<thead>\n",
       "\t<tr><th scope=col>ID</th><th scope=col>lengthSNPs</th><th scope=col>chr_start</th><th scope=col>chr_end</th><th scope=col>global_start</th><th scope=col>global_end</th></tr>\n",
       "\t<tr><th scope=col>&lt;int&gt;</th><th scope=col>&lt;int&gt;</th><th scope=col>&lt;chr&gt;</th><th scope=col>&lt;chr&gt;</th><th scope=col>&lt;int&gt;</th><th scope=col>&lt;int&gt;</th></tr>\n",
       "</thead>\n",
       "<tbody>\n",
       "\t<tr><td> 6</td><td> 889</td><td>chromosome4 </td><td>chromosome5 </td><td>2879861</td><td>2921562</td></tr>\n",
       "\t<tr><td> 7</td><td>2859</td><td>chromosome5 </td><td>chromosome5 </td><td>2952587</td><td>3256268</td></tr>\n",
       "\t<tr><td> 8</td><td>1215</td><td>chromosome5 </td><td>chromosome5 </td><td>3378765</td><td>3415698</td></tr>\n",
       "\t<tr><td>11</td><td> 526</td><td>chromosome10</td><td>chromosome10</td><td>6441979</td><td>6477149</td></tr>\n",
       "\t<tr><td>12</td><td> 788</td><td>chromosome10</td><td>chromosome10</td><td>6479143</td><td>6516974</td></tr>\n",
       "\t<tr><td>13</td><td> 934</td><td>chromosome11</td><td>chromosome11</td><td>6557339</td><td>6708982</td></tr>\n",
       "\t<tr><td>14</td><td> 652</td><td>chromosome12</td><td>chromosome12</td><td>8231277</td><td>8243715</td></tr>\n",
       "</tbody>\n",
       "</table>\n"
      ],
      "text/latex": [
       "A tidytable: 7 x 6\n",
       "\\begin{tabular}{llllll}\n",
       " ID & lengthSNPs & chr\\_start & chr\\_end & global\\_start & global\\_end\\\\\n",
       " <int> & <int> & <chr> & <chr> & <int> & <int>\\\\\n",
       "\\hline\n",
       "\t  6 &  889 & chromosome4  & chromosome5  & 2879861 & 2921562\\\\\n",
       "\t  7 & 2859 & chromosome5  & chromosome5  & 2952587 & 3256268\\\\\n",
       "\t  8 & 1215 & chromosome5  & chromosome5  & 3378765 & 3415698\\\\\n",
       "\t 11 &  526 & chromosome10 & chromosome10 & 6441979 & 6477149\\\\\n",
       "\t 12 &  788 & chromosome10 & chromosome10 & 6479143 & 6516974\\\\\n",
       "\t 13 &  934 & chromosome11 & chromosome11 & 6557339 & 6708982\\\\\n",
       "\t 14 &  652 & chromosome12 & chromosome12 & 8231277 & 8243715\\\\\n",
       "\\end{tabular}\n"
      ],
      "text/markdown": [
       "\n",
       "A tidytable: 7 x 6\n",
       "\n",
       "| ID &lt;int&gt; | lengthSNPs &lt;int&gt; | chr_start &lt;chr&gt; | chr_end &lt;chr&gt; | global_start &lt;int&gt; | global_end &lt;int&gt; |\n",
       "|---|---|---|---|---|---|\n",
       "|  6 |  889 | chromosome4  | chromosome5  | 2879861 | 2921562 |\n",
       "|  7 | 2859 | chromosome5  | chromosome5  | 2952587 | 3256268 |\n",
       "|  8 | 1215 | chromosome5  | chromosome5  | 3378765 | 3415698 |\n",
       "| 11 |  526 | chromosome10 | chromosome10 | 6441979 | 6477149 |\n",
       "| 12 |  788 | chromosome10 | chromosome10 | 6479143 | 6516974 |\n",
       "| 13 |  934 | chromosome11 | chromosome11 | 6557339 | 6708982 |\n",
       "| 14 |  652 | chromosome12 | chromosome12 | 8231277 | 8243715 |\n",
       "\n"
      ],
      "text/plain": [
       "  ID lengthSNPs chr_start    chr_end      global_start global_end\n",
       "1  6  889       chromosome4  chromosome5  2879861      2921562   \n",
       "2  7 2859       chromosome5  chromosome5  2952587      3256268   \n",
       "3  8 1215       chromosome5  chromosome5  3378765      3415698   \n",
       "4 11  526       chromosome10 chromosome10 6441979      6477149   \n",
       "5 12  788       chromosome10 chromosome10 6479143      6516974   \n",
       "6 13  934       chromosome11 chromosome11 6557339      6708982   \n",
       "7 14  652       chromosome12 chromosome12 8231277      8243715   "
      ]
     },
     "metadata": {},
     "output_type": "display_data"
    }
   ],
   "source": [
    "c\n",
    "TRD_loci"
   ]
  },
  {
   "cell_type": "code",
   "execution_count": null,
   "id": "3fd4bc8b-c31b-4e3c-988f-10de3911148e",
   "metadata": {
    "tags": []
   },
   "outputs": [],
   "source": [
    "pop_files"
   ]
  },
  {
   "cell_type": "code",
   "execution_count": 19,
   "id": "32cc5590-b535-4f0d-bd60-a793cb322e37",
   "metadata": {
    "tags": []
   },
   "outputs": [],
   "source": [
    "# c is being reused below so should be run after all is prepared above"
   ]
  },
  {
   "cell_type": "code",
   "execution_count": 20,
   "id": "e7285a4a-4e3a-465c-9a6e-6c53a50dd13b",
   "metadata": {
    "tags": []
   },
   "outputs": [
    {
     "name": "stdout",
     "output_type": "stream",
     "text": [
      "[1] \"sbatch -c 2 --mem=32G --job-name=pixy -p fast -t 119:59:00 --wrap '. ~/activate.sh bwaetc; cd ~/data/trd/mapped_reads/ && pixy --n_cores 2 --stats dxy fst pi --populations ~/data/trd/mapped_reads/ALL.vcf.gz-TRD_ChrisC7_3_0.7.popList --vcf ALL.DP5-95.chromosome4.DP10.GQ20RGQ20.SNPsRef.vcf.gz --output_prefix ALL.DP5-95.chromosome4.DP10.GQ20RGQ20.SNPsRef.vcf.gz-TRD_ChrisC7_3_0.7-pixy --window_size 10000'\"\n",
      "[1] \"Submitted batch job 494280\"\n",
      "[1] \"sbatch -c 2 --mem=32G --job-name=pixy -p fast -t 119:59:00 --wrap '. ~/activate.sh bwaetc; cd ~/data/trd/mapped_reads/ && pixy --n_cores 2 --stats dxy fst pi --populations ~/data/trd/mapped_reads/ALL.vcf.gz-TRD_ChrisC7_3_0.7.popList --vcf ALL.DP5-95.chromosome7.DP10.GQ20RGQ20.SNPsRef.vcf.gz --output_prefix ALL.DP5-95.chromosome7.DP10.GQ20RGQ20.SNPsRef.vcf.gz-TRD_ChrisC7_3_0.7-pixy --window_size 10000'\"\n",
      "[1] \"Submitted batch job 494281\"\n",
      "[1] \"sbatch -c 2 --mem=32G --job-name=pixy -p fast -t 119:59:00 --wrap '. ~/activate.sh bwaetc; cd ~/data/trd/mapped_reads/ && pixy --n_cores 2 --stats dxy fst pi --populations ~/data/trd/mapped_reads/ALL.vcf.gz-TRD_ChrisC7_3_0.7.popList --vcf ALL.DP5-95.chromosome13.DP10.GQ20RGQ20.SNPsRef.vcf.gz --output_prefix ALL.DP5-95.chromosome13.DP10.GQ20RGQ20.SNPsRef.vcf.gz-TRD_ChrisC7_3_0.7-pixy --window_size 10000'\"\n",
      "[1] \"Submitted batch job 494282\"\n",
      "[1] \"sbatch -c 2 --mem=32G --job-name=pixy -p fast -t 119:59:00 --wrap '. ~/activate.sh bwaetc; cd ~/data/trd/mapped_reads/ && pixy --n_cores 2 --stats dxy fst pi --populations ~/data/trd/mapped_reads/ALL.vcf.gz-TRD_ChrisC7_3_0.7.popList --vcf ALL.DP5-95.chromosome14.DP10.GQ20RGQ20.SNPsRef.vcf.gz --output_prefix ALL.DP5-95.chromosome14.DP10.GQ20RGQ20.SNPsRef.vcf.gz-TRD_ChrisC7_3_0.7-pixy --window_size 10000'\"\n",
      "[1] \"Submitted batch job 494283\"\n",
      "[1] \"sbatch -c 2 --mem=32G --job-name=pixy -p fast -t 119:59:00 --wrap '. ~/activate.sh bwaetc; cd ~/data/trd/mapped_reads/ && pixy --n_cores 2 --stats dxy fst pi --populations ~/data/trd/mapped_reads/ALL.vcf.gz-TRD_ChrisC7_3_0.7.popList --vcf ALL.DP5-95.chromosome15.DP10.GQ20RGQ20.SNPsRef.vcf.gz --output_prefix ALL.DP5-95.chromosome15.DP10.GQ20RGQ20.SNPsRef.vcf.gz-TRD_ChrisC7_3_0.7-pixy --window_size 10000'\"\n",
      "[1] \"Submitted batch job 494284\"\n",
      "[1] \"sbatch -c 2 --mem=32G --job-name=pixy -p fast -t 119:59:00 --wrap '. ~/activate.sh bwaetc; cd ~/data/trd/mapped_reads/ && pixy --n_cores 2 --stats dxy fst pi --populations ~/data/trd/mapped_reads/ALL.vcf.gz-TRD_ChrisC7_3_0.7.popList --vcf ALL.DP5-95.chromosome16.DP10.GQ20RGQ20.SNPsRef.vcf.gz --output_prefix ALL.DP5-95.chromosome16.DP10.GQ20RGQ20.SNPsRef.vcf.gz-TRD_ChrisC7_3_0.7-pixy --window_size 10000'\"\n",
      "[1] \"Submitted batch job 494285\"\n"
     ]
    }
   ],
   "source": [
    "initial_timedate=Sys.time()\n",
    "jobname=\"pixy_TRD\"\n",
    "scripts_dir=\"/home/jnrunge/data/trd/mapped_reads/scripts/\"\n",
    "\n",
    "for(p in 1:length(pop_files)){\n",
    "    for(c in chrs){\n",
    "        \n",
    "        if(file.exists(paste0(\"~/data/trd/mapped_reads/ALL.DP5-95.\",c,\".DP10.GQ20RGQ20.SNPsRef.vcf.gz-\",names(pop_files)[p],\"-pixy_pi.txt\"))){\n",
    "            next\n",
    "        }\n",
    "    \n",
    "        cmd=paste0(\"cd ~/data/trd/mapped_reads/ && \",\n",
    "               \"pixy --n_cores 2 --stats dxy fst pi --populations \",\n",
    "              pop_files[p], \" --vcf \",\n",
    "              \"ALL.DP5-95.\",c,\".DP10.GQ20RGQ20.SNPsRef.vcf.gz\", \" --output_prefix \",\n",
    "              \"ALL.DP5-95.\",c,\".DP10.GQ20RGQ20.SNPsRef.vcf.gz-\",names(pop_files)[p],\"-pixy --window_size 1000 && \",\n",
    "                  \" gzip -f ALL.DP5-95.\",c,\".DP10.GQ20RGQ20.SNPsRef.vcf.gz-\",names(pop_files)[p],\"-pixy*txt\")\n",
    "        sbatch_list=execute_complex_sbatch(cmd, jobname = jobname, scripts_dir = scripts_dir, uniqueRunID = names(pop_files)[p], cores=\"2\", mem=\"32G\", time=\"short\", env=\"bwaetc\", initial_timedate = initial_timedate, jobs_simul = 10, jobs_total = 30)\n",
    "\n",
    "}\n",
    "\n",
    "\n",
    "}\n",
    "\n",
    "if(exists(\"sbatch_list\") &  jobname == \"pixy_TRD\"){\n",
    "    print(sbatch_list)\n",
    "    start_sbatch_list(sbatch_list, 10, jobname, initial_timedate)\n",
    "}"
   ]
  }
 ],
 "metadata": {
  "kernelspec": {
   "display_name": "R",
   "language": "R",
   "name": "ir"
  },
  "language_info": {
   "codemirror_mode": "r",
   "file_extension": ".r",
   "mimetype": "text/x-r-source",
   "name": "R",
   "pygments_lexer": "r",
   "version": "4.1.3"
  }
 },
 "nbformat": 4,
 "nbformat_minor": 5
}

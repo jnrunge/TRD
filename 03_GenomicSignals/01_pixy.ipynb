{
 "cells": [
  {
   "cell_type": "markdown",
   "id": "aae4c76f-3b7c-45cb-8edd-ff3e481cd46f",
   "metadata": {},
   "source": [
    "I am running pixy (for fst, pi, dxy) in a couple of different ways to get an idea of whether nucleotide diversity / divergence and fixation are different at TRD loci than elsewhere."
   ]
  },
  {
   "cell_type": "code",
   "execution_count": null,
   "id": "5ca3e9f0-477c-4136-93ee-fcecfbe975d7",
   "metadata": {},
   "outputs": [],
   "source": [
    "stop(\"Filename shouzld be after 02_VCF_SV as that needs to be done first\")"
   ]
  },
  {
   "cell_type": "markdown",
   "id": "f02e3a92-8a32-427f-9445-836e02c34914",
   "metadata": {},
   "source": [
    "I should be able to get all sites vcf with <https://pixy.readthedocs.io/en/latest/generating_invar/generating_invar.html#generating-allsites-vcfs-using-gatk> and `~/data/trd/GVCF_2489Strains/`"
   ]
  },
  {
   "cell_type": "code",
   "execution_count": 1,
   "id": "74ce9bd6-184a-4db2-9f3f-0c5d0274408e",
   "metadata": {
    "tags": []
   },
   "outputs": [
    {
     "name": "stderr",
     "output_type": "stream",
     "text": [
      "\n",
      "Attaching package: 'dplyr'\n",
      "\n",
      "\n",
      "The following objects are masked from 'package:data.table':\n",
      "\n",
      "    between, first, last\n",
      "\n",
      "\n",
      "The following objects are masked from 'package:stats':\n",
      "\n",
      "    filter, lag\n",
      "\n",
      "\n",
      "The following objects are masked from 'package:base':\n",
      "\n",
      "    intersect, setdiff, setequal, union\n",
      "\n",
      "\n",
      "Warning: tidytable was loaded after dplyr.\n",
      "This can lead to most dplyr functions being overwritten by tidytable functions.\n",
      "\n",
      "\n",
      "Attaching package: 'tidytable'\n",
      "\n",
      "\n",
      "The following objects are masked from 'package:dplyr':\n",
      "\n",
      "    across, add_count, add_tally, anti_join, arrange, between,\n",
      "    bind_cols, bind_rows, c_across, case_match, case_when, coalesce,\n",
      "    consecutive_id, count, cross_join, cume_dist, cur_column, cur_data,\n",
      "    cur_group_id, cur_group_rows, dense_rank, desc, distinct, filter,\n",
      "    first, full_join, group_by, group_cols, group_split, group_vars,\n",
      "    if_all, if_any, if_else, inner_join, is_grouped_df, lag, last,\n",
      "    lead, left_join, min_rank, mutate, n, n_distinct, na_if, nest_by,\n",
      "    nest_join, nth, percent_rank, pick, pull, recode, relocate, rename,\n",
      "    rename_with, right_join, row_number, rowwise, select, semi_join,\n",
      "    slice, slice_head, slice_max, slice_min, slice_sample, slice_tail,\n",
      "    summarise, summarize, tally, top_n, transmute, tribble, ungroup\n",
      "\n",
      "\n",
      "The following objects are masked from 'package:data.table':\n",
      "\n",
      "    between, first, fread, last\n",
      "\n",
      "\n",
      "The following objects are masked from 'package:stats':\n",
      "\n",
      "    dt, filter, lag\n",
      "\n",
      "\n",
      "The following object is masked from 'package:base':\n",
      "\n",
      "    %in%\n",
      "\n",
      "\n"
     ]
    }
   ],
   "source": [
    "source(\"../../BrusselSprouts/scripts/functions.R\")\n",
    "scripts_dir=\"/home/jnrunge/data/trd/mapped_reads/scripts/\"\n",
    "initial_timedate=Sys.time()\n",
    "library(tidytable)"
   ]
  },
  {
   "cell_type": "code",
   "execution_count": 2,
   "id": "5facc48c-39be-4190-b1da-4e37d1360ee1",
   "metadata": {
    "tags": []
   },
   "outputs": [],
   "source": [
    "# make sample name map  samplename\\tgvcf\n",
    "\n",
    "samples=list.files(\"/home/jnrunge/data/trd/GVCF_2489Strains\", \"g.vcf.gz$\", full.names = TRUE)\n",
    "samples=data.frame(id=unlist(lapply(basename(samples), getFirst_v2, split=\".\")),file=samples)\n",
    "fwrite(samples, \"~/data/trd/mapped_reads/truly_all_samples.tsv\", col.names = FALSE, sep=\"\\t\")"
   ]
  },
  {
   "cell_type": "code",
   "execution_count": 3,
   "id": "dfb74684-9e42-48ac-a820-368ef3a551c7",
   "metadata": {
    "tags": []
   },
   "outputs": [],
   "source": [
    "if(!file.exists(\"~/data/trd/mapped_reads/ALL.DP5-95.chromosome1.DP10.GQ20RGQ20.SNPsRef.vcf.gz\")){ # just an example, so that keeping the filtered files on the server is enough\n",
    "    # unfiltered files are on viseg\n",
    "    file.create(running_file<-paste0(\"~/data/TRD/runningGATKFullmerge\"))\n",
    "    cmd=\"cd ~/data/trd/mapped_reads\"# && rm -rf ALL_DB\"\n",
    "    cmd=paste0(cmd, \" && gatk GenomicsDBImport --batch-size 200 --genomicsdb-workspace-path ALL_DB --sample-name-map ~/data/trd/mapped_reads/truly_all_samples.tsv -L ~/data/TRD/R64_nucl.fasta.fai.bed\")\n",
    "    cmd=paste0(cmd, \" && gatk GenotypeGVCFs --java-options '-Xmx180G' -R ../../TRD/R64_nucl.fasta -all-sites -V gendb://ALL_DB -O ALL.vcf.gz\")\n",
    "    cmd=paste0(cmd, \" && bcftools query -l ALL.vcf.gz > ALL.vcf.gz.samples && bcftools view -Ob -o ALL.bcf ALL.vcf.gz && rm -f ~/data/TRD/runningGATKFullmerge\")\n",
    "    execute_cmd_sbatch(cmd, mem=\"200G\", cpu=\"1\", time=\"long\", env=\"bwaetc\", jobname=\"GATK_merge\")\n",
    "\n",
    "    while(file.exists(running_file)){\n",
    "        Sys.sleep(60)\n",
    "    }\n",
    "}"
   ]
  },
  {
   "cell_type": "markdown",
   "id": "67afe4c5-a99c-4585-9d5c-eaec401905ae",
   "metadata": {},
   "source": [
    "Now I need to filter and do this carefully. We want to remove indels and low GQ calls. invariant sites have \"RGQ\" instead of GQ, which is the chance of a wrong call, so here we also want a high number (unlike PL). \n",
    "\n",
    "So we want GQ >= 20 or RGQ >= 20 I would think. \n",
    "\n",
    "First, we get an overview of the average DP in total, and which positions should be removed because they are outside the 5%-95% range\n",
    "\n",
    "````bash\n",
    "bcftools query -f \"%CHROM\\t%POS\\t%INFO/DP\\n\" ALL.vcf.gz | gzip > ALL.vcf.gz.DP.gz\n",
    "````\n"
   ]
  },
  {
   "cell_type": "markdown",
   "id": "4bd7a32c-478a-4e23-be9f-81cbea36725c",
   "metadata": {},
   "source": [
    "````r\n",
    "DP=fread(\"~/data/trd/mapped_reads/ALL.vcf.gz.DP.gz\")\n",
    "\n",
    "print(quantile(as.numeric(DP$V3), c(0.05,0.95), na.rm = TRUE))\n",
    "````\n",
    "\n",
    "````bash\n",
    "\n",
    "# sites filtering depth\n",
    "bcftools view -i \"INFO/DP >= 149240 & INFO/DP <= 408636\" -Ob -o ALL.DP5-95.bcf ALL.vcf.gz\n",
    "\n",
    "bcftools index ALL.DP5-95.bcf\n",
    "\n",
    "bcftools view ALL.DP5-95.bcf | grep -v ^# | cut -f 1 | uniq > chrs.txt\n",
    "\n",
    "\n",
    "````"
   ]
  },
  {
   "cell_type": "code",
   "execution_count": 4,
   "id": "e10c3fd5-c70f-4b12-ac17-7c334032d4ae",
   "metadata": {
    "tags": []
   },
   "outputs": [],
   "source": [
    "chrs=readLines(\"~/data/trd/mapped_reads/chrs.txt\") # its just a list of chromosomes (see MD block above)\n",
    "for(c in chrs){\n",
    "    if(file.exists(paste0(\"~/data/trd/mapped_reads/ALL.DP5-95.\",c,\".DP10.GQ20RGQ20.SNPsRef.vcf.gz\"))){\n",
    "        next\n",
    "    }\n",
    "    # filtering VCF and splitting into chromosomes\n",
    "    cmd=paste0('sh -xe ~/TRD/03_GenomicSignals/01_pixy_filter-vcf.sh ',c)\n",
    "    execute_cmd_sbatch(cmd, mem=\"8G\", cpu=\"1\", time=\"long\", env=\"bwaetc\", jobname=\"bcftools_filter\")\n",
    "    Sys.sleep(1)\n",
    "}"
   ]
  },
  {
   "cell_type": "code",
   "execution_count": 5,
   "id": "c2903771-4038-44aa-9642-a0d73c13ff6f",
   "metadata": {
    "tags": []
   },
   "outputs": [],
   "source": [
    "samples=readLines(\"~/data/trd/mapped_reads/ALL.vcf.gz.samples\")"
   ]
  },
  {
   "cell_type": "code",
   "execution_count": 6,
   "id": "b4e9d6ad-036a-41f8-a064-1030cf288530",
   "metadata": {
    "tags": []
   },
   "outputs": [
    {
     "data": {
      "text/plain": [
       "   Mode    TRUE \n",
       "logical    2489 "
      ]
     },
     "metadata": {},
     "output_type": "display_data"
    },
    {
     "data": {
      "text/html": [
       "<table class=\"dataframe\">\n",
       "<caption>A tidytable: 6 x 2</caption>\n",
       "<thead>\n",
       "\t<tr><th scope=col>Strain</th><th scope=col>Clade</th></tr>\n",
       "\t<tr><th scope=col>&lt;chr&gt;</th><th scope=col>&lt;chr&gt;</th></tr>\n",
       "</thead>\n",
       "<tbody>\n",
       "\t<tr><td>AAA</td><td>1__Wine               </td></tr>\n",
       "\t<tr><td>AAB</td><td>8__Belgium_Beer       </td></tr>\n",
       "\t<tr><td>AAC</td><td>10__UK_Beer           </td></tr>\n",
       "\t<tr><td>AAD</td><td>18__Asian_Fermentation</td></tr>\n",
       "\t<tr><td>AAE</td><td>1__Wine               </td></tr>\n",
       "\t<tr><td>AAG</td><td>16__USA_Clinical_1    </td></tr>\n",
       "</tbody>\n",
       "</table>\n"
      ],
      "text/latex": [
       "A tidytable: 6 x 2\n",
       "\\begin{tabular}{ll}\n",
       " Strain & Clade\\\\\n",
       " <chr> & <chr>\\\\\n",
       "\\hline\n",
       "\t AAA & 1\\_\\_Wine               \\\\\n",
       "\t AAB & 8\\_\\_Belgium\\_Beer       \\\\\n",
       "\t AAC & 10\\_\\_UK\\_Beer           \\\\\n",
       "\t AAD & 18\\_\\_Asian\\_Fermentation\\\\\n",
       "\t AAE & 1\\_\\_Wine               \\\\\n",
       "\t AAG & 16\\_\\_USA\\_Clinical\\_1    \\\\\n",
       "\\end{tabular}\n"
      ],
      "text/markdown": [
       "\n",
       "A tidytable: 6 x 2\n",
       "\n",
       "| Strain &lt;chr&gt; | Clade &lt;chr&gt; |\n",
       "|---|---|\n",
       "| AAA | 1__Wine                |\n",
       "| AAB | 8__Belgium_Beer        |\n",
       "| AAC | 10__UK_Beer            |\n",
       "| AAD | 18__Asian_Fermentation |\n",
       "| AAE | 1__Wine                |\n",
       "| AAG | 16__USA_Clinical_1     |\n",
       "\n"
      ],
      "text/plain": [
       "  Strain Clade                 \n",
       "1 AAA    1__Wine               \n",
       "2 AAB    8__Belgium_Beer       \n",
       "3 AAC    10__UK_Beer           \n",
       "4 AAD    18__Asian_Fermentation\n",
       "5 AAE    1__Wine               \n",
       "6 AAG    16__USA_Clinical_1    "
      ]
     },
     "metadata": {},
     "output_type": "display_data"
    }
   ],
   "source": [
    "# what groups should be run?\n",
    "pop_files=list()\n",
    "\n",
    "\n",
    "# each pop\n",
    "pops=fread(\"../Shiny/data/Victor/operationalTable_Full2543Sace_Clades.csv\")\n",
    "summary(samples%in%pops$StandardizedName)\n",
    "popList=left_join(data.table(Strain=samples), select(pops, StandardizedName, Clade), by=c(\"Strain\"=\"StandardizedName\"))\n",
    "popList=filter(popList, !is.na(Clade))\n",
    "popList=mutate(popList, Clade=gsub(\"[ .]\",\"_\",Clade))\n",
    "head(popList)\n",
    "fwrite(popList, pop_files[[\"Clades\"]]<-\"~/data/trd/mapped_reads/ALL.vcf.gz-Clades.popList\", sep=\"\\t\", col.names = FALSE)"
   ]
  },
  {
   "cell_type": "code",
   "execution_count": 7,
   "id": "1b47633f-8782-4156-a21f-0f91d2c8824d",
   "metadata": {
    "tags": []
   },
   "outputs": [
    {
     "data": {
      "text/html": [
       "<style>\n",
       ".list-inline {list-style: none; margin:0; padding: 0}\n",
       ".list-inline>li {display: inline-block}\n",
       ".list-inline>li:not(:last-child)::after {content: \"\\00b7\"; padding: 0 .5ex}\n",
       "</style>\n",
       "<ol class=list-inline><li>'ChrisC1'</li><li>'ChrisC2'</li><li>'ChrisC3'</li><li>'ChrisC4'</li><li>'ChrisC5'</li><li>'ChrisC6'</li><li>'ChrisC7'</li><li>'ChrisC8'</li><li>'YJNRC1'</li><li>'YJNRC11'</li><li>'YJNRC12'</li><li>'YJNRC14'</li><li>'YJNRC15'</li><li>'YJNRC16'</li><li>'YJNRC17'</li><li>'YJNRC18'</li><li>'YJNRC19'</li><li>'YJNRC2'</li><li>'YJNRC20'</li><li>'YJNRC21'</li><li>'YJNRC22'</li><li>'YJNRC23'</li><li>'YJNRC24'</li><li>'YJNRC25'</li><li>'YJNRC26'</li><li>'YJNRC27'</li><li>'YJNRC29'</li><li>'YJNRC3'</li><li>'YJNRC30'</li><li>'YJNRC31'</li><li>'YJNRC32'</li><li>'YJNRC34'</li><li>'YJNRC4'</li><li>'YJNRC5'</li><li>'YJNRC6'</li><li>'YJNRC7'</li><li>'YJNRC8'</li><li>'YJNRC9'</li></ol>\n"
      ],
      "text/latex": [
       "\\begin{enumerate*}\n",
       "\\item 'ChrisC1'\n",
       "\\item 'ChrisC2'\n",
       "\\item 'ChrisC3'\n",
       "\\item 'ChrisC4'\n",
       "\\item 'ChrisC5'\n",
       "\\item 'ChrisC6'\n",
       "\\item 'ChrisC7'\n",
       "\\item 'ChrisC8'\n",
       "\\item 'YJNRC1'\n",
       "\\item 'YJNRC11'\n",
       "\\item 'YJNRC12'\n",
       "\\item 'YJNRC14'\n",
       "\\item 'YJNRC15'\n",
       "\\item 'YJNRC16'\n",
       "\\item 'YJNRC17'\n",
       "\\item 'YJNRC18'\n",
       "\\item 'YJNRC19'\n",
       "\\item 'YJNRC2'\n",
       "\\item 'YJNRC20'\n",
       "\\item 'YJNRC21'\n",
       "\\item 'YJNRC22'\n",
       "\\item 'YJNRC23'\n",
       "\\item 'YJNRC24'\n",
       "\\item 'YJNRC25'\n",
       "\\item 'YJNRC26'\n",
       "\\item 'YJNRC27'\n",
       "\\item 'YJNRC29'\n",
       "\\item 'YJNRC3'\n",
       "\\item 'YJNRC30'\n",
       "\\item 'YJNRC31'\n",
       "\\item 'YJNRC32'\n",
       "\\item 'YJNRC34'\n",
       "\\item 'YJNRC4'\n",
       "\\item 'YJNRC5'\n",
       "\\item 'YJNRC6'\n",
       "\\item 'YJNRC7'\n",
       "\\item 'YJNRC8'\n",
       "\\item 'YJNRC9'\n",
       "\\end{enumerate*}\n"
      ],
      "text/markdown": [
       "1. 'ChrisC1'\n",
       "2. 'ChrisC2'\n",
       "3. 'ChrisC3'\n",
       "4. 'ChrisC4'\n",
       "5. 'ChrisC5'\n",
       "6. 'ChrisC6'\n",
       "7. 'ChrisC7'\n",
       "8. 'ChrisC8'\n",
       "9. 'YJNRC1'\n",
       "10. 'YJNRC11'\n",
       "11. 'YJNRC12'\n",
       "12. 'YJNRC14'\n",
       "13. 'YJNRC15'\n",
       "14. 'YJNRC16'\n",
       "15. 'YJNRC17'\n",
       "16. 'YJNRC18'\n",
       "17. 'YJNRC19'\n",
       "18. 'YJNRC2'\n",
       "19. 'YJNRC20'\n",
       "20. 'YJNRC21'\n",
       "21. 'YJNRC22'\n",
       "22. 'YJNRC23'\n",
       "23. 'YJNRC24'\n",
       "24. 'YJNRC25'\n",
       "25. 'YJNRC26'\n",
       "26. 'YJNRC27'\n",
       "27. 'YJNRC29'\n",
       "28. 'YJNRC3'\n",
       "29. 'YJNRC30'\n",
       "30. 'YJNRC31'\n",
       "31. 'YJNRC32'\n",
       "32. 'YJNRC34'\n",
       "33. 'YJNRC4'\n",
       "34. 'YJNRC5'\n",
       "35. 'YJNRC6'\n",
       "36. 'YJNRC7'\n",
       "37. 'YJNRC8'\n",
       "38. 'YJNRC9'\n",
       "\n",
       "\n"
      ],
      "text/plain": [
       " [1] \"ChrisC1\" \"ChrisC2\" \"ChrisC3\" \"ChrisC4\" \"ChrisC5\" \"ChrisC6\" \"ChrisC7\"\n",
       " [8] \"ChrisC8\" \"YJNRC1\"  \"YJNRC11\" \"YJNRC12\" \"YJNRC14\" \"YJNRC15\" \"YJNRC16\"\n",
       "[15] \"YJNRC17\" \"YJNRC18\" \"YJNRC19\" \"YJNRC2\"  \"YJNRC20\" \"YJNRC21\" \"YJNRC22\"\n",
       "[22] \"YJNRC23\" \"YJNRC24\" \"YJNRC25\" \"YJNRC26\" \"YJNRC27\" \"YJNRC29\" \"YJNRC3\" \n",
       "[29] \"YJNRC30\" \"YJNRC31\" \"YJNRC32\" \"YJNRC34\" \"YJNRC4\"  \"YJNRC5\"  \"YJNRC6\" \n",
       "[36] \"YJNRC7\"  \"YJNRC8\"  \"YJNRC9\" "
      ]
     },
     "metadata": {},
     "output_type": "display_data"
    }
   ],
   "source": [
    "selectSimilarity=0.7\n",
    "df_Strains=fread(\"../Shiny/data/Victor/operationalTable_Full2543Sace_Clades.csv\")\n",
    "\n",
    "crosses=readLines(\"~/data/trd/mapped_reads/TRD.vcf.gz.samples\")\n",
    "crosses=crosses[startsWith(crosses, \"YJNRC\") | startsWith(crosses, \"Chris\")]\n",
    "crosses"
   ]
  },
  {
   "cell_type": "code",
   "execution_count": null,
   "id": "46e22f84-e5af-4e55-b888-bbfcdac00ee1",
   "metadata": {
    "tags": []
   },
   "outputs": [],
   "source": [
    "\n",
    "# add TRD-similar strains vs rest\n",
    "\n",
    "\n",
    "for(c in crosses){\n",
    "    if(!file.exists(paste0(\"/home/jnrunge/data/TRD/results/shiny/\",c,\"-AF.csv.gz.allelesharing.csv.gz\"))){\n",
    "        print(\"skip1\")\n",
    "        next\n",
    "    }\n",
    "    if(file.mtime(paste0(\"/home/jnrunge/data/TRD/results/shiny/\",c,\"-AF.csv.gz.allelesharing.csv.gz\")) < file.mtime(paste0(\"/home/jnrunge/data/TRD/results/shiny/\",c,\"-AF.csv.gz\"))){\n",
    "        print(\"skip2\")\n",
    "        next\n",
    "    }\n",
    "    if(file.mtime(paste0(\"/home/jnrunge/data/TRD/results/shiny/\",c,\"-AF.csv.gz\"))<file.mtime(paste0(\"/home/jnrunge/data/trd/mapped_reads/TRD.vcf.gz\"))){\n",
    "        print(\"skip3\")\n",
    "        next\n",
    "    }\n",
    "    AS=fread(paste0(\"/home/jnrunge/data/TRD/results/shiny/\",c,\"-AF.csv.gz.allelesharing.csv.gz\"))\n",
    "\n",
    "    TRD=fread(paste0(\"/home/jnrunge/data/TRD/results/shiny/\",c,\"-AF.csv.gz\"))\n",
    "    \n",
    "    if(!file.exists(paste0(\"/home/jnrunge/data/TRD/results/shiny/\",c,\"-TRD_regions.csv.gz\"))){\n",
    "        print(\"skip4\")\n",
    "        next\n",
    "    }\n",
    "\n",
    "    TRD_loci=fread(paste0(\"/home/jnrunge/data/TRD/results/shiny/\",c,\"-TRD_regions.csv.gz\"))\n",
    "    \n",
    "    for(i in 1:nrow(TRD_loci)){\n",
    "        if(TRD_loci$chr_start[i]!=TRD_loci$chr_end[i]){\n",
    "        stop(\"chr overlapping TRD\")\n",
    "    }\n",
    "        TRD_subset=filter(TRD, chr== TRD_loci$chr_start[i] & global_pos >= TRD_loci$global_start[i] & global_pos <= TRD_loci$global_end[i])\n",
    "        df_AS_filtered=filter(AS, `#CHROM` == TRD_loci$chr_start[i], POS %in% TRD_subset$pos)\n",
    "        melted=reshape2::melt(df_AS_filtered, id.vars = c(\"#CHROM\",\"POS\"))\n",
    "        melted=filter(melted, variable != \"chrpos\")\n",
    "        tmp=summarise(group_by(melted, variable), nAll=n())\n",
    "        vcf_translated_summary=left_join(tmp,summarise(group_by(melted, variable, value), n=n()), by=c(\"variable\"))%>%mutate(p=n/nAll)%>%select(variable,value,p)%>%rename(Strain=variable, Type=value)\n",
    "        A1s=vcf_translated_summary$Strain[vcf_translated_summary$Type==\"A1_hom\" & vcf_translated_summary$p>=selectSimilarity]\n",
    "        A2s=vcf_translated_summary$Strain[vcf_translated_summary$Type==\"A2_hom\" & vcf_translated_summary$p>=selectSimilarity]\n",
    "        \n",
    "        \n",
    "        strain_summary=bind_rows(summarise(group_by(filter(df_Strains, StandardizedName %in% A1s),\n",
    "                       StandardizedName), n=n()) %>% arrange(-n)%>%mutate(Type=\"A1_hom\"),\n",
    "              summarise(group_by(filter(df_Strains, StandardizedName %in% A2s),\n",
    "                                 StandardizedName), n=n()) %>% arrange(-n)%>%mutate(Type=\"A2_hom\"))%>% arrange(-n)\n",
    "        \n",
    "        if(mean(TRD_subset$AD_A1/TRD_subset$sumCount)<0.5){\n",
    "        distorter=\"A2\"\n",
    "        nondistorter=\"A1\"\n",
    "    }else{\n",
    "        distorter=\"A1\"\n",
    "        nondistorter=\"A2\"}\n",
    "        \n",
    "        pop_list_trd=data.frame(sample=samples,pop=\"other\",stringsAsFactors = FALSE)\n",
    "        pop_list_trd$pop[pop_list_trd$sample%in%strain_summary$StandardizedName[strain_summary$Type==paste0(distorter,\"_hom\")]]=\"distorter-like\"\n",
    "        \n",
    "        \n",
    "        fwrite(pop_list_trd, pop_files[[paste0(\"TRD_\",c,\"_\",i,\"_\",selectSimilarity)]]<-paste0(\"~/data/trd/mapped_reads/ALL.vcf.gz-\",paste0(\"TRD_\",c,\"_\",i,\"_\",selectSimilarity),\".popList\"), sep=\"\\t\", col.names = FALSE)\n",
    "    }\n",
    "}\n",
    "\n",
    "\n",
    "\n",
    "\n"
   ]
  },
  {
   "cell_type": "code",
   "execution_count": null,
   "id": "365d6465-1b6e-49c7-8db9-02a82215433b",
   "metadata": {
    "tags": []
   },
   "outputs": [],
   "source": [
    "names(pop_files)"
   ]
  },
  {
   "cell_type": "code",
   "execution_count": null,
   "id": "3fd4bc8b-c31b-4e3c-988f-10de3911148e",
   "metadata": {
    "tags": []
   },
   "outputs": [],
   "source": [
    "pop_files"
   ]
  },
  {
   "cell_type": "code",
   "execution_count": null,
   "id": "32cc5590-b535-4f0d-bd60-a793cb322e37",
   "metadata": {
    "tags": []
   },
   "outputs": [],
   "source": [
    "# c is being reused below so should be run after all is prepared above"
   ]
  },
  {
   "cell_type": "code",
   "execution_count": null,
   "id": "269aa639-e569-4b83-bc83-474deb839423",
   "metadata": {
    "tags": []
   },
   "outputs": [],
   "source": [
    "library(stringr)"
   ]
  },
  {
   "cell_type": "code",
   "execution_count": null,
   "id": "76fc20e1-7693-441f-b29b-1d7bf2059d2f",
   "metadata": {
    "tags": []
   },
   "outputs": [],
   "source": [
    "p<-2\n",
    "c<-chrs[1]\n",
    "c\n",
    "names(pop_files)[p] == \"Clades\"\n",
    "paste0(\"~/data/trd/mapped_reads/ALL.DP5-95.\", c, \".DP10.GQ20RGQ20.SNPsRef.vcf.gz-\", names(pop_files)[p], \"-pixy_pi.txt.gz\")\n",
    "file.exists(paste0(\"~/data/trd/mapped_reads/ALL.DP5-95.\", c, \".DP10.GQ20RGQ20.SNPsRef.vcf.gz-\", names(pop_files)[p], \"-pixy_pi.txt.gz\"))"
   ]
  },
  {
   "cell_type": "code",
   "execution_count": null,
   "id": "4935ad43-c88c-4c0b-a5d0-ea3f1dd9756b",
   "metadata": {
    "tags": []
   },
   "outputs": [],
   "source": [
    "make_bed_file=function(chr,from,to,cross,ID){\n",
    "    # to get the pi etc values at a precise locus, we need to make a bed file, tab separated\n",
    "    bed_tbl<-data.table(chr=chr, from=from, to=to)\n",
    "    bed_out<-paste0(\"~/data/trd/mapped_reads/pos_for_pixy/\",cross,\".\",ID,\".bed\")\n",
    "    fwrite(bed_tbl, bed_out, col.names =FALSE, sep=\"\\t\")\n",
    "    return(bed_out)\n",
    "}"
   ]
  },
  {
   "cell_type": "code",
   "execution_count": null,
   "id": "6edfcfbc-b2e8-491f-9e2b-bce125067d23",
   "metadata": {
    "tags": []
   },
   "outputs": [],
   "source": [
    "TRD_loci=fread(\"/home/jnrunge/data/trd/local_phylogenies_trd_analysis/TRD_regions_with_LP_data.csv.gz\")\n",
    "head(TRD_loci)"
   ]
  },
  {
   "cell_type": "code",
   "execution_count": null,
   "id": "c863c8e3-b058-4689-96ce-eeef0ca6b620",
   "metadata": {
    "tags": []
   },
   "outputs": [],
   "source": [
    "# first, lets compute the values for each TRD locus, no windows\n",
    "\n",
    "initial_timedate <- Sys.time()\n",
    "jobname <- \"pixy_TRD\"\n",
    "scripts_dir <- \"/home/jnrunge/data/trd/mapped_reads/scripts/\"\n",
    "\n",
    "for (p in 1:length(pop_files)) {\n",
    "  cross <- str_extract(basename(as.character(pop_files[p])), \"(?<=_)[[:alnum:]]+(?=_)\")\n",
    "    if (names(pop_files)[p] == \"Clades\") {\n",
    "        next\n",
    "      }\n",
    "    cross_value<-strsplit(names(pop_files)[p], \"_\", fixed=TRUE)[[1]][2]\n",
    "    ID_value<-strsplit(names(pop_files)[p], \"_\", fixed=TRUE)[[1]][3]\n",
    "    TRD_locus<-filter(TRD_loci, ID==ID_value & cross==cross_value)\n",
    "    bed_file<-make_bed_file(pull(TRD_locus, chr), pull(TRD_locus, start), pull(TRD_locus, end), cross_value, ID_value)\n",
    "\n",
    "    cmd <- paste0(\n",
    "      \"cd ~/data/trd/mapped_reads/ && \",\n",
    "      \"pixy --n_cores 1 --stats dxy fst pi --populations \",\n",
    "      pop_files[p],  \" --bed_file \", bed_file, \" --vcf \",\n",
    "      \"ALL.DP5-95.\", pull(TRD_locus, chr), \".DP10.GQ20RGQ20.SNPsRef.vcf.gz\", \" --output_prefix \",\n",
    "      \"ALL.DP5-95.\", pull(TRD_locus, chr), \".DP10.GQ20RGQ20.SNPsRef.vcf.gz-\", names(pop_files)[p], \"-theTRDregion-pixy && \",\n",
    "      \"gzip -f ALL.DP5-95.\", pull(TRD_locus, chr), \".DP10.GQ20RGQ20.SNPsRef.vcf.gz-\", names(pop_files)[p], \"-theTRDregion-pixy*txt\"\n",
    "    )\n",
    "    sbatch_list <- execute_complex_sbatch(cmd, jobname = jobname, scripts_dir = scripts_dir, uniqueRunID = paste0(names(pop_files)[p],\"_theTRDregion\"), cores = \"1\", mem = \"16G\", time = \"short\", env = \"bwaetc\", initial_timedate = initial_timedate, jobs_simul = 10, jobs_total = 30)\n",
    "\n",
    "}"
   ]
  },
  {
   "cell_type": "code",
   "execution_count": null,
   "id": "e7285a4a-4e3a-465c-9a6e-6c53a50dd13b",
   "metadata": {
    "tags": []
   },
   "outputs": [],
   "source": [
    "\n",
    "for (p in 1:length(pop_files)) {\n",
    "  cross <- str_extract(basename(as.character(pop_files[p])), \"(?<=_)[[:alnum:]]+(?=_)\")\n",
    "  for (c in chrs) {\n",
    "    if (names(pop_files)[p] == \"Clades\") {\n",
    "      if (file.exists(paste0(\"~/data/trd/mapped_reads/ALL.DP5-95.\", c, \".DP10.GQ20RGQ20.SNPsRef.vcf.gz-\", names(pop_files)[p], \"-pixy_pi.txt.gz\"))) {\n",
    "        next\n",
    "      }\n",
    "    } else {\n",
    "      if (file.exists(paste0(\"~/data/trd/mapped_reads/ALL.DP5-95.\", c, \".DP10.GQ20RGQ20.SNPsRef.vcf.gz-\", names(pop_files)[p], \"-pixy_pi.txt.gz\"))) {\n",
    "        if (file.mtime(paste0(\"~/data/trd/mapped_reads/ALL.DP5-95.\", c, \".DP10.GQ20RGQ20.SNPsRef.vcf.gz-\", names(pop_files)[p], \"-pixy_pi.txt.gz\")) > file.mtime(paste0(\"/home/jnrunge/data/TRD/results/shiny/\", cross, \"-AF.csv.gz.allelesharing.csv.gz\"))) {\n",
    "          next\n",
    "        }\n",
    "      }\n",
    "    }\n",
    "\n",
    "\n",
    "    cmd <- paste0(\n",
    "      \"cd ~/data/trd/mapped_reads/ && \",\n",
    "      \"pixy --n_cores 2 --stats dxy fst pi --populations \",\n",
    "      pop_files[p], \" --vcf \",\n",
    "      \"ALL.DP5-95.\", c, \".DP10.GQ20RGQ20.SNPsRef.vcf.gz\", \" --output_prefix \",\n",
    "      \"ALL.DP5-95.\", c, \".DP10.GQ20RGQ20.SNPsRef.vcf.gz-\", names(pop_files)[p], \"-pixy --window_size 1000 && \",\n",
    "      \" gzip -f ALL.DP5-95.\", c, \".DP10.GQ20RGQ20.SNPsRef.vcf.gz-\", names(pop_files)[p], \"-pixy*txt\"\n",
    "    )\n",
    "    sbatch_list <- execute_complex_sbatch(cmd, jobname = jobname, scripts_dir = scripts_dir, uniqueRunID = paste0(names(pop_files)[p],\"_\",c), cores = \"2\", mem = \"32G\", time = \"short\", env = \"bwaetc\", initial_timedate = initial_timedate, jobs_simul = 10, jobs_total = 30)\n",
    "  }\n",
    "}\n",
    "\n",
    "if (exists(\"sbatch_list\") & jobname == \"pixy_TRD\") {\n",
    "  print(sbatch_list)\n",
    "  start_sbatch_list(sbatch_list, 10, jobname, initial_timedate)\n",
    "}"
   ]
  }
 ],
 "metadata": {
  "kernelspec": {
   "display_name": "R",
   "language": "R",
   "name": "ir"
  },
  "language_info": {
   "codemirror_mode": "r",
   "file_extension": ".r",
   "mimetype": "text/x-r-source",
   "name": "R",
   "pygments_lexer": "r",
   "version": "4.1.3"
  }
 },
 "nbformat": 4,
 "nbformat_minor": 5
}

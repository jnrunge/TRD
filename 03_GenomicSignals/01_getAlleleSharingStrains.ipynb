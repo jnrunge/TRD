{
 "cells": [
  {
   "cell_type": "markdown",
   "id": "237cb64a-9884-48cd-ab83-39ef10f6481c",
   "metadata": {},
   "source": [
    "I want to get a list of strains that share the allele1 or allele2 per locus per cross so that I can dynamically explore the phylogeny in this regard"
   ]
  },
  {
   "cell_type": "code",
   "execution_count": 179,
   "id": "d5965251-1def-48fa-bd98-69b14a982a2f",
   "metadata": {
    "tags": []
   },
   "outputs": [
    {
     "name": "stdout",
     "output_type": "stream",
     "text": [
      "[1] \"sbatch -c 1 --mem=4G --job-name=getLoci -p fast -t 119:59:00 --wrap '. ~/activate.sh bwaetc; bcftools view -R /home/jnrunge/data/TRD/results/shiny//ChrisC2-AF.csv.gz.tmp.loci -Oz -o /home/jnrunge/data/TRD/results/shiny//ChrisC2-AF.csv.gz.loci.full.vcf.gz ~/data/trd/full2489Matrix.vcf.gz'\"\n",
      "[1] \"Submitted batch job 491762\"\n",
      "[1] \"sbatch -c 1 --mem=4G --job-name=getLoci -p fast -t 119:59:00 --wrap '. ~/activate.sh bwaetc; bcftools view -R /home/jnrunge/data/TRD/results/shiny//ChrisC3-AF.csv.gz.tmp.loci -Oz -o /home/jnrunge/data/TRD/results/shiny//ChrisC3-AF.csv.gz.loci.full.vcf.gz ~/data/trd/full2489Matrix.vcf.gz'\"\n",
      "[1] \"Submitted batch job 491763\"\n",
      "[1] \"sbatch -c 1 --mem=4G --job-name=getLoci -p fast -t 119:59:00 --wrap '. ~/activate.sh bwaetc; bcftools view -R /home/jnrunge/data/TRD/results/shiny//ChrisC4-AF.csv.gz.tmp.loci -Oz -o /home/jnrunge/data/TRD/results/shiny//ChrisC4-AF.csv.gz.loci.full.vcf.gz ~/data/trd/full2489Matrix.vcf.gz'\"\n",
      "[1] \"Submitted batch job 491764\"\n",
      "[1] \"sbatch -c 1 --mem=4G --job-name=getLoci -p fast -t 119:59:00 --wrap '. ~/activate.sh bwaetc; bcftools view -R /home/jnrunge/data/TRD/results/shiny//ChrisC5-AF.csv.gz.tmp.loci -Oz -o /home/jnrunge/data/TRD/results/shiny//ChrisC5-AF.csv.gz.loci.full.vcf.gz ~/data/trd/full2489Matrix.vcf.gz'\"\n",
      "[1] \"Submitted batch job 491765\"\n",
      "[1] \"sbatch -c 1 --mem=4G --job-name=getLoci -p fast -t 119:59:00 --wrap '. ~/activate.sh bwaetc; bcftools view -R /home/jnrunge/data/TRD/results/shiny//ChrisC6-AF.csv.gz.tmp.loci -Oz -o /home/jnrunge/data/TRD/results/shiny//ChrisC6-AF.csv.gz.loci.full.vcf.gz ~/data/trd/full2489Matrix.vcf.gz'\"\n",
      "[1] \"Submitted batch job 491766\"\n",
      "[1] \"sbatch -c 1 --mem=4G --job-name=getLoci -p fast -t 119:59:00 --wrap '. ~/activate.sh bwaetc; bcftools view -R /home/jnrunge/data/TRD/results/shiny//ChrisC7-AF.csv.gz.tmp.loci -Oz -o /home/jnrunge/data/TRD/results/shiny//ChrisC7-AF.csv.gz.loci.full.vcf.gz ~/data/trd/full2489Matrix.vcf.gz'\"\n",
      "[1] \"Submitted batch job 491767\"\n",
      "[1] \"sbatch -c 1 --mem=4G --job-name=getLoci -p fast -t 119:59:00 --wrap '. ~/activate.sh bwaetc; bcftools view -R /home/jnrunge/data/TRD/results/shiny//ChrisC8-AF.csv.gz.tmp.loci -Oz -o /home/jnrunge/data/TRD/results/shiny//ChrisC8-AF.csv.gz.loci.full.vcf.gz ~/data/trd/full2489Matrix.vcf.gz'\"\n",
      "[1] \"Submitted batch job 491768\"\n",
      "[1] \"sbatch -c 1 --mem=4G --job-name=getLoci -p fast -t 119:59:00 --wrap '. ~/activate.sh bwaetc; bcftools view -R /home/jnrunge/data/TRD/results/shiny//YJNRC17-AF.csv.gz.tmp.loci -Oz -o /home/jnrunge/data/TRD/results/shiny//YJNRC17-AF.csv.gz.loci.full.vcf.gz ~/data/trd/full2489Matrix.vcf.gz'\"\n",
      "[1] \"Submitted batch job 491769\"\n",
      "[1] \"sbatch -c 1 --mem=4G --job-name=getLoci -p fast -t 119:59:00 --wrap '. ~/activate.sh bwaetc; bcftools view -R /home/jnrunge/data/TRD/results/shiny//YJNRC18-AF.csv.gz.tmp.loci -Oz -o /home/jnrunge/data/TRD/results/shiny//YJNRC18-AF.csv.gz.loci.full.vcf.gz ~/data/trd/full2489Matrix.vcf.gz'\"\n",
      "[1] \"Submitted batch job 491770\"\n",
      "[1] \"sbatch -c 1 --mem=4G --job-name=getLoci -p fast -t 119:59:00 --wrap '. ~/activate.sh bwaetc; bcftools view -R /home/jnrunge/data/TRD/results/shiny//YJNRC2-AF.csv.gz.tmp.loci -Oz -o /home/jnrunge/data/TRD/results/shiny//YJNRC2-AF.csv.gz.loci.full.vcf.gz ~/data/trd/full2489Matrix.vcf.gz'\"\n",
      "[1] \"Submitted batch job 491771\"\n"
     ]
    }
   ],
   "source": [
    "source(\"~/BrusselSprouts/scripts/functions.R\")\n",
    "library(tidytable)\n",
    "\n",
    "files=list.files(path = \"/home/jnrunge/data/TRD/results/shiny/\", pattern=\"AF.csv.gz$\", full.names = TRUE)\n",
    "\n",
    "for(f in files){\n",
    "    df=fread(f,data.table=TRUE)\n",
    "    fwrite(select(df,chr,pos),paste0(f,\".tmp.loci\"), sep=\"\\t\", col.names = FALSE)\n",
    "    # make a subset vcf at those loci \n",
    "    if(file.exists(paste0(f,\".loci.full.vcf.gz\"))){\n",
    "        next\n",
    "    }\n",
    "    cmd=paste0(\"bcftools view -R \",paste0(f,\".tmp.loci\"), \" -Oz -o \",paste0(f,\".loci.full.vcf.gz\"),\" ~/data/trd/full2489Matrix.vcf.gz\")\n",
    "    execute_cmd_sbatch(cmd, mem=\"4G\", cpu=\"1\", time=\"long\", env=\"bwaetc\", jobname=\"getLoci\")\n",
    "    Sys.sleep(1)\n",
    "    # run cmd\n",
    "}"
   ]
  },
  {
   "cell_type": "code",
   "execution_count": 182,
   "id": "84aef61a-9d48-4939-a4ee-536fa9059a00",
   "metadata": {
    "tags": []
   },
   "outputs": [
    {
     "name": "stdout",
     "output_type": "stream",
     "text": [
      "[1] \"sbatch -c 1 --mem=8G --job-name=getAS -p fast -t 119:59:00 --wrap '. ~/activate.sh JupyteR4; Rscript ~/TRD/03_GenomicSignals/01_getAlleleSharingStrains.R /home/jnrunge/data/TRD/results/shiny//ChrisC1-AF.csv.gz'\"\n",
      "[1] \"Submitted batch job 491861\"\n",
      "[1] \"sbatch -c 1 --mem=8G --job-name=getAS -p fast -t 119:59:00 --wrap '. ~/activate.sh JupyteR4; Rscript ~/TRD/03_GenomicSignals/01_getAlleleSharingStrains.R /home/jnrunge/data/TRD/results/shiny//ChrisC2-AF.csv.gz'\"\n",
      "[1] \"Submitted batch job 491862\"\n",
      "[1] \"sbatch -c 1 --mem=8G --job-name=getAS -p fast -t 119:59:00 --wrap '. ~/activate.sh JupyteR4; Rscript ~/TRD/03_GenomicSignals/01_getAlleleSharingStrains.R /home/jnrunge/data/TRD/results/shiny//ChrisC3-AF.csv.gz'\"\n",
      "[1] \"Submitted batch job 491863\"\n",
      "[1] \"sbatch -c 1 --mem=8G --job-name=getAS -p fast -t 119:59:00 --wrap '. ~/activate.sh JupyteR4; Rscript ~/TRD/03_GenomicSignals/01_getAlleleSharingStrains.R /home/jnrunge/data/TRD/results/shiny//ChrisC4-AF.csv.gz'\"\n",
      "[1] \"Submitted batch job 491864\"\n",
      "[1] \"sbatch -c 1 --mem=8G --job-name=getAS -p fast -t 119:59:00 --wrap '. ~/activate.sh JupyteR4; Rscript ~/TRD/03_GenomicSignals/01_getAlleleSharingStrains.R /home/jnrunge/data/TRD/results/shiny//ChrisC5-AF.csv.gz'\"\n",
      "[1] \"Submitted batch job 491865\"\n",
      "[1] \"sbatch -c 1 --mem=8G --job-name=getAS -p fast -t 119:59:00 --wrap '. ~/activate.sh JupyteR4; Rscript ~/TRD/03_GenomicSignals/01_getAlleleSharingStrains.R /home/jnrunge/data/TRD/results/shiny//ChrisC6-AF.csv.gz'\"\n",
      "[1] \"Submitted batch job 491866\"\n",
      "[1] \"sbatch -c 1 --mem=8G --job-name=getAS -p fast -t 119:59:00 --wrap '. ~/activate.sh JupyteR4; Rscript ~/TRD/03_GenomicSignals/01_getAlleleSharingStrains.R /home/jnrunge/data/TRD/results/shiny//ChrisC7-AF.csv.gz'\"\n",
      "[1] \"Submitted batch job 491867\"\n",
      "[1] \"sbatch -c 1 --mem=8G --job-name=getAS -p fast -t 119:59:00 --wrap '. ~/activate.sh JupyteR4; Rscript ~/TRD/03_GenomicSignals/01_getAlleleSharingStrains.R /home/jnrunge/data/TRD/results/shiny//ChrisC8-AF.csv.gz'\"\n",
      "[1] \"Submitted batch job 491868\"\n",
      "[1] \"sbatch -c 1 --mem=8G --job-name=getAS -p fast -t 119:59:00 --wrap '. ~/activate.sh JupyteR4; Rscript ~/TRD/03_GenomicSignals/01_getAlleleSharingStrains.R /home/jnrunge/data/TRD/results/shiny//YJNRC17-AF.csv.gz'\"\n",
      "[1] \"Submitted batch job 491869\"\n",
      "[1] \"sbatch -c 1 --mem=8G --job-name=getAS -p fast -t 119:59:00 --wrap '. ~/activate.sh JupyteR4; Rscript ~/TRD/03_GenomicSignals/01_getAlleleSharingStrains.R /home/jnrunge/data/TRD/results/shiny//YJNRC18-AF.csv.gz'\"\n",
      "[1] \"Submitted batch job 491870\"\n",
      "[1] \"sbatch -c 1 --mem=8G --job-name=getAS -p fast -t 119:59:00 --wrap '. ~/activate.sh JupyteR4; Rscript ~/TRD/03_GenomicSignals/01_getAlleleSharingStrains.R /home/jnrunge/data/TRD/results/shiny//YJNRC2-AF.csv.gz'\"\n",
      "[1] \"Submitted batch job 491871\"\n"
     ]
    }
   ],
   "source": [
    "for(f in files){\n",
    "\n",
    "    cmd=paste0(\"Rscript ~/TRD/03_GenomicSignals/01_getAlleleSharingStrains.R \", f)\n",
    "    execute_cmd_sbatch(cmd, \"8G\", \"1\", \"long\", \"JupyteR4\", \"getAS\")\n",
    "    Sys.sleep(1)\n",
    "    \n",
    "    }"
   ]
  },
  {
   "cell_type": "code",
   "execution_count": null,
   "id": "6eac5d14-0849-476c-b15d-8c846af6e98f",
   "metadata": {
    "tags": []
   },
   "outputs": [],
   "source": [
    "vcf=fread(cmd=paste0(\"zcat \",paste0(f,\".loci.full.vcf.gz\"),\" | grep -v ^##\"), data.table = FALSE)\n",
    "setDF(vcf)\n",
    "\n",
    "vcf$chrpos=paste(vcf$`#CHROM`,vcf$POS)\n",
    "df$chrpos=paste(df$chr,df$pos)\n",
    "\n",
    "getA1A2sharersPerLocus=function(x){\n",
    "    if(vcf$chrpos[x]%in%df$chrpos){\n",
    "        which_df_row=which(df$chrpos==vcf$chrpos[x])\n",
    "        vcf_alleles=strsplit(paste(vcf$REF[x],vcf$`ALT...5`[x],sep=\",\"),\",\",fixed=TRUE)[[1]]\n",
    "        df_alleles=strsplit(df$alleles[which_df_row],\",\",fixed=TRUE)[[1]]\n",
    "        A1=which(vcf_alleles==df_alleles[as.numeric(df$Allele1[which_df_row])+1])-1 # 0 = REF\n",
    "        A2=which(vcf_alleles==df_alleles[as.numeric(df$Allele2[which_df_row])+1])-1\n",
    "        t_vcf=t(vcf[x,10:ncol(vcf)])\n",
    "        A1_homs=which(substr(t_vcf, 1,1)==A1 & substr(t_vcf, 3,3) == A1)\n",
    "        A2_homs=which(substr(t_vcf, 1,1)==A2 & substr(t_vcf, 3,3) == A2)\n",
    "        vcf_return=vcf[x,c(1,2,10:ncol(vcf))]\n",
    "        vcf_return[1,3:ncol(vcf_return)]=\"Other\"\n",
    "        vcf_return[1,2+A1_homs]=\"A1_hom\"\n",
    "        vcf_return[1,2+A2_homs]=\"A2_hom\"\n",
    "        return(vcf_return)\n",
    "        #return(tibble(Strain=c(colnames(vcf)[A1_homs+9],colnames(vcf)[A2_homs+9]),\n",
    "        #              Type=c(rep(\"A1_hom\",length(A1_homs)),\n",
    "        #                   rep(\"A2_hom\",length(A2_homs)))))\n",
    "    }else{\n",
    "        return(NULL)\n",
    "    }\n",
    "}\n",
    "\n",
    "summarise_strains=function(x){\n",
    "    # x = strain\n",
    "    return(summarise(group_by(vcf_translated, all_of(x)), p=n()/nrow(vcf_translated))%>%mutate(Strain=x)%>%rename(Type=all_of(x))%>%select(Strain,Type,p))\n",
    "}\n",
    "\n",
    "wrapperDfLocus=function(x){\n",
    "    y=which(vcf$chrpos==df$chrpos[x])\n",
    "    if(length(y)==0){\n",
    "        return(NULL)\n",
    "    }\n",
    "    return(getA1A2sharersPerLocus(y))\n",
    "}\n",
    "\n",
    "vcf_translated=setDT(data.table::rbindlist(lapply(1:nrow(df),wrapperDfLocus)))\n",
    "colnames(vcf_translated)[colnames(vcf_translated)==\"ALT...204\"]=\"ALT\"\n",
    "\n",
    "\n",
    "fwrite(vcf_translated, paste0(f,\".allelesharing.csv.gz\"))"
   ]
  },
  {
   "cell_type": "code",
   "execution_count": 175,
   "id": "029f398b-0feb-4d1f-abe7-2b5eccea7925",
   "metadata": {
    "tags": []
   },
   "outputs": [
    {
     "data": {
      "text/html": [
       "<table class=\"dataframe\">\n",
       "<caption>A tidytable: 6 x 3</caption>\n",
       "<thead>\n",
       "\t<tr><th scope=col>Strain</th><th scope=col>Type</th><th scope=col>p</th></tr>\n",
       "\t<tr><th scope=col>&lt;fct&gt;</th><th scope=col>&lt;chr&gt;</th><th scope=col>&lt;dbl&gt;</th></tr>\n",
       "</thead>\n",
       "<tbody>\n",
       "\t<tr><td>AAA</td><td>A1_hom</td><td>0.60</td></tr>\n",
       "\t<tr><td>AAA</td><td>A2_hom</td><td>0.38</td></tr>\n",
       "\t<tr><td>AAA</td><td>Other </td><td>0.02</td></tr>\n",
       "\t<tr><td>AAB</td><td>A1_hom</td><td>0.57</td></tr>\n",
       "\t<tr><td>AAB</td><td>A2_hom</td><td>0.41</td></tr>\n",
       "\t<tr><td>AAB</td><td>Other </td><td>0.02</td></tr>\n",
       "</tbody>\n",
       "</table>\n"
      ],
      "text/latex": [
       "A tidytable: 6 x 3\n",
       "\\begin{tabular}{lll}\n",
       " Strain & Type & p\\\\\n",
       " <fct> & <chr> & <dbl>\\\\\n",
       "\\hline\n",
       "\t AAA & A1\\_hom & 0.60\\\\\n",
       "\t AAA & A2\\_hom & 0.38\\\\\n",
       "\t AAA & Other  & 0.02\\\\\n",
       "\t AAB & A1\\_hom & 0.57\\\\\n",
       "\t AAB & A2\\_hom & 0.41\\\\\n",
       "\t AAB & Other  & 0.02\\\\\n",
       "\\end{tabular}\n"
      ],
      "text/markdown": [
       "\n",
       "A tidytable: 6 x 3\n",
       "\n",
       "| Strain &lt;fct&gt; | Type &lt;chr&gt; | p &lt;dbl&gt; |\n",
       "|---|---|---|\n",
       "| AAA | A1_hom | 0.60 |\n",
       "| AAA | A2_hom | 0.38 |\n",
       "| AAA | Other  | 0.02 |\n",
       "| AAB | A1_hom | 0.57 |\n",
       "| AAB | A2_hom | 0.41 |\n",
       "| AAB | Other  | 0.02 |\n",
       "\n"
      ],
      "text/plain": [
       "  Strain Type   p   \n",
       "1 AAA    A1_hom 0.60\n",
       "2 AAA    A2_hom 0.38\n",
       "3 AAA    Other  0.02\n",
       "4 AAB    A1_hom 0.57\n",
       "5 AAB    A2_hom 0.41\n",
       "6 AAB    Other  0.02"
      ]
     },
     "metadata": {},
     "output_type": "display_data"
    },
    {
     "data": {
      "text/plain": [
       "Time difference of 0.1242888 secs"
      ]
     },
     "metadata": {},
     "output_type": "display_data"
    }
   ],
   "source": [
    "# in shiny, needs chr pos selection\n",
    "a=Sys.time()\n",
    "melted=reshape2::melt(vcf_translated, id.vars = c(\"#CHROM\",\"POS\"))\n",
    "tmp=summarise(group_by(melted, variable), nAll=n())\n",
    "vcf_translated_summary=left_join(tmp,summarise(group_by(melted, variable, value), n=n()), by=c(\"variable\"))%>%mutate(p=n/nAll)%>%select(variable,value,p)%>%rename(Strain=variable, Type=value)\n",
    "head(vcf_translated_summary)\n",
    "b=Sys.time()\n",
    "b-a"
   ]
  }
 ],
 "metadata": {
  "kernelspec": {
   "display_name": "R",
   "language": "R",
   "name": "ir"
  },
  "language_info": {
   "codemirror_mode": "r",
   "file_extension": ".r",
   "mimetype": "text/x-r-source",
   "name": "R",
   "pygments_lexer": "r",
   "version": "4.1.3"
  }
 },
 "nbformat": 4,
 "nbformat_minor": 5
}

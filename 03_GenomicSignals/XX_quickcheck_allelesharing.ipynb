{
 "cells": [
  {
   "cell_type": "markdown",
   "id": "d1cba107-885b-45a8-abf9-f1ecd76a0ca4",
   "metadata": {},
   "source": [
    "I noticed that YJNRC21-1 has no allele sharing strains at 70% similarity. Here I will check the code of 01_pixy, which was I think taken from the Shiny app.\n",
    "\n",
    "\n",
    "# Conclusion\n",
    "\n",
    "I could not find an issue per se with any of the data. However, the logic behind the similarity calculation is bad. So far, I have been taking the % homozygous similarity at the opposite homozygous loci. This is correlated with the actual similarity, like via IBS, but is not the same thing. First of all, it looks at only a subset of loci, in this case 750ish of 65Kish. I am not sure if IBS is the perfect measure, and what the best cutoff would be, but this seems to be causing the issue. The best course of action would probably be to use IBS and also add a direct Dxy between the two parental strains."
   ]
  },
  {
   "cell_type": "code",
   "execution_count": 44,
   "id": "b89e54e5-7a38-4f22-96de-9066abf992b8",
   "metadata": {
    "tags": []
   },
   "outputs": [
    {
     "name": "stderr",
     "output_type": "stream",
     "text": [
      "Warning message:\n",
      "\"package 'ggplot2' was built under R version 4.1.3\"\n"
     ]
    }
   ],
   "source": [
    "library(tidytable)\n",
    "library(stringr)\n",
    "library(ggplot2)"
   ]
  },
  {
   "cell_type": "code",
   "execution_count": 13,
   "id": "222aa531-2d9d-45d8-8236-bdfcf08635ac",
   "metadata": {
    "tags": []
   },
   "outputs": [],
   "source": [
    "c<-\"YJNRC21\"\n",
    "i<-1 # row trd region\n",
    "selectSimilarity=0.7"
   ]
  },
  {
   "cell_type": "code",
   "execution_count": 6,
   "id": "7e3d000d-a24a-44a6-b49d-e8245d1e923d",
   "metadata": {
    "tags": []
   },
   "outputs": [],
   "source": [
    "if(!file.exists(paste0(\"/home/jnrunge/data/TRD/results/shiny/\",c,\"-AF.csv.gz.allelesharing.csv.gz\"))){\n",
    "        print(\"skip1\")\n",
    "        next\n",
    "    }\n",
    "    if(file.mtime(paste0(\"/home/jnrunge/data/TRD/results/shiny/\",c,\"-AF.csv.gz.allelesharing.csv.gz\")) < file.mtime(paste0(\"/home/jnrunge/data/TRD/results/shiny/\",c,\"-AF.csv.gz\"))){\n",
    "        print(\"skip2\")\n",
    "        next\n",
    "    }\n",
    "    if(file.mtime(paste0(\"/home/jnrunge/data/TRD/results/shiny/\",c,\"-AF.csv.gz\"))<file.mtime(paste0(\"/home/jnrunge/data/trd/mapped_reads/TRD.vcf.gz\"))){\n",
    "        print(\"skip3\")\n",
    "        next\n",
    "    }\n",
    "    AS=fread(paste0(\"/home/jnrunge/data/TRD/results/shiny/\",c,\"-AF.csv.gz.allelesharing.csv.gz\"))\n",
    "\n",
    "    TRD=fread(paste0(\"/home/jnrunge/data/TRD/results/shiny/\",c,\"-AF.csv.gz\"))\n",
    "    \n",
    "    if(!file.exists(paste0(\"/home/jnrunge/data/TRD/results/shiny/\",c,\"-TRD_regions.csv.gz\"))){\n",
    "        print(\"skip4\")\n",
    "        next\n",
    "    }\n",
    "\n",
    "    TRD_loci=fread(paste0(\"/home/jnrunge/data/TRD/results/shiny/\",c,\"-TRD_regions.csv.gz\"))"
   ]
  },
  {
   "cell_type": "code",
   "execution_count": 19,
   "id": "d582698a-d34a-4986-8918-4a5c38458c3a",
   "metadata": {
    "tags": []
   },
   "outputs": [
    {
     "data": {
      "text/html": [
       "<table class=\"dataframe\">\n",
       "<caption>A tidytable: 2 x 7</caption>\n",
       "<thead>\n",
       "\t<tr><th scope=col>ID</th><th scope=col>lengthSNPs</th><th scope=col>chr_start</th><th scope=col>chr_end</th><th scope=col>global_start</th><th scope=col>global_end</th><th scope=col>lengthBp</th></tr>\n",
       "\t<tr><th scope=col>&lt;int&gt;</th><th scope=col>&lt;int&gt;</th><th scope=col>&lt;chr&gt;</th><th scope=col>&lt;chr&gt;</th><th scope=col>&lt;int&gt;</th><th scope=col>&lt;int&gt;</th><th scope=col>&lt;int&gt;</th></tr>\n",
       "</thead>\n",
       "<tbody>\n",
       "\t<tr><td>1</td><td>759</td><td>chromosome2 </td><td>chromosome2 </td><td> 547041</td><td> 894540</td><td>347499</td></tr>\n",
       "\t<tr><td>3</td><td>322</td><td>chromosome12</td><td>chromosome12</td><td>7864969</td><td>7965056</td><td>100087</td></tr>\n",
       "</tbody>\n",
       "</table>\n"
      ],
      "text/latex": [
       "A tidytable: 2 x 7\n",
       "\\begin{tabular}{lllllll}\n",
       " ID & lengthSNPs & chr\\_start & chr\\_end & global\\_start & global\\_end & lengthBp\\\\\n",
       " <int> & <int> & <chr> & <chr> & <int> & <int> & <int>\\\\\n",
       "\\hline\n",
       "\t 1 & 759 & chromosome2  & chromosome2  &  547041 &  894540 & 347499\\\\\n",
       "\t 3 & 322 & chromosome12 & chromosome12 & 7864969 & 7965056 & 100087\\\\\n",
       "\\end{tabular}\n"
      ],
      "text/markdown": [
       "\n",
       "A tidytable: 2 x 7\n",
       "\n",
       "| ID &lt;int&gt; | lengthSNPs &lt;int&gt; | chr_start &lt;chr&gt; | chr_end &lt;chr&gt; | global_start &lt;int&gt; | global_end &lt;int&gt; | lengthBp &lt;int&gt; |\n",
       "|---|---|---|---|---|---|---|\n",
       "| 1 | 759 | chromosome2  | chromosome2  |  547041 |  894540 | 347499 |\n",
       "| 3 | 322 | chromosome12 | chromosome12 | 7864969 | 7965056 | 100087 |\n",
       "\n"
      ],
      "text/plain": [
       "  ID lengthSNPs chr_start    chr_end      global_start global_end lengthBp\n",
       "1 1  759        chromosome2  chromosome2   547041       894540    347499  \n",
       "2 3  322        chromosome12 chromosome12 7864969      7965056    100087  "
      ]
     },
     "metadata": {},
     "output_type": "display_data"
    }
   ],
   "source": [
    "TRD_loci"
   ]
  },
  {
   "cell_type": "code",
   "execution_count": 8,
   "id": "f06c0713-2927-413c-ac3e-57e16e274c6a",
   "metadata": {
    "tags": []
   },
   "outputs": [],
   "source": [
    "if(TRD_loci$chr_start[i]!=TRD_loci$chr_end[i]){\n",
    "        stop(\"chr overlapping TRD\")\n",
    "    }\n",
    "        TRD_subset=filter(TRD, chr== TRD_loci$chr_start[i] & global_pos >= TRD_loci$global_start[i] & global_pos <= TRD_loci$global_end[i])\n",
    "        df_AS_filtered=filter(AS, `#CHROM` == TRD_loci$chr_start[i], POS %in% TRD_subset$pos)"
   ]
  },
  {
   "cell_type": "code",
   "execution_count": 49,
   "id": "7096ba6c-7ecf-4b7a-98cb-5bc4c2b48fd3",
   "metadata": {
    "tags": []
   },
   "outputs": [
    {
     "data": {
      "text/html": [
       "<table class=\"dataframe\">\n",
       "<caption>A tidytable: 6 x 2492</caption>\n",
       "<thead>\n",
       "\t<tr><th scope=col>#CHROM</th><th scope=col>POS</th><th scope=col>AAA</th><th scope=col>AAB</th><th scope=col>AAC</th><th scope=col>AAD</th><th scope=col>AAE</th><th scope=col>AAG</th><th scope=col>AAH</th><th scope=col>AAI</th><th scope=col>...</th><th scope=col>XTRA_FFI</th><th scope=col>XTRA_FFJ</th><th scope=col>XTRA_FFK</th><th scope=col>XTRA_FFL</th><th scope=col>XTRA_FFM</th><th scope=col>XTRA_FFN</th><th scope=col>XTRA_FFO</th><th scope=col>XTRA_FFP</th><th scope=col>XTRA_FFQ</th><th scope=col>chrpos</th></tr>\n",
       "\t<tr><th scope=col>&lt;chr&gt;</th><th scope=col>&lt;int&gt;</th><th scope=col>&lt;chr&gt;</th><th scope=col>&lt;chr&gt;</th><th scope=col>&lt;chr&gt;</th><th scope=col>&lt;chr&gt;</th><th scope=col>&lt;chr&gt;</th><th scope=col>&lt;chr&gt;</th><th scope=col>&lt;chr&gt;</th><th scope=col>&lt;chr&gt;</th><th scope=col>...</th><th scope=col>&lt;chr&gt;</th><th scope=col>&lt;chr&gt;</th><th scope=col>&lt;chr&gt;</th><th scope=col>&lt;chr&gt;</th><th scope=col>&lt;chr&gt;</th><th scope=col>&lt;chr&gt;</th><th scope=col>&lt;chr&gt;</th><th scope=col>&lt;chr&gt;</th><th scope=col>&lt;chr&gt;</th><th scope=col>&lt;chr&gt;</th></tr>\n",
       "</thead>\n",
       "<tbody>\n",
       "\t<tr><td>chromosome2</td><td>340242</td><td>A2_hom</td><td>A2_hom</td><td>A2_hom</td><td>A1_hom</td><td>A2_hom</td><td>A1_hom</td><td>A2_hom</td><td>A2_hom</td><td>...</td><td>A2_hom</td><td>A1_hom</td><td>Other </td><td>Other </td><td>A2_hom</td><td>Other </td><td>A2_hom</td><td>A2_hom</td><td>Other </td><td>Other</td></tr>\n",
       "\t<tr><td>chromosome2</td><td>340737</td><td>A2_hom</td><td>A2_hom</td><td>A2_hom</td><td>A1_hom</td><td>A2_hom</td><td>A2_hom</td><td>A2_hom</td><td>A2_hom</td><td>...</td><td>A2_hom</td><td>Other </td><td>Other </td><td>Other </td><td>A2_hom</td><td>Other </td><td>A2_hom</td><td>A2_hom</td><td>Other </td><td>Other</td></tr>\n",
       "\t<tr><td>chromosome2</td><td>340913</td><td>A2_hom</td><td>A2_hom</td><td>A2_hom</td><td>A1_hom</td><td>A2_hom</td><td>A2_hom</td><td>A2_hom</td><td>A2_hom</td><td>...</td><td>A2_hom</td><td>Other </td><td>Other </td><td>Other </td><td>A2_hom</td><td>Other </td><td>Other </td><td>Other </td><td>Other </td><td>Other</td></tr>\n",
       "\t<tr><td>chromosome2</td><td>341391</td><td>A2_hom</td><td>A2_hom</td><td>Other </td><td>A1_hom</td><td>A2_hom</td><td>A2_hom</td><td>A2_hom</td><td>A2_hom</td><td>...</td><td>A2_hom</td><td>Other </td><td>Other </td><td>A2_hom</td><td>Other </td><td>Other </td><td>Other </td><td>A2_hom</td><td>A2_hom</td><td>Other</td></tr>\n",
       "\t<tr><td>chromosome2</td><td>341451</td><td>A2_hom</td><td>A2_hom</td><td>Other </td><td>A1_hom</td><td>A2_hom</td><td>A2_hom</td><td>A2_hom</td><td>A2_hom</td><td>...</td><td>A2_hom</td><td>Other </td><td>Other </td><td>A2_hom</td><td>Other </td><td>Other </td><td>Other </td><td>A2_hom</td><td>A2_hom</td><td>Other</td></tr>\n",
       "\t<tr><td>chromosome2</td><td>341533</td><td>A2_hom</td><td>A2_hom</td><td>A2_hom</td><td>A1_hom</td><td>A2_hom</td><td>A2_hom</td><td>A2_hom</td><td>A2_hom</td><td>...</td><td>A2_hom</td><td>Other </td><td>A2_hom</td><td>A2_hom</td><td>A2_hom</td><td>A2_hom</td><td>A2_hom</td><td>A2_hom</td><td>A2_hom</td><td>Other</td></tr>\n",
       "</tbody>\n",
       "</table>\n"
      ],
      "text/latex": [
       "A tidytable: 6 x 2492\n",
       "\\begin{tabular}{lllllllllllllllllllll}\n",
       " \\#CHROM & POS & AAA & AAB & AAC & AAD & AAE & AAG & AAH & AAI & ... & XTRA\\_FFI & XTRA\\_FFJ & XTRA\\_FFK & XTRA\\_FFL & XTRA\\_FFM & XTRA\\_FFN & XTRA\\_FFO & XTRA\\_FFP & XTRA\\_FFQ & chrpos\\\\\n",
       " <chr> & <int> & <chr> & <chr> & <chr> & <chr> & <chr> & <chr> & <chr> & <chr> & ... & <chr> & <chr> & <chr> & <chr> & <chr> & <chr> & <chr> & <chr> & <chr> & <chr>\\\\\n",
       "\\hline\n",
       "\t chromosome2 & 340242 & A2\\_hom & A2\\_hom & A2\\_hom & A1\\_hom & A2\\_hom & A1\\_hom & A2\\_hom & A2\\_hom & ... & A2\\_hom & A1\\_hom & Other  & Other  & A2\\_hom & Other  & A2\\_hom & A2\\_hom & Other  & Other\\\\\n",
       "\t chromosome2 & 340737 & A2\\_hom & A2\\_hom & A2\\_hom & A1\\_hom & A2\\_hom & A2\\_hom & A2\\_hom & A2\\_hom & ... & A2\\_hom & Other  & Other  & Other  & A2\\_hom & Other  & A2\\_hom & A2\\_hom & Other  & Other\\\\\n",
       "\t chromosome2 & 340913 & A2\\_hom & A2\\_hom & A2\\_hom & A1\\_hom & A2\\_hom & A2\\_hom & A2\\_hom & A2\\_hom & ... & A2\\_hom & Other  & Other  & Other  & A2\\_hom & Other  & Other  & Other  & Other  & Other\\\\\n",
       "\t chromosome2 & 341391 & A2\\_hom & A2\\_hom & Other  & A1\\_hom & A2\\_hom & A2\\_hom & A2\\_hom & A2\\_hom & ... & A2\\_hom & Other  & Other  & A2\\_hom & Other  & Other  & Other  & A2\\_hom & A2\\_hom & Other\\\\\n",
       "\t chromosome2 & 341451 & A2\\_hom & A2\\_hom & Other  & A1\\_hom & A2\\_hom & A2\\_hom & A2\\_hom & A2\\_hom & ... & A2\\_hom & Other  & Other  & A2\\_hom & Other  & Other  & Other  & A2\\_hom & A2\\_hom & Other\\\\\n",
       "\t chromosome2 & 341533 & A2\\_hom & A2\\_hom & A2\\_hom & A1\\_hom & A2\\_hom & A2\\_hom & A2\\_hom & A2\\_hom & ... & A2\\_hom & Other  & A2\\_hom & A2\\_hom & A2\\_hom & A2\\_hom & A2\\_hom & A2\\_hom & A2\\_hom & Other\\\\\n",
       "\\end{tabular}\n"
      ],
      "text/markdown": [
       "\n",
       "A tidytable: 6 x 2492\n",
       "\n",
       "| #CHROM &lt;chr&gt; | POS &lt;int&gt; | AAA &lt;chr&gt; | AAB &lt;chr&gt; | AAC &lt;chr&gt; | AAD &lt;chr&gt; | AAE &lt;chr&gt; | AAG &lt;chr&gt; | AAH &lt;chr&gt; | AAI &lt;chr&gt; | ... ... | XTRA_FFI &lt;chr&gt; | XTRA_FFJ &lt;chr&gt; | XTRA_FFK &lt;chr&gt; | XTRA_FFL &lt;chr&gt; | XTRA_FFM &lt;chr&gt; | XTRA_FFN &lt;chr&gt; | XTRA_FFO &lt;chr&gt; | XTRA_FFP &lt;chr&gt; | XTRA_FFQ &lt;chr&gt; | chrpos &lt;chr&gt; |\n",
       "|---|---|---|---|---|---|---|---|---|---|---|---|---|---|---|---|---|---|---|---|---|\n",
       "| chromosome2 | 340242 | A2_hom | A2_hom | A2_hom | A1_hom | A2_hom | A1_hom | A2_hom | A2_hom | ... | A2_hom | A1_hom | Other  | Other  | A2_hom | Other  | A2_hom | A2_hom | Other  | Other |\n",
       "| chromosome2 | 340737 | A2_hom | A2_hom | A2_hom | A1_hom | A2_hom | A2_hom | A2_hom | A2_hom | ... | A2_hom | Other  | Other  | Other  | A2_hom | Other  | A2_hom | A2_hom | Other  | Other |\n",
       "| chromosome2 | 340913 | A2_hom | A2_hom | A2_hom | A1_hom | A2_hom | A2_hom | A2_hom | A2_hom | ... | A2_hom | Other  | Other  | Other  | A2_hom | Other  | Other  | Other  | Other  | Other |\n",
       "| chromosome2 | 341391 | A2_hom | A2_hom | Other  | A1_hom | A2_hom | A2_hom | A2_hom | A2_hom | ... | A2_hom | Other  | Other  | A2_hom | Other  | Other  | Other  | A2_hom | A2_hom | Other |\n",
       "| chromosome2 | 341451 | A2_hom | A2_hom | Other  | A1_hom | A2_hom | A2_hom | A2_hom | A2_hom | ... | A2_hom | Other  | Other  | A2_hom | Other  | Other  | Other  | A2_hom | A2_hom | Other |\n",
       "| chromosome2 | 341533 | A2_hom | A2_hom | A2_hom | A1_hom | A2_hom | A2_hom | A2_hom | A2_hom | ... | A2_hom | Other  | A2_hom | A2_hom | A2_hom | A2_hom | A2_hom | A2_hom | A2_hom | Other |\n",
       "\n"
      ],
      "text/plain": [
       "  #CHROM      POS    AAA    AAB    AAC    AAD    AAE    AAG    AAH    AAI   \n",
       "1 chromosome2 340242 A2_hom A2_hom A2_hom A1_hom A2_hom A1_hom A2_hom A2_hom\n",
       "2 chromosome2 340737 A2_hom A2_hom A2_hom A1_hom A2_hom A2_hom A2_hom A2_hom\n",
       "3 chromosome2 340913 A2_hom A2_hom A2_hom A1_hom A2_hom A2_hom A2_hom A2_hom\n",
       "4 chromosome2 341391 A2_hom A2_hom Other  A1_hom A2_hom A2_hom A2_hom A2_hom\n",
       "5 chromosome2 341451 A2_hom A2_hom Other  A1_hom A2_hom A2_hom A2_hom A2_hom\n",
       "6 chromosome2 341533 A2_hom A2_hom A2_hom A1_hom A2_hom A2_hom A2_hom A2_hom\n",
       "  ... XTRA_FFI XTRA_FFJ XTRA_FFK XTRA_FFL XTRA_FFM XTRA_FFN XTRA_FFO XTRA_FFP\n",
       "1 ... A2_hom   A1_hom   Other    Other    A2_hom   Other    A2_hom   A2_hom  \n",
       "2 ... A2_hom   Other    Other    Other    A2_hom   Other    A2_hom   A2_hom  \n",
       "3 ... A2_hom   Other    Other    Other    A2_hom   Other    Other    Other   \n",
       "4 ... A2_hom   Other    Other    A2_hom   Other    Other    Other    A2_hom  \n",
       "5 ... A2_hom   Other    Other    A2_hom   Other    Other    Other    A2_hom  \n",
       "6 ... A2_hom   Other    A2_hom   A2_hom   A2_hom   A2_hom   A2_hom   A2_hom  \n",
       "  XTRA_FFQ chrpos\n",
       "1 Other    Other \n",
       "2 Other    Other \n",
       "3 Other    Other \n",
       "4 A2_hom   Other \n",
       "5 A2_hom   Other \n",
       "6 A2_hom   Other "
      ]
     },
     "metadata": {},
     "output_type": "display_data"
    }
   ],
   "source": [
    "head(df_AS_filtered)"
   ]
  },
  {
   "cell_type": "code",
   "execution_count": 51,
   "id": "c02dc088-fbaf-468d-b2fd-29603fa665be",
   "metadata": {
    "tags": []
   },
   "outputs": [
    {
     "data": {
      "text/html": [
       "<table class=\"dataframe\">\n",
       "<caption>A tidytable: 6 x 2499</caption>\n",
       "<thead>\n",
       "\t<tr><th scope=col>#CHROM</th><th scope=col>POS</th><th scope=col>ID</th><th scope=col>REF</th><th scope=col>ALT...5</th><th scope=col>QUAL</th><th scope=col>FILTER</th><th scope=col>INFO</th><th scope=col>FORMAT</th><th scope=col>AAA</th><th scope=col>...</th><th scope=col>XTRA_FFI</th><th scope=col>XTRA_FFJ</th><th scope=col>XTRA_FFK</th><th scope=col>XTRA_FFL</th><th scope=col>XTRA_FFM</th><th scope=col>XTRA_FFN</th><th scope=col>XTRA_FFO</th><th scope=col>XTRA_FFP</th><th scope=col>XTRA_FFQ</th><th scope=col>chrpos</th></tr>\n",
       "\t<tr><th scope=col>&lt;chr&gt;</th><th scope=col>&lt;int&gt;</th><th scope=col>&lt;chr&gt;</th><th scope=col>&lt;chr&gt;</th><th scope=col>&lt;chr&gt;</th><th scope=col>&lt;dbl&gt;</th><th scope=col>&lt;chr&gt;</th><th scope=col>&lt;chr&gt;</th><th scope=col>&lt;chr&gt;</th><th scope=col>&lt;chr&gt;</th><th scope=col>...</th><th scope=col>&lt;chr&gt;</th><th scope=col>&lt;chr&gt;</th><th scope=col>&lt;chr&gt;</th><th scope=col>&lt;chr&gt;</th><th scope=col>&lt;chr&gt;</th><th scope=col>&lt;chr&gt;</th><th scope=col>&lt;chr&gt;</th><th scope=col>&lt;chr&gt;</th><th scope=col>&lt;chr&gt;</th><th scope=col>&lt;chr&gt;</th></tr>\n",
       "</thead>\n",
       "<tbody>\n",
       "\t<tr><td>chromosome2</td><td>340242</td><td>.</td><td>T</td><td>C  </td><td> 2456400</td><td>.</td><td>AC=765;AF=0.154;AN=4978;BaseQRankSum=0.217;DP=382357;ExcessHet=-0;FS=0.568;InbreedingCoeff=0.5443;MLEAC=765;MLEAF=0.154;MQ=60;MQRankSum=0;QD=25.88;ReadPosRankSum=0.089;SOR=0.754                          </td><td>GT:AD:DP:GQ:PL           </td><td>0/0:195,0:195:99:0,120,1800                         </td><td>...</td><td>0/0:67,0:67:99:0,120,1800                      </td><td>1/1:0,52:52:99:1813,155,0                       </td><td>0/1:633,660:1293:99:21082,0,19601                         </td><td>0/1:355,376:731:99:12213,0,11018                                      </td><td>0/0:913,0:913:99:0,120,1800                             </td><td>0/1:905,337:1242:99:9001,0,30459                           </td><td>0/0:930,0:930:99:0,120,1800                                </td><td>0/0:518,0:518:99:0,120,1800                                           </td><td>0/1:773,269:1043:99:7057,0,26245                        </td><td>chromosome2 340242</td></tr>\n",
       "\t<tr><td>chromosome2</td><td>340737</td><td>.</td><td>G</td><td>A  </td><td> 1865660</td><td>.</td><td>AC=522;AF=0.105;AN=4978;BaseQRankSum=-0.787;DP=408518;ExcessHet=-0;FS=0.543;InbreedingCoeff=0.4206;MLEAC=522;MLEAF=0.105;MQ=60;MQRankSum=0;QD=23.51;ReadPosRankSum=-0.091;SOR=0.742                        </td><td>GT:AD:DP:GQ:PGT:PID:PL:PS</td><td>0/0:218,0:218:99:.:.:0,120,1800:.                   </td><td>...</td><td>0/0:71,0:71:99:.:.:0,120,1800:.                </td><td>0/1:41,21:62:99:.:.:552,0,1141:.                </td><td>0/1:648,677:1325:99:.:.:21265,0,21048:.                   </td><td>0/1:328,337:665:99:.:.:10992,0,12481:.                                </td><td>0/0:837,0:837:99:.:.:0,120,1800:.                       </td><td>0/1:1005,312:1317:99:.:.:8192,0,34907:.                    </td><td>0/0:948,0:948:99:.:.:0,120,1800:.                          </td><td>0/0:523,0:523:99:.:.:0,120,1800:.                                     </td><td>0/1:276,829:1105:99:.:.:28739,0,7617:.                  </td><td>chromosome2 340737</td></tr>\n",
       "\t<tr><td>chromosome2</td><td>340913</td><td>.</td><td>T</td><td>C  </td><td> 2273830</td><td>.</td><td>AC=614;AF=0.123;AN=4978;BaseQRankSum=-0.484;DP=387604;ExcessHet=-0;FS=0;InbreedingCoeff=0.5503;MLEAC=614;MLEAF=0.123;MQ=60;MQRankSum=0;QD=27.1;ReadPosRankSum=0.037;SOR=0.647                              </td><td>GT:AD:DP:GQ:PGT:PID:PL:PS</td><td>0/0:184,0:184:99:.:.:0,120,1800:.                   </td><td>...</td><td>0/0:67,0:67:99:.:.:0,120,1800:.                </td><td>0/1:43,38:81:99:.:.:1110,0,1372:.               </td><td>0/1:688,672:1360:99:.:.:23380,0,22665:.                   </td><td>0/1:326,332:658:99:.:.:10720,0,10515:.                                </td><td>0/0:959,0:959:99:.:.:0,120,1800:.                       </td><td>0/1:956,311:1267:99:.:.:10061,0,33011:.                    </td><td>0/1:729,227:956:99:.:.:6248,0,25680:.                      </td><td>0/1:266,263:529:99:.:.:8946,0,9133:.                                  </td><td>0/1:250,746:996:99:.:.:29092,0,6700:.                   </td><td>chromosome2 340913</td></tr>\n",
       "\t<tr><td>chromosome2</td><td>341391</td><td>.</td><td>T</td><td>A,G</td><td>15176400</td><td>.</td><td>AC=4381,1;AF=0.88,0.0002009;AN=4978;BaseQRankSum=0.258;DP=442073;ExcessHet=-0;FS=1.169;InbreedingCoeff=0.4612;MLEAC=4384,1;MLEAF=0.881,0.0002009;MQ=60;MQRankSum=0;QD=30.25;ReadPosRankSum=-0.047;SOR=0.648</td><td>GT:AD:DP:GQ:PGT:PID:PL:PS</td><td>1/1:0,249,0:249:99:.:.:10467,749,0,10467,749,10467:.</td><td>...</td><td>1/1:0,82,0:82:99:.:.:2940,245,0,2940,245,2940:.</td><td>0/1:26,35,0:61:99:.:.:1040,0,667,1117,773,1890:.</td><td>0/1:336,975,0:1311:99:.:.:33122,0,8718,34128,11643,45770:.</td><td>1|1:1,775,0:776:99:1|1:341309_A_G:33548,2288,0,33551,2330,33593:341309</td><td>0/1:252,743,0:995:99:.:.:25604,0,6494,26359,8723,35082:.</td><td>0/1:611,632,1:1244:99:.:.:20477,0,19928,22581,22187,48423:.</td><td>0/1:475,542,2:1019:99:.:.:17661,0,14889,19074,16469,35655:.</td><td>1|1:1,513,0:514:99:1|1:341391_T_A:22482,1501,0,22485,1543,22527:341391</td><td>1/1:0,1006,0:1006:99:.:.:44530,3027,0,44530,3027,44530:.</td><td>chromosome2 341391</td></tr>\n",
       "\t<tr><td>chromosome2</td><td>341451</td><td>.</td><td>A</td><td>G  </td><td>15009300</td><td>.</td><td>AC=4369;AF=0.878;AN=4978;BaseQRankSum=0.44;DP=441976;ExcessHet=-0;FS=0;InbreedingCoeff=0.4673;MLEAC=4376;MLEAF=0.879;MQ=60;MQRankSum=0;QD=31.97;ReadPosRankSum=0.115;SOR=0.721                             </td><td>GT:AD:DP:GQ:PGT:PID:PL:PS</td><td>1/1:0,251:251:99:.:.:10130,752,0:.                  </td><td>...</td><td>1/1:0,90:90:99:.:.:2893,264,0:.                </td><td>0/1:21,29:50:99:.:.:816,0,592:.                 </td><td>0/1:334,986:1320:99:.:.:33202,0,8627:.                    </td><td>1|1:2,750:752:99:1|1:341309_A_G:31591,2170,0:341309                   </td><td>0/1:229,740:969:99:.:.:25489,0,5721:.                   </td><td>0/1:615,628:1243:99:.:.:19834,0,19831:.                    </td><td>0/1:474,559:1033:99:.:.:18033,0,14813:.                    </td><td>1|1:0,486:486:99:1|1:341391_T_A:20697,1461,0:341391                   </td><td>1/1:0,1052:1052:99:.:.:44165,3163,0:.                   </td><td>chromosome2 341451</td></tr>\n",
       "\t<tr><td>chromosome2</td><td>341533</td><td>.</td><td>A</td><td>G  </td><td> 1694760</td><td>.</td><td>AC=550;AF=0.111;AN=4976;BaseQRankSum=0.127;DP=382977;ExcessHet=-0;FS=0;InbreedingCoeff=0.4754;MLEAC=551;MLEAF=0.111;MQ=60;MQRankSum=0;QD=24.69;ReadPosRankSum=-0.019;SOR=0.666                             </td><td>GT:AD:DP:GQ:PGT:PID:PL:PS</td><td>0/0:198,0:198:99:.:.:0,120,1800:.                   </td><td>...</td><td>0/0:64,0:64:99:.:.:0,120,1800:.                </td><td>0/1:23,30:53:99:.:.:831,0,678:.                 </td><td>0/0:1233,0:1233:99:.:.:0,120,1800:.                       </td><td>0/0:708,0:708:99:.:.:0,120,1800:.                                     </td><td>0/0:908,0:908:99:.:.:0,120,1800:.                       </td><td>0/0:1238,0:1238:99:.:.:0,120,1800:.                        </td><td>0/0:927,0:927:99:.:.:0,120,1800:.                          </td><td>0/0:460,0:460:99:.:.:0,120,1800:.                                     </td><td>0/0:1034,0:1034:99:.:.:0,120,1800:.                     </td><td>chromosome2 341533</td></tr>\n",
       "</tbody>\n",
       "</table>\n"
      ],
      "text/latex": [
       "A tidytable: 6 x 2499\n",
       "\\begin{tabular}{lllllllllllllllllllll}\n",
       " \\#CHROM & POS & ID & REF & ALT...5 & QUAL & FILTER & INFO & FORMAT & AAA & ... & XTRA\\_FFI & XTRA\\_FFJ & XTRA\\_FFK & XTRA\\_FFL & XTRA\\_FFM & XTRA\\_FFN & XTRA\\_FFO & XTRA\\_FFP & XTRA\\_FFQ & chrpos\\\\\n",
       " <chr> & <int> & <chr> & <chr> & <chr> & <dbl> & <chr> & <chr> & <chr> & <chr> & ... & <chr> & <chr> & <chr> & <chr> & <chr> & <chr> & <chr> & <chr> & <chr> & <chr>\\\\\n",
       "\\hline\n",
       "\t chromosome2 & 340242 & . & T & C   &  2456400 & . & AC=765;AF=0.154;AN=4978;BaseQRankSum=0.217;DP=382357;ExcessHet=-0;FS=0.568;InbreedingCoeff=0.5443;MLEAC=765;MLEAF=0.154;MQ=60;MQRankSum=0;QD=25.88;ReadPosRankSum=0.089;SOR=0.754                           & GT:AD:DP:GQ:PL            & 0/0:195,0:195:99:0,120,1800                          & ... & 0/0:67,0:67:99:0,120,1800                       & 1/1:0,52:52:99:1813,155,0                        & 0/1:633,660:1293:99:21082,0,19601                          & 0/1:355,376:731:99:12213,0,11018                                       & 0/0:913,0:913:99:0,120,1800                              & 0/1:905,337:1242:99:9001,0,30459                            & 0/0:930,0:930:99:0,120,1800                                 & 0/0:518,0:518:99:0,120,1800                                            & 0/1:773,269:1043:99:7057,0,26245                         & chromosome2 340242\\\\\n",
       "\t chromosome2 & 340737 & . & G & A   &  1865660 & . & AC=522;AF=0.105;AN=4978;BaseQRankSum=-0.787;DP=408518;ExcessHet=-0;FS=0.543;InbreedingCoeff=0.4206;MLEAC=522;MLEAF=0.105;MQ=60;MQRankSum=0;QD=23.51;ReadPosRankSum=-0.091;SOR=0.742                         & GT:AD:DP:GQ:PGT:PID:PL:PS & 0/0:218,0:218:99:.:.:0,120,1800:.                    & ... & 0/0:71,0:71:99:.:.:0,120,1800:.                 & 0/1:41,21:62:99:.:.:552,0,1141:.                 & 0/1:648,677:1325:99:.:.:21265,0,21048:.                    & 0/1:328,337:665:99:.:.:10992,0,12481:.                                 & 0/0:837,0:837:99:.:.:0,120,1800:.                        & 0/1:1005,312:1317:99:.:.:8192,0,34907:.                     & 0/0:948,0:948:99:.:.:0,120,1800:.                           & 0/0:523,0:523:99:.:.:0,120,1800:.                                      & 0/1:276,829:1105:99:.:.:28739,0,7617:.                   & chromosome2 340737\\\\\n",
       "\t chromosome2 & 340913 & . & T & C   &  2273830 & . & AC=614;AF=0.123;AN=4978;BaseQRankSum=-0.484;DP=387604;ExcessHet=-0;FS=0;InbreedingCoeff=0.5503;MLEAC=614;MLEAF=0.123;MQ=60;MQRankSum=0;QD=27.1;ReadPosRankSum=0.037;SOR=0.647                               & GT:AD:DP:GQ:PGT:PID:PL:PS & 0/0:184,0:184:99:.:.:0,120,1800:.                    & ... & 0/0:67,0:67:99:.:.:0,120,1800:.                 & 0/1:43,38:81:99:.:.:1110,0,1372:.                & 0/1:688,672:1360:99:.:.:23380,0,22665:.                    & 0/1:326,332:658:99:.:.:10720,0,10515:.                                 & 0/0:959,0:959:99:.:.:0,120,1800:.                        & 0/1:956,311:1267:99:.:.:10061,0,33011:.                     & 0/1:729,227:956:99:.:.:6248,0,25680:.                       & 0/1:266,263:529:99:.:.:8946,0,9133:.                                   & 0/1:250,746:996:99:.:.:29092,0,6700:.                    & chromosome2 340913\\\\\n",
       "\t chromosome2 & 341391 & . & T & A,G & 15176400 & . & AC=4381,1;AF=0.88,0.0002009;AN=4978;BaseQRankSum=0.258;DP=442073;ExcessHet=-0;FS=1.169;InbreedingCoeff=0.4612;MLEAC=4384,1;MLEAF=0.881,0.0002009;MQ=60;MQRankSum=0;QD=30.25;ReadPosRankSum=-0.047;SOR=0.648 & GT:AD:DP:GQ:PGT:PID:PL:PS & 1/1:0,249,0:249:99:.:.:10467,749,0,10467,749,10467:. & ... & 1/1:0,82,0:82:99:.:.:2940,245,0,2940,245,2940:. & 0/1:26,35,0:61:99:.:.:1040,0,667,1117,773,1890:. & 0/1:336,975,0:1311:99:.:.:33122,0,8718,34128,11643,45770:. & 1\\textbar{}1:1,775,0:776:99:1\\textbar{}1:341309\\_A\\_G:33548,2288,0,33551,2330,33593:341309 & 0/1:252,743,0:995:99:.:.:25604,0,6494,26359,8723,35082:. & 0/1:611,632,1:1244:99:.:.:20477,0,19928,22581,22187,48423:. & 0/1:475,542,2:1019:99:.:.:17661,0,14889,19074,16469,35655:. & 1\\textbar{}1:1,513,0:514:99:1\\textbar{}1:341391\\_T\\_A:22482,1501,0,22485,1543,22527:341391 & 1/1:0,1006,0:1006:99:.:.:44530,3027,0,44530,3027,44530:. & chromosome2 341391\\\\\n",
       "\t chromosome2 & 341451 & . & A & G   & 15009300 & . & AC=4369;AF=0.878;AN=4978;BaseQRankSum=0.44;DP=441976;ExcessHet=-0;FS=0;InbreedingCoeff=0.4673;MLEAC=4376;MLEAF=0.879;MQ=60;MQRankSum=0;QD=31.97;ReadPosRankSum=0.115;SOR=0.721                              & GT:AD:DP:GQ:PGT:PID:PL:PS & 1/1:0,251:251:99:.:.:10130,752,0:.                   & ... & 1/1:0,90:90:99:.:.:2893,264,0:.                 & 0/1:21,29:50:99:.:.:816,0,592:.                  & 0/1:334,986:1320:99:.:.:33202,0,8627:.                     & 1\\textbar{}1:2,750:752:99:1\\textbar{}1:341309\\_A\\_G:31591,2170,0:341309                    & 0/1:229,740:969:99:.:.:25489,0,5721:.                    & 0/1:615,628:1243:99:.:.:19834,0,19831:.                     & 0/1:474,559:1033:99:.:.:18033,0,14813:.                     & 1\\textbar{}1:0,486:486:99:1\\textbar{}1:341391\\_T\\_A:20697,1461,0:341391                    & 1/1:0,1052:1052:99:.:.:44165,3163,0:.                    & chromosome2 341451\\\\\n",
       "\t chromosome2 & 341533 & . & A & G   &  1694760 & . & AC=550;AF=0.111;AN=4976;BaseQRankSum=0.127;DP=382977;ExcessHet=-0;FS=0;InbreedingCoeff=0.4754;MLEAC=551;MLEAF=0.111;MQ=60;MQRankSum=0;QD=24.69;ReadPosRankSum=-0.019;SOR=0.666                              & GT:AD:DP:GQ:PGT:PID:PL:PS & 0/0:198,0:198:99:.:.:0,120,1800:.                    & ... & 0/0:64,0:64:99:.:.:0,120,1800:.                 & 0/1:23,30:53:99:.:.:831,0,678:.                  & 0/0:1233,0:1233:99:.:.:0,120,1800:.                        & 0/0:708,0:708:99:.:.:0,120,1800:.                                      & 0/0:908,0:908:99:.:.:0,120,1800:.                        & 0/0:1238,0:1238:99:.:.:0,120,1800:.                         & 0/0:927,0:927:99:.:.:0,120,1800:.                           & 0/0:460,0:460:99:.:.:0,120,1800:.                                      & 0/0:1034,0:1034:99:.:.:0,120,1800:.                      & chromosome2 341533\\\\\n",
       "\\end{tabular}\n"
      ],
      "text/markdown": [
       "\n",
       "A tidytable: 6 x 2499\n",
       "\n",
       "| #CHROM &lt;chr&gt; | POS &lt;int&gt; | ID &lt;chr&gt; | REF &lt;chr&gt; | ALT...5 &lt;chr&gt; | QUAL &lt;dbl&gt; | FILTER &lt;chr&gt; | INFO &lt;chr&gt; | FORMAT &lt;chr&gt; | AAA &lt;chr&gt; | ... ... | XTRA_FFI &lt;chr&gt; | XTRA_FFJ &lt;chr&gt; | XTRA_FFK &lt;chr&gt; | XTRA_FFL &lt;chr&gt; | XTRA_FFM &lt;chr&gt; | XTRA_FFN &lt;chr&gt; | XTRA_FFO &lt;chr&gt; | XTRA_FFP &lt;chr&gt; | XTRA_FFQ &lt;chr&gt; | chrpos &lt;chr&gt; |\n",
       "|---|---|---|---|---|---|---|---|---|---|---|---|---|---|---|---|---|---|---|---|---|\n",
       "| chromosome2 | 340242 | . | T | C   |  2456400 | . | AC=765;AF=0.154;AN=4978;BaseQRankSum=0.217;DP=382357;ExcessHet=-0;FS=0.568;InbreedingCoeff=0.5443;MLEAC=765;MLEAF=0.154;MQ=60;MQRankSum=0;QD=25.88;ReadPosRankSum=0.089;SOR=0.754                           | GT:AD:DP:GQ:PL            | 0/0:195,0:195:99:0,120,1800                          | ... | 0/0:67,0:67:99:0,120,1800                       | 1/1:0,52:52:99:1813,155,0                        | 0/1:633,660:1293:99:21082,0,19601                          | 0/1:355,376:731:99:12213,0,11018                                       | 0/0:913,0:913:99:0,120,1800                              | 0/1:905,337:1242:99:9001,0,30459                            | 0/0:930,0:930:99:0,120,1800                                 | 0/0:518,0:518:99:0,120,1800                                            | 0/1:773,269:1043:99:7057,0,26245                         | chromosome2 340242 |\n",
       "| chromosome2 | 340737 | . | G | A   |  1865660 | . | AC=522;AF=0.105;AN=4978;BaseQRankSum=-0.787;DP=408518;ExcessHet=-0;FS=0.543;InbreedingCoeff=0.4206;MLEAC=522;MLEAF=0.105;MQ=60;MQRankSum=0;QD=23.51;ReadPosRankSum=-0.091;SOR=0.742                         | GT:AD:DP:GQ:PGT:PID:PL:PS | 0/0:218,0:218:99:.:.:0,120,1800:.                    | ... | 0/0:71,0:71:99:.:.:0,120,1800:.                 | 0/1:41,21:62:99:.:.:552,0,1141:.                 | 0/1:648,677:1325:99:.:.:21265,0,21048:.                    | 0/1:328,337:665:99:.:.:10992,0,12481:.                                 | 0/0:837,0:837:99:.:.:0,120,1800:.                        | 0/1:1005,312:1317:99:.:.:8192,0,34907:.                     | 0/0:948,0:948:99:.:.:0,120,1800:.                           | 0/0:523,0:523:99:.:.:0,120,1800:.                                      | 0/1:276,829:1105:99:.:.:28739,0,7617:.                   | chromosome2 340737 |\n",
       "| chromosome2 | 340913 | . | T | C   |  2273830 | . | AC=614;AF=0.123;AN=4978;BaseQRankSum=-0.484;DP=387604;ExcessHet=-0;FS=0;InbreedingCoeff=0.5503;MLEAC=614;MLEAF=0.123;MQ=60;MQRankSum=0;QD=27.1;ReadPosRankSum=0.037;SOR=0.647                               | GT:AD:DP:GQ:PGT:PID:PL:PS | 0/0:184,0:184:99:.:.:0,120,1800:.                    | ... | 0/0:67,0:67:99:.:.:0,120,1800:.                 | 0/1:43,38:81:99:.:.:1110,0,1372:.                | 0/1:688,672:1360:99:.:.:23380,0,22665:.                    | 0/1:326,332:658:99:.:.:10720,0,10515:.                                 | 0/0:959,0:959:99:.:.:0,120,1800:.                        | 0/1:956,311:1267:99:.:.:10061,0,33011:.                     | 0/1:729,227:956:99:.:.:6248,0,25680:.                       | 0/1:266,263:529:99:.:.:8946,0,9133:.                                   | 0/1:250,746:996:99:.:.:29092,0,6700:.                    | chromosome2 340913 |\n",
       "| chromosome2 | 341391 | . | T | A,G | 15176400 | . | AC=4381,1;AF=0.88,0.0002009;AN=4978;BaseQRankSum=0.258;DP=442073;ExcessHet=-0;FS=1.169;InbreedingCoeff=0.4612;MLEAC=4384,1;MLEAF=0.881,0.0002009;MQ=60;MQRankSum=0;QD=30.25;ReadPosRankSum=-0.047;SOR=0.648 | GT:AD:DP:GQ:PGT:PID:PL:PS | 1/1:0,249,0:249:99:.:.:10467,749,0,10467,749,10467:. | ... | 1/1:0,82,0:82:99:.:.:2940,245,0,2940,245,2940:. | 0/1:26,35,0:61:99:.:.:1040,0,667,1117,773,1890:. | 0/1:336,975,0:1311:99:.:.:33122,0,8718,34128,11643,45770:. | 1|1:1,775,0:776:99:1|1:341309_A_G:33548,2288,0,33551,2330,33593:341309 | 0/1:252,743,0:995:99:.:.:25604,0,6494,26359,8723,35082:. | 0/1:611,632,1:1244:99:.:.:20477,0,19928,22581,22187,48423:. | 0/1:475,542,2:1019:99:.:.:17661,0,14889,19074,16469,35655:. | 1|1:1,513,0:514:99:1|1:341391_T_A:22482,1501,0,22485,1543,22527:341391 | 1/1:0,1006,0:1006:99:.:.:44530,3027,0,44530,3027,44530:. | chromosome2 341391 |\n",
       "| chromosome2 | 341451 | . | A | G   | 15009300 | . | AC=4369;AF=0.878;AN=4978;BaseQRankSum=0.44;DP=441976;ExcessHet=-0;FS=0;InbreedingCoeff=0.4673;MLEAC=4376;MLEAF=0.879;MQ=60;MQRankSum=0;QD=31.97;ReadPosRankSum=0.115;SOR=0.721                              | GT:AD:DP:GQ:PGT:PID:PL:PS | 1/1:0,251:251:99:.:.:10130,752,0:.                   | ... | 1/1:0,90:90:99:.:.:2893,264,0:.                 | 0/1:21,29:50:99:.:.:816,0,592:.                  | 0/1:334,986:1320:99:.:.:33202,0,8627:.                     | 1|1:2,750:752:99:1|1:341309_A_G:31591,2170,0:341309                    | 0/1:229,740:969:99:.:.:25489,0,5721:.                    | 0/1:615,628:1243:99:.:.:19834,0,19831:.                     | 0/1:474,559:1033:99:.:.:18033,0,14813:.                     | 1|1:0,486:486:99:1|1:341391_T_A:20697,1461,0:341391                    | 1/1:0,1052:1052:99:.:.:44165,3163,0:.                    | chromosome2 341451 |\n",
       "| chromosome2 | 341533 | . | A | G   |  1694760 | . | AC=550;AF=0.111;AN=4976;BaseQRankSum=0.127;DP=382977;ExcessHet=-0;FS=0;InbreedingCoeff=0.4754;MLEAC=551;MLEAF=0.111;MQ=60;MQRankSum=0;QD=24.69;ReadPosRankSum=-0.019;SOR=0.666                              | GT:AD:DP:GQ:PGT:PID:PL:PS | 0/0:198,0:198:99:.:.:0,120,1800:.                    | ... | 0/0:64,0:64:99:.:.:0,120,1800:.                 | 0/1:23,30:53:99:.:.:831,0,678:.                  | 0/0:1233,0:1233:99:.:.:0,120,1800:.                        | 0/0:708,0:708:99:.:.:0,120,1800:.                                      | 0/0:908,0:908:99:.:.:0,120,1800:.                        | 0/0:1238,0:1238:99:.:.:0,120,1800:.                         | 0/0:927,0:927:99:.:.:0,120,1800:.                           | 0/0:460,0:460:99:.:.:0,120,1800:.                                      | 0/0:1034,0:1034:99:.:.:0,120,1800:.                      | chromosome2 341533 |\n",
       "\n"
      ],
      "text/plain": [
       "  #CHROM      POS    ID REF ALT...5 QUAL     FILTER\n",
       "1 chromosome2 340242 .  T   C        2456400 .     \n",
       "2 chromosome2 340737 .  G   A        1865660 .     \n",
       "3 chromosome2 340913 .  T   C        2273830 .     \n",
       "4 chromosome2 341391 .  T   A,G     15176400 .     \n",
       "5 chromosome2 341451 .  A   G       15009300 .     \n",
       "6 chromosome2 341533 .  A   G        1694760 .     \n",
       "  INFO                                                                                                                                                                                                       \n",
       "1 AC=765;AF=0.154;AN=4978;BaseQRankSum=0.217;DP=382357;ExcessHet=-0;FS=0.568;InbreedingCoeff=0.5443;MLEAC=765;MLEAF=0.154;MQ=60;MQRankSum=0;QD=25.88;ReadPosRankSum=0.089;SOR=0.754                          \n",
       "2 AC=522;AF=0.105;AN=4978;BaseQRankSum=-0.787;DP=408518;ExcessHet=-0;FS=0.543;InbreedingCoeff=0.4206;MLEAC=522;MLEAF=0.105;MQ=60;MQRankSum=0;QD=23.51;ReadPosRankSum=-0.091;SOR=0.742                        \n",
       "3 AC=614;AF=0.123;AN=4978;BaseQRankSum=-0.484;DP=387604;ExcessHet=-0;FS=0;InbreedingCoeff=0.5503;MLEAC=614;MLEAF=0.123;MQ=60;MQRankSum=0;QD=27.1;ReadPosRankSum=0.037;SOR=0.647                              \n",
       "4 AC=4381,1;AF=0.88,0.0002009;AN=4978;BaseQRankSum=0.258;DP=442073;ExcessHet=-0;FS=1.169;InbreedingCoeff=0.4612;MLEAC=4384,1;MLEAF=0.881,0.0002009;MQ=60;MQRankSum=0;QD=30.25;ReadPosRankSum=-0.047;SOR=0.648\n",
       "5 AC=4369;AF=0.878;AN=4978;BaseQRankSum=0.44;DP=441976;ExcessHet=-0;FS=0;InbreedingCoeff=0.4673;MLEAC=4376;MLEAF=0.879;MQ=60;MQRankSum=0;QD=31.97;ReadPosRankSum=0.115;SOR=0.721                             \n",
       "6 AC=550;AF=0.111;AN=4976;BaseQRankSum=0.127;DP=382977;ExcessHet=-0;FS=0;InbreedingCoeff=0.4754;MLEAC=551;MLEAF=0.111;MQ=60;MQRankSum=0;QD=24.69;ReadPosRankSum=-0.019;SOR=0.666                             \n",
       "  FORMAT                   \n",
       "1 GT:AD:DP:GQ:PL           \n",
       "2 GT:AD:DP:GQ:PGT:PID:PL:PS\n",
       "3 GT:AD:DP:GQ:PGT:PID:PL:PS\n",
       "4 GT:AD:DP:GQ:PGT:PID:PL:PS\n",
       "5 GT:AD:DP:GQ:PGT:PID:PL:PS\n",
       "6 GT:AD:DP:GQ:PGT:PID:PL:PS\n",
       "  AAA                                                  ...\n",
       "1 0/0:195,0:195:99:0,120,1800                          ...\n",
       "2 0/0:218,0:218:99:.:.:0,120,1800:.                    ...\n",
       "3 0/0:184,0:184:99:.:.:0,120,1800:.                    ...\n",
       "4 1/1:0,249,0:249:99:.:.:10467,749,0,10467,749,10467:. ...\n",
       "5 1/1:0,251:251:99:.:.:10130,752,0:.                   ...\n",
       "6 0/0:198,0:198:99:.:.:0,120,1800:.                    ...\n",
       "  XTRA_FFI                                       \n",
       "1 0/0:67,0:67:99:0,120,1800                      \n",
       "2 0/0:71,0:71:99:.:.:0,120,1800:.                \n",
       "3 0/0:67,0:67:99:.:.:0,120,1800:.                \n",
       "4 1/1:0,82,0:82:99:.:.:2940,245,0,2940,245,2940:.\n",
       "5 1/1:0,90:90:99:.:.:2893,264,0:.                \n",
       "6 0/0:64,0:64:99:.:.:0,120,1800:.                \n",
       "  XTRA_FFJ                                        \n",
       "1 1/1:0,52:52:99:1813,155,0                       \n",
       "2 0/1:41,21:62:99:.:.:552,0,1141:.                \n",
       "3 0/1:43,38:81:99:.:.:1110,0,1372:.               \n",
       "4 0/1:26,35,0:61:99:.:.:1040,0,667,1117,773,1890:.\n",
       "5 0/1:21,29:50:99:.:.:816,0,592:.                 \n",
       "6 0/1:23,30:53:99:.:.:831,0,678:.                 \n",
       "  XTRA_FFK                                                  \n",
       "1 0/1:633,660:1293:99:21082,0,19601                         \n",
       "2 0/1:648,677:1325:99:.:.:21265,0,21048:.                   \n",
       "3 0/1:688,672:1360:99:.:.:23380,0,22665:.                   \n",
       "4 0/1:336,975,0:1311:99:.:.:33122,0,8718,34128,11643,45770:.\n",
       "5 0/1:334,986:1320:99:.:.:33202,0,8627:.                    \n",
       "6 0/0:1233,0:1233:99:.:.:0,120,1800:.                       \n",
       "  XTRA_FFL                                                              \n",
       "1 0/1:355,376:731:99:12213,0,11018                                      \n",
       "2 0/1:328,337:665:99:.:.:10992,0,12481:.                                \n",
       "3 0/1:326,332:658:99:.:.:10720,0,10515:.                                \n",
       "4 1|1:1,775,0:776:99:1|1:341309_A_G:33548,2288,0,33551,2330,33593:341309\n",
       "5 1|1:2,750:752:99:1|1:341309_A_G:31591,2170,0:341309                   \n",
       "6 0/0:708,0:708:99:.:.:0,120,1800:.                                     \n",
       "  XTRA_FFM                                                \n",
       "1 0/0:913,0:913:99:0,120,1800                             \n",
       "2 0/0:837,0:837:99:.:.:0,120,1800:.                       \n",
       "3 0/0:959,0:959:99:.:.:0,120,1800:.                       \n",
       "4 0/1:252,743,0:995:99:.:.:25604,0,6494,26359,8723,35082:.\n",
       "5 0/1:229,740:969:99:.:.:25489,0,5721:.                   \n",
       "6 0/0:908,0:908:99:.:.:0,120,1800:.                       \n",
       "  XTRA_FFN                                                   \n",
       "1 0/1:905,337:1242:99:9001,0,30459                           \n",
       "2 0/1:1005,312:1317:99:.:.:8192,0,34907:.                    \n",
       "3 0/1:956,311:1267:99:.:.:10061,0,33011:.                    \n",
       "4 0/1:611,632,1:1244:99:.:.:20477,0,19928,22581,22187,48423:.\n",
       "5 0/1:615,628:1243:99:.:.:19834,0,19831:.                    \n",
       "6 0/0:1238,0:1238:99:.:.:0,120,1800:.                        \n",
       "  XTRA_FFO                                                   \n",
       "1 0/0:930,0:930:99:0,120,1800                                \n",
       "2 0/0:948,0:948:99:.:.:0,120,1800:.                          \n",
       "3 0/1:729,227:956:99:.:.:6248,0,25680:.                      \n",
       "4 0/1:475,542,2:1019:99:.:.:17661,0,14889,19074,16469,35655:.\n",
       "5 0/1:474,559:1033:99:.:.:18033,0,14813:.                    \n",
       "6 0/0:927,0:927:99:.:.:0,120,1800:.                          \n",
       "  XTRA_FFP                                                              \n",
       "1 0/0:518,0:518:99:0,120,1800                                           \n",
       "2 0/0:523,0:523:99:.:.:0,120,1800:.                                     \n",
       "3 0/1:266,263:529:99:.:.:8946,0,9133:.                                  \n",
       "4 1|1:1,513,0:514:99:1|1:341391_T_A:22482,1501,0,22485,1543,22527:341391\n",
       "5 1|1:0,486:486:99:1|1:341391_T_A:20697,1461,0:341391                   \n",
       "6 0/0:460,0:460:99:.:.:0,120,1800:.                                     \n",
       "  XTRA_FFQ                                                 chrpos            \n",
       "1 0/1:773,269:1043:99:7057,0,26245                         chromosome2 340242\n",
       "2 0/1:276,829:1105:99:.:.:28739,0,7617:.                   chromosome2 340737\n",
       "3 0/1:250,746:996:99:.:.:29092,0,6700:.                    chromosome2 340913\n",
       "4 1/1:0,1006,0:1006:99:.:.:44530,3027,0,44530,3027,44530:. chromosome2 341391\n",
       "5 1/1:0,1052:1052:99:.:.:44165,3163,0:.                    chromosome2 341451\n",
       "6 0/0:1034,0:1034:99:.:.:0,120,1800:.                      chromosome2 341533"
      ]
     },
     "metadata": {},
     "output_type": "display_data"
    }
   ],
   "source": [
    "f<-\"/home/jnrunge/data/TRD/results/shiny/YJNRC21-AF.csv.gz.loci.full.vcf.gz\"\n",
    "vcf=fread(cmd=paste0(\"zcat \",f,\" | grep -v ^##\"), data.table = FALSE)\n",
    "\n",
    "vcf<-mutate(vcf,chrpos=paste(`#CHROM`,POS))\n",
    "\n",
    "df_AS_filtered<-mutate(df_AS_filtered,chrpos=paste(`#CHROM`,POS))\n",
    "\n",
    "\n",
    "vcf<-filter(vcf, chrpos %in% pull(df_AS_filtered, chrpos))\n",
    "head(vcf)"
   ]
  },
  {
   "cell_type": "code",
   "execution_count": 53,
   "id": "2a8e597c-92f6-4627-bf21-cdd74a4fc7f5",
   "metadata": {
    "tags": []
   },
   "outputs": [
    {
     "data": {
      "text/html": [
       "<table class=\"dataframe\">\n",
       "<caption>A tidytable: 6 x 20</caption>\n",
       "<thead>\n",
       "\t<tr><th scope=col>chr</th><th scope=col>pos</th><th scope=col>alleles</th><th scope=col>GT1</th><th scope=col>GT2</th><th scope=col>ADcross</th><th scope=col>DPcross</th><th scope=col>AD3_0</th><th scope=col>AD3_1</th><th scope=col>AD3_2</th><th scope=col>AD3_3</th><th scope=col>Allele1</th><th scope=col>Allele2</th><th scope=col>AD_A1</th><th scope=col>AD_A2</th><th scope=col>global_pos</th><th scope=col>sumCount</th><th scope=col>smoothed</th><th scope=col>lwr</th><th scope=col>upr</th></tr>\n",
       "\t<tr><th scope=col>&lt;chr&gt;</th><th scope=col>&lt;int&gt;</th><th scope=col>&lt;chr&gt;</th><th scope=col>&lt;chr&gt;</th><th scope=col>&lt;chr&gt;</th><th scope=col>&lt;chr&gt;</th><th scope=col>&lt;int&gt;</th><th scope=col>&lt;int&gt;</th><th scope=col>&lt;int&gt;</th><th scope=col>&lt;int&gt;</th><th scope=col>&lt;int&gt;</th><th scope=col>&lt;int&gt;</th><th scope=col>&lt;int&gt;</th><th scope=col>&lt;int&gt;</th><th scope=col>&lt;int&gt;</th><th scope=col>&lt;int&gt;</th><th scope=col>&lt;int&gt;</th><th scope=col>&lt;dbl&gt;</th><th scope=col>&lt;dbl&gt;</th><th scope=col>&lt;dbl&gt;</th></tr>\n",
       "</thead>\n",
       "<tbody>\n",
       "\t<tr><td>chromosome2</td><td>340242</td><td>T,C</td><td>1/1</td><td>0/0</td><td>58,88</td><td>146</td><td>58</td><td>88</td><td>NA</td><td>NA</td><td>1</td><td>0</td><td>88</td><td>58</td><td>547041</td><td>146</td><td>0.5998686</td><td>0.5861552</td><td>0.6135821</td></tr>\n",
       "\t<tr><td>chromosome2</td><td>340737</td><td>G,A</td><td>1/1</td><td>0/0</td><td>39,68</td><td>107</td><td>39</td><td>68</td><td>NA</td><td>NA</td><td>1</td><td>0</td><td>68</td><td>39</td><td>547536</td><td>107</td><td>0.6001430</td><td>0.5863262</td><td>0.6139599</td></tr>\n",
       "\t<tr><td>chromosome2</td><td>340913</td><td>T,C</td><td>1/1</td><td>0/0</td><td>47,76</td><td>123</td><td>47</td><td>76</td><td>NA</td><td>NA</td><td>1</td><td>0</td><td>76</td><td>47</td><td>547712</td><td>123</td><td>0.6002395</td><td>0.5863826</td><td>0.6140964</td></tr>\n",
       "\t<tr><td>chromosome2</td><td>341391</td><td>T,A</td><td>0/0</td><td>1/1</td><td>71,40</td><td>111</td><td>71</td><td>40</td><td>NA</td><td>NA</td><td>0</td><td>1</td><td>71</td><td>40</td><td>548190</td><td>111</td><td>0.6005003</td><td>0.5865275</td><td>0.6144732</td></tr>\n",
       "\t<tr><td>chromosome2</td><td>341451</td><td>A,G</td><td>0/0</td><td>1/1</td><td>79,38</td><td>117</td><td>79</td><td>38</td><td>NA</td><td>NA</td><td>0</td><td>1</td><td>79</td><td>38</td><td>548250</td><td>117</td><td>0.6005330</td><td>0.5865451</td><td>0.6145210</td></tr>\n",
       "\t<tr><td>chromosome2</td><td>341533</td><td>A,G</td><td>1/1</td><td>0/0</td><td>43,86</td><td>129</td><td>43</td><td>86</td><td>NA</td><td>NA</td><td>1</td><td>0</td><td>86</td><td>43</td><td>548332</td><td>129</td><td>0.6005778</td><td>0.5865690</td><td>0.6145867</td></tr>\n",
       "</tbody>\n",
       "</table>\n"
      ],
      "text/latex": [
       "A tidytable: 6 x 20\n",
       "\\begin{tabular}{llllllllllllllllllll}\n",
       " chr & pos & alleles & GT1 & GT2 & ADcross & DPcross & AD3\\_0 & AD3\\_1 & AD3\\_2 & AD3\\_3 & Allele1 & Allele2 & AD\\_A1 & AD\\_A2 & global\\_pos & sumCount & smoothed & lwr & upr\\\\\n",
       " <chr> & <int> & <chr> & <chr> & <chr> & <chr> & <int> & <int> & <int> & <int> & <int> & <int> & <int> & <int> & <int> & <int> & <int> & <dbl> & <dbl> & <dbl>\\\\\n",
       "\\hline\n",
       "\t chromosome2 & 340242 & T,C & 1/1 & 0/0 & 58,88 & 146 & 58 & 88 & NA & NA & 1 & 0 & 88 & 58 & 547041 & 146 & 0.5998686 & 0.5861552 & 0.6135821\\\\\n",
       "\t chromosome2 & 340737 & G,A & 1/1 & 0/0 & 39,68 & 107 & 39 & 68 & NA & NA & 1 & 0 & 68 & 39 & 547536 & 107 & 0.6001430 & 0.5863262 & 0.6139599\\\\\n",
       "\t chromosome2 & 340913 & T,C & 1/1 & 0/0 & 47,76 & 123 & 47 & 76 & NA & NA & 1 & 0 & 76 & 47 & 547712 & 123 & 0.6002395 & 0.5863826 & 0.6140964\\\\\n",
       "\t chromosome2 & 341391 & T,A & 0/0 & 1/1 & 71,40 & 111 & 71 & 40 & NA & NA & 0 & 1 & 71 & 40 & 548190 & 111 & 0.6005003 & 0.5865275 & 0.6144732\\\\\n",
       "\t chromosome2 & 341451 & A,G & 0/0 & 1/1 & 79,38 & 117 & 79 & 38 & NA & NA & 0 & 1 & 79 & 38 & 548250 & 117 & 0.6005330 & 0.5865451 & 0.6145210\\\\\n",
       "\t chromosome2 & 341533 & A,G & 1/1 & 0/0 & 43,86 & 129 & 43 & 86 & NA & NA & 1 & 0 & 86 & 43 & 548332 & 129 & 0.6005778 & 0.5865690 & 0.6145867\\\\\n",
       "\\end{tabular}\n"
      ],
      "text/markdown": [
       "\n",
       "A tidytable: 6 x 20\n",
       "\n",
       "| chr &lt;chr&gt; | pos &lt;int&gt; | alleles &lt;chr&gt; | GT1 &lt;chr&gt; | GT2 &lt;chr&gt; | ADcross &lt;chr&gt; | DPcross &lt;int&gt; | AD3_0 &lt;int&gt; | AD3_1 &lt;int&gt; | AD3_2 &lt;int&gt; | AD3_3 &lt;int&gt; | Allele1 &lt;int&gt; | Allele2 &lt;int&gt; | AD_A1 &lt;int&gt; | AD_A2 &lt;int&gt; | global_pos &lt;int&gt; | sumCount &lt;int&gt; | smoothed &lt;dbl&gt; | lwr &lt;dbl&gt; | upr &lt;dbl&gt; |\n",
       "|---|---|---|---|---|---|---|---|---|---|---|---|---|---|---|---|---|---|---|---|\n",
       "| chromosome2 | 340242 | T,C | 1/1 | 0/0 | 58,88 | 146 | 58 | 88 | NA | NA | 1 | 0 | 88 | 58 | 547041 | 146 | 0.5998686 | 0.5861552 | 0.6135821 |\n",
       "| chromosome2 | 340737 | G,A | 1/1 | 0/0 | 39,68 | 107 | 39 | 68 | NA | NA | 1 | 0 | 68 | 39 | 547536 | 107 | 0.6001430 | 0.5863262 | 0.6139599 |\n",
       "| chromosome2 | 340913 | T,C | 1/1 | 0/0 | 47,76 | 123 | 47 | 76 | NA | NA | 1 | 0 | 76 | 47 | 547712 | 123 | 0.6002395 | 0.5863826 | 0.6140964 |\n",
       "| chromosome2 | 341391 | T,A | 0/0 | 1/1 | 71,40 | 111 | 71 | 40 | NA | NA | 0 | 1 | 71 | 40 | 548190 | 111 | 0.6005003 | 0.5865275 | 0.6144732 |\n",
       "| chromosome2 | 341451 | A,G | 0/0 | 1/1 | 79,38 | 117 | 79 | 38 | NA | NA | 0 | 1 | 79 | 38 | 548250 | 117 | 0.6005330 | 0.5865451 | 0.6145210 |\n",
       "| chromosome2 | 341533 | A,G | 1/1 | 0/0 | 43,86 | 129 | 43 | 86 | NA | NA | 1 | 0 | 86 | 43 | 548332 | 129 | 0.6005778 | 0.5865690 | 0.6145867 |\n",
       "\n"
      ],
      "text/plain": [
       "  chr         pos    alleles GT1 GT2 ADcross DPcross AD3_0 AD3_1 AD3_2 AD3_3\n",
       "1 chromosome2 340242 T,C     1/1 0/0 58,88   146     58    88    NA    NA   \n",
       "2 chromosome2 340737 G,A     1/1 0/0 39,68   107     39    68    NA    NA   \n",
       "3 chromosome2 340913 T,C     1/1 0/0 47,76   123     47    76    NA    NA   \n",
       "4 chromosome2 341391 T,A     0/0 1/1 71,40   111     71    40    NA    NA   \n",
       "5 chromosome2 341451 A,G     0/0 1/1 79,38   117     79    38    NA    NA   \n",
       "6 chromosome2 341533 A,G     1/1 0/0 43,86   129     43    86    NA    NA   \n",
       "  Allele1 Allele2 AD_A1 AD_A2 global_pos sumCount smoothed  lwr       upr      \n",
       "1 1       0       88    58    547041     146      0.5998686 0.5861552 0.6135821\n",
       "2 1       0       68    39    547536     107      0.6001430 0.5863262 0.6139599\n",
       "3 1       0       76    47    547712     123      0.6002395 0.5863826 0.6140964\n",
       "4 0       1       71    40    548190     111      0.6005003 0.5865275 0.6144732\n",
       "5 0       1       79    38    548250     117      0.6005330 0.5865451 0.6145210\n",
       "6 1       0       86    43    548332     129      0.6005778 0.5865690 0.6145867"
      ]
     },
     "metadata": {},
     "output_type": "display_data"
    }
   ],
   "source": [
    "df<-fread(paste0(\"/home/jnrunge/data/TRD/results/shiny/\",c,\"-AF.csv.gz\"))\n",
    "df<-filter(df, paste(chr, pos) %in% pull(df_AS_filtered, chrpos))\n",
    "head(df)"
   ]
  },
  {
   "cell_type": "code",
   "execution_count": 63,
   "id": "d0326ac4-96a6-49cf-8a57-e39371e5e366",
   "metadata": {
    "tags": []
   },
   "outputs": [
    {
     "data": {
      "text/html": [
       "<table class=\"dataframe\">\n",
       "<caption>A tidytable: 2490 x 2</caption>\n",
       "<thead>\n",
       "\t<tr><th scope=col>s</th><th scope=col>simFocal1</th></tr>\n",
       "\t<tr><th scope=col>&lt;chr&gt;</th><th scope=col>&lt;dbl&gt;</th></tr>\n",
       "</thead>\n",
       "<tbody>\n",
       "\t<tr><td>AAA</td><td>0.1409750</td></tr>\n",
       "\t<tr><td>AAB</td><td>0.2239789</td></tr>\n",
       "\t<tr><td>AAC</td><td>0.2015810</td></tr>\n",
       "\t<tr><td>AAD</td><td>0.4980237</td></tr>\n",
       "\t<tr><td>AAE</td><td>0.1370224</td></tr>\n",
       "\t<tr><td>AAG</td><td>0.4769433</td></tr>\n",
       "\t<tr><td>AAH</td><td>0.3741765</td></tr>\n",
       "\t<tr><td>AAI</td><td>0.1317523</td></tr>\n",
       "\t<tr><td>AAK</td><td>0.1343874</td></tr>\n",
       "\t<tr><td>AAL</td><td>0.1291173</td></tr>\n",
       "\t<tr><td>AAM</td><td>1.0000000</td></tr>\n",
       "\t<tr><td>AAN</td><td>0.1594203</td></tr>\n",
       "\t<tr><td>AAP</td><td>0.1212121</td></tr>\n",
       "\t<tr><td>AAQ</td><td>0.2081686</td></tr>\n",
       "\t<tr><td>AAR</td><td>0.3583663</td></tr>\n",
       "\t<tr><td>AAS</td><td>0.1963109</td></tr>\n",
       "\t<tr><td>AAT</td><td>0.1001318</td></tr>\n",
       "\t<tr><td>AAV</td><td>0.1633729</td></tr>\n",
       "\t<tr><td>ABA</td><td>0.1765481</td></tr>\n",
       "\t<tr><td>ABB</td><td>0.4848485</td></tr>\n",
       "\t<tr><td>ABC</td><td>0.2990777</td></tr>\n",
       "\t<tr><td>ABD</td><td>0.2411067</td></tr>\n",
       "\t<tr><td>ABE</td><td>0.1304348</td></tr>\n",
       "\t<tr><td>ABF</td><td>0.3530962</td></tr>\n",
       "\t<tr><td>ABG</td><td>0.2766798</td></tr>\n",
       "\t<tr><td>ABH</td><td>0.2332016</td></tr>\n",
       "\t<tr><td>ABI</td><td>0.2239789</td></tr>\n",
       "\t<tr><td>ABK</td><td>0.2424242</td></tr>\n",
       "\t<tr><td>ABL</td><td>0.2279315</td></tr>\n",
       "\t<tr><td>ABM</td><td>0.1396574</td></tr>\n",
       "\t<tr><td>...</td><td>...</td></tr>\n",
       "\t<tr><td>XTRA_FEO</td><td>0.14361001</td></tr>\n",
       "\t<tr><td>XTRA_FEP</td><td>0.21343874</td></tr>\n",
       "\t<tr><td>XTRA_FEQ</td><td>0.13570487</td></tr>\n",
       "\t<tr><td>XTRA_FER</td><td>0.14756258</td></tr>\n",
       "\t<tr><td>XTRA_FES</td><td>0.21080369</td></tr>\n",
       "\t<tr><td>XTRA_FET</td><td>0.05928854</td></tr>\n",
       "\t<tr><td>XTRA_FEU</td><td>0.13306983</td></tr>\n",
       "\t<tr><td>XTRA_FEV</td><td>0.13175231</td></tr>\n",
       "\t<tr><td>XTRA_FEW</td><td>0.13570487</td></tr>\n",
       "\t<tr><td>XTRA_FEX</td><td>0.13043478</td></tr>\n",
       "\t<tr><td>XTRA_FEY</td><td>0.13175231</td></tr>\n",
       "\t<tr><td>XTRA_FEZ</td><td>0.12911726</td></tr>\n",
       "\t<tr><td>XTRA_FFA</td><td>0.13043478</td></tr>\n",
       "\t<tr><td>XTRA_FFB</td><td>0.12648221</td></tr>\n",
       "\t<tr><td>XTRA_FFC</td><td>0.12911726</td></tr>\n",
       "\t<tr><td>XTRA_FFD</td><td>0.13438735</td></tr>\n",
       "\t<tr><td>XTRA_FFE</td><td>0.13702240</td></tr>\n",
       "\t<tr><td>XTRA_FFF</td><td>0.12648221</td></tr>\n",
       "\t<tr><td>XTRA_FFG</td><td>0.13438735</td></tr>\n",
       "\t<tr><td>XTRA_FFH</td><td>0.12516469</td></tr>\n",
       "\t<tr><td>XTRA_FFI</td><td>0.12516469</td></tr>\n",
       "\t<tr><td>XTRA_FFJ</td><td>0.30039526</td></tr>\n",
       "\t<tr><td>XTRA_FFK</td><td>0.17918314</td></tr>\n",
       "\t<tr><td>XTRA_FFL</td><td>0.11067194</td></tr>\n",
       "\t<tr><td>XTRA_FFM</td><td>0.07773386</td></tr>\n",
       "\t<tr><td>XTRA_FFN</td><td>0.16996047</td></tr>\n",
       "\t<tr><td>XTRA_FFO</td><td>0.18972332</td></tr>\n",
       "\t<tr><td>XTRA_FFP</td><td>0.22397892</td></tr>\n",
       "\t<tr><td>XTRA_FFQ</td><td>0.11067194</td></tr>\n",
       "\t<tr><td>chrpos  </td><td>0.00000000</td></tr>\n",
       "</tbody>\n",
       "</table>\n"
      ],
      "text/latex": [
       "A tidytable: 2490 x 2\n",
       "\\begin{tabular}{ll}\n",
       " s & simFocal1\\\\\n",
       " <chr> & <dbl>\\\\\n",
       "\\hline\n",
       "\t AAA & 0.1409750\\\\\n",
       "\t AAB & 0.2239789\\\\\n",
       "\t AAC & 0.2015810\\\\\n",
       "\t AAD & 0.4980237\\\\\n",
       "\t AAE & 0.1370224\\\\\n",
       "\t AAG & 0.4769433\\\\\n",
       "\t AAH & 0.3741765\\\\\n",
       "\t AAI & 0.1317523\\\\\n",
       "\t AAK & 0.1343874\\\\\n",
       "\t AAL & 0.1291173\\\\\n",
       "\t AAM & 1.0000000\\\\\n",
       "\t AAN & 0.1594203\\\\\n",
       "\t AAP & 0.1212121\\\\\n",
       "\t AAQ & 0.2081686\\\\\n",
       "\t AAR & 0.3583663\\\\\n",
       "\t AAS & 0.1963109\\\\\n",
       "\t AAT & 0.1001318\\\\\n",
       "\t AAV & 0.1633729\\\\\n",
       "\t ABA & 0.1765481\\\\\n",
       "\t ABB & 0.4848485\\\\\n",
       "\t ABC & 0.2990777\\\\\n",
       "\t ABD & 0.2411067\\\\\n",
       "\t ABE & 0.1304348\\\\\n",
       "\t ABF & 0.3530962\\\\\n",
       "\t ABG & 0.2766798\\\\\n",
       "\t ABH & 0.2332016\\\\\n",
       "\t ABI & 0.2239789\\\\\n",
       "\t ABK & 0.2424242\\\\\n",
       "\t ABL & 0.2279315\\\\\n",
       "\t ABM & 0.1396574\\\\\n",
       "\t ... & ...\\\\\n",
       "\t XTRA\\_FEO & 0.14361001\\\\\n",
       "\t XTRA\\_FEP & 0.21343874\\\\\n",
       "\t XTRA\\_FEQ & 0.13570487\\\\\n",
       "\t XTRA\\_FER & 0.14756258\\\\\n",
       "\t XTRA\\_FES & 0.21080369\\\\\n",
       "\t XTRA\\_FET & 0.05928854\\\\\n",
       "\t XTRA\\_FEU & 0.13306983\\\\\n",
       "\t XTRA\\_FEV & 0.13175231\\\\\n",
       "\t XTRA\\_FEW & 0.13570487\\\\\n",
       "\t XTRA\\_FEX & 0.13043478\\\\\n",
       "\t XTRA\\_FEY & 0.13175231\\\\\n",
       "\t XTRA\\_FEZ & 0.12911726\\\\\n",
       "\t XTRA\\_FFA & 0.13043478\\\\\n",
       "\t XTRA\\_FFB & 0.12648221\\\\\n",
       "\t XTRA\\_FFC & 0.12911726\\\\\n",
       "\t XTRA\\_FFD & 0.13438735\\\\\n",
       "\t XTRA\\_FFE & 0.13702240\\\\\n",
       "\t XTRA\\_FFF & 0.12648221\\\\\n",
       "\t XTRA\\_FFG & 0.13438735\\\\\n",
       "\t XTRA\\_FFH & 0.12516469\\\\\n",
       "\t XTRA\\_FFI & 0.12516469\\\\\n",
       "\t XTRA\\_FFJ & 0.30039526\\\\\n",
       "\t XTRA\\_FFK & 0.17918314\\\\\n",
       "\t XTRA\\_FFL & 0.11067194\\\\\n",
       "\t XTRA\\_FFM & 0.07773386\\\\\n",
       "\t XTRA\\_FFN & 0.16996047\\\\\n",
       "\t XTRA\\_FFO & 0.18972332\\\\\n",
       "\t XTRA\\_FFP & 0.22397892\\\\\n",
       "\t XTRA\\_FFQ & 0.11067194\\\\\n",
       "\t chrpos   & 0.00000000\\\\\n",
       "\\end{tabular}\n"
      ],
      "text/markdown": [
       "\n",
       "A tidytable: 2490 x 2\n",
       "\n",
       "| s &lt;chr&gt; | simFocal1 &lt;dbl&gt; |\n",
       "|---|---|\n",
       "| AAA | 0.1409750 |\n",
       "| AAB | 0.2239789 |\n",
       "| AAC | 0.2015810 |\n",
       "| AAD | 0.4980237 |\n",
       "| AAE | 0.1370224 |\n",
       "| AAG | 0.4769433 |\n",
       "| AAH | 0.3741765 |\n",
       "| AAI | 0.1317523 |\n",
       "| AAK | 0.1343874 |\n",
       "| AAL | 0.1291173 |\n",
       "| AAM | 1.0000000 |\n",
       "| AAN | 0.1594203 |\n",
       "| AAP | 0.1212121 |\n",
       "| AAQ | 0.2081686 |\n",
       "| AAR | 0.3583663 |\n",
       "| AAS | 0.1963109 |\n",
       "| AAT | 0.1001318 |\n",
       "| AAV | 0.1633729 |\n",
       "| ABA | 0.1765481 |\n",
       "| ABB | 0.4848485 |\n",
       "| ABC | 0.2990777 |\n",
       "| ABD | 0.2411067 |\n",
       "| ABE | 0.1304348 |\n",
       "| ABF | 0.3530962 |\n",
       "| ABG | 0.2766798 |\n",
       "| ABH | 0.2332016 |\n",
       "| ABI | 0.2239789 |\n",
       "| ABK | 0.2424242 |\n",
       "| ABL | 0.2279315 |\n",
       "| ABM | 0.1396574 |\n",
       "| ... | ... |\n",
       "| XTRA_FEO | 0.14361001 |\n",
       "| XTRA_FEP | 0.21343874 |\n",
       "| XTRA_FEQ | 0.13570487 |\n",
       "| XTRA_FER | 0.14756258 |\n",
       "| XTRA_FES | 0.21080369 |\n",
       "| XTRA_FET | 0.05928854 |\n",
       "| XTRA_FEU | 0.13306983 |\n",
       "| XTRA_FEV | 0.13175231 |\n",
       "| XTRA_FEW | 0.13570487 |\n",
       "| XTRA_FEX | 0.13043478 |\n",
       "| XTRA_FEY | 0.13175231 |\n",
       "| XTRA_FEZ | 0.12911726 |\n",
       "| XTRA_FFA | 0.13043478 |\n",
       "| XTRA_FFB | 0.12648221 |\n",
       "| XTRA_FFC | 0.12911726 |\n",
       "| XTRA_FFD | 0.13438735 |\n",
       "| XTRA_FFE | 0.13702240 |\n",
       "| XTRA_FFF | 0.12648221 |\n",
       "| XTRA_FFG | 0.13438735 |\n",
       "| XTRA_FFH | 0.12516469 |\n",
       "| XTRA_FFI | 0.12516469 |\n",
       "| XTRA_FFJ | 0.30039526 |\n",
       "| XTRA_FFK | 0.17918314 |\n",
       "| XTRA_FFL | 0.11067194 |\n",
       "| XTRA_FFM | 0.07773386 |\n",
       "| XTRA_FFN | 0.16996047 |\n",
       "| XTRA_FFO | 0.18972332 |\n",
       "| XTRA_FFP | 0.22397892 |\n",
       "| XTRA_FFQ | 0.11067194 |\n",
       "| chrpos   | 0.00000000 |\n",
       "\n"
      ],
      "text/plain": [
       "     s        simFocal1 \n",
       "1    AAA      0.1409750 \n",
       "2    AAB      0.2239789 \n",
       "3    AAC      0.2015810 \n",
       "4    AAD      0.4980237 \n",
       "5    AAE      0.1370224 \n",
       "6    AAG      0.4769433 \n",
       "7    AAH      0.3741765 \n",
       "8    AAI      0.1317523 \n",
       "9    AAK      0.1343874 \n",
       "10   AAL      0.1291173 \n",
       "11   AAM      1.0000000 \n",
       "12   AAN      0.1594203 \n",
       "13   AAP      0.1212121 \n",
       "14   AAQ      0.2081686 \n",
       "15   AAR      0.3583663 \n",
       "16   AAS      0.1963109 \n",
       "17   AAT      0.1001318 \n",
       "18   AAV      0.1633729 \n",
       "19   ABA      0.1765481 \n",
       "20   ABB      0.4848485 \n",
       "21   ABC      0.2990777 \n",
       "22   ABD      0.2411067 \n",
       "23   ABE      0.1304348 \n",
       "24   ABF      0.3530962 \n",
       "25   ABG      0.2766798 \n",
       "26   ABH      0.2332016 \n",
       "27   ABI      0.2239789 \n",
       "28   ABK      0.2424242 \n",
       "29   ABL      0.2279315 \n",
       "30   ABM      0.1396574 \n",
       "...  ...      ...       \n",
       "2461 XTRA_FEO 0.14361001\n",
       "2462 XTRA_FEP 0.21343874\n",
       "2463 XTRA_FEQ 0.13570487\n",
       "2464 XTRA_FER 0.14756258\n",
       "2465 XTRA_FES 0.21080369\n",
       "2466 XTRA_FET 0.05928854\n",
       "2467 XTRA_FEU 0.13306983\n",
       "2468 XTRA_FEV 0.13175231\n",
       "2469 XTRA_FEW 0.13570487\n",
       "2470 XTRA_FEX 0.13043478\n",
       "2471 XTRA_FEY 0.13175231\n",
       "2472 XTRA_FEZ 0.12911726\n",
       "2473 XTRA_FFA 0.13043478\n",
       "2474 XTRA_FFB 0.12648221\n",
       "2475 XTRA_FFC 0.12911726\n",
       "2476 XTRA_FFD 0.13438735\n",
       "2477 XTRA_FFE 0.13702240\n",
       "2478 XTRA_FFF 0.12648221\n",
       "2479 XTRA_FFG 0.13438735\n",
       "2480 XTRA_FFH 0.12516469\n",
       "2481 XTRA_FFI 0.12516469\n",
       "2482 XTRA_FFJ 0.30039526\n",
       "2483 XTRA_FFK 0.17918314\n",
       "2484 XTRA_FFL 0.11067194\n",
       "2485 XTRA_FFM 0.07773386\n",
       "2486 XTRA_FFN 0.16996047\n",
       "2487 XTRA_FFO 0.18972332\n",
       "2488 XTRA_FFP 0.22397892\n",
       "2489 XTRA_FFQ 0.11067194\n",
       "2490 chrpos   0.00000000"
      ]
     },
     "metadata": {},
     "output_type": "display_data"
    }
   ],
   "source": [
    "ReCalcSimilarity=function(i){\n",
    "    GTs<-select(vcf,i)%>%pull()\n",
    "    GTs<-substr(GTs, 1,3)\n",
    "\n",
    "    sample=colnames(select(vcf,i))\n",
    "\n",
    "    if(nrow(df)==nrow(vcf)){\n",
    "        similarity=sum(GTs==pull(df,GT1))/nrow(vcf)\n",
    "        return(data.table(s=sample,simFocal1=similarity))\n",
    "    }\n",
    "}\n",
    "\n",
    "similarity_done_again=bind_rows(lapply(10:ncol(vcf),\n",
    "                               ReCalcSimilarity))\n",
    "\n",
    "similarity_done_again"
   ]
  },
  {
   "cell_type": "code",
   "execution_count": 65,
   "id": "9616b587-5119-4fac-82f3-c77a4fbd4a33",
   "metadata": {
    "tags": []
   },
   "outputs": [
    {
     "data": {
      "text/html": [
       "<table class=\"dataframe\">\n",
       "<caption>A tidytable: 6 x 2</caption>\n",
       "<thead>\n",
       "\t<tr><th scope=col>s</th><th scope=col>simFocal1</th></tr>\n",
       "\t<tr><th scope=col>&lt;chr&gt;</th><th scope=col>&lt;dbl&gt;</th></tr>\n",
       "</thead>\n",
       "<tbody>\n",
       "\t<tr><td>AAM     </td><td>1.0000000</td></tr>\n",
       "\t<tr><td>AFF     </td><td>0.5994730</td></tr>\n",
       "\t<tr><td>XTRA_EJZ</td><td>0.5322793</td></tr>\n",
       "\t<tr><td>XTRA_ETR</td><td>0.5164690</td></tr>\n",
       "\t<tr><td>XTRA_DJU</td><td>0.5151515</td></tr>\n",
       "\t<tr><td>XTRA_ETH</td><td>0.5151515</td></tr>\n",
       "</tbody>\n",
       "</table>\n"
      ],
      "text/latex": [
       "A tidytable: 6 x 2\n",
       "\\begin{tabular}{ll}\n",
       " s & simFocal1\\\\\n",
       " <chr> & <dbl>\\\\\n",
       "\\hline\n",
       "\t AAM      & 1.0000000\\\\\n",
       "\t AFF      & 0.5994730\\\\\n",
       "\t XTRA\\_EJZ & 0.5322793\\\\\n",
       "\t XTRA\\_ETR & 0.5164690\\\\\n",
       "\t XTRA\\_DJU & 0.5151515\\\\\n",
       "\t XTRA\\_ETH & 0.5151515\\\\\n",
       "\\end{tabular}\n"
      ],
      "text/markdown": [
       "\n",
       "A tidytable: 6 x 2\n",
       "\n",
       "| s &lt;chr&gt; | simFocal1 &lt;dbl&gt; |\n",
       "|---|---|\n",
       "| AAM      | 1.0000000 |\n",
       "| AFF      | 0.5994730 |\n",
       "| XTRA_EJZ | 0.5322793 |\n",
       "| XTRA_ETR | 0.5164690 |\n",
       "| XTRA_DJU | 0.5151515 |\n",
       "| XTRA_ETH | 0.5151515 |\n",
       "\n"
      ],
      "text/plain": [
       "  s        simFocal1\n",
       "1 AAM      1.0000000\n",
       "2 AFF      0.5994730\n",
       "3 XTRA_EJZ 0.5322793\n",
       "4 XTRA_ETR 0.5164690\n",
       "5 XTRA_DJU 0.5151515\n",
       "6 XTRA_ETH 0.5151515"
      ]
     },
     "metadata": {},
     "output_type": "display_data"
    }
   ],
   "source": [
    "similarity_done_again%>%arrange(-simFocal1)%>%head()"
   ]
  },
  {
   "cell_type": "code",
   "execution_count": 10,
   "id": "17594bae-bf6c-4e11-afc3-9f82b36208fa",
   "metadata": {
    "tags": []
   },
   "outputs": [],
   "source": [
    "melted=reshape2::melt(df_AS_filtered, id.vars = c(\"#CHROM\",\"POS\"))\n",
    "        melted=filter(melted, variable != \"chrpos\")"
   ]
  },
  {
   "cell_type": "code",
   "execution_count": 14,
   "id": "c3f47ac2-b8f4-481b-8100-036cb0b8bfab",
   "metadata": {
    "tags": []
   },
   "outputs": [],
   "source": [
    "tmp=summarise(group_by(melted, variable), nAll=n())\n",
    "        vcf_translated_summary=left_join(tmp,summarise(group_by(melted, variable, value), n=n()), by=c(\"variable\"))%>%mutate(p=n/nAll)%>%select(variable,value,p)%>%rename(Strain=variable, Type=value)\n",
    "        A1s=vcf_translated_summary$Strain[vcf_translated_summary$Type==\"A1_hom\" & vcf_translated_summary$p>=selectSimilarity]\n",
    "        A2s=vcf_translated_summary$Strain[vcf_translated_summary$Type==\"A2_hom\" & vcf_translated_summary$p>=selectSimilarity]"
   ]
  },
  {
   "cell_type": "code",
   "execution_count": 48,
   "id": "7f6361dd-2dab-470b-9b40-c57eff9d3b3c",
   "metadata": {
    "tags": []
   },
   "outputs": [
    {
     "data": {
      "text/html": [
       "<table class=\"dataframe\">\n",
       "<caption>A tidytable: 2487 x 3</caption>\n",
       "<thead>\n",
       "\t<tr><th scope=col>Strain</th><th scope=col>Type</th><th scope=col>p</th></tr>\n",
       "\t<tr><th scope=col>&lt;fct&gt;</th><th scope=col>&lt;chr&gt;</th><th scope=col>&lt;dbl&gt;</th></tr>\n",
       "</thead>\n",
       "<tbody>\n",
       "\t<tr><td>AAM     </td><td>A1_hom</td><td>0.9934124</td></tr>\n",
       "\t<tr><td>AFF     </td><td>A1_hom</td><td>0.6007905</td></tr>\n",
       "\t<tr><td>XTRA_EJZ</td><td>A1_hom</td><td>0.5322793</td></tr>\n",
       "\t<tr><td>XTRA_ETR</td><td>A1_hom</td><td>0.5217391</td></tr>\n",
       "\t<tr><td>XTRA_ETH</td><td>A1_hom</td><td>0.5204216</td></tr>\n",
       "\t<tr><td>XTRA_ETQ</td><td>A1_hom</td><td>0.5191041</td></tr>\n",
       "\t<tr><td>XTRA_DJU</td><td>A1_hom</td><td>0.5164690</td></tr>\n",
       "\t<tr><td>XTRA_FCA</td><td>A1_hom</td><td>0.5151515</td></tr>\n",
       "\t<tr><td>CMI     </td><td>A1_hom</td><td>0.5098814</td></tr>\n",
       "\t<tr><td>ADQ     </td><td>A1_hom</td><td>0.5085639</td></tr>\n",
       "\t<tr><td>AFM     </td><td>A1_hom</td><td>0.5085639</td></tr>\n",
       "\t<tr><td>XTRA_DCH</td><td>A1_hom</td><td>0.5085639</td></tr>\n",
       "\t<tr><td>XTRA_DCI</td><td>A1_hom</td><td>0.5085639</td></tr>\n",
       "\t<tr><td>XTRA_DCJ</td><td>A1_hom</td><td>0.5085639</td></tr>\n",
       "\t<tr><td>XTRA_DYI</td><td>A1_hom</td><td>0.5085639</td></tr>\n",
       "\t<tr><td>XTRA_DYK</td><td>A1_hom</td><td>0.5085639</td></tr>\n",
       "\t<tr><td>XTRA_EMS</td><td>A1_hom</td><td>0.5085639</td></tr>\n",
       "\t<tr><td>XTRA_ETS</td><td>A1_hom</td><td>0.5085639</td></tr>\n",
       "\t<tr><td>CMD     </td><td>A1_hom</td><td>0.5072464</td></tr>\n",
       "\t<tr><td>AFS     </td><td>A1_hom</td><td>0.5059289</td></tr>\n",
       "\t<tr><td>ARM     </td><td>A1_hom</td><td>0.5059289</td></tr>\n",
       "\t<tr><td>CLI     </td><td>A1_hom</td><td>0.5059289</td></tr>\n",
       "\t<tr><td>CLN     </td><td>A1_hom</td><td>0.5059289</td></tr>\n",
       "\t<tr><td>CMH     </td><td>A1_hom</td><td>0.5059289</td></tr>\n",
       "\t<tr><td>CMK     </td><td>A1_hom</td><td>0.5059289</td></tr>\n",
       "\t<tr><td>ADN     </td><td>A1_hom</td><td>0.5046113</td></tr>\n",
       "\t<tr><td>AEF     </td><td>A1_hom</td><td>0.5046113</td></tr>\n",
       "\t<tr><td>APA     </td><td>A1_hom</td><td>0.5046113</td></tr>\n",
       "\t<tr><td>CLQ     </td><td>A1_hom</td><td>0.5046113</td></tr>\n",
       "\t<tr><td>XTRA_DCF</td><td>A1_hom</td><td>0.5046113</td></tr>\n",
       "\t<tr><td>...</td><td>...</td><td>...</td></tr>\n",
       "\t<tr><td>CPC     </td><td>A1_hom</td><td>0.018445323</td></tr>\n",
       "\t<tr><td>CPN     </td><td>A1_hom</td><td>0.018445323</td></tr>\n",
       "\t<tr><td>CPR     </td><td>A1_hom</td><td>0.018445323</td></tr>\n",
       "\t<tr><td>CPI     </td><td>A1_hom</td><td>0.017127800</td></tr>\n",
       "\t<tr><td>CPK     </td><td>A1_hom</td><td>0.017127800</td></tr>\n",
       "\t<tr><td>XTRA_EJM</td><td>A1_hom</td><td>0.017127800</td></tr>\n",
       "\t<tr><td>XTRA_ENO</td><td>A1_hom</td><td>0.017127800</td></tr>\n",
       "\t<tr><td>XTRA_FCQ</td><td>A1_hom</td><td>0.017127800</td></tr>\n",
       "\t<tr><td>CPQ     </td><td>A1_hom</td><td>0.015810277</td></tr>\n",
       "\t<tr><td>XTRA_DAB</td><td>A1_hom</td><td>0.015810277</td></tr>\n",
       "\t<tr><td>XTRA_DAK</td><td>A1_hom</td><td>0.014492754</td></tr>\n",
       "\t<tr><td>XTRA_DAJ</td><td>A1_hom</td><td>0.013175231</td></tr>\n",
       "\t<tr><td>XTRA_FCK</td><td>A1_hom</td><td>0.013175231</td></tr>\n",
       "\t<tr><td>ADE     </td><td>A1_hom</td><td>0.011857708</td></tr>\n",
       "\t<tr><td>SACE_YCL</td><td>A1_hom</td><td>0.011857708</td></tr>\n",
       "\t<tr><td>XTRA_DAO</td><td>A1_hom</td><td>0.011857708</td></tr>\n",
       "\t<tr><td>XTRA_DAP</td><td>A1_hom</td><td>0.011857708</td></tr>\n",
       "\t<tr><td>XTRA_DBA</td><td>A1_hom</td><td>0.011857708</td></tr>\n",
       "\t<tr><td>XTRA_DSD</td><td>A1_hom</td><td>0.011857708</td></tr>\n",
       "\t<tr><td>XTRA_EJG</td><td>A1_hom</td><td>0.011857708</td></tr>\n",
       "\t<tr><td>XTRA_EJK</td><td>A1_hom</td><td>0.011857708</td></tr>\n",
       "\t<tr><td>XTRA_ELC</td><td>A1_hom</td><td>0.011857708</td></tr>\n",
       "\t<tr><td>XTRA_DAU</td><td>A1_hom</td><td>0.010540184</td></tr>\n",
       "\t<tr><td>XTRA_EJE</td><td>A1_hom</td><td>0.010540184</td></tr>\n",
       "\t<tr><td>XTRA_EJI</td><td>A1_hom</td><td>0.010540184</td></tr>\n",
       "\t<tr><td>XTRA_ELA</td><td>A1_hom</td><td>0.010540184</td></tr>\n",
       "\t<tr><td>XTRA_ELG</td><td>A1_hom</td><td>0.010540184</td></tr>\n",
       "\t<tr><td>XTRA_ELH</td><td>A1_hom</td><td>0.010540184</td></tr>\n",
       "\t<tr><td>XTRA_ENH</td><td>A1_hom</td><td>0.009222661</td></tr>\n",
       "\t<tr><td>XTRA_DAW</td><td>A1_hom</td><td>0.005270092</td></tr>\n",
       "</tbody>\n",
       "</table>\n"
      ],
      "text/latex": [
       "A tidytable: 2487 x 3\n",
       "\\begin{tabular}{lll}\n",
       " Strain & Type & p\\\\\n",
       " <fct> & <chr> & <dbl>\\\\\n",
       "\\hline\n",
       "\t AAM      & A1\\_hom & 0.9934124\\\\\n",
       "\t AFF      & A1\\_hom & 0.6007905\\\\\n",
       "\t XTRA\\_EJZ & A1\\_hom & 0.5322793\\\\\n",
       "\t XTRA\\_ETR & A1\\_hom & 0.5217391\\\\\n",
       "\t XTRA\\_ETH & A1\\_hom & 0.5204216\\\\\n",
       "\t XTRA\\_ETQ & A1\\_hom & 0.5191041\\\\\n",
       "\t XTRA\\_DJU & A1\\_hom & 0.5164690\\\\\n",
       "\t XTRA\\_FCA & A1\\_hom & 0.5151515\\\\\n",
       "\t CMI      & A1\\_hom & 0.5098814\\\\\n",
       "\t ADQ      & A1\\_hom & 0.5085639\\\\\n",
       "\t AFM      & A1\\_hom & 0.5085639\\\\\n",
       "\t XTRA\\_DCH & A1\\_hom & 0.5085639\\\\\n",
       "\t XTRA\\_DCI & A1\\_hom & 0.5085639\\\\\n",
       "\t XTRA\\_DCJ & A1\\_hom & 0.5085639\\\\\n",
       "\t XTRA\\_DYI & A1\\_hom & 0.5085639\\\\\n",
       "\t XTRA\\_DYK & A1\\_hom & 0.5085639\\\\\n",
       "\t XTRA\\_EMS & A1\\_hom & 0.5085639\\\\\n",
       "\t XTRA\\_ETS & A1\\_hom & 0.5085639\\\\\n",
       "\t CMD      & A1\\_hom & 0.5072464\\\\\n",
       "\t AFS      & A1\\_hom & 0.5059289\\\\\n",
       "\t ARM      & A1\\_hom & 0.5059289\\\\\n",
       "\t CLI      & A1\\_hom & 0.5059289\\\\\n",
       "\t CLN      & A1\\_hom & 0.5059289\\\\\n",
       "\t CMH      & A1\\_hom & 0.5059289\\\\\n",
       "\t CMK      & A1\\_hom & 0.5059289\\\\\n",
       "\t ADN      & A1\\_hom & 0.5046113\\\\\n",
       "\t AEF      & A1\\_hom & 0.5046113\\\\\n",
       "\t APA      & A1\\_hom & 0.5046113\\\\\n",
       "\t CLQ      & A1\\_hom & 0.5046113\\\\\n",
       "\t XTRA\\_DCF & A1\\_hom & 0.5046113\\\\\n",
       "\t ... & ... & ...\\\\\n",
       "\t CPC      & A1\\_hom & 0.018445323\\\\\n",
       "\t CPN      & A1\\_hom & 0.018445323\\\\\n",
       "\t CPR      & A1\\_hom & 0.018445323\\\\\n",
       "\t CPI      & A1\\_hom & 0.017127800\\\\\n",
       "\t CPK      & A1\\_hom & 0.017127800\\\\\n",
       "\t XTRA\\_EJM & A1\\_hom & 0.017127800\\\\\n",
       "\t XTRA\\_ENO & A1\\_hom & 0.017127800\\\\\n",
       "\t XTRA\\_FCQ & A1\\_hom & 0.017127800\\\\\n",
       "\t CPQ      & A1\\_hom & 0.015810277\\\\\n",
       "\t XTRA\\_DAB & A1\\_hom & 0.015810277\\\\\n",
       "\t XTRA\\_DAK & A1\\_hom & 0.014492754\\\\\n",
       "\t XTRA\\_DAJ & A1\\_hom & 0.013175231\\\\\n",
       "\t XTRA\\_FCK & A1\\_hom & 0.013175231\\\\\n",
       "\t ADE      & A1\\_hom & 0.011857708\\\\\n",
       "\t SACE\\_YCL & A1\\_hom & 0.011857708\\\\\n",
       "\t XTRA\\_DAO & A1\\_hom & 0.011857708\\\\\n",
       "\t XTRA\\_DAP & A1\\_hom & 0.011857708\\\\\n",
       "\t XTRA\\_DBA & A1\\_hom & 0.011857708\\\\\n",
       "\t XTRA\\_DSD & A1\\_hom & 0.011857708\\\\\n",
       "\t XTRA\\_EJG & A1\\_hom & 0.011857708\\\\\n",
       "\t XTRA\\_EJK & A1\\_hom & 0.011857708\\\\\n",
       "\t XTRA\\_ELC & A1\\_hom & 0.011857708\\\\\n",
       "\t XTRA\\_DAU & A1\\_hom & 0.010540184\\\\\n",
       "\t XTRA\\_EJE & A1\\_hom & 0.010540184\\\\\n",
       "\t XTRA\\_EJI & A1\\_hom & 0.010540184\\\\\n",
       "\t XTRA\\_ELA & A1\\_hom & 0.010540184\\\\\n",
       "\t XTRA\\_ELG & A1\\_hom & 0.010540184\\\\\n",
       "\t XTRA\\_ELH & A1\\_hom & 0.010540184\\\\\n",
       "\t XTRA\\_ENH & A1\\_hom & 0.009222661\\\\\n",
       "\t XTRA\\_DAW & A1\\_hom & 0.005270092\\\\\n",
       "\\end{tabular}\n"
      ],
      "text/markdown": [
       "\n",
       "A tidytable: 2487 x 3\n",
       "\n",
       "| Strain &lt;fct&gt; | Type &lt;chr&gt; | p &lt;dbl&gt; |\n",
       "|---|---|---|\n",
       "| AAM      | A1_hom | 0.9934124 |\n",
       "| AFF      | A1_hom | 0.6007905 |\n",
       "| XTRA_EJZ | A1_hom | 0.5322793 |\n",
       "| XTRA_ETR | A1_hom | 0.5217391 |\n",
       "| XTRA_ETH | A1_hom | 0.5204216 |\n",
       "| XTRA_ETQ | A1_hom | 0.5191041 |\n",
       "| XTRA_DJU | A1_hom | 0.5164690 |\n",
       "| XTRA_FCA | A1_hom | 0.5151515 |\n",
       "| CMI      | A1_hom | 0.5098814 |\n",
       "| ADQ      | A1_hom | 0.5085639 |\n",
       "| AFM      | A1_hom | 0.5085639 |\n",
       "| XTRA_DCH | A1_hom | 0.5085639 |\n",
       "| XTRA_DCI | A1_hom | 0.5085639 |\n",
       "| XTRA_DCJ | A1_hom | 0.5085639 |\n",
       "| XTRA_DYI | A1_hom | 0.5085639 |\n",
       "| XTRA_DYK | A1_hom | 0.5085639 |\n",
       "| XTRA_EMS | A1_hom | 0.5085639 |\n",
       "| XTRA_ETS | A1_hom | 0.5085639 |\n",
       "| CMD      | A1_hom | 0.5072464 |\n",
       "| AFS      | A1_hom | 0.5059289 |\n",
       "| ARM      | A1_hom | 0.5059289 |\n",
       "| CLI      | A1_hom | 0.5059289 |\n",
       "| CLN      | A1_hom | 0.5059289 |\n",
       "| CMH      | A1_hom | 0.5059289 |\n",
       "| CMK      | A1_hom | 0.5059289 |\n",
       "| ADN      | A1_hom | 0.5046113 |\n",
       "| AEF      | A1_hom | 0.5046113 |\n",
       "| APA      | A1_hom | 0.5046113 |\n",
       "| CLQ      | A1_hom | 0.5046113 |\n",
       "| XTRA_DCF | A1_hom | 0.5046113 |\n",
       "| ... | ... | ... |\n",
       "| CPC      | A1_hom | 0.018445323 |\n",
       "| CPN      | A1_hom | 0.018445323 |\n",
       "| CPR      | A1_hom | 0.018445323 |\n",
       "| CPI      | A1_hom | 0.017127800 |\n",
       "| CPK      | A1_hom | 0.017127800 |\n",
       "| XTRA_EJM | A1_hom | 0.017127800 |\n",
       "| XTRA_ENO | A1_hom | 0.017127800 |\n",
       "| XTRA_FCQ | A1_hom | 0.017127800 |\n",
       "| CPQ      | A1_hom | 0.015810277 |\n",
       "| XTRA_DAB | A1_hom | 0.015810277 |\n",
       "| XTRA_DAK | A1_hom | 0.014492754 |\n",
       "| XTRA_DAJ | A1_hom | 0.013175231 |\n",
       "| XTRA_FCK | A1_hom | 0.013175231 |\n",
       "| ADE      | A1_hom | 0.011857708 |\n",
       "| SACE_YCL | A1_hom | 0.011857708 |\n",
       "| XTRA_DAO | A1_hom | 0.011857708 |\n",
       "| XTRA_DAP | A1_hom | 0.011857708 |\n",
       "| XTRA_DBA | A1_hom | 0.011857708 |\n",
       "| XTRA_DSD | A1_hom | 0.011857708 |\n",
       "| XTRA_EJG | A1_hom | 0.011857708 |\n",
       "| XTRA_EJK | A1_hom | 0.011857708 |\n",
       "| XTRA_ELC | A1_hom | 0.011857708 |\n",
       "| XTRA_DAU | A1_hom | 0.010540184 |\n",
       "| XTRA_EJE | A1_hom | 0.010540184 |\n",
       "| XTRA_EJI | A1_hom | 0.010540184 |\n",
       "| XTRA_ELA | A1_hom | 0.010540184 |\n",
       "| XTRA_ELG | A1_hom | 0.010540184 |\n",
       "| XTRA_ELH | A1_hom | 0.010540184 |\n",
       "| XTRA_ENH | A1_hom | 0.009222661 |\n",
       "| XTRA_DAW | A1_hom | 0.005270092 |\n",
       "\n"
      ],
      "text/plain": [
       "     Strain   Type   p          \n",
       "1    AAM      A1_hom 0.9934124  \n",
       "2    AFF      A1_hom 0.6007905  \n",
       "3    XTRA_EJZ A1_hom 0.5322793  \n",
       "4    XTRA_ETR A1_hom 0.5217391  \n",
       "5    XTRA_ETH A1_hom 0.5204216  \n",
       "6    XTRA_ETQ A1_hom 0.5191041  \n",
       "7    XTRA_DJU A1_hom 0.5164690  \n",
       "8    XTRA_FCA A1_hom 0.5151515  \n",
       "9    CMI      A1_hom 0.5098814  \n",
       "10   ADQ      A1_hom 0.5085639  \n",
       "11   AFM      A1_hom 0.5085639  \n",
       "12   XTRA_DCH A1_hom 0.5085639  \n",
       "13   XTRA_DCI A1_hom 0.5085639  \n",
       "14   XTRA_DCJ A1_hom 0.5085639  \n",
       "15   XTRA_DYI A1_hom 0.5085639  \n",
       "16   XTRA_DYK A1_hom 0.5085639  \n",
       "17   XTRA_EMS A1_hom 0.5085639  \n",
       "18   XTRA_ETS A1_hom 0.5085639  \n",
       "19   CMD      A1_hom 0.5072464  \n",
       "20   AFS      A1_hom 0.5059289  \n",
       "21   ARM      A1_hom 0.5059289  \n",
       "22   CLI      A1_hom 0.5059289  \n",
       "23   CLN      A1_hom 0.5059289  \n",
       "24   CMH      A1_hom 0.5059289  \n",
       "25   CMK      A1_hom 0.5059289  \n",
       "26   ADN      A1_hom 0.5046113  \n",
       "27   AEF      A1_hom 0.5046113  \n",
       "28   APA      A1_hom 0.5046113  \n",
       "29   CLQ      A1_hom 0.5046113  \n",
       "30   XTRA_DCF A1_hom 0.5046113  \n",
       "...  ...      ...    ...        \n",
       "2458 CPC      A1_hom 0.018445323\n",
       "2459 CPN      A1_hom 0.018445323\n",
       "2460 CPR      A1_hom 0.018445323\n",
       "2461 CPI      A1_hom 0.017127800\n",
       "2462 CPK      A1_hom 0.017127800\n",
       "2463 XTRA_EJM A1_hom 0.017127800\n",
       "2464 XTRA_ENO A1_hom 0.017127800\n",
       "2465 XTRA_FCQ A1_hom 0.017127800\n",
       "2466 CPQ      A1_hom 0.015810277\n",
       "2467 XTRA_DAB A1_hom 0.015810277\n",
       "2468 XTRA_DAK A1_hom 0.014492754\n",
       "2469 XTRA_DAJ A1_hom 0.013175231\n",
       "2470 XTRA_FCK A1_hom 0.013175231\n",
       "2471 ADE      A1_hom 0.011857708\n",
       "2472 SACE_YCL A1_hom 0.011857708\n",
       "2473 XTRA_DAO A1_hom 0.011857708\n",
       "2474 XTRA_DAP A1_hom 0.011857708\n",
       "2475 XTRA_DBA A1_hom 0.011857708\n",
       "2476 XTRA_DSD A1_hom 0.011857708\n",
       "2477 XTRA_EJG A1_hom 0.011857708\n",
       "2478 XTRA_EJK A1_hom 0.011857708\n",
       "2479 XTRA_ELC A1_hom 0.011857708\n",
       "2480 XTRA_DAU A1_hom 0.010540184\n",
       "2481 XTRA_EJE A1_hom 0.010540184\n",
       "2482 XTRA_EJI A1_hom 0.010540184\n",
       "2483 XTRA_ELA A1_hom 0.010540184\n",
       "2484 XTRA_ELG A1_hom 0.010540184\n",
       "2485 XTRA_ELH A1_hom 0.010540184\n",
       "2486 XTRA_ENH A1_hom 0.009222661\n",
       "2487 XTRA_DAW A1_hom 0.005270092"
      ]
     },
     "metadata": {},
     "output_type": "display_data"
    }
   ],
   "source": [
    "vcf_translated_summary%>%filter(Type==\"A1_hom\")%>%arrange(-p)"
   ]
  },
  {
   "cell_type": "markdown",
   "id": "771830c7-ce9d-4708-8cc3-d6b9e96372cb",
   "metadata": {},
   "source": [
    "thats fine, but why does the region appear pretty normal in the PCA? let's do that here."
   ]
  },
  {
   "cell_type": "code",
   "execution_count": 20,
   "id": "157651b9-3b37-482d-80a3-9a86851f0530",
   "metadata": {
    "tags": []
   },
   "outputs": [
    {
     "name": "stderr",
     "output_type": "stream",
     "text": [
      "Warning message:\n",
      "\"package 'SNPRelate' was built under R version 4.1.3\"\n",
      "Loading required package: gdsfmt\n",
      "\n",
      "Warning message:\n",
      "\"package 'gdsfmt' was built under R version 4.1.3\"\n",
      "SNPRelate -- supported by Streaming SIMD Extensions 2 (SSE2)\n",
      "\n",
      "Warning message:\n",
      "\"package 'ape' was built under R version 4.1.3\"\n",
      "\n",
      "Attaching package: 'ape'\n",
      "\n",
      "\n",
      "The following object is masked from 'package:tidytable':\n",
      "\n",
      "    where\n",
      "\n",
      "\n"
     ]
    }
   ],
   "source": [
    "# code from 02_Local-Ph...\n",
    "\n",
    "library(SNPRelate)\n",
    "library(ape)\n",
    "\n",
    "# Get paths of input files\n",
    "my.vcf <- \"/home/jnrunge/data/trd/full2489Matrix.vcf.gz\"\n",
    "subset_samples = \"none\"\n",
    "\n",
    "if(subset_samples == \"none\"){\n",
    "    subset_samples=NULL\n",
    "    prefix <- basename(my.vcf)\n",
    "    }else{\n",
    "    prefix <- basename(subset_samples)\n",
    "    subset_samples=readLines(subset_samples)\n",
    "    }\n",
    "\n",
    "setwd(dirname(my.vcf))\n",
    "if(!file.exists(paste0(prefix, \".gds\"))){\n",
    "    snpgdsVCF2GDS(my.vcf, paste0(prefix, \".gds\"), ignore.chr.prefix=\"chromosome\")\n",
    "}\n",
    "\n",
    "genofile <- snpgdsOpen(paste0(prefix, \".gds\"))"
   ]
  },
  {
   "cell_type": "code",
   "execution_count": 28,
   "id": "92fe28f3-eab9-472d-9c3e-e45b0640d945",
   "metadata": {
    "tags": []
   },
   "outputs": [
    {
     "data": {
      "text/html": [
       "<table class=\"dataframe\">\n",
       "<caption>A tidytable: 2 x 9</caption>\n",
       "<thead>\n",
       "\t<tr><th scope=col>ID</th><th scope=col>lengthSNPs</th><th scope=col>chr</th><th scope=col>chr_end</th><th scope=col>global_start</th><th scope=col>global_end</th><th scope=col>lengthBp</th><th scope=col>start</th><th scope=col>end</th></tr>\n",
       "\t<tr><th scope=col>&lt;int&gt;</th><th scope=col>&lt;int&gt;</th><th scope=col>&lt;chr&gt;</th><th scope=col>&lt;chr&gt;</th><th scope=col>&lt;int&gt;</th><th scope=col>&lt;int&gt;</th><th scope=col>&lt;int&gt;</th><th scope=col>&lt;int&gt;</th><th scope=col>&lt;int&gt;</th></tr>\n",
       "</thead>\n",
       "<tbody>\n",
       "\t<tr><td>1</td><td>759</td><td>chromosome2 </td><td>chromosome2 </td><td> 547041</td><td> 894540</td><td>347499</td><td>340242</td><td>687741</td></tr>\n",
       "\t<tr><td>3</td><td>322</td><td>chromosome12</td><td>chromosome12</td><td>7864969</td><td>7965056</td><td>100087</td><td>735713</td><td>835800</td></tr>\n",
       "</tbody>\n",
       "</table>\n"
      ],
      "text/latex": [
       "A tidytable: 2 x 9\n",
       "\\begin{tabular}{lllllllll}\n",
       " ID & lengthSNPs & chr & chr\\_end & global\\_start & global\\_end & lengthBp & start & end\\\\\n",
       " <int> & <int> & <chr> & <chr> & <int> & <int> & <int> & <int> & <int>\\\\\n",
       "\\hline\n",
       "\t 1 & 759 & chromosome2  & chromosome2  &  547041 &  894540 & 347499 & 340242 & 687741\\\\\n",
       "\t 3 & 322 & chromosome12 & chromosome12 & 7864969 & 7965056 & 100087 & 735713 & 835800\\\\\n",
       "\\end{tabular}\n"
      ],
      "text/markdown": [
       "\n",
       "A tidytable: 2 x 9\n",
       "\n",
       "| ID &lt;int&gt; | lengthSNPs &lt;int&gt; | chr &lt;chr&gt; | chr_end &lt;chr&gt; | global_start &lt;int&gt; | global_end &lt;int&gt; | lengthBp &lt;int&gt; | start &lt;int&gt; | end &lt;int&gt; |\n",
       "|---|---|---|---|---|---|---|---|---|\n",
       "| 1 | 759 | chromosome2  | chromosome2  |  547041 |  894540 | 347499 | 340242 | 687741 |\n",
       "| 3 | 322 | chromosome12 | chromosome12 | 7864969 | 7965056 | 100087 | 735713 | 835800 |\n",
       "\n"
      ],
      "text/plain": [
       "  ID lengthSNPs chr          chr_end      global_start global_end lengthBp\n",
       "1 1  759        chromosome2  chromosome2   547041       894540    347499  \n",
       "2 3  322        chromosome12 chromosome12 7864969      7965056    100087  \n",
       "  start  end   \n",
       "1 340242 687741\n",
       "2 735713 835800"
      ]
     },
     "metadata": {},
     "output_type": "display_data"
    }
   ],
   "source": [
    "TRD_loci=fread(paste0(\"/home/jnrunge/data/TRD/results/shiny/\",c,\"-TRD_regions.csv.gz\"))\n",
    "\n",
    "AF<-fread(paste0(\"/home/jnrunge/data/TRD/results/shiny/\",c,\"-AF.csv.gz\"))\n",
    "    \n",
    "tmp_TRD_regions<-left_join(TRD_loci%>%rename(chr=chr_start), select(AF, chr,pos,global_pos)%>%\n",
    "          rename(global_start=global_pos), by=c(\"chr\",\"global_start\"))%>%rename(start=pos)\n",
    "\n",
    "TRD_loci<-tmp_TRD_regions\n",
    "\n",
    "TRD_loci<-mutate(TRD_loci, end=global_end-(global_start-start))\n",
    "\n",
    "TRD_loci"
   ]
  },
  {
   "cell_type": "code",
   "execution_count": 29,
   "id": "06e187c5-06dc-47bb-b4af-508ee1eefc63",
   "metadata": {
    "tags": []
   },
   "outputs": [],
   "source": [
    "TRD_loci<-slice(TRD_loci, i)"
   ]
  },
  {
   "cell_type": "code",
   "execution_count": 32,
   "id": "3a0f697c-b9f3-4ff3-8e8e-8af8e5c244c2",
   "metadata": {
    "tags": []
   },
   "outputs": [
    {
     "name": "stdout",
     "output_type": "stream",
     "text": [
      "Principal Component Analysis (PCA) on genotypes:\n",
      "Excluding 2,150,257 SNPs (non-autosomes or non-selection)\n",
      "Excluding 0 SNP (monomorphic: TRUE, MAF: NaN, missing rate: NaN)\n",
      "    # of samples: 2,489\n",
      "    # of SNPs: 65,943\n",
      "    using 1 thread\n",
      "    # of principal components: 32\n",
      "PCA:    the sum of all selected genotypes (0,1,2) = 320589666\n",
      "CPU capabilities: Double-Precision SSE2\n",
      "Thu Sep 21 09:55:41 2023    (internal increment: 2616)\n",
      "[==================================================] 100%, completed, 1.4m\n",
      "Thu Sep 21 09:57:05 2023    Begin (eigenvalues and eigenvectors)\n",
      "Thu Sep 21 09:57:15 2023    Done.\n"
     ]
    }
   ],
   "source": [
    "snpset=which(read.gdsn(index.gdsn(genofile, \"snp.position\"))>=pull(TRD_loci,start)&\n",
    "                     read.gdsn(index.gdsn(genofile, \"snp.position\"))<=pull(TRD_loci,end)&\n",
    "                     read.gdsn(index.gdsn(genofile, \"snp.chromosome\"))==pull(TRD_loci,chr)%>%str_replace(\"chromosome\",\"\"))\n",
    "    if(length(snpset)==0){\n",
    "        next\n",
    "    }\n",
    "\n",
    "    pca_trd <- snpgdsPCA(genofile, num.thread=1, snp.id = snpset)\n",
    "\n",
    "        x_pca_trd<-pca_trd$eigenvect[,1]\n",
    "        y_pca_trd<-pca_trd$eigenvect[,2]"
   ]
  },
  {
   "cell_type": "code",
   "execution_count": 34,
   "id": "7533aef6-8b9f-4812-a2af-b294614caaa7",
   "metadata": {
    "tags": []
   },
   "outputs": [
    {
     "name": "stdout",
     "output_type": "stream",
     "text": [
      "Identity-By-State (IBS) analysis on genotypes:\n",
      "Excluding 2,150,257 SNPs (non-autosomes or non-selection)\n",
      "Excluding 0 SNP (monomorphic: TRUE, MAF: NaN, missing rate: NaN)\n",
      "    # of samples: 2,489\n",
      "    # of SNPs: 65,943\n",
      "    using 1 thread\n",
      "IBS:    the sum of all selected genotypes (0,1,2) = 320589666\n",
      "Thu Sep 21 09:59:38 2023    (internal increment: 65536)\n",
      "[==================================================] 100%, completed, 33s \n",
      "Thu Sep 21 10:00:11 2023    Done.\n"
     ]
    }
   ],
   "source": [
    "ibs_trd <- snpgdsIBS(genofile, num.thread=1, snp.id = snpset)\n",
    "        loc <- cmdscale(1 - ibs_trd$ibs, k = 2)\n",
    "\n",
    "        x_ibs_trd <- loc[, 1]\n",
    "        y_ibs_trd <- loc[, 2]\n"
   ]
  },
  {
   "cell_type": "code",
   "execution_count": 38,
   "id": "03673b0f-9c02-487c-9147-139f5fac113d",
   "metadata": {
    "tags": []
   },
   "outputs": [
    {
     "data": {
      "text/html": [
       "11"
      ],
      "text/latex": [
       "11"
      ],
      "text/markdown": [
       "11"
      ],
      "text/plain": [
       "[1] 11"
      ]
     },
     "metadata": {},
     "output_type": "display_data"
    }
   ],
   "source": [
    "id<-which(read.gdsn(index.gdsn(genofile, \"sample.id\"))==\"AAM\")\n",
    "id"
   ]
  },
  {
   "cell_type": "code",
   "execution_count": 70,
   "id": "d1b41a55-39f3-427f-9cfc-97d0c8f6147c",
   "metadata": {
    "tags": []
   },
   "outputs": [
    {
     "data": {
      "text/html": [
       "48"
      ],
      "text/latex": [
       "48"
      ],
      "text/markdown": [
       "48"
      ],
      "text/plain": [
       "[1] 48"
      ]
     },
     "metadata": {},
     "output_type": "display_data"
    }
   ],
   "source": [
    "sum(ibs_trd$ibs[id,]>=0.985)"
   ]
  },
  {
   "cell_type": "code",
   "execution_count": 45,
   "id": "ceb601fd-835d-4059-9f4c-b8926e65af63",
   "metadata": {
    "tags": []
   },
   "outputs": [
    {
     "data": {
      "text/html": [
       "<table class=\"dataframe\">\n",
       "<caption>A tidytable: 6 x 4</caption>\n",
       "<thead>\n",
       "\t<tr><th scope=col>Strain</th><th scope=col>Type</th><th scope=col>p</th><th scope=col>IBSwFocal</th></tr>\n",
       "\t<tr><th scope=col>&lt;fct&gt;</th><th scope=col>&lt;chr&gt;</th><th scope=col>&lt;dbl&gt;</th><th scope=col>&lt;dbl&gt;</th></tr>\n",
       "</thead>\n",
       "<tbody>\n",
       "\t<tr><td>AAM     </td><td>A1_hom</td><td>0.9934124</td><td>1.0000000</td></tr>\n",
       "\t<tr><td>AFF     </td><td>A1_hom</td><td>0.6007905</td><td>0.9898549</td></tr>\n",
       "\t<tr><td>XTRA_EJZ</td><td>A1_hom</td><td>0.5322793</td><td>0.9832810</td></tr>\n",
       "\t<tr><td>XTRA_ETR</td><td>A1_hom</td><td>0.5217391</td><td>0.9828640</td></tr>\n",
       "\t<tr><td>XTRA_ETH</td><td>A1_hom</td><td>0.5204216</td><td>0.9837435</td></tr>\n",
       "\t<tr><td>XTRA_ETQ</td><td>A1_hom</td><td>0.5191041</td><td>0.9819314</td></tr>\n",
       "</tbody>\n",
       "</table>\n"
      ],
      "text/latex": [
       "A tidytable: 6 x 4\n",
       "\\begin{tabular}{llll}\n",
       " Strain & Type & p & IBSwFocal\\\\\n",
       " <fct> & <chr> & <dbl> & <dbl>\\\\\n",
       "\\hline\n",
       "\t AAM      & A1\\_hom & 0.9934124 & 1.0000000\\\\\n",
       "\t AFF      & A1\\_hom & 0.6007905 & 0.9898549\\\\\n",
       "\t XTRA\\_EJZ & A1\\_hom & 0.5322793 & 0.9832810\\\\\n",
       "\t XTRA\\_ETR & A1\\_hom & 0.5217391 & 0.9828640\\\\\n",
       "\t XTRA\\_ETH & A1\\_hom & 0.5204216 & 0.9837435\\\\\n",
       "\t XTRA\\_ETQ & A1\\_hom & 0.5191041 & 0.9819314\\\\\n",
       "\\end{tabular}\n"
      ],
      "text/markdown": [
       "\n",
       "A tidytable: 6 x 4\n",
       "\n",
       "| Strain &lt;fct&gt; | Type &lt;chr&gt; | p &lt;dbl&gt; | IBSwFocal &lt;dbl&gt; |\n",
       "|---|---|---|---|\n",
       "| AAM      | A1_hom | 0.9934124 | 1.0000000 |\n",
       "| AFF      | A1_hom | 0.6007905 | 0.9898549 |\n",
       "| XTRA_EJZ | A1_hom | 0.5322793 | 0.9832810 |\n",
       "| XTRA_ETR | A1_hom | 0.5217391 | 0.9828640 |\n",
       "| XTRA_ETH | A1_hom | 0.5204216 | 0.9837435 |\n",
       "| XTRA_ETQ | A1_hom | 0.5191041 | 0.9819314 |\n",
       "\n"
      ],
      "text/plain": [
       "  Strain   Type   p         IBSwFocal\n",
       "1 AAM      A1_hom 0.9934124 1.0000000\n",
       "2 AFF      A1_hom 0.6007905 0.9898549\n",
       "3 XTRA_EJZ A1_hom 0.5322793 0.9832810\n",
       "4 XTRA_ETR A1_hom 0.5217391 0.9828640\n",
       "5 XTRA_ETH A1_hom 0.5204216 0.9837435\n",
       "6 XTRA_ETQ A1_hom 0.5191041 0.9819314"
      ]
     },
     "metadata": {},
     "output_type": "display_data"
    },
    {
     "data": {
      "image/png": "[encoded data removed]",
      "text/plain": [
       "plot without title"
      ]
     },
     "metadata": {
      "image/png": {
       "height": 420,
       "width": 420
      }
     },
     "output_type": "display_data"
    }
   ],
   "source": [
    "similarity_hom_calc<-vcf_translated_summary%>%filter(Type==\"A1_hom\")%>%arrange(-p)\n",
    "\n",
    "getIBS<-function(x){\n",
    "    # x = Strain\n",
    "    return(ibs_trd$ibs[id,which(read.gdsn(index.gdsn(genofile, \"sample.id\"))==x)])\n",
    "}\n",
    "\n",
    "similarity_hom_calc<-mutate(similarity_hom_calc, IBSwFocal=unlist(lapply(Strain, getIBS)))\n",
    "\n",
    "head(similarity_hom_calc)\n",
    "\n",
    "ggplot(similarity_hom_calc, aes(p,IBSwFocal))+\n",
    "geom_point()"
   ]
  },
  {
   "cell_type": "code",
   "execution_count": 33,
   "id": "2e3b4ad9-de1b-4d41-8b73-3d656545a11c",
   "metadata": {
    "tags": []
   },
   "outputs": [
    {
     "data": {
      "image/png": "[encoded data removed]",
      "text/plain": [
       "plot without title"
      ]
     },
     "metadata": {
      "image/png": {
       "height": 420,
       "width": 420
      }
     },
     "output_type": "display_data"
    }
   ],
   "source": [
    "plot(x_pca_trd, y_pca_trd)"
   ]
  }
 ],
 "metadata": {
  "kernelspec": {
   "display_name": "R",
   "language": "R",
   "name": "ir"
  },
  "language_info": {
   "codemirror_mode": "r",
   "file_extension": ".r",
   "mimetype": "text/x-r-source",
   "name": "R",
   "pygments_lexer": "r",
   "version": "4.1.1"
  }
 },
 "nbformat": 4,
 "nbformat_minor": 5
}

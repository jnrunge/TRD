{
 "cells": [
  {
   "cell_type": "markdown",
   "id": "6d8933d7-679c-42a1-8211-e049cc65b52b",
   "metadata": {},
   "source": [
    "because calculating random data takes long, here is a projection"
   ]
  },
  {
   "cell_type": "code",
   "execution_count": 24,
   "id": "b5b1d22d-4967-4c53-941e-70198a6dab3c",
   "metadata": {
    "tags": []
   },
   "outputs": [
    {
     "data": {
      "text/html": [
       "<table class=\"dataframe\">\n",
       "<caption>A tibble: 6 x 3</caption>\n",
       "<thead>\n",
       "\t<tr><th scope=col>file</th><th scope=col>mtime</th><th scope=col>count</th></tr>\n",
       "\t<tr><th scope=col>&lt;chr&gt;</th><th scope=col>&lt;dbl&gt;</th><th scope=col>&lt;int&gt;</th></tr>\n",
       "</thead>\n",
       "<tbody>\n",
       "\t<tr><td>/home/jnrunge/data/trd/local_phylogenies_random_data/local_phylogenies.1.RDS</td><td>1688045750</td><td>1</td></tr>\n",
       "\t<tr><td>/home/jnrunge/data/trd/local_phylogenies_random_data/local_phylogenies.2.RDS</td><td>1688045763</td><td>2</td></tr>\n",
       "\t<tr><td>/home/jnrunge/data/trd/local_phylogenies_random_data/local_phylogenies.4.RDS</td><td>1688045787</td><td>3</td></tr>\n",
       "\t<tr><td>/home/jnrunge/data/trd/local_phylogenies_random_data/local_phylogenies.3.RDS</td><td>1688045790</td><td>4</td></tr>\n",
       "\t<tr><td>/home/jnrunge/data/trd/local_phylogenies_random_data/local_phylogenies.5.RDS</td><td>1688045805</td><td>5</td></tr>\n",
       "\t<tr><td>/home/jnrunge/data/trd/local_phylogenies_random_data/local_phylogenies.7.RDS</td><td>1688045816</td><td>6</td></tr>\n",
       "</tbody>\n",
       "</table>\n"
      ],
      "text/latex": [
       "A tibble: 6 x 3\n",
       "\\begin{tabular}{lll}\n",
       " file & mtime & count\\\\\n",
       " <chr> & <dbl> & <int>\\\\\n",
       "\\hline\n",
       "\t /home/jnrunge/data/trd/local\\_phylogenies\\_random\\_data/local\\_phylogenies.1.RDS & 1688045750 & 1\\\\\n",
       "\t /home/jnrunge/data/trd/local\\_phylogenies\\_random\\_data/local\\_phylogenies.2.RDS & 1688045763 & 2\\\\\n",
       "\t /home/jnrunge/data/trd/local\\_phylogenies\\_random\\_data/local\\_phylogenies.4.RDS & 1688045787 & 3\\\\\n",
       "\t /home/jnrunge/data/trd/local\\_phylogenies\\_random\\_data/local\\_phylogenies.3.RDS & 1688045790 & 4\\\\\n",
       "\t /home/jnrunge/data/trd/local\\_phylogenies\\_random\\_data/local\\_phylogenies.5.RDS & 1688045805 & 5\\\\\n",
       "\t /home/jnrunge/data/trd/local\\_phylogenies\\_random\\_data/local\\_phylogenies.7.RDS & 1688045816 & 6\\\\\n",
       "\\end{tabular}\n"
      ],
      "text/markdown": [
       "\n",
       "A tibble: 6 x 3\n",
       "\n",
       "| file &lt;chr&gt; | mtime &lt;dbl&gt; | count &lt;int&gt; |\n",
       "|---|---|---|\n",
       "| /home/jnrunge/data/trd/local_phylogenies_random_data/local_phylogenies.1.RDS | 1688045750 | 1 |\n",
       "| /home/jnrunge/data/trd/local_phylogenies_random_data/local_phylogenies.2.RDS | 1688045763 | 2 |\n",
       "| /home/jnrunge/data/trd/local_phylogenies_random_data/local_phylogenies.4.RDS | 1688045787 | 3 |\n",
       "| /home/jnrunge/data/trd/local_phylogenies_random_data/local_phylogenies.3.RDS | 1688045790 | 4 |\n",
       "| /home/jnrunge/data/trd/local_phylogenies_random_data/local_phylogenies.5.RDS | 1688045805 | 5 |\n",
       "| /home/jnrunge/data/trd/local_phylogenies_random_data/local_phylogenies.7.RDS | 1688045816 | 6 |\n",
       "\n"
      ],
      "text/plain": [
       "  file                                                                        \n",
       "1 /home/jnrunge/data/trd/local_phylogenies_random_data/local_phylogenies.1.RDS\n",
       "2 /home/jnrunge/data/trd/local_phylogenies_random_data/local_phylogenies.2.RDS\n",
       "3 /home/jnrunge/data/trd/local_phylogenies_random_data/local_phylogenies.4.RDS\n",
       "4 /home/jnrunge/data/trd/local_phylogenies_random_data/local_phylogenies.3.RDS\n",
       "5 /home/jnrunge/data/trd/local_phylogenies_random_data/local_phylogenies.5.RDS\n",
       "6 /home/jnrunge/data/trd/local_phylogenies_random_data/local_phylogenies.7.RDS\n",
       "  mtime      count\n",
       "1 1688045750 1    \n",
       "2 1688045763 2    \n",
       "3 1688045787 3    \n",
       "4 1688045790 4    \n",
       "5 1688045805 5    \n",
       "6 1688045816 6    "
      ]
     },
     "metadata": {},
     "output_type": "display_data"
    }
   ],
   "source": [
    "library(tidyverse)\n",
    "files<-list.files(\"~/data/trd/local_phylogenies_random_data\",\"local_phylogenies\",full.names = TRUE)\n",
    "files_mtime<-file.mtime(files)\n",
    "\n",
    "files_df<-tibble(file=files, mtime=as.numeric(files_mtime))\n",
    "files_df<-arrange(files_df, mtime)\n",
    "files_df<-mutate(files_df, count=row_number())\n",
    "head(files_df)"
   ]
  },
  {
   "cell_type": "code",
   "execution_count": 63,
   "id": "ed0cb0d2-7d87-4ff2-90e8-77247f961289",
   "metadata": {
    "tags": []
   },
   "outputs": [
    {
     "data": {
      "text/html": [
       "<table class=\"dataframe\">\n",
       "<caption>A tibble: 6 x 2</caption>\n",
       "<thead>\n",
       "\t<tr><th scope=col>mtime</th><th scope=col>count</th></tr>\n",
       "\t<tr><th scope=col>&lt;dbl&gt;</th><th scope=col>&lt;int&gt;</th></tr>\n",
       "</thead>\n",
       "<tbody>\n",
       "\t<tr><td>1689777440</td><td>10910</td></tr>\n",
       "\t<tr><td>1689777512</td><td>10911</td></tr>\n",
       "\t<tr><td>1689777585</td><td>10912</td></tr>\n",
       "\t<tr><td>1689777657</td><td>10913</td></tr>\n",
       "\t<tr><td>1689777730</td><td>10914</td></tr>\n",
       "\t<tr><td>1689777802</td><td>10915</td></tr>\n",
       "</tbody>\n",
       "</table>\n"
      ],
      "text/latex": [
       "A tibble: 6 x 2\n",
       "\\begin{tabular}{ll}\n",
       " mtime & count\\\\\n",
       " <dbl> & <int>\\\\\n",
       "\\hline\n",
       "\t 1689777440 & 10910\\\\\n",
       "\t 1689777512 & 10911\\\\\n",
       "\t 1689777585 & 10912\\\\\n",
       "\t 1689777657 & 10913\\\\\n",
       "\t 1689777730 & 10914\\\\\n",
       "\t 1689777802 & 10915\\\\\n",
       "\\end{tabular}\n"
      ],
      "text/markdown": [
       "\n",
       "A tibble: 6 x 2\n",
       "\n",
       "| mtime &lt;dbl&gt; | count &lt;int&gt; |\n",
       "|---|---|\n",
       "| 1689777440 | 10910 |\n",
       "| 1689777512 | 10911 |\n",
       "| 1689777585 | 10912 |\n",
       "| 1689777657 | 10913 |\n",
       "| 1689777730 | 10914 |\n",
       "| 1689777802 | 10915 |\n",
       "\n"
      ],
      "text/plain": [
       "  mtime      count\n",
       "1 1689777440 10910\n",
       "2 1689777512 10911\n",
       "3 1689777585 10912\n",
       "4 1689777657 10913\n",
       "5 1689777730 10914\n",
       "6 1689777802 10915"
      ]
     },
     "metadata": {},
     "output_type": "display_data"
    },
    {
     "data": {
      "text/html": [
       "<table class=\"dataframe\">\n",
       "<caption>A tibble: 6 x 2</caption>\n",
       "<thead>\n",
       "\t<tr><th scope=col>mtime</th><th scope=col>count</th></tr>\n",
       "\t<tr><th scope=col>&lt;dbl&gt;</th><th scope=col>&lt;int&gt;</th></tr>\n",
       "</thead>\n",
       "<tbody>\n",
       "\t<tr><td>1691886680</td><td>39995</td></tr>\n",
       "\t<tr><td>1691886753</td><td>39996</td></tr>\n",
       "\t<tr><td>1691886825</td><td>39997</td></tr>\n",
       "\t<tr><td>1691886898</td><td>39998</td></tr>\n",
       "\t<tr><td>1691886970</td><td>39999</td></tr>\n",
       "\t<tr><td>1691887043</td><td>40000</td></tr>\n",
       "</tbody>\n",
       "</table>\n"
      ],
      "text/latex": [
       "A tibble: 6 x 2\n",
       "\\begin{tabular}{ll}\n",
       " mtime & count\\\\\n",
       " <dbl> & <int>\\\\\n",
       "\\hline\n",
       "\t 1691886680 & 39995\\\\\n",
       "\t 1691886753 & 39996\\\\\n",
       "\t 1691886825 & 39997\\\\\n",
       "\t 1691886898 & 39998\\\\\n",
       "\t 1691886970 & 39999\\\\\n",
       "\t 1691887043 & 40000\\\\\n",
       "\\end{tabular}\n"
      ],
      "text/markdown": [
       "\n",
       "A tibble: 6 x 2\n",
       "\n",
       "| mtime &lt;dbl&gt; | count &lt;int&gt; |\n",
       "|---|---|\n",
       "| 1691886680 | 39995 |\n",
       "| 1691886753 | 39996 |\n",
       "| 1691886825 | 39997 |\n",
       "| 1691886898 | 39998 |\n",
       "| 1691886970 | 39999 |\n",
       "| 1691887043 | 40000 |\n",
       "\n"
      ],
      "text/plain": [
       "  mtime      count\n",
       "1 1691886680 39995\n",
       "2 1691886753 39996\n",
       "3 1691886825 39997\n",
       "4 1691886898 39998\n",
       "5 1691886970 39999\n",
       "6 1691887043 40000"
      ]
     },
     "metadata": {},
     "output_type": "display_data"
    }
   ],
   "source": [
    "# projection based on latest data\n",
    "progress_at_the_moment<-as.numeric(lm(mtime~count,files_df%>%slice_tail(n=100))$coefficients[\"count\"])\n",
    "projection<-tibble(\n",
    "    mtime=max(pull(files_df,mtime))+((seq(from=max(pull(files_df,count)),to=40000)-max(pull(files_df,count)))*progress_at_the_moment),\n",
    "    count=seq(from=max(pull(files_df,count)),to=40000))\n",
    "head(projection)\n",
    "tail(projection)"
   ]
  },
  {
   "cell_type": "code",
   "execution_count": 65,
   "id": "e246f174-187e-42a1-a0b6-924c6741b4c7",
   "metadata": {
    "tags": []
   },
   "outputs": [],
   "source": [
    "files_df<-mutate(files_df, mtime=as.POSIXct(mtime, origin=\"1970-01-01\"))\n",
    "projection<-mutate(projection, mtime=as.POSIXct(mtime, origin=\"1970-01-01\"))"
   ]
  },
  {
   "cell_type": "code",
   "execution_count": 66,
   "id": "b99fe523-272c-4ab8-a337-acf50909731a",
   "metadata": {
    "tags": []
   },
   "outputs": [
    {
     "data": {
      "image/png": "[encoded data removed]",
      "text/plain": [
       "plot without title"
      ]
     },
     "metadata": {
      "image/png": {
       "height": 420,
       "width": 420
      }
     },
     "output_type": "display_data"
    }
   ],
   "source": [
    "library(ggplot2)\n",
    "ggplot(files_df, aes(mtime, count))+\n",
    "geom_line()+geom_hline(yintercept=40000,color=\"red\")+\n",
    "geom_line(data=projection, linetype=\"dashed\")"
   ]
  }
 ],
 "metadata": {
  "kernelspec": {
   "display_name": "R",
   "language": "R",
   "name": "ir"
  },
  "language_info": {
   "codemirror_mode": "r",
   "file_extension": ".r",
   "mimetype": "text/x-r-source",
   "name": "R",
   "pygments_lexer": "r",
   "version": "4.1.3"
  }
 },
 "nbformat": 4,
 "nbformat_minor": 5
}

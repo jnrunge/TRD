{
 "cells": [
  {
   "cell_type": "markdown",
   "id": "2c341935-c436-4ef8-92d7-b407d0cad547",
   "metadata": {},
   "source": [
    "What now?\n",
    "\n",
    "We create two tables with the following data:\n",
    "\n",
    "# Table 1\n",
    "- Based on basic data in `~/data/trd/crosses_info.csv`, we want to know \n",
    "    - number of loci with\n",
    "        - TRD\n",
    "        - of these\n",
    "            - positive, negative outlier\n",
    "                - pi\n",
    "                - fst\n",
    "                - dxy\n",
    "                - LD\n",
    "                - local phylogeny data\n",
    "                - dn/ds\n",
    "            - SVs\n",
    "                - for each SV type, count of loci that overlap with these\n",
    "            - repetitive elements\n",
    "                - % region in rep. bp\n",
    "\n",
    "# Table 2\n",
    "- All individual TRD loci data, with per locus\n",
    "    - percentile values for\n",
    "        - pi\n",
    "        - fst\n",
    "        - dxy\n",
    "        - LD\n",
    "        - local phylogeny data\n",
    "        - dn/ds\n",
    "    - SVs, each type\n",
    "        - % of loci overlapping with called SV\n",
    "    - rep elements, each type\n",
    "        - % locus"
   ]
  }
 ],
 "metadata": {
  "kernelspec": {
   "display_name": "R",
   "language": "R",
   "name": "ir"
  },
  "language_info": {
   "codemirror_mode": "r",
   "file_extension": ".r",
   "mimetype": "text/x-r-source",
   "name": "R",
   "pygments_lexer": "r",
   "version": "4.1.3"
  }
 },
 "nbformat": 4,
 "nbformat_minor": 5
}

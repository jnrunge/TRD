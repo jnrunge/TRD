{
 "cells": [
  {
   "cell_type": "markdown",
   "id": "2c341935-c436-4ef8-92d7-b407d0cad547",
   "metadata": {},
   "source": [
    "What now?\n",
    "\n",
    "We create two tables with the following data:\n",
    "\n",
    "# Table 1\n",
    "- Based on basic data in `~/data/trd/crosses_info.csv`, we want to know \n",
    "    - number of loci with\n",
    "        - TRD\n",
    "        - of these\n",
    "            - positive, negative outlier\n",
    "                - pi\n",
    "                - fst\n",
    "                - dxy\n",
    "                - LD\n",
    "                - local phylogeny data\n",
    "                - dn/ds\n",
    "            - SVs\n",
    "                - for each SV type, count of loci that overlap with these\n",
    "            - repetitive elements\n",
    "                - % region in rep. bp\n",
    "\n",
    "# Table 2\n",
    "- All individual TRD loci data, with per locus\n",
    "    - percentile values for\n",
    "        - pi\n",
    "        - fst\n",
    "        - dxy\n",
    "        - LD\n",
    "        - local phylogeny data\n",
    "        - dn/ds\n",
    "    - SVs, each type\n",
    "        - % of loci overlapping with called SV\n",
    "    - rep elements, each type\n",
    "        - % locus"
   ]
  },
  {
   "cell_type": "markdown",
   "id": "a87bd902-575c-46e8-8b02-464c33e74283",
   "metadata": {},
   "source": [
    "After creating those tables, we should also create a PDF report for each region.\n",
    "\n",
    "---\n",
    "title: \"Analysis of Genome Region\"\n",
    "output: pdf_document\n",
    "---\n",
    "\n",
    "## Introduction\n",
    "\n",
    "This is a report on the analysis of genome region `r region_name`.\n",
    "\n",
    "## Histogram of Variable\n",
    "\n",
    "```{r}\n",
    "ggplot(data, aes(x = variable)) +\n",
    "  geom_histogram() +\n",
    "  labs(title = paste(\"Histogram of\", variable)) +\n",
    "  theme_minimal()\n",
    "\n",
    "\n",
    "\n",
    "rmarkdown::render(\"path/to/your/file.Rmd\", params = list(region_name = region_name))\n",
    "````"
   ]
  }
 ],
 "metadata": {
  "kernelspec": {
   "display_name": "R",
   "language": "R",
   "name": "ir"
  },
  "language_info": {
   "codemirror_mode": "r",
   "file_extension": ".r",
   "mimetype": "text/x-r-source",
   "name": "R",
   "pygments_lexer": "r",
   "version": "4.1.3"
  }
 },
 "nbformat": 4,
 "nbformat_minor": 5
}

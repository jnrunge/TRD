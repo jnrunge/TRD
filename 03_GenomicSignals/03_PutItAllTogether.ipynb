{
 "cells": [
  {
   "cell_type": "markdown",
   "id": "2c341935-c436-4ef8-92d7-b407d0cad547",
   "metadata": {},
   "source": [
    "What now?\n",
    "\n",
    "We create two tables with the following data:\n",
    "\n",
    "# Table 1\n",
    "- Based on basic data in `~/data/trd/crosses_info.csv`, we want to know \n",
    "    - number of loci with\n",
    "        - TRD\n",
    "        - of these\n",
    "            - positive, negative outlier\n",
    "                - pi\n",
    "                - fst\n",
    "                - dxy\n",
    "                - LD\n",
    "                - local phylogeny data\n",
    "                - dn/ds\n",
    "            - SVs\n",
    "                - for each SV type, count of loci that overlap with these\n",
    "            - repetitive elements\n",
    "                - % region in rep. bp\n",
    "\n",
    "# Table 2\n",
    "- All individual TRD loci data, with per locus\n",
    "    - percentile values for\n",
    "        - pi\n",
    "        - fst\n",
    "        - dxy\n",
    "        - LD\n",
    "        - local phylogeny data\n",
    "        - dn/ds\n",
    "    - SVs, each type\n",
    "        - % of loci overlapping with called SV\n",
    "    - rep elements, each type\n",
    "        - % locus"
   ]
  },
  {
   "cell_type": "code",
   "execution_count": 2,
   "id": "6208d992-1a99-4964-b40a-3faa476c2013",
   "metadata": {
    "tags": []
   },
   "outputs": [
    {
     "name": "stderr",
     "output_type": "stream",
     "text": [
      "\n",
      "Attaching package: 'tidytable'\n",
      "\n",
      "\n",
      "The following objects are masked from 'package:stats':\n",
      "\n",
      "    dt, filter, lag\n",
      "\n",
      "\n",
      "The following object is masked from 'package:base':\n",
      "\n",
      "    %in%\n",
      "\n",
      "\n"
     ]
    }
   ],
   "source": [
    "library(tidytable)"
   ]
  },
  {
   "cell_type": "code",
   "execution_count": 3,
   "id": "a33d492e-17e0-4d37-890b-df98b9ec0a89",
   "metadata": {
    "tags": []
   },
   "outputs": [
    {
     "data": {
      "text/html": [
       "<table class=\"dataframe\">\n",
       "<caption>A grouped_tt: 6 x 5</caption>\n",
       "<thead>\n",
       "\t<tr><th scope=col>cross</th><th scope=col>ID</th><th scope=col>TYPE</th><th scope=col>source</th><th scope=col>sum_LEN_rel</th></tr>\n",
       "\t<tr><th scope=col>&lt;chr&gt;</th><th scope=col>&lt;int&gt;</th><th scope=col>&lt;chr&gt;</th><th scope=col>&lt;chr&gt;</th><th scope=col>&lt;dbl&gt;</th></tr>\n",
       "</thead>\n",
       "<tbody>\n",
       "\t<tr><td>ChrisC4</td><td>2</td><td>CPG</td><td>Syri    </td><td>0.0002838751</td></tr>\n",
       "\t<tr><td>ChrisC4</td><td>2</td><td>CPL</td><td>Syri    </td><td>0.0021584739</td></tr>\n",
       "\t<tr><td>ChrisC4</td><td>2</td><td>DEL</td><td>Syri    </td><td>0.0015319027</td></tr>\n",
       "\t<tr><td>ChrisC4</td><td>2</td><td>DEL</td><td>VictorSV</td><td>0.0144085807</td></tr>\n",
       "\t<tr><td>ChrisC4</td><td>2</td><td>DUP</td><td>Syri    </td><td>0.0073679661</td></tr>\n",
       "\t<tr><td>ChrisC4</td><td>2</td><td>DUP</td><td>VictorSV</td><td>0.0012480276</td></tr>\n",
       "</tbody>\n",
       "</table>\n"
      ],
      "text/latex": [
       "A grouped\\_tt: 6 x 5\n",
       "\\begin{tabular}{lllll}\n",
       " cross & ID & TYPE & source & sum\\_LEN\\_rel\\\\\n",
       " <chr> & <int> & <chr> & <chr> & <dbl>\\\\\n",
       "\\hline\n",
       "\t ChrisC4 & 2 & CPG & Syri     & 0.0002838751\\\\\n",
       "\t ChrisC4 & 2 & CPL & Syri     & 0.0021584739\\\\\n",
       "\t ChrisC4 & 2 & DEL & Syri     & 0.0015319027\\\\\n",
       "\t ChrisC4 & 2 & DEL & VictorSV & 0.0144085807\\\\\n",
       "\t ChrisC4 & 2 & DUP & Syri     & 0.0073679661\\\\\n",
       "\t ChrisC4 & 2 & DUP & VictorSV & 0.0012480276\\\\\n",
       "\\end{tabular}\n"
      ],
      "text/markdown": [
       "\n",
       "A grouped_tt: 6 x 5\n",
       "\n",
       "| cross &lt;chr&gt; | ID &lt;int&gt; | TYPE &lt;chr&gt; | source &lt;chr&gt; | sum_LEN_rel &lt;dbl&gt; |\n",
       "|---|---|---|---|---|\n",
       "| ChrisC4 | 2 | CPG | Syri     | 0.0002838751 |\n",
       "| ChrisC4 | 2 | CPL | Syri     | 0.0021584739 |\n",
       "| ChrisC4 | 2 | DEL | Syri     | 0.0015319027 |\n",
       "| ChrisC4 | 2 | DEL | VictorSV | 0.0144085807 |\n",
       "| ChrisC4 | 2 | DUP | Syri     | 0.0073679661 |\n",
       "| ChrisC4 | 2 | DUP | VictorSV | 0.0012480276 |\n",
       "\n"
      ],
      "text/plain": [
       "  cross   ID TYPE source   sum_LEN_rel \n",
       "1 ChrisC4 2  CPG  Syri     0.0002838751\n",
       "2 ChrisC4 2  CPL  Syri     0.0021584739\n",
       "3 ChrisC4 2  DEL  Syri     0.0015319027\n",
       "4 ChrisC4 2  DEL  VictorSV 0.0144085807\n",
       "5 ChrisC4 2  DUP  Syri     0.0073679661\n",
       "6 ChrisC4 2  DUP  VictorSV 0.0012480276"
      ]
     },
     "metadata": {},
     "output_type": "display_data"
    }
   ],
   "source": [
    "# merge data from the different analysis to a per-TRD-locus table\n",
    "\n",
    "# local phylogeny\n",
    "\n",
    "LP_file<-\"/home/jnrunge/data/trd/local_phylogenies_trd_analysis/TRD_regions_with_LP_data.csv.gz\"\n",
    "One_Table<-fread(LP_file)\n",
    "\n",
    "\n",
    "# SVs\n",
    "\n",
    "SV_files<-list.files(\"/home/jnrunge/data/trd/SV_analysis\",\n",
    "                    \"SV_data.RDS$\", full.names=TRUE)\n",
    "SV_data<-data.table()\n",
    "for(f in SV_files){\n",
    "    SV_data<-bind_rows(SV_data, readRDS(f))\n",
    "}\n",
    "SV_data_summary<-SV_data%>%filter(!is.na(TYPE))%>%\n",
    "group_by(cross,ID,TYPE,source)%>%summarize(sum_LEN_rel=sum(LEN_rel))\n",
    "\n",
    "head(SV_data_summary)"
   ]
  },
  {
   "cell_type": "code",
   "execution_count": 25,
   "id": "4707378e-9c3e-497c-9feb-fe9ddf8f81a9",
   "metadata": {
    "tags": []
   },
   "outputs": [
    {
     "data": {
      "text/html": [
       "<table class=\"dataframe\">\n",
       "<caption>A tidytable: 6 x 19</caption>\n",
       "<thead>\n",
       "\t<tr><th scope=col>ID</th><th scope=col>lengthSNPs</th><th scope=col>chr</th><th scope=col>global_start</th><th scope=col>global_end</th><th scope=col>lengthBp</th><th scope=col>cross</th><th scope=col>start</th><th scope=col>end</th><th scope=col>PCA_eucldist_quantile_1</th><th scope=col>PCA_eucldist_sd_multiplier_1</th><th scope=col>IBS_eucldist_quantile_1</th><th scope=col>IBS_eucldist_sd_multiplier_1</th><th scope=col>tree_changes_quantile</th><th scope=col>tree_changes_sd_multiplier</th><th scope=col>PCA_eucldist_quantile_2</th><th scope=col>PCA_eucldist_sd_multiplier_2</th><th scope=col>IBS_eucldist_quantile_2</th><th scope=col>IBS_eucldist_sd_multiplier_2</th></tr>\n",
       "\t<tr><th scope=col>&lt;int&gt;</th><th scope=col>&lt;int&gt;</th><th scope=col>&lt;chr&gt;</th><th scope=col>&lt;int&gt;</th><th scope=col>&lt;int&gt;</th><th scope=col>&lt;int&gt;</th><th scope=col>&lt;chr&gt;</th><th scope=col>&lt;int&gt;</th><th scope=col>&lt;int&gt;</th><th scope=col>&lt;dbl&gt;</th><th scope=col>&lt;dbl&gt;</th><th scope=col>&lt;dbl&gt;</th><th scope=col>&lt;dbl&gt;</th><th scope=col>&lt;dbl&gt;</th><th scope=col>&lt;dbl&gt;</th><th scope=col>&lt;dbl&gt;</th><th scope=col>&lt;dbl&gt;</th><th scope=col>&lt;dbl&gt;</th><th scope=col>&lt;dbl&gt;</th></tr>\n",
       "</thead>\n",
       "<tbody>\n",
       "\t<tr><td> 1</td><td> 155</td><td>chromosome2 </td><td>  668344</td><td>  790905</td><td>122561</td><td>ChrisC1</td><td>444778</td><td>567339</td><td>0.2969131</td><td>-0.2684897</td><td>0.7760687</td><td> 0.13054090</td><td>0.002613891</td><td>-1.064328</td><td>0.3706375</td><td>-0.2958096</td><td>0.7552774</td><td> 0.21832468</td></tr>\n",
       "\t<tr><td> 9</td><td> 206</td><td>chromosome14</td><td> 9398197</td><td> 9591625</td><td>193428</td><td>ChrisC1</td><td>224256</td><td>417684</td><td>0.3225841</td><td>-0.2627496</td><td>0.4929458</td><td>-0.13252233</td><td>0.000000000</td><td>-1.363081</td><td>0.2661504</td><td>-0.3312193</td><td>0.4711997</td><td>-0.17939273</td></tr>\n",
       "\t<tr><td>13</td><td> 815</td><td>chromosome15</td><td>10015850</td><td>10580994</td><td>565144</td><td>ChrisC1</td><td> 66814</td><td>631958</td><td>0.6407128</td><td>-0.1538972</td><td>0.5699586</td><td>-0.07256862</td><td>0.000000000</td><td>-2.162405</td><td>0.6559881</td><td>-0.1596002</td><td>0.5550016</td><td>-0.08543913</td></tr>\n",
       "\t<tr><td>14</td><td> 235</td><td>chromosome16</td><td>11462227</td><td>11683028</td><td>220801</td><td>ChrisC1</td><td>429498</td><td>650299</td><td>0.4783070</td><td>-0.2221963</td><td>0.6000849</td><td>-0.04848805</td><td>0.000000000</td><td>-1.508294</td><td>0.5172377</td><td>-0.2397347</td><td>0.6371062</td><td> 0.01428794</td></tr>\n",
       "\t<tr><td> 4</td><td>2603</td><td>chromosome5 </td><td> 2944974</td><td> 3258307</td><td>313333</td><td>ChrisC3</td><td> 65081</td><td>378414</td><td>0.7185743</td><td>-0.1962318</td><td>0.4565609</td><td>-0.24634727</td><td>0.000000000</td><td>-1.622491</td><td>0.8709027</td><td> 1.3968420</td><td>0.8402461</td><td> 0.48016916</td></tr>\n",
       "\t<tr><td>11</td><td> 901</td><td>chromosome11</td><td> 6549018</td><td> 6720267</td><td>171249</td><td>ChrisC3</td><td> 18001</td><td>189250</td><td>0.1547682</td><td>-0.3987494</td><td>0.5707012</td><td>-0.08650142</td><td>0.000000000</td><td>-1.294373</td><td>0.2846080</td><td>-0.4131060</td><td>0.6197093</td><td>-0.33877109</td></tr>\n",
       "</tbody>\n",
       "</table>\n"
      ],
      "text/latex": [
       "A tidytable: 6 x 19\n",
       "\\begin{tabular}{lllllllllllllllllll}\n",
       " ID & lengthSNPs & chr & global\\_start & global\\_end & lengthBp & cross & start & end & PCA\\_eucldist\\_quantile\\_1 & PCA\\_eucldist\\_sd\\_multiplier\\_1 & IBS\\_eucldist\\_quantile\\_1 & IBS\\_eucldist\\_sd\\_multiplier\\_1 & tree\\_changes\\_quantile & tree\\_changes\\_sd\\_multiplier & PCA\\_eucldist\\_quantile\\_2 & PCA\\_eucldist\\_sd\\_multiplier\\_2 & IBS\\_eucldist\\_quantile\\_2 & IBS\\_eucldist\\_sd\\_multiplier\\_2\\\\\n",
       " <int> & <int> & <chr> & <int> & <int> & <int> & <chr> & <int> & <int> & <dbl> & <dbl> & <dbl> & <dbl> & <dbl> & <dbl> & <dbl> & <dbl> & <dbl> & <dbl>\\\\\n",
       "\\hline\n",
       "\t  1 &  155 & chromosome2  &   668344 &   790905 & 122561 & ChrisC1 & 444778 & 567339 & 0.2969131 & -0.2684897 & 0.7760687 &  0.13054090 & 0.002613891 & -1.064328 & 0.3706375 & -0.2958096 & 0.7552774 &  0.21832468\\\\\n",
       "\t  9 &  206 & chromosome14 &  9398197 &  9591625 & 193428 & ChrisC1 & 224256 & 417684 & 0.3225841 & -0.2627496 & 0.4929458 & -0.13252233 & 0.000000000 & -1.363081 & 0.2661504 & -0.3312193 & 0.4711997 & -0.17939273\\\\\n",
       "\t 13 &  815 & chromosome15 & 10015850 & 10580994 & 565144 & ChrisC1 &  66814 & 631958 & 0.6407128 & -0.1538972 & 0.5699586 & -0.07256862 & 0.000000000 & -2.162405 & 0.6559881 & -0.1596002 & 0.5550016 & -0.08543913\\\\\n",
       "\t 14 &  235 & chromosome16 & 11462227 & 11683028 & 220801 & ChrisC1 & 429498 & 650299 & 0.4783070 & -0.2221963 & 0.6000849 & -0.04848805 & 0.000000000 & -1.508294 & 0.5172377 & -0.2397347 & 0.6371062 &  0.01428794\\\\\n",
       "\t  4 & 2603 & chromosome5  &  2944974 &  3258307 & 313333 & ChrisC3 &  65081 & 378414 & 0.7185743 & -0.1962318 & 0.4565609 & -0.24634727 & 0.000000000 & -1.622491 & 0.8709027 &  1.3968420 & 0.8402461 &  0.48016916\\\\\n",
       "\t 11 &  901 & chromosome11 &  6549018 &  6720267 & 171249 & ChrisC3 &  18001 & 189250 & 0.1547682 & -0.3987494 & 0.5707012 & -0.08650142 & 0.000000000 & -1.294373 & 0.2846080 & -0.4131060 & 0.6197093 & -0.33877109\\\\\n",
       "\\end{tabular}\n"
      ],
      "text/markdown": [
       "\n",
       "A tidytable: 6 x 19\n",
       "\n",
       "| ID &lt;int&gt; | lengthSNPs &lt;int&gt; | chr &lt;chr&gt; | global_start &lt;int&gt; | global_end &lt;int&gt; | lengthBp &lt;int&gt; | cross &lt;chr&gt; | start &lt;int&gt; | end &lt;int&gt; | PCA_eucldist_quantile_1 &lt;dbl&gt; | PCA_eucldist_sd_multiplier_1 &lt;dbl&gt; | IBS_eucldist_quantile_1 &lt;dbl&gt; | IBS_eucldist_sd_multiplier_1 &lt;dbl&gt; | tree_changes_quantile &lt;dbl&gt; | tree_changes_sd_multiplier &lt;dbl&gt; | PCA_eucldist_quantile_2 &lt;dbl&gt; | PCA_eucldist_sd_multiplier_2 &lt;dbl&gt; | IBS_eucldist_quantile_2 &lt;dbl&gt; | IBS_eucldist_sd_multiplier_2 &lt;dbl&gt; |\n",
       "|---|---|---|---|---|---|---|---|---|---|---|---|---|---|---|---|---|---|---|\n",
       "|  1 |  155 | chromosome2  |   668344 |   790905 | 122561 | ChrisC1 | 444778 | 567339 | 0.2969131 | -0.2684897 | 0.7760687 |  0.13054090 | 0.002613891 | -1.064328 | 0.3706375 | -0.2958096 | 0.7552774 |  0.21832468 |\n",
       "|  9 |  206 | chromosome14 |  9398197 |  9591625 | 193428 | ChrisC1 | 224256 | 417684 | 0.3225841 | -0.2627496 | 0.4929458 | -0.13252233 | 0.000000000 | -1.363081 | 0.2661504 | -0.3312193 | 0.4711997 | -0.17939273 |\n",
       "| 13 |  815 | chromosome15 | 10015850 | 10580994 | 565144 | ChrisC1 |  66814 | 631958 | 0.6407128 | -0.1538972 | 0.5699586 | -0.07256862 | 0.000000000 | -2.162405 | 0.6559881 | -0.1596002 | 0.5550016 | -0.08543913 |\n",
       "| 14 |  235 | chromosome16 | 11462227 | 11683028 | 220801 | ChrisC1 | 429498 | 650299 | 0.4783070 | -0.2221963 | 0.6000849 | -0.04848805 | 0.000000000 | -1.508294 | 0.5172377 | -0.2397347 | 0.6371062 |  0.01428794 |\n",
       "|  4 | 2603 | chromosome5  |  2944974 |  3258307 | 313333 | ChrisC3 |  65081 | 378414 | 0.7185743 | -0.1962318 | 0.4565609 | -0.24634727 | 0.000000000 | -1.622491 | 0.8709027 |  1.3968420 | 0.8402461 |  0.48016916 |\n",
       "| 11 |  901 | chromosome11 |  6549018 |  6720267 | 171249 | ChrisC3 |  18001 | 189250 | 0.1547682 | -0.3987494 | 0.5707012 | -0.08650142 | 0.000000000 | -1.294373 | 0.2846080 | -0.4131060 | 0.6197093 | -0.33877109 |\n",
       "\n"
      ],
      "text/plain": [
       "  ID lengthSNPs chr          global_start global_end lengthBp cross   start \n",
       "1  1  155       chromosome2    668344       790905   122561   ChrisC1 444778\n",
       "2  9  206       chromosome14  9398197      9591625   193428   ChrisC1 224256\n",
       "3 13  815       chromosome15 10015850     10580994   565144   ChrisC1  66814\n",
       "4 14  235       chromosome16 11462227     11683028   220801   ChrisC1 429498\n",
       "5  4 2603       chromosome5   2944974      3258307   313333   ChrisC3  65081\n",
       "6 11  901       chromosome11  6549018      6720267   171249   ChrisC3  18001\n",
       "  end    PCA_eucldist_quantile_1 PCA_eucldist_sd_multiplier_1\n",
       "1 567339 0.2969131               -0.2684897                  \n",
       "2 417684 0.3225841               -0.2627496                  \n",
       "3 631958 0.6407128               -0.1538972                  \n",
       "4 650299 0.4783070               -0.2221963                  \n",
       "5 378414 0.7185743               -0.1962318                  \n",
       "6 189250 0.1547682               -0.3987494                  \n",
       "  IBS_eucldist_quantile_1 IBS_eucldist_sd_multiplier_1 tree_changes_quantile\n",
       "1 0.7760687                0.13054090                  0.002613891          \n",
       "2 0.4929458               -0.13252233                  0.000000000          \n",
       "3 0.5699586               -0.07256862                  0.000000000          \n",
       "4 0.6000849               -0.04848805                  0.000000000          \n",
       "5 0.4565609               -0.24634727                  0.000000000          \n",
       "6 0.5707012               -0.08650142                  0.000000000          \n",
       "  tree_changes_sd_multiplier PCA_eucldist_quantile_2\n",
       "1 -1.064328                  0.3706375              \n",
       "2 -1.363081                  0.2661504              \n",
       "3 -2.162405                  0.6559881              \n",
       "4 -1.508294                  0.5172377              \n",
       "5 -1.622491                  0.8709027              \n",
       "6 -1.294373                  0.2846080              \n",
       "  PCA_eucldist_sd_multiplier_2 IBS_eucldist_quantile_2\n",
       "1 -0.2958096                   0.7552774              \n",
       "2 -0.3312193                   0.4711997              \n",
       "3 -0.1596002                   0.5550016              \n",
       "4 -0.2397347                   0.6371062              \n",
       "5  1.3968420                   0.8402461              \n",
       "6 -0.4131060                   0.6197093              \n",
       "  IBS_eucldist_sd_multiplier_2\n",
       "1  0.21832468                 \n",
       "2 -0.17939273                 \n",
       "3 -0.08543913                 \n",
       "4  0.01428794                 \n",
       "5  0.48016916                 \n",
       "6 -0.33877109                 "
      ]
     },
     "metadata": {},
     "output_type": "display_data"
    }
   ],
   "source": [
    "head(One_Table)"
   ]
  },
  {
   "cell_type": "code",
   "execution_count": 33,
   "id": "2fbb1819-e7bb-4d56-a084-0dcf6f8aa921",
   "metadata": {
    "tags": []
   },
   "outputs": [
    {
     "data": {
      "image/png": "[encoded data removed]",
      "text/plain": [
       "Plot with title \"Histogram of pull(One_Table, AF)\""
      ]
     },
     "metadata": {
      "image/png": {
       "height": 180,
       "width": 600
      }
     },
     "output_type": "display_data"
    }
   ],
   "source": [
    "# we need to know which direction the distortion is and how strong it is\n",
    "# to distinguish different cases\n",
    "\n",
    "# just add AF to all TRD regions\n",
    "\n",
    "One_Table<-mutate(One_Table, AF=NA)\n",
    "\n",
    "for(i in 1:nrow(One_Table)){\n",
    "    OT_slice<-slice(One_Table, i)\n",
    "    AF_file<-paste0(\"/home/jnrunge/data/TRD/results/shiny/\",pull(OT_slice, cross),\"-AF.csv.gz\")\n",
    "    AF<-fread(AF_file)\n",
    "    AF<-filter(AF, chr==pull(OT_slice,chr) & global_pos >= pull(OT_slice, global_start) & global_pos <= pull(OT_slice, global_end))\n",
    "    AF_value<-mean(pull(AF,AD_A1)/pull(AF,sumCount))\n",
    "    One_Table<-mutate(One_Table, AF=ifelse(ID==pull(OT_slice,ID) & cross == pull(OT_slice, cross),\n",
    "                                           AF_value, AF))\n",
    "}\n",
    "\n",
    "hist(pull(One_Table, AF))"
   ]
  },
  {
   "cell_type": "code",
   "execution_count": 34,
   "id": "db9a596b-3650-4dc5-8e38-96e0a41495a0",
   "metadata": {
    "tags": []
   },
   "outputs": [],
   "source": [
    "One_Table<-mutate(One_Table, Distorter=ifelse(AF>0.5,\"1\",\"2\"))"
   ]
  },
  {
   "cell_type": "code",
   "execution_count": 8,
   "id": "6d652fe2-6b44-4901-9310-0910f8f099fe",
   "metadata": {
    "tags": []
   },
   "outputs": [
    {
     "data": {
      "text/plain": [
       "    cross                 ID             TYPE              source         \n",
       " Length:233         Min.   : 1.000   Length:233         Length:233        \n",
       " Class :character   1st Qu.: 2.000   Class :character   Class :character  \n",
       " Mode  :character   Median : 4.000   Mode  :character   Mode  :character  \n",
       "                    Mean   : 7.957                                        \n",
       "                    3rd Qu.: 7.000                                        \n",
       "                    Max.   :64.000                                        \n",
       "  sum_LEN_rel        \n",
       " Min.   :-0.0000592  \n",
       " 1st Qu.: 0.0010659  \n",
       " Median : 0.0026474  \n",
       " Mean   : 0.0770976  \n",
       " 3rd Qu.: 0.0107215  \n",
       " Max.   : 1.6582373  "
      ]
     },
     "metadata": {},
     "output_type": "display_data"
    }
   ],
   "source": [
    "summary(SV_data_summary)"
   ]
  },
  {
   "cell_type": "code",
   "execution_count": 10,
   "id": "4098e27b-aa98-43f5-885d-27734ea6f2bb",
   "metadata": {
    "tags": []
   },
   "outputs": [
    {
     "name": "stderr",
     "output_type": "stream",
     "text": [
      "\u001b[1m\u001b[22m`stat_bin()` using `bins = 30`. Pick better value with `binwidth`.\n"
     ]
    },
    {
     "data": {
      "image/png": "[encoded data removed]",
      "text/plain": [
       "plot without title"
      ]
     },
     "metadata": {
      "image/png": {
       "height": 420,
       "width": 420
      }
     },
     "output_type": "display_data"
    }
   ],
   "source": [
    "library(ggplot2)\n",
    "ggplot(SV_data_summary%>%filter(sum_LEN_rel>=0.01), aes(sum_LEN_rel, fill=TYPE))+\n",
    "geom_histogram()+\n",
    "facet_wrap(~source)+#+scale_y_log10()\n",
    "theme_bw(18)+\n",
    "xlab(\"Relative overlap of TRD region with SV\")"
   ]
  },
  {
   "cell_type": "code",
   "execution_count": 47,
   "id": "86d9a284-7215-4433-a4b4-c594574acc7e",
   "metadata": {
    "tags": []
   },
   "outputs": [
    {
     "data": {
      "text/plain": [
       "       ID          lengthSNPs         chr             global_start     \n",
       " Min.   : 1.00   Min.   : 106.0   Length:118         Min.   :   81442  \n",
       " 1st Qu.: 3.00   1st Qu.: 230.8   Class :character   1st Qu.: 3137850  \n",
       " Median : 6.00   Median : 424.0   Mode  :character   Median : 6695870  \n",
       " Mean   :10.55   Mean   : 703.8                      Mean   : 6342821  \n",
       " 3rd Qu.:13.00   3rd Qu.: 800.0                      3rd Qu.: 9451744  \n",
       " Max.   :64.00   Max.   :9553.0                      Max.   :11572861  \n",
       "                                                                       \n",
       "   global_end          lengthBp         cross               start        \n",
       " Min.   :  193807   Min.   : 50061   Length:118         Min.   :   2865  \n",
       " 1st Qu.: 3292261   1st Qu.:100633   Class :character   1st Qu.:  65696  \n",
       " Median : 6823260   Median :160398   Mode  :character   Median : 260327  \n",
       " Mean   : 6551766   Mean   :208944                      Mean   : 306130  \n",
       " 3rd Qu.: 9697528   3rd Qu.:277874                      3rd Qu.: 444778  \n",
       " Max.   :11984942   Max.   :927815                      Max.   :1388440  \n",
       "                                                        NA's   :1        \n",
       "      end          PCA_eucldist_quantile_1 PCA_eucldist_sd_multiplier_1\n",
       " Min.   :  76768   Min.   :0.01029         Min.   :-1.043928           \n",
       " 1st Qu.: 307416   1st Qu.:0.38093         1st Qu.:-0.369164           \n",
       " Median : 468422   Median :0.53867         Median :-0.244852           \n",
       " Mean   : 516198   Mean   :0.55569         Mean   : 0.072620           \n",
       " 3rd Qu.: 631958   3rd Qu.:0.77777         3rd Qu.: 0.005129           \n",
       " Max.   :1522984   Max.   :0.99427         Max.   : 4.596958           \n",
       " NA's   :1         NA's   :1               NA's   :1                   \n",
       " IBS_eucldist_quantile_1 IBS_eucldist_sd_multiplier_1 tree_changes_quantile\n",
       " Min.   :0.002228        Min.   :-1.54646             Min.   :0.000000     \n",
       " 1st Qu.:0.378063        1st Qu.:-0.38277             1st Qu.:0.000000     \n",
       " Median :0.549698        Median :-0.02403             Median :0.004108     \n",
       " Mean   :0.555269        Mean   : 0.15977             Mean   :0.155068     \n",
       " 3rd Qu.:0.758460        3rd Qu.: 0.49465             3rd Qu.:0.165795     \n",
       " Max.   :0.996181        Max.   : 5.34623             Max.   :0.970874     \n",
       " NA's   :1               NA's   :1                    NA's   :1            \n",
       " tree_changes_sd_multiplier PCA_eucldist_quantile_2\n",
       " Min.   :-2.6650            Min.   :0.009229       \n",
       " 1st Qu.:-1.4996            1st Qu.:0.350270       \n",
       " Median :-1.0276            Median :0.554471       \n",
       " Mean   :-0.9776            Mean   :0.548049       \n",
       " 3rd Qu.:-0.6180            3rd Qu.:0.772462       \n",
       " Max.   : 2.8887            Max.   :0.993105       \n",
       " NA's   :1                  NA's   :1              \n",
       " PCA_eucldist_sd_multiplier_2 IBS_eucldist_quantile_2\n",
       " Min.   :-0.67622             Min.   :0.001167       \n",
       " 1st Qu.:-0.39705             1st Qu.:0.444256       \n",
       " Median :-0.25982             Median :0.603055       \n",
       " Mean   : 0.08133             Mean   :0.595412       \n",
       " 3rd Qu.:-0.08543             3rd Qu.:0.791556       \n",
       " Max.   : 4.51468             Max.   :0.999576       \n",
       " NA's   :1                    NA's   :1              \n",
       " IBS_eucldist_sd_multiplier_2       AF          Distorter        \n",
       " Min.   :-2.33263             Min.   :0.2347   Length:118        \n",
       " 1st Qu.:-0.28790             1st Qu.:0.3945   Class :character  \n",
       " Median : 0.04766             Median :0.6378   Mode  :character  \n",
       " Mean   : 0.22719             Mean   :0.6278                     \n",
       " 3rd Qu.: 0.50396             3rd Qu.:0.7541                     \n",
       " Max.   : 5.68395             Max.   :0.9787                     \n",
       " NA's   :1                                                       \n",
       " strongest      \n",
       " Mode :logical  \n",
       " FALSE:86       \n",
       " TRUE :32       \n",
       "                \n",
       "                \n",
       "                \n",
       "                "
      ]
     },
     "metadata": {},
     "output_type": "display_data"
    }
   ],
   "source": [
    "One_Table <- One_Table %>% \n",
    "  group_by(cross) %>%\n",
    "  mutate(strongest = abs(AF - 0.5) == max(abs(AF - 0.5), na.rm = TRUE)) %>%\n",
    "  ungroup()"
   ]
  },
  {
   "cell_type": "code",
   "execution_count": null,
   "id": "4c78b223-4758-4289-bcd0-9adc1d9bf10e",
   "metadata": {},
   "outputs": [],
   "source": [
    "plot(tree_changes_raw~lengthBp, One_Table)"
   ]
  },
  {
   "cell_type": "code",
   "execution_count": null,
   "id": "0c3b4bf7-4d36-4c97-be49-5d0345f86f7a",
   "metadata": {
    "tags": []
   },
   "outputs": [
    {
     "data": {
      "text/plain": [
       "\n",
       "\tOne Sample t-test\n",
       "\n",
       "data:  filter(LP_summary, name == \"IBS_eucldist_quantile\") %>% pull(value)\n",
       "t = 4.6129, df = 233, p-value = 6.553e-06\n",
       "alternative hypothesis: true mean is not equal to 0.5\n",
       "95 percent confidence interval:\n",
       " 0.5431624 0.6075186\n",
       "sample estimates:\n",
       "mean of x \n",
       "0.5753405 \n"
      ]
     },
     "metadata": {},
     "output_type": "display_data"
    },
    {
     "data": {
      "text/plain": [
       "\n",
       "\tOne Sample t-test\n",
       "\n",
       "data:  filter(LP_summary, name == \"PCA_eucldist_quantile\") %>% pull(value)\n",
       "t = 3.0056, df = 233, p-value = 0.00294\n",
       "alternative hypothesis: true mean is not equal to 0.5\n",
       "95 percent confidence interval:\n",
       " 0.5178696 0.5858722\n",
       "sample estimates:\n",
       "mean of x \n",
       "0.5518709 \n"
      ]
     },
     "metadata": {},
     "output_type": "display_data"
    },
    {
     "data": {
      "text/plain": [
       "\n",
       "\tWelch Two Sample t-test\n",
       "\n",
       "data:  filter(LP_summary, Distorter == TRUE, name == \"IBS_eucldist_quantile\") %>% pull(value) and filter(LP_summary, Distorter == FALSE, name == \"IBS_eucldist_quantile\") %>% pull(value)\n",
       "t = 0.2549, df = 227.29, p-value = 0.799\n",
       "alternative hypothesis: true difference in means is not equal to 0\n",
       "95 percent confidence interval:\n",
       " -0.05615114  0.07283717\n",
       "sample estimates:\n",
       "mean of x mean of y \n",
       " 0.579512  0.571169 \n"
      ]
     },
     "metadata": {},
     "output_type": "display_data"
    },
    {
     "data": {
      "text/plain": [
       "\n",
       "\tWelch Two Sample t-test\n",
       "\n",
       "data:  filter(LP_summary, Distorter == TRUE, name == \"PCA_eucldist_quantile\") %>% pull(value) and filter(LP_summary, Distorter == FALSE, name == \"PCA_eucldist_quantile\") %>% pull(value)\n",
       "t = -0.35741, df = 230.86, p-value = 0.7211\n",
       "alternative hypothesis: true difference in means is not equal to 0\n",
       "95 percent confidence interval:\n",
       " -0.08049299  0.05577403\n",
       "sample estimates:\n",
       "mean of x mean of y \n",
       "0.5456912 0.5580507 \n"
      ]
     },
     "metadata": {},
     "output_type": "display_data"
    },
    {
     "data": {
      "text/html": [
       "<table class=\"dataframe\">\n",
       "<caption>A tidytable: 6 x 3</caption>\n",
       "<thead>\n",
       "\t<tr><th scope=col>Distorter</th><th scope=col>name</th><th scope=col>value</th></tr>\n",
       "\t<tr><th scope=col>&lt;lgl&gt;</th><th scope=col>&lt;chr&gt;</th><th scope=col>&lt;dbl&gt;</th></tr>\n",
       "</thead>\n",
       "<tbody>\n",
       "\t<tr><td>FALSE</td><td>PCA_eucldist_quantile</td><td>0.2969131</td></tr>\n",
       "\t<tr><td> TRUE</td><td>PCA_eucldist_quantile</td><td>0.3225841</td></tr>\n",
       "\t<tr><td>FALSE</td><td>PCA_eucldist_quantile</td><td>0.6407128</td></tr>\n",
       "\t<tr><td>FALSE</td><td>PCA_eucldist_quantile</td><td>0.4783070</td></tr>\n",
       "\t<tr><td> TRUE</td><td>PCA_eucldist_quantile</td><td>0.7185743</td></tr>\n",
       "\t<tr><td>FALSE</td><td>PCA_eucldist_quantile</td><td>0.1547682</td></tr>\n",
       "</tbody>\n",
       "</table>\n"
      ],
      "text/latex": [
       "A tidytable: 6 x 3\n",
       "\\begin{tabular}{lll}\n",
       " Distorter & name & value\\\\\n",
       " <lgl> & <chr> & <dbl>\\\\\n",
       "\\hline\n",
       "\t FALSE & PCA\\_eucldist\\_quantile & 0.2969131\\\\\n",
       "\t  TRUE & PCA\\_eucldist\\_quantile & 0.3225841\\\\\n",
       "\t FALSE & PCA\\_eucldist\\_quantile & 0.6407128\\\\\n",
       "\t FALSE & PCA\\_eucldist\\_quantile & 0.4783070\\\\\n",
       "\t  TRUE & PCA\\_eucldist\\_quantile & 0.7185743\\\\\n",
       "\t FALSE & PCA\\_eucldist\\_quantile & 0.1547682\\\\\n",
       "\\end{tabular}\n"
      ],
      "text/markdown": [
       "\n",
       "A tidytable: 6 x 3\n",
       "\n",
       "| Distorter &lt;lgl&gt; | name &lt;chr&gt; | value &lt;dbl&gt; |\n",
       "|---|---|---|\n",
       "| FALSE | PCA_eucldist_quantile | 0.2969131 |\n",
       "|  TRUE | PCA_eucldist_quantile | 0.3225841 |\n",
       "| FALSE | PCA_eucldist_quantile | 0.6407128 |\n",
       "| FALSE | PCA_eucldist_quantile | 0.4783070 |\n",
       "|  TRUE | PCA_eucldist_quantile | 0.7185743 |\n",
       "| FALSE | PCA_eucldist_quantile | 0.1547682 |\n",
       "\n"
      ],
      "text/plain": [
       "  Distorter name                  value    \n",
       "1 FALSE     PCA_eucldist_quantile 0.2969131\n",
       "2  TRUE     PCA_eucldist_quantile 0.3225841\n",
       "3 FALSE     PCA_eucldist_quantile 0.6407128\n",
       "4 FALSE     PCA_eucldist_quantile 0.4783070\n",
       "5  TRUE     PCA_eucldist_quantile 0.7185743\n",
       "6 FALSE     PCA_eucldist_quantile 0.1547682"
      ]
     },
     "metadata": {},
     "output_type": "display_data"
    },
    {
     "name": "stderr",
     "output_type": "stream",
     "text": [
      "\u001b[1m\u001b[22m`stat_bin()` using `bins = 30`. Pick better value with `binwidth`.\n",
      "Warning message:\n",
      "\"\u001b[1m\u001b[22mRemoved 5 rows containing non-finite values (`stat_bin()`).\"\n"
     ]
    }
   ],
   "source": [
    "options(repr.plot.width=10, repr.plot.height=6)\n",
    "\n",
    "# need to add information on \n",
    "# 1) each TRD spot, direction\n",
    "# 2) overall which TRD spot is the main one + direction\n",
    "# 3) normalize all values for comparability\n",
    "# -- but the normalization should just be 0 = theoretical mean, meaning only change quantile to -0.5\n",
    "\n",
    "library(stringr)\n",
    "\n",
    "LP_colnames=c(\"PCA_eucldist_quantile_1\",\"PCA_eucldist_sd_multiplier_1\",\"IBS_eucldist_quantile_1\",\"IBS_eucldist_sd_multiplier_1\",\"tree_changes_quantile\",\"tree_changes_sd_multiplier\",\"PCA_eucldist_quantile_2\",\"PCA_eucldist_sd_multiplier_2\",\"IBS_eucldist_quantile_2\",\"IBS_eucldist_sd_multiplier_2\")\n",
    "LP_colnames=LP_colnames[grepl(\"quant\",LP_colnames,fixed=TRUE)]\n",
    "LP_summary<-pivot_longer(One_Table%>%select(Distorter, all_of(LP_colnames)), cols = LP_colnames)\n",
    "LP_summary <- LP_summary %>% mutate(Distorter = case_when(\n",
    "  substr(name, nchar(name), nchar(name)) %in% c(\"1\", \"2\") & \n",
    "    substr(name, nchar(name), nchar(name)) == Distorter ~ TRUE,\n",
    "  substr(name, nchar(name), nchar(name)) %in% c(\"1\", \"2\") ~ FALSE,\n",
    "  TRUE ~ NA_real_\n",
    "))\n",
    "LP_summary <- LP_summary %>% mutate(name = str_remove(name, \"_[12]$\"))\n",
    "\n",
    "t.test(filter(LP_summary, name == \"IBS_eucldist_quantile\")%>%pull(value), mu=0.5)\n",
    "t.test(filter(LP_summary, name == \"PCA_eucldist_quantile\")%>%pull(value), mu=0.5)\n",
    "\n",
    "t.test(filter(LP_summary, Distorter==TRUE, name == \"IBS_eucldist_quantile\")%>%pull(value),\n",
    "     filter(LP_summary, Distorter==FALSE, name == \"IBS_eucldist_quantile\")%>%pull(value), value = \"two.sided\", var.equal = FALSE)\n",
    "t.test(filter(LP_summary, Distorter==TRUE, name == \"PCA_eucldist_quantile\")%>%pull(value),\n",
    "     filter(LP_summary, Distorter==FALSE, name == \"PCA_eucldist_quantile\")%>%pull(value), value = \"two.sided\", var.equal = FALSE)\n",
    "\n",
    "head(LP_summary)\n",
    "ggplot(LP_summary, aes(value,fill=name))+\n",
    "geom_histogram(position=\"dodge\")+geom_vline(xintercept=0.5)+\n",
    "facet_wrap(~substr(name,1,2)+Distorter,scales=\"free_y\")+theme_bw(18)+ggtitle(\"Each TRD locus divided by being the distorter or not\")\n",
    "\n",
    "\n",
    "# now only the strongest distorters\n",
    "\n",
    "LP_summary<-pivot_longer(One_Table%>%filter(strongest)%>%select(Distorter, all_of(LP_colnames)), cols = LP_colnames)\n",
    "LP_summary <- LP_summary %>% mutate(Distorter = case_when(\n",
    "  substr(name, nchar(name), nchar(name)) %in% c(\"1\", \"2\") & \n",
    "    substr(name, nchar(name), nchar(name)) == Distorter ~ TRUE,\n",
    "  substr(name, nchar(name), nchar(name)) %in% c(\"1\", \"2\") ~ FALSE,\n",
    "  TRUE ~ NA_real_\n",
    "))\n",
    "LP_summary <- LP_summary %>% mutate(name = str_remove(name, \"_[12]$\"))\n",
    "t.test(filter(LP_summary, Distorter==TRUE, name == \"IBS_eucldist_quantile\")%>%pull(value),\n",
    "     filter(LP_summary, Distorter==FALSE, name == \"IBS_eucldist_quantile\")%>%pull(value), value = \"two.sided\", var.equal = FALSE)\n",
    "t.test(filter(LP_summary, Distorter==TRUE, name == \"PCA_eucldist_quantile\")%>%pull(value),\n",
    "     filter(LP_summary, Distorter==FALSE, name == \"PCA_eucldist_quantile\")%>%pull(value), value = \"two.sided\", var.equal = FALSE)\n",
    "head(LP_summary)\n",
    "ggplot(LP_summary, aes(value,fill=name))+\n",
    "geom_histogram(position=\"dodge\")+geom_vline(xintercept=0.5)+\n",
    "facet_wrap(~substr(name,1,2)+Distorter,scales=\"free_y\")+theme_bw(18)+ggtitle(\"Only most extreme locus per cross\")"
   ]
  },
  {
   "cell_type": "markdown",
   "id": "a87bd902-575c-46e8-8b02-464c33e74283",
   "metadata": {},
   "source": [
    "After creating those tables, we should also create a PDF report for each region.\n",
    "\n",
    "---\n",
    "title: \"Analysis of Genome Region\"\n",
    "output: pdf_document\n",
    "---\n",
    "\n",
    "## Introduction\n",
    "\n",
    "This is a report on the analysis of genome region `r region_name`.\n",
    "\n",
    "## Histogram of Variable\n",
    "\n",
    "```{r}\n",
    "ggplot(data, aes(x = variable)) +\n",
    "  geom_histogram() +\n",
    "  labs(title = paste(\"Histogram of\", variable)) +\n",
    "  theme_minimal()\n",
    "\n",
    "\n",
    "\n",
    "rmarkdown::render(\"path/to/your/file.Rmd\", params = list(region_name = region_name))\n",
    "````"
   ]
  },
  {
   "cell_type": "code",
   "execution_count": 57,
   "id": "ba56921a-8aaa-4219-a9a6-2a852dd7e81a",
   "metadata": {
    "tags": []
   },
   "outputs": [],
   "source": []
  },
  {
   "cell_type": "code",
   "execution_count": 58,
   "id": "6360e9ca-ca88-45e7-aff3-457e71b9205a",
   "metadata": {
    "tags": []
   },
   "outputs": [
    {
     "data": {
      "text/html": [
       "<table class=\"dataframe\">\n",
       "<caption>A tidytable: 1087 x 6</caption>\n",
       "<thead>\n",
       "\t<tr><th scope=col>cross</th><th scope=col>ID</th><th scope=col>TYPE</th><th scope=col>LEN</th><th scope=col>LEN_rel</th><th scope=col>source</th></tr>\n",
       "\t<tr><th scope=col>&lt;chr&gt;</th><th scope=col>&lt;int&gt;</th><th scope=col>&lt;chr&gt;</th><th scope=col>&lt;dbl&gt;</th><th scope=col>&lt;dbl&gt;</th><th scope=col>&lt;chr&gt;</th></tr>\n",
       "</thead>\n",
       "<tbody>\n",
       "\t<tr><td>YJNRC27</td><td>3</td><td>INVTR</td><td>308248</td><td>0.8299667742</td><td>Syri</td></tr>\n",
       "\t<tr><td>YJNRC27</td><td>3</td><td>INVTR</td><td>307618</td><td>0.8282704807</td><td>Syri</td></tr>\n",
       "\t<tr><td>YJNRC18</td><td>3</td><td>INVTR</td><td> 15801</td><td>0.0499554223</td><td>Syri</td></tr>\n",
       "\t<tr><td>ChrisC8</td><td>3</td><td>DUP  </td><td>  5950</td><td>0.0342294350</td><td>Syri</td></tr>\n",
       "\t<tr><td>YJNRC18</td><td>3</td><td>DEL  </td><td>  5914</td><td>0.0186973209</td><td>Syri</td></tr>\n",
       "\t<tr><td>ChrisC8</td><td>3</td><td>INVDP</td><td>   372</td><td>0.0021400588</td><td>Syri</td></tr>\n",
       "\t<tr><td>ChrisC8</td><td>3</td><td>INVDP</td><td>   331</td><td>0.0019041921</td><td>Syri</td></tr>\n",
       "\t<tr><td>ChrisC8</td><td>3</td><td>DUP  </td><td>   322</td><td>0.0018524165</td><td>Syri</td></tr>\n",
       "\t<tr><td>ChrisC8</td><td>3</td><td>DUP  </td><td>   276</td><td>0.0015877856</td><td>Syri</td></tr>\n",
       "\t<tr><td>ChrisC8</td><td>3</td><td>DUP  </td><td>   276</td><td>0.0015877856</td><td>Syri</td></tr>\n",
       "\t<tr><td>ChrisC8</td><td>3</td><td>DUP  </td><td>   276</td><td>0.0015877856</td><td>Syri</td></tr>\n",
       "\t<tr><td>YJNRC18</td><td>3</td><td>DUP  </td><td>   480</td><td>0.0015175370</td><td>Syri</td></tr>\n",
       "\t<tr><td>YJNRC18</td><td>3</td><td>DUP  </td><td>   354</td><td>0.0011191836</td><td>Syri</td></tr>\n",
       "\t<tr><td>YJNRC18</td><td>3</td><td>CPL  </td><td>   348</td><td>0.0011002144</td><td>Syri</td></tr>\n",
       "\t<tr><td>ChrisC8</td><td>3</td><td>INS  </td><td>   190</td><td>0.0010930408</td><td>Syri</td></tr>\n",
       "\t<tr><td>YJNRC18</td><td>3</td><td>INVTR</td><td>   345</td><td>0.0010907297</td><td>Syri</td></tr>\n",
       "\t<tr><td>YJNRC18</td><td>3</td><td>DUP  </td><td>   341</td><td>0.0010780836</td><td>Syri</td></tr>\n",
       "\t<tr><td>YJNRC18</td><td>3</td><td>INVDP</td><td>   340</td><td>0.0010749221</td><td>Syri</td></tr>\n",
       "\t<tr><td>YJNRC18</td><td>3</td><td>INVDP</td><td>   340</td><td>0.0010749221</td><td>Syri</td></tr>\n",
       "\t<tr><td>YJNRC18</td><td>3</td><td>INVDP</td><td>   336</td><td>0.0010622759</td><td>Syri</td></tr>\n",
       "\t<tr><td>YJNRC18</td><td>3</td><td>TRANS</td><td>   331</td><td>0.0010464682</td><td>Syri</td></tr>\n",
       "\t<tr><td>YJNRC18</td><td>3</td><td>INVTR</td><td>   328</td><td>0.0010369836</td><td>Syri</td></tr>\n",
       "\t<tr><td>YJNRC18</td><td>3</td><td>INVTR</td><td>   328</td><td>0.0010369836</td><td>Syri</td></tr>\n",
       "\t<tr><td>YJNRC18</td><td>3</td><td>DUP  </td><td>   323</td><td>0.0010211760</td><td>Syri</td></tr>\n",
       "\t<tr><td>ChrisC8</td><td>3</td><td>DEL  </td><td>   165</td><td>0.0009492196</td><td>Syri</td></tr>\n",
       "\t<tr><td>YJNRC18</td><td>3</td><td>TRANS</td><td>   260</td><td>0.0008219992</td><td>Syri</td></tr>\n",
       "\t<tr><td>YJNRC18</td><td>3</td><td>INVDP</td><td>   236</td><td>0.0007461224</td><td>Syri</td></tr>\n",
       "\t<tr><td>YJNRC18</td><td>3</td><td>DUP  </td><td>   236</td><td>0.0007461224</td><td>Syri</td></tr>\n",
       "\t<tr><td>ChrisC8</td><td>3</td><td>DEL  </td><td>   127</td><td>0.0007306115</td><td>Syri</td></tr>\n",
       "\t<tr><td>YJNRC18</td><td>3</td><td>DUP  </td><td>   218</td><td>0.0006892147</td><td>Syri</td></tr>\n",
       "\t<tr><td>...</td><td>...</td><td>...</td><td>...</td><td>...</td><td>...</td></tr>\n",
       "\t<tr><td>YJNRC27</td><td>3</td><td>DEL</td><td> 0</td><td> 0.000000e+00</td><td>Syri</td></tr>\n",
       "\t<tr><td>YJNRC27</td><td>3</td><td>DEL</td><td> 0</td><td> 0.000000e+00</td><td>Syri</td></tr>\n",
       "\t<tr><td>YJNRC27</td><td>3</td><td>DEL</td><td> 0</td><td> 0.000000e+00</td><td>Syri</td></tr>\n",
       "\t<tr><td>YJNRC27</td><td>3</td><td>DEL</td><td> 0</td><td> 0.000000e+00</td><td>Syri</td></tr>\n",
       "\t<tr><td>YJNRC27</td><td>3</td><td>DEL</td><td> 0</td><td> 0.000000e+00</td><td>Syri</td></tr>\n",
       "\t<tr><td>YJNRC27</td><td>3</td><td>DEL</td><td> 0</td><td> 0.000000e+00</td><td>Syri</td></tr>\n",
       "\t<tr><td>YJNRC27</td><td>3</td><td>DEL</td><td> 0</td><td> 0.000000e+00</td><td>Syri</td></tr>\n",
       "\t<tr><td>YJNRC27</td><td>3</td><td>DEL</td><td> 0</td><td> 0.000000e+00</td><td>Syri</td></tr>\n",
       "\t<tr><td>YJNRC27</td><td>3</td><td>DEL</td><td> 0</td><td> 0.000000e+00</td><td>Syri</td></tr>\n",
       "\t<tr><td>YJNRC27</td><td>3</td><td>DEL</td><td> 0</td><td> 0.000000e+00</td><td>Syri</td></tr>\n",
       "\t<tr><td>YJNRC27</td><td>3</td><td>DEL</td><td> 0</td><td> 0.000000e+00</td><td>Syri</td></tr>\n",
       "\t<tr><td>YJNRC27</td><td>3</td><td>DEL</td><td> 0</td><td> 0.000000e+00</td><td>Syri</td></tr>\n",
       "\t<tr><td>YJNRC27</td><td>3</td><td>DEL</td><td> 0</td><td> 0.000000e+00</td><td>Syri</td></tr>\n",
       "\t<tr><td>YJNRC27</td><td>3</td><td>DEL</td><td> 0</td><td> 0.000000e+00</td><td>Syri</td></tr>\n",
       "\t<tr><td>YJNRC27</td><td>3</td><td>DEL</td><td> 0</td><td> 0.000000e+00</td><td>Syri</td></tr>\n",
       "\t<tr><td>YJNRC27</td><td>3</td><td>DEL</td><td> 0</td><td> 0.000000e+00</td><td>Syri</td></tr>\n",
       "\t<tr><td>YJNRC27</td><td>3</td><td>DEL</td><td> 0</td><td> 0.000000e+00</td><td>Syri</td></tr>\n",
       "\t<tr><td>YJNRC27</td><td>3</td><td>DEL</td><td> 0</td><td> 0.000000e+00</td><td>Syri</td></tr>\n",
       "\t<tr><td>YJNRC27</td><td>3</td><td>DEL</td><td> 0</td><td> 0.000000e+00</td><td>Syri</td></tr>\n",
       "\t<tr><td>YJNRC27</td><td>3</td><td>DEL</td><td> 0</td><td> 0.000000e+00</td><td>Syri</td></tr>\n",
       "\t<tr><td>YJNRC27</td><td>3</td><td>DEL</td><td> 0</td><td> 0.000000e+00</td><td>Syri</td></tr>\n",
       "\t<tr><td>YJNRC27</td><td>3</td><td>DEL</td><td> 0</td><td> 0.000000e+00</td><td>Syri</td></tr>\n",
       "\t<tr><td>YJNRC27</td><td>3</td><td>DEL</td><td> 0</td><td> 0.000000e+00</td><td>Syri</td></tr>\n",
       "\t<tr><td>YJNRC27</td><td>3</td><td>DEL</td><td> 0</td><td> 0.000000e+00</td><td>Syri</td></tr>\n",
       "\t<tr><td>YJNRC27</td><td>3</td><td>DEL</td><td> 0</td><td> 0.000000e+00</td><td>Syri</td></tr>\n",
       "\t<tr><td>YJNRC27</td><td>3</td><td>CPL</td><td>-5</td><td>-1.346265e-05</td><td>Syri</td></tr>\n",
       "\t<tr><td>YJNRC27</td><td>3</td><td>CPL</td><td>-5</td><td>-1.346265e-05</td><td>Syri</td></tr>\n",
       "\t<tr><td>YJNRC27</td><td>3</td><td>CPL</td><td>-5</td><td>-1.346265e-05</td><td>Syri</td></tr>\n",
       "\t<tr><td>YJNRC27</td><td>3</td><td>CPL</td><td>-7</td><td>-1.884771e-05</td><td>Syri</td></tr>\n",
       "\t<tr><td>YJNRC18</td><td>3</td><td>CPL</td><td>-7</td><td>-2.213075e-05</td><td>Syri</td></tr>\n",
       "</tbody>\n",
       "</table>\n"
      ],
      "text/latex": [
       "A tidytable: 1087 x 6\n",
       "\\begin{tabular}{llllll}\n",
       " cross & ID & TYPE & LEN & LEN\\_rel & source\\\\\n",
       " <chr> & <int> & <chr> & <dbl> & <dbl> & <chr>\\\\\n",
       "\\hline\n",
       "\t YJNRC27 & 3 & INVTR & 308248 & 0.8299667742 & Syri\\\\\n",
       "\t YJNRC27 & 3 & INVTR & 307618 & 0.8282704807 & Syri\\\\\n",
       "\t YJNRC18 & 3 & INVTR &  15801 & 0.0499554223 & Syri\\\\\n",
       "\t ChrisC8 & 3 & DUP   &   5950 & 0.0342294350 & Syri\\\\\n",
       "\t YJNRC18 & 3 & DEL   &   5914 & 0.0186973209 & Syri\\\\\n",
       "\t ChrisC8 & 3 & INVDP &    372 & 0.0021400588 & Syri\\\\\n",
       "\t ChrisC8 & 3 & INVDP &    331 & 0.0019041921 & Syri\\\\\n",
       "\t ChrisC8 & 3 & DUP   &    322 & 0.0018524165 & Syri\\\\\n",
       "\t ChrisC8 & 3 & DUP   &    276 & 0.0015877856 & Syri\\\\\n",
       "\t ChrisC8 & 3 & DUP   &    276 & 0.0015877856 & Syri\\\\\n",
       "\t ChrisC8 & 3 & DUP   &    276 & 0.0015877856 & Syri\\\\\n",
       "\t YJNRC18 & 3 & DUP   &    480 & 0.0015175370 & Syri\\\\\n",
       "\t YJNRC18 & 3 & DUP   &    354 & 0.0011191836 & Syri\\\\\n",
       "\t YJNRC18 & 3 & CPL   &    348 & 0.0011002144 & Syri\\\\\n",
       "\t ChrisC8 & 3 & INS   &    190 & 0.0010930408 & Syri\\\\\n",
       "\t YJNRC18 & 3 & INVTR &    345 & 0.0010907297 & Syri\\\\\n",
       "\t YJNRC18 & 3 & DUP   &    341 & 0.0010780836 & Syri\\\\\n",
       "\t YJNRC18 & 3 & INVDP &    340 & 0.0010749221 & Syri\\\\\n",
       "\t YJNRC18 & 3 & INVDP &    340 & 0.0010749221 & Syri\\\\\n",
       "\t YJNRC18 & 3 & INVDP &    336 & 0.0010622759 & Syri\\\\\n",
       "\t YJNRC18 & 3 & TRANS &    331 & 0.0010464682 & Syri\\\\\n",
       "\t YJNRC18 & 3 & INVTR &    328 & 0.0010369836 & Syri\\\\\n",
       "\t YJNRC18 & 3 & INVTR &    328 & 0.0010369836 & Syri\\\\\n",
       "\t YJNRC18 & 3 & DUP   &    323 & 0.0010211760 & Syri\\\\\n",
       "\t ChrisC8 & 3 & DEL   &    165 & 0.0009492196 & Syri\\\\\n",
       "\t YJNRC18 & 3 & TRANS &    260 & 0.0008219992 & Syri\\\\\n",
       "\t YJNRC18 & 3 & INVDP &    236 & 0.0007461224 & Syri\\\\\n",
       "\t YJNRC18 & 3 & DUP   &    236 & 0.0007461224 & Syri\\\\\n",
       "\t ChrisC8 & 3 & DEL   &    127 & 0.0007306115 & Syri\\\\\n",
       "\t YJNRC18 & 3 & DUP   &    218 & 0.0006892147 & Syri\\\\\n",
       "\t ... & ... & ... & ... & ... & ...\\\\\n",
       "\t YJNRC27 & 3 & DEL &  0 &  0.000000e+00 & Syri\\\\\n",
       "\t YJNRC27 & 3 & DEL &  0 &  0.000000e+00 & Syri\\\\\n",
       "\t YJNRC27 & 3 & DEL &  0 &  0.000000e+00 & Syri\\\\\n",
       "\t YJNRC27 & 3 & DEL &  0 &  0.000000e+00 & Syri\\\\\n",
       "\t YJNRC27 & 3 & DEL &  0 &  0.000000e+00 & Syri\\\\\n",
       "\t YJNRC27 & 3 & DEL &  0 &  0.000000e+00 & Syri\\\\\n",
       "\t YJNRC27 & 3 & DEL &  0 &  0.000000e+00 & Syri\\\\\n",
       "\t YJNRC27 & 3 & DEL &  0 &  0.000000e+00 & Syri\\\\\n",
       "\t YJNRC27 & 3 & DEL &  0 &  0.000000e+00 & Syri\\\\\n",
       "\t YJNRC27 & 3 & DEL &  0 &  0.000000e+00 & Syri\\\\\n",
       "\t YJNRC27 & 3 & DEL &  0 &  0.000000e+00 & Syri\\\\\n",
       "\t YJNRC27 & 3 & DEL &  0 &  0.000000e+00 & Syri\\\\\n",
       "\t YJNRC27 & 3 & DEL &  0 &  0.000000e+00 & Syri\\\\\n",
       "\t YJNRC27 & 3 & DEL &  0 &  0.000000e+00 & Syri\\\\\n",
       "\t YJNRC27 & 3 & DEL &  0 &  0.000000e+00 & Syri\\\\\n",
       "\t YJNRC27 & 3 & DEL &  0 &  0.000000e+00 & Syri\\\\\n",
       "\t YJNRC27 & 3 & DEL &  0 &  0.000000e+00 & Syri\\\\\n",
       "\t YJNRC27 & 3 & DEL &  0 &  0.000000e+00 & Syri\\\\\n",
       "\t YJNRC27 & 3 & DEL &  0 &  0.000000e+00 & Syri\\\\\n",
       "\t YJNRC27 & 3 & DEL &  0 &  0.000000e+00 & Syri\\\\\n",
       "\t YJNRC27 & 3 & DEL &  0 &  0.000000e+00 & Syri\\\\\n",
       "\t YJNRC27 & 3 & DEL &  0 &  0.000000e+00 & Syri\\\\\n",
       "\t YJNRC27 & 3 & DEL &  0 &  0.000000e+00 & Syri\\\\\n",
       "\t YJNRC27 & 3 & DEL &  0 &  0.000000e+00 & Syri\\\\\n",
       "\t YJNRC27 & 3 & DEL &  0 &  0.000000e+00 & Syri\\\\\n",
       "\t YJNRC27 & 3 & CPL & -5 & -1.346265e-05 & Syri\\\\\n",
       "\t YJNRC27 & 3 & CPL & -5 & -1.346265e-05 & Syri\\\\\n",
       "\t YJNRC27 & 3 & CPL & -5 & -1.346265e-05 & Syri\\\\\n",
       "\t YJNRC27 & 3 & CPL & -7 & -1.884771e-05 & Syri\\\\\n",
       "\t YJNRC18 & 3 & CPL & -7 & -2.213075e-05 & Syri\\\\\n",
       "\\end{tabular}\n"
      ],
      "text/markdown": [
       "\n",
       "A tidytable: 1087 x 6\n",
       "\n",
       "| cross &lt;chr&gt; | ID &lt;int&gt; | TYPE &lt;chr&gt; | LEN &lt;dbl&gt; | LEN_rel &lt;dbl&gt; | source &lt;chr&gt; |\n",
       "|---|---|---|---|---|---|\n",
       "| YJNRC27 | 3 | INVTR | 308248 | 0.8299667742 | Syri |\n",
       "| YJNRC27 | 3 | INVTR | 307618 | 0.8282704807 | Syri |\n",
       "| YJNRC18 | 3 | INVTR |  15801 | 0.0499554223 | Syri |\n",
       "| ChrisC8 | 3 | DUP   |   5950 | 0.0342294350 | Syri |\n",
       "| YJNRC18 | 3 | DEL   |   5914 | 0.0186973209 | Syri |\n",
       "| ChrisC8 | 3 | INVDP |    372 | 0.0021400588 | Syri |\n",
       "| ChrisC8 | 3 | INVDP |    331 | 0.0019041921 | Syri |\n",
       "| ChrisC8 | 3 | DUP   |    322 | 0.0018524165 | Syri |\n",
       "| ChrisC8 | 3 | DUP   |    276 | 0.0015877856 | Syri |\n",
       "| ChrisC8 | 3 | DUP   |    276 | 0.0015877856 | Syri |\n",
       "| ChrisC8 | 3 | DUP   |    276 | 0.0015877856 | Syri |\n",
       "| YJNRC18 | 3 | DUP   |    480 | 0.0015175370 | Syri |\n",
       "| YJNRC18 | 3 | DUP   |    354 | 0.0011191836 | Syri |\n",
       "| YJNRC18 | 3 | CPL   |    348 | 0.0011002144 | Syri |\n",
       "| ChrisC8 | 3 | INS   |    190 | 0.0010930408 | Syri |\n",
       "| YJNRC18 | 3 | INVTR |    345 | 0.0010907297 | Syri |\n",
       "| YJNRC18 | 3 | DUP   |    341 | 0.0010780836 | Syri |\n",
       "| YJNRC18 | 3 | INVDP |    340 | 0.0010749221 | Syri |\n",
       "| YJNRC18 | 3 | INVDP |    340 | 0.0010749221 | Syri |\n",
       "| YJNRC18 | 3 | INVDP |    336 | 0.0010622759 | Syri |\n",
       "| YJNRC18 | 3 | TRANS |    331 | 0.0010464682 | Syri |\n",
       "| YJNRC18 | 3 | INVTR |    328 | 0.0010369836 | Syri |\n",
       "| YJNRC18 | 3 | INVTR |    328 | 0.0010369836 | Syri |\n",
       "| YJNRC18 | 3 | DUP   |    323 | 0.0010211760 | Syri |\n",
       "| ChrisC8 | 3 | DEL   |    165 | 0.0009492196 | Syri |\n",
       "| YJNRC18 | 3 | TRANS |    260 | 0.0008219992 | Syri |\n",
       "| YJNRC18 | 3 | INVDP |    236 | 0.0007461224 | Syri |\n",
       "| YJNRC18 | 3 | DUP   |    236 | 0.0007461224 | Syri |\n",
       "| ChrisC8 | 3 | DEL   |    127 | 0.0007306115 | Syri |\n",
       "| YJNRC18 | 3 | DUP   |    218 | 0.0006892147 | Syri |\n",
       "| ... | ... | ... | ... | ... | ... |\n",
       "| YJNRC27 | 3 | DEL |  0 |  0.000000e+00 | Syri |\n",
       "| YJNRC27 | 3 | DEL |  0 |  0.000000e+00 | Syri |\n",
       "| YJNRC27 | 3 | DEL |  0 |  0.000000e+00 | Syri |\n",
       "| YJNRC27 | 3 | DEL |  0 |  0.000000e+00 | Syri |\n",
       "| YJNRC27 | 3 | DEL |  0 |  0.000000e+00 | Syri |\n",
       "| YJNRC27 | 3 | DEL |  0 |  0.000000e+00 | Syri |\n",
       "| YJNRC27 | 3 | DEL |  0 |  0.000000e+00 | Syri |\n",
       "| YJNRC27 | 3 | DEL |  0 |  0.000000e+00 | Syri |\n",
       "| YJNRC27 | 3 | DEL |  0 |  0.000000e+00 | Syri |\n",
       "| YJNRC27 | 3 | DEL |  0 |  0.000000e+00 | Syri |\n",
       "| YJNRC27 | 3 | DEL |  0 |  0.000000e+00 | Syri |\n",
       "| YJNRC27 | 3 | DEL |  0 |  0.000000e+00 | Syri |\n",
       "| YJNRC27 | 3 | DEL |  0 |  0.000000e+00 | Syri |\n",
       "| YJNRC27 | 3 | DEL |  0 |  0.000000e+00 | Syri |\n",
       "| YJNRC27 | 3 | DEL |  0 |  0.000000e+00 | Syri |\n",
       "| YJNRC27 | 3 | DEL |  0 |  0.000000e+00 | Syri |\n",
       "| YJNRC27 | 3 | DEL |  0 |  0.000000e+00 | Syri |\n",
       "| YJNRC27 | 3 | DEL |  0 |  0.000000e+00 | Syri |\n",
       "| YJNRC27 | 3 | DEL |  0 |  0.000000e+00 | Syri |\n",
       "| YJNRC27 | 3 | DEL |  0 |  0.000000e+00 | Syri |\n",
       "| YJNRC27 | 3 | DEL |  0 |  0.000000e+00 | Syri |\n",
       "| YJNRC27 | 3 | DEL |  0 |  0.000000e+00 | Syri |\n",
       "| YJNRC27 | 3 | DEL |  0 |  0.000000e+00 | Syri |\n",
       "| YJNRC27 | 3 | DEL |  0 |  0.000000e+00 | Syri |\n",
       "| YJNRC27 | 3 | DEL |  0 |  0.000000e+00 | Syri |\n",
       "| YJNRC27 | 3 | CPL | -5 | -1.346265e-05 | Syri |\n",
       "| YJNRC27 | 3 | CPL | -5 | -1.346265e-05 | Syri |\n",
       "| YJNRC27 | 3 | CPL | -5 | -1.346265e-05 | Syri |\n",
       "| YJNRC27 | 3 | CPL | -7 | -1.884771e-05 | Syri |\n",
       "| YJNRC18 | 3 | CPL | -7 | -2.213075e-05 | Syri |\n",
       "\n"
      ],
      "text/plain": [
       "     cross   ID  TYPE  LEN    LEN_rel       source\n",
       "1    YJNRC27 3   INVTR 308248 0.8299667742  Syri  \n",
       "2    YJNRC27 3   INVTR 307618 0.8282704807  Syri  \n",
       "3    YJNRC18 3   INVTR  15801 0.0499554223  Syri  \n",
       "4    ChrisC8 3   DUP     5950 0.0342294350  Syri  \n",
       "5    YJNRC18 3   DEL     5914 0.0186973209  Syri  \n",
       "6    ChrisC8 3   INVDP    372 0.0021400588  Syri  \n",
       "7    ChrisC8 3   INVDP    331 0.0019041921  Syri  \n",
       "8    ChrisC8 3   DUP      322 0.0018524165  Syri  \n",
       "9    ChrisC8 3   DUP      276 0.0015877856  Syri  \n",
       "10   ChrisC8 3   DUP      276 0.0015877856  Syri  \n",
       "11   ChrisC8 3   DUP      276 0.0015877856  Syri  \n",
       "12   YJNRC18 3   DUP      480 0.0015175370  Syri  \n",
       "13   YJNRC18 3   DUP      354 0.0011191836  Syri  \n",
       "14   YJNRC18 3   CPL      348 0.0011002144  Syri  \n",
       "15   ChrisC8 3   INS      190 0.0010930408  Syri  \n",
       "16   YJNRC18 3   INVTR    345 0.0010907297  Syri  \n",
       "17   YJNRC18 3   DUP      341 0.0010780836  Syri  \n",
       "18   YJNRC18 3   INVDP    340 0.0010749221  Syri  \n",
       "19   YJNRC18 3   INVDP    340 0.0010749221  Syri  \n",
       "20   YJNRC18 3   INVDP    336 0.0010622759  Syri  \n",
       "21   YJNRC18 3   TRANS    331 0.0010464682  Syri  \n",
       "22   YJNRC18 3   INVTR    328 0.0010369836  Syri  \n",
       "23   YJNRC18 3   INVTR    328 0.0010369836  Syri  \n",
       "24   YJNRC18 3   DUP      323 0.0010211760  Syri  \n",
       "25   ChrisC8 3   DEL      165 0.0009492196  Syri  \n",
       "26   YJNRC18 3   TRANS    260 0.0008219992  Syri  \n",
       "27   YJNRC18 3   INVDP    236 0.0007461224  Syri  \n",
       "28   YJNRC18 3   DUP      236 0.0007461224  Syri  \n",
       "29   ChrisC8 3   DEL      127 0.0007306115  Syri  \n",
       "30   YJNRC18 3   DUP      218 0.0006892147  Syri  \n",
       "...  ...     ... ...   ...    ...           ...   \n",
       "1058 YJNRC27 3   DEL    0      0.000000e+00 Syri  \n",
       "1059 YJNRC27 3   DEL    0      0.000000e+00 Syri  \n",
       "1060 YJNRC27 3   DEL    0      0.000000e+00 Syri  \n",
       "1061 YJNRC27 3   DEL    0      0.000000e+00 Syri  \n",
       "1062 YJNRC27 3   DEL    0      0.000000e+00 Syri  \n",
       "1063 YJNRC27 3   DEL    0      0.000000e+00 Syri  \n",
       "1064 YJNRC27 3   DEL    0      0.000000e+00 Syri  \n",
       "1065 YJNRC27 3   DEL    0      0.000000e+00 Syri  \n",
       "1066 YJNRC27 3   DEL    0      0.000000e+00 Syri  \n",
       "1067 YJNRC27 3   DEL    0      0.000000e+00 Syri  \n",
       "1068 YJNRC27 3   DEL    0      0.000000e+00 Syri  \n",
       "1069 YJNRC27 3   DEL    0      0.000000e+00 Syri  \n",
       "1070 YJNRC27 3   DEL    0      0.000000e+00 Syri  \n",
       "1071 YJNRC27 3   DEL    0      0.000000e+00 Syri  \n",
       "1072 YJNRC27 3   DEL    0      0.000000e+00 Syri  \n",
       "1073 YJNRC27 3   DEL    0      0.000000e+00 Syri  \n",
       "1074 YJNRC27 3   DEL    0      0.000000e+00 Syri  \n",
       "1075 YJNRC27 3   DEL    0      0.000000e+00 Syri  \n",
       "1076 YJNRC27 3   DEL    0      0.000000e+00 Syri  \n",
       "1077 YJNRC27 3   DEL    0      0.000000e+00 Syri  \n",
       "1078 YJNRC27 3   DEL    0      0.000000e+00 Syri  \n",
       "1079 YJNRC27 3   DEL    0      0.000000e+00 Syri  \n",
       "1080 YJNRC27 3   DEL    0      0.000000e+00 Syri  \n",
       "1081 YJNRC27 3   DEL    0      0.000000e+00 Syri  \n",
       "1082 YJNRC27 3   DEL    0      0.000000e+00 Syri  \n",
       "1083 YJNRC27 3   CPL   -5     -1.346265e-05 Syri  \n",
       "1084 YJNRC27 3   CPL   -5     -1.346265e-05 Syri  \n",
       "1085 YJNRC27 3   CPL   -5     -1.346265e-05 Syri  \n",
       "1086 YJNRC27 3   CPL   -7     -1.884771e-05 Syri  \n",
       "1087 YJNRC18 3   CPL   -7     -2.213075e-05 Syri  "
      ]
     },
     "metadata": {},
     "output_type": "display_data"
    }
   ],
   "source": [
    "SV_data%>%filter(ID==3 & source == \"Syri\") %>% arrange(-LEN_rel)"
   ]
  },
  {
   "cell_type": "code",
   "execution_count": 68,
   "id": "f08bb28d-2b23-476b-89b8-7e630d860dad",
   "metadata": {
    "tags": []
   },
   "outputs": [
    {
     "ename": "ERROR",
     "evalue": "Error in loadNamespace(j <- i[[1L]], c(lib.loc, .libPaths()), versionCheck = vI[[j]]): namespace 'xfun' 0.37 is already loaded, but >= 0.39 is required\n",
     "output_type": "error",
     "traceback": [
      "Error in loadNamespace(j <- i[[1L]], c(lib.loc, .libPaths()), versionCheck = vI[[j]]): namespace 'xfun' 0.37 is already loaded, but >= 0.39 is required\nTraceback:\n",
      "1. rmarkdown::render(\"03_RegionReportTemplate.Rmd\", params = list(cross = cross), \n .     output_file = paste0(\"~/TRD/03_GenomicSignals/PDF_reports/\", \n .         cross, \".HTML\"), )",
      "2. create_output_format(output_format$name, output_format$options)",
      "3. create_output_format_function(name)",
      "4. eval(xfun::parse_only(name))",
      "5. eval(xfun::parse_only(name))",
      "6. loadNamespace(x)",
      "7. namespaceImport(ns, loadNamespace(i, c(lib.loc, .libPaths()), \n .     versionCheck = vI[[i]]), from = package)",
      "8. loadNamespace(i, c(lib.loc, .libPaths()), versionCheck = vI[[i]])",
      "9. namespaceImportFrom(ns, loadNamespace(j <- i[[1L]], c(lib.loc, \n .     .libPaths()), versionCheck = vI[[j]]), i[[2L]], from = package)",
      "10. asNamespace(ns)",
      "11. loadNamespace(j <- i[[1L]], c(lib.loc, .libPaths()), versionCheck = vI[[j]])",
      "12. stop(gettextf(\"namespace %s %s is already loaded, but %s %s is required\", \n  .     sQuote(package), current, zop, zversion), domain = NA)"
     ]
    }
   ],
   "source": [
    "cross<-\"YJNRC18\"\n",
    "rmarkdown::render(\"03_RegionReportTemplate.Rmd\", params = \n",
    "                  list(cross=cross),\n",
    "                  output_file = paste0(\"~/TRD/03_GenomicSignals/PDF_reports/\",cross, '.HTML'), \n",
    "                 )"
   ]
  }
 ],
 "metadata": {
  "kernelspec": {
   "display_name": "R",
   "language": "R",
   "name": "ir"
  },
  "language_info": {
   "codemirror_mode": "r",
   "file_extension": ".r",
   "mimetype": "text/x-r-source",
   "name": "R",
   "pygments_lexer": "r",
   "version": "4.1.3"
  }
 },
 "nbformat": 4,
 "nbformat_minor": 5
}

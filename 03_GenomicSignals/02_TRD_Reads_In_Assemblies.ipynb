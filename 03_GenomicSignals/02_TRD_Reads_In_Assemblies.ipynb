{
 "cells": [
  {
   "cell_type": "markdown",
   "id": "4df11425-c684-49db-9124-f7a1dea58bd7",
   "metadata": {},
   "source": [
    "If we subset the reads that are in TRD regions and map those against the assemblies of the parental strains,\n",
    "are we still in the \"same\" region?"
   ]
  }
 ],
 "metadata": {
  "kernelspec": {
   "display_name": "R",
   "language": "R",
   "name": "ir"
  },
  "language_info": {
   "codemirror_mode": "r",
   "file_extension": ".r",
   "mimetype": "text/x-r-source",
   "name": "R",
   "pygments_lexer": "r",
   "version": "4.1.3"
  }
 },
 "nbformat": 4,
 "nbformat_minor": 5
}

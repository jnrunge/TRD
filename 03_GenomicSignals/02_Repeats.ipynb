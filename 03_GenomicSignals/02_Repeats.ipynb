{
 "cells": [
  {
   "cell_type": "markdown",
   "id": "e4400b6d-3634-4fe9-b187-b749c95a61f1",
   "metadata": {},
   "source": [
    "I have to figure out if there is a nice annotation file already that really makes use of the assemblies?\n",
    "\n",
    "Otherwise, what I can do is\n",
    "\n",
    "- run repeatmasker on each assembly\n",
    "- get a frequency distribution of all types of elements\n",
    "- find the TRD region using the alignment against the reference (Victor?)\n",
    "- get the data for that region and compare to distribution"
   ]
  }
 ],
 "metadata": {
  "kernelspec": {
   "display_name": "R",
   "language": "R",
   "name": "ir"
  },
  "language_info": {
   "codemirror_mode": "r",
   "file_extension": ".r",
   "mimetype": "text/x-r-source",
   "name": "R",
   "pygments_lexer": "r",
   "version": "4.1.1"
  }
 },
 "nbformat": 4,
 "nbformat_minor": 5
}

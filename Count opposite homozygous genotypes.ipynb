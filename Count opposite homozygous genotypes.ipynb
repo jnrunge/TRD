{
 "cells": [
  {
   "cell_type": "code",
   "execution_count": 1,
   "id": "8d6d0a91",
   "metadata": {},
   "outputs": [
    {
     "name": "stderr",
     "output_type": "stream",
     "text": [
      "\n",
      "Attaching package: 'dplyr'\n",
      "\n",
      "\n",
      "The following objects are masked from 'package:data.table':\n",
      "\n",
      "    between, first, last\n",
      "\n",
      "\n",
      "The following objects are masked from 'package:stats':\n",
      "\n",
      "    filter, lag\n",
      "\n",
      "\n",
      "The following objects are masked from 'package:base':\n",
      "\n",
      "    intersect, setdiff, setequal, union\n",
      "\n",
      "\n"
     ]
    }
   ],
   "source": [
    "source(\"../BrusselSprouts/scripts/functions.R\")"
   ]
  },
  {
   "cell_type": "markdown",
   "id": "4e2c511d",
   "metadata": {},
   "source": [
    "Maybe we can just quickly subset using bcftools and count lines\n",
    "\n",
    "````bash\n",
    "\n",
    "bcftools view -s ACK,CPG -Ou 1011Matrix.SNPs.var.GQ20.DP5.Miss10.vcf.gz | bcftools view -g ^het -H --min-ac 1 --max-ac 3 | wc -l\n",
    "\n",
    "`````\n"
   ]
  }
 ],
 "metadata": {
  "kernelspec": {
   "display_name": "R",
   "language": "R",
   "name": "ir"
  },
  "language_info": {
   "codemirror_mode": "r",
   "file_extension": ".r",
   "mimetype": "text/x-r-source",
   "name": "R",
   "pygments_lexer": "r",
   "version": "4.1.1"
  }
 },
 "nbformat": 4,
 "nbformat_minor": 5
}

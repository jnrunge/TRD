{
 "cells": [
  {
   "cell_type": "code",
   "execution_count": 41,
   "id": "7c0f54f6",
   "metadata": {},
   "outputs": [],
   "source": [
    "source(\"../BrusselSprouts/scripts/functions.R\")"
   ]
  },
  {
   "cell_type": "code",
   "execution_count": 42,
   "id": "3e365a0f",
   "metadata": {
    "scrolled": true
   },
   "outputs": [
    {
     "data": {
      "text/html": [
       "1011"
      ],
      "text/latex": [
       "1011"
      ],
      "text/markdown": [
       "1011"
      ],
      "text/plain": [
       "[1] 1011"
      ]
     },
     "metadata": {},
     "output_type": "display_data"
    }
   ],
   "source": [
    "samples=readLines(\"~/data/TRD/1011Matrix.gvcf.gz.samples\")\n",
    "length(samples)"
   ]
  },
  {
   "cell_type": "code",
   "execution_count": 43,
   "id": "f5b716b4",
   "metadata": {},
   "outputs": [],
   "source": [
    "chris_crosses=data.frame(sample1=c(\"ACP\",\"BAP\",\"CCD\",\"ATE\",\"ACK\",\"AKE\",\"BAH\",\"ANG\"),\n",
    "                        sample2=c(\"BFP\",\"CMP\",\"CPG\",\"YCR\",\"ACV\",\"BAH\",\"CGD\",\"CEI\"))\n",
    "# for reference"
   ]
  },
  {
   "cell_type": "code",
   "execution_count": 44,
   "id": "e3edd64c",
   "metadata": {},
   "outputs": [],
   "source": [
    "manual_comparisons=data.frame(sample1=c(\"BAK\",\"BAN\"), sample2=c(\"BET\",\"BTI\"))"
   ]
  },
  {
   "cell_type": "code",
   "execution_count": 45,
   "id": "b9399bda",
   "metadata": {},
   "outputs": [],
   "source": [
    "library(tidyr)"
   ]
  },
  {
   "cell_type": "code",
   "execution_count": 46,
   "id": "9f13e6c2",
   "metadata": {},
   "outputs": [
    {
     "data": {
      "text/html": [
       "1000"
      ],
      "text/latex": [
       "1000"
      ],
      "text/markdown": [
       "1000"
      ],
      "text/plain": [
       "[1] 1000"
      ]
     },
     "metadata": {},
     "output_type": "display_data"
    }
   ],
   "source": [
    "comparisons_random=expand.grid(sample1=samples,sample2=samples)\n",
    "comparisons_random$dup=which(paste(comparisons_random$sample2,comparisons_random$sample1) == paste(comparisons_random$sample1,comparisons_random$sample2))\n",
    "comparisons_random$nrow=1:nrow(comparisons_random)\n",
    "comparisons_random=comparisons_random[comparisons_random$dup < comparisons_random$nrow,]\n",
    "comparisons_random=comparisons_random[sample(1:nrow(comparisons_random), size=1000, replace = FALSE),]\n",
    "nrow(comparisons_random)"
   ]
  },
  {
   "cell_type": "code",
   "execution_count": 47,
   "id": "8b570e57",
   "metadata": {},
   "outputs": [
    {
     "data": {
      "text/html": [
       "1010"
      ],
      "text/latex": [
       "1010"
      ],
      "text/markdown": [
       "1010"
      ],
      "text/plain": [
       "[1] 1010"
      ]
     },
     "metadata": {},
     "output_type": "display_data"
    }
   ],
   "source": [
    "comparisons=bind_rows(chris_crosses,manual_comparisons,comparisons_random)\n",
    "comparisons=unique(comparisons)\n",
    "nrow(comparisons)"
   ]
  },
  {
   "cell_type": "code",
   "execution_count": 48,
   "id": "6cb0de24",
   "metadata": {},
   "outputs": [],
   "source": [
    "#comparisons=expand.grid(sample1=samples,sample2=samples)\n",
    "#comparisons$dup=which(paste(comparisons$sample2,comparisons$sample1) == paste(comparisons$sample1,comparisons$sample2))\n",
    "#comparisons$nrow=1:nrow(comparisons)\n",
    "#comparisons=comparisons[comparisons$dup < comparisons$nrow,]\n",
    "#nrow(comparisons)"
   ]
  },
  {
   "cell_type": "code",
   "execution_count": 49,
   "id": "f942fb55",
   "metadata": {},
   "outputs": [],
   "source": [
    "# these are too many comparisons. I should only do that for maybe 1000 or so, so the last filter step"
   ]
  },
  {
   "cell_type": "markdown",
   "id": "ffded8ff",
   "metadata": {},
   "source": [
    "Maybe we can just quickly subset using bcftools and count lines\n",
    "\n",
    "````bash\n",
    "\n",
    "bcftools view -s ACK,CPG -Ou 1011Matrix.SNPs.var.GQ20.DP5.Miss10.vcf.gz | bcftools view -g ^het -H --min-ac 1 --max-ac 3 | wc -l\n",
    "\n",
    "`````\n"
   ]
  },
  {
   "cell_type": "code",
   "execution_count": 50,
   "id": "998f02e5",
   "metadata": {},
   "outputs": [
    {
     "name": "stdout",
     "output_type": "stream",
     "text": [
      "[1] \"/home/jnrunge/data/TRD/OH/scripts/Scev-OppHomo-sbatch.list\"\n",
      "[1] \"1010 /home/jnrunge/data/TRD/OH/scripts/Scev-OppHomo-sbatch.list\"\n"
     ]
    }
   ],
   "source": [
    "initial_timedate=Sys.time()\n",
    "scripts_dir=\"/home/jnrunge/data/TRD/OH/scripts/\"\n",
    "jobname=\"Scev-OppHomo\"\n",
    "sbatch_list=paste(scripts_dir,jobname,\"-sbatch.list\", sep=\"\")\n",
    "print(sbatch_list)\n",
    "if(file.exists(sbatch_list)){\n",
    "    system(command=paste(\"rm -f \", sbatch_list, sep=\"\"))\n",
    "}\n",
    "\n",
    "for(i in 1:nrow(comparisons)){\n",
    "    sample1=comparisons$sample1[i]\n",
    "    sample2=comparisons$sample2[i]\n",
    "    if(!file.exists(paste(\"~/data/TRD/OM/\",sample1,\"-\",sample2,\".OH\",sep=\"\")))\n",
    "    {\n",
    "        sbatch=paste(\"#!/bin/bash\n",
    "#SBATCH -p fast          # The account name for the job\n",
    "#SBATCH --job-name=\",jobname,\"  # The job name\n",
    "#SBATCH -o \",scripts_dir,\"logs/\",jobname,\"-\",sample1,\",\",sample2,\".out\n",
    "#SBATCH -e \",scripts_dir,\"logs/\",jobname,\"-\",sample1,\",\",sample2,\".err\n",
    "#SBATCH -c 1                 # The number of cpu cores to use\n",
    "#SBATCH --time=11:59:00       # The time the job will take to run \n",
    "#SBATCH --mem=4gb\n",
    "\n",
    "date\n",
    "source ~/anaconda3/etc/profile.d/conda.sh\n",
    "conda activate bwaetc\n",
    "\n",
    "cd ~/data/TRD/\n",
    "\n",
    "bcftools view -s \",sample1,\",\",sample2,\" -Ou 1011Matrix.SNPs.var.GQ20.DP5.Miss10.vcf.gz | bcftools view -g ^het -H --min-ac 1 --max-ac 3 | wc -l > OH/\",sample1,\"-\",sample2,\".OH\n",
    "\n",
    "conda activate JupyteR4\n",
    "Rscript ~/BrusselSprouts/scripts/Execute_Sbatches.R '\",initial_timedate,\"' \",sbatch_list,\" 20 \",jobname,\"\n",
    "\n",
    "date\n",
    "\",sep=\"\")\n",
    "        sbatch_file=paste(\"~/data/TRD/OH/scripts/\",jobname,\"-\",sample1,\"-\",sample2,\".sbatch\",sep=\"\")\n",
    "        #print(sbatch_file)\n",
    "        writeLines(sbatch, sbatch_file)\n",
    "\n",
    "        write(sbatch_file,file=sbatch_list,append=TRUE)\n",
    "\n",
    "\n",
    "            \n",
    "        }\n",
    "}\n",
    "\n",
    "\n",
    "print(system(command=paste(\"wc -l \", sbatch_list, sep=\"\"),intern=TRUE))\n",
    "\n"
   ]
  },
  {
   "cell_type": "code",
   "execution_count": 51,
   "id": "7c47c662",
   "metadata": {},
   "outputs": [
    {
     "name": "stdout",
     "output_type": "stream",
     "text": [
      " [1] \"[1] \\\"Currently running 0 jobs.\\\"\"                  \n",
      " [2] \"[1] \\\"1010 sbatches remaining! Running 21 more...\\\"\"\n",
      " [3] \"[1] \\\"Submitted batch job 276876\\\"\"                 \n",
      " [4] \"[1] \\\"Submitted batch job 276877\\\"\"                 \n",
      " [5] \"[1] \\\"Submitted batch job 276878\\\"\"                 \n",
      " [6] \"[1] \\\"Submitted batch job 276879\\\"\"                 \n",
      " [7] \"[1] \\\"Submitted batch job 276880\\\"\"                 \n",
      " [8] \"[1] \\\"Submitted batch job 276882\\\"\"                 \n",
      " [9] \"[1] \\\"Submitted batch job 276884\\\"\"                 \n",
      "[10] \"[1] \\\"Submitted batch job 276886\\\"\"                 \n",
      "[11] \"[1] \\\"Submitted batch job 276888\\\"\"                 \n",
      "[12] \"[1] \\\"Submitted batch job 276890\\\"\"                 \n",
      "[13] \"[1] \\\"Submitted batch job 276892\\\"\"                 \n",
      "[14] \"[1] \\\"Submitted batch job 276894\\\"\"                 \n",
      "[15] \"[1] \\\"Submitted batch job 276896\\\"\"                 \n",
      "[16] \"[1] \\\"Submitted batch job 276898\\\"\"                 \n",
      "[17] \"[1] \\\"Submitted batch job 276900\\\"\"                 \n",
      "[18] \"[1] \\\"Submitted batch job 276902\\\"\"                 \n",
      "[19] \"[1] \\\"Submitted batch job 276904\\\"\"                 \n",
      "[20] \"[1] \\\"Submitted batch job 276906\\\"\"                 \n",
      "[21] \"[1] \\\"Submitted batch job 276908\\\"\"                 \n",
      "[22] \"[1] \\\"Submitted batch job 276910\\\"\"                 \n",
      "[23] \"[1] \\\"Submitted batch job 276912\\\"\"                 \n"
     ]
    }
   ],
   "source": [
    "print(system(command=paste(\"Rscript ~/BrusselSprouts/scripts/Execute_Sbatches.R '\",initial_timedate,\"' \",sbatch_list,\" 20 \",jobname, \"30\", sep=\"\"), intern=TRUE))"
   ]
  },
  {
   "cell_type": "code",
   "execution_count": 39,
   "id": "e98a5bf7",
   "metadata": {},
   "outputs": [
    {
     "data": {
      "text/html": [
       "610"
      ],
      "text/latex": [
       "610"
      ],
      "text/markdown": [
       "610"
      ],
      "text/plain": [
       "[1] 610"
      ]
     },
     "metadata": {},
     "output_type": "display_data"
    }
   ],
   "source": [
    "homofiles=system(command=\"ls ~/data/TRD/OH/*.OH\",intern=TRUE)\n",
    "length(homofiles)"
   ]
  },
  {
   "cell_type": "code",
   "execution_count": 40,
   "id": "97fa9cc9",
   "metadata": {},
   "outputs": [
    {
     "ename": "ERROR",
     "evalue": "Error in homo_df$value[i] <- as.numeric(readLines(homo_df$file[i])): replacement has length zero\n",
     "output_type": "error",
     "traceback": [
      "Error in homo_df$value[i] <- as.numeric(readLines(homo_df$file[i])): replacement has length zero\nTraceback:\n"
     ]
    }
   ],
   "source": [
    "homo_df=data.frame(file=homofiles, value=NA, stringsAsFactors = FALSE)\n",
    "for(i in 1:nrow(homo_df)){\n",
    "    homo_df$value[i]=as.numeric(readLines(homo_df$file[i]))\n",
    "}"
   ]
  },
  {
   "cell_type": "code",
   "execution_count": null,
   "id": "03c12d3b",
   "metadata": {},
   "outputs": [],
   "source": [
    "hist(homo_df$value)"
   ]
  }
 ],
 "metadata": {
  "kernelspec": {
   "display_name": "R",
   "language": "R",
   "name": "ir"
  },
  "language_info": {
   "codemirror_mode": "r",
   "file_extension": ".r",
   "mimetype": "text/x-r-source",
   "name": "R",
   "pygments_lexer": "r",
   "version": "4.1.3"
  }
 },
 "nbformat": 4,
 "nbformat_minor": 5
}

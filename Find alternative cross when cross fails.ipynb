{
 "cells": [
  {
   "cell_type": "markdown",
   "id": "0b389000",
   "metadata": {},
   "source": [
    "* List possible crosses (export of <http://localhost:8181/notebooks/TRD/All%20measures%20except%20opposite%20homozygous%20loci.ipynb#>)\n",
    "* Find not-done crosses similar to failed crosses\n",
    "* Schedule these\n",
    "* Change status of failed to \"replaced with Cross XYZ\""
   ]
  },
  {
   "cell_type": "markdown",
   "id": "576e1c3b",
   "metadata": {},
   "source": [
    "**maybe just do that in the main file**"
   ]
  }
 ],
 "metadata": {
  "kernelspec": {
   "display_name": "R",
   "language": "R",
   "name": "ir"
  },
  "language_info": {
   "codemirror_mode": "r",
   "file_extension": ".r",
   "mimetype": "text/x-r-source",
   "name": "R",
   "pygments_lexer": "r",
   "version": "4.1.2"
  }
 },
 "nbformat": 4,
 "nbformat_minor": 5
}

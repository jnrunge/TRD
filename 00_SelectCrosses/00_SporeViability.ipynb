{
 "cells": [
  {
   "cell_type": "markdown",
   "id": "ea6f4b9a-d221-43c4-8ddb-c35ac4c77b78",
   "metadata": {},
   "source": [
    "Using spore viabilities painstakingly analysed by Andreas Tsouaris, I try first to see how many crosses of interest were already analysed by him, but then realize there are way too few, so all I can say is that spore viability ~ distance and hence use only distance for further cross selection criteria."
   ]
  },
  {
   "cell_type": "code",
   "execution_count": 1,
   "id": "4b79640e",
   "metadata": {
    "tags": []
   },
   "outputs": [
    {
     "name": "stderr",
     "output_type": "stream",
     "text": [
      "\n",
      "Attaching package: 'dplyr'\n",
      "\n",
      "\n",
      "The following objects are masked from 'package:data.table':\n",
      "\n",
      "    between, first, last\n",
      "\n",
      "\n",
      "The following objects are masked from 'package:stats':\n",
      "\n",
      "    filter, lag\n",
      "\n",
      "\n",
      "The following objects are masked from 'package:base':\n",
      "\n",
      "    intersect, setdiff, setequal, union\n",
      "\n",
      "\n"
     ]
    }
   ],
   "source": [
    "source(\"~/BrusselSprouts/scripts/functions.R\")"
   ]
  },
  {
   "cell_type": "code",
   "execution_count": 2,
   "id": "69a0461e",
   "metadata": {
    "tags": []
   },
   "outputs": [
    {
     "name": "stderr",
     "output_type": "stream",
     "text": [
      "\u001b[1m\u001b[22mNew names:\n",
      "\u001b[36m*\u001b[39m `Is in Stock` -> `Is in Stock...4`\n",
      "\u001b[36m*\u001b[39m `Is in Stock` -> `Is in Stock...6`\n"
     ]
    }
   ],
   "source": [
    "library(readxl)\n",
    "my_crosses=read_xlsx(\"~/data/trd/Crosses.xlsx\", sheet=2)[,c(\"Cross ID\",\"Short name 1\", \"Short name 2\", \"Colonies in pool\")]"
   ]
  },
  {
   "cell_type": "code",
   "execution_count": 3,
   "id": "c0cccbe2",
   "metadata": {
    "tags": []
   },
   "outputs": [
    {
     "data": {
      "text/html": [
       "<table class=\"dataframe\">\n",
       "<caption>A data.frame: 6 x 5</caption>\n",
       "<thead>\n",
       "\t<tr><th></th><th scope=col>V1</th><th scope=col>Cross</th><th scope=col>Via</th><th scope=col>ID1</th><th scope=col>ID2</th></tr>\n",
       "\t<tr><th></th><th scope=col>&lt;int&gt;</th><th scope=col>&lt;chr&gt;</th><th scope=col>&lt;dbl&gt;</th><th scope=col>&lt;chr&gt;</th><th scope=col>&lt;chr&gt;</th></tr>\n",
       "</thead>\n",
       "<tbody>\n",
       "\t<tr><th scope=row>1</th><td>1</td><td>A1</td><td>0.8355263</td><td>YJS7200</td><td>YJS7105</td></tr>\n",
       "\t<tr><th scope=row>2</th><td>2</td><td>B1</td><td>0.9262295</td><td>YJS7200</td><td>YJS7109</td></tr>\n",
       "\t<tr><th scope=row>3</th><td>3</td><td>B2</td><td>0.8298611</td><td>YJS7205</td><td>YJS7109</td></tr>\n",
       "\t<tr><th scope=row>4</th><td>4</td><td>C1</td><td>0.7415966</td><td>YJS7200</td><td>YJS7111</td></tr>\n",
       "\t<tr><th scope=row>5</th><td>5</td><td>C2</td><td>0.6903670</td><td>YJS7205</td><td>YJS7111</td></tr>\n",
       "\t<tr><th scope=row>6</th><td>6</td><td>C3</td><td>0.8342105</td><td>YJS7209</td><td>YJS7111</td></tr>\n",
       "</tbody>\n",
       "</table>\n"
      ],
      "text/latex": [
       "A data.frame: 6 x 5\n",
       "\\begin{tabular}{r|lllll}\n",
       "  & V1 & Cross & Via & ID1 & ID2\\\\\n",
       "  & <int> & <chr> & <dbl> & <chr> & <chr>\\\\\n",
       "\\hline\n",
       "\t1 & 1 & A1 & 0.8355263 & YJS7200 & YJS7105\\\\\n",
       "\t2 & 2 & B1 & 0.9262295 & YJS7200 & YJS7109\\\\\n",
       "\t3 & 3 & B2 & 0.8298611 & YJS7205 & YJS7109\\\\\n",
       "\t4 & 4 & C1 & 0.7415966 & YJS7200 & YJS7111\\\\\n",
       "\t5 & 5 & C2 & 0.6903670 & YJS7205 & YJS7111\\\\\n",
       "\t6 & 6 & C3 & 0.8342105 & YJS7209 & YJS7111\\\\\n",
       "\\end{tabular}\n"
      ],
      "text/markdown": [
       "\n",
       "A data.frame: 6 x 5\n",
       "\n",
       "| <!--/--> | V1 &lt;int&gt; | Cross &lt;chr&gt; | Via &lt;dbl&gt; | ID1 &lt;chr&gt; | ID2 &lt;chr&gt; |\n",
       "|---|---|---|---|---|---|\n",
       "| 1 | 1 | A1 | 0.8355263 | YJS7200 | YJS7105 |\n",
       "| 2 | 2 | B1 | 0.9262295 | YJS7200 | YJS7109 |\n",
       "| 3 | 3 | B2 | 0.8298611 | YJS7205 | YJS7109 |\n",
       "| 4 | 4 | C1 | 0.7415966 | YJS7200 | YJS7111 |\n",
       "| 5 | 5 | C2 | 0.6903670 | YJS7205 | YJS7111 |\n",
       "| 6 | 6 | C3 | 0.8342105 | YJS7209 | YJS7111 |\n",
       "\n"
      ],
      "text/plain": [
       "  V1 Cross Via       ID1     ID2    \n",
       "1 1  A1    0.8355263 YJS7200 YJS7105\n",
       "2 2  B1    0.9262295 YJS7200 YJS7109\n",
       "3 3  B2    0.8298611 YJS7205 YJS7109\n",
       "4 4  C1    0.7415966 YJS7200 YJS7111\n",
       "5 5  C2    0.6903670 YJS7205 YJS7111\n",
       "6 6  C3    0.8342105 YJS7209 YJS7111"
      ]
     },
     "metadata": {},
     "output_type": "display_data"
    }
   ],
   "source": [
    "data=fread(\"~/data/trd/spore_viability_forJan.csv\", data.table=FALSE)\n",
    "data=tidyr::separate(data,CrossFull,c(\"ID1\",\"ID2\"),sep=\" x \")\n",
    "head(data)"
   ]
  },
  {
   "cell_type": "code",
   "execution_count": 4,
   "id": "48842300",
   "metadata": {
    "tags": []
   },
   "outputs": [
    {
     "data": {
      "image/png": "[encoded data removed]",
      "text/plain": [
       "Plot with title \"Histogram of data$Via\""
      ]
     },
     "metadata": {
      "image/png": {
       "height": 600,
       "width": 600
      }
     },
     "output_type": "display_data"
    }
   ],
   "source": [
    "hist(data$Via)"
   ]
  },
  {
   "cell_type": "code",
   "execution_count": 5,
   "id": "66a4e847",
   "metadata": {
    "tags": []
   },
   "outputs": [],
   "source": [
    "Overview=readxl::read_xlsx(\"/home/jnrunge/1002_strains_total_dataset.xlsx\", sheet = \"final_1002_site\")\n",
    "Matrix1=readxl::read_xls(\"/home/jnrunge/Yeast_Collection_YJS_headers.xls\", sheet = \"MATalpha ClonNAT Matrix reloade\")\n",
    "Matrix2=readxl::read_xls(\"/home/jnrunge/Yeast_Collection_YJS_headers.xls\", sheet = \"MATa KanMX Matrix reloaded\")"
   ]
  },
  {
   "cell_type": "code",
   "execution_count": 6,
   "id": "7f785d67",
   "metadata": {
    "tags": []
   },
   "outputs": [
    {
     "data": {
      "text/plain": [
       "   Mode   FALSE \n",
       "logical     190 "
      ]
     },
     "metadata": {},
     "output_type": "display_data"
    }
   ],
   "source": [
    "summary(data$ID2 %in% Overview$`Strain Name`)"
   ]
  },
  {
   "cell_type": "code",
   "execution_count": 7,
   "id": "7c8d8232",
   "metadata": {
    "tags": []
   },
   "outputs": [
    {
     "data": {
      "text/plain": [
       "   Mode    TRUE \n",
       "logical     190 "
      ]
     },
     "metadata": {},
     "output_type": "display_data"
    },
    {
     "data": {
      "text/plain": [
       "   Mode    TRUE \n",
       "logical     190 "
      ]
     },
     "metadata": {},
     "output_type": "display_data"
    }
   ],
   "source": [
    "summary(data$ID1 %in% c(Matrix1$Lab_name,Matrix2$Lab_name))\n",
    "summary(data$ID2 %in% c(Matrix1$Lab_name,Matrix2$Lab_name))"
   ]
  },
  {
   "cell_type": "code",
   "execution_count": 8,
   "id": "263c7037",
   "metadata": {
    "tags": []
   },
   "outputs": [
    {
     "data": {
      "text/html": [
       "'FY5'"
      ],
      "text/latex": [
       "'FY5'"
      ],
      "text/markdown": [
       "'FY5'"
      ],
      "text/plain": [
       "[1] \"FY5\""
      ]
     },
     "metadata": {},
     "output_type": "display_data"
    },
    {
     "data": {
      "text/html": [
       "<style>\n",
       ".list-inline {list-style: none; margin:0; padding: 0}\n",
       ".list-inline>li {display: inline-block}\n",
       ".list-inline>li:not(:last-child)::after {content: \"\\00b7\"; padding: 0 .5ex}\n",
       "</style>\n",
       "<ol class=list-inline><li>'HN16_b'</li><li>'FY4_rho+'</li></ol>\n"
      ],
      "text/latex": [
       "\\begin{enumerate*}\n",
       "\\item 'HN16\\_b'\n",
       "\\item 'FY4\\_rho+'\n",
       "\\end{enumerate*}\n"
      ],
      "text/markdown": [
       "1. 'HN16_b'\n",
       "2. 'FY4_rho+'\n",
       "\n",
       "\n"
      ],
      "text/plain": [
       "[1] \"HN16_b\"   \"FY4_rho+\""
      ]
     },
     "metadata": {},
     "output_type": "display_data"
    },
    {
     "data": {
      "text/plain": [
       "   Mode   FALSE    TRUE \n",
       "logical      12      58 "
      ]
     },
     "metadata": {},
     "output_type": "display_data"
    },
    {
     "data": {
      "text/html": [
       "<style>\n",
       ".list-inline {list-style: none; margin:0; padding: 0}\n",
       ".list-inline>li {display: inline-block}\n",
       ".list-inline>li:not(:last-child)::after {content: \"\\00b7\"; padding: 0 .5ex}\n",
       "</style>\n",
       "<ol class=list-inline><li>'BAK'</li><li>'ABL'</li><li>'ABP'</li><li>'BHN'</li><li>'ACP'</li><li>'AAM'</li><li>'AAR'</li><li>'BEF'</li><li>'BFQ'</li><li>'BFR'</li><li>'AKQ'</li><li>'AKS'</li><li>'AKV'</li><li>'CCC'</li><li>'CCD'</li><li>'CCF'</li><li>'CCG'</li><li>'BID'</li><li>'BKL'</li><li>'BQC'</li><li>'ABS'</li><li>'AKI'</li><li>'AMD'</li><li>'BET'</li><li>'BEV'</li><li>'BFC'</li><li>'BFD'</li><li>'BFP'</li><li>'BAN'</li><li>'BAP'</li><li>'AKH'</li><li>'AKE'</li><li>'CRB'</li><li>'AMM'</li><li>'ACT'</li><li>'ACI'</li><li>'ACK'</li><li>'AAS'</li><li>'ACN'</li><li>'AAV'</li><li>'ABA'</li><li>'ABC'</li><li>'ABE'</li><li>'ABG'</li><li>'ATE'</li><li>'ABK'</li><li>'BMK'</li><li>'AND'</li><li>'ANG'</li><li>'ANH'</li><li>'ANI'</li><li>'AVI'</li><li>'CMP'</li><li>'CMQ'</li><li>'BTI'</li><li>'CPG'</li><li>'BBQ'</li><li>'BBS'</li></ol>\n"
      ],
      "text/latex": [
       "\\begin{enumerate*}\n",
       "\\item 'BAK'\n",
       "\\item 'ABL'\n",
       "\\item 'ABP'\n",
       "\\item 'BHN'\n",
       "\\item 'ACP'\n",
       "\\item 'AAM'\n",
       "\\item 'AAR'\n",
       "\\item 'BEF'\n",
       "\\item 'BFQ'\n",
       "\\item 'BFR'\n",
       "\\item 'AKQ'\n",
       "\\item 'AKS'\n",
       "\\item 'AKV'\n",
       "\\item 'CCC'\n",
       "\\item 'CCD'\n",
       "\\item 'CCF'\n",
       "\\item 'CCG'\n",
       "\\item 'BID'\n",
       "\\item 'BKL'\n",
       "\\item 'BQC'\n",
       "\\item 'ABS'\n",
       "\\item 'AKI'\n",
       "\\item 'AMD'\n",
       "\\item 'BET'\n",
       "\\item 'BEV'\n",
       "\\item 'BFC'\n",
       "\\item 'BFD'\n",
       "\\item 'BFP'\n",
       "\\item 'BAN'\n",
       "\\item 'BAP'\n",
       "\\item 'AKH'\n",
       "\\item 'AKE'\n",
       "\\item 'CRB'\n",
       "\\item 'AMM'\n",
       "\\item 'ACT'\n",
       "\\item 'ACI'\n",
       "\\item 'ACK'\n",
       "\\item 'AAS'\n",
       "\\item 'ACN'\n",
       "\\item 'AAV'\n",
       "\\item 'ABA'\n",
       "\\item 'ABC'\n",
       "\\item 'ABE'\n",
       "\\item 'ABG'\n",
       "\\item 'ATE'\n",
       "\\item 'ABK'\n",
       "\\item 'BMK'\n",
       "\\item 'AND'\n",
       "\\item 'ANG'\n",
       "\\item 'ANH'\n",
       "\\item 'ANI'\n",
       "\\item 'AVI'\n",
       "\\item 'CMP'\n",
       "\\item 'CMQ'\n",
       "\\item 'BTI'\n",
       "\\item 'CPG'\n",
       "\\item 'BBQ'\n",
       "\\item 'BBS'\n",
       "\\end{enumerate*}\n"
      ],
      "text/markdown": [
       "1. 'BAK'\n",
       "2. 'ABL'\n",
       "3. 'ABP'\n",
       "4. 'BHN'\n",
       "5. 'ACP'\n",
       "6. 'AAM'\n",
       "7. 'AAR'\n",
       "8. 'BEF'\n",
       "9. 'BFQ'\n",
       "10. 'BFR'\n",
       "11. 'AKQ'\n",
       "12. 'AKS'\n",
       "13. 'AKV'\n",
       "14. 'CCC'\n",
       "15. 'CCD'\n",
       "16. 'CCF'\n",
       "17. 'CCG'\n",
       "18. 'BID'\n",
       "19. 'BKL'\n",
       "20. 'BQC'\n",
       "21. 'ABS'\n",
       "22. 'AKI'\n",
       "23. 'AMD'\n",
       "24. 'BET'\n",
       "25. 'BEV'\n",
       "26. 'BFC'\n",
       "27. 'BFD'\n",
       "28. 'BFP'\n",
       "29. 'BAN'\n",
       "30. 'BAP'\n",
       "31. 'AKH'\n",
       "32. 'AKE'\n",
       "33. 'CRB'\n",
       "34. 'AMM'\n",
       "35. 'ACT'\n",
       "36. 'ACI'\n",
       "37. 'ACK'\n",
       "38. 'AAS'\n",
       "39. 'ACN'\n",
       "40. 'AAV'\n",
       "41. 'ABA'\n",
       "42. 'ABC'\n",
       "43. 'ABE'\n",
       "44. 'ABG'\n",
       "45. 'ATE'\n",
       "46. 'ABK'\n",
       "47. 'BMK'\n",
       "48. 'AND'\n",
       "49. 'ANG'\n",
       "50. 'ANH'\n",
       "51. 'ANI'\n",
       "52. 'AVI'\n",
       "53. 'CMP'\n",
       "54. 'CMQ'\n",
       "55. 'BTI'\n",
       "56. 'CPG'\n",
       "57. 'BBQ'\n",
       "58. 'BBS'\n",
       "\n",
       "\n"
      ],
      "text/plain": [
       " [1] \"BAK\" \"ABL\" \"ABP\" \"BHN\" \"ACP\" \"AAM\" \"AAR\" \"BEF\" \"BFQ\" \"BFR\" \"AKQ\" \"AKS\"\n",
       "[13] \"AKV\" \"CCC\" \"CCD\" \"CCF\" \"CCG\" \"BID\" \"BKL\" \"BQC\" \"ABS\" \"AKI\" \"AMD\" \"BET\"\n",
       "[25] \"BEV\" \"BFC\" \"BFD\" \"BFP\" \"BAN\" \"BAP\" \"AKH\" \"AKE\" \"CRB\" \"AMM\" \"ACT\" \"ACI\"\n",
       "[37] \"ACK\" \"AAS\" \"ACN\" \"AAV\" \"ABA\" \"ABC\" \"ABE\" \"ABG\" \"ATE\" \"ABK\" \"BMK\" \"AND\"\n",
       "[49] \"ANG\" \"ANH\" \"ANI\" \"AVI\" \"CMP\" \"CMQ\" \"BTI\" \"CPG\" \"BBQ\" \"BBS\""
      ]
     },
     "metadata": {},
     "output_type": "display_data"
    }
   ],
   "source": [
    "Matrix1$Syst_name[!endsWith(Matrix1$Syst_name, \"_b\")]\n",
    "Matrix2$Syst_name[!endsWith(Matrix2$Syst_name, \"_a\")]\n",
    "\n",
    "samples1=str_replace(Matrix1$Syst_name, \"_b$\", \"\")\n",
    "samples2=str_replace(str_replace(str_replace(Matrix2$Syst_name, \"_a$\", \"\"), \"_b$\", \"\"),fixed(\"_rho+\"),\"\")\n",
    "\n",
    "samples=samples2[samples2%in%samples1[samples1%in%samples2]]\n",
    "\n",
    "summary(samples%in%Overview$`Strain Name`)\n",
    "Overview$`Standard ID`[Overview$`Strain Name` %in% samples]"
   ]
  },
  {
   "cell_type": "code",
   "execution_count": 9,
   "id": "43ba6ae0",
   "metadata": {
    "tags": []
   },
   "outputs": [],
   "source": [
    "getStdName=function(x){\n",
    "    tmp=c(Matrix1$Syst_name,Matrix2$Syst_name)[c(Matrix1$Lab_name,Matrix2$Lab_name)==x][1]\n",
    "    tmp=str_replace(str_replace(str_replace(tmp, \"_a$\", \"\"), \"_b$\", \"\"),fixed(\"_rho+\"),\"\")\n",
    "    tmp=str_replace(tmp,\"UCD_\",\"UCD \")\n",
    "    if(tmp==\"WE372_1\"){\n",
    "        tmp=\"WE372\"\n",
    "    }\n",
    "    tmp=Overview$`Standard ID`[Overview$`Strain Name` == tmp]\n",
    "    \n",
    "\n",
    "    if(length(tmp)>0){\n",
    "        return(tmp)\n",
    "    }\n",
    "    #print(x)\n",
    "    return(NA)\n",
    "}"
   ]
  },
  {
   "cell_type": "code",
   "execution_count": 10,
   "id": "1c642390",
   "metadata": {
    "scrolled": true,
    "tags": []
   },
   "outputs": [],
   "source": [
    "data$ID1_Std=unlist(lapply(data$ID1, getStdName))\n",
    "data$ID2_Std=unlist(lapply(data$ID2, getStdName))"
   ]
  },
  {
   "cell_type": "code",
   "execution_count": 11,
   "id": "e47739f2-ae32-46d5-89e7-12bc0f2de0e5",
   "metadata": {
    "tags": []
   },
   "outputs": [
    {
     "data": {
      "text/html": [
       "<table class=\"dataframe\">\n",
       "<caption>A data.frame: 6 x 7</caption>\n",
       "<thead>\n",
       "\t<tr><th></th><th scope=col>V1</th><th scope=col>Cross</th><th scope=col>Via</th><th scope=col>ID1</th><th scope=col>ID2</th><th scope=col>ID1_Std</th><th scope=col>ID2_Std</th></tr>\n",
       "\t<tr><th></th><th scope=col>&lt;int&gt;</th><th scope=col>&lt;chr&gt;</th><th scope=col>&lt;dbl&gt;</th><th scope=col>&lt;chr&gt;</th><th scope=col>&lt;chr&gt;</th><th scope=col>&lt;chr&gt;</th><th scope=col>&lt;chr&gt;</th></tr>\n",
       "</thead>\n",
       "<tbody>\n",
       "\t<tr><th scope=row>1</th><td>1</td><td>A1</td><td>0.8355263</td><td>YJS7200</td><td>YJS7105</td><td>ATE</td><td>ANG</td></tr>\n",
       "\t<tr><th scope=row>2</th><td>2</td><td>B1</td><td>0.9262295</td><td>YJS7200</td><td>YJS7109</td><td>ATE</td><td>BKL</td></tr>\n",
       "\t<tr><th scope=row>3</th><td>3</td><td>B2</td><td>0.8298611</td><td>YJS7205</td><td>YJS7109</td><td>ANG</td><td>BKL</td></tr>\n",
       "\t<tr><th scope=row>4</th><td>4</td><td>C1</td><td>0.7415966</td><td>YJS7200</td><td>YJS7111</td><td>ATE</td><td>CGD</td></tr>\n",
       "\t<tr><th scope=row>5</th><td>5</td><td>C2</td><td>0.6903670</td><td>YJS7205</td><td>YJS7111</td><td>ANG</td><td>CGD</td></tr>\n",
       "\t<tr><th scope=row>6</th><td>6</td><td>C3</td><td>0.8342105</td><td>YJS7209</td><td>YJS7111</td><td>BKL</td><td>CGD</td></tr>\n",
       "</tbody>\n",
       "</table>\n"
      ],
      "text/latex": [
       "A data.frame: 6 x 7\n",
       "\\begin{tabular}{r|lllllll}\n",
       "  & V1 & Cross & Via & ID1 & ID2 & ID1\\_Std & ID2\\_Std\\\\\n",
       "  & <int> & <chr> & <dbl> & <chr> & <chr> & <chr> & <chr>\\\\\n",
       "\\hline\n",
       "\t1 & 1 & A1 & 0.8355263 & YJS7200 & YJS7105 & ATE & ANG\\\\\n",
       "\t2 & 2 & B1 & 0.9262295 & YJS7200 & YJS7109 & ATE & BKL\\\\\n",
       "\t3 & 3 & B2 & 0.8298611 & YJS7205 & YJS7109 & ANG & BKL\\\\\n",
       "\t4 & 4 & C1 & 0.7415966 & YJS7200 & YJS7111 & ATE & CGD\\\\\n",
       "\t5 & 5 & C2 & 0.6903670 & YJS7205 & YJS7111 & ANG & CGD\\\\\n",
       "\t6 & 6 & C3 & 0.8342105 & YJS7209 & YJS7111 & BKL & CGD\\\\\n",
       "\\end{tabular}\n"
      ],
      "text/markdown": [
       "\n",
       "A data.frame: 6 x 7\n",
       "\n",
       "| <!--/--> | V1 &lt;int&gt; | Cross &lt;chr&gt; | Via &lt;dbl&gt; | ID1 &lt;chr&gt; | ID2 &lt;chr&gt; | ID1_Std &lt;chr&gt; | ID2_Std &lt;chr&gt; |\n",
       "|---|---|---|---|---|---|---|---|\n",
       "| 1 | 1 | A1 | 0.8355263 | YJS7200 | YJS7105 | ATE | ANG |\n",
       "| 2 | 2 | B1 | 0.9262295 | YJS7200 | YJS7109 | ATE | BKL |\n",
       "| 3 | 3 | B2 | 0.8298611 | YJS7205 | YJS7109 | ANG | BKL |\n",
       "| 4 | 4 | C1 | 0.7415966 | YJS7200 | YJS7111 | ATE | CGD |\n",
       "| 5 | 5 | C2 | 0.6903670 | YJS7205 | YJS7111 | ANG | CGD |\n",
       "| 6 | 6 | C3 | 0.8342105 | YJS7209 | YJS7111 | BKL | CGD |\n",
       "\n"
      ],
      "text/plain": [
       "  V1 Cross Via       ID1     ID2     ID1_Std ID2_Std\n",
       "1 1  A1    0.8355263 YJS7200 YJS7105 ATE     ANG    \n",
       "2 2  B1    0.9262295 YJS7200 YJS7109 ATE     BKL    \n",
       "3 3  B2    0.8298611 YJS7205 YJS7109 ANG     BKL    \n",
       "4 4  C1    0.7415966 YJS7200 YJS7111 ATE     CGD    \n",
       "5 5  C2    0.6903670 YJS7205 YJS7111 ANG     CGD    \n",
       "6 6  C3    0.8342105 YJS7209 YJS7111 BKL     CGD    "
      ]
     },
     "metadata": {},
     "output_type": "display_data"
    }
   ],
   "source": [
    "head(data)"
   ]
  },
  {
   "cell_type": "code",
   "execution_count": 12,
   "id": "fdac6b72",
   "metadata": {
    "tags": []
   },
   "outputs": [
    {
     "data": {
      "text/html": [
       "<style>\n",
       ".list-inline {list-style: none; margin:0; padding: 0}\n",
       ".list-inline>li {display: inline-block}\n",
       ".list-inline>li:not(:last-child)::after {content: \"\\00b7\"; padding: 0 .5ex}\n",
       "</style>\n",
       "<ol class=list-inline><li>'YJS7217'</li><li>'YJS7283'</li><li>'YJS7117'</li><li>'YJS7183'</li><li>'YJS7184'</li></ol>\n"
      ],
      "text/latex": [
       "\\begin{enumerate*}\n",
       "\\item 'YJS7217'\n",
       "\\item 'YJS7283'\n",
       "\\item 'YJS7117'\n",
       "\\item 'YJS7183'\n",
       "\\item 'YJS7184'\n",
       "\\end{enumerate*}\n"
      ],
      "text/markdown": [
       "1. 'YJS7217'\n",
       "2. 'YJS7283'\n",
       "3. 'YJS7117'\n",
       "4. 'YJS7183'\n",
       "5. 'YJS7184'\n",
       "\n",
       "\n"
      ],
      "text/plain": [
       "[1] \"YJS7217\" \"YJS7283\" \"YJS7117\" \"YJS7183\" \"YJS7184\""
      ]
     },
     "metadata": {},
     "output_type": "display_data"
    }
   ],
   "source": [
    "# cant find short name\n",
    "unique(c(data$ID1,data$ID2)[is.na(c(data$ID1_Std,data$ID2_Std))])"
   ]
  },
  {
   "cell_type": "code",
   "execution_count": 13,
   "id": "7726603d",
   "metadata": {
    "tags": []
   },
   "outputs": [
    {
     "data": {
      "text/html": [
       "'S1278b_b'"
      ],
      "text/latex": [
       "'S1278b\\_b'"
      ],
      "text/markdown": [
       "'S1278b_b'"
      ],
      "text/plain": [
       "[1] \"S1278b_b\""
      ]
     },
     "metadata": {},
     "output_type": "display_data"
    },
    {
     "data": {
      "text/html": [
       "'S1278b'"
      ],
      "text/latex": [
       "'S1278b'"
      ],
      "text/markdown": [
       "'S1278b'"
      ],
      "text/plain": [
       "[1] \"S1278b\""
      ]
     },
     "metadata": {},
     "output_type": "display_data"
    }
   ],
   "source": [
    "x=\"YJS7184\"\n",
    "tmp=c(Matrix1$Syst_name,Matrix2$Syst_name)[c(Matrix1$Lab_name,Matrix2$Lab_name)==x][1]\n",
    "tmp\n",
    "tmp=str_replace(str_replace(str_replace(tmp, \"_a$\", \"\"), \"_b$\", \"\"),fixed(\"_rho+\"),\"\")\n",
    "tmp\n",
    "tmp=Overview$`Standard ID`[Overview$`Strain Name` == tmp]"
   ]
  },
  {
   "cell_type": "code",
   "execution_count": 14,
   "id": "d66755a6",
   "metadata": {
    "tags": []
   },
   "outputs": [
    {
     "data": {
      "text/html": [],
      "text/latex": [],
      "text/markdown": [],
      "text/plain": [
       "character(0)"
      ]
     },
     "metadata": {},
     "output_type": "display_data"
    }
   ],
   "source": [
    "Overview$`Strain Name`[grepl(\"FY\",Overview$`Strain Name`, fixed = TRUE)]"
   ]
  },
  {
   "cell_type": "code",
   "execution_count": 15,
   "id": "6cea3429",
   "metadata": {
    "tags": []
   },
   "outputs": [
    {
     "data": {
      "text/html": [
       "<style>\n",
       ".list-inline {list-style: none; margin:0; padding: 0}\n",
       ".list-inline>li {display: inline-block}\n",
       ".list-inline>li:not(:last-child)::after {content: \"\\00b7\"; padding: 0 .5ex}\n",
       "</style>\n",
       "<ol class=list-inline><li>'ABC'</li><li>'ABE'</li><li>'ABP'</li><li>'ACK'</li><li>'ACP'</li><li>'ACV'</li><li>'AKE'</li><li>'ANG'</li><li>'ATE'</li><li>'BAP'</li><li>'BFP'</li><li>'BID'</li><li>'BKL'</li><li>'CCD'</li><li>'CGD'</li><li>'CMP'</li><li>'CPG'</li></ol>\n"
      ],
      "text/latex": [
       "\\begin{enumerate*}\n",
       "\\item 'ABC'\n",
       "\\item 'ABE'\n",
       "\\item 'ABP'\n",
       "\\item 'ACK'\n",
       "\\item 'ACP'\n",
       "\\item 'ACV'\n",
       "\\item 'AKE'\n",
       "\\item 'ANG'\n",
       "\\item 'ATE'\n",
       "\\item 'BAP'\n",
       "\\item 'BFP'\n",
       "\\item 'BID'\n",
       "\\item 'BKL'\n",
       "\\item 'CCD'\n",
       "\\item 'CGD'\n",
       "\\item 'CMP'\n",
       "\\item 'CPG'\n",
       "\\end{enumerate*}\n"
      ],
      "text/markdown": [
       "1. 'ABC'\n",
       "2. 'ABE'\n",
       "3. 'ABP'\n",
       "4. 'ACK'\n",
       "5. 'ACP'\n",
       "6. 'ACV'\n",
       "7. 'AKE'\n",
       "8. 'ANG'\n",
       "9. 'ATE'\n",
       "10. 'BAP'\n",
       "11. 'BFP'\n",
       "12. 'BID'\n",
       "13. 'BKL'\n",
       "14. 'CCD'\n",
       "15. 'CGD'\n",
       "16. 'CMP'\n",
       "17. 'CPG'\n",
       "\n",
       "\n"
      ],
      "text/plain": [
       " [1] \"ABC\" \"ABE\" \"ABP\" \"ACK\" \"ACP\" \"ACV\" \"AKE\" \"ANG\" \"ATE\" \"BAP\" \"BFP\" \"BID\"\n",
       "[13] \"BKL\" \"CCD\" \"CGD\" \"CMP\" \"CPG\""
      ]
     },
     "metadata": {},
     "output_type": "display_data"
    }
   ],
   "source": [
    "sort(unique(c(data$ID1_Std, data$ID2_Std)))"
   ]
  },
  {
   "cell_type": "code",
   "execution_count": 16,
   "id": "15d4b41b",
   "metadata": {
    "tags": []
   },
   "outputs": [
    {
     "data": {
      "text/html": [
       "<table class=\"dataframe\">\n",
       "<caption>A data.frame: 6 x 3</caption>\n",
       "<thead>\n",
       "\t<tr><th></th><th scope=col>ID1_Std</th><th scope=col>ID2_Std</th><th scope=col>dist</th></tr>\n",
       "\t<tr><th></th><th scope=col>&lt;chr&gt;</th><th scope=col>&lt;chr&gt;</th><th scope=col>&lt;dbl&gt;</th></tr>\n",
       "</thead>\n",
       "<tbody>\n",
       "\t<tr><th scope=row>1</th><td>AAA</td><td>AAA</td><td>0.000000</td></tr>\n",
       "\t<tr><th scope=row>2</th><td>AAB</td><td>AAA</td><td>0.014987</td></tr>\n",
       "\t<tr><th scope=row>3</th><td>AAC</td><td>AAA</td><td>0.026482</td></tr>\n",
       "\t<tr><th scope=row>4</th><td>AAD</td><td>AAA</td><td>0.048572</td></tr>\n",
       "\t<tr><th scope=row>5</th><td>AAE</td><td>AAA</td><td>0.010528</td></tr>\n",
       "\t<tr><th scope=row>6</th><td>AAG</td><td>AAA</td><td>0.034710</td></tr>\n",
       "</tbody>\n",
       "</table>\n"
      ],
      "text/latex": [
       "A data.frame: 6 x 3\n",
       "\\begin{tabular}{r|lll}\n",
       "  & ID1\\_Std & ID2\\_Std & dist\\\\\n",
       "  & <chr> & <chr> & <dbl>\\\\\n",
       "\\hline\n",
       "\t1 & AAA & AAA & 0.000000\\\\\n",
       "\t2 & AAB & AAA & 0.014987\\\\\n",
       "\t3 & AAC & AAA & 0.026482\\\\\n",
       "\t4 & AAD & AAA & 0.048572\\\\\n",
       "\t5 & AAE & AAA & 0.010528\\\\\n",
       "\t6 & AAG & AAA & 0.034710\\\\\n",
       "\\end{tabular}\n"
      ],
      "text/markdown": [
       "\n",
       "A data.frame: 6 x 3\n",
       "\n",
       "| <!--/--> | ID1_Std &lt;chr&gt; | ID2_Std &lt;chr&gt; | dist &lt;dbl&gt; |\n",
       "|---|---|---|---|\n",
       "| 1 | AAA | AAA | 0.000000 |\n",
       "| 2 | AAB | AAA | 0.014987 |\n",
       "| 3 | AAC | AAA | 0.026482 |\n",
       "| 4 | AAD | AAA | 0.048572 |\n",
       "| 5 | AAE | AAA | 0.010528 |\n",
       "| 6 | AAG | AAA | 0.034710 |\n",
       "\n"
      ],
      "text/plain": [
       "  ID1_Std ID2_Std dist    \n",
       "1 AAA     AAA     0.000000\n",
       "2 AAB     AAA     0.014987\n",
       "3 AAC     AAA     0.026482\n",
       "4 AAD     AAA     0.048572\n",
       "5 AAE     AAA     0.010528\n",
       "6 AAG     AAA     0.034710"
      ]
     },
     "metadata": {},
     "output_type": "display_data"
    }
   ],
   "source": [
    "comparisons=fread(\"~/data/TRD/comparisons.csv\", data.table=FALSE)\n",
    "colnames(comparisons)[1:2]=c(\"ID1_Std\",\"ID2_Std\")\n",
    "head(comparisons)"
   ]
  },
  {
   "cell_type": "code",
   "execution_count": 17,
   "id": "e2005c08",
   "metadata": {
    "tags": []
   },
   "outputs": [
    {
     "data": {
      "text/plain": [
       "   Mode   FALSE    TRUE \n",
       "logical      54     136 "
      ]
     },
     "metadata": {},
     "output_type": "display_data"
    },
    {
     "name": "stderr",
     "output_type": "stream",
     "text": [
      "\u001b[1m\u001b[22mJoining with `by = join_by(ID1_Std, ID2_Std)`\n"
     ]
    }
   ],
   "source": [
    "summary(paste(data$ID1_Std,data$ID2_Std) %in% paste(comparisons$ID1_Std,comparisons$ID2_Std))\n",
    "\n",
    "data=left_join(data,comparisons)"
   ]
  },
  {
   "cell_type": "code",
   "execution_count": 18,
   "id": "83e32674",
   "metadata": {
    "tags": []
   },
   "outputs": [
    {
     "data": {
      "text/html": [
       "FALSE"
      ],
      "text/latex": [
       "FALSE"
      ],
      "text/markdown": [
       "FALSE"
      ],
      "text/plain": [
       "[1] FALSE"
      ]
     },
     "metadata": {},
     "output_type": "display_data"
    },
    {
     "data": {
      "text/html": [
       "FALSE"
      ],
      "text/latex": [
       "FALSE"
      ],
      "text/markdown": [
       "FALSE"
      ],
      "text/plain": [
       "[1] FALSE"
      ]
     },
     "metadata": {},
     "output_type": "display_data"
    },
    {
     "data": {
      "text/html": [
       "FALSE"
      ],
      "text/latex": [
       "FALSE"
      ],
      "text/markdown": [
       "FALSE"
      ],
      "text/plain": [
       "[1] FALSE"
      ]
     },
     "metadata": {},
     "output_type": "display_data"
    },
    {
     "data": {
      "text/html": [
       "FALSE"
      ],
      "text/latex": [
       "FALSE"
      ],
      "text/markdown": [
       "FALSE"
      ],
      "text/plain": [
       "[1] FALSE"
      ]
     },
     "metadata": {},
     "output_type": "display_data"
    }
   ],
   "source": [
    "\"BAK\" %in% c(data$ID1_Std,data$ID2_Std)\n",
    "\"BET\" %in% c(data$ID1_Std,data$ID2_Std)\n",
    "\"BAN\" %in% c(data$ID1_Std,data$ID2_Std)\n",
    "\"BTI\" %in% c(data$ID1_Std,data$ID2_Std)"
   ]
  },
  {
   "cell_type": "code",
   "execution_count": 19,
   "id": "4a3a3194",
   "metadata": {
    "tags": []
   },
   "outputs": [
    {
     "name": "stderr",
     "output_type": "stream",
     "text": [
      "\u001b[1m\u001b[22m`geom_smooth()` using formula = 'y ~ x'\n",
      "Warning message:\n",
      "\"\u001b[1m\u001b[22mRemoved 54 rows containing non-finite values (`stat_smooth()`).\"\n",
      "Warning message:\n",
      "\"\u001b[1m\u001b[22mRemoved 54 rows containing missing values (`geom_point()`).\"\n"
     ]
    },
    {
     "data": {
      "image/png": "[encoded data removed]",
      "text/plain": [
       "plot without title"
      ]
     },
     "metadata": {
      "image/png": {
       "height": 600,
       "width": 600
      }
     },
     "output_type": "display_data"
    }
   ],
   "source": [
    "ggplot(data, aes(dist, Via))+\n",
    "geom_point()+\n",
    "geom_smooth(method=\"lm\")"
   ]
  },
  {
   "cell_type": "code",
   "execution_count": 20,
   "id": "60f01ac7",
   "metadata": {
    "tags": []
   },
   "outputs": [
    {
     "data": {
      "text/html": [
       "<table class=\"dataframe\">\n",
       "<caption>A data.frame: 6 x 8</caption>\n",
       "<thead>\n",
       "\t<tr><th></th><th scope=col>V1</th><th scope=col>Cross</th><th scope=col>Via</th><th scope=col>ID1</th><th scope=col>ID2</th><th scope=col>ID1_Std</th><th scope=col>ID2_Std</th><th scope=col>dist</th></tr>\n",
       "\t<tr><th></th><th scope=col>&lt;int&gt;</th><th scope=col>&lt;chr&gt;</th><th scope=col>&lt;dbl&gt;</th><th scope=col>&lt;chr&gt;</th><th scope=col>&lt;chr&gt;</th><th scope=col>&lt;chr&gt;</th><th scope=col>&lt;chr&gt;</th><th scope=col>&lt;dbl&gt;</th></tr>\n",
       "</thead>\n",
       "<tbody>\n",
       "\t<tr><th scope=row>1</th><td>1</td><td>A1</td><td>0.8355263</td><td>YJS7200</td><td>YJS7105</td><td>ATE</td><td>ANG</td><td>0.038266</td></tr>\n",
       "\t<tr><th scope=row>2</th><td>2</td><td>B1</td><td>0.9262295</td><td>YJS7200</td><td>YJS7109</td><td>ATE</td><td>BKL</td><td>0.032879</td></tr>\n",
       "\t<tr><th scope=row>3</th><td>3</td><td>B2</td><td>0.8298611</td><td>YJS7205</td><td>YJS7109</td><td>ANG</td><td>BKL</td><td>0.043735</td></tr>\n",
       "\t<tr><th scope=row>4</th><td>4</td><td>C1</td><td>0.7415966</td><td>YJS7200</td><td>YJS7111</td><td>ATE</td><td>CGD</td><td>0.038627</td></tr>\n",
       "\t<tr><th scope=row>5</th><td>5</td><td>C2</td><td>0.6903670</td><td>YJS7205</td><td>YJS7111</td><td>ANG</td><td>CGD</td><td>0.047523</td></tr>\n",
       "\t<tr><th scope=row>6</th><td>6</td><td>C3</td><td>0.8342105</td><td>YJS7209</td><td>YJS7111</td><td>BKL</td><td>CGD</td><td>0.013060</td></tr>\n",
       "</tbody>\n",
       "</table>\n"
      ],
      "text/latex": [
       "A data.frame: 6 x 8\n",
       "\\begin{tabular}{r|llllllll}\n",
       "  & V1 & Cross & Via & ID1 & ID2 & ID1\\_Std & ID2\\_Std & dist\\\\\n",
       "  & <int> & <chr> & <dbl> & <chr> & <chr> & <chr> & <chr> & <dbl>\\\\\n",
       "\\hline\n",
       "\t1 & 1 & A1 & 0.8355263 & YJS7200 & YJS7105 & ATE & ANG & 0.038266\\\\\n",
       "\t2 & 2 & B1 & 0.9262295 & YJS7200 & YJS7109 & ATE & BKL & 0.032879\\\\\n",
       "\t3 & 3 & B2 & 0.8298611 & YJS7205 & YJS7109 & ANG & BKL & 0.043735\\\\\n",
       "\t4 & 4 & C1 & 0.7415966 & YJS7200 & YJS7111 & ATE & CGD & 0.038627\\\\\n",
       "\t5 & 5 & C2 & 0.6903670 & YJS7205 & YJS7111 & ANG & CGD & 0.047523\\\\\n",
       "\t6 & 6 & C3 & 0.8342105 & YJS7209 & YJS7111 & BKL & CGD & 0.013060\\\\\n",
       "\\end{tabular}\n"
      ],
      "text/markdown": [
       "\n",
       "A data.frame: 6 x 8\n",
       "\n",
       "| <!--/--> | V1 &lt;int&gt; | Cross &lt;chr&gt; | Via &lt;dbl&gt; | ID1 &lt;chr&gt; | ID2 &lt;chr&gt; | ID1_Std &lt;chr&gt; | ID2_Std &lt;chr&gt; | dist &lt;dbl&gt; |\n",
       "|---|---|---|---|---|---|---|---|---|\n",
       "| 1 | 1 | A1 | 0.8355263 | YJS7200 | YJS7105 | ATE | ANG | 0.038266 |\n",
       "| 2 | 2 | B1 | 0.9262295 | YJS7200 | YJS7109 | ATE | BKL | 0.032879 |\n",
       "| 3 | 3 | B2 | 0.8298611 | YJS7205 | YJS7109 | ANG | BKL | 0.043735 |\n",
       "| 4 | 4 | C1 | 0.7415966 | YJS7200 | YJS7111 | ATE | CGD | 0.038627 |\n",
       "| 5 | 5 | C2 | 0.6903670 | YJS7205 | YJS7111 | ANG | CGD | 0.047523 |\n",
       "| 6 | 6 | C3 | 0.8342105 | YJS7209 | YJS7111 | BKL | CGD | 0.013060 |\n",
       "\n"
      ],
      "text/plain": [
       "  V1 Cross Via       ID1     ID2     ID1_Std ID2_Std dist    \n",
       "1 1  A1    0.8355263 YJS7200 YJS7105 ATE     ANG     0.038266\n",
       "2 2  B1    0.9262295 YJS7200 YJS7109 ATE     BKL     0.032879\n",
       "3 3  B2    0.8298611 YJS7205 YJS7109 ANG     BKL     0.043735\n",
       "4 4  C1    0.7415966 YJS7200 YJS7111 ATE     CGD     0.038627\n",
       "5 5  C2    0.6903670 YJS7205 YJS7111 ANG     CGD     0.047523\n",
       "6 6  C3    0.8342105 YJS7209 YJS7111 BKL     CGD     0.013060"
      ]
     },
     "metadata": {},
     "output_type": "display_data"
    }
   ],
   "source": [
    "head(data)"
   ]
  },
  {
   "cell_type": "code",
   "execution_count": 21,
   "id": "43814ad1",
   "metadata": {
    "tags": []
   },
   "outputs": [
    {
     "data": {
      "text/html": [
       "<table class=\"dataframe\">\n",
       "<caption>A tibble: 6 x 4</caption>\n",
       "<thead>\n",
       "\t<tr><th scope=col>Cross ID</th><th scope=col>Short name 1</th><th scope=col>Short name 2</th><th scope=col>Colonies in pool</th></tr>\n",
       "\t<tr><th scope=col>&lt;chr&gt;</th><th scope=col>&lt;chr&gt;</th><th scope=col>&lt;chr&gt;</th><th scope=col>&lt;dbl&gt;</th></tr>\n",
       "</thead>\n",
       "<tbody>\n",
       "\t<tr><td>YJNRC1</td><td>BAK</td><td>BET</td><td>1536</td></tr>\n",
       "\t<tr><td>YJNRC2</td><td>BAN</td><td>BTI</td><td>1913</td></tr>\n",
       "\t<tr><td>YJNRC3</td><td>AKH</td><td>BQC</td><td>1873</td></tr>\n",
       "\t<tr><td>YJNRC4</td><td>ABS</td><td>BEF</td><td>1107</td></tr>\n",
       "\t<tr><td>YJNRC5</td><td>BAK</td><td>BMK</td><td>2086</td></tr>\n",
       "\t<tr><td>YJNRC6</td><td>BAN</td><td>CRB</td><td>1493</td></tr>\n",
       "</tbody>\n",
       "</table>\n"
      ],
      "text/latex": [
       "A tibble: 6 x 4\n",
       "\\begin{tabular}{llll}\n",
       " Cross ID & Short name 1 & Short name 2 & Colonies in pool\\\\\n",
       " <chr> & <chr> & <chr> & <dbl>\\\\\n",
       "\\hline\n",
       "\t YJNRC1 & BAK & BET & 1536\\\\\n",
       "\t YJNRC2 & BAN & BTI & 1913\\\\\n",
       "\t YJNRC3 & AKH & BQC & 1873\\\\\n",
       "\t YJNRC4 & ABS & BEF & 1107\\\\\n",
       "\t YJNRC5 & BAK & BMK & 2086\\\\\n",
       "\t YJNRC6 & BAN & CRB & 1493\\\\\n",
       "\\end{tabular}\n"
      ],
      "text/markdown": [
       "\n",
       "A tibble: 6 x 4\n",
       "\n",
       "| Cross ID &lt;chr&gt; | Short name 1 &lt;chr&gt; | Short name 2 &lt;chr&gt; | Colonies in pool &lt;dbl&gt; |\n",
       "|---|---|---|---|\n",
       "| YJNRC1 | BAK | BET | 1536 |\n",
       "| YJNRC2 | BAN | BTI | 1913 |\n",
       "| YJNRC3 | AKH | BQC | 1873 |\n",
       "| YJNRC4 | ABS | BEF | 1107 |\n",
       "| YJNRC5 | BAK | BMK | 2086 |\n",
       "| YJNRC6 | BAN | CRB | 1493 |\n",
       "\n"
      ],
      "text/plain": [
       "  Cross ID Short name 1 Short name 2 Colonies in pool\n",
       "1 YJNRC1   BAK          BET          1536            \n",
       "2 YJNRC2   BAN          BTI          1913            \n",
       "3 YJNRC3   AKH          BQC          1873            \n",
       "4 YJNRC4   ABS          BEF          1107            \n",
       "5 YJNRC5   BAK          BMK          2086            \n",
       "6 YJNRC6   BAN          CRB          1493            "
      ]
     },
     "metadata": {},
     "output_type": "display_data"
    }
   ],
   "source": [
    "head(my_crosses)"
   ]
  },
  {
   "cell_type": "code",
   "execution_count": 22,
   "id": "6435cc9d",
   "metadata": {
    "tags": []
   },
   "outputs": [],
   "source": [
    "my_crosses$viability=NA\n",
    "my_crosses$distance=NA\n",
    "for(i in 1:nrow(my_crosses)){\n",
    "    data_row=which((data$ID1_Std==my_crosses$`Short name 1`[i] & data$ID2_Std == my_crosses$`Short name 2`[i])|\n",
    "                   (data$ID2_Std==my_crosses$`Short name 1`[i] & data$ID1_Std == my_crosses$`Short name 2`[i]))\n",
    "    \n",
    "    if(length(data_row)==0){\n",
    "        next\n",
    "    }\n",
    "    my_crosses$viability[i]=data$Via[data_row]\n",
    "    \n",
    "}"
   ]
  },
  {
   "cell_type": "code",
   "execution_count": 23,
   "id": "b570afa8-ffda-457b-8d7a-5ccb865957d8",
   "metadata": {
    "tags": []
   },
   "outputs": [
    {
     "data": {
      "text/html": [
       "<table class=\"dataframe\">\n",
       "<caption>A data.frame: 6 x 3</caption>\n",
       "<thead>\n",
       "\t<tr><th></th><th scope=col>ID1_Std</th><th scope=col>ID2_Std</th><th scope=col>dist</th></tr>\n",
       "\t<tr><th></th><th scope=col>&lt;chr&gt;</th><th scope=col>&lt;chr&gt;</th><th scope=col>&lt;dbl&gt;</th></tr>\n",
       "</thead>\n",
       "<tbody>\n",
       "\t<tr><th scope=row>1</th><td>AAA</td><td>AAA</td><td>0.000000</td></tr>\n",
       "\t<tr><th scope=row>2</th><td>AAB</td><td>AAA</td><td>0.014987</td></tr>\n",
       "\t<tr><th scope=row>3</th><td>AAC</td><td>AAA</td><td>0.026482</td></tr>\n",
       "\t<tr><th scope=row>4</th><td>AAD</td><td>AAA</td><td>0.048572</td></tr>\n",
       "\t<tr><th scope=row>5</th><td>AAE</td><td>AAA</td><td>0.010528</td></tr>\n",
       "\t<tr><th scope=row>6</th><td>AAG</td><td>AAA</td><td>0.034710</td></tr>\n",
       "</tbody>\n",
       "</table>\n"
      ],
      "text/latex": [
       "A data.frame: 6 x 3\n",
       "\\begin{tabular}{r|lll}\n",
       "  & ID1\\_Std & ID2\\_Std & dist\\\\\n",
       "  & <chr> & <chr> & <dbl>\\\\\n",
       "\\hline\n",
       "\t1 & AAA & AAA & 0.000000\\\\\n",
       "\t2 & AAB & AAA & 0.014987\\\\\n",
       "\t3 & AAC & AAA & 0.026482\\\\\n",
       "\t4 & AAD & AAA & 0.048572\\\\\n",
       "\t5 & AAE & AAA & 0.010528\\\\\n",
       "\t6 & AAG & AAA & 0.034710\\\\\n",
       "\\end{tabular}\n"
      ],
      "text/markdown": [
       "\n",
       "A data.frame: 6 x 3\n",
       "\n",
       "| <!--/--> | ID1_Std &lt;chr&gt; | ID2_Std &lt;chr&gt; | dist &lt;dbl&gt; |\n",
       "|---|---|---|---|\n",
       "| 1 | AAA | AAA | 0.000000 |\n",
       "| 2 | AAB | AAA | 0.014987 |\n",
       "| 3 | AAC | AAA | 0.026482 |\n",
       "| 4 | AAD | AAA | 0.048572 |\n",
       "| 5 | AAE | AAA | 0.010528 |\n",
       "| 6 | AAG | AAA | 0.034710 |\n",
       "\n"
      ],
      "text/plain": [
       "  ID1_Std ID2_Std dist    \n",
       "1 AAA     AAA     0.000000\n",
       "2 AAB     AAA     0.014987\n",
       "3 AAC     AAA     0.026482\n",
       "4 AAD     AAA     0.048572\n",
       "5 AAE     AAA     0.010528\n",
       "6 AAG     AAA     0.034710"
      ]
     },
     "metadata": {},
     "output_type": "display_data"
    }
   ],
   "source": [
    "head(comparisons)\n",
    "for(i in 1:nrow(my_crosses)){\n",
    "    data_row=which((comparisons$ID1_Std==my_crosses$`Short name 1`[i] & comparisons$ID2_Std == my_crosses$`Short name 2`[i])|\n",
    "                   (comparisons$ID2_Std==my_crosses$`Short name 1`[i] & comparisons$ID1_Std == my_crosses$`Short name 2`[i]))\n",
    "     if(length(data_row)==0){\n",
    "        next\n",
    "    }\n",
    "    my_crosses$distance[i]=comparisons$dist[data_row][1]\n",
    "}"
   ]
  },
  {
   "cell_type": "code",
   "execution_count": 24,
   "id": "72797650",
   "metadata": {
    "tags": []
   },
   "outputs": [
    {
     "data": {
      "text/html": [
       "<table class=\"dataframe\">\n",
       "<caption>A tibble: 34 x 6</caption>\n",
       "<thead>\n",
       "\t<tr><th scope=col>Cross ID</th><th scope=col>Short name 1</th><th scope=col>Short name 2</th><th scope=col>Colonies in pool</th><th scope=col>viability</th><th scope=col>distance</th></tr>\n",
       "\t<tr><th scope=col>&lt;chr&gt;</th><th scope=col>&lt;chr&gt;</th><th scope=col>&lt;chr&gt;</th><th scope=col>&lt;dbl&gt;</th><th scope=col>&lt;dbl&gt;</th><th scope=col>&lt;dbl&gt;</th></tr>\n",
       "</thead>\n",
       "<tbody>\n",
       "\t<tr><td>YJNRC1 </td><td>BAK</td><td>BET</td><td>1536</td><td>       NA</td><td>0.047700</td></tr>\n",
       "\t<tr><td>YJNRC2 </td><td>BAN</td><td>BTI</td><td>1913</td><td>       NA</td><td>0.037151</td></tr>\n",
       "\t<tr><td>YJNRC3 </td><td>AKH</td><td>BQC</td><td>1873</td><td>       NA</td><td>0.050212</td></tr>\n",
       "\t<tr><td>YJNRC4 </td><td>ABS</td><td>BEF</td><td>1107</td><td>       NA</td><td>0.048522</td></tr>\n",
       "\t<tr><td>YJNRC5 </td><td>BAK</td><td>BMK</td><td>2086</td><td>       NA</td><td>0.047953</td></tr>\n",
       "\t<tr><td>YJNRC6 </td><td>BAN</td><td>CRB</td><td>1493</td><td>       NA</td><td>0.047348</td></tr>\n",
       "\t<tr><td>YJNRC7 </td><td>AMM</td><td>BKL</td><td>2629</td><td>       NA</td><td>0.046791</td></tr>\n",
       "\t<tr><td>YJNRC8 </td><td>ABE</td><td>ABL</td><td>1299</td><td>       NA</td><td>0.045746</td></tr>\n",
       "\t<tr><td>YJNRC9 </td><td>BFC</td><td>CCF</td><td> 589</td><td>       NA</td><td>0.045163</td></tr>\n",
       "\t<tr><td>YJNRC10</td><td>BID</td><td>CCC</td><td>  NA</td><td>       NA</td><td>0.045113</td></tr>\n",
       "\t<tr><td>YJNRC11</td><td>ACT</td><td>CCG</td><td>1190</td><td>       NA</td><td>0.045073</td></tr>\n",
       "\t<tr><td>YJNRC12</td><td>AKV</td><td>CMQ</td><td>1399</td><td>       NA</td><td>0.044915</td></tr>\n",
       "\t<tr><td>YJNRC13</td><td>AMD</td><td>BFQ</td><td>  NA</td><td>       NA</td><td>0.044442</td></tr>\n",
       "\t<tr><td>YJNRC14</td><td>ANI</td><td>BFR</td><td>1067</td><td>       NA</td><td>0.043514</td></tr>\n",
       "\t<tr><td>YJNRC15</td><td>AND</td><td>BHN</td><td> 911</td><td>       NA</td><td>0.043426</td></tr>\n",
       "\t<tr><td>YJNRC16</td><td>ANH</td><td>BFD</td><td> 980</td><td>       NA</td><td>0.043342</td></tr>\n",
       "\t<tr><td>YJNRC17</td><td>AVI</td><td>BET</td><td>3602</td><td>       NA</td><td>0.043272</td></tr>\n",
       "\t<tr><td>YJNRC18</td><td>ACI</td><td>AKI</td><td>1256</td><td>       NA</td><td>0.040594</td></tr>\n",
       "\t<tr><td>YJNRC19</td><td>ABC</td><td>ABP</td><td>1755</td><td>0.7860825</td><td>0.036521</td></tr>\n",
       "\t<tr><td>YJNRC20</td><td>ACN</td><td>BTI</td><td>1696</td><td>       NA</td><td>0.035894</td></tr>\n",
       "\t<tr><td>YJNRC21</td><td>AAM</td><td>AKS</td><td>1796</td><td>       NA</td><td>0.034398</td></tr>\n",
       "\t<tr><td>YJNRC22</td><td>ABG</td><td>AKQ</td><td> 153</td><td>       NA</td><td>0.032210</td></tr>\n",
       "\t<tr><td>YJNRC23</td><td>AAR</td><td>ABA</td><td>1855</td><td>       NA</td><td>0.031598</td></tr>\n",
       "\t<tr><td>YJNRC24</td><td>ABS</td><td>ACN</td><td> 375</td><td>       NA</td><td>0.021347</td></tr>\n",
       "\t<tr><td>YJNRC25</td><td>AAM</td><td>AKH</td><td>1035</td><td>       NA</td><td>0.047275</td></tr>\n",
       "\t<tr><td>YJNRC26</td><td>ABC</td><td>BAK</td><td>1357</td><td>       NA</td><td>0.043183</td></tr>\n",
       "\t<tr><td>YJNRC27</td><td>ABA</td><td>BAN</td><td>1582</td><td>       NA</td><td>0.041188</td></tr>\n",
       "\t<tr><td>YJNRC28</td><td>BEF</td><td>AMM</td><td>  NA</td><td>       NA</td><td>0.036493</td></tr>\n",
       "\t<tr><td>YJNRC29</td><td>AAR</td><td>CPG</td><td>2576</td><td>       NA</td><td>0.023207</td></tr>\n",
       "\t<tr><td>YJNRC30</td><td>ABG</td><td>CPG</td><td> 593</td><td>       NA</td><td>0.033586</td></tr>\n",
       "\t<tr><td>YJNRC31</td><td>AKI</td><td>CPG</td><td> 160</td><td>       NA</td><td>0.038133</td></tr>\n",
       "\t<tr><td>YJNRC32</td><td>ATE</td><td>CPG</td><td>1119</td><td>0.6805556</td><td>0.038176</td></tr>\n",
       "\t<tr><td>YJNRC33</td><td>AAR</td><td>AKH</td><td>  NA</td><td>       NA</td><td>0.048549</td></tr>\n",
       "\t<tr><td>YJNRC34</td><td>AKH</td><td>AKQ</td><td>1587</td><td>       NA</td><td>0.045452</td></tr>\n",
       "</tbody>\n",
       "</table>\n"
      ],
      "text/latex": [
       "A tibble: 34 x 6\n",
       "\\begin{tabular}{llllll}\n",
       " Cross ID & Short name 1 & Short name 2 & Colonies in pool & viability & distance\\\\\n",
       " <chr> & <chr> & <chr> & <dbl> & <dbl> & <dbl>\\\\\n",
       "\\hline\n",
       "\t YJNRC1  & BAK & BET & 1536 &        NA & 0.047700\\\\\n",
       "\t YJNRC2  & BAN & BTI & 1913 &        NA & 0.037151\\\\\n",
       "\t YJNRC3  & AKH & BQC & 1873 &        NA & 0.050212\\\\\n",
       "\t YJNRC4  & ABS & BEF & 1107 &        NA & 0.048522\\\\\n",
       "\t YJNRC5  & BAK & BMK & 2086 &        NA & 0.047953\\\\\n",
       "\t YJNRC6  & BAN & CRB & 1493 &        NA & 0.047348\\\\\n",
       "\t YJNRC7  & AMM & BKL & 2629 &        NA & 0.046791\\\\\n",
       "\t YJNRC8  & ABE & ABL & 1299 &        NA & 0.045746\\\\\n",
       "\t YJNRC9  & BFC & CCF &  589 &        NA & 0.045163\\\\\n",
       "\t YJNRC10 & BID & CCC &   NA &        NA & 0.045113\\\\\n",
       "\t YJNRC11 & ACT & CCG & 1190 &        NA & 0.045073\\\\\n",
       "\t YJNRC12 & AKV & CMQ & 1399 &        NA & 0.044915\\\\\n",
       "\t YJNRC13 & AMD & BFQ &   NA &        NA & 0.044442\\\\\n",
       "\t YJNRC14 & ANI & BFR & 1067 &        NA & 0.043514\\\\\n",
       "\t YJNRC15 & AND & BHN &  911 &        NA & 0.043426\\\\\n",
       "\t YJNRC16 & ANH & BFD &  980 &        NA & 0.043342\\\\\n",
       "\t YJNRC17 & AVI & BET & 3602 &        NA & 0.043272\\\\\n",
       "\t YJNRC18 & ACI & AKI & 1256 &        NA & 0.040594\\\\\n",
       "\t YJNRC19 & ABC & ABP & 1755 & 0.7860825 & 0.036521\\\\\n",
       "\t YJNRC20 & ACN & BTI & 1696 &        NA & 0.035894\\\\\n",
       "\t YJNRC21 & AAM & AKS & 1796 &        NA & 0.034398\\\\\n",
       "\t YJNRC22 & ABG & AKQ &  153 &        NA & 0.032210\\\\\n",
       "\t YJNRC23 & AAR & ABA & 1855 &        NA & 0.031598\\\\\n",
       "\t YJNRC24 & ABS & ACN &  375 &        NA & 0.021347\\\\\n",
       "\t YJNRC25 & AAM & AKH & 1035 &        NA & 0.047275\\\\\n",
       "\t YJNRC26 & ABC & BAK & 1357 &        NA & 0.043183\\\\\n",
       "\t YJNRC27 & ABA & BAN & 1582 &        NA & 0.041188\\\\\n",
       "\t YJNRC28 & BEF & AMM &   NA &        NA & 0.036493\\\\\n",
       "\t YJNRC29 & AAR & CPG & 2576 &        NA & 0.023207\\\\\n",
       "\t YJNRC30 & ABG & CPG &  593 &        NA & 0.033586\\\\\n",
       "\t YJNRC31 & AKI & CPG &  160 &        NA & 0.038133\\\\\n",
       "\t YJNRC32 & ATE & CPG & 1119 & 0.6805556 & 0.038176\\\\\n",
       "\t YJNRC33 & AAR & AKH &   NA &        NA & 0.048549\\\\\n",
       "\t YJNRC34 & AKH & AKQ & 1587 &        NA & 0.045452\\\\\n",
       "\\end{tabular}\n"
      ],
      "text/markdown": [
       "\n",
       "A tibble: 34 x 6\n",
       "\n",
       "| Cross ID &lt;chr&gt; | Short name 1 &lt;chr&gt; | Short name 2 &lt;chr&gt; | Colonies in pool &lt;dbl&gt; | viability &lt;dbl&gt; | distance &lt;dbl&gt; |\n",
       "|---|---|---|---|---|---|\n",
       "| YJNRC1  | BAK | BET | 1536 |        NA | 0.047700 |\n",
       "| YJNRC2  | BAN | BTI | 1913 |        NA | 0.037151 |\n",
       "| YJNRC3  | AKH | BQC | 1873 |        NA | 0.050212 |\n",
       "| YJNRC4  | ABS | BEF | 1107 |        NA | 0.048522 |\n",
       "| YJNRC5  | BAK | BMK | 2086 |        NA | 0.047953 |\n",
       "| YJNRC6  | BAN | CRB | 1493 |        NA | 0.047348 |\n",
       "| YJNRC7  | AMM | BKL | 2629 |        NA | 0.046791 |\n",
       "| YJNRC8  | ABE | ABL | 1299 |        NA | 0.045746 |\n",
       "| YJNRC9  | BFC | CCF |  589 |        NA | 0.045163 |\n",
       "| YJNRC10 | BID | CCC |   NA |        NA | 0.045113 |\n",
       "| YJNRC11 | ACT | CCG | 1190 |        NA | 0.045073 |\n",
       "| YJNRC12 | AKV | CMQ | 1399 |        NA | 0.044915 |\n",
       "| YJNRC13 | AMD | BFQ |   NA |        NA | 0.044442 |\n",
       "| YJNRC14 | ANI | BFR | 1067 |        NA | 0.043514 |\n",
       "| YJNRC15 | AND | BHN |  911 |        NA | 0.043426 |\n",
       "| YJNRC16 | ANH | BFD |  980 |        NA | 0.043342 |\n",
       "| YJNRC17 | AVI | BET | 3602 |        NA | 0.043272 |\n",
       "| YJNRC18 | ACI | AKI | 1256 |        NA | 0.040594 |\n",
       "| YJNRC19 | ABC | ABP | 1755 | 0.7860825 | 0.036521 |\n",
       "| YJNRC20 | ACN | BTI | 1696 |        NA | 0.035894 |\n",
       "| YJNRC21 | AAM | AKS | 1796 |        NA | 0.034398 |\n",
       "| YJNRC22 | ABG | AKQ |  153 |        NA | 0.032210 |\n",
       "| YJNRC23 | AAR | ABA | 1855 |        NA | 0.031598 |\n",
       "| YJNRC24 | ABS | ACN |  375 |        NA | 0.021347 |\n",
       "| YJNRC25 | AAM | AKH | 1035 |        NA | 0.047275 |\n",
       "| YJNRC26 | ABC | BAK | 1357 |        NA | 0.043183 |\n",
       "| YJNRC27 | ABA | BAN | 1582 |        NA | 0.041188 |\n",
       "| YJNRC28 | BEF | AMM |   NA |        NA | 0.036493 |\n",
       "| YJNRC29 | AAR | CPG | 2576 |        NA | 0.023207 |\n",
       "| YJNRC30 | ABG | CPG |  593 |        NA | 0.033586 |\n",
       "| YJNRC31 | AKI | CPG |  160 |        NA | 0.038133 |\n",
       "| YJNRC32 | ATE | CPG | 1119 | 0.6805556 | 0.038176 |\n",
       "| YJNRC33 | AAR | AKH |   NA |        NA | 0.048549 |\n",
       "| YJNRC34 | AKH | AKQ | 1587 |        NA | 0.045452 |\n",
       "\n"
      ],
      "text/plain": [
       "   Cross ID Short name 1 Short name 2 Colonies in pool viability distance\n",
       "1  YJNRC1   BAK          BET          1536                    NA 0.047700\n",
       "2  YJNRC2   BAN          BTI          1913                    NA 0.037151\n",
       "3  YJNRC3   AKH          BQC          1873                    NA 0.050212\n",
       "4  YJNRC4   ABS          BEF          1107                    NA 0.048522\n",
       "5  YJNRC5   BAK          BMK          2086                    NA 0.047953\n",
       "6  YJNRC6   BAN          CRB          1493                    NA 0.047348\n",
       "7  YJNRC7   AMM          BKL          2629                    NA 0.046791\n",
       "8  YJNRC8   ABE          ABL          1299                    NA 0.045746\n",
       "9  YJNRC9   BFC          CCF           589                    NA 0.045163\n",
       "10 YJNRC10  BID          CCC            NA                    NA 0.045113\n",
       "11 YJNRC11  ACT          CCG          1190                    NA 0.045073\n",
       "12 YJNRC12  AKV          CMQ          1399                    NA 0.044915\n",
       "13 YJNRC13  AMD          BFQ            NA                    NA 0.044442\n",
       "14 YJNRC14  ANI          BFR          1067                    NA 0.043514\n",
       "15 YJNRC15  AND          BHN           911                    NA 0.043426\n",
       "16 YJNRC16  ANH          BFD           980                    NA 0.043342\n",
       "17 YJNRC17  AVI          BET          3602                    NA 0.043272\n",
       "18 YJNRC18  ACI          AKI          1256                    NA 0.040594\n",
       "19 YJNRC19  ABC          ABP          1755             0.7860825 0.036521\n",
       "20 YJNRC20  ACN          BTI          1696                    NA 0.035894\n",
       "21 YJNRC21  AAM          AKS          1796                    NA 0.034398\n",
       "22 YJNRC22  ABG          AKQ           153                    NA 0.032210\n",
       "23 YJNRC23  AAR          ABA          1855                    NA 0.031598\n",
       "24 YJNRC24  ABS          ACN           375                    NA 0.021347\n",
       "25 YJNRC25  AAM          AKH          1035                    NA 0.047275\n",
       "26 YJNRC26  ABC          BAK          1357                    NA 0.043183\n",
       "27 YJNRC27  ABA          BAN          1582                    NA 0.041188\n",
       "28 YJNRC28  BEF          AMM            NA                    NA 0.036493\n",
       "29 YJNRC29  AAR          CPG          2576                    NA 0.023207\n",
       "30 YJNRC30  ABG          CPG           593                    NA 0.033586\n",
       "31 YJNRC31  AKI          CPG           160                    NA 0.038133\n",
       "32 YJNRC32  ATE          CPG          1119             0.6805556 0.038176\n",
       "33 YJNRC33  AAR          AKH            NA                    NA 0.048549\n",
       "34 YJNRC34  AKH          AKQ          1587                    NA 0.045452"
      ]
     },
     "metadata": {},
     "output_type": "display_data"
    }
   ],
   "source": [
    "fwrite(my_crosses, \"~/data/trd/crosses_info.csv\")\n",
    "my_crosses"
   ]
  }
 ],
 "metadata": {
  "kernelspec": {
   "display_name": "R",
   "language": "R",
   "name": "ir"
  },
  "language_info": {
   "codemirror_mode": "r",
   "file_extension": ".r",
   "mimetype": "text/x-r-source",
   "name": "R",
   "pygments_lexer": "r",
   "version": "4.1.1"
  }
 },
 "nbformat": 4,
 "nbformat_minor": 5
}
